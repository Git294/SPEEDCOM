{
 "cells": [
  {
   "cell_type": "code",
   "execution_count": 1,
   "metadata": {},
   "outputs": [
    {
     "name": "stderr",
     "output_type": "stream",
     "text": [
      "C:\\Users\\Yang\\.conda\\envs\\test_speedcom\\lib\\importlib\\_bootstrap.py:219: RuntimeWarning: numpy.ufunc size changed, may indicate binary incompatibility. Expected 192 from C header, got 216 from PyObject\n",
      "  return f(*args, **kwds)\n"
     ]
    }
   ],
   "source": [
    "import numpy as np\n",
    "import pandas as pd\n",
    "import matplotlib.pyplot as plt\n",
    "\n",
    "from utilities import compute_fingerprints\n",
    "from dataUtils import DataUtils as utils\n",
    "from model_utils import ModelUtils as mutls"
   ]
  },
  {
   "cell_type": "code",
   "execution_count": 2,
   "metadata": {},
   "outputs": [
    {
     "name": "stderr",
     "output_type": "stream",
     "text": [
      "Using TensorFlow backend.\n"
     ]
    }
   ],
   "source": [
    "from keras import Sequential\n",
    "from keras.layers import Dense, Embedding, LSTM, GRU, Conv1D, Activation"
   ]
  },
  {
   "cell_type": "code",
   "execution_count": 3,
   "metadata": {},
   "outputs": [],
   "source": [
    "from sklearn import metrics"
   ]
  },
  {
   "cell_type": "code",
   "execution_count": 4,
   "metadata": {},
   "outputs": [],
   "source": [
    "df = pd.read_csv('cleaned_data_emission.tsv', sep='\\t')"
   ]
  },
  {
   "cell_type": "code",
   "execution_count": 5,
   "metadata": {},
   "outputs": [
    {
     "data": {
      "text/html": [
       "<div>\n",
       "<style scoped>\n",
       "    .dataframe tbody tr th:only-of-type {\n",
       "        vertical-align: middle;\n",
       "    }\n",
       "\n",
       "    .dataframe tbody tr th {\n",
       "        vertical-align: top;\n",
       "    }\n",
       "\n",
       "    .dataframe thead th {\n",
       "        text-align: right;\n",
       "    }\n",
       "</style>\n",
       "<table border=\"1\" class=\"dataframe\">\n",
       "  <thead>\n",
       "    <tr style=\"text-align: right;\">\n",
       "      <th></th>\n",
       "      <th>#</th>\n",
       "      <th>Name</th>\n",
       "      <th>Epsilon</th>\n",
       "      <th>Solvent</th>\n",
       "      <th>Quantum Yield</th>\n",
       "      <th>Solvent.1</th>\n",
       "      <th>File</th>\n",
       "      <th>File.1</th>\n",
       "      <th>Absorption</th>\n",
       "      <th>SMILES</th>\n",
       "      <th>Emission</th>\n",
       "    </tr>\n",
       "  </thead>\n",
       "  <tbody>\n",
       "    <tr>\n",
       "      <th>0</th>\n",
       "      <td>1</td>\n",
       "      <td>Benzene</td>\n",
       "      <td>210</td>\n",
       "      <td>cyclohexane</td>\n",
       "      <td>0.053</td>\n",
       "      <td>hexane</td>\n",
       "      <td>A01_71-43-2_Benzene.abs.txt</td>\n",
       "      <td>A01_71-43-2_Benzene.ems.txt</td>\n",
       "      <td>254.75</td>\n",
       "      <td>C1=CC=CC=C1</td>\n",
       "      <td>287.0</td>\n",
       "    </tr>\n",
       "    <tr>\n",
       "      <th>1</th>\n",
       "      <td>2</td>\n",
       "      <td>Toluene</td>\n",
       "      <td>2860</td>\n",
       "      <td>cyclohexane</td>\n",
       "      <td>0.170</td>\n",
       "      <td>cyclohexane</td>\n",
       "      <td>A02_108-88-3_Toluene.abs.txt</td>\n",
       "      <td>A02_108-88-3_Toluene.ems.txt</td>\n",
       "      <td>261.75</td>\n",
       "      <td>CC1=CC=CC=C1</td>\n",
       "      <td>289.5</td>\n",
       "    </tr>\n",
       "    <tr>\n",
       "      <th>2</th>\n",
       "      <td>3</td>\n",
       "      <td>o-Xylene</td>\n",
       "      <td>254</td>\n",
       "      <td>cyclohexane</td>\n",
       "      <td>0.170</td>\n",
       "      <td>hexane</td>\n",
       "      <td>A03_95-47-6_o-Xylene.abs.txt</td>\n",
       "      <td>A03_95-47-6_o-Xylene.ems.txt</td>\n",
       "      <td>263.00</td>\n",
       "      <td>CC1=CC=CC=C1C</td>\n",
       "      <td>291.0</td>\n",
       "    </tr>\n",
       "    <tr>\n",
       "      <th>3</th>\n",
       "      <td>4</td>\n",
       "      <td>m-Xylene</td>\n",
       "      <td>284</td>\n",
       "      <td>cyclohexane</td>\n",
       "      <td>0.130</td>\n",
       "      <td>hexane</td>\n",
       "      <td>A04_108-38-3_m-Xylene.abs.txt</td>\n",
       "      <td>A04_108-38-3_m-Xylene.ems.txt</td>\n",
       "      <td>265.00</td>\n",
       "      <td>CC1=CC(=CC=C1)C</td>\n",
       "      <td>290.0</td>\n",
       "    </tr>\n",
       "    <tr>\n",
       "      <th>4</th>\n",
       "      <td>5</td>\n",
       "      <td>p-Xylene</td>\n",
       "      <td>770</td>\n",
       "      <td>cyclohexane</td>\n",
       "      <td>0.220</td>\n",
       "      <td>hexane</td>\n",
       "      <td>A05_106-42-3_p-Xylene.abs.txt</td>\n",
       "      <td>A05_106-42-3_p-Xylene.ems.txt</td>\n",
       "      <td>275.00</td>\n",
       "      <td>CC1=CC=C(C=C1)C</td>\n",
       "      <td>291.0</td>\n",
       "    </tr>\n",
       "  </tbody>\n",
       "</table>\n",
       "</div>"
      ],
      "text/plain": [
       "   #      Name  Epsilon      Solvent  Quantum Yield    Solvent.1  \\\n",
       "0  1   Benzene      210  cyclohexane          0.053       hexane   \n",
       "1  2   Toluene     2860  cyclohexane          0.170  cyclohexane   \n",
       "2  3  o-Xylene      254  cyclohexane          0.170       hexane   \n",
       "3  4  m-Xylene      284  cyclohexane          0.130       hexane   \n",
       "4  5  p-Xylene      770  cyclohexane          0.220       hexane   \n",
       "\n",
       "                            File                         File.1  Absorption  \\\n",
       "0    A01_71-43-2_Benzene.abs.txt    A01_71-43-2_Benzene.ems.txt      254.75   \n",
       "1   A02_108-88-3_Toluene.abs.txt   A02_108-88-3_Toluene.ems.txt      261.75   \n",
       "2   A03_95-47-6_o-Xylene.abs.txt   A03_95-47-6_o-Xylene.ems.txt      263.00   \n",
       "3  A04_108-38-3_m-Xylene.abs.txt  A04_108-38-3_m-Xylene.ems.txt      265.00   \n",
       "4  A05_106-42-3_p-Xylene.abs.txt  A05_106-42-3_p-Xylene.ems.txt      275.00   \n",
       "\n",
       "            SMILES  Emission  \n",
       "0      C1=CC=CC=C1     287.0  \n",
       "1     CC1=CC=CC=C1     289.5  \n",
       "2    CC1=CC=CC=C1C     291.0  \n",
       "3  CC1=CC(=CC=C1)C     290.0  \n",
       "4  CC1=CC=C(C=C1)C     291.0  "
      ]
     },
     "execution_count": 5,
     "metadata": {},
     "output_type": "execute_result"
    }
   ],
   "source": [
    "df.head()"
   ]
  },
  {
   "cell_type": "code",
   "execution_count": 6,
   "metadata": {
    "scrolled": true
   },
   "outputs": [],
   "source": [
    "df['cfp']=pd.Series(compute_fingerprints(df=df,SMILES_column='SMILES'))"
   ]
  },
  {
   "cell_type": "code",
   "execution_count": 7,
   "metadata": {},
   "outputs": [],
   "source": [
    "X_fp=np.array(list(map(np.array, df['cfp'])))"
   ]
  },
  {
   "cell_type": "code",
   "execution_count": null,
   "metadata": {},
   "outputs": [],
   "source": []
  },
  {
   "cell_type": "code",
   "execution_count": 8,
   "metadata": {},
   "outputs": [],
   "source": [
    "Y = df.values[:,8]"
   ]
  },
  {
   "cell_type": "markdown",
   "metadata": {},
   "source": [
    "### First model original Y"
   ]
  },
  {
   "cell_type": "code",
   "execution_count": 9,
   "metadata": {},
   "outputs": [],
   "source": [
    "d_cat = mutls.combine_columns((X_fp, Y))"
   ]
  },
  {
   "cell_type": "code",
   "execution_count": 10,
   "metadata": {},
   "outputs": [],
   "source": [
    "X, y = d_cat[:,0:-1], d_cat[:,-1]"
   ]
  },
  {
   "cell_type": "code",
   "execution_count": null,
   "metadata": {},
   "outputs": [],
   "source": []
  },
  {
   "cell_type": "code",
   "execution_count": 11,
   "metadata": {},
   "outputs": [
    {
     "name": "stdout",
     "output_type": "stream",
     "text": [
      "(232, 137)\n",
      "(59, 137)\n",
      "(232, 1)\n",
      "(59, 1)\n"
     ]
    }
   ],
   "source": [
    "X_train, X_test, y_train, y_test = utils.splitData(X, y, ratio=0.20)\n",
    "y_train = np.reshape(y_train, (-1, 1))\n",
    "y_test = np.reshape(y_test, (-1, 1))\n",
    "print(X_train.shape)\n",
    "print(X_test.shape)\n",
    "print(y_train.shape)\n",
    "print(y_test.shape)"
   ]
  },
  {
   "cell_type": "code",
   "execution_count": 12,
   "metadata": {},
   "outputs": [],
   "source": [
    "unique_int_counts = len(np.unique(X_train))"
   ]
  },
  {
   "cell_type": "code",
   "execution_count": 13,
   "metadata": {},
   "outputs": [],
   "source": [
    "word_range = np.unique(X_train).max()-np.unique(X_train).min()+1"
   ]
  },
  {
   "cell_type": "code",
   "execution_count": 14,
   "metadata": {},
   "outputs": [
    {
     "data": {
      "text/plain": [
       "256"
      ]
     },
     "execution_count": 14,
     "metadata": {},
     "output_type": "execute_result"
    }
   ],
   "source": [
    "word_range"
   ]
  },
  {
   "cell_type": "code",
   "execution_count": 15,
   "metadata": {},
   "outputs": [
    {
     "data": {
      "text/plain": [
       "(232, 137)"
      ]
     },
     "execution_count": 15,
     "metadata": {},
     "output_type": "execute_result"
    }
   ],
   "source": [
    "X_train.shape"
   ]
  },
  {
   "cell_type": "code",
   "execution_count": 16,
   "metadata": {},
   "outputs": [],
   "source": [
    "from keras.models import Sequential\n",
    "from keras.layers import LSTM, Dense, Embedding, Dropout, Flatten, BatchNormalization"
   ]
  },
  {
   "cell_type": "code",
   "execution_count": 23,
   "metadata": {},
   "outputs": [
    {
     "name": "stdout",
     "output_type": "stream",
     "text": [
      "_________________________________________________________________\n",
      "Layer (type)                 Output Shape              Param #   \n",
      "=================================================================\n",
      "embedding_3 (Embedding)      (None, 137, 50)           12800     \n",
      "_________________________________________________________________\n",
      "lstm_7 (LSTM)                (None, 137, 50)           20200     \n",
      "_________________________________________________________________\n",
      "batch_normalization_3 (Batch (None, 137, 50)           200       \n",
      "_________________________________________________________________\n",
      "lstm_8 (LSTM)                (None, 137, 50)           20200     \n",
      "_________________________________________________________________\n",
      "dropout_6 (Dropout)          (None, 137, 50)           0         \n",
      "_________________________________________________________________\n",
      "lstm_9 (LSTM)                (None, 137, 50)           20200     \n",
      "_________________________________________________________________\n",
      "dropout_7 (Dropout)          (None, 137, 50)           0         \n",
      "_________________________________________________________________\n",
      "dense_5 (Dense)              (None, 137, 50)           2550      \n",
      "_________________________________________________________________\n",
      "flatten_3 (Flatten)          (None, 6850)              0         \n",
      "_________________________________________________________________\n",
      "dense_6 (Dense)              (None, 1)                 6851      \n",
      "=================================================================\n",
      "Total params: 83,001\n",
      "Trainable params: 82,901\n",
      "Non-trainable params: 100\n",
      "_________________________________________________________________\n"
     ]
    }
   ],
   "source": [
    "hidden_size = 50\n",
    "model = Sequential()\n",
    "model.add(Embedding(word_range, hidden_size, input_length= X.shape[1]))\n",
    "model.add(LSTM(hidden_size, return_sequences=True))\n",
    "model.add(BatchNormalization())\n",
    "model.add(LSTM(hidden_size, return_sequences=True))\n",
    "model.add(Dropout(0.4))\n",
    "model.add(LSTM(hidden_size, return_sequences=True))\n",
    "model.add(Dropout(0.4))\n",
    "model.add(Dense(hidden_size, activation='relu'))\n",
    "model.add(Flatten())\n",
    "model.add(Dense(1, activation='linear'))\n",
    "model.compile(loss='mean_squared_error', optimizer='Adam', metrics=['mean_absolute_error'])\n",
    "model.summary() ##use mean_squared_error loss"
   ]
  },
  {
   "cell_type": "code",
   "execution_count": 24,
   "metadata": {
    "scrolled": false
   },
   "outputs": [
    {
     "name": "stdout",
     "output_type": "stream",
     "text": [
      "Train on 232 samples, validate on 59 samples\n",
      "Epoch 1/100\n",
      "232/232 [==============================] - 5s 20ms/step - loss: 156827.3852 - mean_absolute_error: 369.3423 - val_loss: 158844.5278 - val_mean_absolute_error: 370.6534\n",
      "Epoch 2/100\n",
      "232/232 [==============================] - 1s 6ms/step - loss: 145141.8895 - mean_absolute_error: 353.2318 - val_loss: 141157.0697 - val_mean_absolute_error: 346.1699\n",
      "Epoch 3/100\n",
      "232/232 [==============================] - 1s 6ms/step - loss: 117478.3497 - mean_absolute_error: 310.5162 - val_loss: 104202.2090 - val_mean_absolute_error: 287.7517\n",
      "Epoch 4/100\n",
      "232/232 [==============================] - 1s 6ms/step - loss: 76167.2136 - mean_absolute_error: 234.5864 - val_loss: 53542.3568 - val_mean_absolute_error: 180.2285\n",
      "Epoch 5/100\n",
      "232/232 [==============================] - 1s 6ms/step - loss: 34824.3450 - mean_absolute_error: 133.5501 - val_loss: 21864.8775 - val_mean_absolute_error: 118.8899\n",
      "Epoch 6/100\n",
      "232/232 [==============================] - 1s 6ms/step - loss: 20423.8661 - mean_absolute_error: 124.1555 - val_loss: 19590.5160 - val_mean_absolute_error: 120.8597\n",
      "Epoch 7/100\n",
      "232/232 [==============================] - 1s 6ms/step - loss: 20744.4006 - mean_absolute_error: 123.3939 - val_loss: 24385.4451 - val_mean_absolute_error: 122.8244\n",
      "Epoch 8/100\n",
      "232/232 [==============================] - 2s 7ms/step - loss: 19091.2108 - mean_absolute_error: 119.7845 - val_loss: 17713.9056 - val_mean_absolute_error: 117.9351\n",
      "Epoch 9/100\n",
      "232/232 [==============================] - 1s 6ms/step - loss: 16134.0622 - mean_absolute_error: 111.0827 - val_loss: 27506.9618 - val_mean_absolute_error: 121.0837\n",
      "Epoch 10/100\n",
      "232/232 [==============================] - 1s 6ms/step - loss: 15091.5563 - mean_absolute_error: 103.3180 - val_loss: 35485.8545 - val_mean_absolute_error: 131.4346\n",
      "Epoch 11/100\n",
      "232/232 [==============================] - 2s 7ms/step - loss: 12772.0715 - mean_absolute_error: 89.7384 - val_loss: 42414.0844 - val_mean_absolute_error: 145.0664\n",
      "Epoch 12/100\n",
      "232/232 [==============================] - 1s 6ms/step - loss: 12164.4863 - mean_absolute_error: 76.7878 - val_loss: 23282.7828 - val_mean_absolute_error: 110.1596\n",
      "Epoch 13/100\n",
      "232/232 [==============================] - 2s 7ms/step - loss: 11860.6322 - mean_absolute_error: 80.4504 - val_loss: 32829.1178 - val_mean_absolute_error: 127.5562\n",
      "Epoch 14/100\n",
      "232/232 [==============================] - 2s 7ms/step - loss: 9412.9178 - mean_absolute_error: 70.9106 - val_loss: 27638.6766 - val_mean_absolute_error: 117.0307\n",
      "Epoch 15/100\n",
      "232/232 [==============================] - 2s 7ms/step - loss: 8281.5403 - mean_absolute_error: 63.6651 - val_loss: 21672.3790 - val_mean_absolute_error: 105.4947\n",
      "Epoch 16/100\n",
      "232/232 [==============================] - 2s 7ms/step - loss: 7619.4944 - mean_absolute_error: 59.9143 - val_loss: 24263.5071 - val_mean_absolute_error: 113.0132\n",
      "Epoch 17/100\n",
      "232/232 [==============================] - 2s 7ms/step - loss: 6751.2586 - mean_absolute_error: 56.7387 - val_loss: 24273.4120 - val_mean_absolute_error: 113.5814\n",
      "Epoch 18/100\n",
      "232/232 [==============================] - 2s 7ms/step - loss: 7491.3842 - mean_absolute_error: 59.5721 - val_loss: 14688.1072 - val_mean_absolute_error: 86.0528\n",
      "Epoch 19/100\n",
      "232/232 [==============================] - 2s 7ms/step - loss: 7120.3567 - mean_absolute_error: 60.8136 - val_loss: 24824.7669 - val_mean_absolute_error: 112.4897\n",
      "Epoch 20/100\n",
      "232/232 [==============================] - 2s 7ms/step - loss: 5820.3126 - mean_absolute_error: 54.6188 - val_loss: 18518.6831 - val_mean_absolute_error: 99.0404\n",
      "Epoch 21/100\n",
      "232/232 [==============================] - 2s 7ms/step - loss: 5482.3302 - mean_absolute_error: 52.0724 - val_loss: 16969.9568 - val_mean_absolute_error: 96.3168\n",
      "Epoch 22/100\n",
      "232/232 [==============================] - 2s 7ms/step - loss: 5420.8752 - mean_absolute_error: 51.0097 - val_loss: 21286.5168 - val_mean_absolute_error: 105.2844\n",
      "Epoch 23/100\n",
      "232/232 [==============================] - 2s 7ms/step - loss: 5217.2240 - mean_absolute_error: 49.8141 - val_loss: 19922.6824 - val_mean_absolute_error: 102.2478\n",
      "Epoch 24/100\n",
      "232/232 [==============================] - 2s 7ms/step - loss: 5337.1877 - mean_absolute_error: 52.7752 - val_loss: 22566.1671 - val_mean_absolute_error: 106.9501\n",
      "Epoch 25/100\n",
      "232/232 [==============================] - 2s 7ms/step - loss: 5032.4774 - mean_absolute_error: 50.3677 - val_loss: 19257.5327 - val_mean_absolute_error: 100.6911\n",
      "Epoch 26/100\n",
      "232/232 [==============================] - 2s 7ms/step - loss: 5107.0916 - mean_absolute_error: 50.5964 - val_loss: 15097.7331 - val_mean_absolute_error: 93.5927\n",
      "Epoch 27/100\n",
      "232/232 [==============================] - 2s 7ms/step - loss: 5146.4424 - mean_absolute_error: 51.9002 - val_loss: 11775.5549 - val_mean_absolute_error: 79.6889\n",
      "Epoch 28/100\n",
      "232/232 [==============================] - 2s 6ms/step - loss: 4516.9936 - mean_absolute_error: 48.3512 - val_loss: 16604.5175 - val_mean_absolute_error: 96.5216\n",
      "Epoch 29/100\n",
      "232/232 [==============================] - 2s 7ms/step - loss: 4685.5757 - mean_absolute_error: 49.6985 - val_loss: 41605.8884 - val_mean_absolute_error: 174.4409\n",
      "Epoch 30/100\n",
      "232/232 [==============================] - 2s 7ms/step - loss: 4349.4626 - mean_absolute_error: 46.2722 - val_loss: 39938.6446 - val_mean_absolute_error: 169.1551\n",
      "Epoch 31/100\n",
      "232/232 [==============================] - 2s 7ms/step - loss: 4049.1096 - mean_absolute_error: 46.5207 - val_loss: 17902.1070 - val_mean_absolute_error: 101.6966\n",
      "Epoch 32/100\n",
      "232/232 [==============================] - 2s 7ms/step - loss: 4699.1898 - mean_absolute_error: 49.6573 - val_loss: 12723.1359 - val_mean_absolute_error: 90.9871\n",
      "Epoch 33/100\n",
      "232/232 [==============================] - 2s 7ms/step - loss: 3761.6739 - mean_absolute_error: 46.1849 - val_loss: 15406.3256 - val_mean_absolute_error: 92.6206\n",
      "Epoch 34/100\n",
      "232/232 [==============================] - 2s 7ms/step - loss: 4406.2051 - mean_absolute_error: 46.4852 - val_loss: 15899.7980 - val_mean_absolute_error: 95.5856\n",
      "Epoch 35/100\n",
      "232/232 [==============================] - 2s 7ms/step - loss: 3600.0113 - mean_absolute_error: 42.2467 - val_loss: 21752.7795 - val_mean_absolute_error: 113.1159\n",
      "Epoch 36/100\n",
      "232/232 [==============================] - 2s 7ms/step - loss: 3045.4086 - mean_absolute_error: 39.7195 - val_loss: 24675.9281 - val_mean_absolute_error: 120.6392\n",
      "Epoch 37/100\n",
      "232/232 [==============================] - 2s 7ms/step - loss: 3131.0355 - mean_absolute_error: 40.1537 - val_loss: 19110.6803 - val_mean_absolute_error: 105.3221\n",
      "Epoch 38/100\n",
      "232/232 [==============================] - 2s 7ms/step - loss: 2791.6050 - mean_absolute_error: 37.6562 - val_loss: 26204.9077 - val_mean_absolute_error: 126.2213\n",
      "Epoch 39/100\n",
      "232/232 [==============================] - 2s 7ms/step - loss: 2574.7586 - mean_absolute_error: 36.4980 - val_loss: 32998.6533 - val_mean_absolute_error: 144.2411\n",
      "Epoch 40/100\n",
      "232/232 [==============================] - 2s 7ms/step - loss: 2717.5635 - mean_absolute_error: 39.0595 - val_loss: 17210.8951 - val_mean_absolute_error: 98.4709\n",
      "Epoch 41/100\n",
      "232/232 [==============================] - 2s 7ms/step - loss: 3029.7707 - mean_absolute_error: 40.2266 - val_loss: 21665.1186 - val_mean_absolute_error: 107.9999\n",
      "Epoch 42/100\n",
      "232/232 [==============================] - 2s 7ms/step - loss: 2557.4611 - mean_absolute_error: 37.8095 - val_loss: 13055.5417 - val_mean_absolute_error: 89.9104\n",
      "Epoch 43/100\n",
      "232/232 [==============================] - 2s 7ms/step - loss: 2106.5919 - mean_absolute_error: 33.0649 - val_loss: 13084.4677 - val_mean_absolute_error: 90.1235\n",
      "Epoch 44/100\n",
      "232/232 [==============================] - 2s 7ms/step - loss: 2051.3704 - mean_absolute_error: 32.4113 - val_loss: 17225.3685 - val_mean_absolute_error: 97.3162\n",
      "Epoch 45/100\n",
      "232/232 [==============================] - 2s 7ms/step - loss: 2485.6886 - mean_absolute_error: 37.1825 - val_loss: 14342.7424 - val_mean_absolute_error: 86.8237\n",
      "Epoch 46/100\n",
      "232/232 [==============================] - 2s 7ms/step - loss: 2794.0312 - mean_absolute_error: 37.7203 - val_loss: 34188.5739 - val_mean_absolute_error: 152.5557\n",
      "Epoch 47/100\n"
     ]
    },
    {
     "name": "stdout",
     "output_type": "stream",
     "text": [
      "232/232 [==============================] - 2s 7ms/step - loss: 2085.3999 - mean_absolute_error: 33.0213 - val_loss: 22451.4318 - val_mean_absolute_error: 105.1584\n",
      "Epoch 48/100\n",
      "232/232 [==============================] - 2s 7ms/step - loss: 1964.7392 - mean_absolute_error: 32.7083 - val_loss: 14573.3555 - val_mean_absolute_error: 90.8584\n",
      "Epoch 49/100\n",
      "232/232 [==============================] - 2s 7ms/step - loss: 1754.9901 - mean_absolute_error: 31.6942 - val_loss: 11905.0159 - val_mean_absolute_error: 84.5962\n",
      "Epoch 50/100\n",
      "232/232 [==============================] - 2s 8ms/step - loss: 1942.4836 - mean_absolute_error: 33.3649 - val_loss: 13270.0983 - val_mean_absolute_error: 89.6802\n",
      "Epoch 51/100\n",
      "232/232 [==============================] - 2s 7ms/step - loss: 2018.9140 - mean_absolute_error: 33.2946 - val_loss: 13338.8871 - val_mean_absolute_error: 88.3212\n",
      "Epoch 52/100\n",
      "232/232 [==============================] - 2s 7ms/step - loss: 1415.8832 - mean_absolute_error: 28.3895 - val_loss: 13600.8219 - val_mean_absolute_error: 88.4241\n",
      "Epoch 53/100\n",
      "232/232 [==============================] - 2s 7ms/step - loss: 1382.7829 - mean_absolute_error: 27.7845 - val_loss: 13734.4720 - val_mean_absolute_error: 90.3682\n",
      "Epoch 54/100\n",
      "232/232 [==============================] - 2s 7ms/step - loss: 1480.9458 - mean_absolute_error: 29.3639 - val_loss: 14557.1140 - val_mean_absolute_error: 91.0248\n",
      "Epoch 55/100\n",
      "232/232 [==============================] - 2s 7ms/step - loss: 1592.8192 - mean_absolute_error: 29.8776 - val_loss: 13037.9326 - val_mean_absolute_error: 87.6648\n",
      "Epoch 56/100\n",
      "232/232 [==============================] - 2s 7ms/step - loss: 1332.5310 - mean_absolute_error: 28.1948 - val_loss: 13097.8548 - val_mean_absolute_error: 88.2307\n",
      "Epoch 57/100\n",
      "232/232 [==============================] - 2s 7ms/step - loss: 1247.9566 - mean_absolute_error: 26.5663 - val_loss: 12836.6340 - val_mean_absolute_error: 87.6683\n",
      "Epoch 58/100\n",
      "232/232 [==============================] - 2s 7ms/step - loss: 1097.6412 - mean_absolute_error: 25.6129 - val_loss: 12978.4745 - val_mean_absolute_error: 86.9199\n",
      "Epoch 59/100\n",
      "232/232 [==============================] - 2s 7ms/step - loss: 991.5841 - mean_absolute_error: 24.4094 - val_loss: 13330.3111 - val_mean_absolute_error: 86.4450\n",
      "Epoch 60/100\n",
      "232/232 [==============================] - 2s 7ms/step - loss: 915.6082 - mean_absolute_error: 23.3979 - val_loss: 13221.4769 - val_mean_absolute_error: 87.0057\n",
      "Epoch 61/100\n",
      "232/232 [==============================] - 2s 7ms/step - loss: 994.8108 - mean_absolute_error: 23.2561 - val_loss: 13107.1725 - val_mean_absolute_error: 86.8730\n",
      "Epoch 62/100\n",
      "232/232 [==============================] - 2s 7ms/step - loss: 1054.4585 - mean_absolute_error: 24.6014 - val_loss: 13643.7087 - val_mean_absolute_error: 88.3361\n",
      "Epoch 63/100\n",
      "232/232 [==============================] - 2s 7ms/step - loss: 1149.9730 - mean_absolute_error: 25.2745 - val_loss: 13520.9631 - val_mean_absolute_error: 86.7130\n",
      "Epoch 64/100\n",
      "232/232 [==============================] - 2s 7ms/step - loss: 1805.3999 - mean_absolute_error: 32.7278 - val_loss: 13592.0173 - val_mean_absolute_error: 88.7236\n",
      "Epoch 65/100\n",
      "232/232 [==============================] - 2s 7ms/step - loss: 1100.4156 - mean_absolute_error: 25.7417 - val_loss: 14156.8136 - val_mean_absolute_error: 89.6333\n",
      "Epoch 66/100\n",
      "232/232 [==============================] - 2s 8ms/step - loss: 1530.7376 - mean_absolute_error: 29.3287 - val_loss: 14119.6357 - val_mean_absolute_error: 89.1686\n",
      "Epoch 67/100\n",
      "232/232 [==============================] - 2s 7ms/step - loss: 1465.5281 - mean_absolute_error: 30.6441 - val_loss: 13568.3691 - val_mean_absolute_error: 86.4322\n",
      "Epoch 68/100\n",
      "232/232 [==============================] - 2s 7ms/step - loss: 1257.6307 - mean_absolute_error: 27.8456 - val_loss: 13262.1733 - val_mean_absolute_error: 87.4359\n",
      "Epoch 69/100\n",
      "232/232 [==============================] - 2s 8ms/step - loss: 1094.4121 - mean_absolute_error: 25.3979 - val_loss: 14143.6388 - val_mean_absolute_error: 87.1830\n",
      "Epoch 70/100\n",
      "232/232 [==============================] - 2s 8ms/step - loss: 978.6519 - mean_absolute_error: 23.7941 - val_loss: 13153.7205 - val_mean_absolute_error: 86.7942\n",
      "Epoch 71/100\n",
      "232/232 [==============================] - 2s 8ms/step - loss: 916.4029 - mean_absolute_error: 23.8166 - val_loss: 13027.4015 - val_mean_absolute_error: 86.3849\n",
      "Epoch 72/100\n",
      "232/232 [==============================] - 2s 7ms/step - loss: 889.0839 - mean_absolute_error: 23.2277 - val_loss: 13438.8574 - val_mean_absolute_error: 87.1975\n",
      "Epoch 73/100\n",
      "232/232 [==============================] - 2s 7ms/step - loss: 887.6167 - mean_absolute_error: 22.8429 - val_loss: 13687.9810 - val_mean_absolute_error: 87.4612\n",
      "Epoch 74/100\n",
      "232/232 [==============================] - 2s 8ms/step - loss: 762.5095 - mean_absolute_error: 20.5776 - val_loss: 13900.7132 - val_mean_absolute_error: 87.6375\n",
      "Epoch 75/100\n",
      "232/232 [==============================] - 2s 8ms/step - loss: 821.8969 - mean_absolute_error: 22.7086 - val_loss: 13848.3527 - val_mean_absolute_error: 88.5871\n",
      "Epoch 76/100\n",
      "232/232 [==============================] - 2s 8ms/step - loss: 747.1735 - mean_absolute_error: 20.5684 - val_loss: 13547.4061 - val_mean_absolute_error: 88.0933\n",
      "Epoch 77/100\n",
      "232/232 [==============================] - 2s 8ms/step - loss: 739.9791 - mean_absolute_error: 19.9643 - val_loss: 13364.1444 - val_mean_absolute_error: 87.7258\n",
      "Epoch 78/100\n",
      "232/232 [==============================] - 2s 7ms/step - loss: 776.9043 - mean_absolute_error: 21.7427 - val_loss: 14159.0920 - val_mean_absolute_error: 88.4752\n",
      "Epoch 79/100\n",
      "232/232 [==============================] - 2s 7ms/step - loss: 859.2632 - mean_absolute_error: 23.0035 - val_loss: 14125.2893 - val_mean_absolute_error: 87.3444\n",
      "Epoch 80/100\n",
      "232/232 [==============================] - 2s 7ms/step - loss: 1192.0292 - mean_absolute_error: 26.1929 - val_loss: 14044.2998 - val_mean_absolute_error: 87.8686\n",
      "Epoch 81/100\n",
      "232/232 [==============================] - 2s 7ms/step - loss: 789.5289 - mean_absolute_error: 21.5838 - val_loss: 13631.2382 - val_mean_absolute_error: 87.3922\n",
      "Epoch 82/100\n",
      "232/232 [==============================] - 2s 7ms/step - loss: 739.7774 - mean_absolute_error: 21.0501 - val_loss: 14589.6893 - val_mean_absolute_error: 87.9338\n",
      "Epoch 83/100\n",
      "232/232 [==============================] - 2s 7ms/step - loss: 692.1997 - mean_absolute_error: 19.4812 - val_loss: 14385.4474 - val_mean_absolute_error: 88.3367\n",
      "Epoch 84/100\n",
      "232/232 [==============================] - 2s 7ms/step - loss: 647.0698 - mean_absolute_error: 19.1824 - val_loss: 14951.5164 - val_mean_absolute_error: 88.9925\n",
      "Epoch 85/100\n",
      "232/232 [==============================] - 2s 7ms/step - loss: 553.1801 - mean_absolute_error: 17.4487 - val_loss: 14471.0532 - val_mean_absolute_error: 88.5058\n",
      "Epoch 86/100\n",
      "232/232 [==============================] - 2s 7ms/step - loss: 710.3383 - mean_absolute_error: 21.1042 - val_loss: 15223.9877 - val_mean_absolute_error: 89.0424\n",
      "Epoch 87/100\n",
      "232/232 [==============================] - 2s 7ms/step - loss: 811.0806 - mean_absolute_error: 21.2918 - val_loss: 13359.8119 - val_mean_absolute_error: 86.8468\n",
      "Epoch 88/100\n",
      "232/232 [==============================] - 2s 7ms/step - loss: 1081.1709 - mean_absolute_error: 25.7876 - val_loss: 14192.6325 - val_mean_absolute_error: 87.5055\n",
      "Epoch 89/100\n",
      "232/232 [==============================] - 2s 7ms/step - loss: 789.5966 - mean_absolute_error: 22.2025 - val_loss: 16353.7705 - val_mean_absolute_error: 90.1063\n",
      "Epoch 90/100\n",
      "232/232 [==============================] - 2s 8ms/step - loss: 805.9628 - mean_absolute_error: 22.6744 - val_loss: 18811.5741 - val_mean_absolute_error: 94.4812\n",
      "Epoch 91/100\n",
      "232/232 [==============================] - 2s 7ms/step - loss: 705.3140 - mean_absolute_error: 20.2028 - val_loss: 16506.7043 - val_mean_absolute_error: 89.6641\n",
      "Epoch 92/100\n",
      "232/232 [==============================] - 2s 7ms/step - loss: 768.5593 - mean_absolute_error: 21.5518 - val_loss: 21813.2324 - val_mean_absolute_error: 103.5435\n",
      "Epoch 93/100\n",
      "232/232 [==============================] - 2s 7ms/step - loss: 568.4068 - mean_absolute_error: 17.5767 - val_loss: 17084.9633 - val_mean_absolute_error: 90.4833\n",
      "Epoch 94/100\n"
     ]
    },
    {
     "name": "stdout",
     "output_type": "stream",
     "text": [
      "232/232 [==============================] - 2s 7ms/step - loss: 663.2883 - mean_absolute_error: 20.3525 - val_loss: 13599.3397 - val_mean_absolute_error: 86.8000\n",
      "Epoch 95/100\n",
      "232/232 [==============================] - 2s 7ms/step - loss: 615.2195 - mean_absolute_error: 18.9423 - val_loss: 14989.9076 - val_mean_absolute_error: 87.8952\n",
      "Epoch 96/100\n",
      "232/232 [==============================] - 2s 7ms/step - loss: 806.8308 - mean_absolute_error: 21.6918 - val_loss: 13905.4676 - val_mean_absolute_error: 87.4088\n",
      "Epoch 97/100\n",
      "232/232 [==============================] - 2s 7ms/step - loss: 637.6210 - mean_absolute_error: 18.6725 - val_loss: 13919.6097 - val_mean_absolute_error: 88.1893\n",
      "Epoch 98/100\n",
      "232/232 [==============================] - 2s 7ms/step - loss: 589.5571 - mean_absolute_error: 17.9295 - val_loss: 13954.8239 - val_mean_absolute_error: 87.7408\n",
      "Epoch 99/100\n",
      "232/232 [==============================] - 2s 7ms/step - loss: 661.3787 - mean_absolute_error: 19.8550 - val_loss: 14867.3002 - val_mean_absolute_error: 88.9568\n",
      "Epoch 100/100\n",
      "232/232 [==============================] - 2s 7ms/step - loss: 707.1589 - mean_absolute_error: 20.8735 - val_loss: 14029.6907 - val_mean_absolute_error: 89.2052\n"
     ]
    }
   ],
   "source": [
    "history=model.fit(X_train, y_train, batch_size=32, validation_data=(X_test, y_test), epochs=100)"
   ]
  },
  {
   "cell_type": "code",
   "execution_count": 25,
   "metadata": {},
   "outputs": [
    {
     "data": {
      "text/plain": [
       "0.9332704540803308"
      ]
     },
     "execution_count": 25,
     "metadata": {},
     "output_type": "execute_result"
    }
   ],
   "source": [
    "metrics.r2_score(y_train, model.predict(X_train))"
   ]
  },
  {
   "cell_type": "code",
   "execution_count": 26,
   "metadata": {},
   "outputs": [
    {
     "data": {
      "text/plain": [
       "0.34719905757714975"
      ]
     },
     "execution_count": 26,
     "metadata": {},
     "output_type": "execute_result"
    }
   ],
   "source": [
    "metrics.r2_score(y_test, model.predict(X_test))"
   ]
  },
  {
   "cell_type": "code",
   "execution_count": 29,
   "metadata": {},
   "outputs": [
    {
     "data": {
      "text/plain": [
       "30.94836088509395"
      ]
     },
     "execution_count": 29,
     "metadata": {},
     "output_type": "execute_result"
    }
   ],
   "source": [
    "metrics.mean_absolute_error(y_train, model.predict(X_train))"
   ]
  },
  {
   "cell_type": "code",
   "execution_count": 30,
   "metadata": {},
   "outputs": [
    {
     "data": {
      "text/plain": [
       "89.20522657491394"
      ]
     },
     "execution_count": 30,
     "metadata": {},
     "output_type": "execute_result"
    }
   ],
   "source": [
    "metrics.mean_absolute_error(y_test, model.predict(X_test))"
   ]
  },
  {
   "cell_type": "code",
   "execution_count": 28,
   "metadata": {},
   "outputs": [
    {
     "data": {
      "image/png": "[encoded data removed]",
      "text/plain": [
       "<Figure size 600x400 with 2 Axes>"
      ]
     },
     "metadata": {
      "needs_background": "light"
     },
     "output_type": "display_data"
    }
   ],
   "source": [
    "mutls.plot_model_error(X_train,X_test,y_train, y_test, model)"
   ]
  },
  {
   "cell_type": "markdown",
   "metadata": {},
   "source": [
    "Overfitting problem"
   ]
  },
  {
   "cell_type": "markdown",
   "metadata": {},
   "source": [
    "### Second model, category model"
   ]
  },
  {
   "cell_type": "code",
   "execution_count": 31,
   "metadata": {},
   "outputs": [],
   "source": [
    "Y_category = mutls.get_y_category(y_actual=Y, min_edge=200, bin_width=20)"
   ]
  },
  {
   "cell_type": "code",
   "execution_count": 32,
   "metadata": {},
   "outputs": [],
   "source": [
    "cls_counts = mutls.get_class_count(Y_category)"
   ]
  },
  {
   "cell_type": "code",
   "execution_count": 33,
   "metadata": {},
   "outputs": [
    {
     "name": "stdout",
     "output_type": "stream",
     "text": [
      "{0.0: 18, 1.0: 23, 2.0: 42, 3.0: 44, 4.0: 14, 5.0: 8, 6.0: 8, 7.0: 6, 8.0: 6, 9.0: 3, 10.0: 21, 11.0: 12, 12.0: 7, 13.0: 5, 14.0: 7, 15.0: 12, 16.0: 8, 17.0: 10, 18.0: 5, 19.0: 6, 20.0: 7, 21.0: 6, 22.0: 3, 23.0: 2, 24.0: 2, 25.0: 2, 28.0: 1, 29.0: 2, 30.0: 1}\n"
     ]
    }
   ],
   "source": [
    "\n",
    "print(cls_counts)"
   ]
  },
  {
   "cell_type": "code",
   "execution_count": 34,
   "metadata": {},
   "outputs": [
    {
     "data": {
      "text/plain": [
       "(291, 137)"
      ]
     },
     "execution_count": 34,
     "metadata": {},
     "output_type": "execute_result"
    }
   ],
   "source": [
    "X_fp.shape"
   ]
  },
  {
   "cell_type": "code",
   "execution_count": 35,
   "metadata": {},
   "outputs": [],
   "source": [
    "d_cat = mutls.combine_columns((X_fp, Y_category))"
   ]
  },
  {
   "cell_type": "code",
   "execution_count": 36,
   "metadata": {},
   "outputs": [],
   "source": [
    "subsampled=mutls.subsampling(d_cat,-1,15,cls_counts)"
   ]
  },
  {
   "cell_type": "code",
   "execution_count": 37,
   "metadata": {},
   "outputs": [
    {
     "data": {
      "text/plain": [
       "array([[224, 255, 255, ..., 0, 0, 3.0],\n",
       "       [224, 255, 255, ..., 0, 0, 1.0],\n",
       "       [224, 255, 255, ..., 0, 0, 1.0],\n",
       "       ...,\n",
       "       [224, 255, 255, ..., 0, 0, 10.0],\n",
       "       [224, 255, 255, ..., 0, 0, 10.0],\n",
       "       [224, 255, 255, ..., 0, 0, 29.0]], dtype=object)"
      ]
     },
     "execution_count": 37,
     "metadata": {},
     "output_type": "execute_result"
    }
   ],
   "source": [
    "subsampled"
   ]
  },
  {
   "cell_type": "code",
   "execution_count": 38,
   "metadata": {},
   "outputs": [
    {
     "name": "stdout",
     "output_type": "stream",
     "text": [
      "(198, 137)\n",
      "(23, 137)\n",
      "(198, 31)\n",
      "(23, 31)\n"
     ]
    }
   ],
   "source": [
    "X, y = subsampled[:,0:-1], subsampled[:,-1]\n",
    "y_onehot = mutls.onehot_encode_y(y=y, num_class=31)\n",
    "X_train, X_test, y_train, y_test = utils.splitData(X, y_onehot, ratio=0.10)\n",
    "print(X_train.shape)\n",
    "print(X_test.shape)\n",
    "print(y_train.shape)\n",
    "print(y_test.shape)"
   ]
  },
  {
   "cell_type": "markdown",
   "metadata": {},
   "source": [
    "### 2nd fingerprint model RNN LSTM with category Y"
   ]
  },
  {
   "cell_type": "code",
   "execution_count": 39,
   "metadata": {},
   "outputs": [
    {
     "name": "stdout",
     "output_type": "stream",
     "text": [
      "_________________________________________________________________\n",
      "Layer (type)                 Output Shape              Param #   \n",
      "=================================================================\n",
      "lstm_10 (LSTM)               (None, 137, 224)          202496    \n",
      "_________________________________________________________________\n",
      "lstm_11 (LSTM)               (None, 384)               935424    \n",
      "_________________________________________________________________\n",
      "dense_7 (Dense)              (None, 31)                11935     \n",
      "=================================================================\n",
      "Total params: 1,149,855\n",
      "Trainable params: 1,149,855\n",
      "Non-trainable params: 0\n",
      "_________________________________________________________________\n"
     ]
    }
   ],
   "source": [
    "X_train = X_train.reshape((X_train.shape[0],X_train.shape[1],1))\n",
    "X_test = X_test.reshape((X_test.shape[0], X_test.shape[1], 1))\n",
    "\n",
    "rnn1_size = 224\n",
    "rnn2_size = 384\n",
    "dropout_rate = 0.2\n",
    "loss = 'categorical_crossentropy'\n",
    "metrics = ['accuracy']\n",
    "num_classes = 31\n",
    "optimizer = 'adam' #use adam optimizer\n",
    "\n",
    "model_1 = Sequential()\n",
    "model_1.add(LSTM(rnn1_size, return_sequences=True, input_shape=(137,1))) #137\n",
    "model_1.add(LSTM(rnn2_size))\n",
    "model_1.add(Dense(num_classes, activation='softmax'))\n",
    "model_1.compile(optimizer=optimizer, loss=loss, metrics=metrics)\n",
    "model_1.summary()"
   ]
  },
  {
   "cell_type": "code",
   "execution_count": 40,
   "metadata": {},
   "outputs": [
    {
     "name": "stdout",
     "output_type": "stream",
     "text": [
      "Train on 198 samples, validate on 23 samples\n",
      "Epoch 1/100\n",
      "198/198 [==============================] - 13s 66ms/step - loss: 3.3612 - acc: 0.0758 - val_loss: 3.2490 - val_acc: 0.1304\n",
      "Epoch 2/100\n",
      "198/198 [==============================] - 10s 48ms/step - loss: 3.1814 - acc: 0.1010 - val_loss: 3.2949 - val_acc: 0.1304\n",
      "Epoch 3/100\n",
      "198/198 [==============================] - 10s 50ms/step - loss: 3.1683 - acc: 0.0657 - val_loss: 3.1966 - val_acc: 0.1304\n",
      "Epoch 4/100\n",
      "198/198 [==============================] - 10s 48ms/step - loss: 3.0996 - acc: 0.1010 - val_loss: 3.1908 - val_acc: 0.1304\n",
      "Epoch 5/100\n",
      "198/198 [==============================] - 10s 52ms/step - loss: 3.0847 - acc: 0.0707 - val_loss: 3.1931 - val_acc: 0.0870\n",
      "Epoch 6/100\n",
      "198/198 [==============================] - 11s 56ms/step - loss: 2.9649 - acc: 0.0859 - val_loss: 3.3290 - val_acc: 0.1304\n",
      "Epoch 7/100\n",
      "198/198 [==============================] - 11s 56ms/step - loss: 3.0059 - acc: 0.1263 - val_loss: 3.0711 - val_acc: 0.1304\n",
      "Epoch 8/100\n",
      "198/198 [==============================] - 10s 51ms/step - loss: 2.8828 - acc: 0.1212 - val_loss: 3.1047 - val_acc: 0.1739\n",
      "Epoch 9/100\n",
      "198/198 [==============================] - 10s 52ms/step - loss: 2.8171 - acc: 0.1313 - val_loss: 3.1558 - val_acc: 0.1739\n",
      "Epoch 10/100\n",
      "198/198 [==============================] - 10s 53ms/step - loss: 2.8598 - acc: 0.1313 - val_loss: 3.2396 - val_acc: 0.0870\n",
      "Epoch 11/100\n",
      "198/198 [==============================] - 11s 54ms/step - loss: 2.8658 - acc: 0.1263 - val_loss: 3.1786 - val_acc: 0.1304\n",
      "Epoch 12/100\n",
      "198/198 [==============================] - 11s 56ms/step - loss: 2.9200 - acc: 0.1212 - val_loss: 3.1388 - val_acc: 0.1304\n",
      "Epoch 13/100\n",
      "198/198 [==============================] - 10s 50ms/step - loss: 2.8093 - acc: 0.1364 - val_loss: 3.1973 - val_acc: 0.2174\n",
      "Epoch 14/100\n",
      "198/198 [==============================] - 10s 50ms/step - loss: 2.7764 - acc: 0.1263 - val_loss: 3.1345 - val_acc: 0.1739\n",
      "Epoch 15/100\n",
      "198/198 [==============================] - 10s 50ms/step - loss: 2.7160 - acc: 0.1414 - val_loss: 3.1703 - val_acc: 0.1739\n",
      "Epoch 16/100\n",
      "198/198 [==============================] - 10s 50ms/step - loss: 2.7334 - acc: 0.1667 - val_loss: 3.2775 - val_acc: 0.1739\n",
      "Epoch 17/100\n",
      "198/198 [==============================] - 10s 50ms/step - loss: 2.6927 - acc: 0.1414 - val_loss: 3.2356 - val_acc: 0.1304\n",
      "Epoch 18/100\n",
      "198/198 [==============================] - 10s 50ms/step - loss: 2.6589 - acc: 0.1919 - val_loss: 3.1972 - val_acc: 0.1739\n",
      "Epoch 19/100\n",
      "198/198 [==============================] - 10s 50ms/step - loss: 2.6722 - acc: 0.1717 - val_loss: 3.1798 - val_acc: 0.1739\n",
      "Epoch 20/100\n",
      "198/198 [==============================] - 10s 52ms/step - loss: 2.6758 - acc: 0.1566 - val_loss: 3.2068 - val_acc: 0.2174\n",
      "Epoch 21/100\n",
      "198/198 [==============================] - 11s 55ms/step - loss: 2.7347 - acc: 0.1667 - val_loss: 3.2501 - val_acc: 0.1304\n",
      "Epoch 22/100\n",
      "198/198 [==============================] - 11s 54ms/step - loss: 2.6457 - acc: 0.1616 - val_loss: 3.2661 - val_acc: 0.1304\n",
      "Epoch 23/100\n",
      "198/198 [==============================] - 10s 50ms/step - loss: 2.6500 - acc: 0.1717 - val_loss: 3.1781 - val_acc: 0.2174\n",
      "Epoch 24/100\n",
      "198/198 [==============================] - 10s 50ms/step - loss: 2.6496 - acc: 0.1566 - val_loss: 3.2599 - val_acc: 0.1304\n",
      "Epoch 25/100\n",
      "198/198 [==============================] - 10s 50ms/step - loss: 2.6354 - acc: 0.1818 - val_loss: 3.4562 - val_acc: 0.1739\n",
      "Epoch 26/100\n",
      "198/198 [==============================] - 10s 50ms/step - loss: 2.6215 - acc: 0.1667 - val_loss: 3.2549 - val_acc: 0.0870\n",
      "Epoch 27/100\n",
      "198/198 [==============================] - 10s 52ms/step - loss: 2.5855 - acc: 0.1717 - val_loss: 3.2488 - val_acc: 0.1739\n",
      "Epoch 28/100\n",
      "198/198 [==============================] - 10s 50ms/step - loss: 2.5434 - acc: 0.1818 - val_loss: 3.2240 - val_acc: 0.1304\n",
      "Epoch 29/100\n",
      "198/198 [==============================] - 10s 51ms/step - loss: 2.6317 - acc: 0.1818 - val_loss: 3.3213 - val_acc: 0.1304\n",
      "Epoch 30/100\n",
      "198/198 [==============================] - 10s 51ms/step - loss: 2.6077 - acc: 0.1717 - val_loss: 3.3413 - val_acc: 0.1739\n",
      "Epoch 31/100\n",
      "198/198 [==============================] - 10s 50ms/step - loss: 2.5439 - acc: 0.1768 - val_loss: 3.3083 - val_acc: 0.1739\n",
      "Epoch 32/100\n",
      "198/198 [==============================] - 10s 50ms/step - loss: 2.5619 - acc: 0.1717 - val_loss: 3.4496 - val_acc: 0.1304\n",
      "Epoch 33/100\n",
      "198/198 [==============================] - 10s 51ms/step - loss: 2.5734 - acc: 0.1616 - val_loss: 3.2829 - val_acc: 0.1739\n",
      "Epoch 34/100\n",
      "198/198 [==============================] - 10s 50ms/step - loss: 2.4827 - acc: 0.1919 - val_loss: 3.3528 - val_acc: 0.0870\n",
      "Epoch 35/100\n",
      "198/198 [==============================] - 11s 53ms/step - loss: 2.4951 - acc: 0.1667 - val_loss: 3.3760 - val_acc: 0.2174\n",
      "Epoch 36/100\n",
      "198/198 [==============================] - 12s 59ms/step - loss: 2.5462 - acc: 0.1515 - val_loss: 3.4034 - val_acc: 0.0870\n",
      "Epoch 37/100\n",
      "198/198 [==============================] - 10s 51ms/step - loss: 2.6860 - acc: 0.1212 - val_loss: 3.7001 - val_acc: 0.1304\n",
      "Epoch 38/100\n",
      "198/198 [==============================] - 10s 51ms/step - loss: 2.5610 - acc: 0.1919 - val_loss: 3.2878 - val_acc: 0.1304\n",
      "Epoch 39/100\n",
      "198/198 [==============================] - 10s 51ms/step - loss: 2.5039 - acc: 0.1515 - val_loss: 3.3990 - val_acc: 0.2174\n",
      "Epoch 40/100\n",
      "198/198 [==============================] - 10s 50ms/step - loss: 2.5020 - acc: 0.1768 - val_loss: 3.4560 - val_acc: 0.0870\n",
      "Epoch 41/100\n",
      "198/198 [==============================] - 10s 50ms/step - loss: 2.4220 - acc: 0.1869 - val_loss: 3.4106 - val_acc: 0.1739\n",
      "Epoch 42/100\n",
      "198/198 [==============================] - 10s 50ms/step - loss: 2.4165 - acc: 0.2020 - val_loss: 3.4286 - val_acc: 0.1304\n",
      "Epoch 43/100\n",
      "198/198 [==============================] - 10s 52ms/step - loss: 2.4028 - acc: 0.1768 - val_loss: 3.4677 - val_acc: 0.2174\n",
      "Epoch 44/100\n",
      "198/198 [==============================] - 10s 51ms/step - loss: 2.4102 - acc: 0.2273 - val_loss: 3.5625 - val_acc: 0.1739\n",
      "Epoch 45/100\n",
      "198/198 [==============================] - 10s 51ms/step - loss: 2.4163 - acc: 0.2273 - val_loss: 3.4520 - val_acc: 0.1739\n",
      "Epoch 46/100\n",
      "198/198 [==============================] - 10s 50ms/step - loss: 2.4916 - acc: 0.1818 - val_loss: 3.3397 - val_acc: 0.1304\n",
      "Epoch 47/100\n",
      "198/198 [==============================] - 10s 51ms/step - loss: 2.4051 - acc: 0.2071 - val_loss: 3.3652 - val_acc: 0.1739\n",
      "Epoch 48/100\n",
      "198/198 [==============================] - 10s 52ms/step - loss: 2.3927 - acc: 0.1768 - val_loss: 3.5174 - val_acc: 0.1304\n",
      "Epoch 49/100\n",
      "198/198 [==============================] - 10s 50ms/step - loss: 2.3858 - acc: 0.1869 - val_loss: 3.5204 - val_acc: 0.2609\n",
      "Epoch 50/100\n",
      "198/198 [==============================] - 10s 50ms/step - loss: 2.4134 - acc: 0.2071 - val_loss: 3.6088 - val_acc: 0.2174\n",
      "Epoch 51/100\n",
      "198/198 [==============================] - 10s 51ms/step - loss: 2.6919 - acc: 0.1667 - val_loss: 3.6550 - val_acc: 0.0870\n",
      "Epoch 52/100\n",
      "198/198 [==============================] - 10s 52ms/step - loss: 2.6363 - acc: 0.1465 - val_loss: 3.4102 - val_acc: 0.1304\n",
      "Epoch 53/100\n",
      "198/198 [==============================] - 10s 50ms/step - loss: 2.6352 - acc: 0.1768 - val_loss: 3.4049 - val_acc: 0.2609\n",
      "Epoch 54/100\n",
      "198/198 [==============================] - 10s 51ms/step - loss: 2.4727 - acc: 0.1818 - val_loss: 3.4719 - val_acc: 0.2174\n",
      "Epoch 55/100\n",
      "198/198 [==============================] - 10s 50ms/step - loss: 2.4067 - acc: 0.1919 - val_loss: 3.4698 - val_acc: 0.2174\n",
      "Epoch 56/100\n",
      "198/198 [==============================] - 10s 51ms/step - loss: 2.3608 - acc: 0.2323 - val_loss: 3.5208 - val_acc: 0.1739\n",
      "Epoch 57/100\n",
      "198/198 [==============================] - 10s 51ms/step - loss: 2.3928 - acc: 0.1768 - val_loss: 3.5186 - val_acc: 0.1304\n",
      "Epoch 58/100\n",
      "198/198 [==============================] - 10s 51ms/step - loss: 2.3373 - acc: 0.1869 - val_loss: 3.5854 - val_acc: 0.1304\n",
      "Epoch 59/100\n",
      "198/198 [==============================] - 10s 51ms/step - loss: 2.3509 - acc: 0.1919 - val_loss: 3.6731 - val_acc: 0.0870\n",
      "Epoch 60/100\n",
      "198/198 [==============================] - 10s 50ms/step - loss: 2.2893 - acc: 0.2323 - val_loss: 3.6202 - val_acc: 0.0870\n"
     ]
    },
    {
     "name": "stdout",
     "output_type": "stream",
     "text": [
      "Epoch 61/100\n",
      "198/198 [==============================] - 10s 50ms/step - loss: 2.2616 - acc: 0.2172 - val_loss: 3.6083 - val_acc: 0.1304\n",
      "Epoch 62/100\n",
      "198/198 [==============================] - 10s 50ms/step - loss: 2.2407 - acc: 0.2071 - val_loss: 3.8918 - val_acc: 0.1304\n",
      "Epoch 63/100\n",
      "198/198 [==============================] - 10s 50ms/step - loss: 2.3646 - acc: 0.2071 - val_loss: 3.6174 - val_acc: 0.1739\n",
      "Epoch 64/100\n",
      "198/198 [==============================] - 10s 50ms/step - loss: 2.2728 - acc: 0.2475 - val_loss: 3.8676 - val_acc: 0.1739\n",
      "Epoch 65/100\n",
      "198/198 [==============================] - 10s 50ms/step - loss: 2.2915 - acc: 0.2525 - val_loss: 3.8807 - val_acc: 0.0870\n",
      "Epoch 66/100\n",
      "198/198 [==============================] - 10s 50ms/step - loss: 2.3428 - acc: 0.2172 - val_loss: 3.6339 - val_acc: 0.1739\n",
      "Epoch 67/100\n",
      "198/198 [==============================] - 10s 50ms/step - loss: 2.3718 - acc: 0.2273 - val_loss: 3.7439 - val_acc: 0.1304\n",
      "Epoch 68/100\n",
      "198/198 [==============================] - 10s 50ms/step - loss: 2.4897 - acc: 0.2424 - val_loss: 3.5360 - val_acc: 0.1739\n",
      "Epoch 69/100\n",
      "198/198 [==============================] - 10s 50ms/step - loss: 2.4128 - acc: 0.2121 - val_loss: 3.6408 - val_acc: 0.1739\n",
      "Epoch 70/100\n",
      "198/198 [==============================] - 10s 50ms/step - loss: 2.2909 - acc: 0.2222 - val_loss: 3.7680 - val_acc: 0.1739\n",
      "Epoch 71/100\n",
      "198/198 [==============================] - 10s 50ms/step - loss: 2.1943 - acc: 0.2424 - val_loss: 3.7770 - val_acc: 0.1304\n",
      "Epoch 72/100\n",
      "198/198 [==============================] - 10s 50ms/step - loss: 2.2722 - acc: 0.2323 - val_loss: 3.9075 - val_acc: 0.0870\n",
      "Epoch 73/100\n",
      "198/198 [==============================] - 10s 50ms/step - loss: 2.4497 - acc: 0.2374 - val_loss: 3.6653 - val_acc: 0.1304\n",
      "Epoch 74/100\n",
      "198/198 [==============================] - 10s 50ms/step - loss: 2.2400 - acc: 0.2374 - val_loss: 3.7113 - val_acc: 0.1739\n",
      "Epoch 75/100\n",
      "198/198 [==============================] - 10s 50ms/step - loss: 2.1775 - acc: 0.2374 - val_loss: 3.8564 - val_acc: 0.2609\n",
      "Epoch 76/100\n",
      "198/198 [==============================] - 10s 50ms/step - loss: 2.2467 - acc: 0.2172 - val_loss: 3.8711 - val_acc: 0.0870\n",
      "Epoch 77/100\n",
      "198/198 [==============================] - 10s 50ms/step - loss: 2.2062 - acc: 0.2475 - val_loss: 3.8910 - val_acc: 0.2174\n",
      "Epoch 78/100\n",
      "198/198 [==============================] - 10s 50ms/step - loss: 2.2555 - acc: 0.2374 - val_loss: 4.0883 - val_acc: 0.1739\n",
      "Epoch 79/100\n",
      "198/198 [==============================] - 10s 50ms/step - loss: 2.2642 - acc: 0.2424 - val_loss: 3.9900 - val_acc: 0.1304\n",
      "Epoch 80/100\n",
      "198/198 [==============================] - 10s 50ms/step - loss: 2.3126 - acc: 0.2323 - val_loss: 3.8792 - val_acc: 0.1304\n",
      "Epoch 81/100\n",
      "198/198 [==============================] - 10s 51ms/step - loss: 2.3582 - acc: 0.2020 - val_loss: 3.9091 - val_acc: 0.0870\n",
      "Epoch 82/100\n",
      "198/198 [==============================] - 10s 52ms/step - loss: 2.2507 - acc: 0.2323 - val_loss: 3.9958 - val_acc: 0.1304\n",
      "Epoch 83/100\n",
      "198/198 [==============================] - 10s 50ms/step - loss: 2.1869 - acc: 0.2222 - val_loss: 4.0257 - val_acc: 0.1304\n",
      "Epoch 84/100\n",
      "198/198 [==============================] - 10s 50ms/step - loss: 2.1789 - acc: 0.2525 - val_loss: 3.9646 - val_acc: 0.1304\n",
      "Epoch 85/100\n",
      "198/198 [==============================] - 10s 50ms/step - loss: 2.1896 - acc: 0.2374 - val_loss: 4.0623 - val_acc: 0.0870\n",
      "Epoch 86/100\n",
      "198/198 [==============================] - 10s 52ms/step - loss: 2.1306 - acc: 0.2424 - val_loss: 4.1180 - val_acc: 0.1304\n",
      "Epoch 87/100\n",
      "198/198 [==============================] - 10s 50ms/step - loss: 2.1075 - acc: 0.2576 - val_loss: 4.0266 - val_acc: 0.1304\n",
      "Epoch 88/100\n",
      "198/198 [==============================] - 10s 50ms/step - loss: 2.1361 - acc: 0.2727 - val_loss: 4.2829 - val_acc: 0.0870\n",
      "Epoch 89/100\n",
      "198/198 [==============================] - 10s 50ms/step - loss: 2.0827 - acc: 0.2778 - val_loss: 4.3453 - val_acc: 0.0870\n",
      "Epoch 90/100\n",
      "198/198 [==============================] - 10s 51ms/step - loss: 2.0425 - acc: 0.2828 - val_loss: 4.4110 - val_acc: 0.1304\n",
      "Epoch 91/100\n",
      "198/198 [==============================] - 10s 50ms/step - loss: 2.0921 - acc: 0.2980 - val_loss: 4.4527 - val_acc: 0.0870\n",
      "Epoch 92/100\n",
      "198/198 [==============================] - 10s 51ms/step - loss: 2.0448 - acc: 0.2828 - val_loss: 4.5335 - val_acc: 0.1304\n",
      "Epoch 93/100\n",
      "198/198 [==============================] - 10s 51ms/step - loss: 2.0820 - acc: 0.2374 - val_loss: 4.5131 - val_acc: 0.0870\n",
      "Epoch 94/100\n",
      "198/198 [==============================] - 10s 51ms/step - loss: 2.0419 - acc: 0.2727 - val_loss: 4.3904 - val_acc: 0.1739\n",
      "Epoch 95/100\n",
      "198/198 [==============================] - 10s 50ms/step - loss: 2.0465 - acc: 0.2727 - val_loss: 4.5566 - val_acc: 0.1304\n",
      "Epoch 96/100\n",
      "198/198 [==============================] - 10s 51ms/step - loss: 2.5941 - acc: 0.1919 - val_loss: 4.1312 - val_acc: 0.1739\n",
      "Epoch 97/100\n",
      "198/198 [==============================] - 10s 51ms/step - loss: 2.9783 - acc: 0.1818 - val_loss: 3.6943 - val_acc: 0.1739\n",
      "Epoch 98/100\n",
      "198/198 [==============================] - 10s 50ms/step - loss: 2.8475 - acc: 0.1515 - val_loss: 3.5071 - val_acc: 0.1739\n",
      "Epoch 99/100\n",
      "198/198 [==============================] - 10s 50ms/step - loss: 2.7994 - acc: 0.1616 - val_loss: 3.5577 - val_acc: 0.1304\n",
      "Epoch 100/100\n",
      "198/198 [==============================] - 10s 50ms/step - loss: 2.5961 - acc: 0.1717 - val_loss: 3.5850 - val_acc: 0.1304\n"
     ]
    },
    {
     "data": {
      "text/plain": [
       "<keras.callbacks.History at 0x292bec16278>"
      ]
     },
     "execution_count": 40,
     "metadata": {},
     "output_type": "execute_result"
    }
   ],
   "source": [
    "batch_size = 16\n",
    "epochs = 100\n",
    "\n",
    "model_1.fit(X_train, y_train, batch_size=batch_size, epochs=epochs, validation_data=[X_test, y_test])"
   ]
  },
  {
   "cell_type": "markdown",
   "metadata": {},
   "source": [
    "Training acc 0.17, testing accuracy 0.13 (max 0.26)"
   ]
  }
 ],
 "metadata": {
  "kernelspec": {
   "display_name": "test_speedcom",
   "language": "python",
   "name": "test_speedcom"
  },
  "language_info": {
   "codemirror_mode": {
    "name": "ipython",
    "version": 3
   },
   "file_extension": ".py",
   "mimetype": "text/x-python",
   "name": "python",
   "nbconvert_exporter": "python",
   "pygments_lexer": "ipython3",
   "version": "3.6.8"
  }
 },
 "nbformat": 4,
 "nbformat_minor": 2
}
