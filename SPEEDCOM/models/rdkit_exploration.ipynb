{
 "cells": [
  {
   "cell_type": "markdown",
   "metadata": {},
   "source": [
    "## Importing packages and reading data"
   ]
  },
  {
   "cell_type": "code",
   "execution_count": 36,
   "metadata": {},
   "outputs": [],
   "source": [
    "import math \n",
    "import numpy as np\n",
    "import pandas as pd\n",
    "\n",
    "import rdkit\n",
    "from rdkit import Chem\n",
    "from rdkit.Chem import AllChem\n",
    "#from rdkit.Chem.AllChem import GenerateDepictionMatching3DStructure as Struct_3D\n",
    "from rdkit.ForceField.rdForceField import MMFFMolProperties as properties\n",
    "import rdkit.Chem.Draw as draw\n",
    "\n",
    "from itertools import zip_longest\n",
    "from mpl_toolkits.mplot3d import Axes3D\n"
   ]
  },
  {
   "cell_type": "code",
   "execution_count": 50,
   "metadata": {},
   "outputs": [
    {
     "data": {
      "text/html": [
       "<div>\n",
       "<style scoped>\n",
       "    .dataframe tbody tr th:only-of-type {\n",
       "        vertical-align: middle;\n",
       "    }\n",
       "\n",
       "    .dataframe tbody tr th {\n",
       "        vertical-align: top;\n",
       "    }\n",
       "\n",
       "    .dataframe thead th {\n",
       "        text-align: right;\n",
       "    }\n",
       "</style>\n",
       "<table border=\"1\" class=\"dataframe\">\n",
       "  <thead>\n",
       "    <tr style=\"text-align: right;\">\n",
       "      <th></th>\n",
       "      <th>#</th>\n",
       "      <th>Name</th>\n",
       "      <th>name_smiles</th>\n",
       "      <th>Wavelength</th>\n",
       "      <th>Epsilon</th>\n",
       "      <th>Quantum Yield</th>\n",
       "    </tr>\n",
       "  </thead>\n",
       "  <tbody>\n",
       "    <tr>\n",
       "      <th>0</th>\n",
       "      <td>1</td>\n",
       "      <td>Benzene</td>\n",
       "      <td>C1=CC=CC=C1</td>\n",
       "      <td>254.75</td>\n",
       "      <td>210</td>\n",
       "      <td>0.053</td>\n",
       "    </tr>\n",
       "    <tr>\n",
       "      <th>1</th>\n",
       "      <td>2</td>\n",
       "      <td>Toluene</td>\n",
       "      <td>CC1=CC=CC=C1</td>\n",
       "      <td>261.75</td>\n",
       "      <td>2,860</td>\n",
       "      <td>0.170</td>\n",
       "    </tr>\n",
       "    <tr>\n",
       "      <th>2</th>\n",
       "      <td>3</td>\n",
       "      <td>o-Xylene</td>\n",
       "      <td>CC1=CC=CC=C1C</td>\n",
       "      <td>263.00</td>\n",
       "      <td>254</td>\n",
       "      <td>0.170</td>\n",
       "    </tr>\n",
       "  </tbody>\n",
       "</table>\n",
       "</div>"
      ],
      "text/plain": [
       "   #      Name    name_smiles  Wavelength Epsilon  Quantum Yield\n",
       "0  1   Benzene    C1=CC=CC=C1      254.75     210          0.053\n",
       "1  2   Toluene   CC1=CC=CC=C1      261.75   2,860          0.170\n",
       "2  3  o-Xylene  CC1=CC=CC=C1C      263.00     254          0.170"
      ]
     },
     "execution_count": 50,
     "metadata": {},
     "output_type": "execute_result"
    }
   ],
   "source": [
    "df = pd.read_csv('temp_cleaned_data.tsv',sep='\\t')\n",
    "# df = df.set_index('#')\n",
    "df.head(3)"
   ]
  },
  {
   "cell_type": "code",
   "execution_count": 53,
   "metadata": {},
   "outputs": [
    {
     "data": {
      "text/html": [
       "<div>\n",
       "<style scoped>\n",
       "    .dataframe tbody tr th:only-of-type {\n",
       "        vertical-align: middle;\n",
       "    }\n",
       "\n",
       "    .dataframe tbody tr th {\n",
       "        vertical-align: top;\n",
       "    }\n",
       "\n",
       "    .dataframe thead th {\n",
       "        text-align: right;\n",
       "    }\n",
       "</style>\n",
       "<table border=\"1\" class=\"dataframe\">\n",
       "  <thead>\n",
       "    <tr style=\"text-align: right;\">\n",
       "      <th></th>\n",
       "      <th>Name</th>\n",
       "      <th>name_smiles</th>\n",
       "      <th>Wavelength</th>\n",
       "      <th>Epsilon</th>\n",
       "      <th>Quantum Yield</th>\n",
       "      <th>num_atoms</th>\n",
       "    </tr>\n",
       "    <tr>\n",
       "      <th>#</th>\n",
       "      <th></th>\n",
       "      <th></th>\n",
       "      <th></th>\n",
       "      <th></th>\n",
       "      <th></th>\n",
       "      <th></th>\n",
       "    </tr>\n",
       "  </thead>\n",
       "  <tbody>\n",
       "    <tr>\n",
       "      <th>1</th>\n",
       "      <td>Benzene</td>\n",
       "      <td>C1=CC=CC=C1</td>\n",
       "      <td>254.75</td>\n",
       "      <td>210</td>\n",
       "      <td>0.053</td>\n",
       "      <td>6</td>\n",
       "    </tr>\n",
       "    <tr>\n",
       "      <th>2</th>\n",
       "      <td>Toluene</td>\n",
       "      <td>CC1=CC=CC=C1</td>\n",
       "      <td>261.75</td>\n",
       "      <td>2,860</td>\n",
       "      <td>0.170</td>\n",
       "      <td>7</td>\n",
       "    </tr>\n",
       "    <tr>\n",
       "      <th>3</th>\n",
       "      <td>o-Xylene</td>\n",
       "      <td>CC1=CC=CC=C1C</td>\n",
       "      <td>263.00</td>\n",
       "      <td>254</td>\n",
       "      <td>0.170</td>\n",
       "      <td>8</td>\n",
       "    </tr>\n",
       "  </tbody>\n",
       "</table>\n",
       "</div>"
      ],
      "text/plain": [
       "       Name    name_smiles  Wavelength Epsilon  Quantum Yield  num_atoms\n",
       "#                                                                       \n",
       "1   Benzene    C1=CC=CC=C1      254.75     210          0.053          6\n",
       "2   Toluene   CC1=CC=CC=C1      261.75   2,860          0.170          7\n",
       "3  o-Xylene  CC1=CC=CC=C1C      263.00     254          0.170          8"
      ]
     },
     "execution_count": 53,
     "metadata": {},
     "output_type": "execute_result"
    }
   ],
   "source": [
    "num_atoms = []\n",
    "for indexi, rowi in df.iterrows():\n",
    "    smiles = df.name_smiles[indexi]\n",
    "    molecule = Chem.MolFromSmiles(smiles)\n",
    "    num_atoms.append(molecule.GetNumAtoms())\n",
    "df['num_atoms'] = num_atoms\n",
    "df = df.set_index('#')\n",
    "df.head(3)"
   ]
  },
  {
   "cell_type": "markdown",
   "metadata": {},
   "source": [
    "## Generating a Coulomb matrix for benzene"
   ]
  },
  {
   "cell_type": "code",
   "execution_count": 46,
   "metadata": {},
   "outputs": [
    {
     "data": {
      "text/plain": [
       "6"
      ]
     },
     "execution_count": 46,
     "metadata": {},
     "output_type": "execute_result"
    }
   ],
   "source": [
    "# Defining the SMILES string from df\n",
    "benz_smiles = df.name_smiles[1]\n",
    "# Building the benzene molecule\n",
    "benz = Chem.MolFromSmiles(benz_smiles)\n",
    "benz.GetNumAtoms()"
   ]
  },
  {
   "cell_type": "code",
   "execution_count": 48,
   "metadata": {},
   "outputs": [
    {
     "data": {
      "image/png": "[encoded data removed]",
      "text/plain": [
       "<PIL.Image.Image image mode=RGBA size=300x300 at 0x124A56C88>"
      ]
     },
     "execution_count": 48,
     "metadata": {},
     "output_type": "execute_result"
    }
   ],
   "source": [
    "# Defining the SMILES string from df\n",
    "benz_smiles = df.name_smiles[1]\n",
    "# Building the benzene molecule and ADDING HYDROGENS\n",
    "benz = Chem.AddHs(Chem.MolFromSmiles(benz_smiles))\n",
    "# 'Embedding' the molecule to assign coordinates to nuclei\n",
    "AllChem.EmbedMolecule(benz)\n",
    "# Optimising the molecule\n",
    "AllChem.MMFFOptimizeMolecule(benz)\n",
    "# Generating universal force field model\n",
    "ff1 = AllChem.UFFGetMoleculeForceField(benz)\n",
    "# Getting the positions of nuclei; returned as a tuple of the form (x1, y1, z1, x2, y2, z2, x3, ...)\n",
    "pos1 = ff1.Positions()\n",
    "# Drawing the molecule\n",
    "draw.MolToImage(benz, kekulize=False) # can also use .MolToFile to save to a file"
   ]
  },
  {
   "cell_type": "code",
   "execution_count": 55,
   "metadata": {},
   "outputs": [],
   "source": [
    "benz_type = benz_H.GetAtoms()"
   ]
  },
  {
   "cell_type": "code",
   "execution_count": 45,
   "metadata": {},
   "outputs": [
    {
     "data": {
      "text/plain": [
       "12"
      ]
     },
     "execution_count": 45,
     "metadata": {},
     "output_type": "execute_result"
    }
   ],
   "source": [
    "benz_H.GetNumAtoms()"
   ]
  },
  {
   "cell_type": "code",
   "execution_count": 6,
   "metadata": {},
   "outputs": [
    {
     "data": {
      "text/plain": [
       "[6, 6, 6, 6, 6, 6, 1, 1, 1, 1, 1, 1]"
      ]
     },
     "execution_count": 6,
     "metadata": {},
     "output_type": "execute_result"
    }
   ],
   "source": [
    "benz_type = []\n",
    "for atom in benz_H.GetAtoms():\n",
    "    benz_type.append(atom.GetAtomicNum())\n",
    "#     print(atom.GetAtomicNum())\n",
    "benz_type"
   ]
  },
  {
   "cell_type": "code",
   "execution_count": 8,
   "metadata": {},
   "outputs": [],
   "source": [
    "def grouper(n, iterable, fillvalue=None):\n",
    "    \"grouper(3, 'ABCDEFG', 'x') --> ABC DEF Gxx\"\n",
    "    args = [iter(iterable)] * n\n",
    "    return zip_longest(fillvalue=fillvalue, *args)"
   ]
  },
  {
   "cell_type": "code",
   "execution_count": 10,
   "metadata": {},
   "outputs": [],
   "source": [
    "import matplotlib.pyplot as plt\n",
    "x = []\n",
    "y = []\n",
    "z = []\n",
    "\n",
    "# fig = plt.figure()\n",
    "# ax = fig.add_subplot(111, projection='3d')\n",
    "for item1, item2, item3 in grouper(3, pos2):\n",
    "    x.append(item1)\n",
    "    y.append(item2)\n",
    "    z.append(item3)\n",
    "#     ax.scatter(item1, item2, item3)"
   ]
  },
  {
   "cell_type": "code",
   "execution_count": 42,
   "metadata": {},
   "outputs": [
    {
     "data": {
      "text/html": [
       "<div>\n",
       "<style scoped>\n",
       "    .dataframe tbody tr th:only-of-type {\n",
       "        vertical-align: middle;\n",
       "    }\n",
       "\n",
       "    .dataframe tbody tr th {\n",
       "        vertical-align: top;\n",
       "    }\n",
       "\n",
       "    .dataframe thead th {\n",
       "        text-align: right;\n",
       "    }\n",
       "</style>\n",
       "<table border=\"1\" class=\"dataframe\">\n",
       "  <thead>\n",
       "    <tr style=\"text-align: right;\">\n",
       "      <th></th>\n",
       "      <th>charge</th>\n",
       "      <th>x</th>\n",
       "      <th>y</th>\n",
       "      <th>z</th>\n",
       "    </tr>\n",
       "  </thead>\n",
       "  <tbody>\n",
       "    <tr>\n",
       "      <th>0</th>\n",
       "      <td>6</td>\n",
       "      <td>1.236585</td>\n",
       "      <td>-0.644340</td>\n",
       "      <td>-0.034985</td>\n",
       "    </tr>\n",
       "    <tr>\n",
       "      <th>1</th>\n",
       "      <td>6</td>\n",
       "      <td>1.175785</td>\n",
       "      <td>0.749136</td>\n",
       "      <td>-0.043156</td>\n",
       "    </tr>\n",
       "    <tr>\n",
       "      <th>2</th>\n",
       "      <td>6</td>\n",
       "      <td>-0.060799</td>\n",
       "      <td>1.393476</td>\n",
       "      <td>-0.008169</td>\n",
       "    </tr>\n",
       "    <tr>\n",
       "      <th>3</th>\n",
       "      <td>6</td>\n",
       "      <td>-1.236585</td>\n",
       "      <td>0.644340</td>\n",
       "      <td>0.034989</td>\n",
       "    </tr>\n",
       "    <tr>\n",
       "      <th>4</th>\n",
       "      <td>6</td>\n",
       "      <td>-1.175786</td>\n",
       "      <td>-0.749136</td>\n",
       "      <td>0.043161</td>\n",
       "    </tr>\n",
       "    <tr>\n",
       "      <th>5</th>\n",
       "      <td>6</td>\n",
       "      <td>0.060799</td>\n",
       "      <td>-1.393475</td>\n",
       "      <td>0.008174</td>\n",
       "    </tr>\n",
       "    <tr>\n",
       "      <th>6</th>\n",
       "      <td>1</td>\n",
       "      <td>2.200026</td>\n",
       "      <td>-1.146356</td>\n",
       "      <td>-0.062252</td>\n",
       "    </tr>\n",
       "    <tr>\n",
       "      <th>7</th>\n",
       "      <td>1</td>\n",
       "      <td>2.091857</td>\n",
       "      <td>1.332800</td>\n",
       "      <td>-0.076778</td>\n",
       "    </tr>\n",
       "    <tr>\n",
       "      <th>8</th>\n",
       "      <td>1</td>\n",
       "      <td>-0.108166</td>\n",
       "      <td>2.479155</td>\n",
       "      <td>-0.014542</td>\n",
       "    </tr>\n",
       "    <tr>\n",
       "      <th>9</th>\n",
       "      <td>1</td>\n",
       "      <td>-2.200027</td>\n",
       "      <td>1.146355</td>\n",
       "      <td>0.062246</td>\n",
       "    </tr>\n",
       "    <tr>\n",
       "      <th>10</th>\n",
       "      <td>1</td>\n",
       "      <td>-2.091858</td>\n",
       "      <td>-1.332801</td>\n",
       "      <td>0.076780</td>\n",
       "    </tr>\n",
       "    <tr>\n",
       "      <th>11</th>\n",
       "      <td>1</td>\n",
       "      <td>0.108169</td>\n",
       "      <td>-2.479153</td>\n",
       "      <td>0.014532</td>\n",
       "    </tr>\n",
       "  </tbody>\n",
       "</table>\n",
       "</div>"
      ],
      "text/plain": [
       "    charge         x         y         z\n",
       "0        6  1.236585 -0.644340 -0.034985\n",
       "1        6  1.175785  0.749136 -0.043156\n",
       "2        6 -0.060799  1.393476 -0.008169\n",
       "3        6 -1.236585  0.644340  0.034989\n",
       "4        6 -1.175786 -0.749136  0.043161\n",
       "5        6  0.060799 -1.393475  0.008174\n",
       "6        1  2.200026 -1.146356 -0.062252\n",
       "7        1  2.091857  1.332800 -0.076778\n",
       "8        1 -0.108166  2.479155 -0.014542\n",
       "9        1 -2.200027  1.146355  0.062246\n",
       "10       1 -2.091858 -1.332801  0.076780\n",
       "11       1  0.108169 -2.479153  0.014532"
      ]
     },
     "execution_count": 42,
     "metadata": {},
     "output_type": "execute_result"
    }
   ],
   "source": [
    "benz_df = pd.DataFrame()\n",
    "benz_df['charge'] = benz_type\n",
    "benz_df['x'] = x\n",
    "benz_df['y'] = y\n",
    "benz_df['z'] = z\n",
    "# benz_df.index += 1\n",
    "\n",
    "benz_df"
   ]
  },
  {
   "cell_type": "code",
   "execution_count": 43,
   "metadata": {},
   "outputs": [],
   "source": [
    "def get_coulomb_matrix(molecule_df)\n",
    "    num_atoms = len(molecule_df)\n",
    "    coulomb = np.zeros(shape=(num_atoms,num_atoms))\n",
    "    for indexi, rowi in benz_df.iterrows():\n",
    "        for indexj, rowj in benz_df.iterrows():\n",
    "            Zi = rowi.charge\n",
    "            xi = rowi.x\n",
    "            yi = rowi.y\n",
    "            zi = rowi.z\n",
    "            Zj = rowj.charge\n",
    "            xj = rowj.x\n",
    "            yj = rowj.y\n",
    "            zj = rowj.z\n",
    "            if indexi == indexj:\n",
    "                element = 0.5 * math.pow(Zi, 2.4)\n",
    "            else:\n",
    "                norm_diff = math.sqrt(math.pow((xi-xj),2) + math.pow((yi-yj),2) + math.pow((zi-zj),2))\n",
    "                element = Zi * Zj / norm_diff\n",
    "            coulomb[indexi][indexj] = element\n",
    "            \n",
    "    return coulomb"
   ]
  },
  {
   "cell_type": "code",
   "execution_count": 44,
   "metadata": {},
   "outputs": [
    {
     "data": {
      "text/plain": [
       "array([[36.8581052 , 25.80967822, 14.90121972, 12.90483041, 14.90121332,\n",
       "        25.80967466,  5.52114997,  2.78473417,  1.76432497,  1.54783472,\n",
       "         1.76432414,  2.78473572],\n",
       "       [25.80967822, 36.8581052 , 25.80966833, 14.90121712, 12.90483514,\n",
       "        14.90122914,  2.78473286,  5.52115123,  2.78473545,  1.76432424,\n",
       "         1.54783497,  1.76432557],\n",
       "       [14.90121972, 25.80966833, 36.8581052 , 25.80966791, 14.90122266,\n",
       "        12.90484186,  1.76432408,  2.78473417,  5.52115067,  2.78473336,\n",
       "         1.76432421,  1.54783569],\n",
       "       [12.90483041, 14.90121712, 25.80966791, 36.8581052 , 25.809675  ,\n",
       "        14.90122311,  1.54783458,  1.76432443,  2.78473194,  5.52115166,\n",
       "         2.78473256,  1.76432463],\n",
       "       [14.90121332, 12.90483514, 14.90122266, 25.809675  , 36.8581052 ,\n",
       "        25.80966548,  1.764324  ,  1.54783509,  1.76432423,  2.7847342 ,\n",
       "         5.52114973,  2.78473316],\n",
       "       [25.80967466, 14.90122914, 12.90484186, 14.90122311, 25.80966548,\n",
       "        36.8581052 ,  2.78473397,  1.76432509,  1.54783563,  1.76432471,\n",
       "         2.78473383,  5.52115149],\n",
       "       [ 5.52114997,  2.78473286,  1.76432408,  1.54783458,  1.764324  ,\n",
       "         2.78473397,  0.5       ,  0.40297279,  0.23265658,  0.20148645,\n",
       "         0.23265655,  0.40297335],\n",
       "       [ 2.78473417,  5.52115123,  2.78473417,  1.76432443,  1.54783509,\n",
       "         1.76432509,  0.40297279,  0.5       ,  0.40297343,  0.23265656,\n",
       "         0.20148648,  0.23265666],\n",
       "       [ 1.76432497,  2.78473545,  5.52115067,  2.78473194,  1.76432423,\n",
       "         1.54783563,  0.23265658,  0.40297343,  0.5       ,  0.40297258,\n",
       "         0.23265645,  0.20148655],\n",
       "       [ 1.54783472,  1.76432424,  2.78473336,  5.52115166,  2.7847342 ,\n",
       "         1.76432471,  0.20148645,  0.23265656,  0.40297258,  0.5       ,\n",
       "         0.40297278,  0.23265656],\n",
       "       [ 1.76432414,  1.54783497,  1.76432421,  2.78473256,  5.52114973,\n",
       "         2.78473383,  0.23265655,  0.20148648,  0.23265645,  0.40297278,\n",
       "         0.5       ,  0.40297298],\n",
       "       [ 2.78473572,  1.76432557,  1.54783569,  1.76432463,  2.78473316,\n",
       "         5.52115149,  0.40297335,  0.23265666,  0.20148655,  0.23265656,\n",
       "         0.40297298,  0.5       ]])"
      ]
     },
     "execution_count": 44,
     "metadata": {},
     "output_type": "execute_result"
    }
   ],
   "source": [
    "coulomb"
   ]
  },
  {
   "cell_type": "code",
   "execution_count": null,
   "metadata": {},
   "outputs": [],
   "source": [
    "def coulomb_matrix_element(rowi, rowj):\n",
    "    if Zi == Zj and Ri == Rj:\n",
    "        element = 0.5 * math.pow(Zi, 2.4)\n",
    "    else:\n",
    "        element = Zi * Zj / \n",
    "        \n",
    "    return element"
   ]
  }
 ],
 "metadata": {
  "kernelspec": {
   "display_name": "Python 3",
   "language": "python",
   "name": "python3"
  },
  "language_info": {
   "codemirror_mode": {
    "name": "ipython",
    "version": 3
   },
   "file_extension": ".py",
   "mimetype": "text/x-python",
   "name": "python",
   "nbconvert_exporter": "python",
   "pygments_lexer": "ipython3",
   "version": "3.7.1"
  }
 },
 "nbformat": 4,
 "nbformat_minor": 2
}
