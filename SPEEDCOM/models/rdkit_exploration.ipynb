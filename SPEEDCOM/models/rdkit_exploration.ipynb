{
 "cells": [
  {
   "cell_type": "markdown",
   "metadata": {},
   "source": [
    "## Importing packages and reading data"
   ]
  },
  {
   "cell_type": "code",
   "execution_count": 1,
   "metadata": {},
   "outputs": [],
   "source": [
    "import math \n",
    "import numpy as np\n",
    "import pandas as pd\n",
    "\n",
    "import rdkit\n",
    "from rdkit import Chem\n",
    "from rdkit.Chem import AllChem\n",
    "#from rdkit.Chem.AllChem import GenerateDepictionMatching3DStructure as Struct_3D\n",
    "from rdkit.ForceField.rdForceField import MMFFMolProperties as properties\n",
    "import rdkit.Chem.Draw as draw\n",
    "\n",
    "from itertools import zip_longest\n",
    "# from mpl_toolkits.mplot3d import Axes3D\n"
   ]
  },
  {
   "cell_type": "code",
   "execution_count": 2,
   "metadata": {},
   "outputs": [
    {
     "data": {
      "text/html": [
       "<div>\n",
       "<style scoped>\n",
       "    .dataframe tbody tr th:only-of-type {\n",
       "        vertical-align: middle;\n",
       "    }\n",
       "\n",
       "    .dataframe tbody tr th {\n",
       "        vertical-align: top;\n",
       "    }\n",
       "\n",
       "    .dataframe thead th {\n",
       "        text-align: right;\n",
       "    }\n",
       "</style>\n",
       "<table border=\"1\" class=\"dataframe\">\n",
       "  <thead>\n",
       "    <tr style=\"text-align: right;\">\n",
       "      <th></th>\n",
       "      <th>#</th>\n",
       "      <th>Name</th>\n",
       "      <th>name_smiles</th>\n",
       "      <th>Wavelength</th>\n",
       "      <th>Epsilon</th>\n",
       "      <th>Quantum Yield</th>\n",
       "    </tr>\n",
       "  </thead>\n",
       "  <tbody>\n",
       "    <tr>\n",
       "      <th>0</th>\n",
       "      <td>1</td>\n",
       "      <td>Benzene</td>\n",
       "      <td>C1=CC=CC=C1</td>\n",
       "      <td>254.75</td>\n",
       "      <td>210</td>\n",
       "      <td>0.053</td>\n",
       "    </tr>\n",
       "    <tr>\n",
       "      <th>1</th>\n",
       "      <td>2</td>\n",
       "      <td>Toluene</td>\n",
       "      <td>CC1=CC=CC=C1</td>\n",
       "      <td>261.75</td>\n",
       "      <td>2,860</td>\n",
       "      <td>0.170</td>\n",
       "    </tr>\n",
       "    <tr>\n",
       "      <th>2</th>\n",
       "      <td>3</td>\n",
       "      <td>o-Xylene</td>\n",
       "      <td>CC1=CC=CC=C1C</td>\n",
       "      <td>263.00</td>\n",
       "      <td>254</td>\n",
       "      <td>0.170</td>\n",
       "    </tr>\n",
       "  </tbody>\n",
       "</table>\n",
       "</div>"
      ],
      "text/plain": [
       "   #      Name    name_smiles  Wavelength Epsilon  Quantum Yield\n",
       "0  1   Benzene    C1=CC=CC=C1      254.75     210          0.053\n",
       "1  2   Toluene   CC1=CC=CC=C1      261.75   2,860          0.170\n",
       "2  3  o-Xylene  CC1=CC=CC=C1C      263.00     254          0.170"
      ]
     },
     "execution_count": 2,
     "metadata": {},
     "output_type": "execute_result"
    }
   ],
   "source": [
    "df = pd.read_csv('temp_cleaned_data.tsv',sep='\\t')\n",
    "# df = df.set_index('#')\n",
    "df.head(3)"
   ]
  },
  {
   "cell_type": "code",
   "execution_count": null,
   "metadata": {},
   "outputs": [],
   "source": [
    "num_atoms = []\n",
    "for indexi, rowi in df.iterrows():\n",
    "    smiles = df.name_smiles[indexi]\n",
    "    molecule = Chem.MolFromSmiles(smiles)\n",
    "    num_atoms.append(molecule.GetNumAtoms())\n",
    "df['num_atoms'] = num_atoms\n",
    "df = df.set_index('#')\n",
    "df.head(3)"
   ]
  },
  {
   "cell_type": "markdown",
   "metadata": {},
   "source": [
    "## Generating a Coulomb matrix for benzene"
   ]
  },
  {
   "cell_type": "code",
   "execution_count": null,
   "metadata": {},
   "outputs": [],
   "source": [
    "# Defining the SMILES string from df\n",
    "benz_smiles = df.name_smiles[1]\n",
    "# Building the benzene molecule\n",
    "benz = Chem.MolFromSmiles(benz_smiles)\n",
    "benz.GetNumAtoms()"
   ]
  },
  {
   "cell_type": "code",
   "execution_count": null,
   "metadata": {},
   "outputs": [],
   "source": [
    "# Defining the SMILES string from df\n",
    "benz_smiles = df.name_smiles[1]\n",
    "# Building the benzene molecule and ADDING HYDROGENS\n",
    "benz = Chem.AddHs(Chem.MolFromSmiles(benz_smiles))\n",
    "# 'Embedding' the molecule to assign coordinates to nuclei\n",
    "AllChem.EmbedMolecule(benz)\n",
    "# Optimising the molecule\n",
    "AllChem.MMFFOptimizeMolecule(benz)\n",
    "# Generating universal force field model\n",
    "ff1 = AllChem.UFFGetMoleculeForceField(benz)\n",
    "# Getting the positions of nuclei; returned as a tuple of the form (x1, y1, z1, x2, y2, z2, x3, ...)\n",
    "pos1 = ff1.Positions()\n",
    "# Drawing the molecule\n",
    "draw.MolToImage(benz, kekulize=False) # can also use .MolToFile to save to a file"
   ]
  },
  {
   "cell_type": "code",
   "execution_count": null,
   "metadata": {},
   "outputs": [],
   "source": [
    "benz_type = benz_H.GetAtoms()"
   ]
  },
  {
   "cell_type": "code",
   "execution_count": null,
   "metadata": {},
   "outputs": [],
   "source": [
    "benz_H.GetNumAtoms()"
   ]
  },
  {
   "cell_type": "code",
   "execution_count": null,
   "metadata": {},
   "outputs": [],
   "source": [
    "benz_type = []\n",
    "for atom in benz_H.GetAtoms():\n",
    "    benz_type.append(atom.GetAtomicNum())\n",
    "#     print(atom.GetAtomicNum())\n",
    "benz_type"
   ]
  },
  {
   "cell_type": "code",
   "execution_count": null,
   "metadata": {},
   "outputs": [],
   "source": [
    "def grouper(n, iterable, fillvalue=None):\n",
    "    \"grouper(3, 'ABCDEFG', 'x') --> ABC DEF Gxx\"\n",
    "    args = [iter(iterable)] * n\n",
    "    return zip_longest(fillvalue=fillvalue, *args)"
   ]
  },
  {
   "cell_type": "code",
   "execution_count": null,
   "metadata": {},
   "outputs": [],
   "source": [
    "import matplotlib.pyplot as plt\n",
    "x = []\n",
    "y = []\n",
    "z = []\n",
    "\n",
    "# fig = plt.figure()\n",
    "# ax = fig.add_subplot(111, projection='3d')\n",
    "for item1, item2, item3 in grouper(3, pos2):\n",
    "    x.append(item1)\n",
    "    y.append(item2)\n",
    "    z.append(item3)\n",
    "#     ax.scatter(item1, item2, item3)"
   ]
  },
  {
   "cell_type": "code",
   "execution_count": null,
   "metadata": {},
   "outputs": [],
   "source": [
    "benz_df = pd.DataFrame()\n",
    "benz_df['charge'] = benz_type\n",
    "benz_df['x'] = x\n",
    "benz_df['y'] = y\n",
    "benz_df['z'] = z\n",
    "# benz_df.index += 1\n",
    "\n",
    "benz_df"
   ]
  },
  {
   "cell_type": "code",
   "execution_count": null,
   "metadata": {},
   "outputs": [],
   "source": [
    "def get_coulomb_matrix(molecule_df)\n",
    "    num_atoms = len(molecule_df)\n",
    "    coulomb = np.zeros(shape=(num_atoms,num_atoms))\n",
    "    for indexi, rowi in benz_df.iterrows():\n",
    "        for indexj, rowj in benz_df.iterrows():\n",
    "            Zi = rowi.charge\n",
    "            xi = rowi.x\n",
    "            yi = rowi.y\n",
    "            zi = rowi.z\n",
    "            Zj = rowj.charge\n",
    "            xj = rowj.x\n",
    "            yj = rowj.y\n",
    "            zj = rowj.z\n",
    "            if indexi == indexj:\n",
    "                element = 0.5 * math.pow(Zi, 2.4)\n",
    "            else:\n",
    "                norm_diff = math.sqrt(math.pow((xi-xj),2) + math.pow((yi-yj),2) + math.pow((zi-zj),2))\n",
    "                element = Zi * Zj / norm_diff\n",
    "            coulomb[indexi][indexj] = element\n",
    "            \n",
    "    return coulomb"
   ]
  },
  {
   "cell_type": "code",
   "execution_count": 3,
   "metadata": {},
   "outputs": [],
   "source": [
    "import utilities\n",
    "from spDescriptors import spDescriptors as spD"
   ]
  },
  {
   "cell_type": "code",
   "execution_count": 4,
   "metadata": {},
   "outputs": [],
   "source": [
    "benzene = spD(df.name_smiles[0])"
   ]
  },
  {
   "cell_type": "code",
   "execution_count": 5,
   "metadata": {},
   "outputs": [
    {
     "data": {
      "text/plain": [
       "array([[ 5.52115011,  2.78473361,  1.76432448,  1.54783495,  1.76432423,\n",
       "         2.78473313,  0.5       ,  0.40297283,  0.23265655,  0.20148648,\n",
       "         0.23265651,  0.40297279],\n",
       "       [ 1.76432449,  2.78473371,  5.52115091,  2.78473459,  1.76432492,\n",
       "         1.54783527,  0.23265655,  0.40297311,  0.5       ,  0.40297319,\n",
       "         0.23265662,  0.20148651],\n",
       "       [ 1.54783502,  1.76432469,  2.78473448,  5.52115101,  2.78473366,\n",
       "         1.76432444,  0.20148648,  0.23265662,  0.40297319,  0.5       ,\n",
       "         0.40297304,  0.23265657],\n",
       "       [ 2.78473308,  1.7643244 ,  1.54783523,  1.76432466,  2.78473404,\n",
       "         5.52115038,  0.40297279,  0.23265651,  0.20148651,  0.23265657,\n",
       "         0.40297297,  0.5       ],\n",
       "       [ 1.76432426,  1.54783517,  1.7643249 ,  2.78473453,  5.52115064,\n",
       "         2.78473317,  0.23265651,  0.2014865 ,  0.23265662,  0.40297304,\n",
       "         0.5       ,  0.40297297],\n",
       "       [ 2.784733  ,  5.52115073,  2.78473462,  1.76432478,  1.54783518,\n",
       "         1.76432435,  0.40297283,  0.5       ,  0.40297311,  0.23265662,\n",
       "         0.2014865 ,  0.23265651],\n",
       "       [12.9048345 , 14.90122117, 25.80967657, 36.8581052 , 25.80967607,\n",
       "        14.90122106,  1.54783495,  1.76432478,  2.78473459,  5.52115101,\n",
       "         2.78473453,  1.76432466],\n",
       "       [14.90121902, 12.9048366 , 14.90122418, 25.80967607, 36.8581052 ,\n",
       "        25.80966916,  1.76432423,  1.54783518,  1.76432492,  2.78473366,\n",
       "         5.52115064,  2.78473404],\n",
       "       [25.80966877, 14.90122161, 12.90483754, 14.90122106, 25.80966916,\n",
       "        36.8581052 ,  2.78473313,  1.76432435,  1.54783527,  1.76432444,\n",
       "         2.78473317,  5.52115038],\n",
       "       [14.9012209 , 25.80967301, 36.8581052 , 25.80967657, 14.90122418,\n",
       "        12.90483754,  1.76432448,  2.78473462,  5.52115091,  2.78473448,\n",
       "         1.7643249 ,  1.54783523],\n",
       "       [25.80967095, 36.8581052 , 25.80967301, 14.90122117, 12.9048366 ,\n",
       "        14.90122161,  2.78473361,  5.52115073,  2.78473371,  1.76432469,\n",
       "         1.54783517,  1.7643244 ],\n",
       "       [36.8581052 , 25.80967095, 14.9012209 , 12.9048345 , 14.90121902,\n",
       "        25.80966877,  5.52115011,  2.784733  ,  1.76432449,  1.54783502,\n",
       "         1.76432426,  2.78473308]])"
      ]
     },
     "execution_count": 5,
     "metadata": {},
     "output_type": "execute_result"
    }
   ],
   "source": [
    "benz_coulomb = benzene.get_coulomb_matrix()"
   ]
  },
  {
   "cell_type": "code",
   "execution_count": null,
   "metadata": {},
   "outputs": [],
   "source": []
  }
 ],
 "metadata": {
  "kernelspec": {
   "display_name": "test_speedcom",
   "language": "python",
   "name": "test_speedcom"
  },
  "language_info": {
   "codemirror_mode": {
    "name": "ipython",
    "version": 3
   },
   "file_extension": ".py",
   "mimetype": "text/x-python",
   "name": "python",
   "nbconvert_exporter": "python",
   "pygments_lexer": "ipython3",
   "version": "3.6.8"
  }
 },
 "nbformat": 4,
 "nbformat_minor": 2
}
