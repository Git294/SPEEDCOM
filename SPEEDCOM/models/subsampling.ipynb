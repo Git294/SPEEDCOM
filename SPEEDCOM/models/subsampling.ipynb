{
 "cells": [
  {
   "cell_type": "code",
   "execution_count": 1,
   "metadata": {},
   "outputs": [
    {
     "name": "stderr",
     "output_type": "stream",
     "text": [
      "C:\\Users\\Yang\\.conda\\envs\\test_speedcom\\lib\\importlib\\_bootstrap.py:219: RuntimeWarning: numpy.ufunc size changed, may indicate binary incompatibility. Expected 192 from C header, got 216 from PyObject\n",
      "  return f(*args, **kwds)\n"
     ]
    }
   ],
   "source": [
    "import numpy as np\n",
    "import pandas as pd\n",
    "import matplotlib.pyplot as plt\n",
    "\n",
    "from dataUtils import DataUtils as utils\n",
    "from model_utils import ModelUtils as mutls"
   ]
  },
  {
   "cell_type": "code",
   "execution_count": 2,
   "metadata": {},
   "outputs": [
    {
     "name": "stderr",
     "output_type": "stream",
     "text": [
      "Using TensorFlow backend.\n"
     ]
    }
   ],
   "source": [
    "from keras import Sequential\n",
    "from keras.layers import Dense, Embedding, LSTM, GRU, Conv1D, Activation"
   ]
  },
  {
   "cell_type": "code",
   "execution_count": 3,
   "metadata": {},
   "outputs": [
    {
     "name": "stdout",
     "output_type": "stream",
     "text": [
      "   #      Name      name_smiles  Wavelength  Epsilon  Quantum Yield\n",
      "0  1   Benzene      C1=CC=CC=C1      254.75      210          0.053\n",
      "1  2   Toluene     CC1=CC=CC=C1      261.75     2860          0.170\n",
      "2  3  o-Xylene    CC1=CC=CC=C1C      263.00      254          0.170\n",
      "3  4  m-Xylene  CC1=CC(=CC=C1)C      265.00      284          0.130\n",
      "4  5  p-Xylene  CC1=CC=C(C=C1)C      275.00      770          0.220\n"
     ]
    }
   ],
   "source": [
    "dset = utils.readData('temp_cleaned_data.tsv')"
   ]
  },
  {
   "cell_type": "code",
   "execution_count": 4,
   "metadata": {},
   "outputs": [],
   "source": [
    "X, Y = utils.get_xy(dset, 2, 3)"
   ]
  },
  {
   "cell_type": "code",
   "execution_count": 5,
   "metadata": {},
   "outputs": [
    {
     "data": {
      "text/plain": [
       "(array([91., 57., 18., 25., 21., 23., 18.,  7.,  3.,  4.]),\n",
       " array([203. , 264.5, 326. , 387.5, 449. , 510.5, 572. , 633.5, 695. ,\n",
       "        756.5, 818. ]),\n",
       " <a list of 10 Patch objects>)"
      ]
     },
     "execution_count": 5,
     "metadata": {},
     "output_type": "execute_result"
    },
    {
     "data": {
      "image/png": "[encoded data removed]",
      "text/plain": [
       "<Figure size 432x288 with 1 Axes>"
      ]
     },
     "metadata": {
      "needs_background": "light"
     },
     "output_type": "display_data"
    }
   ],
   "source": [
    "plt.hist(list(dset[:,3]))"
   ]
  },
  {
   "cell_type": "code",
   "execution_count": 6,
   "metadata": {},
   "outputs": [],
   "source": [
    "Y_category = (Y - 200) // 20"
   ]
  },
  {
   "cell_type": "code",
   "execution_count": 7,
   "metadata": {},
   "outputs": [
    {
     "data": {
      "text/plain": [
       "(array([81., 65., 18., 25., 18., 25., 18.,  9.,  4.,  4.]),\n",
       " array([ 0.,  3.,  6.,  9., 12., 15., 18., 21., 24., 27., 30.]),\n",
       " <a list of 10 Patch objects>)"
      ]
     },
     "execution_count": 7,
     "metadata": {},
     "output_type": "execute_result"
    },
    {
     "data": {
      "image/png": "[encoded data removed]",
      "text/plain": [
       "<Figure size 432x288 with 1 Axes>"
      ]
     },
     "metadata": {
      "needs_background": "light"
     },
     "output_type": "display_data"
    }
   ],
   "source": [
    "plt.hist(list(Y_category))"
   ]
  },
  {
   "cell_type": "code",
   "execution_count": 8,
   "metadata": {},
   "outputs": [],
   "source": [
    "d_cat=mutls.combine_columns((X,Y_category))"
   ]
  },
  {
   "cell_type": "code",
   "execution_count": 9,
   "metadata": {
    "scrolled": true
   },
   "outputs": [
    {
     "name": "stdout",
     "output_type": "stream",
     "text": [
      "{0.0: 18, 1.0: 23, 2.0: 40, 3.0: 44, 4.0: 14, 5.0: 7, 6.0: 8, 7.0: 4, 8.0: 6, 9.0: 3, 10.0: 12, 11.0: 10, 12.0: 7, 13.0: 4, 14.0: 7, 15.0: 10, 16.0: 5, 17.0: 10, 18.0: 6, 19.0: 6, 20.0: 6, 21.0: 3, 22.0: 4, 23.0: 2, 24.0: 2, 25.0: 2, 28.0: 1, 29.0: 2, 30.0: 1}\n"
     ]
    }
   ],
   "source": [
    "cls, counts = np.unique(Y_category, return_counts=True)\n",
    "cls_counts = dict(zip(cls, counts))\n",
    "print(cls_counts)"
   ]
  },
  {
   "cell_type": "markdown",
   "metadata": {},
   "source": [
    "#### subsample the data in each class to undersample some class with big counts"
   ]
  },
  {
   "cell_type": "code",
   "execution_count": 10,
   "metadata": {},
   "outputs": [],
   "source": [
    "subsampled=mutls.subsampling(d_cat,1,10,cls_counts)"
   ]
  },
  {
   "cell_type": "code",
   "execution_count": 11,
   "metadata": {},
   "outputs": [
    {
     "name": "stdout",
     "output_type": "stream",
     "text": [
      "C1=CC=CC=C1\n",
      "2.0\n",
      "1\n"
     ]
    }
   ],
   "source": [
    "for row in d_cat:\n",
    "    print(row[0])\n",
    "    print(row[1])\n",
    "    cls = row[1]\n",
    "    print(np.random.randint(0, cls_counts[cls]))\n",
    "    break"
   ]
  },
  {
   "cell_type": "code",
   "execution_count": 12,
   "metadata": {},
   "outputs": [
    {
     "data": {
      "text/plain": [
       "(array([ 8., 12., 15., 11., 12.,  7.,  8.,  4.,  6.,  3., 11., 10.,  7.,\n",
       "         4.,  7., 10.,  5., 10.,  6.,  6.,  6.,  3.,  4.,  2.,  2.,  2.,\n",
       "         0.,  0.,  1.,  2.,  1.]),\n",
       " array([ 0.        ,  0.96774194,  1.93548387,  2.90322581,  3.87096774,\n",
       "         4.83870968,  5.80645161,  6.77419355,  7.74193548,  8.70967742,\n",
       "         9.67741935, 10.64516129, 11.61290323, 12.58064516, 13.5483871 ,\n",
       "        14.51612903, 15.48387097, 16.4516129 , 17.41935484, 18.38709677,\n",
       "        19.35483871, 20.32258065, 21.29032258, 22.25806452, 23.22580645,\n",
       "        24.19354839, 25.16129032, 26.12903226, 27.09677419, 28.06451613,\n",
       "        29.03225806, 30.        ]),\n",
       " <a list of 31 Patch objects>)"
      ]
     },
     "execution_count": 12,
     "metadata": {},
     "output_type": "execute_result"
    },
    {
     "data": {
      "image/png": "[encoded data removed]",
      "text/plain": [
       "<Figure size 432x288 with 1 Axes>"
      ]
     },
     "metadata": {
      "needs_background": "light"
     },
     "output_type": "display_data"
    }
   ],
   "source": [
    "plt.hist(list(subsampled[:, 1]), bins=31)"
   ]
  },
  {
   "cell_type": "code",
   "execution_count": null,
   "metadata": {},
   "outputs": [],
   "source": [
    "\n"
   ]
  },
  {
   "cell_type": "code",
   "execution_count": 13,
   "metadata": {},
   "outputs": [
    {
     "name": "stdout",
     "output_type": "stream",
     "text": [
      "(166, 276)\n",
      "(19, 276)\n",
      "(166, 31)\n",
      "(19, 31)\n"
     ]
    }
   ],
   "source": [
    "X, y = subsampled[:,0], subsampled[:,1]\n",
    "word_map = utils.get_wordmap(X)\n",
    "embed_length = utils.get_max_len(X) + 2\n",
    "X_numeric = utils.numeric_encoding(x_list=X, uniform_length=embed_length, word_map=word_map)\n",
    "y_onehot = mutls.onehot_encode_y(y=y, num_class=31)\n",
    "X_train, X_test, y_train, y_test = utils.splitData(X_numeric, y_onehot, ratio=0.10)\n",
    "print(X_train.shape)\n",
    "print(X_test.shape)\n",
    "print(y_train.shape)\n",
    "print(y_test.shape)"
   ]
  },
  {
   "cell_type": "markdown",
   "metadata": {},
   "source": [
    "#### model1: embedding layer with category data and rmsprop optimizer (slow and bad)"
   ]
  },
  {
   "cell_type": "code",
   "execution_count": 14,
   "metadata": {},
   "outputs": [
    {
     "name": "stdout",
     "output_type": "stream",
     "text": [
      "WARNING:tensorflow:From C:\\Users\\Yang\\AppData\\Roaming\\Python\\Python36\\site-packages\\tensorflow\\python\\framework\\op_def_library.py:263: colocate_with (from tensorflow.python.framework.ops) is deprecated and will be removed in a future version.\n",
      "Instructions for updating:\n",
      "Colocations handled automatically by placer.\n",
      "WARNING:tensorflow:From C:\\Users\\Yang\\.conda\\envs\\test_speedcom\\lib\\site-packages\\keras\\backend\\tensorflow_backend.py:3445: calling dropout (from tensorflow.python.ops.nn_ops) with keep_prob is deprecated and will be removed in a future version.\n",
      "Instructions for updating:\n",
      "Please use `rate` instead of `keep_prob`. Rate should be set to `rate = 1 - keep_prob`.\n"
     ]
    }
   ],
   "source": [
    "embedding_dim = 50\n",
    "num_filter = 192\n",
    "kernel_size = 10\n",
    "rnn1_size = 224\n",
    "rnn2_size = 384\n",
    "dropout_rate = 0.4\n",
    "\n",
    "\n",
    "loss = 'categorical_crossentropy'\n",
    "metrics = ['accuracy']\n",
    "num_classes = 31\n",
    "\n",
    "model = Sequential()\n",
    "model.add(Embedding(len(word_map), embedding_dim, input_length=embed_length))\n",
    "model.add(Conv1D(num_filter, kernel_size, activation='relu'))\n",
    "model.add(LSTM(rnn1_size, return_sequences=True, dropout=dropout_rate))\n",
    "model.add(LSTM(rnn2_size))\n",
    "model.add(Dense(num_classes, activation='softmax'))\n",
    "model.compile(optimizer='rmsprop', loss=loss, metrics=metrics)"
   ]
  },
  {
   "cell_type": "code",
   "execution_count": 15,
   "metadata": {
    "scrolled": true
   },
   "outputs": [
    {
     "name": "stdout",
     "output_type": "stream",
     "text": [
      "WARNING:tensorflow:From C:\\Users\\Yang\\AppData\\Roaming\\Python\\Python36\\site-packages\\tensorflow\\python\\ops\\math_ops.py:3066: to_int32 (from tensorflow.python.ops.math_ops) is deprecated and will be removed in a future version.\n",
      "Instructions for updating:\n",
      "Use tf.cast instead.\n",
      "Train on 166 samples, validate on 19 samples\n",
      "Epoch 1/50\n",
      "166/166 [==============================] - 36s 214ms/step - loss: 3.4277 - acc: 0.0361 - val_loss: 3.4629 - val_acc: 0.2105\n",
      "Epoch 2/50\n",
      "166/166 [==============================] - 29s 175ms/step - loss: 3.4843 - acc: 0.0361 - val_loss: 3.2147 - val_acc: 0.0526\n",
      "Epoch 3/50\n",
      "166/166 [==============================] - 30s 180ms/step - loss: 3.3111 - acc: 0.0542 - val_loss: 3.1872 - val_acc: 0.2105\n",
      "Epoch 4/50\n",
      "166/166 [==============================] - 29s 178ms/step - loss: 3.2832 - acc: 0.0542 - val_loss: 3.1552 - val_acc: 0.2105\n",
      "Epoch 5/50\n",
      "166/166 [==============================] - 29s 177ms/step - loss: 3.2932 - acc: 0.0301 - val_loss: 3.2062 - val_acc: 0.0526\n",
      "Epoch 6/50\n",
      "166/166 [==============================] - 30s 178ms/step - loss: 3.2602 - acc: 0.0482 - val_loss: 3.2369 - val_acc: 0.0526\n",
      "Epoch 7/50\n",
      "166/166 [==============================] - 30s 179ms/step - loss: 3.2523 - acc: 0.0482 - val_loss: 3.2860 - val_acc: 0.0526\n",
      "Epoch 8/50\n",
      "166/166 [==============================] - 29s 175ms/step - loss: 3.2607 - acc: 0.0422 - val_loss: 3.2217 - val_acc: 0.0000e+00\n",
      "Epoch 9/50\n",
      "166/166 [==============================] - 30s 181ms/step - loss: 3.2576 - acc: 0.0542 - val_loss: 3.2437 - val_acc: 0.0526\n",
      "Epoch 10/50\n",
      "166/166 [==============================] - 31s 185ms/step - loss: 3.2382 - acc: 0.0361 - val_loss: 3.2460 - val_acc: 0.0000e+00\n",
      "Epoch 11/50\n",
      "166/166 [==============================] - 30s 180ms/step - loss: 3.2167 - acc: 0.0723 - val_loss: 3.2834 - val_acc: 0.0526\n",
      "Epoch 12/50\n",
      "166/166 [==============================] - 30s 181ms/step - loss: 3.2297 - acc: 0.0723 - val_loss: 3.2509 - val_acc: 0.0526\n",
      "Epoch 13/50\n",
      "166/166 [==============================] - 30s 182ms/step - loss: 3.2244 - acc: 0.0542 - val_loss: 3.1965 - val_acc: 0.2105\n",
      "Epoch 14/50\n",
      "166/166 [==============================] - 29s 173ms/step - loss: 3.2211 - acc: 0.0783 - val_loss: 3.2159 - val_acc: 0.0526\n",
      "Epoch 15/50\n",
      "166/166 [==============================] - 29s 176ms/step - loss: 3.2122 - acc: 0.0542 - val_loss: 3.1921 - val_acc: 0.0526\n",
      "Epoch 16/50\n",
      "166/166 [==============================] - 29s 174ms/step - loss: 3.2144 - acc: 0.0542 - val_loss: 3.1475 - val_acc: 0.2105\n",
      "Epoch 17/50\n",
      "166/166 [==============================] - 29s 173ms/step - loss: 3.2083 - acc: 0.0723 - val_loss: 3.1255 - val_acc: 0.2105\n",
      "Epoch 18/50\n",
      "166/166 [==============================] - 19s 116ms/step - loss: 3.2213 - acc: 0.0723 - val_loss: 3.1417 - val_acc: 0.2105\n",
      "Epoch 19/50\n",
      "166/166 [==============================] - 17s 103ms/step - loss: 3.2155 - acc: 0.0602 - val_loss: 3.2238 - val_acc: 0.0000e+00\n",
      "Epoch 20/50\n",
      "166/166 [==============================] - 19s 115ms/step - loss: 3.2099 - acc: 0.0422 - val_loss: 3.1450 - val_acc: 0.2105\n",
      "Epoch 21/50\n",
      "166/166 [==============================] - 22s 131ms/step - loss: 3.2106 - acc: 0.0602 - val_loss: 3.2018 - val_acc: 0.0000e+00\n",
      "Epoch 22/50\n",
      "166/166 [==============================] - 29s 174ms/step - loss: 3.2031 - acc: 0.0542 - val_loss: 3.2408 - val_acc: 0.0000e+00\n",
      "Epoch 23/50\n",
      "166/166 [==============================] - 30s 178ms/step - loss: 3.2094 - acc: 0.0422 - val_loss: 3.2024 - val_acc: 0.0000e+00\n",
      "Epoch 24/50\n",
      "166/166 [==============================] - 31s 186ms/step - loss: 3.2024 - acc: 0.0723 - val_loss: 3.1776 - val_acc: 0.0000e+00\n",
      "Epoch 25/50\n",
      "166/166 [==============================] - 30s 181ms/step - loss: 3.2073 - acc: 0.0723 - val_loss: 3.1418 - val_acc: 0.2105\n",
      "Epoch 26/50\n",
      "166/166 [==============================] - 32s 191ms/step - loss: 7.4001 - acc: 0.0301 - val_loss: 3.1723 - val_acc: 0.2105\n",
      "Epoch 27/50\n",
      "166/166 [==============================] - 32s 192ms/step - loss: 3.1966 - acc: 0.0723 - val_loss: 3.1757 - val_acc: 0.0526\n",
      "Epoch 28/50\n",
      "166/166 [==============================] - 31s 188ms/step - loss: 3.1965 - acc: 0.0542 - val_loss: 3.1799 - val_acc: 0.0526\n",
      "Epoch 29/50\n",
      "166/166 [==============================] - 32s 190ms/step - loss: 3.1920 - acc: 0.0542 - val_loss: 3.1980 - val_acc: 0.0526\n",
      "Epoch 30/50\n",
      "166/166 [==============================] - 32s 193ms/step - loss: 3.1944 - acc: 0.0482 - val_loss: 3.2070 - val_acc: 0.0526\n",
      "Epoch 31/50\n",
      "166/166 [==============================] - 33s 197ms/step - loss: 3.1894 - acc: 0.0723 - val_loss: 3.2326 - val_acc: 0.0000e+00\n",
      "Epoch 32/50\n",
      "166/166 [==============================] - 30s 180ms/step - loss: 3.1895 - acc: 0.0723 - val_loss: 3.2561 - val_acc: 0.0000e+00\n",
      "Epoch 33/50\n",
      "166/166 [==============================] - 19s 115ms/step - loss: 3.1927 - acc: 0.0723 - val_loss: 3.2605 - val_acc: 0.0000e+00\n",
      "Epoch 34/50\n",
      "166/166 [==============================] - 18s 105ms/step - loss: 3.1947 - acc: 0.0723 - val_loss: 3.2643 - val_acc: 0.0000e+00\n",
      "Epoch 35/50\n",
      "166/166 [==============================] - 27s 164ms/step - loss: 3.1942 - acc: 0.0783 - val_loss: 3.2189 - val_acc: 0.0526\n",
      "Epoch 36/50\n",
      "166/166 [==============================] - 29s 176ms/step - loss: 3.2012 - acc: 0.0602 - val_loss: 3.2084 - val_acc: 0.1579\n",
      "Epoch 37/50\n",
      "166/166 [==============================] - 30s 180ms/step - loss: 3.1934 - acc: 0.0361 - val_loss: 3.2244 - val_acc: 0.0526\n",
      "Epoch 38/50\n",
      "166/166 [==============================] - 31s 187ms/step - loss: 3.1977 - acc: 0.0663 - val_loss: 3.2192 - val_acc: 0.0526\n",
      "Epoch 39/50\n",
      "166/166 [==============================] - 30s 180ms/step - loss: 3.1937 - acc: 0.0602 - val_loss: 3.2353 - val_acc: 0.0526\n",
      "Epoch 40/50\n",
      "166/166 [==============================] - 30s 182ms/step - loss: 3.1998 - acc: 0.0602 - val_loss: 3.2260 - val_acc: 0.0000e+00\n",
      "Epoch 41/50\n",
      "166/166 [==============================] - 30s 180ms/step - loss: 3.1964 - acc: 0.0723 - val_loss: 3.2334 - val_acc: 0.0526\n",
      "Epoch 42/50\n",
      "166/166 [==============================] - 31s 187ms/step - loss: 3.1968 - acc: 0.0723 - val_loss: 3.2491 - val_acc: 0.0526\n",
      "Epoch 43/50\n",
      "166/166 [==============================] - 30s 183ms/step - loss: 3.1975 - acc: 0.0723 - val_loss: 3.1872 - val_acc: 0.2105\n",
      "Epoch 44/50\n",
      "166/166 [==============================] - 32s 193ms/step - loss: 3.1945 - acc: 0.0723 - val_loss: 3.2169 - val_acc: 0.0000e+00\n",
      "Epoch 45/50\n",
      "166/166 [==============================] - 31s 185ms/step - loss: 3.1940 - acc: 0.0723 - val_loss: 3.2203 - val_acc: 0.0000e+00\n",
      "Epoch 46/50\n",
      "166/166 [==============================] - 20s 121ms/step - loss: 3.1932 - acc: 0.0602 - val_loss: 3.2177 - val_acc: 0.0000e+00\n",
      "Epoch 47/50\n",
      "166/166 [==============================] - 19s 117ms/step - loss: 3.1976 - acc: 0.0602 - val_loss: 3.2306 - val_acc: 0.0000e+00\n",
      "Epoch 48/50\n",
      "166/166 [==============================] - 19s 116ms/step - loss: 3.1953 - acc: 0.0361 - val_loss: 3.2104 - val_acc: 0.2105\n",
      "Epoch 49/50\n",
      "166/166 [==============================] - 19s 113ms/step - loss: 3.1944 - acc: 0.0422 - val_loss: 3.2076 - val_acc: 0.2105\n",
      "Epoch 50/50\n",
      "166/166 [==============================] - 18s 111ms/step - loss: 3.1963 - acc: 0.0301 - val_loss: 3.2120 - val_acc: 0.2105\n"
     ]
    },
    {
     "data": {
      "text/plain": [
       "<keras.callbacks.History at 0x179c8778eb8>"
      ]
     },
     "execution_count": 15,
     "metadata": {},
     "output_type": "execute_result"
    }
   ],
   "source": [
    "batch_size = 32\n",
    "epochs = 50\n",
    "\n",
    "model.fit(X_train, y_train, batch_size=batch_size, epochs=epochs, validation_data=[X_test, y_test])"
   ]
  },
  {
   "cell_type": "markdown",
   "metadata": {},
   "source": [
    "#### model2 no imbedding, adam optimizer"
   ]
  },
  {
   "cell_type": "code",
   "execution_count": 16,
   "metadata": {},
   "outputs": [],
   "source": [
    "X_train = X_train.reshape((X_train.shape[0],X_train.shape[1],1))\n",
    "X_test = X_test.reshape((X_test.shape[0], X_test.shape[1], 1))\n",
    "\n",
    "rnn1_size = 224\n",
    "rnn2_size = 384\n",
    "dropout_rate = 0.4\n",
    "loss = 'categorical_crossentropy'\n",
    "metrics = ['accuracy']\n",
    "num_classes = 31\n",
    "optimizer = 'adam' #use adam optimizer\n",
    "\n",
    "model_1 = Sequential()\n",
    "model_1.add(LSTM(rnn1_size, return_sequences=True, input_shape=(276,1))) #276\n",
    "model_1.add(LSTM(rnn2_size))\n",
    "model_1.add(Dense(num_classes, activation='softmax'))\n",
    "model_1.compile(optimizer=optimizer, loss=loss, metrics=metrics)"
   ]
  },
  {
   "cell_type": "code",
   "execution_count": 17,
   "metadata": {},
   "outputs": [
    {
     "name": "stdout",
     "output_type": "stream",
     "text": [
      "Train on 166 samples, validate on 19 samples\n",
      "Epoch 1/50\n",
      "166/166 [==============================] - 18s 111ms/step - loss: 3.4318 - acc: 0.0301 - val_loss: 3.2489 - val_acc: 0.0526\n",
      "Epoch 2/50\n",
      "166/166 [==============================] - 16s 96ms/step - loss: 3.2947 - acc: 0.0482 - val_loss: 3.2740 - val_acc: 0.0000e+00\n",
      "Epoch 3/50\n",
      "166/166 [==============================] - 16s 99ms/step - loss: 3.2554 - acc: 0.0663 - val_loss: 3.2637 - val_acc: 0.0526\n",
      "Epoch 4/50\n",
      "166/166 [==============================] - 17s 101ms/step - loss: 3.2651 - acc: 0.0663 - val_loss: 3.2877 - val_acc: 0.0000e+00\n",
      "Epoch 5/50\n",
      "166/166 [==============================] - 17s 104ms/step - loss: 3.2373 - acc: 0.0663 - val_loss: 3.3340 - val_acc: 0.0000e+00\n",
      "Epoch 6/50\n",
      "166/166 [==============================] - 17s 104ms/step - loss: 3.2375 - acc: 0.0482 - val_loss: 3.3037 - val_acc: 0.0000e+00\n",
      "Epoch 7/50\n",
      "166/166 [==============================] - 17s 100ms/step - loss: 3.2291 - acc: 0.0663 - val_loss: 3.2345 - val_acc: 0.0000e+00\n",
      "Epoch 8/50\n",
      "166/166 [==============================] - 17s 100ms/step - loss: 3.2217 - acc: 0.0663 - val_loss: 3.2177 - val_acc: 0.0000e+00\n",
      "Epoch 9/50\n",
      "166/166 [==============================] - 17s 105ms/step - loss: 3.2168 - acc: 0.0783 - val_loss: 3.2484 - val_acc: 0.0000e+00\n",
      "Epoch 10/50\n",
      "166/166 [==============================] - 17s 105ms/step - loss: 3.2167 - acc: 0.0482 - val_loss: 3.2876 - val_acc: 0.0526\n",
      "Epoch 11/50\n",
      "166/166 [==============================] - 17s 104ms/step - loss: 3.2217 - acc: 0.0663 - val_loss: 3.2550 - val_acc: 0.0526\n",
      "Epoch 12/50\n",
      "166/166 [==============================] - 18s 108ms/step - loss: 3.2252 - acc: 0.0482 - val_loss: 3.2296 - val_acc: 0.2105\n",
      "Epoch 13/50\n",
      "166/166 [==============================] - 17s 104ms/step - loss: 3.2191 - acc: 0.0663 - val_loss: 3.2165 - val_acc: 0.2105\n",
      "Epoch 14/50\n",
      "166/166 [==============================] - 18s 106ms/step - loss: 3.2149 - acc: 0.0663 - val_loss: 3.2059 - val_acc: 0.2105\n",
      "Epoch 15/50\n",
      "166/166 [==============================] - 17s 104ms/step - loss: 3.2110 - acc: 0.0663 - val_loss: 3.2134 - val_acc: 0.2105\n",
      "Epoch 16/50\n",
      "166/166 [==============================] - 17s 103ms/step - loss: 3.2157 - acc: 0.0663 - val_loss: 3.2077 - val_acc: 0.0000e+00\n",
      "Epoch 17/50\n",
      "166/166 [==============================] - 17s 103ms/step - loss: 3.2156 - acc: 0.0602 - val_loss: 3.2297 - val_acc: 0.0000e+00\n",
      "Epoch 18/50\n",
      "166/166 [==============================] - 18s 109ms/step - loss: 3.2066 - acc: 0.0723 - val_loss: 3.2007 - val_acc: 0.2105\n",
      "Epoch 19/50\n",
      "166/166 [==============================] - 18s 108ms/step - loss: 3.2086 - acc: 0.0663 - val_loss: 3.1519 - val_acc: 0.2105\n",
      "Epoch 20/50\n",
      "166/166 [==============================] - 19s 113ms/step - loss: 3.2151 - acc: 0.0663 - val_loss: 3.1504 - val_acc: 0.2105\n",
      "Epoch 21/50\n",
      "166/166 [==============================] - 16s 94ms/step - loss: 3.2146 - acc: 0.0663 - val_loss: 3.1721 - val_acc: 0.2105\n",
      "Epoch 22/50\n",
      "166/166 [==============================] - 16s 98ms/step - loss: 3.2061 - acc: 0.0663 - val_loss: 3.1830 - val_acc: 0.0000e+00\n",
      "Epoch 23/50\n",
      "166/166 [==============================] - 16s 95ms/step - loss: 3.2125 - acc: 0.0663 - val_loss: 3.2088 - val_acc: 0.0000e+00\n",
      "Epoch 24/50\n",
      "166/166 [==============================] - 16s 99ms/step - loss: 3.2104 - acc: 0.0723 - val_loss: 3.1723 - val_acc: 0.2105\n",
      "Epoch 25/50\n",
      "166/166 [==============================] - 19s 116ms/step - loss: 3.2136 - acc: 0.0663 - val_loss: 3.1497 - val_acc: 0.2105\n",
      "Epoch 26/50\n",
      "166/166 [==============================] - 17s 102ms/step - loss: 3.2054 - acc: 0.0663 - val_loss: 3.1878 - val_acc: 0.2105\n",
      "Epoch 27/50\n",
      "166/166 [==============================] - 15s 92ms/step - loss: 3.2101 - acc: 0.0602 - val_loss: 3.2318 - val_acc: 0.0526\n",
      "Epoch 28/50\n",
      "166/166 [==============================] - 15s 93ms/step - loss: 3.2063 - acc: 0.0663 - val_loss: 3.2386 - val_acc: 0.0526\n",
      "Epoch 29/50\n",
      "166/166 [==============================] - 16s 99ms/step - loss: 3.2088 - acc: 0.0663 - val_loss: 3.2414 - val_acc: 0.0526\n",
      "Epoch 30/50\n",
      "166/166 [==============================] - 16s 98ms/step - loss: 3.2066 - acc: 0.0663 - val_loss: 3.2131 - val_acc: 0.0000e+00\n",
      "Epoch 31/50\n",
      "166/166 [==============================] - 17s 104ms/step - loss: 3.2013 - acc: 0.0663 - val_loss: 3.2064 - val_acc: 0.0000e+00\n",
      "Epoch 32/50\n",
      "166/166 [==============================] - 16s 95ms/step - loss: 3.2073 - acc: 0.0663 - val_loss: 3.2154 - val_acc: 0.0000e+00\n",
      "Epoch 33/50\n",
      "166/166 [==============================] - 16s 94ms/step - loss: 3.2063 - acc: 0.0663 - val_loss: 3.1901 - val_acc: 0.0000e+00\n",
      "Epoch 34/50\n",
      "166/166 [==============================] - 16s 96ms/step - loss: 3.2068 - acc: 0.0783 - val_loss: 3.1601 - val_acc: 0.2105\n",
      "Epoch 35/50\n",
      "166/166 [==============================] - 16s 94ms/step - loss: 3.2072 - acc: 0.0663 - val_loss: 3.1308 - val_acc: 0.2105\n",
      "Epoch 36/50\n",
      "166/166 [==============================] - 16s 94ms/step - loss: 3.2100 - acc: 0.0663 - val_loss: 3.1126 - val_acc: 0.2105\n",
      "Epoch 37/50\n",
      "166/166 [==============================] - 16s 98ms/step - loss: 3.2064 - acc: 0.0663 - val_loss: 3.1409 - val_acc: 0.2105\n",
      "Epoch 38/50\n",
      "166/166 [==============================] - 16s 97ms/step - loss: 3.2030 - acc: 0.0783 - val_loss: 3.1695 - val_acc: 0.0000e+00\n",
      "Epoch 39/50\n",
      "166/166 [==============================] - 16s 95ms/step - loss: 3.2068 - acc: 0.0663 - val_loss: 3.2004 - val_acc: 0.0000e+00\n",
      "Epoch 40/50\n",
      "166/166 [==============================] - 16s 96ms/step - loss: 3.2125 - acc: 0.0663 - val_loss: 3.2281 - val_acc: 0.0000e+00\n",
      "Epoch 41/50\n",
      "166/166 [==============================] - 16s 94ms/step - loss: 3.2095 - acc: 0.0663 - val_loss: 3.2112 - val_acc: 0.0000e+00\n",
      "Epoch 42/50\n",
      "166/166 [==============================] - 17s 103ms/step - loss: 3.2057 - acc: 0.0663 - val_loss: 3.2175 - val_acc: 0.0000e+00\n",
      "Epoch 43/50\n",
      "166/166 [==============================] - 16s 95ms/step - loss: 3.2039 - acc: 0.0602 - val_loss: 3.2229 - val_acc: 0.0526\n",
      "Epoch 44/50\n",
      "166/166 [==============================] - 16s 95ms/step - loss: 3.2039 - acc: 0.0542 - val_loss: 3.2193 - val_acc: 0.0526\n",
      "Epoch 45/50\n",
      "166/166 [==============================] - 16s 97ms/step - loss: 3.2048 - acc: 0.0663 - val_loss: 3.2365 - val_acc: 0.0000e+00\n",
      "Epoch 46/50\n",
      "166/166 [==============================] - 16s 95ms/step - loss: 3.2092 - acc: 0.0663 - val_loss: 3.2553 - val_acc: 0.0000e+00\n",
      "Epoch 47/50\n",
      "166/166 [==============================] - 16s 99ms/step - loss: 3.2083 - acc: 0.0482 - val_loss: 3.2260 - val_acc: 0.0000e+00\n",
      "Epoch 48/50\n",
      "166/166 [==============================] - 16s 98ms/step - loss: 3.2090 - acc: 0.0663 - val_loss: 3.1941 - val_acc: 0.0000e+00\n",
      "Epoch 49/50\n",
      "166/166 [==============================] - 16s 96ms/step - loss: 3.2014 - acc: 0.0663 - val_loss: 3.1979 - val_acc: 0.0526\n",
      "Epoch 50/50\n",
      "166/166 [==============================] - 16s 97ms/step - loss: 3.2010 - acc: 0.0663 - val_loss: 3.2023 - val_acc: 0.0526\n"
     ]
    },
    {
     "data": {
      "text/plain": [
       "<keras.callbacks.History at 0x179c87782b0>"
      ]
     },
     "execution_count": 17,
     "metadata": {},
     "output_type": "execute_result"
    }
   ],
   "source": [
    "batch_size = 32\n",
    "epochs = 50\n",
    "\n",
    "model_1.fit(X_train, y_train, batch_size=batch_size, epochs=epochs, validation_data=[X_test, y_test])"
   ]
  },
  {
   "cell_type": "code",
   "execution_count": 33,
   "metadata": {},
   "outputs": [
    {
     "name": "stdout",
     "output_type": "stream",
     "text": [
      "_________________________________________________________________\n",
      "Layer (type)                 Output Shape              Param #   \n",
      "=================================================================\n",
      "lstm_9 (LSTM)                (None, 276, 224)          202496    \n",
      "_________________________________________________________________\n",
      "lstm_10 (LSTM)               (None, 384)               935424    \n",
      "_________________________________________________________________\n",
      "dense_5 (Dense)              (None, 31)                11935     \n",
      "=================================================================\n",
      "Total params: 1,149,855\n",
      "Trainable params: 1,149,855\n",
      "Non-trainable params: 0\n",
      "_________________________________________________________________\n"
     ]
    }
   ],
   "source": [
    "model_1.summary()"
   ]
  },
  {
   "cell_type": "code",
   "execution_count": 18,
   "metadata": {},
   "outputs": [
    {
     "name": "stdout",
     "output_type": "stream",
     "text": [
      "Train on 166 samples, validate on 19 samples\n",
      "Epoch 1/100\n",
      "166/166 [==============================] - 15s 92ms/step - loss: 3.2025 - acc: 0.0663 - val_loss: 3.2026 - val_acc: 0.0000e+00\n",
      "Epoch 2/100\n",
      "166/166 [==============================] - 16s 96ms/step - loss: 3.2051 - acc: 0.0602 - val_loss: 3.2025 - val_acc: 0.2105\n",
      "Epoch 3/100\n",
      "166/166 [==============================] - 15s 93ms/step - loss: 3.2032 - acc: 0.0663 - val_loss: 3.2192 - val_acc: 0.2105\n",
      "Epoch 4/100\n",
      "166/166 [==============================] - 16s 93ms/step - loss: 3.2092 - acc: 0.0783 - val_loss: 3.2435 - val_acc: 0.0000e+00\n",
      "Epoch 5/100\n",
      "166/166 [==============================] - 15s 93ms/step - loss: 3.2092 - acc: 0.0663 - val_loss: 3.2617 - val_acc: 0.0000e+00\n",
      "Epoch 6/100\n",
      "166/166 [==============================] - 15s 92ms/step - loss: 3.2055 - acc: 0.0783 - val_loss: 3.2557 - val_acc: 0.0000e+00\n",
      "Epoch 7/100\n",
      "166/166 [==============================] - 15s 93ms/step - loss: 3.2037 - acc: 0.0663 - val_loss: 3.2394 - val_acc: 0.0000e+00\n",
      "Epoch 8/100\n",
      "166/166 [==============================] - 17s 101ms/step - loss: 3.2031 - acc: 0.0663 - val_loss: 3.2249 - val_acc: 0.0000e+00\n",
      "Epoch 9/100\n",
      "128/166 [======================>.......] - ETA: 3s - loss: 3.1783 - acc: 0.0547"
     ]
    },
    {
     "ename": "KeyboardInterrupt",
     "evalue": "",
     "output_type": "error",
     "traceback": [
      "\u001b[1;31m---------------------------------------------------------------------------\u001b[0m",
      "\u001b[1;31mKeyboardInterrupt\u001b[0m                         Traceback (most recent call last)",
      "\u001b[1;32m<ipython-input-18-b47e137dc673>\u001b[0m in \u001b[0;36m<module>\u001b[1;34m\u001b[0m\n\u001b[1;32m----> 1\u001b[1;33m \u001b[0mmodel_1\u001b[0m\u001b[1;33m.\u001b[0m\u001b[0mfit\u001b[0m\u001b[1;33m(\u001b[0m\u001b[0mX_train\u001b[0m\u001b[1;33m,\u001b[0m \u001b[0my_train\u001b[0m\u001b[1;33m,\u001b[0m \u001b[0mbatch_size\u001b[0m\u001b[1;33m=\u001b[0m\u001b[0mbatch_size\u001b[0m\u001b[1;33m,\u001b[0m \u001b[0mepochs\u001b[0m\u001b[1;33m=\u001b[0m\u001b[1;36m100\u001b[0m\u001b[1;33m,\u001b[0m \u001b[0mvalidation_data\u001b[0m\u001b[1;33m=\u001b[0m\u001b[1;33m[\u001b[0m\u001b[0mX_test\u001b[0m\u001b[1;33m,\u001b[0m \u001b[0my_test\u001b[0m\u001b[1;33m]\u001b[0m\u001b[1;33m)\u001b[0m\u001b[1;33m\u001b[0m\u001b[1;33m\u001b[0m\u001b[0m\n\u001b[0m",
      "\u001b[1;32m~\\.conda\\envs\\test_speedcom\\lib\\site-packages\\keras\\engine\\training.py\u001b[0m in \u001b[0;36mfit\u001b[1;34m(self, x, y, batch_size, epochs, verbose, callbacks, validation_split, validation_data, shuffle, class_weight, sample_weight, initial_epoch, steps_per_epoch, validation_steps, **kwargs)\u001b[0m\n\u001b[0;32m   1037\u001b[0m                                         \u001b[0minitial_epoch\u001b[0m\u001b[1;33m=\u001b[0m\u001b[0minitial_epoch\u001b[0m\u001b[1;33m,\u001b[0m\u001b[1;33m\u001b[0m\u001b[1;33m\u001b[0m\u001b[0m\n\u001b[0;32m   1038\u001b[0m                                         \u001b[0msteps_per_epoch\u001b[0m\u001b[1;33m=\u001b[0m\u001b[0msteps_per_epoch\u001b[0m\u001b[1;33m,\u001b[0m\u001b[1;33m\u001b[0m\u001b[1;33m\u001b[0m\u001b[0m\n\u001b[1;32m-> 1039\u001b[1;33m                                         validation_steps=validation_steps)\n\u001b[0m\u001b[0;32m   1040\u001b[0m \u001b[1;33m\u001b[0m\u001b[0m\n\u001b[0;32m   1041\u001b[0m     def evaluate(self, x=None, y=None,\n",
      "\u001b[1;32m~\\.conda\\envs\\test_speedcom\\lib\\site-packages\\keras\\engine\\training_arrays.py\u001b[0m in \u001b[0;36mfit_loop\u001b[1;34m(model, f, ins, out_labels, batch_size, epochs, verbose, callbacks, val_f, val_ins, shuffle, callback_metrics, initial_epoch, steps_per_epoch, validation_steps)\u001b[0m\n\u001b[0;32m    197\u001b[0m                     \u001b[0mins_batch\u001b[0m\u001b[1;33m[\u001b[0m\u001b[0mi\u001b[0m\u001b[1;33m]\u001b[0m \u001b[1;33m=\u001b[0m \u001b[0mins_batch\u001b[0m\u001b[1;33m[\u001b[0m\u001b[0mi\u001b[0m\u001b[1;33m]\u001b[0m\u001b[1;33m.\u001b[0m\u001b[0mtoarray\u001b[0m\u001b[1;33m(\u001b[0m\u001b[1;33m)\u001b[0m\u001b[1;33m\u001b[0m\u001b[1;33m\u001b[0m\u001b[0m\n\u001b[0;32m    198\u001b[0m \u001b[1;33m\u001b[0m\u001b[0m\n\u001b[1;32m--> 199\u001b[1;33m                 \u001b[0mouts\u001b[0m \u001b[1;33m=\u001b[0m \u001b[0mf\u001b[0m\u001b[1;33m(\u001b[0m\u001b[0mins_batch\u001b[0m\u001b[1;33m)\u001b[0m\u001b[1;33m\u001b[0m\u001b[1;33m\u001b[0m\u001b[0m\n\u001b[0m\u001b[0;32m    200\u001b[0m                 \u001b[0mouts\u001b[0m \u001b[1;33m=\u001b[0m \u001b[0mto_list\u001b[0m\u001b[1;33m(\u001b[0m\u001b[0mouts\u001b[0m\u001b[1;33m)\u001b[0m\u001b[1;33m\u001b[0m\u001b[1;33m\u001b[0m\u001b[0m\n\u001b[0;32m    201\u001b[0m                 \u001b[1;32mfor\u001b[0m \u001b[0ml\u001b[0m\u001b[1;33m,\u001b[0m \u001b[0mo\u001b[0m \u001b[1;32min\u001b[0m \u001b[0mzip\u001b[0m\u001b[1;33m(\u001b[0m\u001b[0mout_labels\u001b[0m\u001b[1;33m,\u001b[0m \u001b[0mouts\u001b[0m\u001b[1;33m)\u001b[0m\u001b[1;33m:\u001b[0m\u001b[1;33m\u001b[0m\u001b[1;33m\u001b[0m\u001b[0m\n",
      "\u001b[1;32m~\\.conda\\envs\\test_speedcom\\lib\\site-packages\\keras\\backend\\tensorflow_backend.py\u001b[0m in \u001b[0;36m__call__\u001b[1;34m(self, inputs)\u001b[0m\n\u001b[0;32m   2713\u001b[0m                 \u001b[1;32mreturn\u001b[0m \u001b[0mself\u001b[0m\u001b[1;33m.\u001b[0m\u001b[0m_legacy_call\u001b[0m\u001b[1;33m(\u001b[0m\u001b[0minputs\u001b[0m\u001b[1;33m)\u001b[0m\u001b[1;33m\u001b[0m\u001b[1;33m\u001b[0m\u001b[0m\n\u001b[0;32m   2714\u001b[0m \u001b[1;33m\u001b[0m\u001b[0m\n\u001b[1;32m-> 2715\u001b[1;33m             \u001b[1;32mreturn\u001b[0m \u001b[0mself\u001b[0m\u001b[1;33m.\u001b[0m\u001b[0m_call\u001b[0m\u001b[1;33m(\u001b[0m\u001b[0minputs\u001b[0m\u001b[1;33m)\u001b[0m\u001b[1;33m\u001b[0m\u001b[1;33m\u001b[0m\u001b[0m\n\u001b[0m\u001b[0;32m   2716\u001b[0m         \u001b[1;32melse\u001b[0m\u001b[1;33m:\u001b[0m\u001b[1;33m\u001b[0m\u001b[1;33m\u001b[0m\u001b[0m\n\u001b[0;32m   2717\u001b[0m             \u001b[1;32mif\u001b[0m \u001b[0mpy_any\u001b[0m\u001b[1;33m(\u001b[0m\u001b[0mis_tensor\u001b[0m\u001b[1;33m(\u001b[0m\u001b[0mx\u001b[0m\u001b[1;33m)\u001b[0m \u001b[1;32mfor\u001b[0m \u001b[0mx\u001b[0m \u001b[1;32min\u001b[0m \u001b[0minputs\u001b[0m\u001b[1;33m)\u001b[0m\u001b[1;33m:\u001b[0m\u001b[1;33m\u001b[0m\u001b[1;33m\u001b[0m\u001b[0m\n",
      "\u001b[1;32m~\\.conda\\envs\\test_speedcom\\lib\\site-packages\\keras\\backend\\tensorflow_backend.py\u001b[0m in \u001b[0;36m_call\u001b[1;34m(self, inputs)\u001b[0m\n\u001b[0;32m   2673\u001b[0m             \u001b[0mfetched\u001b[0m \u001b[1;33m=\u001b[0m \u001b[0mself\u001b[0m\u001b[1;33m.\u001b[0m\u001b[0m_callable_fn\u001b[0m\u001b[1;33m(\u001b[0m\u001b[1;33m*\u001b[0m\u001b[0marray_vals\u001b[0m\u001b[1;33m,\u001b[0m \u001b[0mrun_metadata\u001b[0m\u001b[1;33m=\u001b[0m\u001b[0mself\u001b[0m\u001b[1;33m.\u001b[0m\u001b[0mrun_metadata\u001b[0m\u001b[1;33m)\u001b[0m\u001b[1;33m\u001b[0m\u001b[1;33m\u001b[0m\u001b[0m\n\u001b[0;32m   2674\u001b[0m         \u001b[1;32melse\u001b[0m\u001b[1;33m:\u001b[0m\u001b[1;33m\u001b[0m\u001b[1;33m\u001b[0m\u001b[0m\n\u001b[1;32m-> 2675\u001b[1;33m             \u001b[0mfetched\u001b[0m \u001b[1;33m=\u001b[0m \u001b[0mself\u001b[0m\u001b[1;33m.\u001b[0m\u001b[0m_callable_fn\u001b[0m\u001b[1;33m(\u001b[0m\u001b[1;33m*\u001b[0m\u001b[0marray_vals\u001b[0m\u001b[1;33m)\u001b[0m\u001b[1;33m\u001b[0m\u001b[1;33m\u001b[0m\u001b[0m\n\u001b[0m\u001b[0;32m   2676\u001b[0m         \u001b[1;32mreturn\u001b[0m \u001b[0mfetched\u001b[0m\u001b[1;33m[\u001b[0m\u001b[1;33m:\u001b[0m\u001b[0mlen\u001b[0m\u001b[1;33m(\u001b[0m\u001b[0mself\u001b[0m\u001b[1;33m.\u001b[0m\u001b[0moutputs\u001b[0m\u001b[1;33m)\u001b[0m\u001b[1;33m]\u001b[0m\u001b[1;33m\u001b[0m\u001b[1;33m\u001b[0m\u001b[0m\n\u001b[0;32m   2677\u001b[0m \u001b[1;33m\u001b[0m\u001b[0m\n",
      "\u001b[1;32m~\\AppData\\Roaming\\Python\\Python36\\site-packages\\tensorflow\\python\\client\\session.py\u001b[0m in \u001b[0;36m__call__\u001b[1;34m(self, *args, **kwargs)\u001b[0m\n\u001b[0;32m   1437\u001b[0m           ret = tf_session.TF_SessionRunCallable(\n\u001b[0;32m   1438\u001b[0m               \u001b[0mself\u001b[0m\u001b[1;33m.\u001b[0m\u001b[0m_session\u001b[0m\u001b[1;33m.\u001b[0m\u001b[0m_session\u001b[0m\u001b[1;33m,\u001b[0m \u001b[0mself\u001b[0m\u001b[1;33m.\u001b[0m\u001b[0m_handle\u001b[0m\u001b[1;33m,\u001b[0m \u001b[0margs\u001b[0m\u001b[1;33m,\u001b[0m \u001b[0mstatus\u001b[0m\u001b[1;33m,\u001b[0m\u001b[1;33m\u001b[0m\u001b[1;33m\u001b[0m\u001b[0m\n\u001b[1;32m-> 1439\u001b[1;33m               run_metadata_ptr)\n\u001b[0m\u001b[0;32m   1440\u001b[0m         \u001b[1;32mif\u001b[0m \u001b[0mrun_metadata\u001b[0m\u001b[1;33m:\u001b[0m\u001b[1;33m\u001b[0m\u001b[1;33m\u001b[0m\u001b[0m\n\u001b[0;32m   1441\u001b[0m           \u001b[0mproto_data\u001b[0m \u001b[1;33m=\u001b[0m \u001b[0mtf_session\u001b[0m\u001b[1;33m.\u001b[0m\u001b[0mTF_GetBuffer\u001b[0m\u001b[1;33m(\u001b[0m\u001b[0mrun_metadata_ptr\u001b[0m\u001b[1;33m)\u001b[0m\u001b[1;33m\u001b[0m\u001b[1;33m\u001b[0m\u001b[0m\n",
      "\u001b[1;31mKeyboardInterrupt\u001b[0m: "
     ]
    }
   ],
   "source": [
    "model_1.fit(X_train, y_train, batch_size=batch_size, epochs=100, validation_data=[X_test, y_test])"
   ]
  },
  {
   "cell_type": "code",
   "execution_count": null,
   "metadata": {},
   "outputs": [],
   "source": []
  },
  {
   "cell_type": "code",
   "execution_count": null,
   "metadata": {},
   "outputs": [],
   "source": []
  }
 ],
 "metadata": {
  "kernelspec": {
   "display_name": "test_speedcom",
   "language": "python",
   "name": "test_speedcom"
  },
  "language_info": {
   "codemirror_mode": {
    "name": "ipython",
    "version": 3
   },
   "file_extension": ".py",
   "mimetype": "text/x-python",
   "name": "python",
   "nbconvert_exporter": "python",
   "pygments_lexer": "ipython3",
   "version": "3.6.8"
  }
 },
 "nbformat": 4,
 "nbformat_minor": 2
}
