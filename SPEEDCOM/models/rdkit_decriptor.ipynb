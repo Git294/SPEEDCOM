{
 "cells": [
  {
   "cell_type": "code",
   "execution_count": 1,
   "metadata": {},
   "outputs": [],
   "source": [
    "import pandas as pd\n",
    "\n",
    "import rdkit\n",
    "from rdkit import Chem\n",
    "from rdkit.Chem import Descriptors"
   ]
  },
  {
   "cell_type": "code",
   "execution_count": 2,
   "metadata": {},
   "outputs": [
    {
     "data": {
      "text/html": [
       "<div>\n",
       "<style scoped>\n",
       "    .dataframe tbody tr th:only-of-type {\n",
       "        vertical-align: middle;\n",
       "    }\n",
       "\n",
       "    .dataframe tbody tr th {\n",
       "        vertical-align: top;\n",
       "    }\n",
       "\n",
       "    .dataframe thead th {\n",
       "        text-align: right;\n",
       "    }\n",
       "</style>\n",
       "<table border=\"1\" class=\"dataframe\">\n",
       "  <thead>\n",
       "    <tr style=\"text-align: right;\">\n",
       "      <th></th>\n",
       "      <th>Name</th>\n",
       "      <th>name_smiles</th>\n",
       "      <th>Wavelength</th>\n",
       "      <th>Epsilon</th>\n",
       "      <th>Quantum Yield</th>\n",
       "    </tr>\n",
       "    <tr>\n",
       "      <th>#</th>\n",
       "      <th></th>\n",
       "      <th></th>\n",
       "      <th></th>\n",
       "      <th></th>\n",
       "      <th></th>\n",
       "    </tr>\n",
       "  </thead>\n",
       "  <tbody>\n",
       "    <tr>\n",
       "      <th>1</th>\n",
       "      <td>Benzene</td>\n",
       "      <td>C1=CC=CC=C1</td>\n",
       "      <td>254.75</td>\n",
       "      <td>210</td>\n",
       "      <td>0.0530</td>\n",
       "    </tr>\n",
       "    <tr>\n",
       "      <th>2</th>\n",
       "      <td>Toluene</td>\n",
       "      <td>CC1=CC=CC=C1</td>\n",
       "      <td>261.75</td>\n",
       "      <td>2,860</td>\n",
       "      <td>0.1700</td>\n",
       "    </tr>\n",
       "    <tr>\n",
       "      <th>3</th>\n",
       "      <td>o-Xylene</td>\n",
       "      <td>CC1=CC=CC=C1C</td>\n",
       "      <td>263.00</td>\n",
       "      <td>254</td>\n",
       "      <td>0.1700</td>\n",
       "    </tr>\n",
       "    <tr>\n",
       "      <th>4</th>\n",
       "      <td>m-Xylene</td>\n",
       "      <td>CC1=CC(=CC=C1)C</td>\n",
       "      <td>265.00</td>\n",
       "      <td>284</td>\n",
       "      <td>0.1300</td>\n",
       "    </tr>\n",
       "    <tr>\n",
       "      <th>5</th>\n",
       "      <td>p-Xylene</td>\n",
       "      <td>CC1=CC=C(C=C1)C</td>\n",
       "      <td>275.00</td>\n",
       "      <td>770</td>\n",
       "      <td>0.2200</td>\n",
       "    </tr>\n",
       "    <tr>\n",
       "      <th>6</th>\n",
       "      <td>Mesitylene</td>\n",
       "      <td>CC1=CC(=CC(=C1)C)C</td>\n",
       "      <td>265.00</td>\n",
       "      <td>190</td>\n",
       "      <td>0.0880</td>\n",
       "    </tr>\n",
       "    <tr>\n",
       "      <th>7</th>\n",
       "      <td>Durene</td>\n",
       "      <td>CC1=CC(=C(C=C1C)C)C</td>\n",
       "      <td>278.00</td>\n",
       "      <td>214</td>\n",
       "      <td>0.3000</td>\n",
       "    </tr>\n",
       "    <tr>\n",
       "      <th>8</th>\n",
       "      <td>Pentamethylbenzene</td>\n",
       "      <td>CC1=CC(=C(C(=C1C)C)C)C</td>\n",
       "      <td>271.00</td>\n",
       "      <td>629</td>\n",
       "      <td>0.0750</td>\n",
       "    </tr>\n",
       "    <tr>\n",
       "      <th>9</th>\n",
       "      <td>Hexamethylbenzene</td>\n",
       "      <td>CC1=C(C(=C(C(=C1C)C)C)C)C</td>\n",
       "      <td>271.00</td>\n",
       "      <td>214</td>\n",
       "      <td>0.0100</td>\n",
       "    </tr>\n",
       "    <tr>\n",
       "      <th>10</th>\n",
       "      <td>Phenol</td>\n",
       "      <td>C1=CC=C(C=C1)O</td>\n",
       "      <td>270.75</td>\n",
       "      <td>2,340</td>\n",
       "      <td>0.0750</td>\n",
       "    </tr>\n",
       "    <tr>\n",
       "      <th>11</th>\n",
       "      <td>Anisole</td>\n",
       "      <td>COC1=CC=CC=C1</td>\n",
       "      <td>220.00</td>\n",
       "      <td>7800</td>\n",
       "      <td>0.4500</td>\n",
       "    </tr>\n",
       "    <tr>\n",
       "      <th>12</th>\n",
       "      <td>Benzonitrile</td>\n",
       "      <td>C1=CC=C(C=C1)C#N</td>\n",
       "      <td>222.00</td>\n",
       "      <td>13,100</td>\n",
       "      <td>0.2300</td>\n",
       "    </tr>\n",
       "    <tr>\n",
       "      <th>13</th>\n",
       "      <td>Benzaldehyde</td>\n",
       "      <td>C1=CC=C(C=C1)C=O</td>\n",
       "      <td>242.00</td>\n",
       "      <td>13,200</td>\n",
       "      <td>0.0000</td>\n",
       "    </tr>\n",
       "    <tr>\n",
       "      <th>14</th>\n",
       "      <td>Benzoic acid</td>\n",
       "      <td>C1=CC=C(C=C1)C(=O)O</td>\n",
       "      <td>227.00</td>\n",
       "      <td>8,270</td>\n",
       "      <td>0.0000</td>\n",
       "    </tr>\n",
       "    <tr>\n",
       "      <th>15</th>\n",
       "      <td>Acetophenone</td>\n",
       "      <td>CC(=O)C1=CC=CC=C1</td>\n",
       "      <td>241.00</td>\n",
       "      <td>12,800</td>\n",
       "      <td>0.0000</td>\n",
       "    </tr>\n",
       "    <tr>\n",
       "      <th>16</th>\n",
       "      <td>Aniline</td>\n",
       "      <td>C1=CC=C(C=C1)N</td>\n",
       "      <td>288.00</td>\n",
       "      <td>1,760</td>\n",
       "      <td>0.1700</td>\n",
       "    </tr>\n",
       "    <tr>\n",
       "      <th>17</th>\n",
       "      <td>N,N-Dimethyl-aniline</td>\n",
       "      <td>CN(C)C1=CC=CC=C1</td>\n",
       "      <td>251.00</td>\n",
       "      <td>14,900</td>\n",
       "      <td>0.1900</td>\n",
       "    </tr>\n",
       "    <tr>\n",
       "      <th>18</th>\n",
       "      <td>Phenylhydrazine Hydrochloride</td>\n",
       "      <td>C1=CC=C(C=C1)NN.Cl</td>\n",
       "      <td>279.00</td>\n",
       "      <td>490</td>\n",
       "      <td>0.0000</td>\n",
       "    </tr>\n",
       "    <tr>\n",
       "      <th>19</th>\n",
       "      <td>Chlorobenzene</td>\n",
       "      <td>C1=CC=C(C=C1)Cl</td>\n",
       "      <td>265.00</td>\n",
       "      <td>280</td>\n",
       "      <td>0.0042</td>\n",
       "    </tr>\n",
       "    <tr>\n",
       "      <th>20</th>\n",
       "      <td>Iodobenzene</td>\n",
       "      <td>C1=CC=C(C=C1)I</td>\n",
       "      <td>228.00</td>\n",
       "      <td>13,200</td>\n",
       "      <td>0.0000</td>\n",
       "    </tr>\n",
       "    <tr>\n",
       "      <th>21</th>\n",
       "      <td>Nitrobenzene</td>\n",
       "      <td>C1=CC=C(C=C1)[N+](=O)[O-]</td>\n",
       "      <td>258.00</td>\n",
       "      <td>8,140</td>\n",
       "      <td>0.0000</td>\n",
       "    </tr>\n",
       "    <tr>\n",
       "      <th>22</th>\n",
       "      <td>Styrene</td>\n",
       "      <td>C=CC1=CC=CC=C1</td>\n",
       "      <td>248.00</td>\n",
       "      <td>14,700</td>\n",
       "      <td>0.2200</td>\n",
       "    </tr>\n",
       "    <tr>\n",
       "      <th>23</th>\n",
       "      <td>Phenylacetylene</td>\n",
       "      <td>C#CC1=CC=CC=C1</td>\n",
       "      <td>236.00</td>\n",
       "      <td>17,600</td>\n",
       "      <td>0.1100</td>\n",
       "    </tr>\n",
       "    <tr>\n",
       "      <th>24</th>\n",
       "      <td>1,4-Diethynylbenzene</td>\n",
       "      <td>C#CC1=CC=C(C=C1)C#C</td>\n",
       "      <td>274.00</td>\n",
       "      <td>28,200</td>\n",
       "      <td>0.1900</td>\n",
       "    </tr>\n",
       "    <tr>\n",
       "      <th>25</th>\n",
       "      <td>Phenylpropargyl aldehyde</td>\n",
       "      <td>C1=CC=C(C=C1)C#CC=O</td>\n",
       "      <td>277.00</td>\n",
       "      <td>5,000</td>\n",
       "      <td>0.0000</td>\n",
       "    </tr>\n",
       "    <tr>\n",
       "      <th>26</th>\n",
       "      <td>Phenylboronic acid</td>\n",
       "      <td>B(C1=CC=CC=C1)(O)O</td>\n",
       "      <td>227.00</td>\n",
       "      <td>9,520</td>\n",
       "      <td>0.2600</td>\n",
       "    </tr>\n",
       "    <tr>\n",
       "      <th>27</th>\n",
       "      <td>Vanillin</td>\n",
       "      <td>COC1=C(C=CC(=C1)C=O)O</td>\n",
       "      <td>222.00</td>\n",
       "      <td>9,770</td>\n",
       "      <td>0.0000</td>\n",
       "    </tr>\n",
       "    <tr>\n",
       "      <th>28</th>\n",
       "      <td>3-Hydroxyacetophenone</td>\n",
       "      <td>CC(=O)C1=CC(=CC=C1)O</td>\n",
       "      <td>218.00</td>\n",
       "      <td>19,000</td>\n",
       "      <td>0.0000</td>\n",
       "    </tr>\n",
       "    <tr>\n",
       "      <th>29</th>\n",
       "      <td>Ethyl 4-(dimethylamino)benzoate</td>\n",
       "      <td>CCOC(=O)C1=CC=C(C=C1)N(C)C</td>\n",
       "      <td>310.25</td>\n",
       "      <td>23,200</td>\n",
       "      <td>0.2900</td>\n",
       "    </tr>\n",
       "    <tr>\n",
       "      <th>30</th>\n",
       "      <td>Gallacetophenone</td>\n",
       "      <td>CC(=O)C1=C(C(=C(C=C1)O)O)O</td>\n",
       "      <td>291.00</td>\n",
       "      <td>12,500</td>\n",
       "      <td>0.0000</td>\n",
       "    </tr>\n",
       "    <tr>\n",
       "      <th>...</th>\n",
       "      <td>...</td>\n",
       "      <td>...</td>\n",
       "      <td>...</td>\n",
       "      <td>...</td>\n",
       "      <td>...</td>\n",
       "    </tr>\n",
       "    <tr>\n",
       "      <th>153</th>\n",
       "      <td>7-Methoxycoumarin-4-acetic acid</td>\n",
       "      <td>COC1=CC2=C(C=C1)C(=CC(=O)O2)CC(=O)O</td>\n",
       "      <td>323.75</td>\n",
       "      <td>11,820</td>\n",
       "      <td>0.1800</td>\n",
       "    </tr>\n",
       "    <tr>\n",
       "      <th>154</th>\n",
       "      <td>Coumarin 1</td>\n",
       "      <td>CCN(CC)C1=CC2=C(C=C1)C(=CC(=O)O2)C</td>\n",
       "      <td>373.25</td>\n",
       "      <td>23,500</td>\n",
       "      <td>0.5000</td>\n",
       "    </tr>\n",
       "    <tr>\n",
       "      <th>155</th>\n",
       "      <td>Coumarin 6</td>\n",
       "      <td>CCN(CC)C1=CC2=C(C=C1)C=C(C(=O)O2)C3=NC4=CC=CC=...</td>\n",
       "      <td>459.25</td>\n",
       "      <td>54,000</td>\n",
       "      <td>0.7800</td>\n",
       "    </tr>\n",
       "    <tr>\n",
       "      <th>156</th>\n",
       "      <td>Coumarin 7</td>\n",
       "      <td>CCN(CC)C1=CC2=C(C=C1)C=C(C(=O)O2)C3=NC4=CC=CC=...</td>\n",
       "      <td>436.00</td>\n",
       "      <td>52,500</td>\n",
       "      <td>0.8200</td>\n",
       "    </tr>\n",
       "    <tr>\n",
       "      <th>157</th>\n",
       "      <td>Coumarin 30</td>\n",
       "      <td>CCN(CC)C1=CC2=C(C=C1)C=C(C(=O)O2)C3=NC4=CC=CC=...</td>\n",
       "      <td>407.50</td>\n",
       "      <td>54,000</td>\n",
       "      <td>0.8000</td>\n",
       "    </tr>\n",
       "    <tr>\n",
       "      <th>158</th>\n",
       "      <td>Coumarin 151</td>\n",
       "      <td>C1=CC2=C(C=C1N)OC(=O)C=C2C(F)(F)F</td>\n",
       "      <td>384.00</td>\n",
       "      <td>17,000</td>\n",
       "      <td>0.5300</td>\n",
       "    </tr>\n",
       "    <tr>\n",
       "      <th>159</th>\n",
       "      <td>Coumarin 314</td>\n",
       "      <td>CCOC(=O)C1=CC2=CC3=C4C(=C2OC1=O)CCCN4CCC3</td>\n",
       "      <td>436.00</td>\n",
       "      <td>46,800</td>\n",
       "      <td>0.6800</td>\n",
       "    </tr>\n",
       "    <tr>\n",
       "      <th>160</th>\n",
       "      <td>Coumarin 343</td>\n",
       "      <td>C1CC2=C3C(=C4C(=C2)C=C(C(=O)O4)C(=O)O)CCCN3C1</td>\n",
       "      <td>444.75</td>\n",
       "      <td>44,300</td>\n",
       "      <td>0.6300</td>\n",
       "    </tr>\n",
       "    <tr>\n",
       "      <th>161</th>\n",
       "      <td>Calcein Blue</td>\n",
       "      <td>CC1=CC(=O)OC2=C1C=CC(=C2CN(CC(=O)O)CC(=O)O)O</td>\n",
       "      <td>361.00</td>\n",
       "      <td>16,100</td>\n",
       "      <td>0.5900</td>\n",
       "    </tr>\n",
       "    <tr>\n",
       "      <th>162</th>\n",
       "      <td>Urolithin B</td>\n",
       "      <td>C1=CC=C2C(=C1)C3=C(C=C(C=C3)O)OC2=O</td>\n",
       "      <td>278.00</td>\n",
       "      <td>11,300</td>\n",
       "      <td>0.2100</td>\n",
       "    </tr>\n",
       "    <tr>\n",
       "      <th>163</th>\n",
       "      <td>Acridine</td>\n",
       "      <td>C1=CC=C2C(=C1)C=C3C=CC=CC3=N2</td>\n",
       "      <td>247.00</td>\n",
       "      <td>178,000</td>\n",
       "      <td>0.0079</td>\n",
       "    </tr>\n",
       "    <tr>\n",
       "      <th>164</th>\n",
       "      <td>Proflavine hydrochloride</td>\n",
       "      <td>C1=CC(=CC2=NC3=C(C=CC(=C3)N)C=C21)N.Cl</td>\n",
       "      <td>261.00</td>\n",
       "      <td>53,700</td>\n",
       "      <td>0.3400</td>\n",
       "    </tr>\n",
       "    <tr>\n",
       "      <th>165</th>\n",
       "      <td>Acridine Orange</td>\n",
       "      <td>CN(C)C1=CC2=C(C=C1)C=C3C=CC(=CC3=N2)N(C)C</td>\n",
       "      <td>270.50</td>\n",
       "      <td>49,100</td>\n",
       "      <td>0.2000</td>\n",
       "    </tr>\n",
       "    <tr>\n",
       "      <th>166</th>\n",
       "      <td>Acridine Yellow G</td>\n",
       "      <td>CC1=CC2=CC3=CC(=C(C=C3N=C2C=C1N)N)C.Cl</td>\n",
       "      <td>264.00</td>\n",
       "      <td>51,100</td>\n",
       "      <td>0.4700</td>\n",
       "    </tr>\n",
       "    <tr>\n",
       "      <th>167</th>\n",
       "      <td>Acridone</td>\n",
       "      <td>C1=CC=C2C(=C1)C(=O)C3=CC=CC=C3N2</td>\n",
       "      <td>249.00</td>\n",
       "      <td>99,900</td>\n",
       "      <td>0.4200</td>\n",
       "    </tr>\n",
       "    <tr>\n",
       "      <th>168</th>\n",
       "      <td>Phenazine</td>\n",
       "      <td>C1=CC=C2C(=C1)N=C3C=CC=CC3=N2</td>\n",
       "      <td>248.00</td>\n",
       "      <td>107,000</td>\n",
       "      <td>0.0000</td>\n",
       "    </tr>\n",
       "    <tr>\n",
       "      <th>169</th>\n",
       "      <td>Phenosafranin</td>\n",
       "      <td>C1=CC=C(C=C1)[N+]2=C3C=C(C=CC3=NC4=C2C=C(C=C4)...</td>\n",
       "      <td>533.00</td>\n",
       "      <td>35,600</td>\n",
       "      <td>0.2000</td>\n",
       "    </tr>\n",
       "    <tr>\n",
       "      <th>170</th>\n",
       "      <td>Neutral Red</td>\n",
       "      <td>CC1=CC2=NC3=C(C=C(C=C3)N(C)C)N=C2C=C1N.Cl</td>\n",
       "      <td>278.00</td>\n",
       "      <td>43,700</td>\n",
       "      <td>0.0440</td>\n",
       "    </tr>\n",
       "    <tr>\n",
       "      <th>171</th>\n",
       "      <td>Janus Green B</td>\n",
       "      <td>CCN(CC)C1=CC2=[N+](C3=C(C=CC(=C3)N=NC4=CC=C(C=...</td>\n",
       "      <td>587.00</td>\n",
       "      <td>35,000</td>\n",
       "      <td>0.0000</td>\n",
       "    </tr>\n",
       "    <tr>\n",
       "      <th>172</th>\n",
       "      <td>Phenothiazine</td>\n",
       "      <td>C1=CC=C2C(=C1)NC3=CC=CC=C3S2</td>\n",
       "      <td>253.00</td>\n",
       "      <td>47,600</td>\n",
       "      <td>0.0060</td>\n",
       "    </tr>\n",
       "    <tr>\n",
       "      <th>173</th>\n",
       "      <td>Thionin</td>\n",
       "      <td>C1=CC2=C(C=C1N)SC3=CC(=[NH2+])C=CC3=N2.[Cl-]</td>\n",
       "      <td>605.00</td>\n",
       "      <td>77,600</td>\n",
       "      <td>0.0400</td>\n",
       "    </tr>\n",
       "    <tr>\n",
       "      <th>174</th>\n",
       "      <td>Methylene blue</td>\n",
       "      <td>CN(C)C1=CC2=C(C=C1)N=C3C=CC(=[N+](C)C)C=C3S2.[...</td>\n",
       "      <td>656.00</td>\n",
       "      <td>40,700</td>\n",
       "      <td>0.0400</td>\n",
       "    </tr>\n",
       "    <tr>\n",
       "      <th>175</th>\n",
       "      <td>Azure II</td>\n",
       "      <td>CNC1=CC2=C(C=C1)N=C3C=CC(=[N+](C)C)C=C3S2.CN(C...</td>\n",
       "      <td>654.00</td>\n",
       "      <td>81,300</td>\n",
       "      <td>0.0400</td>\n",
       "    </tr>\n",
       "    <tr>\n",
       "      <th>176</th>\n",
       "      <td>Toluidine Blue O</td>\n",
       "      <td>CC1=CC2=C(C=C1N)SC3=CC(=[N+](C)C)C=CC3=N2.[Cl-]</td>\n",
       "      <td>628.00</td>\n",
       "      <td>74,000</td>\n",
       "      <td>0.0760</td>\n",
       "    </tr>\n",
       "    <tr>\n",
       "      <th>177</th>\n",
       "      <td>Phenoxathiin</td>\n",
       "      <td>C1=CC=C2C(=C1)OC3=CC=CC=C3S2</td>\n",
       "      <td>237.00</td>\n",
       "      <td>28,500</td>\n",
       "      <td>0.0000</td>\n",
       "    </tr>\n",
       "    <tr>\n",
       "      <th>178</th>\n",
       "      <td>Phenoxazine</td>\n",
       "      <td>C1=CC=C2C(=C1)NC3=CC=CC=C3O2</td>\n",
       "      <td>239.00</td>\n",
       "      <td>39,800</td>\n",
       "      <td>0.0250</td>\n",
       "    </tr>\n",
       "    <tr>\n",
       "      <th>179</th>\n",
       "      <td>Oxazine 1</td>\n",
       "      <td>CCN(CC)C1=CC2=C(C=C1)N=C3C=CC(=[N+](CC)CC)C=C3O2</td>\n",
       "      <td>642.50</td>\n",
       "      <td>117,000</td>\n",
       "      <td>0.1100</td>\n",
       "    </tr>\n",
       "    <tr>\n",
       "      <th>180</th>\n",
       "      <td>Cresyl Violet perchlorate</td>\n",
       "      <td>C1=CC=C2C(=C1)C(=CC3=C2N=C4C=CC(=N)C=C4O3)N.OC...</td>\n",
       "      <td>603.00</td>\n",
       "      <td>28,000</td>\n",
       "      <td>0.5400</td>\n",
       "    </tr>\n",
       "    <tr>\n",
       "      <th>181</th>\n",
       "      <td>Nile Red</td>\n",
       "      <td>CCN(CC)C1=CC2=C(C=C1)N=C3C4=CC=CC=C4C(=O)C=C3O2</td>\n",
       "      <td>519.40</td>\n",
       "      <td>38,000</td>\n",
       "      <td>0.7000</td>\n",
       "    </tr>\n",
       "    <tr>\n",
       "      <th>182</th>\n",
       "      <td>Nile Blue</td>\n",
       "      <td>CC[N+](=C1C=CC2=NC3=C(C=C(C4=CC=CC=C43)N)OC2=C...</td>\n",
       "      <td>627.50</td>\n",
       "      <td>67,000</td>\n",
       "      <td>0.2700</td>\n",
       "    </tr>\n",
       "  </tbody>\n",
       "</table>\n",
       "<p>178 rows × 5 columns</p>\n",
       "</div>"
      ],
      "text/plain": [
       "                                Name  \\\n",
       "#                                      \n",
       "1                            Benzene   \n",
       "2                            Toluene   \n",
       "3                           o-Xylene   \n",
       "4                           m-Xylene   \n",
       "5                           p-Xylene   \n",
       "6                         Mesitylene   \n",
       "7                             Durene   \n",
       "8                 Pentamethylbenzene   \n",
       "9                  Hexamethylbenzene   \n",
       "10                            Phenol   \n",
       "11                           Anisole   \n",
       "12                      Benzonitrile   \n",
       "13                      Benzaldehyde   \n",
       "14                      Benzoic acid   \n",
       "15                      Acetophenone   \n",
       "16                           Aniline   \n",
       "17              N,N-Dimethyl-aniline   \n",
       "18     Phenylhydrazine Hydrochloride   \n",
       "19                     Chlorobenzene   \n",
       "20                       Iodobenzene   \n",
       "21                      Nitrobenzene   \n",
       "22                           Styrene   \n",
       "23                   Phenylacetylene   \n",
       "24              1,4-Diethynylbenzene   \n",
       "25          Phenylpropargyl aldehyde   \n",
       "26                Phenylboronic acid   \n",
       "27                          Vanillin   \n",
       "28             3-Hydroxyacetophenone   \n",
       "29   Ethyl 4-(dimethylamino)benzoate   \n",
       "30                  Gallacetophenone   \n",
       "..                               ...   \n",
       "153  7-Methoxycoumarin-4-acetic acid   \n",
       "154                       Coumarin 1   \n",
       "155                       Coumarin 6   \n",
       "156                       Coumarin 7   \n",
       "157                      Coumarin 30   \n",
       "158                     Coumarin 151   \n",
       "159                     Coumarin 314   \n",
       "160                     Coumarin 343   \n",
       "161                     Calcein Blue   \n",
       "162                      Urolithin B   \n",
       "163                        Acridine    \n",
       "164         Proflavine hydrochloride   \n",
       "165                  Acridine Orange   \n",
       "166                Acridine Yellow G   \n",
       "167                         Acridone   \n",
       "168                        Phenazine   \n",
       "169                    Phenosafranin   \n",
       "170                      Neutral Red   \n",
       "171                    Janus Green B   \n",
       "172                    Phenothiazine   \n",
       "173                          Thionin   \n",
       "174                   Methylene blue   \n",
       "175                         Azure II   \n",
       "176                 Toluidine Blue O   \n",
       "177                     Phenoxathiin   \n",
       "178                      Phenoxazine   \n",
       "179                        Oxazine 1   \n",
       "180        Cresyl Violet perchlorate   \n",
       "181                         Nile Red   \n",
       "182                       Nile Blue    \n",
       "\n",
       "                                           name_smiles  Wavelength  Epsilon  \\\n",
       "#                                                                             \n",
       "1                                          C1=CC=CC=C1      254.75      210   \n",
       "2                                         CC1=CC=CC=C1      261.75    2,860   \n",
       "3                                        CC1=CC=CC=C1C      263.00      254   \n",
       "4                                      CC1=CC(=CC=C1)C      265.00      284   \n",
       "5                                      CC1=CC=C(C=C1)C      275.00      770   \n",
       "6                                   CC1=CC(=CC(=C1)C)C      265.00      190   \n",
       "7                                  CC1=CC(=C(C=C1C)C)C      278.00      214   \n",
       "8                               CC1=CC(=C(C(=C1C)C)C)C      271.00      629   \n",
       "9                            CC1=C(C(=C(C(=C1C)C)C)C)C      271.00      214   \n",
       "10                                      C1=CC=C(C=C1)O      270.75    2,340   \n",
       "11                                       COC1=CC=CC=C1      220.00     7800   \n",
       "12                                    C1=CC=C(C=C1)C#N      222.00   13,100   \n",
       "13                                    C1=CC=C(C=C1)C=O      242.00   13,200   \n",
       "14                                 C1=CC=C(C=C1)C(=O)O      227.00    8,270   \n",
       "15                                   CC(=O)C1=CC=CC=C1      241.00   12,800   \n",
       "16                                      C1=CC=C(C=C1)N      288.00    1,760   \n",
       "17                                    CN(C)C1=CC=CC=C1      251.00   14,900   \n",
       "18                                  C1=CC=C(C=C1)NN.Cl      279.00      490   \n",
       "19                                     C1=CC=C(C=C1)Cl      265.00      280   \n",
       "20                                      C1=CC=C(C=C1)I      228.00   13,200   \n",
       "21                           C1=CC=C(C=C1)[N+](=O)[O-]      258.00    8,140   \n",
       "22                                      C=CC1=CC=CC=C1      248.00   14,700   \n",
       "23                                      C#CC1=CC=CC=C1      236.00   17,600   \n",
       "24                                 C#CC1=CC=C(C=C1)C#C      274.00   28,200   \n",
       "25                                 C1=CC=C(C=C1)C#CC=O      277.00    5,000   \n",
       "26                                  B(C1=CC=CC=C1)(O)O      227.00    9,520   \n",
       "27                               COC1=C(C=CC(=C1)C=O)O      222.00    9,770   \n",
       "28                                CC(=O)C1=CC(=CC=C1)O      218.00   19,000   \n",
       "29                          CCOC(=O)C1=CC=C(C=C1)N(C)C      310.25   23,200   \n",
       "30                          CC(=O)C1=C(C(=C(C=C1)O)O)O      291.00   12,500   \n",
       "..                                                 ...         ...      ...   \n",
       "153                COC1=CC2=C(C=C1)C(=CC(=O)O2)CC(=O)O      323.75   11,820   \n",
       "154                 CCN(CC)C1=CC2=C(C=C1)C(=CC(=O)O2)C      373.25   23,500   \n",
       "155  CCN(CC)C1=CC2=C(C=C1)C=C(C(=O)O2)C3=NC4=CC=CC=...      459.25   54,000   \n",
       "156  CCN(CC)C1=CC2=C(C=C1)C=C(C(=O)O2)C3=NC4=CC=CC=...      436.00   52,500   \n",
       "157  CCN(CC)C1=CC2=C(C=C1)C=C(C(=O)O2)C3=NC4=CC=CC=...      407.50   54,000   \n",
       "158                  C1=CC2=C(C=C1N)OC(=O)C=C2C(F)(F)F      384.00   17,000   \n",
       "159          CCOC(=O)C1=CC2=CC3=C4C(=C2OC1=O)CCCN4CCC3      436.00   46,800   \n",
       "160      C1CC2=C3C(=C4C(=C2)C=C(C(=O)O4)C(=O)O)CCCN3C1      444.75   44,300   \n",
       "161       CC1=CC(=O)OC2=C1C=CC(=C2CN(CC(=O)O)CC(=O)O)O      361.00   16,100   \n",
       "162                C1=CC=C2C(=C1)C3=C(C=C(C=C3)O)OC2=O      278.00   11,300   \n",
       "163                      C1=CC=C2C(=C1)C=C3C=CC=CC3=N2      247.00  178,000   \n",
       "164             C1=CC(=CC2=NC3=C(C=CC(=C3)N)C=C21)N.Cl      261.00   53,700   \n",
       "165          CN(C)C1=CC2=C(C=C1)C=C3C=CC(=CC3=N2)N(C)C      270.50   49,100   \n",
       "166             CC1=CC2=CC3=CC(=C(C=C3N=C2C=C1N)N)C.Cl      264.00   51,100   \n",
       "167                   C1=CC=C2C(=C1)C(=O)C3=CC=CC=C3N2      249.00   99,900   \n",
       "168                      C1=CC=C2C(=C1)N=C3C=CC=CC3=N2      248.00  107,000   \n",
       "169  C1=CC=C(C=C1)[N+]2=C3C=C(C=CC3=NC4=C2C=C(C=C4)...      533.00   35,600   \n",
       "170          CC1=CC2=NC3=C(C=C(C=C3)N(C)C)N=C2C=C1N.Cl      278.00   43,700   \n",
       "171  CCN(CC)C1=CC2=[N+](C3=C(C=CC(=C3)N=NC4=CC=C(C=...      587.00   35,000   \n",
       "172                       C1=CC=C2C(=C1)NC3=CC=CC=C3S2      253.00   47,600   \n",
       "173       C1=CC2=C(C=C1N)SC3=CC(=[NH2+])C=CC3=N2.[Cl-]      605.00   77,600   \n",
       "174  CN(C)C1=CC2=C(C=C1)N=C3C=CC(=[N+](C)C)C=C3S2.[...      656.00   40,700   \n",
       "175  CNC1=CC2=C(C=C1)N=C3C=CC(=[N+](C)C)C=C3S2.CN(C...      654.00   81,300   \n",
       "176    CC1=CC2=C(C=C1N)SC3=CC(=[N+](C)C)C=CC3=N2.[Cl-]      628.00   74,000   \n",
       "177                       C1=CC=C2C(=C1)OC3=CC=CC=C3S2      237.00   28,500   \n",
       "178                       C1=CC=C2C(=C1)NC3=CC=CC=C3O2      239.00   39,800   \n",
       "179   CCN(CC)C1=CC2=C(C=C1)N=C3C=CC(=[N+](CC)CC)C=C3O2      642.50  117,000   \n",
       "180  C1=CC=C2C(=C1)C(=CC3=C2N=C4C=CC(=N)C=C4O3)N.OC...      603.00   28,000   \n",
       "181    CCN(CC)C1=CC2=C(C=C1)N=C3C4=CC=CC=C4C(=O)C=C3O2      519.40   38,000   \n",
       "182  CC[N+](=C1C=CC2=NC3=C(C=C(C4=CC=CC=C43)N)OC2=C...      627.50   67,000   \n",
       "\n",
       "     Quantum Yield  \n",
       "#                   \n",
       "1           0.0530  \n",
       "2           0.1700  \n",
       "3           0.1700  \n",
       "4           0.1300  \n",
       "5           0.2200  \n",
       "6           0.0880  \n",
       "7           0.3000  \n",
       "8           0.0750  \n",
       "9           0.0100  \n",
       "10          0.0750  \n",
       "11          0.4500  \n",
       "12          0.2300  \n",
       "13          0.0000  \n",
       "14          0.0000  \n",
       "15          0.0000  \n",
       "16          0.1700  \n",
       "17          0.1900  \n",
       "18          0.0000  \n",
       "19          0.0042  \n",
       "20          0.0000  \n",
       "21          0.0000  \n",
       "22          0.2200  \n",
       "23          0.1100  \n",
       "24          0.1900  \n",
       "25          0.0000  \n",
       "26          0.2600  \n",
       "27          0.0000  \n",
       "28          0.0000  \n",
       "29          0.2900  \n",
       "30          0.0000  \n",
       "..             ...  \n",
       "153         0.1800  \n",
       "154         0.5000  \n",
       "155         0.7800  \n",
       "156         0.8200  \n",
       "157         0.8000  \n",
       "158         0.5300  \n",
       "159         0.6800  \n",
       "160         0.6300  \n",
       "161         0.5900  \n",
       "162         0.2100  \n",
       "163         0.0079  \n",
       "164         0.3400  \n",
       "165         0.2000  \n",
       "166         0.4700  \n",
       "167         0.4200  \n",
       "168         0.0000  \n",
       "169         0.2000  \n",
       "170         0.0440  \n",
       "171         0.0000  \n",
       "172         0.0060  \n",
       "173         0.0400  \n",
       "174         0.0400  \n",
       "175         0.0400  \n",
       "176         0.0760  \n",
       "177         0.0000  \n",
       "178         0.0250  \n",
       "179         0.1100  \n",
       "180         0.5400  \n",
       "181         0.7000  \n",
       "182         0.2700  \n",
       "\n",
       "[178 rows x 5 columns]"
      ]
     },
     "execution_count": 2,
     "metadata": {},
     "output_type": "execute_result"
    }
   ],
   "source": [
    "df = pd.read_csv('temp_cleaned_data.tsv',sep='\\t')\n",
    "df = df.set_index('#')\n",
    "df"
   ]
  },
  {
   "cell_type": "code",
   "execution_count": 170,
   "metadata": {},
   "outputs": [],
   "source": [
    "mol = Chem.MolFromSmiles(df.name_smiles[1])"
   ]
  },
  {
   "cell_type": "code",
   "execution_count": 100,
   "metadata": {},
   "outputs": [
    {
     "data": {
      "text/plain": [
       "132"
      ]
     },
     "execution_count": 100,
     "metadata": {},
     "output_type": "execute_result"
    }
   ],
   "source": [
    "Descriptors.NumValenceElectrons(mol)"
   ]
  },
  {
   "cell_type": "code",
   "execution_count": 101,
   "metadata": {},
   "outputs": [
    {
     "data": {
      "text/plain": [
       "4"
      ]
     },
     "execution_count": 101,
     "metadata": {},
     "output_type": "execute_result"
    }
   ],
   "source": [
    "Descriptors.NumRotatableBonds(mol)"
   ]
  },
  {
   "cell_type": "code",
   "execution_count": 102,
   "metadata": {},
   "outputs": [
    {
     "data": {
      "text/plain": [
       "5"
      ]
     },
     "execution_count": 102,
     "metadata": {},
     "output_type": "execute_result"
    }
   ],
   "source": [
    "Descriptors.NumHeteroatoms(mol)"
   ]
  },
  {
   "cell_type": "code",
   "execution_count": 103,
   "metadata": {},
   "outputs": [
    {
     "data": {
      "text/plain": [
       "0.3468726875857757"
      ]
     },
     "execution_count": 103,
     "metadata": {},
     "output_type": "execute_result"
    }
   ],
   "source": [
    "#atoms shared between rings that share exactly one atom\n",
    "Descriptors.MaxPartialCharge(mol)"
   ]
  },
  {
   "cell_type": "code",
   "execution_count": 104,
   "metadata": {},
   "outputs": [
    {
     "data": {
      "text/plain": [
       "-0.4221133952155775"
      ]
     },
     "execution_count": 104,
     "metadata": {},
     "output_type": "execute_result"
    }
   ],
   "source": [
    "Descriptors.MinPartialCharge(mol)"
   ]
  },
  {
   "cell_type": "code",
   "execution_count": 105,
   "metadata": {},
   "outputs": [
    {
     "data": {
      "text/plain": [
       "1298432.7719897337"
      ]
     },
     "execution_count": 105,
     "metadata": {},
     "output_type": "execute_result"
    }
   ],
   "source": [
    "Chem.GraphDescriptors.Ipc(mol)"
   ]
  },
  {
   "cell_type": "code",
   "execution_count": 106,
   "metadata": {},
   "outputs": [
    {
     "data": {
      "text/plain": [
       "15.191153083317705"
      ]
     },
     "execution_count": 106,
     "metadata": {},
     "output_type": "execute_result"
    }
   ],
   "source": [
    "Chem.GraphDescriptors.Chi0n(mol)"
   ]
  },
  {
   "cell_type": "code",
   "execution_count": 108,
   "metadata": {},
   "outputs": [],
   "source": [
    "import rdkit.Chem.rdMolDescriptors as rdDr"
   ]
  },
  {
   "cell_type": "code",
   "execution_count": 109,
   "metadata": {},
   "outputs": [],
   "source": [
    "properties = rdDr.Properties() "
   ]
  },
  {
   "cell_type": "code",
   "execution_count": 110,
   "metadata": {},
   "outputs": [
    {
     "name": "stdout",
     "output_type": "stream",
     "text": [
      "exactmw 347.16337691200005\n",
      "lipinskiHBA 5.0\n",
      "lipinskiHBD 0.0\n",
      "NumRotatableBonds 4.0\n",
      "NumHBD 0.0\n",
      "NumHBA 5.0\n",
      "NumHeteroatoms 5.0\n",
      "NumAmideBonds 0.0\n",
      "FractionCSP3 0.23809523809523808\n",
      "NumRings 4.0\n",
      "NumAromaticRings 4.0\n",
      "NumAliphaticRings 0.0\n",
      "NumSaturatedRings 0.0\n",
      "NumHeterocycles 2.0\n",
      "NumAromaticHeterocycles 2.0\n",
      "NumSaturatedHeterocycles 0.0\n",
      "NumAliphaticHeterocycles 0.0\n",
      "NumSpiroAtoms 0.0\n",
      "NumBridgeheadAtoms 0.0\n",
      "NumAtomStereoCenters 0.0\n",
      "NumUnspecifiedAtomStereoCenters 0.0\n",
      "labuteASA 151.0414894438268\n",
      "tpsa 51.27\n",
      "CrippenClogP 4.1929000000000025\n",
      "CrippenMR 105.75300000000003\n"
     ]
    }
   ],
   "source": [
    "a = zip(properties.GetPropertyNames(), properties.ComputeProperties(mol))\n",
    "for i,j in a:\n",
    "    print(i,j)"
   ]
  },
  {
   "cell_type": "code",
   "execution_count": 111,
   "metadata": {},
   "outputs": [],
   "source": [
    "import rdkit.Chem.Fingerprints as figpr"
   ]
  },
  {
   "cell_type": "code",
   "execution_count": 112,
   "metadata": {},
   "outputs": [],
   "source": [
    "a = rdDr.GetHashedAtomPairFingerprint(mol)\n"
   ]
  },
  {
   "cell_type": "code",
   "execution_count": 113,
   "metadata": {},
   "outputs": [
    {
     "data": {
      "text/plain": [
       "[2246728737,\n",
       " 2245384272,\n",
       " 848128881,\n",
       " 2245384272,\n",
       " 2246728737,\n",
       " 3217380708,\n",
       " 3218693969,\n",
       " 3217380708,\n",
       " 3217380708,\n",
       " 3218693969,\n",
       " 3218693969,\n",
       " 3218693969,\n",
       " 3217380708,\n",
       " 3217380708,\n",
       " 864942730,\n",
       " 3189457552,\n",
       " 3217380708,\n",
       " 2041434490,\n",
       " 3217380708,\n",
       " 3218693969,\n",
       " 3218693969,\n",
       " 3218693969,\n",
       " 3218693969,\n",
       " 3217380708,\n",
       " 2092489639,\n",
       " 2246728737]"
      ]
     },
     "execution_count": 113,
     "metadata": {},
     "output_type": "execute_result"
    }
   ],
   "source": [
    "rdDr.GetConnectivityInvariants(mol)"
   ]
  },
  {
   "cell_type": "code",
   "execution_count": 114,
   "metadata": {},
   "outputs": [],
   "source": [
    "import os\n",
    "from rdkit.Chem import ChemicalFeatures\n",
    "from rdkit import RDConfig\n",
    "fdefName = os.path.join(RDConfig.RDDataDir,'BaseFeatures.fdef')\n",
    "factory = ChemicalFeatures.BuildFeatureFactory(fdefName)"
   ]
  },
  {
   "cell_type": "code",
   "execution_count": 119,
   "metadata": {},
   "outputs": [],
   "source": [
    "feats = factory.GetFeaturesForMol(mol)"
   ]
  },
  {
   "cell_type": "code",
   "execution_count": 120,
   "metadata": {},
   "outputs": [
    {
     "data": {
      "text/plain": [
       "11"
      ]
     },
     "execution_count": 120,
     "metadata": {},
     "output_type": "execute_result"
    }
   ],
   "source": [
    "len(feats)"
   ]
  },
  {
   "cell_type": "code",
   "execution_count": 121,
   "metadata": {},
   "outputs": [],
   "source": [
    "import os\n",
    "from rdkit.Chem import ChemicalFeatures\n",
    "from rdkit import RDConfig\n",
    "fdefName = os.path.join(RDConfig.RDDataDir,'BaseFeatures.fdef')\n",
    "factory = ChemicalFeatures.BuildFeatureFactory(fdefName)"
   ]
  },
  {
   "cell_type": "code",
   "execution_count": 126,
   "metadata": {},
   "outputs": [
    {
     "name": "stdout",
     "output_type": "stream",
     "text": [
      "SingleAtomAcceptor\n",
      "(14,)\n",
      "SingleAtomAcceptor\n",
      "(17,)\n",
      "Imidazole\n",
      "(18, 17, 16, 24, 23)\n",
      "Arom5\n",
      "(16, 17, 18, 23, 24)\n",
      "Arom6\n",
      "(5, 6, 7, 8, 9, 10)\n",
      "Arom6\n",
      "(7, 8, 11, 12, 13, 15)\n",
      "Arom6\n",
      "(18, 19, 20, 21, 22, 23)\n",
      "ThreeWayAttach\n",
      "(8,)\n",
      "ThreeWayAttach\n",
      "(12,)\n",
      "RH6_6\n",
      "(5, 6, 7, 8, 9, 10)\n",
      "RH6_6\n",
      "(18, 19, 20, 21, 22, 23)\n"
     ]
    }
   ],
   "source": [
    "for i in range(len(feats)):\n",
    "    #print(feats[i].GetFamily())\n",
    "    print(feats[i].GetType())\n",
    "    print(feats[i].GetAtomIds())"
   ]
  },
  {
   "cell_type": "code",
   "execution_count": 128,
   "metadata": {},
   "outputs": [
    {
     "data": {
      "text/plain": [
       "{'Donor.SingleAtomDonor': '[$([N&!H0&v3,N&!H0&+1&v4,n&H1&+0,$([$([Nv3](-C)(-C)-C)]),$([$(n[n;H1]),$(nc[n;H1])])]),$([O,S;H1;+0])]',\n",
       " 'Acceptor.SingleAtomAcceptor': '[$([O;H1;v2]),$([O;H0;v2;!$(O=N-*),$([O;-;!$(*-N=O)]),$([o;+0])]),$([n;+0;!X3;!$([n;H1](cc)cc),$([$([N;H0]#[C&v4])]),$([N&v3;H0;$(Nc)])]),$([F;$(F-[#6]);!$(FC[F,Cl,Br,I])])]',\n",
       " 'NegIonizable.AcidicGroup': '[C,S](=[O,S,P])-[O;H1,H0&-1]',\n",
       " 'PosIonizable.BasicGroup': '[$([$([N;H2&+0][$([C;!$(C=*)])])]),$([$([N;H1&+0]([$([C;!$(C=*)])])[$([C;!$(C=*)])])]),$([$([N;H0&+0]([$([C;!$(C=*)])])([$([C;!$(C=*)])])[$([C;!$(C=*)])])]);!$(N[a])]',\n",
       " 'PosIonizable.PosN': '[#7;+;!$([N+]-[O-])]',\n",
       " 'PosIonizable.Imidazole': 'c1ncnc1',\n",
       " 'PosIonizable.Guanidine': 'NC(=N)N',\n",
       " 'ZnBinder.ZnBinder1': '[S;D1]-[#6]',\n",
       " 'ZnBinder.ZnBinder2': '[#6]-C(=O)-C-[S;D1]',\n",
       " 'ZnBinder.ZnBinder3': '[#6]-C(=O)-C-C-[S;D1]',\n",
       " 'ZnBinder.ZnBinder4': '[#6]-C(=O)-N-[O;D1]',\n",
       " 'ZnBinder.ZnBinder5': '[#6]-C(=O)-[O;D1]',\n",
       " 'ZnBinder.ZnBinder6': '[#6]-P(=O)(-O)-[C,O,N]-[C,H]',\n",
       " 'Aromatic.Arom4': '[$([a;r4,!R1&r3])]1:[$([a;r4,!R1&r3])]:[$([a;r4,!R1&r3])]:[$([a;r4,!R1&r3])]:1',\n",
       " 'Aromatic.Arom5': '[$([a;r5,!R1&r4,!R1&r3])]1:[$([a;r5,!R1&r4,!R1&r3])]:[$([a;r5,!R1&r4,!R1&r3])]:[$([a;r5,!R1&r4,!R1&r3])]:[$([a;r5,!R1&r4,!R1&r3])]:1',\n",
       " 'Aromatic.Arom6': '[$([a;r6,!R1&r5,!R1&r4,!R1&r3])]1:[$([a;r6,!R1&r5,!R1&r4,!R1&r3])]:[$([a;r6,!R1&r5,!R1&r4,!R1&r3])]:[$([a;r6,!R1&r5,!R1&r4,!R1&r3])]:[$([a;r6,!R1&r5,!R1&r4,!R1&r3])]:[$([a;r6,!R1&r5,!R1&r4,!R1&r3])]:1',\n",
       " 'Aromatic.Arom7': '[$([a;r7,!R1&r6,!R1&r5,!R1&r4,!R1&r3])]1:[$([a;r7,!R1&r6,!R1&r5,!R1&r4,!R1&r3])]:[$([a;r7,!R1&r6,!R1&r5,!R1&r4,!R1&r3])]:[$([a;r7,!R1&r6,!R1&r5,!R1&r4,!R1&r3])]:[$([a;r7,!R1&r6,!R1&r5,!R1&r4,!R1&r3])]:[$([a;r7,!R1&r6,!R1&r5,!R1&r4,!R1&r3])]:[$([a;r7,!R1&r6,!R1&r5,!R1&r4,!R1&r3])]:1',\n",
       " 'Aromatic.Arom8': '[$([a;r8,!R1&r7,!R1&r6,!R1&r5,!R1&r4,!R1&r3])]1:[$([a;r8,!R1&r7,!R1&r6,!R1&r5,!R1&r4,!R1&r3])]:[$([a;r8,!R1&r7,!R1&r6,!R1&r5,!R1&r4,!R1&r3])]:[$([a;r8,!R1&r7,!R1&r6,!R1&r5,!R1&r4,!R1&r3])]:[$([a;r8,!R1&r7,!R1&r6,!R1&r5,!R1&r4,!R1&r3])]:[$([a;r8,!R1&r7,!R1&r6,!R1&r5,!R1&r4,!R1&r3])]:[$([a;r8,!R1&r7,!R1&r6,!R1&r5,!R1&r4,!R1&r3])]:[$([a;r8,!R1&r7,!R1&r6,!R1&r5,!R1&r4,!R1&r3])]:1',\n",
       " 'Hydrophobe.ThreeWayAttach': '[D3,D4;$([#6;+0;!$([#6;$([#6]~[#7,#8,#9])])])]',\n",
       " 'Hydrophobe.ChainTwoWayAttach': '[R0;D2;$([#6;+0;!$([#6;$([#6]~[#7,#8,#9])])])]',\n",
       " 'LumpedHydrophobe.Nitro2': '[N;D3;+](=O)[O-]',\n",
       " 'LumpedHydrophobe.RH6_6': '[$([r6,!R1&r5,!R1&r4,!R1&r3]);$([R;$([c,s,S&H0&v2,Br,I,$([#6;+0;!$([#6;$([#6]~[#7,#8,#9])])])])])]1[$([r6,!R1&r5,!R1&r4,!R1&r3]);$([R;$([c,s,S&H0&v2,Br,I,$([#6;+0;!$([#6;$([#6]~[#7,#8,#9])])])])])][$([r6,!R1&r5,!R1&r4,!R1&r3]);$([R;$([c,s,S&H0&v2,Br,I,$([#6;+0;!$([#6;$([#6]~[#7,#8,#9])])])])])][$([r6,!R1&r5,!R1&r4,!R1&r3]);$([R;$([c,s,S&H0&v2,Br,I,$([#6;+0;!$([#6;$([#6]~[#7,#8,#9])])])])])][$([r6,!R1&r5,!R1&r4,!R1&r3]);$([R;$([c,s,S&H0&v2,Br,I,$([#6;+0;!$([#6;$([#6]~[#7,#8,#9])])])])])][$([r6,!R1&r5,!R1&r4,!R1&r3]);$([R;$([c,s,S&H0&v2,Br,I,$([#6;+0;!$([#6;$([#6]~[#7,#8,#9])])])])])]1',\n",
       " 'LumpedHydrophobe.RH5_5': '[$([r5,!R1&r4,!R1&r3]);$([R;$([c,s,S&H0&v2,Br,I,$([#6;+0;!$([#6;$([#6]~[#7,#8,#9])])])])])]1[$([r5,!R1&r4,!R1&r3]);$([R;$([c,s,S&H0&v2,Br,I,$([#6;+0;!$([#6;$([#6]~[#7,#8,#9])])])])])][$([r5,!R1&r4,!R1&r3]);$([R;$([c,s,S&H0&v2,Br,I,$([#6;+0;!$([#6;$([#6]~[#7,#8,#9])])])])])][$([r5,!R1&r4,!R1&r3]);$([R;$([c,s,S&H0&v2,Br,I,$([#6;+0;!$([#6;$([#6]~[#7,#8,#9])])])])])][$([r5,!R1&r4,!R1&r3]);$([R;$([c,s,S&H0&v2,Br,I,$([#6;+0;!$([#6;$([#6]~[#7,#8,#9])])])])])]1',\n",
       " 'LumpedHydrophobe.RH4_4': '[$([r4,!R1&r3]);$([R;$([c,s,S&H0&v2,Br,I,$([#6;+0;!$([#6;$([#6]~[#7,#8,#9])])])])])]1[$([r4,!R1&r3]);$([R;$([c,s,S&H0&v2,Br,I,$([#6;+0;!$([#6;$([#6]~[#7,#8,#9])])])])])][$([r4,!R1&r3]);$([R;$([c,s,S&H0&v2,Br,I,$([#6;+0;!$([#6;$([#6]~[#7,#8,#9])])])])])][$([r4,!R1&r3]);$([R;$([c,s,S&H0&v2,Br,I,$([#6;+0;!$([#6;$([#6]~[#7,#8,#9])])])])])]1',\n",
       " 'LumpedHydrophobe.RH3_3': '[$([r3]);$([R;$([c,s,S&H0&v2,Br,I,$([#6;+0;!$([#6;$([#6]~[#7,#8,#9])])])])])]1[$([r3]);$([R;$([c,s,S&H0&v2,Br,I,$([#6;+0;!$([#6;$([#6]~[#7,#8,#9])])])])])][$([r3]);$([R;$([c,s,S&H0&v2,Br,I,$([#6;+0;!$([#6;$([#6]~[#7,#8,#9])])])])])]1',\n",
       " 'LumpedHydrophobe.tButyl': '[C;!R](-[CH3])(-[CH3])-[CH3]',\n",
       " 'LumpedHydrophobe.iPropyl': '[CH;!R](-[CH3])-[CH3]'}"
      ]
     },
     "execution_count": 128,
     "metadata": {},
     "output_type": "execute_result"
    }
   ],
   "source": [
    "factory.GetFeatureDefs()"
   ]
  },
  {
   "cell_type": "code",
   "execution_count": 132,
   "metadata": {},
   "outputs": [
    {
     "data": {
      "text/plain": [
       "11"
      ]
     },
     "execution_count": 132,
     "metadata": {},
     "output_type": "execute_result"
    }
   ],
   "source": [
    "factory"
   ]
  },
  {
   "cell_type": "code",
   "execution_count": 97,
   "metadata": {},
   "outputs": [],
   "source": [
    "fName=os.path.join(RDConfig.RDDataDir,'FunctionalGroups.txt')"
   ]
  },
  {
   "cell_type": "code",
   "execution_count": 98,
   "metadata": {},
   "outputs": [],
   "source": [
    "from rdkit.Chem import FragmentCatalog"
   ]
  },
  {
   "cell_type": "code",
   "execution_count": 133,
   "metadata": {},
   "outputs": [],
   "source": [
    "from rdkit.Chem import AllChem\n"
   ]
  },
  {
   "cell_type": "code",
   "execution_count": 199,
   "metadata": {},
   "outputs": [],
   "source": [
    "fp1 = AllChem.GetMorganFingerprint(mol,2)"
   ]
  },
  {
   "cell_type": "code",
   "execution_count": 194,
   "metadata": {},
   "outputs": [
    {
     "data": {
      "text/plain": [
       "4294967295"
      ]
     },
     "execution_count": 194,
     "metadata": {},
     "output_type": "execute_result"
    }
   ],
   "source": [
    "fp1.GetLength()"
   ]
  },
  {
   "cell_type": "code",
   "execution_count": 192,
   "metadata": {},
   "outputs": [
    {
     "data": {
      "text/plain": [
       "40"
      ]
     },
     "execution_count": 192,
     "metadata": {},
     "output_type": "execute_result"
    }
   ],
   "source": [
    "len(list(fp1.ToBinary()))"
   ]
  },
  {
   "cell_type": "code",
   "execution_count": 195,
   "metadata": {},
   "outputs": [],
   "source": [
    "fp2 = AllChem.GetMorganFingerprint(mol2,2)"
   ]
  },
  {
   "cell_type": "code",
   "execution_count": 197,
   "metadata": {},
   "outputs": [
    {
     "data": {
      "text/plain": [
       "208"
      ]
     },
     "execution_count": 197,
     "metadata": {},
     "output_type": "execute_result"
    }
   ],
   "source": [
    "len(fp2.ToBinary())"
   ]
  },
  {
   "cell_type": "code",
   "execution_count": null,
   "metadata": {},
   "outputs": [],
   "source": []
  },
  {
   "cell_type": "code",
   "execution_count": null,
   "metadata": {},
   "outputs": [],
   "source": []
  },
  {
   "cell_type": "code",
   "execution_count": 183,
   "metadata": {},
   "outputs": [],
   "source": [
    "fp1 = AllChem.GetMorganFingerprintAsBitVect(mol,2,nBits=1024)"
   ]
  },
  {
   "cell_type": "code",
   "execution_count": 187,
   "metadata": {},
   "outputs": [
    {
     "data": {
      "text/plain": [
       "<rdkit.rdBase._vecti at 0x11c0b5d50>"
      ]
     },
     "execution_count": 187,
     "metadata": {},
     "output_type": "execute_result"
    }
   ],
   "source": [
    "fp1."
   ]
  },
  {
   "cell_type": "code",
   "execution_count": 172,
   "metadata": {},
   "outputs": [
    {
     "data": {
      "text/plain": [
       "rdkit.DataStructs.cDataStructs.ExplicitBitVect"
      ]
     },
     "execution_count": 172,
     "metadata": {},
     "output_type": "execute_result"
    }
   ],
   "source": [
    "type(fp1)"
   ]
  },
  {
   "cell_type": "code",
   "execution_count": 181,
   "metadata": {},
   "outputs": [
    {
     "data": {
      "text/plain": [
       "19"
      ]
     },
     "execution_count": 181,
     "metadata": {},
     "output_type": "execute_result"
    }
   ],
   "source": [
    "list(fp1.ToBinary())"
   ]
  },
  {
   "cell_type": "code",
   "execution_count": 175,
   "metadata": {},
   "outputs": [],
   "source": [
    "mol2 = Chem.MolFromSmiles(df.name_smiles[150])"
   ]
  },
  {
   "cell_type": "code",
   "execution_count": 182,
   "metadata": {},
   "outputs": [
    {
     "data": {
      "text/plain": [
       "<rdkit.DataStructs.cDataStructs.ExplicitBitVect at 0x11c0248f0>"
      ]
     },
     "execution_count": 182,
     "metadata": {},
     "output_type": "execute_result"
    }
   ],
   "source": [
    "AllChem.GetMorganFingerprintAsBitVect(mol2,2,nBits=1024)"
   ]
  },
  {
   "cell_type": "code",
   "execution_count": 179,
   "metadata": {},
   "outputs": [
    {
     "data": {
      "text/plain": [
       "256"
      ]
     },
     "execution_count": 179,
     "metadata": {},
     "output_type": "execute_result"
    }
   ],
   "source": [
    "2**8"
   ]
  },
  {
   "cell_type": "code",
   "execution_count": null,
   "metadata": {},
   "outputs": [],
   "source": []
  }
 ],
 "metadata": {
  "kernelspec": {
   "display_name": "test_speedcom",
   "language": "python",
   "name": "test_speedcom"
  },
  "language_info": {
   "codemirror_mode": {
    "name": "ipython",
    "version": 3
   },
   "file_extension": ".py",
   "mimetype": "text/x-python",
   "name": "python",
   "nbconvert_exporter": "python",
   "pygments_lexer": "ipython3",
   "version": "3.6.8"
  }
 },
 "nbformat": 4,
 "nbformat_minor": 2
}
