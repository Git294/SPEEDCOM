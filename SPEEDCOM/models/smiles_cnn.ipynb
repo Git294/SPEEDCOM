{
 "cells": [
  {
   "cell_type": "code",
   "execution_count": 1,
   "metadata": {},
   "outputs": [
    {
     "name": "stderr",
     "output_type": "stream",
     "text": [
      "C:\\Users\\Yang\\.conda\\envs\\test_speedcom\\lib\\importlib\\_bootstrap.py:219: RuntimeWarning: numpy.ufunc size changed, may indicate binary incompatibility. Expected 192 from C header, got 216 from PyObject\n",
      "  return f(*args, **kwds)\n",
      "Using TensorFlow backend.\n"
     ]
    }
   ],
   "source": [
    "import numpy as np\n",
    "import pandas as pd\n",
    "import matplotlib.pyplot as plt\n",
    "\n",
    "from keras import Sequential\n",
    "from keras.layers import Embedding, Conv1D, BatchNormalization, Flatten, Dense, Dropout\n",
    "from keras.optimizers import Adam\n",
    "from keras.callbacks import ReduceLROnPlateau, ModelCheckpoint\n",
    "\n",
    "from dataUtils import DataUtils\n",
    "from model_utils import ModelUtils"
   ]
  },
  {
   "cell_type": "code",
   "execution_count": 2,
   "metadata": {},
   "outputs": [
    {
     "name": "stdout",
     "output_type": "stream",
     "text": [
      "   #      Name      name_smiles  Wavelength  Epsilon  Quantum Yield\n",
      "0  1   Benzene      C1=CC=CC=C1      254.75      210          0.053\n",
      "1  2   Toluene     CC1=CC=CC=C1      261.75     2860          0.170\n",
      "2  3  o-Xylene    CC1=CC=CC=C1C      263.00      254          0.170\n",
      "3  4  m-Xylene  CC1=CC(=CC=C1)C      265.00      284          0.130\n",
      "4  5  p-Xylene  CC1=CC=C(C=C1)C      275.00      770          0.220\n"
     ]
    }
   ],
   "source": [
    "dset = DataUtils.readData('temp_cleaned_data.tsv', sep='\\t')"
   ]
  },
  {
   "cell_type": "code",
   "execution_count": 3,
   "metadata": {},
   "outputs": [],
   "source": [
    "X, y = DataUtils.get_xy(dset, 2, 3)"
   ]
  },
  {
   "cell_type": "code",
   "execution_count": 4,
   "metadata": {},
   "outputs": [],
   "source": [
    "word_map = DataUtils.get_wordmap(x_smiles=X)"
   ]
  },
  {
   "cell_type": "code",
   "execution_count": 5,
   "metadata": {},
   "outputs": [],
   "source": [
    "uniform_length = DataUtils.get_max_len(X) + 5"
   ]
  },
  {
   "cell_type": "code",
   "execution_count": 6,
   "metadata": {},
   "outputs": [],
   "source": [
    "X_numeric = DataUtils.numeric_encoding(x_list=X, word_map=word_map, uniform_length=uniform_length)"
   ]
  },
  {
   "cell_type": "code",
   "execution_count": 7,
   "metadata": {},
   "outputs": [
    {
     "name": "stdout",
     "output_type": "stream",
     "text": [
      "(213, 279)\n",
      "(54, 279)\n",
      "(213, 1)\n",
      "(54, 1)\n"
     ]
    }
   ],
   "source": [
    "X_train, X_test, y_train, y_test = DataUtils.splitData(x=X_numeric, y=y, ratio=0.2)\n",
    "y_train = np.reshape(y_train, (-1, 1))\n",
    "y_test = np.reshape(y_test, (-1, 1))\n",
    "print(X_train.shape)\n",
    "print(X_test.shape)\n",
    "print(y_train.shape)\n",
    "print(y_test.shape)\n"
   ]
  },
  {
   "cell_type": "code",
   "execution_count": 8,
   "metadata": {},
   "outputs": [
    {
     "name": "stdout",
     "output_type": "stream",
     "text": [
      "WARNING:tensorflow:From C:\\Users\\Yang\\AppData\\Roaming\\Python\\Python36\\site-packages\\tensorflow\\python\\framework\\op_def_library.py:263: colocate_with (from tensorflow.python.framework.ops) is deprecated and will be removed in a future version.\n",
      "Instructions for updating:\n",
      "Colocations handled automatically by placer.\n",
      "WARNING:tensorflow:From C:\\Users\\Yang\\.conda\\envs\\test_speedcom\\lib\\site-packages\\keras\\backend\\tensorflow_backend.py:3445: calling dropout (from tensorflow.python.ops.nn_ops) with keep_prob is deprecated and will be removed in a future version.\n",
      "Instructions for updating:\n",
      "Please use `rate` instead of `keep_prob`. Rate should be set to `rate = 1 - keep_prob`.\n",
      "_________________________________________________________________\n",
      "Layer (type)                 Output Shape              Param #   \n",
      "=================================================================\n",
      "embedding_1 (Embedding)      (None, 279, 50)           2250      \n",
      "_________________________________________________________________\n",
      "conv1d_1 (Conv1D)            (None, 270, 192)          96192     \n",
      "_________________________________________________________________\n",
      "batch_normalization_1 (Batch (None, 270, 192)          768       \n",
      "_________________________________________________________________\n",
      "conv1d_2 (Conv1D)            (None, 266, 192)          184512    \n",
      "_________________________________________________________________\n",
      "conv1d_3 (Conv1D)            (None, 264, 192)          110784    \n",
      "_________________________________________________________________\n",
      "flatten_1 (Flatten)          (None, 50688)             0         \n",
      "_________________________________________________________________\n",
      "dense_1 (Dense)              (None, 100)               5068900   \n",
      "_________________________________________________________________\n",
      "dropout_1 (Dropout)          (None, 100)               0         \n",
      "_________________________________________________________________\n",
      "dense_2 (Dense)              (None, 1)                 101       \n",
      "=================================================================\n",
      "Total params: 5,463,507\n",
      "Trainable params: 5,463,123\n",
      "Non-trainable params: 384\n",
      "_________________________________________________________________\n"
     ]
    }
   ],
   "source": [
    "model = Sequential()\n",
    "model.add(Embedding(len(word_map), 50, input_length=279))\n",
    "model.add(Conv1D(192,10,activation='relu'))\n",
    "model.add(BatchNormalization())\n",
    "model.add(Conv1D(192,5,activation='relu'))\n",
    "model.add(Conv1D(192,3,activation='relu'))\n",
    "model.add(Flatten())\n",
    "model.add(Dense(100, activation='relu'))\n",
    "model.add(Dropout(0.4))\n",
    "model.add(Dense(1, activation='linear'))\n",
    "model.summary()"
   ]
  },
  {
   "cell_type": "code",
   "execution_count": 9,
   "metadata": {},
   "outputs": [],
   "source": [
    "def coeff_determination(y_true, y_pred):\n",
    "    from keras import backend as K\n",
    "    SS_res =  K.sum(K.square( y_true-y_pred ))\n",
    "    SS_tot = K.sum(K.square( y_true - K.mean(y_true) ) )\n",
    "    return ( 1 - SS_res/(SS_tot + K.epsilon()) )\n",
    "def get_lr_metric(optimizer):\n",
    "    def lr(y_true, y_pred):\n",
    "        return optimizer.lr\n",
    "    return lr\n",
    "\n",
    "callbacks_list = [\n",
    "    ReduceLROnPlateau(monitor='val_loss', factor=0.5, patience=5, min_lr=1e-15, verbose=1, mode='auto',cooldown=0),\n",
    "    ModelCheckpoint(filepath=\"weights.best.hdf5\", monitor='val_loss', save_best_only=True, verbose=1, mode='auto')    \n",
    "]"
   ]
  },
  {
   "cell_type": "code",
   "execution_count": 10,
   "metadata": {},
   "outputs": [],
   "source": [
    "optimizer = Adam(lr=0.00025)\n",
    "lr_metric = get_lr_metric(optimizer)\n",
    "model.compile(loss=\"mse\", optimizer=optimizer, metrics=[coeff_determination, lr_metric])"
   ]
  },
  {
   "cell_type": "code",
   "execution_count": 11,
   "metadata": {},
   "outputs": [
    {
     "name": "stdout",
     "output_type": "stream",
     "text": [
      "WARNING:tensorflow:From C:\\Users\\Yang\\AppData\\Roaming\\Python\\Python36\\site-packages\\tensorflow\\python\\ops\\math_ops.py:3066: to_int32 (from tensorflow.python.ops.math_ops) is deprecated and will be removed in a future version.\n",
      "Instructions for updating:\n",
      "Use tf.cast instead.\n",
      "Train on 213 samples, validate on 54 samples\n",
      "Epoch 1/150\n",
      "213/213 [==============================] - 4s 20ms/step - loss: 159812.6114 - coeff_determination: -6.1621 - lr: 2.5000e-04 - val_loss: 130658.6172 - val_coeff_determination: -7.2533 - val_lr: 2.5000e-04\n",
      "Epoch 2/150\n",
      "213/213 [==============================] - 3s 14ms/step - loss: 153832.4275 - coeff_determination: -5.8484 - lr: 2.5000e-04 - val_loss: 114425.7969 - val_coeff_determination: -6.2280 - val_lr: 2.5000e-04\n",
      "Epoch 3/150\n",
      "213/213 [==============================] - 3s 14ms/step - loss: 139081.0855 - coeff_determination: -5.2161 - lr: 2.5000e-04 - val_loss: 84068.0391 - val_coeff_determination: -4.3103 - val_lr: 2.5000e-04\n",
      "Epoch 4/150\n",
      "213/213 [==============================] - 3s 14ms/step - loss: 111254.9998 - coeff_determination: -3.9441 - lr: 2.5000e-04 - val_loss: 40271.6250 - val_coeff_determination: -1.5438 - val_lr: 2.5000e-04\n",
      "Epoch 5/150\n",
      "213/213 [==============================] - 3s 14ms/step - loss: 71514.9959 - coeff_determination: -2.1828 - lr: 2.5000e-04 - val_loss: 13456.1738 - val_coeff_determination: 0.1500 - val_lr: 2.5000e-04\n",
      "Epoch 6/150\n",
      "213/213 [==============================] - 3s 14ms/step - loss: 28573.9478 - coeff_determination: -0.2839 - lr: 2.5000e-04 - val_loss: 122024.7031 - val_coeff_determination: -6.7080 - val_lr: 2.5000e-04\n",
      "Epoch 7/150\n",
      "213/213 [==============================] - 3s 14ms/step - loss: 31941.9902 - coeff_determination: -0.5131 - lr: 2.5000e-04 - val_loss: 256872.4688 - val_coeff_determination: -15.2259 - val_lr: 2.5000e-04\n",
      "Epoch 8/150\n",
      "213/213 [==============================] - 3s 14ms/step - loss: 50186.3023 - coeff_determination: -1.3115 - lr: 2.5000e-04 - val_loss: 124376.0625 - val_coeff_determination: -6.8565 - val_lr: 2.5000e-04\n",
      "Epoch 9/150\n",
      "213/213 [==============================] - 4s 18ms/step - loss: 21418.3759 - coeff_determination: 0.0458 - lr: 2.5000e-04 - val_loss: 33798.5781 - val_coeff_determination: -1.1350 - val_lr: 2.5000e-04\n",
      "Epoch 10/150\n",
      "213/213 [==============================] - 3s 16ms/step - loss: 18092.3715 - coeff_determination: 0.1976 - lr: 2.5000e-04 - val_loss: 12563.2559 - val_coeff_determination: 0.2064 - val_lr: 2.5000e-04\n",
      "Epoch 11/150\n",
      "213/213 [==============================] - 3s 14ms/step - loss: 23153.0601 - coeff_determination: -0.0424 - lr: 2.5000e-04 - val_loss: 11659.2314 - val_coeff_determination: 0.2635 - val_lr: 2.5000e-04\n",
      "Epoch 12/150\n",
      "213/213 [==============================] - 3s 14ms/step - loss: 26187.7337 - coeff_determination: -0.1767 - lr: 2.5000e-04 - val_loss: 11470.6787 - val_coeff_determination: 0.2754 - val_lr: 2.5000e-04\n",
      "Epoch 13/150\n",
      "213/213 [==============================] - 3s 15ms/step - loss: 24645.6754 - coeff_determination: -0.0863 - lr: 2.5000e-04 - val_loss: 13658.2363 - val_coeff_determination: 0.1372 - val_lr: 2.5000e-04\n",
      "Epoch 14/150\n",
      "213/213 [==============================] - 3s 15ms/step - loss: 19851.1037 - coeff_determination: 0.1208 - lr: 2.5000e-04 - val_loss: 27208.0840 - val_coeff_determination: -0.7187 - val_lr: 2.5000e-04\n",
      "Epoch 15/150\n",
      "213/213 [==============================] - 3s 15ms/step - loss: 15456.7810 - coeff_determination: 0.3004 - lr: 2.5000e-04 - val_loss: 49873.7930 - val_coeff_determination: -2.1504 - val_lr: 2.5000e-04\n",
      "Epoch 16/150\n",
      "213/213 [==============================] - 3s 15ms/step - loss: 16420.0253 - coeff_determination: 0.2745 - lr: 2.5000e-04 - val_loss: 62148.5742 - val_coeff_determination: -2.9258 - val_lr: 2.5000e-04\n",
      "Epoch 17/150\n",
      "213/213 [==============================] - 3s 15ms/step - loss: 16562.9550 - coeff_determination: 0.2730 - lr: 2.5000e-04 - val_loss: 53090.9258 - val_coeff_determination: -2.3536 - val_lr: 2.5000e-04\n",
      "Epoch 18/150\n",
      "213/213 [==============================] - 3s 15ms/step - loss: 16934.9944 - coeff_determination: 0.2476 - lr: 2.5000e-04 - val_loss: 34130.9062 - val_coeff_determination: -1.1560 - val_lr: 2.5000e-04\n",
      "Epoch 19/150\n",
      "213/213 [==============================] - 3s 15ms/step - loss: 15214.0747 - coeff_determination: 0.3322 - lr: 2.5000e-04 - val_loss: 18657.3730 - val_coeff_determination: -0.1785 - val_lr: 2.5000e-04\n",
      "Epoch 20/150\n",
      "213/213 [==============================] - 3s 15ms/step - loss: 14624.1876 - coeff_determination: 0.3464 - lr: 2.5000e-04 - val_loss: 13040.0977 - val_coeff_determination: 0.1763 - val_lr: 2.5000e-04\n",
      "Epoch 21/150\n",
      "213/213 [==============================] - 3s 15ms/step - loss: 14809.3783 - coeff_determination: 0.3393 - lr: 2.5000e-04 - val_loss: 11667.5645 - val_coeff_determination: 0.2630 - val_lr: 2.5000e-04\n",
      "Epoch 22/150\n",
      "213/213 [==============================] - 3s 15ms/step - loss: 14329.6562 - coeff_determination: 0.3622 - lr: 2.5000e-04 - val_loss: 12921.7256 - val_coeff_determination: 0.1838 - val_lr: 2.5000e-04\n",
      "Epoch 23/150\n",
      "213/213 [==============================] - 3s 15ms/step - loss: 14496.0317 - coeff_determination: 0.3518 - lr: 2.5000e-04 - val_loss: 16937.9238 - val_coeff_determination: -0.0699 - val_lr: 2.5000e-04\n",
      "Epoch 24/150\n",
      "213/213 [==============================] - 3s 15ms/step - loss: 13792.1079 - coeff_determination: 0.3729 - lr: 2.5000e-04 - val_loss: 22376.7598 - val_coeff_determination: -0.4135 - val_lr: 2.5000e-04\n",
      "Epoch 25/150\n",
      "213/213 [==============================] - 3s 16ms/step - loss: 14139.9691 - coeff_determination: 0.3649 - lr: 2.5000e-04 - val_loss: 22337.3867 - val_coeff_determination: -0.4110 - val_lr: 2.5000e-04\n",
      "Epoch 26/150\n",
      "213/213 [==============================] - 3s 15ms/step - loss: 12667.2875 - coeff_determination: 0.4386 - lr: 2.5000e-04 - val_loss: 17629.9180 - val_coeff_determination: -0.1136 - val_lr: 2.5000e-04\n",
      "Epoch 27/150\n",
      "213/213 [==============================] - 3s 15ms/step - loss: 14237.0435 - coeff_determination: 0.3632 - lr: 2.5000e-04 - val_loss: 13583.2510 - val_coeff_determination: 0.1420 - val_lr: 2.5000e-04\n",
      "Epoch 28/150\n",
      "213/213 [==============================] - 3s 15ms/step - loss: 13555.6239 - coeff_determination: 0.3864 - lr: 2.5000e-04 - val_loss: 12124.3926 - val_coeff_determination: 0.2341 - val_lr: 2.5000e-04\n",
      "Epoch 29/150\n",
      "213/213 [==============================] - 4s 18ms/step - loss: 13082.8375 - coeff_determination: 0.4186 - lr: 2.5000e-04 - val_loss: 12117.2314 - val_coeff_determination: 0.2346 - val_lr: 2.5000e-04\n",
      "Epoch 30/150\n",
      "213/213 [==============================] - 3s 16ms/step - loss: 12990.0186 - coeff_determination: 0.4206 - lr: 2.5000e-04 - val_loss: 13220.8486 - val_coeff_determination: 0.1649 - val_lr: 2.5000e-04\n",
      "Epoch 31/150\n",
      "213/213 [==============================] - 3s 16ms/step - loss: 12535.1209 - coeff_determination: 0.4421 - lr: 2.5000e-04 - val_loss: 14817.0205 - val_coeff_determination: 0.0640 - val_lr: 2.5000e-04\n",
      "Epoch 32/150\n",
      "213/213 [==============================] - 3s 16ms/step - loss: 10282.5219 - coeff_determination: 0.5317 - lr: 2.5000e-04 - val_loss: 16380.2949 - val_coeff_determination: -0.0347 - val_lr: 2.5000e-04\n",
      "Epoch 33/150\n",
      "213/213 [==============================] - 4s 18ms/step - loss: 12382.0861 - coeff_determination: 0.4355 - lr: 2.5000e-04 - val_loss: 16651.8027 - val_coeff_determination: -0.0518 - val_lr: 2.5000e-04\n",
      "Epoch 34/150\n",
      "213/213 [==============================] - 4s 17ms/step - loss: 11625.3586 - coeff_determination: 0.4886 - lr: 2.5000e-04 - val_loss: 15779.8193 - val_coeff_determination: 0.0032 - val_lr: 2.5000e-04\n",
      "Epoch 35/150\n",
      "213/213 [==============================] - 4s 17ms/step - loss: 13858.2474 - coeff_determination: 0.3890 - lr: 2.5000e-04 - val_loss: 13204.3896 - val_coeff_determination: 0.1659 - val_lr: 2.5000e-04\n",
      "Epoch 36/150\n",
      "213/213 [==============================] - 3s 15ms/step - loss: 11058.0780 - coeff_determination: 0.5041 - lr: 2.5000e-04 - val_loss: 11980.9062 - val_coeff_determination: 0.2432 - val_lr: 2.5000e-04\n",
      "Epoch 37/150\n",
      "213/213 [==============================] - 3s 16ms/step - loss: 12268.5227 - coeff_determination: 0.4393 - lr: 2.5000e-04 - val_loss: 11779.0137 - val_coeff_determination: 0.2560 - val_lr: 2.5000e-04\n"
     ]
    },
    {
     "name": "stdout",
     "output_type": "stream",
     "text": [
      "Epoch 38/150\n",
      "213/213 [==============================] - 3s 16ms/step - loss: 12948.4158 - coeff_determination: 0.4252 - lr: 2.5000e-04 - val_loss: 12264.6553 - val_coeff_determination: 0.2253 - val_lr: 2.5000e-04\n",
      "Epoch 39/150\n",
      "213/213 [==============================] - 3s 15ms/step - loss: 10290.9027 - coeff_determination: 0.5421 - lr: 2.5000e-04 - val_loss: 13653.8037 - val_coeff_determination: 0.1375 - val_lr: 2.5000e-04\n",
      "Epoch 40/150\n",
      "213/213 [==============================] - 3s 15ms/step - loss: 11052.3108 - coeff_determination: 0.4976 - lr: 2.5000e-04 - val_loss: 15131.3818 - val_coeff_determination: 0.0442 - val_lr: 2.5000e-04\n",
      "Epoch 41/150\n",
      "213/213 [==============================] - 4s 18ms/step - loss: 13076.3581 - coeff_determination: 0.4160 - lr: 2.5000e-04 - val_loss: 15429.3828 - val_coeff_determination: 0.0254 - val_lr: 2.5000e-04\n",
      "Epoch 42/150\n",
      "213/213 [==============================] - 4s 18ms/step - loss: 13122.8100 - coeff_determination: 0.4148 - lr: 2.5000e-04 - val_loss: 13996.4434 - val_coeff_determination: 0.1159 - val_lr: 2.5000e-04\n",
      "Epoch 43/150\n",
      "213/213 [==============================] - 3s 15ms/step - loss: 11849.2754 - coeff_determination: 0.4649 - lr: 2.5000e-04 - val_loss: 12459.5010 - val_coeff_determination: 0.2130 - val_lr: 2.5000e-04\n",
      "Epoch 44/150\n",
      "213/213 [==============================] - 3s 15ms/step - loss: 11700.9077 - coeff_determination: 0.4797 - lr: 2.5000e-04 - val_loss: 11876.9834 - val_coeff_determination: 0.2498 - val_lr: 2.5000e-04\n",
      "Epoch 45/150\n",
      "213/213 [==============================] - 3s 15ms/step - loss: 13199.2145 - coeff_determination: 0.4055 - lr: 2.5000e-04 - val_loss: 11911.3809 - val_coeff_determination: 0.2476 - val_lr: 2.5000e-04\n",
      "Epoch 46/150\n",
      "213/213 [==============================] - 3s 15ms/step - loss: 12062.7584 - coeff_determination: 0.4660 - lr: 2.5000e-04 - val_loss: 12622.8877 - val_coeff_determination: 0.2026 - val_lr: 2.5000e-04\n",
      "Epoch 47/150\n",
      "213/213 [==============================] - 3s 15ms/step - loss: 10382.3957 - coeff_determination: 0.5376 - lr: 2.5000e-04 - val_loss: 14765.5752 - val_coeff_determination: 0.0673 - val_lr: 2.5000e-04\n",
      "Epoch 48/150\n",
      "213/213 [==============================] - 3s 15ms/step - loss: 10987.1741 - coeff_determination: 0.5087 - lr: 2.5000e-04 - val_loss: 16261.9580 - val_coeff_determination: -0.0272 - val_lr: 2.5000e-04\n",
      "Epoch 49/150\n",
      "213/213 [==============================] - 3s 15ms/step - loss: 11055.2642 - coeff_determination: 0.4990 - lr: 2.5000e-04 - val_loss: 15062.9307 - val_coeff_determination: 0.0485 - val_lr: 2.5000e-04\n",
      "Epoch 50/150\n",
      "213/213 [==============================] - 3s 15ms/step - loss: 10085.6696 - coeff_determination: 0.5442 - lr: 2.5000e-04 - val_loss: 12988.4102 - val_coeff_determination: 0.1796 - val_lr: 2.5000e-04\n",
      "Epoch 51/150\n",
      "213/213 [==============================] - 3s 16ms/step - loss: 11338.8415 - coeff_determination: 0.4924 - lr: 2.5000e-04 - val_loss: 12232.9238 - val_coeff_determination: 0.2273 - val_lr: 2.5000e-04\n",
      "Epoch 52/150\n",
      "213/213 [==============================] - 3s 16ms/step - loss: 10767.8961 - coeff_determination: 0.5202 - lr: 2.5000e-04 - val_loss: 12367.3701 - val_coeff_determination: 0.2188 - val_lr: 2.5000e-04\n",
      "Epoch 53/150\n",
      "213/213 [==============================] - 3s 16ms/step - loss: 10576.3027 - coeff_determination: 0.5260 - lr: 2.5000e-04 - val_loss: 13265.1025 - val_coeff_determination: 0.1621 - val_lr: 2.5000e-04\n",
      "Epoch 54/150\n",
      "213/213 [==============================] - 3s 16ms/step - loss: 10921.1331 - coeff_determination: 0.5131 - lr: 2.5000e-04 - val_loss: 14244.2500 - val_coeff_determination: 0.1002 - val_lr: 2.5000e-04\n",
      "Epoch 55/150\n",
      "213/213 [==============================] - 3s 16ms/step - loss: 10746.9677 - coeff_determination: 0.5206 - lr: 2.5000e-04 - val_loss: 13749.9746 - val_coeff_determination: 0.1315 - val_lr: 2.5000e-04\n",
      "Epoch 56/150\n",
      "213/213 [==============================] - 4s 17ms/step - loss: 10975.8715 - coeff_determination: 0.5047 - lr: 2.5000e-04 - val_loss: 12453.5625 - val_coeff_determination: 0.2133 - val_lr: 2.5000e-04\n",
      "Epoch 57/150\n",
      "213/213 [==============================] - 3s 16ms/step - loss: 12099.8034 - coeff_determination: 0.4544 - lr: 2.5000e-04 - val_loss: 11851.5059 - val_coeff_determination: 0.2514 - val_lr: 2.5000e-04\n",
      "Epoch 58/150\n",
      "213/213 [==============================] - 3s 16ms/step - loss: 9723.5308 - coeff_determination: 0.5701 - lr: 2.5000e-04 - val_loss: 12193.9932 - val_coeff_determination: 0.2297 - val_lr: 2.5000e-04\n",
      "Epoch 59/150\n",
      "213/213 [==============================] - 3s 15ms/step - loss: 11813.3545 - coeff_determination: 0.4749 - lr: 2.5000e-04 - val_loss: 12620.0137 - val_coeff_determination: 0.2028 - val_lr: 2.5000e-04\n",
      "Epoch 60/150\n",
      "213/213 [==============================] - 4s 17ms/step - loss: 9920.3139 - coeff_determination: 0.5581 - lr: 2.5000e-04 - val_loss: 12748.6191 - val_coeff_determination: 0.1947 - val_lr: 2.5000e-04\n",
      "Epoch 61/150\n",
      "213/213 [==============================] - 3s 16ms/step - loss: 10238.7011 - coeff_determination: 0.5430 - lr: 2.5000e-04 - val_loss: 13028.2178 - val_coeff_determination: 0.1770 - val_lr: 2.5000e-04\n",
      "Epoch 62/150\n",
      "213/213 [==============================] - 3s 15ms/step - loss: 9130.3486 - coeff_determination: 0.6014 - lr: 2.5000e-04 - val_loss: 12270.8584 - val_coeff_determination: 0.2249 - val_lr: 2.5000e-04\n",
      "Epoch 63/150\n",
      "213/213 [==============================] - 3s 16ms/step - loss: 8458.2874 - coeff_determination: 0.6225 - lr: 2.5000e-04 - val_loss: 11636.2148 - val_coeff_determination: 0.2650 - val_lr: 2.5000e-04\n",
      "Epoch 64/150\n",
      "213/213 [==============================] - 3s 16ms/step - loss: 10246.5036 - coeff_determination: 0.5425 - lr: 2.5000e-04 - val_loss: 11291.5176 - val_coeff_determination: 0.2867 - val_lr: 2.5000e-04\n",
      "Epoch 65/150\n",
      "213/213 [==============================] - 3s 16ms/step - loss: 9074.8304 - coeff_determination: 0.5956 - lr: 2.5000e-04 - val_loss: 11383.9541 - val_coeff_determination: 0.2809 - val_lr: 2.5000e-04\n",
      "Epoch 66/150\n",
      "213/213 [==============================] - 3s 16ms/step - loss: 9122.8010 - coeff_determination: 0.5933 - lr: 2.5000e-04 - val_loss: 12411.2930 - val_coeff_determination: 0.2160 - val_lr: 2.5000e-04\n",
      "Epoch 67/150\n",
      "213/213 [==============================] - 3s 16ms/step - loss: 9685.2287 - coeff_determination: 0.5695 - lr: 2.5000e-04 - val_loss: 12670.7305 - val_coeff_determination: 0.1996 - val_lr: 2.5000e-04\n",
      "Epoch 68/150\n",
      "213/213 [==============================] - 3s 16ms/step - loss: 9492.2481 - coeff_determination: 0.5433 - lr: 2.5000e-04 - val_loss: 11500.4609 - val_coeff_determination: 0.2735 - val_lr: 2.5000e-04\n",
      "Epoch 69/150\n",
      "213/213 [==============================] - 3s 16ms/step - loss: 8483.5344 - coeff_determination: 0.6156 - lr: 2.5000e-04 - val_loss: 10860.1064 - val_coeff_determination: 0.3140 - val_lr: 2.5000e-04\n",
      "Epoch 70/150\n",
      "213/213 [==============================] - 3s 16ms/step - loss: 9628.6881 - coeff_determination: 0.5591 - lr: 2.5000e-04 - val_loss: 10840.8633 - val_coeff_determination: 0.3152 - val_lr: 2.5000e-04\n",
      "Epoch 71/150\n",
      "213/213 [==============================] - 3s 16ms/step - loss: 8960.1902 - coeff_determination: 0.5858 - lr: 2.5000e-04 - val_loss: 11726.5068 - val_coeff_determination: 0.2593 - val_lr: 2.5000e-04\n",
      "Epoch 72/150\n",
      "213/213 [==============================] - 4s 16ms/step - loss: 8445.4680 - coeff_determination: 0.6184 - lr: 2.5000e-04 - val_loss: 13126.4775 - val_coeff_determination: 0.1708 - val_lr: 2.5000e-04\n",
      "Epoch 73/150\n",
      "213/213 [==============================] - 4s 18ms/step - loss: 8582.7030 - coeff_determination: 0.6105 - lr: 2.5000e-04 - val_loss: 11667.9727 - val_coeff_determination: 0.2630 - val_lr: 2.5000e-04\n",
      "Epoch 74/150\n",
      "213/213 [==============================] - 4s 17ms/step - loss: 8965.4737 - coeff_determination: 0.6002 - lr: 2.5000e-04 - val_loss: 10415.2930 - val_coeff_determination: 0.3421 - val_lr: 2.5000e-04\n",
      "Epoch 75/150\n",
      "213/213 [==============================] - 3s 15ms/step - loss: 7679.6958 - coeff_determination: 0.6564 - lr: 2.5000e-04 - val_loss: 10172.2373 - val_coeff_determination: 0.3574 - val_lr: 2.5000e-04\n",
      "Epoch 76/150\n"
     ]
    },
    {
     "name": "stdout",
     "output_type": "stream",
     "text": [
      "213/213 [==============================] - 3s 16ms/step - loss: 9299.8028 - coeff_determination: 0.5912 - lr: 2.5000e-04 - val_loss: 10001.6299 - val_coeff_determination: 0.3682 - val_lr: 2.5000e-04\n",
      "Epoch 77/150\n",
      "213/213 [==============================] - 3s 16ms/step - loss: 8621.7284 - coeff_determination: 0.6164 - lr: 2.5000e-04 - val_loss: 10071.6992 - val_coeff_determination: 0.3638 - val_lr: 2.5000e-04\n",
      "Epoch 78/150\n",
      "213/213 [==============================] - 3s 16ms/step - loss: 8259.7825 - coeff_determination: 0.6269 - lr: 2.5000e-04 - val_loss: 11078.7852 - val_coeff_determination: 0.3002 - val_lr: 2.5000e-04\n",
      "Epoch 79/150\n",
      "213/213 [==============================] - 3s 16ms/step - loss: 7066.8070 - coeff_determination: 0.6666 - lr: 2.5000e-04 - val_loss: 10978.9072 - val_coeff_determination: 0.3065 - val_lr: 2.5000e-04\n",
      "Epoch 80/150\n",
      "213/213 [==============================] - 3s 15ms/step - loss: 8304.6861 - coeff_determination: 0.6308 - lr: 2.5000e-04 - val_loss: 10490.3105 - val_coeff_determination: 0.3374 - val_lr: 2.5000e-04\n",
      "Epoch 81/150\n",
      "213/213 [==============================] - 3s 16ms/step - loss: 7395.9118 - coeff_determination: 0.6758 - lr: 2.5000e-04 - val_loss: 10281.6484 - val_coeff_determination: 0.3505 - val_lr: 2.5000e-04\n",
      "Epoch 82/150\n",
      "213/213 [==============================] - 3s 16ms/step - loss: 7130.3129 - coeff_determination: 0.6834 - lr: 2.5000e-04 - val_loss: 10412.1836 - val_coeff_determination: 0.3423 - val_lr: 2.5000e-04\n",
      "Epoch 83/150\n",
      "213/213 [==============================] - 4s 16ms/step - loss: 6924.4475 - coeff_determination: 0.6903 - lr: 2.5000e-04 - val_loss: 10550.7178 - val_coeff_determination: 0.3335 - val_lr: 2.5000e-04\n",
      "Epoch 84/150\n",
      "213/213 [==============================] - 3s 16ms/step - loss: 8123.4780 - coeff_determination: 0.6364 - lr: 2.5000e-04 - val_loss: 10660.7363 - val_coeff_determination: 0.3266 - val_lr: 2.5000e-04\n",
      "Epoch 85/150\n",
      "213/213 [==============================] - 3s 16ms/step - loss: 8332.7156 - coeff_determination: 0.6209 - lr: 2.5000e-04 - val_loss: 10616.0400 - val_coeff_determination: 0.3294 - val_lr: 2.5000e-04\n",
      "Epoch 86/150\n",
      "213/213 [==============================] - 3s 15ms/step - loss: 7156.2758 - coeff_determination: 0.6818 - lr: 2.5000e-04 - val_loss: 10235.8613 - val_coeff_determination: 0.3534 - val_lr: 2.5000e-04\n",
      "Epoch 87/150\n",
      "213/213 [==============================] - 3s 16ms/step - loss: 6835.6727 - coeff_determination: 0.6956 - lr: 2.5000e-04 - val_loss: 9998.7363 - val_coeff_determination: 0.3684 - val_lr: 2.5000e-04\n",
      "Epoch 88/150\n",
      "213/213 [==============================] - 3s 16ms/step - loss: 7336.0375 - coeff_determination: 0.6735 - lr: 2.5000e-04 - val_loss: 9990.7881 - val_coeff_determination: 0.3689 - val_lr: 2.5000e-04\n",
      "Epoch 89/150\n",
      "213/213 [==============================] - 3s 16ms/step - loss: 7491.7978 - coeff_determination: 0.6624 - lr: 2.5000e-04 - val_loss: 10511.5645 - val_coeff_determination: 0.3360 - val_lr: 2.5000e-04\n",
      "Epoch 90/150\n",
      "213/213 [==============================] - 3s 15ms/step - loss: 8253.9222 - coeff_determination: 0.6299 - lr: 2.5000e-04 - val_loss: 10138.9121 - val_coeff_determination: 0.3596 - val_lr: 2.5000e-04\n",
      "Epoch 91/150\n",
      "213/213 [==============================] - 3s 15ms/step - loss: 7167.4660 - coeff_determination: 0.6816 - lr: 2.5000e-04 - val_loss: 9413.0479 - val_coeff_determination: 0.4054 - val_lr: 2.5000e-04\n",
      "Epoch 92/150\n",
      "213/213 [==============================] - 3s 15ms/step - loss: 8975.8438 - coeff_determination: 0.6069 - lr: 2.5000e-04 - val_loss: 9292.8037 - val_coeff_determination: 0.4130 - val_lr: 2.5000e-04\n",
      "Epoch 93/150\n",
      "213/213 [==============================] - 3s 15ms/step - loss: 7995.4442 - coeff_determination: 0.6415 - lr: 2.5000e-04 - val_loss: 10074.2168 - val_coeff_determination: 0.3636 - val_lr: 2.5000e-04\n",
      "Epoch 94/150\n",
      "213/213 [==============================] - 3s 15ms/step - loss: 6611.0589 - coeff_determination: 0.7046 - lr: 2.5000e-04 - val_loss: 10849.5420 - val_coeff_determination: 0.3147 - val_lr: 2.5000e-04\n",
      "Epoch 95/150\n",
      "213/213 [==============================] - 3s 15ms/step - loss: 7725.6086 - coeff_determination: 0.6438 - lr: 2.5000e-04 - val_loss: 10014.3809 - val_coeff_determination: 0.3674 - val_lr: 2.5000e-04\n",
      "Epoch 96/150\n",
      "213/213 [==============================] - 3s 16ms/step - loss: 6775.4339 - coeff_determination: 0.6986 - lr: 2.5000e-04 - val_loss: 9395.9092 - val_coeff_determination: 0.4065 - val_lr: 2.5000e-04\n",
      "Epoch 97/150\n",
      "213/213 [==============================] - 3s 15ms/step - loss: 7272.3005 - coeff_determination: 0.6764 - lr: 2.5000e-04 - val_loss: 9512.2695 - val_coeff_determination: 0.3991 - val_lr: 2.5000e-04\n",
      "Epoch 98/150\n",
      "213/213 [==============================] - 3s 15ms/step - loss: 6850.7238 - coeff_determination: 0.6809 - lr: 2.5000e-04 - val_loss: 10840.5127 - val_coeff_determination: 0.3152 - val_lr: 2.5000e-04\n",
      "Epoch 99/150\n",
      "213/213 [==============================] - 3s 15ms/step - loss: 7109.9165 - coeff_determination: 0.6787 - lr: 2.5000e-04 - val_loss: 11961.2266 - val_coeff_determination: 0.2444 - val_lr: 2.5000e-04\n",
      "Epoch 100/150\n",
      "213/213 [==============================] - 3s 15ms/step - loss: 5944.0754 - coeff_determination: 0.7356 - lr: 2.5000e-04 - val_loss: 10130.2637 - val_coeff_determination: 0.3601 - val_lr: 2.5000e-04\n",
      "Epoch 101/150\n",
      "213/213 [==============================] - 3s 15ms/step - loss: 7147.1729 - coeff_determination: 0.6821 - lr: 2.5000e-04 - val_loss: 10022.8291 - val_coeff_determination: 0.3669 - val_lr: 2.5000e-04\n",
      "Epoch 102/150\n",
      "213/213 [==============================] - 3s 15ms/step - loss: 6634.7614 - coeff_determination: 0.7038 - lr: 2.5000e-04 - val_loss: 10355.4980 - val_coeff_determination: 0.3459 - val_lr: 2.5000e-04\n",
      "Epoch 103/150\n",
      "213/213 [==============================] - 3s 15ms/step - loss: 7201.1324 - coeff_determination: 0.6759 - lr: 2.5000e-04 - val_loss: 10637.7100 - val_coeff_determination: 0.3280 - val_lr: 2.5000e-04\n",
      "Epoch 104/150\n",
      "213/213 [==============================] - 3s 15ms/step - loss: 6298.8877 - coeff_determination: 0.7167 - lr: 2.5000e-04 - val_loss: 10205.8818 - val_coeff_determination: 0.3553 - val_lr: 2.5000e-04\n",
      "Epoch 105/150\n",
      "213/213 [==============================] - 3s 16ms/step - loss: 7346.4904 - coeff_determination: 0.6726 - lr: 2.5000e-04 - val_loss: 10061.1523 - val_coeff_determination: 0.3645 - val_lr: 2.5000e-04\n",
      "Epoch 106/150\n",
      "213/213 [==============================] - 3s 16ms/step - loss: 7027.5687 - coeff_determination: 0.6876 - lr: 2.5000e-04 - val_loss: 10317.9941 - val_coeff_determination: 0.3482 - val_lr: 2.5000e-04\n",
      "Epoch 107/150\n",
      "213/213 [==============================] - 3s 15ms/step - loss: 6123.8950 - coeff_determination: 0.7230 - lr: 2.5000e-04 - val_loss: 10399.3809 - val_coeff_determination: 0.3431 - val_lr: 2.5000e-04\n",
      "Epoch 108/150\n",
      "213/213 [==============================] - 3s 15ms/step - loss: 6783.4029 - coeff_determination: 0.6988 - lr: 2.5000e-04 - val_loss: 10307.4707 - val_coeff_determination: 0.3489 - val_lr: 2.5000e-04\n",
      "Epoch 109/150\n",
      "213/213 [==============================] - 3s 15ms/step - loss: 6876.1928 - coeff_determination: 0.6826 - lr: 2.5000e-04 - val_loss: 9769.9521 - val_coeff_determination: 0.3829 - val_lr: 2.5000e-04\n",
      "Epoch 110/150\n",
      "213/213 [==============================] - 3s 15ms/step - loss: 6669.3779 - coeff_determination: 0.6963 - lr: 2.5000e-04 - val_loss: 9519.0293 - val_coeff_determination: 0.3987 - val_lr: 2.5000e-04\n",
      "Epoch 111/150\n",
      "213/213 [==============================] - 3s 15ms/step - loss: 6385.1042 - coeff_determination: 0.7130 - lr: 2.5000e-04 - val_loss: 9752.5605 - val_coeff_determination: 0.3840 - val_lr: 2.5000e-04\n",
      "Epoch 112/150\n",
      "213/213 [==============================] - 3s 15ms/step - loss: 5819.5374 - coeff_determination: 0.7407 - lr: 2.5000e-04 - val_loss: 11656.8311 - val_coeff_determination: 0.2637 - val_lr: 2.5000e-04\n",
      "Epoch 113/150\n",
      "213/213 [==============================] - 3s 15ms/step - loss: 7501.5828 - coeff_determination: 0.6668 - lr: 2.5000e-04 - val_loss: 9619.6123 - val_coeff_determination: 0.3924 - val_lr: 2.5000e-04\n",
      "Epoch 114/150\n",
      "213/213 [==============================] - 3s 15ms/step - loss: 6362.4527 - coeff_determination: 0.6943 - lr: 2.5000e-04 - val_loss: 8995.6338 - val_coeff_determination: 0.4318 - val_lr: 2.5000e-04\n"
     ]
    },
    {
     "name": "stdout",
     "output_type": "stream",
     "text": [
      "Epoch 115/150\n",
      "213/213 [==============================] - 3s 15ms/step - loss: 6653.9232 - coeff_determination: 0.7051 - lr: 2.5000e-04 - val_loss: 9167.7891 - val_coeff_determination: 0.4209 - val_lr: 2.5000e-04\n",
      "Epoch 116/150\n",
      "213/213 [==============================] - 3s 15ms/step - loss: 5585.0134 - coeff_determination: 0.7499 - lr: 2.5000e-04 - val_loss: 10609.5605 - val_coeff_determination: 0.3298 - val_lr: 2.5000e-04\n",
      "Epoch 117/150\n",
      "213/213 [==============================] - 3s 16ms/step - loss: 6397.8893 - coeff_determination: 0.7063 - lr: 2.5000e-04 - val_loss: 10205.2334 - val_coeff_determination: 0.3554 - val_lr: 2.5000e-04\n",
      "Epoch 118/150\n",
      "213/213 [==============================] - 3s 15ms/step - loss: 5743.5585 - coeff_determination: 0.7422 - lr: 2.5000e-04 - val_loss: 9343.8926 - val_coeff_determination: 0.4098 - val_lr: 2.5000e-04\n",
      "Epoch 119/150\n",
      "213/213 [==============================] - 3s 15ms/step - loss: 5856.7405 - coeff_determination: 0.7395 - lr: 2.5000e-04 - val_loss: 10087.3291 - val_coeff_determination: 0.3628 - val_lr: 2.5000e-04\n",
      "Epoch 120/150\n",
      "213/213 [==============================] - 3s 16ms/step - loss: 5963.5137 - coeff_determination: 0.7357 - lr: 2.5000e-04 - val_loss: 10566.0869 - val_coeff_determination: 0.3326 - val_lr: 2.5000e-04\n",
      "Epoch 121/150\n",
      "213/213 [==============================] - 3s 16ms/step - loss: 6224.9143 - coeff_determination: 0.7227 - lr: 2.5000e-04 - val_loss: 9975.8525 - val_coeff_determination: 0.3699 - val_lr: 2.5000e-04\n",
      "Epoch 122/150\n",
      "213/213 [==============================] - 3s 15ms/step - loss: 5035.0133 - coeff_determination: 0.7664 - lr: 2.5000e-04 - val_loss: 9865.2393 - val_coeff_determination: 0.3768 - val_lr: 2.5000e-04\n",
      "Epoch 123/150\n",
      "213/213 [==============================] - 3s 15ms/step - loss: 7037.4619 - coeff_determination: 0.6775 - lr: 2.5000e-04 - val_loss: 10477.5879 - val_coeff_determination: 0.3382 - val_lr: 2.5000e-04\n",
      "Epoch 124/150\n",
      "213/213 [==============================] - 3s 15ms/step - loss: 5718.9694 - coeff_determination: 0.7465 - lr: 2.5000e-04 - val_loss: 10833.5674 - val_coeff_determination: 0.3157 - val_lr: 2.5000e-04\n",
      "Epoch 125/150\n",
      "213/213 [==============================] - 3s 15ms/step - loss: 5571.5208 - coeff_determination: 0.7506 - lr: 2.5000e-04 - val_loss: 11038.9434 - val_coeff_determination: 0.3027 - val_lr: 2.5000e-04\n",
      "Epoch 126/150\n",
      "213/213 [==============================] - 4s 17ms/step - loss: 6444.8611 - coeff_determination: 0.7134 - lr: 2.5000e-04 - val_loss: 9732.2939 - val_coeff_determination: 0.3852 - val_lr: 2.5000e-04\n",
      "Epoch 127/150\n",
      "213/213 [==============================] - 3s 15ms/step - loss: 5418.1563 - coeff_determination: 0.7570 - lr: 2.5000e-04 - val_loss: 9738.2295 - val_coeff_determination: 0.3849 - val_lr: 2.5000e-04\n",
      "Epoch 128/150\n",
      "213/213 [==============================] - 3s 16ms/step - loss: 5318.6735 - coeff_determination: 0.7669 - lr: 2.5000e-04 - val_loss: 11197.1436 - val_coeff_determination: 0.2927 - val_lr: 2.5000e-04\n",
      "Epoch 129/150\n",
      "213/213 [==============================] - 4s 16ms/step - loss: 4917.8204 - coeff_determination: 0.7813 - lr: 2.5000e-04 - val_loss: 10859.3291 - val_coeff_determination: 0.3140 - val_lr: 2.5000e-04\n",
      "Epoch 130/150\n",
      "213/213 [==============================] - 3s 16ms/step - loss: 5094.6743 - coeff_determination: 0.7679 - lr: 2.5000e-04 - val_loss: 9607.3018 - val_coeff_determination: 0.3931 - val_lr: 2.5000e-04\n",
      "Epoch 131/150\n",
      "213/213 [==============================] - 3s 16ms/step - loss: 5133.1048 - coeff_determination: 0.7718 - lr: 2.5000e-04 - val_loss: 9890.4141 - val_coeff_determination: 0.3752 - val_lr: 2.5000e-04\n",
      "Epoch 132/150\n",
      "213/213 [==============================] - 3s 16ms/step - loss: 5679.2971 - coeff_determination: 0.7388 - lr: 2.5000e-04 - val_loss: 11225.0137 - val_coeff_determination: 0.2909 - val_lr: 2.5000e-04\n",
      "Epoch 133/150\n",
      "213/213 [==============================] - 3s 16ms/step - loss: 5353.5363 - coeff_determination: 0.7605 - lr: 2.5000e-04 - val_loss: 10391.9727 - val_coeff_determination: 0.3436 - val_lr: 2.5000e-04\n",
      "Epoch 134/150\n",
      "213/213 [==============================] - 3s 15ms/step - loss: 4679.8814 - coeff_determination: 0.7867 - lr: 2.5000e-04 - val_loss: 9412.1953 - val_coeff_determination: 0.4055 - val_lr: 2.5000e-04\n",
      "Epoch 135/150\n",
      "213/213 [==============================] - 3s 15ms/step - loss: 5550.1928 - coeff_determination: 0.7547 - lr: 2.5000e-04 - val_loss: 9802.9600 - val_coeff_determination: 0.3808 - val_lr: 2.5000e-04\n",
      "Epoch 136/150\n",
      "213/213 [==============================] - 3s 15ms/step - loss: 5149.8729 - coeff_determination: 0.7704 - lr: 2.5000e-04 - val_loss: 12823.2051 - val_coeff_determination: 0.1900 - val_lr: 2.5000e-04\n",
      "Epoch 137/150\n",
      "213/213 [==============================] - 4s 17ms/step - loss: 6013.9354 - coeff_determination: 0.7287 - lr: 2.5000e-04 - val_loss: 10640.6543 - val_coeff_determination: 0.3279 - val_lr: 2.5000e-04\n",
      "Epoch 138/150\n",
      "213/213 [==============================] - 3s 16ms/step - loss: 5405.1371 - coeff_determination: 0.7601 - lr: 2.5000e-04 - val_loss: 10118.1797 - val_coeff_determination: 0.3609 - val_lr: 2.5000e-04\n",
      "Epoch 139/150\n",
      "213/213 [==============================] - 3s 16ms/step - loss: 5446.3832 - coeff_determination: 0.7579 - lr: 2.5000e-04 - val_loss: 11891.0811 - val_coeff_determination: 0.2489 - val_lr: 2.5000e-04\n",
      "Epoch 140/150\n",
      "213/213 [==============================] - 3s 15ms/step - loss: 4260.4870 - coeff_determination: 0.8106 - lr: 2.5000e-04 - val_loss: 12367.2666 - val_coeff_determination: 0.2188 - val_lr: 2.5000e-04\n",
      "Epoch 141/150\n",
      "213/213 [==============================] - 3s 16ms/step - loss: 5639.3265 - coeff_determination: 0.7486 - lr: 2.5000e-04 - val_loss: 10037.3379 - val_coeff_determination: 0.3660 - val_lr: 2.5000e-04\n",
      "Epoch 142/150\n",
      "213/213 [==============================] - 3s 16ms/step - loss: 4739.5674 - coeff_determination: 0.7891 - lr: 2.5000e-04 - val_loss: 10399.0391 - val_coeff_determination: 0.3431 - val_lr: 2.5000e-04\n",
      "Epoch 143/150\n",
      "213/213 [==============================] - 3s 15ms/step - loss: 4284.1889 - coeff_determination: 0.8080 - lr: 2.5000e-04 - val_loss: 12233.9688 - val_coeff_determination: 0.2272 - val_lr: 2.5000e-04\n",
      "Epoch 144/150\n",
      "213/213 [==============================] - 3s 16ms/step - loss: 4794.1233 - coeff_determination: 0.7872 - lr: 2.5000e-04 - val_loss: 10875.6357 - val_coeff_determination: 0.3130 - val_lr: 2.5000e-04\n",
      "Epoch 145/150\n",
      "213/213 [==============================] - 3s 16ms/step - loss: 4258.4826 - coeff_determination: 0.8093 - lr: 2.5000e-04 - val_loss: 10968.9600 - val_coeff_determination: 0.3071 - val_lr: 2.5000e-04\n",
      "Epoch 146/150\n",
      "213/213 [==============================] - 3s 16ms/step - loss: 4416.2201 - coeff_determination: 0.8004 - lr: 2.5000e-04 - val_loss: 10681.2480 - val_coeff_determination: 0.3253 - val_lr: 2.5000e-04\n",
      "Epoch 147/150\n",
      "213/213 [==============================] - 3s 16ms/step - loss: 4081.3004 - coeff_determination: 0.8181 - lr: 2.5000e-04 - val_loss: 10587.4912 - val_coeff_determination: 0.3312 - val_lr: 2.5000e-04\n",
      "Epoch 148/150\n",
      "213/213 [==============================] - 3s 15ms/step - loss: 4749.9381 - coeff_determination: 0.7907 - lr: 2.5000e-04 - val_loss: 11171.6689 - val_coeff_determination: 0.2943 - val_lr: 2.5000e-04\n",
      "Epoch 149/150\n",
      "213/213 [==============================] - 3s 16ms/step - loss: 4035.7447 - coeff_determination: 0.8185 - lr: 2.5000e-04 - val_loss: 10695.1367 - val_coeff_determination: 0.3244 - val_lr: 2.5000e-04\n",
      "Epoch 150/150\n",
      "213/213 [==============================] - 3s 15ms/step - loss: 4685.8401 - coeff_determination: 0.7892 - lr: 2.5000e-04 - val_loss: 10471.1738 - val_coeff_determination: 0.3386 - val_lr: 2.5000e-04\n"
     ]
    }
   ],
   "source": [
    "history = model.fit(x=X_train, y=y_train, batch_size=128, epochs=150, validation_data=(X_test,y_test))"
   ]
  },
  {
   "cell_type": "code",
   "execution_count": 16,
   "metadata": {},
   "outputs": [
    {
     "data": {
      "text/plain": [
       "(54, 279)"
      ]
     },
     "execution_count": 16,
     "metadata": {},
     "output_type": "execute_result"
    }
   ],
   "source": [
    "X_test.shape"
   ]
  },
  {
   "cell_type": "code",
   "execution_count": 17,
   "metadata": {},
   "outputs": [
    {
     "data": {
      "image/png": "[encoded data removed]",
      "text/plain": [
       "<Figure size 600x400 with 2 Axes>"
      ]
     },
     "metadata": {
      "needs_background": "light"
     },
     "output_type": "display_data"
    }
   ],
   "source": [
    "ModelUtils.plot_model(X_train,X_test,y_train.reshape(1,-1), y_test.reshape(1,-1),model)"
   ]
  },
  {
   "cell_type": "code",
   "execution_count": 18,
   "metadata": {},
   "outputs": [],
   "source": [
    "from sklearn import metrics"
   ]
  },
  {
   "cell_type": "markdown",
   "metadata": {},
   "source": [
    "###  R square training vs. R square testing"
   ]
  },
  {
   "cell_type": "code",
   "execution_count": 19,
   "metadata": {},
   "outputs": [
    {
     "data": {
      "text/plain": [
       "0.8976250635080142"
      ]
     },
     "execution_count": 19,
     "metadata": {},
     "output_type": "execute_result"
    }
   ],
   "source": [
    "metrics.r2_score(y_train, model.predict(X_train))"
   ]
  },
  {
   "cell_type": "code",
   "execution_count": 22,
   "metadata": {},
   "outputs": [
    {
     "data": {
      "text/plain": [
       "0.33856509353689257"
      ]
     },
     "execution_count": 22,
     "metadata": {},
     "output_type": "execute_result"
    }
   ],
   "source": [
    "metrics.r2_score(y_test, model.predict(X_test))"
   ]
  },
  {
   "cell_type": "markdown",
   "metadata": {},
   "source": [
    "Overfitting issue; epoch ~ 100 is better fit"
   ]
  },
  {
   "cell_type": "markdown",
   "metadata": {},
   "source": [
    "###  mean absolute error"
   ]
  },
  {
   "cell_type": "code",
   "execution_count": 23,
   "metadata": {},
   "outputs": [
    {
     "data": {
      "text/plain": [
       "36.83746250492866"
      ]
     },
     "execution_count": 23,
     "metadata": {},
     "output_type": "execute_result"
    }
   ],
   "source": [
    "metrics.mean_absolute_error(y_train, model.predict(X_train))"
   ]
  },
  {
   "cell_type": "code",
   "execution_count": 24,
   "metadata": {},
   "outputs": [
    {
     "data": {
      "text/plain": [
       "73.32424785472729"
      ]
     },
     "execution_count": 24,
     "metadata": {},
     "output_type": "execute_result"
    }
   ],
   "source": [
    "metrics.mean_absolute_error(y_test, model.predict(X_test))"
   ]
  },
  {
   "cell_type": "markdown",
   "metadata": {},
   "source": [
    "### plot history"
   ]
  },
  {
   "cell_type": "code",
   "execution_count": 27,
   "metadata": {},
   "outputs": [
    {
     "data": {
      "image/png": "[encoded data removed]",
      "text/plain": [
       "<Figure size 720x576 with 2 Axes>"
      ]
     },
     "metadata": {
      "needs_background": "light"
     },
     "output_type": "display_data"
    }
   ],
   "source": [
    "hist = history.history\n",
    "\n",
    "plt.figure(figsize=(10, 8))\n",
    "\n",
    "for label in ['val_coeff_determination','coeff_determination']:\n",
    "    plt.subplot(211)\n",
    "    plt.plot(hist[label], label = label)\n",
    "    plt.legend()\n",
    "    plt.xlabel(\"Epochs\")\n",
    "    plt.ylabel(\"coeff_determination\")\n",
    "    \n",
    "for label in ['val_loss','loss']:\n",
    "    plt.subplot(212)\n",
    "    plt.plot(hist[label], label = label)\n",
    "    plt.legend()\n",
    "    plt.xlabel(\"Epochs\")\n",
    "    plt.ylabel(\"loss\")\n",
    "    \n",
    "plt.subplots_adjust(top=0.8, bottom=0.1, left=0.10, right=0.9, hspace=0.25,\n",
    "                    wspace=0.35)"
   ]
  },
  {
   "cell_type": "code",
   "execution_count": 29,
   "metadata": {},
   "outputs": [
    {
     "name": "stdout",
     "output_type": "stream",
     "text": [
      "_________________________________________________________________\n",
      "Layer (type)                 Output Shape              Param #   \n",
      "=================================================================\n",
      "embedding_3 (Embedding)      (None, 279, 50)           2250      \n",
      "_________________________________________________________________\n",
      "conv1d_7 (Conv1D)            (None, 270, 192)          96192     \n",
      "_________________________________________________________________\n",
      "batch_normalization_3 (Batch (None, 270, 192)          768       \n",
      "_________________________________________________________________\n",
      "conv1d_8 (Conv1D)            (None, 266, 192)          184512    \n",
      "_________________________________________________________________\n",
      "dropout_4 (Dropout)          (None, 266, 192)          0         \n",
      "_________________________________________________________________\n",
      "conv1d_9 (Conv1D)            (None, 264, 192)          110784    \n",
      "_________________________________________________________________\n",
      "flatten_3 (Flatten)          (None, 50688)             0         \n",
      "_________________________________________________________________\n",
      "dense_5 (Dense)              (None, 100)               5068900   \n",
      "_________________________________________________________________\n",
      "dropout_5 (Dropout)          (None, 100)               0         \n",
      "_________________________________________________________________\n",
      "dense_6 (Dense)              (None, 1)                 101       \n",
      "=================================================================\n",
      "Total params: 5,463,507\n",
      "Trainable params: 5,463,123\n",
      "Non-trainable params: 384\n",
      "_________________________________________________________________\n"
     ]
    }
   ],
   "source": [
    "model = Sequential()\n",
    "model.add(Embedding(len(word_map), 50, input_length=279))\n",
    "model.add(Conv1D(192,10,activation='relu'))\n",
    "model.add(BatchNormalization())\n",
    "model.add(Conv1D(192,5,activation='relu'))\n",
    "model.add(Dropout(0.4))\n",
    "model.add(Conv1D(192,3,activation='relu'))\n",
    "model.add(Flatten())\n",
    "model.add(Dense(100, activation='relu'))\n",
    "model.add(Dropout(0.4))\n",
    "model.add(Dense(1, activation='linear'))\n",
    "model.summary()"
   ]
  },
  {
   "cell_type": "code",
   "execution_count": 30,
   "metadata": {},
   "outputs": [],
   "source": [
    "callbacks_list = [\n",
    "    ReduceLROnPlateau(monitor='val_loss', factor=0.5, patience=5, min_lr=1e-15, verbose=1, mode='auto',cooldown=0),\n",
    "    ModelCheckpoint(filepath=\"weights.best.hdf5\", monitor='val_loss', save_best_only=True, verbose=1, mode='auto')    \n",
    "]"
   ]
  },
  {
   "cell_type": "code",
   "execution_count": 31,
   "metadata": {},
   "outputs": [],
   "source": [
    "optimizer = Adam(lr=0.00025)\n",
    "lr_metric = get_lr_metric(optimizer)\n",
    "model.compile(loss=\"mse\", optimizer=optimizer, metrics=[coeff_determination, lr_metric])"
   ]
  },
  {
   "cell_type": "code",
   "execution_count": 32,
   "metadata": {},
   "outputs": [
    {
     "name": "stdout",
     "output_type": "stream",
     "text": [
      "Train on 213 samples, validate on 54 samples\n",
      "Epoch 1/150\n",
      "213/213 [==============================] - 5s 21ms/step - loss: 159704.8676 - coeff_determination: -6.1674 - lr: 2.5000e-04 - val_loss: 130825.4844 - val_coeff_determination: -7.2639 - val_lr: 2.5000e-04\n",
      "Epoch 2/150\n",
      "213/213 [==============================] - 3s 15ms/step - loss: 153074.3406 - coeff_determination: -5.8128 - lr: 2.5000e-04 - val_loss: 117703.9688 - val_coeff_determination: -6.4350 - val_lr: 2.5000e-04\n",
      "Epoch 3/150\n",
      "213/213 [==============================] - 3s 15ms/step - loss: 138774.8740 - coeff_determination: -5.3051 - lr: 2.5000e-04 - val_loss: 91618.6094 - val_coeff_determination: -4.7873 - val_lr: 2.5000e-04\n",
      "Epoch 4/150\n",
      "213/213 [==============================] - 3s 15ms/step - loss: 112602.2241 - coeff_determination: -4.0188 - lr: 2.5000e-04 - val_loss: 50664.7578 - val_coeff_determination: -2.2004 - val_lr: 2.5000e-04\n",
      "Epoch 5/150\n",
      "213/213 [==============================] - 3s 15ms/step - loss: 73032.4138 - coeff_determination: -2.3367 - lr: 2.5000e-04 - val_loss: 14102.9629 - val_coeff_determination: 0.1092 - val_lr: 2.5000e-04\n",
      "Epoch 6/150\n",
      "213/213 [==============================] - 4s 19ms/step - loss: 30092.5625 - coeff_determination: -0.3153 - lr: 2.5000e-04 - val_loss: 66940.4688 - val_coeff_determination: -3.2284 - val_lr: 2.5000e-04\n",
      "Epoch 7/150\n",
      "213/213 [==============================] - 3s 16ms/step - loss: 30977.8310 - coeff_determination: -0.5032 - lr: 2.5000e-04 - val_loss: 153392.1406 - val_coeff_determination: -8.6894 - val_lr: 2.5000e-04\n",
      "Epoch 8/150\n",
      "213/213 [==============================] - 4s 18ms/step - loss: 42866.7222 - coeff_determination: -0.9378 - lr: 2.5000e-04 - val_loss: 63798.7148 - val_coeff_determination: -3.0300 - val_lr: 2.5000e-04\n",
      "Epoch 9/150\n",
      "213/213 [==============================] - 3s 16ms/step - loss: 22019.6777 - coeff_determination: -0.0310 - lr: 2.5000e-04 - val_loss: 16545.2832 - val_coeff_determination: -0.0451 - val_lr: 2.5000e-04\n",
      "Epoch 10/150\n",
      "213/213 [==============================] - 3s 16ms/step - loss: 17373.3960 - coeff_determination: 0.2162 - lr: 2.5000e-04 - val_loss: 13250.1826 - val_coeff_determination: 0.1630 - val_lr: 2.5000e-04\n",
      "Epoch 11/150\n",
      "213/213 [==============================] - 3s 16ms/step - loss: 23790.2172 - coeff_determination: -0.0657 - lr: 2.5000e-04 - val_loss: 15696.8125 - val_coeff_determination: 0.0085 - val_lr: 2.5000e-04\n",
      "Epoch 12/150\n",
      "213/213 [==============================] - 4s 16ms/step - loss: 26354.7159 - coeff_determination: -0.1735 - lr: 2.5000e-04 - val_loss: 13961.8896 - val_coeff_determination: 0.1181 - val_lr: 2.5000e-04\n",
      "Epoch 13/150\n",
      "213/213 [==============================] - 3s 16ms/step - loss: 22094.6363 - coeff_determination: 0.0215 - lr: 2.5000e-04 - val_loss: 11997.3213 - val_coeff_determination: 0.2422 - val_lr: 2.5000e-04\n",
      "Epoch 14/150\n",
      "213/213 [==============================] - 4s 18ms/step - loss: 18781.7152 - coeff_determination: 0.1514 - lr: 2.5000e-04 - val_loss: 17883.3047 - val_coeff_determination: -0.1296 - val_lr: 2.5000e-04\n",
      "Epoch 15/150\n",
      "213/213 [==============================] - 4s 17ms/step - loss: 17201.4852 - coeff_determination: 0.2366 - lr: 2.5000e-04 - val_loss: 30476.5234 - val_coeff_determination: -0.9251 - val_lr: 2.5000e-04\n",
      "Epoch 16/150\n",
      "213/213 [==============================] - 4s 17ms/step - loss: 16154.1407 - coeff_determination: 0.2819 - lr: 2.5000e-04 - val_loss: 35231.2500 - val_coeff_determination: -1.2255 - val_lr: 2.5000e-04\n",
      "Epoch 17/150\n",
      "213/213 [==============================] - 4s 16ms/step - loss: 18635.6094 - coeff_determination: 0.1589 - lr: 2.5000e-04 - val_loss: 26020.7422 - val_coeff_determination: -0.6437 - val_lr: 2.5000e-04\n",
      "Epoch 18/150\n",
      "213/213 [==============================] - 3s 16ms/step - loss: 18721.5254 - coeff_determination: 0.1398 - lr: 2.5000e-04 - val_loss: 15234.7666 - val_coeff_determination: 0.0377 - val_lr: 2.5000e-04\n",
      "Epoch 19/150\n",
      "213/213 [==============================] - 3s 16ms/step - loss: 15702.1775 - coeff_determination: 0.3058 - lr: 2.5000e-04 - val_loss: 11790.3311 - val_coeff_determination: 0.2552 - val_lr: 2.5000e-04\n",
      "Epoch 20/150\n",
      "213/213 [==============================] - 3s 16ms/step - loss: 16148.8815 - coeff_determination: 0.2746 - lr: 2.5000e-04 - val_loss: 11415.4365 - val_coeff_determination: 0.2789 - val_lr: 2.5000e-04\n",
      "Epoch 21/150\n",
      "213/213 [==============================] - 4s 17ms/step - loss: 16189.8216 - coeff_determination: 0.2778 - lr: 2.5000e-04 - val_loss: 11369.4385 - val_coeff_determination: 0.2818 - val_lr: 2.5000e-04\n",
      "Epoch 22/150\n",
      "213/213 [==============================] - 4s 16ms/step - loss: 14881.0158 - coeff_determination: 0.3344 - lr: 2.5000e-04 - val_loss: 11586.4541 - val_coeff_determination: 0.2681 - val_lr: 2.5000e-04\n",
      "Epoch 23/150\n",
      "213/213 [==============================] - 4s 17ms/step - loss: 13246.2991 - coeff_determination: 0.4119 - lr: 2.5000e-04 - val_loss: 13455.4189 - val_coeff_determination: 0.1501 - val_lr: 2.5000e-04\n",
      "Epoch 24/150\n",
      "213/213 [==============================] - 3s 16ms/step - loss: 15469.0454 - coeff_determination: 0.3050 - lr: 2.5000e-04 - val_loss: 15992.6387 - val_coeff_determination: -0.0102 - val_lr: 2.5000e-04\n",
      "Epoch 25/150\n",
      "213/213 [==============================] - 4s 17ms/step - loss: 15260.6758 - coeff_determination: 0.3064 - lr: 2.5000e-04 - val_loss: 15540.9648 - val_coeff_determination: 0.0183 - val_lr: 2.5000e-04\n",
      "Epoch 26/150\n",
      "213/213 [==============================] - 4s 17ms/step - loss: 13820.6618 - coeff_determination: 0.3804 - lr: 2.5000e-04 - val_loss: 13743.8955 - val_coeff_determination: 0.1318 - val_lr: 2.5000e-04\n",
      "Epoch 27/150\n",
      "213/213 [==============================] - 4s 17ms/step - loss: 14138.5369 - coeff_determination: 0.3531 - lr: 2.5000e-04 - val_loss: 12242.2725 - val_coeff_determination: 0.2267 - val_lr: 2.5000e-04\n",
      "Epoch 28/150\n",
      "213/213 [==============================] - 3s 16ms/step - loss: 13176.8837 - coeff_determination: 0.3993 - lr: 2.5000e-04 - val_loss: 11676.7998 - val_coeff_determination: 0.2624 - val_lr: 2.5000e-04\n",
      "Epoch 29/150\n",
      "213/213 [==============================] - 3s 16ms/step - loss: 12581.2401 - coeff_determination: 0.4406 - lr: 2.5000e-04 - val_loss: 11668.2568 - val_coeff_determination: 0.2629 - val_lr: 2.5000e-04\n",
      "Epoch 30/150\n",
      "213/213 [==============================] - 3s 16ms/step - loss: 13626.2610 - coeff_determination: 0.3916 - lr: 2.5000e-04 - val_loss: 11978.4307 - val_coeff_determination: 0.2434 - val_lr: 2.5000e-04\n",
      "Epoch 31/150\n",
      "213/213 [==============================] - 4s 18ms/step - loss: 11520.4893 - coeff_determination: 0.4881 - lr: 2.5000e-04 - val_loss: 12412.2207 - val_coeff_determination: 0.2160 - val_lr: 2.5000e-04\n",
      "Epoch 32/150\n",
      "213/213 [==============================] - 4s 19ms/step - loss: 14437.8103 - coeff_determination: 0.3601 - lr: 2.5000e-04 - val_loss: 12778.8701 - val_coeff_determination: 0.1928 - val_lr: 2.5000e-04\n",
      "Epoch 33/150\n",
      "213/213 [==============================] - 4s 19ms/step - loss: 13577.4027 - coeff_determination: 0.3967 - lr: 2.5000e-04 - val_loss: 12806.6641 - val_coeff_determination: 0.1910 - val_lr: 2.5000e-04\n",
      "Epoch 34/150\n",
      "213/213 [==============================] - 4s 17ms/step - loss: 12201.3088 - coeff_determination: 0.4423 - lr: 2.5000e-04 - val_loss: 12541.7168 - val_coeff_determination: 0.2078 - val_lr: 2.5000e-04\n",
      "Epoch 35/150\n",
      "213/213 [==============================] - 4s 19ms/step - loss: 13464.9771 - coeff_determination: 0.3765 - lr: 2.5000e-04 - val_loss: 12070.7246 - val_coeff_determination: 0.2375 - val_lr: 2.5000e-04\n",
      "Epoch 36/150\n",
      "213/213 [==============================] - 4s 18ms/step - loss: 13818.4407 - coeff_determination: 0.3705 - lr: 2.5000e-04 - val_loss: 11810.8242 - val_coeff_determination: 0.2539 - val_lr: 2.5000e-04\n",
      "Epoch 37/150\n",
      "213/213 [==============================] - 5s 22ms/step - loss: 13705.0457 - coeff_determination: 0.3887 - lr: 2.5000e-04 - val_loss: 11789.7832 - val_coeff_determination: 0.2553 - val_lr: 2.5000e-04\n",
      "Epoch 38/150\n",
      "213/213 [==============================] - 4s 17ms/step - loss: 12663.0665 - coeff_determination: 0.4376 - lr: 2.5000e-04 - val_loss: 11975.9521 - val_coeff_determination: 0.2435 - val_lr: 2.5000e-04\n",
      "Epoch 39/150\n"
     ]
    },
    {
     "name": "stdout",
     "output_type": "stream",
     "text": [
      "213/213 [==============================] - 3s 16ms/step - loss: 11824.2993 - coeff_determination: 0.4637 - lr: 2.5000e-04 - val_loss: 12287.1875 - val_coeff_determination: 0.2239 - val_lr: 2.5000e-04\n",
      "Epoch 40/150\n",
      "213/213 [==============================] - 3s 16ms/step - loss: 12555.2711 - coeff_determination: 0.4285 - lr: 2.5000e-04 - val_loss: 12870.1445 - val_coeff_determination: 0.1870 - val_lr: 2.5000e-04\n",
      "Epoch 41/150\n",
      "213/213 [==============================] - 4s 18ms/step - loss: 11061.2141 - coeff_determination: 0.5115 - lr: 2.5000e-04 - val_loss: 12349.3252 - val_coeff_determination: 0.2199 - val_lr: 2.5000e-04\n",
      "Epoch 42/150\n",
      "213/213 [==============================] - 4s 19ms/step - loss: 10026.6653 - coeff_determination: 0.5505 - lr: 2.5000e-04 - val_loss: 11969.8291 - val_coeff_determination: 0.2439 - val_lr: 2.5000e-04\n",
      "Epoch 43/150\n",
      "213/213 [==============================] - 4s 20ms/step - loss: 11958.3109 - coeff_determination: 0.4688 - lr: 2.5000e-04 - val_loss: 11821.3545 - val_coeff_determination: 0.2533 - val_lr: 2.5000e-04\n",
      "Epoch 44/150\n",
      "213/213 [==============================] - 4s 18ms/step - loss: 12608.8845 - coeff_determination: 0.4371 - lr: 2.5000e-04 - val_loss: 11810.4121 - val_coeff_determination: 0.2540 - val_lr: 2.5000e-04\n",
      "Epoch 45/150\n",
      "213/213 [==============================] - 3s 16ms/step - loss: 9778.3147 - coeff_determination: 0.5628 - lr: 2.5000e-04 - val_loss: 12000.3750 - val_coeff_determination: 0.2420 - val_lr: 2.5000e-04\n",
      "Epoch 46/150\n",
      "213/213 [==============================] - 3s 16ms/step - loss: 10924.5096 - coeff_determination: 0.5130 - lr: 2.5000e-04 - val_loss: 12465.0430 - val_coeff_determination: 0.2126 - val_lr: 2.5000e-04\n",
      "Epoch 47/150\n",
      "213/213 [==============================] - 3s 16ms/step - loss: 10553.3453 - coeff_determination: 0.5126 - lr: 2.5000e-04 - val_loss: 12642.9014 - val_coeff_determination: 0.2014 - val_lr: 2.5000e-04\n",
      "Epoch 48/150\n",
      "213/213 [==============================] - 3s 16ms/step - loss: 12314.2595 - coeff_determination: 0.4514 - lr: 2.5000e-04 - val_loss: 12290.9873 - val_coeff_determination: 0.2236 - val_lr: 2.5000e-04\n",
      "Epoch 49/150\n",
      "213/213 [==============================] - 3s 16ms/step - loss: 9612.8467 - coeff_determination: 0.5462 - lr: 2.5000e-04 - val_loss: 12014.1621 - val_coeff_determination: 0.2411 - val_lr: 2.5000e-04\n",
      "Epoch 50/150\n",
      "213/213 [==============================] - 3s 16ms/step - loss: 10708.4506 - coeff_determination: 0.5198 - lr: 2.5000e-04 - val_loss: 11733.1211 - val_coeff_determination: 0.2589 - val_lr: 2.5000e-04\n",
      "Epoch 51/150\n",
      "213/213 [==============================] - 3s 16ms/step - loss: 10739.6429 - coeff_determination: 0.5217 - lr: 2.5000e-04 - val_loss: 11693.9170 - val_coeff_determination: 0.2613 - val_lr: 2.5000e-04\n",
      "Epoch 52/150\n",
      "213/213 [==============================] - 3s 16ms/step - loss: 10084.8217 - coeff_determination: 0.5504 - lr: 2.5000e-04 - val_loss: 11689.9453 - val_coeff_determination: 0.2616 - val_lr: 2.5000e-04\n",
      "Epoch 53/150\n",
      "213/213 [==============================] - 3s 16ms/step - loss: 10303.3192 - coeff_determination: 0.5317 - lr: 2.5000e-04 - val_loss: 11870.0459 - val_coeff_determination: 0.2502 - val_lr: 2.5000e-04\n",
      "Epoch 54/150\n",
      "213/213 [==============================] - 3s 16ms/step - loss: 9627.9060 - coeff_determination: 0.5724 - lr: 2.5000e-04 - val_loss: 11919.4102 - val_coeff_determination: 0.2471 - val_lr: 2.5000e-04\n",
      "Epoch 55/150\n",
      "213/213 [==============================] - 3s 16ms/step - loss: 9666.5568 - coeff_determination: 0.5804 - lr: 2.5000e-04 - val_loss: 12315.4297 - val_coeff_determination: 0.2221 - val_lr: 2.5000e-04\n",
      "Epoch 56/150\n",
      "213/213 [==============================] - 3s 16ms/step - loss: 11556.5063 - coeff_determination: 0.4864 - lr: 2.5000e-04 - val_loss: 12052.4609 - val_coeff_determination: 0.2387 - val_lr: 2.5000e-04\n",
      "Epoch 57/150\n",
      "213/213 [==============================] - 3s 16ms/step - loss: 13616.7103 - coeff_determination: 0.3926 - lr: 2.5000e-04 - val_loss: 11630.0254 - val_coeff_determination: 0.2654 - val_lr: 2.5000e-04\n",
      "Epoch 58/150\n",
      "213/213 [==============================] - 3s 16ms/step - loss: 10772.7159 - coeff_determination: 0.5139 - lr: 2.5000e-04 - val_loss: 11457.4863 - val_coeff_determination: 0.2763 - val_lr: 2.5000e-04\n",
      "Epoch 59/150\n",
      "213/213 [==============================] - 3s 16ms/step - loss: 10286.8034 - coeff_determination: 0.5337 - lr: 2.5000e-04 - val_loss: 11445.7871 - val_coeff_determination: 0.2770 - val_lr: 2.5000e-04\n",
      "Epoch 60/150\n",
      "213/213 [==============================] - 3s 16ms/step - loss: 10180.0694 - coeff_determination: 0.5426 - lr: 2.5000e-04 - val_loss: 11444.8604 - val_coeff_determination: 0.2771 - val_lr: 2.5000e-04\n",
      "Epoch 61/150\n",
      "213/213 [==============================] - 3s 16ms/step - loss: 10203.2464 - coeff_determination: 0.5419 - lr: 2.5000e-04 - val_loss: 11325.6738 - val_coeff_determination: 0.2846 - val_lr: 2.5000e-04\n",
      "Epoch 62/150\n",
      "213/213 [==============================] - 3s 16ms/step - loss: 10173.4038 - coeff_determination: 0.5478 - lr: 2.5000e-04 - val_loss: 11194.8613 - val_coeff_determination: 0.2929 - val_lr: 2.5000e-04\n",
      "Epoch 63/150\n",
      "213/213 [==============================] - 4s 18ms/step - loss: 10977.0454 - coeff_determination: 0.5028 - lr: 2.5000e-04 - val_loss: 11147.6641 - val_coeff_determination: 0.2958 - val_lr: 2.5000e-04\n",
      "Epoch 64/150\n",
      "213/213 [==============================] - 4s 18ms/step - loss: 8844.3336 - coeff_determination: 0.6024 - lr: 2.5000e-04 - val_loss: 11346.6836 - val_coeff_determination: 0.2833 - val_lr: 2.5000e-04\n",
      "Epoch 65/150\n",
      "213/213 [==============================] - 4s 17ms/step - loss: 9253.2482 - coeff_determination: 0.5855 - lr: 2.5000e-04 - val_loss: 11448.3633 - val_coeff_determination: 0.2768 - val_lr: 2.5000e-04\n",
      "Epoch 66/150\n",
      "213/213 [==============================] - 4s 17ms/step - loss: 8185.1541 - coeff_determination: 0.6241 - lr: 2.5000e-04 - val_loss: 10859.8604 - val_coeff_determination: 0.3140 - val_lr: 2.5000e-04\n",
      "Epoch 67/150\n",
      "213/213 [==============================] - 4s 17ms/step - loss: 10569.1596 - coeff_determination: 0.5310 - lr: 2.5000e-04 - val_loss: 10769.9395 - val_coeff_determination: 0.3197 - val_lr: 2.5000e-04\n",
      "Epoch 68/150\n",
      "213/213 [==============================] - 4s 17ms/step - loss: 10113.6163 - coeff_determination: 0.5502 - lr: 2.5000e-04 - val_loss: 10856.3008 - val_coeff_determination: 0.3142 - val_lr: 2.5000e-04\n",
      "Epoch 69/150\n",
      "213/213 [==============================] - 3s 16ms/step - loss: 9090.2945 - coeff_determination: 0.6021 - lr: 2.5000e-04 - val_loss: 10861.0957 - val_coeff_determination: 0.3139 - val_lr: 2.5000e-04\n",
      "Epoch 70/150\n",
      "213/213 [==============================] - 3s 16ms/step - loss: 8669.4639 - coeff_determination: 0.6142 - lr: 2.5000e-04 - val_loss: 10932.3496 - val_coeff_determination: 0.3094 - val_lr: 2.5000e-04\n",
      "Epoch 71/150\n",
      "213/213 [==============================] - 3s 16ms/step - loss: 10000.9620 - coeff_determination: 0.5371 - lr: 2.5000e-04 - val_loss: 10822.5352 - val_coeff_determination: 0.3164 - val_lr: 2.5000e-04\n",
      "Epoch 72/150\n",
      "213/213 [==============================] - 3s 16ms/step - loss: 10724.0538 - coeff_determination: 0.5200 - lr: 2.5000e-04 - val_loss: 10716.2246 - val_coeff_determination: 0.3231 - val_lr: 2.5000e-04\n",
      "Epoch 73/150\n",
      "213/213 [==============================] - 3s 16ms/step - loss: 9366.7015 - coeff_determination: 0.5904 - lr: 2.5000e-04 - val_loss: 10725.3291 - val_coeff_determination: 0.3225 - val_lr: 2.5000e-04\n",
      "Epoch 74/150\n",
      "213/213 [==============================] - 3s 16ms/step - loss: 8942.8642 - coeff_determination: 0.5987 - lr: 2.5000e-04 - val_loss: 10738.2334 - val_coeff_determination: 0.3217 - val_lr: 2.5000e-04\n",
      "Epoch 75/150\n",
      "213/213 [==============================] - 4s 17ms/step - loss: 8345.4030 - coeff_determination: 0.6199 - lr: 2.5000e-04 - val_loss: 10786.1924 - val_coeff_determination: 0.3187 - val_lr: 2.5000e-04\n",
      "Epoch 76/150\n",
      "213/213 [==============================] - 3s 16ms/step - loss: 9287.0562 - coeff_determination: 0.5840 - lr: 2.5000e-04 - val_loss: 10746.7666 - val_coeff_determination: 0.3212 - val_lr: 2.5000e-04\n",
      "Epoch 77/150\n"
     ]
    },
    {
     "name": "stdout",
     "output_type": "stream",
     "text": [
      "213/213 [==============================] - 4s 17ms/step - loss: 8107.0300 - coeff_determination: 0.6288 - lr: 2.5000e-04 - val_loss: 10842.3242 - val_coeff_determination: 0.3151 - val_lr: 2.5000e-04\n",
      "Epoch 78/150\n",
      "213/213 [==============================] - 3s 16ms/step - loss: 7840.9399 - coeff_determination: 0.6418 - lr: 2.5000e-04 - val_loss: 10879.3623 - val_coeff_determination: 0.3128 - val_lr: 2.5000e-04\n",
      "Epoch 79/150\n",
      "213/213 [==============================] - 3s 16ms/step - loss: 9458.6269 - coeff_determination: 0.5724 - lr: 2.5000e-04 - val_loss: 10690.3691 - val_coeff_determination: 0.3247 - val_lr: 2.5000e-04\n",
      "Epoch 80/150\n",
      "213/213 [==============================] - 3s 16ms/step - loss: 9324.7587 - coeff_determination: 0.5807 - lr: 2.5000e-04 - val_loss: 10677.5020 - val_coeff_determination: 0.3255 - val_lr: 2.5000e-04\n",
      "Epoch 81/150\n",
      "213/213 [==============================] - 3s 16ms/step - loss: 9209.2389 - coeff_determination: 0.5897 - lr: 2.5000e-04 - val_loss: 10734.9951 - val_coeff_determination: 0.3219 - val_lr: 2.5000e-04\n",
      "Epoch 82/150\n",
      "213/213 [==============================] - 3s 16ms/step - loss: 8731.6213 - coeff_determination: 0.6054 - lr: 2.5000e-04 - val_loss: 10705.2812 - val_coeff_determination: 0.3238 - val_lr: 2.5000e-04\n",
      "Epoch 83/150\n",
      "213/213 [==============================] - 3s 16ms/step - loss: 7461.4067 - coeff_determination: 0.6572 - lr: 2.5000e-04 - val_loss: 10560.7559 - val_coeff_determination: 0.3329 - val_lr: 2.5000e-04\n",
      "Epoch 84/150\n",
      "213/213 [==============================] - 3s 16ms/step - loss: 8997.9151 - coeff_determination: 0.5997 - lr: 2.5000e-04 - val_loss: 10435.7959 - val_coeff_determination: 0.3408 - val_lr: 2.5000e-04\n",
      "Epoch 85/150\n",
      "213/213 [==============================] - 3s 16ms/step - loss: 7883.8281 - coeff_determination: 0.6514 - lr: 2.5000e-04 - val_loss: 10345.2041 - val_coeff_determination: 0.3465 - val_lr: 2.5000e-04\n",
      "Epoch 86/150\n",
      "213/213 [==============================] - 3s 16ms/step - loss: 8676.4737 - coeff_determination: 0.5924 - lr: 2.5000e-04 - val_loss: 10527.7002 - val_coeff_determination: 0.3350 - val_lr: 2.5000e-04\n",
      "Epoch 87/150\n",
      "213/213 [==============================] - 3s 16ms/step - loss: 9104.6307 - coeff_determination: 0.5939 - lr: 2.5000e-04 - val_loss: 10643.5771 - val_coeff_determination: 0.3277 - val_lr: 2.5000e-04\n",
      "Epoch 88/150\n",
      "213/213 [==============================] - 4s 17ms/step - loss: 8358.0073 - coeff_determination: 0.6260 - lr: 2.5000e-04 - val_loss: 10165.2002 - val_coeff_determination: 0.3579 - val_lr: 2.5000e-04\n",
      "Epoch 89/150\n",
      "213/213 [==============================] - 4s 16ms/step - loss: 7719.3198 - coeff_determination: 0.6567 - lr: 2.5000e-04 - val_loss: 10208.9463 - val_coeff_determination: 0.3551 - val_lr: 2.5000e-04\n",
      "Epoch 90/150\n",
      "213/213 [==============================] - 4s 18ms/step - loss: 7124.1945 - coeff_determination: 0.6775 - lr: 2.5000e-04 - val_loss: 10275.9326 - val_coeff_determination: 0.3509 - val_lr: 2.5000e-04\n",
      "Epoch 91/150\n",
      "213/213 [==============================] - 4s 20ms/step - loss: 8636.9374 - coeff_determination: 0.6155 - lr: 2.5000e-04 - val_loss: 10359.8486 - val_coeff_determination: 0.3456 - val_lr: 2.5000e-04\n",
      "Epoch 92/150\n",
      "213/213 [==============================] - 4s 17ms/step - loss: 7679.3214 - coeff_determination: 0.6584 - lr: 2.5000e-04 - val_loss: 10253.7500 - val_coeff_determination: 0.3523 - val_lr: 2.5000e-04\n",
      "Epoch 93/150\n",
      "213/213 [==============================] - 4s 17ms/step - loss: 7939.5060 - coeff_determination: 0.6471 - lr: 2.5000e-04 - val_loss: 10253.2988 - val_coeff_determination: 0.3523 - val_lr: 2.5000e-04\n",
      "Epoch 94/150\n",
      "213/213 [==============================] - 4s 17ms/step - loss: 8496.3433 - coeff_determination: 0.6207 - lr: 2.5000e-04 - val_loss: 10300.8809 - val_coeff_determination: 0.3493 - val_lr: 2.5000e-04\n",
      "Epoch 95/150\n",
      "213/213 [==============================] - 4s 17ms/step - loss: 6479.9434 - coeff_determination: 0.7140 - lr: 2.5000e-04 - val_loss: 10853.8604 - val_coeff_determination: 0.3144 - val_lr: 2.5000e-04\n",
      "Epoch 96/150\n",
      "213/213 [==============================] - 4s 17ms/step - loss: 7640.0693 - coeff_determination: 0.6243 - lr: 2.5000e-04 - val_loss: 10533.0322 - val_coeff_determination: 0.3347 - val_lr: 2.5000e-04\n",
      "Epoch 97/150\n",
      "213/213 [==============================] - 3s 16ms/step - loss: 8831.2608 - coeff_determination: 0.6060 - lr: 2.5000e-04 - val_loss: 10929.9824 - val_coeff_determination: 0.3096 - val_lr: 2.5000e-04\n",
      "Epoch 98/150\n",
      "213/213 [==============================] - 3s 16ms/step - loss: 8469.7746 - coeff_determination: 0.6227 - lr: 2.5000e-04 - val_loss: 10791.6924 - val_coeff_determination: 0.3183 - val_lr: 2.5000e-04\n",
      "Epoch 99/150\n",
      "213/213 [==============================] - 3s 16ms/step - loss: 8079.1392 - coeff_determination: 0.6397 - lr: 2.5000e-04 - val_loss: 10909.1328 - val_coeff_determination: 0.3109 - val_lr: 2.5000e-04\n",
      "Epoch 100/150\n",
      "213/213 [==============================] - 3s 16ms/step - loss: 7355.5067 - coeff_determination: 0.6737 - lr: 2.5000e-04 - val_loss: 11187.8867 - val_coeff_determination: 0.2933 - val_lr: 2.5000e-04\n",
      "Epoch 101/150\n",
      "213/213 [==============================] - 3s 16ms/step - loss: 6403.2103 - coeff_determination: 0.7135 - lr: 2.5000e-04 - val_loss: 10941.1875 - val_coeff_determination: 0.3089 - val_lr: 2.5000e-04\n",
      "Epoch 102/150\n",
      "213/213 [==============================] - 3s 16ms/step - loss: 7616.4583 - coeff_determination: 0.6597 - lr: 2.5000e-04 - val_loss: 10784.2236 - val_coeff_determination: 0.3188 - val_lr: 2.5000e-04\n",
      "Epoch 103/150\n",
      "213/213 [==============================] - 3s 16ms/step - loss: 6551.7013 - coeff_determination: 0.7057 - lr: 2.5000e-04 - val_loss: 10477.8643 - val_coeff_determination: 0.3381 - val_lr: 2.5000e-04\n",
      "Epoch 104/150\n",
      "213/213 [==============================] - 3s 16ms/step - loss: 6257.2634 - coeff_determination: 0.7130 - lr: 2.5000e-04 - val_loss: 10486.2314 - val_coeff_determination: 0.3376 - val_lr: 2.5000e-04\n",
      "Epoch 105/150\n",
      "213/213 [==============================] - 3s 16ms/step - loss: 8517.6550 - coeff_determination: 0.6185 - lr: 2.5000e-04 - val_loss: 10683.3418 - val_coeff_determination: 0.3252 - val_lr: 2.5000e-04\n",
      "Epoch 106/150\n",
      "213/213 [==============================] - 3s 16ms/step - loss: 7240.7207 - coeff_determination: 0.6769 - lr: 2.5000e-04 - val_loss: 10257.8525 - val_coeff_determination: 0.3520 - val_lr: 2.5000e-04\n",
      "Epoch 107/150\n",
      "213/213 [==============================] - 3s 16ms/step - loss: 7541.2570 - coeff_determination: 0.6648 - lr: 2.5000e-04 - val_loss: 10299.4951 - val_coeff_determination: 0.3494 - val_lr: 2.5000e-04\n",
      "Epoch 108/150\n",
      "213/213 [==============================] - 3s 16ms/step - loss: 6998.1183 - coeff_determination: 0.6893 - lr: 2.5000e-04 - val_loss: 10769.8691 - val_coeff_determination: 0.3197 - val_lr: 2.5000e-04\n",
      "Epoch 109/150\n",
      "213/213 [==============================] - 3s 16ms/step - loss: 6552.3281 - coeff_determination: 0.7089 - lr: 2.5000e-04 - val_loss: 10493.0459 - val_coeff_determination: 0.3372 - val_lr: 2.5000e-04\n",
      "Epoch 110/150\n",
      "213/213 [==============================] - 3s 16ms/step - loss: 6026.1892 - coeff_determination: 0.7270 - lr: 2.5000e-04 - val_loss: 10163.3164 - val_coeff_determination: 0.3580 - val_lr: 2.5000e-04\n",
      "Epoch 111/150\n",
      "213/213 [==============================] - 4s 20ms/step - loss: 6882.1825 - coeff_determination: 0.6919 - lr: 2.5000e-04 - val_loss: 10045.4609 - val_coeff_determination: 0.3655 - val_lr: 2.5000e-04\n",
      "Epoch 112/150\n",
      "213/213 [==============================] - 4s 17ms/step - loss: 6942.5444 - coeff_determination: 0.6903 - lr: 2.5000e-04 - val_loss: 10198.3047 - val_coeff_determination: 0.3558 - val_lr: 2.5000e-04\n",
      "Epoch 113/150\n",
      "213/213 [==============================] - 4s 17ms/step - loss: 5241.5326 - coeff_determination: 0.7669 - lr: 2.5000e-04 - val_loss: 10148.4502 - val_coeff_determination: 0.3590 - val_lr: 2.5000e-04\n",
      "Epoch 114/150\n",
      "213/213 [==============================] - 4s 17ms/step - loss: 6032.9141 - coeff_determination: 0.7252 - lr: 2.5000e-04 - val_loss: 10281.3926 - val_coeff_determination: 0.3506 - val_lr: 2.5000e-04\n",
      "Epoch 115/150\n",
      "213/213 [==============================] - 4s 17ms/step - loss: 6401.5480 - coeff_determination: 0.7196 - lr: 2.5000e-04 - val_loss: 10212.8350 - val_coeff_determination: 0.3549 - val_lr: 2.5000e-04\n"
     ]
    },
    {
     "name": "stdout",
     "output_type": "stream",
     "text": [
      "Epoch 116/150\n",
      "213/213 [==============================] - 4s 17ms/step - loss: 6439.7815 - coeff_determination: 0.6998 - lr: 2.5000e-04 - val_loss: 10437.8809 - val_coeff_determination: 0.3407 - val_lr: 2.5000e-04\n",
      "Epoch 117/150\n",
      "213/213 [==============================] - 4s 17ms/step - loss: 5088.1823 - coeff_determination: 0.7739 - lr: 2.5000e-04 - val_loss: 10860.4336 - val_coeff_determination: 0.3140 - val_lr: 2.5000e-04\n",
      "Epoch 118/150\n",
      "213/213 [==============================] - 4s 17ms/step - loss: 5678.0548 - coeff_determination: 0.7430 - lr: 2.5000e-04 - val_loss: 10875.8809 - val_coeff_determination: 0.3130 - val_lr: 2.5000e-04\n",
      "Epoch 119/150\n",
      "213/213 [==============================] - 4s 17ms/step - loss: 5880.8377 - coeff_determination: 0.7379 - lr: 2.5000e-04 - val_loss: 10709.2939 - val_coeff_determination: 0.3235 - val_lr: 2.5000e-04\n",
      "Epoch 120/150\n",
      "213/213 [==============================] - 4s 17ms/step - loss: 5888.2893 - coeff_determination: 0.7351 - lr: 2.5000e-04 - val_loss: 10674.6201 - val_coeff_determination: 0.3257 - val_lr: 2.5000e-04\n",
      "Epoch 121/150\n",
      "213/213 [==============================] - 4s 17ms/step - loss: 6045.9938 - coeff_determination: 0.7300 - lr: 2.5000e-04 - val_loss: 10686.2695 - val_coeff_determination: 0.3250 - val_lr: 2.5000e-04\n",
      "Epoch 122/150\n",
      "213/213 [==============================] - 4s 19ms/step - loss: 5953.4375 - coeff_determination: 0.7313 - lr: 2.5000e-04 - val_loss: 10805.9521 - val_coeff_determination: 0.3174 - val_lr: 2.5000e-04\n",
      "Epoch 123/150\n",
      "213/213 [==============================] - 4s 18ms/step - loss: 5477.1343 - coeff_determination: 0.7483 - lr: 2.5000e-04 - val_loss: 10112.8203 - val_coeff_determination: 0.3612 - val_lr: 2.5000e-04\n",
      "Epoch 124/150\n",
      "213/213 [==============================] - 4s 17ms/step - loss: 5666.3052 - coeff_determination: 0.7477 - lr: 2.5000e-04 - val_loss: 9761.7051 - val_coeff_determination: 0.3834 - val_lr: 2.5000e-04\n",
      "Epoch 125/150\n",
      "213/213 [==============================] - 4s 18ms/step - loss: 5941.5727 - coeff_determination: 0.7355 - lr: 2.5000e-04 - val_loss: 10272.3877 - val_coeff_determination: 0.3511 - val_lr: 2.5000e-04\n",
      "Epoch 126/150\n",
      "213/213 [==============================] - 4s 18ms/step - loss: 5134.7705 - coeff_determination: 0.7670 - lr: 2.5000e-04 - val_loss: 10039.9482 - val_coeff_determination: 0.3658 - val_lr: 2.5000e-04\n",
      "Epoch 127/150\n",
      "213/213 [==============================] - 4s 18ms/step - loss: 6497.1332 - coeff_determination: 0.7099 - lr: 2.5000e-04 - val_loss: 9757.8164 - val_coeff_determination: 0.3836 - val_lr: 2.5000e-04\n",
      "Epoch 128/150\n",
      "213/213 [==============================] - 4s 17ms/step - loss: 5552.5343 - coeff_determination: 0.7552 - lr: 2.5000e-04 - val_loss: 10170.9150 - val_coeff_determination: 0.3575 - val_lr: 2.5000e-04\n",
      "Epoch 129/150\n",
      "213/213 [==============================] - 4s 17ms/step - loss: 5219.1987 - coeff_determination: 0.7656 - lr: 2.5000e-04 - val_loss: 10415.7812 - val_coeff_determination: 0.3421 - val_lr: 2.5000e-04\n",
      "Epoch 130/150\n",
      "213/213 [==============================] - 4s 17ms/step - loss: 4456.5955 - coeff_determination: 0.7976 - lr: 2.5000e-04 - val_loss: 9783.6885 - val_coeff_determination: 0.3820 - val_lr: 2.5000e-04\n",
      "Epoch 131/150\n",
      "213/213 [==============================] - 4s 17ms/step - loss: 5211.0526 - coeff_determination: 0.7666 - lr: 2.5000e-04 - val_loss: 9919.5176 - val_coeff_determination: 0.3734 - val_lr: 2.5000e-04\n",
      "Epoch 132/150\n",
      "213/213 [==============================] - 4s 17ms/step - loss: 4847.6826 - coeff_determination: 0.7822 - lr: 2.5000e-04 - val_loss: 9926.8174 - val_coeff_determination: 0.3730 - val_lr: 2.5000e-04\n",
      "Epoch 133/150\n",
      "213/213 [==============================] - 4s 17ms/step - loss: 4928.2303 - coeff_determination: 0.7800 - lr: 2.5000e-04 - val_loss: 9389.8105 - val_coeff_determination: 0.4069 - val_lr: 2.5000e-04\n",
      "Epoch 134/150\n",
      "213/213 [==============================] - 4s 17ms/step - loss: 5824.3196 - coeff_determination: 0.7426 - lr: 2.5000e-04 - val_loss: 9428.6357 - val_coeff_determination: 0.4044 - val_lr: 2.5000e-04\n",
      "Epoch 135/150\n",
      "213/213 [==============================] - 4s 17ms/step - loss: 5358.4445 - coeff_determination: 0.7549 - lr: 2.5000e-04 - val_loss: 9426.4238 - val_coeff_determination: 0.4046 - val_lr: 2.5000e-04\n",
      "Epoch 136/150\n",
      "213/213 [==============================] - 4s 20ms/step - loss: 4590.1320 - coeff_determination: 0.7922 - lr: 2.5000e-04 - val_loss: 9082.9258 - val_coeff_determination: 0.4263 - val_lr: 2.5000e-04\n",
      "Epoch 137/150\n",
      "213/213 [==============================] - 4s 19ms/step - loss: 5518.2387 - coeff_determination: 0.7504 - lr: 2.5000e-04 - val_loss: 10782.1182 - val_coeff_determination: 0.3189 - val_lr: 2.5000e-04\n",
      "Epoch 138/150\n",
      "213/213 [==============================] - 3s 16ms/step - loss: 5542.0739 - coeff_determination: 0.7563 - lr: 2.5000e-04 - val_loss: 9748.2959 - val_coeff_determination: 0.3842 - val_lr: 2.5000e-04\n",
      "Epoch 139/150\n",
      "213/213 [==============================] - 4s 17ms/step - loss: 6147.4228 - coeff_determination: 0.7218 - lr: 2.5000e-04 - val_loss: 8991.4922 - val_coeff_determination: 0.4320 - val_lr: 2.5000e-04\n",
      "Epoch 140/150\n",
      "213/213 [==============================] - 4s 17ms/step - loss: 4793.5349 - coeff_determination: 0.7870 - lr: 2.5000e-04 - val_loss: 10168.3828 - val_coeff_determination: 0.3577 - val_lr: 2.5000e-04\n",
      "Epoch 141/150\n",
      "213/213 [==============================] - 4s 17ms/step - loss: 5130.4830 - coeff_determination: 0.7698 - lr: 2.5000e-04 - val_loss: 9671.7031 - val_coeff_determination: 0.3891 - val_lr: 2.5000e-04\n",
      "Epoch 142/150\n",
      "213/213 [==============================] - 4s 18ms/step - loss: 4658.7439 - coeff_determination: 0.7931 - lr: 2.5000e-04 - val_loss: 8746.7900 - val_coeff_determination: 0.4475 - val_lr: 2.5000e-04\n",
      "Epoch 143/150\n",
      "213/213 [==============================] - 4s 18ms/step - loss: 6237.0381 - coeff_determination: 0.7232 - lr: 2.5000e-04 - val_loss: 9912.5361 - val_coeff_determination: 0.3739 - val_lr: 2.5000e-04\n",
      "Epoch 144/150\n",
      "213/213 [==============================] - 4s 17ms/step - loss: 5921.4684 - coeff_determination: 0.7253 - lr: 2.5000e-04 - val_loss: 10498.1768 - val_coeff_determination: 0.3369 - val_lr: 2.5000e-04\n",
      "Epoch 145/150\n",
      "213/213 [==============================] - 4s 17ms/step - loss: 5182.0997 - coeff_determination: 0.7687 - lr: 2.5000e-04 - val_loss: 9055.2197 - val_coeff_determination: 0.4280 - val_lr: 2.5000e-04\n",
      "Epoch 146/150\n",
      "213/213 [==============================] - 4s 17ms/step - loss: 4826.8520 - coeff_determination: 0.7847 - lr: 2.5000e-04 - val_loss: 9687.7070 - val_coeff_determination: 0.3881 - val_lr: 2.5000e-04\n",
      "Epoch 147/150\n",
      "213/213 [==============================] - 4s 17ms/step - loss: 4210.1608 - coeff_determination: 0.8084 - lr: 2.5000e-04 - val_loss: 9179.8018 - val_coeff_determination: 0.4201 - val_lr: 2.5000e-04\n",
      "Epoch 148/150\n",
      "213/213 [==============================] - 4s 17ms/step - loss: 4767.3758 - coeff_determination: 0.7845 - lr: 2.5000e-04 - val_loss: 9237.4170 - val_coeff_determination: 0.4165 - val_lr: 2.5000e-04\n",
      "Epoch 149/150\n",
      "213/213 [==============================] - 4s 17ms/step - loss: 4730.6658 - coeff_determination: 0.7896 - lr: 2.5000e-04 - val_loss: 9188.8662 - val_coeff_determination: 0.4196 - val_lr: 2.5000e-04\n",
      "Epoch 150/150\n",
      "213/213 [==============================] - 4s 17ms/step - loss: 4388.8961 - coeff_determination: 0.7947 - lr: 2.5000e-04 - val_loss: 9521.4150 - val_coeff_determination: 0.3986 - val_lr: 2.5000e-04\n"
     ]
    }
   ],
   "source": [
    "history = model.fit(x=X_train, y=y_train, batch_size=128, epochs=150, validation_data=(X_test,y_test))"
   ]
  },
  {
   "cell_type": "code",
   "execution_count": 33,
   "metadata": {},
   "outputs": [
    {
     "data": {
      "image/png": "[encoded data removed]",
      "text/plain": [
       "<Figure size 600x400 with 2 Axes>"
      ]
     },
     "metadata": {
      "needs_background": "light"
     },
     "output_type": "display_data"
    }
   ],
   "source": [
    "ModelUtils.plot_model(X_train,X_test,y_train.reshape(1,-1), y_test.reshape(1,-1),model)"
   ]
  },
  {
   "cell_type": "code",
   "execution_count": 34,
   "metadata": {},
   "outputs": [
    {
     "data": {
      "text/plain": [
       "0.8953451941097397"
      ]
     },
     "execution_count": 34,
     "metadata": {},
     "output_type": "execute_result"
    }
   ],
   "source": [
    "metrics.r2_score(y_train, model.predict(X_train))"
   ]
  },
  {
   "cell_type": "code",
   "execution_count": 35,
   "metadata": {},
   "outputs": [
    {
     "data": {
      "text/plain": [
       "0.3985586617101583"
      ]
     },
     "execution_count": 35,
     "metadata": {},
     "output_type": "execute_result"
    }
   ],
   "source": [
    "metrics.r2_score(y_test, model.predict(X_test))"
   ]
  },
  {
   "cell_type": "code",
   "execution_count": 36,
   "metadata": {},
   "outputs": [
    {
     "data": {
      "text/plain": [
       "38.502615041240276"
      ]
     },
     "execution_count": 36,
     "metadata": {},
     "output_type": "execute_result"
    }
   ],
   "source": [
    "metrics.mean_absolute_error(y_train, model.predict(X_train))"
   ]
  },
  {
   "cell_type": "code",
   "execution_count": 37,
   "metadata": {},
   "outputs": [
    {
     "data": {
      "text/plain": [
       "74.48989133481626"
      ]
     },
     "execution_count": 37,
     "metadata": {},
     "output_type": "execute_result"
    }
   ],
   "source": [
    "metrics.mean_absolute_error(y_test, model.predict(X_test))"
   ]
  },
  {
   "cell_type": "code",
   "execution_count": 38,
   "metadata": {},
   "outputs": [
    {
     "name": "stderr",
     "output_type": "stream",
     "text": [
      "C:\\Users\\Yang\\.conda\\envs\\test_speedcom\\lib\\site-packages\\matplotlib\\figure.py:98: MatplotlibDeprecationWarning: \n",
      "Adding an axes using the same arguments as a previous axes currently reuses the earlier instance.  In a future version, a new instance will always be created and returned.  Meanwhile, this warning can be suppressed, and the future behavior ensured, by passing a unique label to each axes instance.\n",
      "  \"Adding an axes using the same arguments as a previous axes \"\n"
     ]
    },
    {
     "data": {
      "image/png": "[encoded data removed]",
      "text/plain": [
       "<Figure size 720x576 with 2 Axes>"
      ]
     },
     "metadata": {
      "needs_background": "light"
     },
     "output_type": "display_data"
    }
   ],
   "source": [
    "hist = history.history\n",
    "\n",
    "plt.figure(figsize=(10, 8))\n",
    "\n",
    "for label in ['val_coeff_determination','coeff_determination']:\n",
    "    plt.subplot(211)\n",
    "    plt.plot(hist[label], label = label)\n",
    "    plt.legend()\n",
    "    plt.xlabel(\"Epochs\")\n",
    "    plt.ylabel(\"coeff_determination\")\n",
    "    \n",
    "for label in ['val_loss','loss']:\n",
    "    plt.subplot(212)\n",
    "    plt.plot(hist[label], label = label)\n",
    "    plt.legend()\n",
    "    plt.xlabel(\"Epochs\")\n",
    "    plt.ylabel(\"loss\")\n",
    "    \n",
    "plt.subplots_adjust(top=0.8, bottom=0.1, left=0.10, right=0.9, hspace=0.25,\n",
    "                    wspace=0.35)"
   ]
  },
  {
   "cell_type": "code",
   "execution_count": null,
   "metadata": {},
   "outputs": [],
   "source": []
  }
 ],
 "metadata": {
  "kernelspec": {
   "display_name": "test_speedcom",
   "language": "python",
   "name": "test_speedcom"
  },
  "language_info": {
   "codemirror_mode": {
    "name": "ipython",
    "version": 3
   },
   "file_extension": ".py",
   "mimetype": "text/x-python",
   "name": "python",
   "nbconvert_exporter": "python",
   "pygments_lexer": "ipython3",
   "version": "3.6.8"
  }
 },
 "nbformat": 4,
 "nbformat_minor": 2
}
