{
 "cells": [
  {
   "cell_type": "code",
   "execution_count": 1,
   "metadata": {},
   "outputs": [
    {
     "name": "stderr",
     "output_type": "stream",
     "text": [
      "C:\\Users\\Yang\\.conda\\envs\\test_speedcom\\lib\\importlib\\_bootstrap.py:219: RuntimeWarning: numpy.ufunc size changed, may indicate binary incompatibility. Expected 192 from C header, got 216 from PyObject\n",
      "  return f(*args, **kwds)\n"
     ]
    }
   ],
   "source": [
    "import numpy as np\n",
    "import pandas as pd\n",
    "import matplotlib.pyplot as plt\n",
    "\n",
    "from dataUtils import DataUtils as utils\n",
    "from model_utils import ModelUtils as mutls"
   ]
  },
  {
   "cell_type": "code",
   "execution_count": 2,
   "metadata": {},
   "outputs": [
    {
     "name": "stderr",
     "output_type": "stream",
     "text": [
      "Using TensorFlow backend.\n"
     ]
    }
   ],
   "source": [
    "from keras import Sequential\n",
    "from keras.layers import Dense, Embedding, LSTM, GRU, Conv1D, Activation"
   ]
  },
  {
   "cell_type": "code",
   "execution_count": 3,
   "metadata": {},
   "outputs": [],
   "source": [
    "df=pd.read_csv('temp_cfprint.tsv', sep='\\t')"
   ]
  },
  {
   "cell_type": "code",
   "execution_count": 4,
   "metadata": {},
   "outputs": [
    {
     "data": {
      "text/html": [
       "<div>\n",
       "<style scoped>\n",
       "    .dataframe tbody tr th:only-of-type {\n",
       "        vertical-align: middle;\n",
       "    }\n",
       "\n",
       "    .dataframe tbody tr th {\n",
       "        vertical-align: top;\n",
       "    }\n",
       "\n",
       "    .dataframe thead th {\n",
       "        text-align: right;\n",
       "    }\n",
       "</style>\n",
       "<table border=\"1\" class=\"dataframe\">\n",
       "  <thead>\n",
       "    <tr style=\"text-align: right;\">\n",
       "      <th></th>\n",
       "      <th>#</th>\n",
       "      <th>Name</th>\n",
       "      <th>name_smiles</th>\n",
       "      <th>Wavelength</th>\n",
       "      <th>Epsilon</th>\n",
       "      <th>Quantum Yield</th>\n",
       "      <th>cfp</th>\n",
       "    </tr>\n",
       "  </thead>\n",
       "  <tbody>\n",
       "    <tr>\n",
       "      <th>0</th>\n",
       "      <td>1</td>\n",
       "      <td>Benzene</td>\n",
       "      <td>C1=CC=CC=C1</td>\n",
       "      <td>254.75</td>\n",
       "      <td>210</td>\n",
       "      <td>0.053</td>\n",
       "      <td>[224, 255, 255, 255, 0, 8, 0, 0, 3, 0, 0, 0, 2...</td>\n",
       "    </tr>\n",
       "    <tr>\n",
       "      <th>1</th>\n",
       "      <td>2</td>\n",
       "      <td>Toluene</td>\n",
       "      <td>CC1=CC=CC=C1</td>\n",
       "      <td>261.75</td>\n",
       "      <td>2860</td>\n",
       "      <td>0.170</td>\n",
       "      <td>[224, 255, 255, 255, 0, 8, 0, 0, 11, 0, 0, 0, ...</td>\n",
       "    </tr>\n",
       "    <tr>\n",
       "      <th>2</th>\n",
       "      <td>3</td>\n",
       "      <td>o-Xylene</td>\n",
       "      <td>CC1=CC=CC=C1C</td>\n",
       "      <td>263.00</td>\n",
       "      <td>254</td>\n",
       "      <td>0.170</td>\n",
       "      <td>[224, 255, 255, 255, 0, 8, 0, 0, 10, 0, 0, 0, ...</td>\n",
       "    </tr>\n",
       "    <tr>\n",
       "      <th>3</th>\n",
       "      <td>4</td>\n",
       "      <td>m-Xylene</td>\n",
       "      <td>CC1=CC(=CC=C1)C</td>\n",
       "      <td>265.00</td>\n",
       "      <td>284</td>\n",
       "      <td>0.130</td>\n",
       "      <td>[224, 255, 255, 255, 0, 8, 0, 0, 12, 0, 0, 0, ...</td>\n",
       "    </tr>\n",
       "    <tr>\n",
       "      <th>4</th>\n",
       "      <td>5</td>\n",
       "      <td>p-Xylene</td>\n",
       "      <td>CC1=CC=C(C=C1)C</td>\n",
       "      <td>275.00</td>\n",
       "      <td>770</td>\n",
       "      <td>0.220</td>\n",
       "      <td>[224, 255, 255, 255, 0, 8, 0, 0, 8, 0, 0, 0, 1...</td>\n",
       "    </tr>\n",
       "  </tbody>\n",
       "</table>\n",
       "</div>"
      ],
      "text/plain": [
       "   #      Name      name_smiles  Wavelength  Epsilon  Quantum Yield  \\\n",
       "0  1   Benzene      C1=CC=CC=C1      254.75      210          0.053   \n",
       "1  2   Toluene     CC1=CC=CC=C1      261.75     2860          0.170   \n",
       "2  3  o-Xylene    CC1=CC=CC=C1C      263.00      254          0.170   \n",
       "3  4  m-Xylene  CC1=CC(=CC=C1)C      265.00      284          0.130   \n",
       "4  5  p-Xylene  CC1=CC=C(C=C1)C      275.00      770          0.220   \n",
       "\n",
       "                                                 cfp  \n",
       "0  [224, 255, 255, 255, 0, 8, 0, 0, 3, 0, 0, 0, 2...  \n",
       "1  [224, 255, 255, 255, 0, 8, 0, 0, 11, 0, 0, 0, ...  \n",
       "2  [224, 255, 255, 255, 0, 8, 0, 0, 10, 0, 0, 0, ...  \n",
       "3  [224, 255, 255, 255, 0, 8, 0, 0, 12, 0, 0, 0, ...  \n",
       "4  [224, 255, 255, 255, 0, 8, 0, 0, 8, 0, 0, 0, 1...  "
      ]
     },
     "execution_count": 4,
     "metadata": {},
     "output_type": "execute_result"
    }
   ],
   "source": [
    "df.head()"
   ]
  },
  {
   "cell_type": "code",
   "execution_count": 5,
   "metadata": {},
   "outputs": [
    {
     "name": "stdout",
     "output_type": "stream",
     "text": [
      "fingerprint column shape is (267, 137)\n"
     ]
    }
   ],
   "source": [
    "X_fp=utils.finger_print_clean(df=df,colname_string_array='cfp')"
   ]
  },
  {
   "cell_type": "code",
   "execution_count": 6,
   "metadata": {
    "scrolled": true
   },
   "outputs": [
    {
     "data": {
      "text/plain": [
       "(267, 137)"
      ]
     },
     "execution_count": 6,
     "metadata": {},
     "output_type": "execute_result"
    }
   ],
   "source": [
    "X_fp.shape"
   ]
  },
  {
   "cell_type": "code",
   "execution_count": 8,
   "metadata": {},
   "outputs": [],
   "source": [
    "Y = df.values[:,3]"
   ]
  },
  {
   "cell_type": "markdown",
   "metadata": {},
   "source": [
    "### First model original Y"
   ]
  },
  {
   "cell_type": "code",
   "execution_count": 9,
   "metadata": {},
   "outputs": [],
   "source": [
    "d_cat = mutls.combine_columns((X_fp, Y))"
   ]
  },
  {
   "cell_type": "code",
   "execution_count": 11,
   "metadata": {},
   "outputs": [],
   "source": [
    "X, y = d_cat[:,0:-1], d_cat[:,-1]"
   ]
  },
  {
   "cell_type": "code",
   "execution_count": 41,
   "metadata": {},
   "outputs": [
    {
     "data": {
      "text/plain": [
       "array([254.75, 261.75, 263.0, 265.0, 275.0, 265.0, 278.0, 271.0, 271.0,\n",
       "       270.75, 220.0, 222.0, 242.0, 227.0, 241.0, 288.0, 251.0, 279.0,\n",
       "       265.0, 228.0, 258.0, 248.0, 236.0, 274.0, 277.0, 227.0, 222.0,\n",
       "       218.0, 310.25, 291.0, 240.0, 251.0, 263.0, 245.0, 302.0, 252.0,\n",
       "       283.0, 225.0, 316.0, 230.0, 442.0, 247.5, 276.25, 294.75, 312.0,\n",
       "       251.0, 206.0, 209.0, 212.0, 245.0, 223.0, 278.0, 275.0, 356.25,\n",
       "       475.0, 578.0, 252.0, 241.0, 258.0, 372.5, 270.25, 303.0, 228.0,\n",
       "       239.0, 245.0, 218.0, 227.0, 235.0, 278.75, 276.0, 293.75, 326.0,\n",
       "       330.0, 353.25, 432.25, 425.0, 372.0, 451.0, 251.0, 276.0, 227.0,\n",
       "       257.0, 265.0, 270.0, 215.0, 281.0, 238.0, 204.0, 219.0, 245.0,\n",
       "       217.0, 253.0, 231.75, 206.0, 278.0, 502.0, 413.0, 286.0, 336.0,\n",
       "       460.5, 219.0, 413.0, 247.0, 349.0, 262.0, 257.5, 274.25, 211.0,\n",
       "       278.0, 261.0, 243.0, 266.75, 263.75, 258.25, 228.0, 259.0, 212.0,\n",
       "       263.0, 265.0, 206.0, 248.0, 281.0, 239.75, 225.0, 288.0, 211.0,\n",
       "       270.0, 287.0, 458.0, 243.0, 258.0, 267.0, 401.0, 246.0, 280.0,\n",
       "       251.0, 268.0, 249.0, 251.25, 248.0, 250.0, 233.0, 296.0, 303.0,\n",
       "       275.0, 280.0, 326.0, 338.0, 323.75, 373.25, 459.25, 436.0, 407.5,\n",
       "       384.0, 436.0, 444.75, 361.0, 278.0, 247.0, 261.0, 270.5, 264.0,\n",
       "       249.0, 248.0, 533.0, 278.0, 587.0, 253.0, 605.0, 656.0, 654.0,\n",
       "       628.0, 237.0, 239.0, 642.5, 603.0, 519.4, 627.5, 319.0, 430.0,\n",
       "       466.0, 478.0, 486.0, 503.0, 481.0, 498.0, 555.0, 530.0, 512.0,\n",
       "       563.0, 504.0, 518.0, 619.0, 513.0, 483.0, 497.0, 606.0, 524.25,\n",
       "       603.5, 711.0, 592.0, 709.5, 818.0, 485.0, 582.0, 687.5, 544.25,\n",
       "       789.0, 559.25, 655.75, 763.25, 559.5, 431.25, 616.5, 590.5, 543.0,\n",
       "       590.0, 554.0, 558.0, 573.0, 597.0, 435.75, 500.25, 502.0, 535.0,\n",
       "       559.0, 261.0, 511.75, 542.75, 553.0, 529.75, 565.0, 576.0, 338.5,\n",
       "       279.75, 325.0, 249.0, 285.0, 345.5, 627.25, 276.0, 424.0, 205.0,\n",
       "       203.0, 208.0, 396.25, 402.0, 409.75, 408.0, 385.9, 429.0, 491.0,\n",
       "       450.75, 377.0, 361.0, 698.5, 674.0, 674.0, 569.0, 429.0, 453.0,\n",
       "       410.0, 413.0, 414.0, 401.0, 413.0, 780.2], dtype=object)"
      ]
     },
     "execution_count": 41,
     "metadata": {},
     "output_type": "execute_result"
    }
   ],
   "source": [
    "y"
   ]
  },
  {
   "cell_type": "code",
   "execution_count": 15,
   "metadata": {},
   "outputs": [],
   "source": [
    "X_train, X_test, y_train, y_test = utils.splitData(X, y, ratio=0.20)\n"
   ]
  },
  {
   "cell_type": "code",
   "execution_count": 31,
   "metadata": {},
   "outputs": [],
   "source": [
    "unique_int_counts = len(np.unique(X_train))"
   ]
  },
  {
   "cell_type": "code",
   "execution_count": 45,
   "metadata": {},
   "outputs": [
    {
     "data": {
      "text/plain": [
       "array([0, 1, 2, 3, 4, 5, 6, 7, 8, 9, 10, 11, 12, 13, 14, 15, 16, 17, 18,\n",
       "       19, 20, 21, 22, 23, 24, 25, 26, 27, 28, 29, 30, 31, 32, 33, 34, 35,\n",
       "       36, 37, 38, 39, 40, 41, 42, 43, 44, 45, 46, 47, 48, 49, 50, 51, 52,\n",
       "       53, 54, 55, 56, 57, 58, 59, 60, 61, 62, 63, 64, 65, 66, 67, 68, 69,\n",
       "       70, 72, 73, 74, 75, 76, 77, 78, 80, 81, 82, 84, 85, 86, 88, 89, 90,\n",
       "       92, 93, 94, 95, 96, 97, 98, 100, 101, 102, 104, 105, 106, 108, 109,\n",
       "       110, 112, 113, 114, 116, 117, 118, 120, 121, 122, 124, 125, 126,\n",
       "       128, 129, 130, 132, 133, 134, 136, 137, 138, 140, 141, 142, 144,\n",
       "       145, 146, 148, 149, 150, 152, 153, 154, 156, 157, 158, 160, 161,\n",
       "       162, 164, 165, 166, 168, 169, 170, 172, 173, 174, 176, 177, 178,\n",
       "       180, 181, 182, 184, 185, 186, 188, 189, 190, 192, 193, 194, 196,\n",
       "       197, 198, 200, 201, 202, 204, 205, 206, 208, 209, 210, 212, 213,\n",
       "       214, 216, 217, 218, 220, 221, 222, 224, 225, 226, 228, 229, 230,\n",
       "       232, 233, 234, 236, 237, 238, 240, 241, 242, 244, 245, 246, 248,\n",
       "       249, 250, 252, 253, 254, 255], dtype=object)"
      ]
     },
     "execution_count": 45,
     "metadata": {},
     "output_type": "execute_result"
    }
   ],
   "source": [
    "np.unique(X_train)"
   ]
  },
  {
   "cell_type": "code",
   "execution_count": 46,
   "metadata": {},
   "outputs": [
    {
     "data": {
      "text/plain": [
       "212"
      ]
     },
     "execution_count": 46,
     "metadata": {},
     "output_type": "execute_result"
    }
   ],
   "source": [
    "unique_int_counts"
   ]
  },
  {
   "cell_type": "code",
   "execution_count": 43,
   "metadata": {},
   "outputs": [
    {
     "data": {
      "text/plain": [
       "(213, 137)"
      ]
     },
     "execution_count": 43,
     "metadata": {},
     "output_type": "execute_result"
    }
   ],
   "source": [
    "X_train.shape"
   ]
  },
  {
   "cell_type": "code",
   "execution_count": 20,
   "metadata": {},
   "outputs": [],
   "source": [
    "from keras.models import Sequential\n",
    "from keras.layers import LSTM, Dense, Embedding, Dropout, Flatten"
   ]
  },
  {
   "cell_type": "code",
   "execution_count": 51,
   "metadata": {},
   "outputs": [],
   "source": [
    "hidden_size = 50\n",
    "model = Sequential()\n",
    "model.add(Embedding(X.shape[1], hidden_size, input_length= X.shape[1]))\n",
    "model.add(LSTM(hidden_size, return_sequences=True))\n",
    "model.add(LSTM(hidden_size, return_sequences=True))\n",
    "model.add(LSTM(hidden_size, return_sequences=True))\n",
    "model.add(Dropout(0.4))\n",
    "model.add(Dense(hidden_size, activation='relu'))\n",
    "model.add(Flatten())\n",
    "model.add(Dense(1, activation='linear'))"
   ]
  },
  {
   "cell_type": "code",
   "execution_count": 52,
   "metadata": {},
   "outputs": [
    {
     "name": "stdout",
     "output_type": "stream",
     "text": [
      "_________________________________________________________________\n",
      "Layer (type)                 Output Shape              Param #   \n",
      "=================================================================\n",
      "embedding_6 (Embedding)      (None, 137, 50)           6850      \n",
      "_________________________________________________________________\n",
      "lstm_16 (LSTM)               (None, 137, 50)           20200     \n",
      "_________________________________________________________________\n",
      "lstm_17 (LSTM)               (None, 137, 50)           20200     \n",
      "_________________________________________________________________\n",
      "lstm_18 (LSTM)               (None, 137, 50)           20200     \n",
      "_________________________________________________________________\n",
      "dropout_5 (Dropout)          (None, 137, 50)           0         \n",
      "_________________________________________________________________\n",
      "dense_9 (Dense)              (None, 137, 50)           2550      \n",
      "_________________________________________________________________\n",
      "flatten_5 (Flatten)          (None, 6850)              0         \n",
      "_________________________________________________________________\n",
      "dense_10 (Dense)             (None, 1)                 6851      \n",
      "=================================================================\n",
      "Total params: 76,851\n",
      "Trainable params: 76,851\n",
      "Non-trainable params: 0\n",
      "_________________________________________________________________\n"
     ]
    }
   ],
   "source": [
    "model.compile(loss='mean_squared_error', optimizer='Adam', metrics=['mean_absolute_error'])\n",
    "model.summary() ##use mean_squared_error loss"
   ]
  },
  {
   "cell_type": "code",
   "execution_count": 53,
   "metadata": {},
   "outputs": [
    {
     "name": "stdout",
     "output_type": "stream",
     "text": [
      "Train on 213 samples, validate on 54 samples\n",
      "Epoch 1/100\n"
     ]
    },
    {
     "ename": "InvalidArgumentError",
     "evalue": "indices[30,0] = 224 is not in [0, 137)\n\t [[{{node embedding_6/embedding_lookup}}]]",
     "output_type": "error",
     "traceback": [
      "\u001b[1;31m---------------------------------------------------------------------------\u001b[0m",
      "\u001b[1;31mInvalidArgumentError\u001b[0m                      Traceback (most recent call last)",
      "\u001b[1;32m<ipython-input-53-284030df80dc>\u001b[0m in \u001b[0;36m<module>\u001b[1;34m\u001b[0m\n\u001b[1;32m----> 1\u001b[1;33m \u001b[0mmodel\u001b[0m\u001b[1;33m.\u001b[0m\u001b[0mfit\u001b[0m\u001b[1;33m(\u001b[0m\u001b[0mX_train\u001b[0m\u001b[1;33m,\u001b[0m \u001b[0my_train\u001b[0m\u001b[1;33m,\u001b[0m \u001b[0mbatch_size\u001b[0m\u001b[1;33m=\u001b[0m\u001b[1;36m32\u001b[0m\u001b[1;33m,\u001b[0m \u001b[0mvalidation_data\u001b[0m\u001b[1;33m=\u001b[0m\u001b[1;33m(\u001b[0m\u001b[0mX_test\u001b[0m\u001b[1;33m,\u001b[0m \u001b[0my_test\u001b[0m\u001b[1;33m)\u001b[0m\u001b[1;33m,\u001b[0m \u001b[0mepochs\u001b[0m\u001b[1;33m=\u001b[0m\u001b[1;36m100\u001b[0m\u001b[1;33m)\u001b[0m\u001b[1;33m\u001b[0m\u001b[1;33m\u001b[0m\u001b[0m\n\u001b[0m",
      "\u001b[1;32m~\\.conda\\envs\\test_speedcom\\lib\\site-packages\\keras\\engine\\training.py\u001b[0m in \u001b[0;36mfit\u001b[1;34m(self, x, y, batch_size, epochs, verbose, callbacks, validation_split, validation_data, shuffle, class_weight, sample_weight, initial_epoch, steps_per_epoch, validation_steps, **kwargs)\u001b[0m\n\u001b[0;32m   1037\u001b[0m                                         \u001b[0minitial_epoch\u001b[0m\u001b[1;33m=\u001b[0m\u001b[0minitial_epoch\u001b[0m\u001b[1;33m,\u001b[0m\u001b[1;33m\u001b[0m\u001b[1;33m\u001b[0m\u001b[0m\n\u001b[0;32m   1038\u001b[0m                                         \u001b[0msteps_per_epoch\u001b[0m\u001b[1;33m=\u001b[0m\u001b[0msteps_per_epoch\u001b[0m\u001b[1;33m,\u001b[0m\u001b[1;33m\u001b[0m\u001b[1;33m\u001b[0m\u001b[0m\n\u001b[1;32m-> 1039\u001b[1;33m                                         validation_steps=validation_steps)\n\u001b[0m\u001b[0;32m   1040\u001b[0m \u001b[1;33m\u001b[0m\u001b[0m\n\u001b[0;32m   1041\u001b[0m     def evaluate(self, x=None, y=None,\n",
      "\u001b[1;32m~\\.conda\\envs\\test_speedcom\\lib\\site-packages\\keras\\engine\\training_arrays.py\u001b[0m in \u001b[0;36mfit_loop\u001b[1;34m(model, f, ins, out_labels, batch_size, epochs, verbose, callbacks, val_f, val_ins, shuffle, callback_metrics, initial_epoch, steps_per_epoch, validation_steps)\u001b[0m\n\u001b[0;32m    197\u001b[0m                     \u001b[0mins_batch\u001b[0m\u001b[1;33m[\u001b[0m\u001b[0mi\u001b[0m\u001b[1;33m]\u001b[0m \u001b[1;33m=\u001b[0m \u001b[0mins_batch\u001b[0m\u001b[1;33m[\u001b[0m\u001b[0mi\u001b[0m\u001b[1;33m]\u001b[0m\u001b[1;33m.\u001b[0m\u001b[0mtoarray\u001b[0m\u001b[1;33m(\u001b[0m\u001b[1;33m)\u001b[0m\u001b[1;33m\u001b[0m\u001b[1;33m\u001b[0m\u001b[0m\n\u001b[0;32m    198\u001b[0m \u001b[1;33m\u001b[0m\u001b[0m\n\u001b[1;32m--> 199\u001b[1;33m                 \u001b[0mouts\u001b[0m \u001b[1;33m=\u001b[0m \u001b[0mf\u001b[0m\u001b[1;33m(\u001b[0m\u001b[0mins_batch\u001b[0m\u001b[1;33m)\u001b[0m\u001b[1;33m\u001b[0m\u001b[1;33m\u001b[0m\u001b[0m\n\u001b[0m\u001b[0;32m    200\u001b[0m                 \u001b[0mouts\u001b[0m \u001b[1;33m=\u001b[0m \u001b[0mto_list\u001b[0m\u001b[1;33m(\u001b[0m\u001b[0mouts\u001b[0m\u001b[1;33m)\u001b[0m\u001b[1;33m\u001b[0m\u001b[1;33m\u001b[0m\u001b[0m\n\u001b[0;32m    201\u001b[0m                 \u001b[1;32mfor\u001b[0m \u001b[0ml\u001b[0m\u001b[1;33m,\u001b[0m \u001b[0mo\u001b[0m \u001b[1;32min\u001b[0m \u001b[0mzip\u001b[0m\u001b[1;33m(\u001b[0m\u001b[0mout_labels\u001b[0m\u001b[1;33m,\u001b[0m \u001b[0mouts\u001b[0m\u001b[1;33m)\u001b[0m\u001b[1;33m:\u001b[0m\u001b[1;33m\u001b[0m\u001b[1;33m\u001b[0m\u001b[0m\n",
      "\u001b[1;32m~\\.conda\\envs\\test_speedcom\\lib\\site-packages\\keras\\backend\\tensorflow_backend.py\u001b[0m in \u001b[0;36m__call__\u001b[1;34m(self, inputs)\u001b[0m\n\u001b[0;32m   2713\u001b[0m                 \u001b[1;32mreturn\u001b[0m \u001b[0mself\u001b[0m\u001b[1;33m.\u001b[0m\u001b[0m_legacy_call\u001b[0m\u001b[1;33m(\u001b[0m\u001b[0minputs\u001b[0m\u001b[1;33m)\u001b[0m\u001b[1;33m\u001b[0m\u001b[1;33m\u001b[0m\u001b[0m\n\u001b[0;32m   2714\u001b[0m \u001b[1;33m\u001b[0m\u001b[0m\n\u001b[1;32m-> 2715\u001b[1;33m             \u001b[1;32mreturn\u001b[0m \u001b[0mself\u001b[0m\u001b[1;33m.\u001b[0m\u001b[0m_call\u001b[0m\u001b[1;33m(\u001b[0m\u001b[0minputs\u001b[0m\u001b[1;33m)\u001b[0m\u001b[1;33m\u001b[0m\u001b[1;33m\u001b[0m\u001b[0m\n\u001b[0m\u001b[0;32m   2716\u001b[0m         \u001b[1;32melse\u001b[0m\u001b[1;33m:\u001b[0m\u001b[1;33m\u001b[0m\u001b[1;33m\u001b[0m\u001b[0m\n\u001b[0;32m   2717\u001b[0m             \u001b[1;32mif\u001b[0m \u001b[0mpy_any\u001b[0m\u001b[1;33m(\u001b[0m\u001b[0mis_tensor\u001b[0m\u001b[1;33m(\u001b[0m\u001b[0mx\u001b[0m\u001b[1;33m)\u001b[0m \u001b[1;32mfor\u001b[0m \u001b[0mx\u001b[0m \u001b[1;32min\u001b[0m \u001b[0minputs\u001b[0m\u001b[1;33m)\u001b[0m\u001b[1;33m:\u001b[0m\u001b[1;33m\u001b[0m\u001b[1;33m\u001b[0m\u001b[0m\n",
      "\u001b[1;32m~\\.conda\\envs\\test_speedcom\\lib\\site-packages\\keras\\backend\\tensorflow_backend.py\u001b[0m in \u001b[0;36m_call\u001b[1;34m(self, inputs)\u001b[0m\n\u001b[0;32m   2673\u001b[0m             \u001b[0mfetched\u001b[0m \u001b[1;33m=\u001b[0m \u001b[0mself\u001b[0m\u001b[1;33m.\u001b[0m\u001b[0m_callable_fn\u001b[0m\u001b[1;33m(\u001b[0m\u001b[1;33m*\u001b[0m\u001b[0marray_vals\u001b[0m\u001b[1;33m,\u001b[0m \u001b[0mrun_metadata\u001b[0m\u001b[1;33m=\u001b[0m\u001b[0mself\u001b[0m\u001b[1;33m.\u001b[0m\u001b[0mrun_metadata\u001b[0m\u001b[1;33m)\u001b[0m\u001b[1;33m\u001b[0m\u001b[1;33m\u001b[0m\u001b[0m\n\u001b[0;32m   2674\u001b[0m         \u001b[1;32melse\u001b[0m\u001b[1;33m:\u001b[0m\u001b[1;33m\u001b[0m\u001b[1;33m\u001b[0m\u001b[0m\n\u001b[1;32m-> 2675\u001b[1;33m             \u001b[0mfetched\u001b[0m \u001b[1;33m=\u001b[0m \u001b[0mself\u001b[0m\u001b[1;33m.\u001b[0m\u001b[0m_callable_fn\u001b[0m\u001b[1;33m(\u001b[0m\u001b[1;33m*\u001b[0m\u001b[0marray_vals\u001b[0m\u001b[1;33m)\u001b[0m\u001b[1;33m\u001b[0m\u001b[1;33m\u001b[0m\u001b[0m\n\u001b[0m\u001b[0;32m   2676\u001b[0m         \u001b[1;32mreturn\u001b[0m \u001b[0mfetched\u001b[0m\u001b[1;33m[\u001b[0m\u001b[1;33m:\u001b[0m\u001b[0mlen\u001b[0m\u001b[1;33m(\u001b[0m\u001b[0mself\u001b[0m\u001b[1;33m.\u001b[0m\u001b[0moutputs\u001b[0m\u001b[1;33m)\u001b[0m\u001b[1;33m]\u001b[0m\u001b[1;33m\u001b[0m\u001b[1;33m\u001b[0m\u001b[0m\n\u001b[0;32m   2677\u001b[0m \u001b[1;33m\u001b[0m\u001b[0m\n",
      "\u001b[1;32m~\\AppData\\Roaming\\Python\\Python36\\site-packages\\tensorflow\\python\\client\\session.py\u001b[0m in \u001b[0;36m__call__\u001b[1;34m(self, *args, **kwargs)\u001b[0m\n\u001b[0;32m   1437\u001b[0m           ret = tf_session.TF_SessionRunCallable(\n\u001b[0;32m   1438\u001b[0m               \u001b[0mself\u001b[0m\u001b[1;33m.\u001b[0m\u001b[0m_session\u001b[0m\u001b[1;33m.\u001b[0m\u001b[0m_session\u001b[0m\u001b[1;33m,\u001b[0m \u001b[0mself\u001b[0m\u001b[1;33m.\u001b[0m\u001b[0m_handle\u001b[0m\u001b[1;33m,\u001b[0m \u001b[0margs\u001b[0m\u001b[1;33m,\u001b[0m \u001b[0mstatus\u001b[0m\u001b[1;33m,\u001b[0m\u001b[1;33m\u001b[0m\u001b[1;33m\u001b[0m\u001b[0m\n\u001b[1;32m-> 1439\u001b[1;33m               run_metadata_ptr)\n\u001b[0m\u001b[0;32m   1440\u001b[0m         \u001b[1;32mif\u001b[0m \u001b[0mrun_metadata\u001b[0m\u001b[1;33m:\u001b[0m\u001b[1;33m\u001b[0m\u001b[1;33m\u001b[0m\u001b[0m\n\u001b[0;32m   1441\u001b[0m           \u001b[0mproto_data\u001b[0m \u001b[1;33m=\u001b[0m \u001b[0mtf_session\u001b[0m\u001b[1;33m.\u001b[0m\u001b[0mTF_GetBuffer\u001b[0m\u001b[1;33m(\u001b[0m\u001b[0mrun_metadata_ptr\u001b[0m\u001b[1;33m)\u001b[0m\u001b[1;33m\u001b[0m\u001b[1;33m\u001b[0m\u001b[0m\n",
      "\u001b[1;32m~\\AppData\\Roaming\\Python\\Python36\\site-packages\\tensorflow\\python\\framework\\errors_impl.py\u001b[0m in \u001b[0;36m__exit__\u001b[1;34m(self, type_arg, value_arg, traceback_arg)\u001b[0m\n\u001b[0;32m    526\u001b[0m             \u001b[1;32mNone\u001b[0m\u001b[1;33m,\u001b[0m \u001b[1;32mNone\u001b[0m\u001b[1;33m,\u001b[0m\u001b[1;33m\u001b[0m\u001b[1;33m\u001b[0m\u001b[0m\n\u001b[0;32m    527\u001b[0m             \u001b[0mcompat\u001b[0m\u001b[1;33m.\u001b[0m\u001b[0mas_text\u001b[0m\u001b[1;33m(\u001b[0m\u001b[0mc_api\u001b[0m\u001b[1;33m.\u001b[0m\u001b[0mTF_Message\u001b[0m\u001b[1;33m(\u001b[0m\u001b[0mself\u001b[0m\u001b[1;33m.\u001b[0m\u001b[0mstatus\u001b[0m\u001b[1;33m.\u001b[0m\u001b[0mstatus\u001b[0m\u001b[1;33m)\u001b[0m\u001b[1;33m)\u001b[0m\u001b[1;33m,\u001b[0m\u001b[1;33m\u001b[0m\u001b[1;33m\u001b[0m\u001b[0m\n\u001b[1;32m--> 528\u001b[1;33m             c_api.TF_GetCode(self.status.status))\n\u001b[0m\u001b[0;32m    529\u001b[0m     \u001b[1;31m# Delete the underlying status object from memory otherwise it stays alive\u001b[0m\u001b[1;33m\u001b[0m\u001b[1;33m\u001b[0m\u001b[1;33m\u001b[0m\u001b[0m\n\u001b[0;32m    530\u001b[0m     \u001b[1;31m# as there is a reference to status from this from the traceback due to\u001b[0m\u001b[1;33m\u001b[0m\u001b[1;33m\u001b[0m\u001b[1;33m\u001b[0m\u001b[0m\n",
      "\u001b[1;31mInvalidArgumentError\u001b[0m: indices[30,0] = 224 is not in [0, 137)\n\t [[{{node embedding_6/embedding_lookup}}]]"
     ]
    }
   ],
   "source": [
    "model.fit(X_train, y_train, batch_size=32, validation_data=(X_test, y_test), epochs=100)"
   ]
  },
  {
   "cell_type": "markdown",
   "metadata": {},
   "source": [
    "### Second model, category model"
   ]
  },
  {
   "cell_type": "code",
   "execution_count": 8,
   "metadata": {},
   "outputs": [],
   "source": [
    "Y_category = mutls.get_y_category(y_actual=Y, min_edge=200, bin_width=20)"
   ]
  },
  {
   "cell_type": "code",
   "execution_count": 10,
   "metadata": {},
   "outputs": [],
   "source": [
    "cls_counts = mutls.get_class_count(Y_category)"
   ]
  },
  {
   "cell_type": "code",
   "execution_count": 11,
   "metadata": {},
   "outputs": [
    {
     "name": "stdout",
     "output_type": "stream",
     "text": [
      "{0.0: 18, 1.0: 23, 2.0: 40, 3.0: 44, 4.0: 14, 5.0: 7, 6.0: 8, 7.0: 4, 8.0: 6, 9.0: 3, 10.0: 12, 11.0: 10, 12.0: 7, 13.0: 4, 14.0: 7, 15.0: 10, 16.0: 5, 17.0: 10, 18.0: 6, 19.0: 6, 20.0: 6, 21.0: 3, 22.0: 4, 23.0: 2, 24.0: 2, 25.0: 2, 28.0: 1, 29.0: 2, 30.0: 1}\n"
     ]
    }
   ],
   "source": [
    "\n",
    "print(cls_counts)"
   ]
  },
  {
   "cell_type": "code",
   "execution_count": 20,
   "metadata": {},
   "outputs": [
    {
     "data": {
      "text/plain": [
       "(267, 137)"
      ]
     },
     "execution_count": 20,
     "metadata": {},
     "output_type": "execute_result"
    }
   ],
   "source": [
    "X_fp.shape"
   ]
  },
  {
   "cell_type": "code",
   "execution_count": 22,
   "metadata": {},
   "outputs": [],
   "source": [
    "d_cat = mutls.combine_columns((X_fp, Y_category))"
   ]
  },
  {
   "cell_type": "code",
   "execution_count": 23,
   "metadata": {},
   "outputs": [],
   "source": [
    "subsampled=mutls.subsampling(d_cat,-1,15,cls_counts)"
   ]
  },
  {
   "cell_type": "code",
   "execution_count": 24,
   "metadata": {},
   "outputs": [
    {
     "data": {
      "text/plain": [
       "array([[224, 255, 255, ..., 0, 0, 3.0],\n",
       "       [224, 255, 255, ..., 0, 0, 3.0],\n",
       "       [224, 255, 255, ..., 0, 0, 3.0],\n",
       "       ...,\n",
       "       [224, 255, 255, ..., 0, 0, 10.0],\n",
       "       [224, 255, 255, ..., 0, 0, 10.0],\n",
       "       [224, 255, 255, ..., 0, 0, 29.0]], dtype=object)"
      ]
     },
     "execution_count": 24,
     "metadata": {},
     "output_type": "execute_result"
    }
   ],
   "source": [
    "subsampled"
   ]
  },
  {
   "cell_type": "code",
   "execution_count": 28,
   "metadata": {},
   "outputs": [
    {
     "name": "stdout",
     "output_type": "stream",
     "text": [
      "(179, 137)\n",
      "(20, 137)\n",
      "(179, 31)\n",
      "(20, 31)\n"
     ]
    }
   ],
   "source": [
    "X, y = subsampled[:,0:-1], subsampled[:,-1]\n",
    "y_onehot = mutls.onehot_encode_y(y=y, num_class=31)\n",
    "X_train, X_test, y_train, y_test = utils.splitData(X, y_onehot, ratio=0.10)\n",
    "print(X_train.shape)\n",
    "print(X_test.shape)\n",
    "print(y_train.shape)\n",
    "print(y_test.shape)"
   ]
  },
  {
   "cell_type": "markdown",
   "metadata": {},
   "source": [
    "### 2nd fingerprint model RNN LSTM with category Y"
   ]
  },
  {
   "cell_type": "code",
   "execution_count": 36,
   "metadata": {},
   "outputs": [
    {
     "name": "stdout",
     "output_type": "stream",
     "text": [
      "_________________________________________________________________\n",
      "Layer (type)                 Output Shape              Param #   \n",
      "=================================================================\n",
      "lstm_3 (LSTM)                (None, 137, 224)          202496    \n",
      "_________________________________________________________________\n",
      "lstm_4 (LSTM)                (None, 384)               935424    \n",
      "_________________________________________________________________\n",
      "dense_2 (Dense)              (None, 31)                11935     \n",
      "=================================================================\n",
      "Total params: 1,149,855\n",
      "Trainable params: 1,149,855\n",
      "Non-trainable params: 0\n",
      "_________________________________________________________________\n"
     ]
    }
   ],
   "source": [
    "X_train = X_train.reshape((X_train.shape[0],X_train.shape[1],1))\n",
    "X_test = X_test.reshape((X_test.shape[0], X_test.shape[1], 1))\n",
    "\n",
    "rnn1_size = 224\n",
    "rnn2_size = 384\n",
    "dropout_rate = 0.2\n",
    "loss = 'categorical_crossentropy'\n",
    "metrics = ['accuracy']\n",
    "num_classes = 31\n",
    "optimizer = 'adam' #use adam optimizer\n",
    "\n",
    "model_1 = Sequential()\n",
    "model_1.add(LSTM(rnn1_size, return_sequences=True, input_shape=(137,1))) #137\n",
    "model_1.add(LSTM(rnn2_size))\n",
    "model_1.add(Dense(num_classes, activation='softmax'))\n",
    "model_1.compile(optimizer=optimizer, loss=loss, metrics=metrics)\n",
    "model_1.summary()"
   ]
  },
  {
   "cell_type": "code",
   "execution_count": 37,
   "metadata": {},
   "outputs": [
    {
     "name": "stdout",
     "output_type": "stream",
     "text": [
      "WARNING:tensorflow:From C:\\Users\\Yang\\AppData\\Roaming\\Python\\Python36\\site-packages\\tensorflow\\python\\ops\\math_ops.py:3066: to_int32 (from tensorflow.python.ops.math_ops) is deprecated and will be removed in a future version.\n",
      "Instructions for updating:\n",
      "Use tf.cast instead.\n",
      "Train on 179 samples, validate on 20 samples\n",
      "Epoch 1/100\n",
      "179/179 [==============================] - 10s 57ms/step - loss: 3.4145 - acc: 0.0894 - val_loss: 3.2352 - val_acc: 0.0500\n",
      "Epoch 2/100\n",
      "179/179 [==============================] - 8s 46ms/step - loss: 3.2857 - acc: 0.0838 - val_loss: 3.1650 - val_acc: 0.1000\n",
      "Epoch 3/100\n",
      "179/179 [==============================] - 8s 46ms/step - loss: 3.1737 - acc: 0.0838 - val_loss: 3.0942 - val_acc: 0.0500\n",
      "Epoch 4/100\n",
      "179/179 [==============================] - 8s 46ms/step - loss: 3.1800 - acc: 0.0894 - val_loss: 3.0205 - val_acc: 0.0500\n",
      "Epoch 5/100\n",
      "179/179 [==============================] - 8s 47ms/step - loss: 3.1538 - acc: 0.1061 - val_loss: 3.3127 - val_acc: 0.1000\n",
      "Epoch 6/100\n",
      "179/179 [==============================] - 9s 48ms/step - loss: 3.2281 - acc: 0.0838 - val_loss: 3.2009 - val_acc: 0.1000\n",
      "Epoch 7/100\n",
      "179/179 [==============================] - 9s 49ms/step - loss: 3.0486 - acc: 0.1117 - val_loss: 3.0413 - val_acc: 0.1500\n",
      "Epoch 8/100\n",
      "179/179 [==============================] - 9s 51ms/step - loss: 2.9993 - acc: 0.1453 - val_loss: 2.9296 - val_acc: 0.1000\n",
      "Epoch 9/100\n",
      "179/179 [==============================] - 9s 49ms/step - loss: 2.8665 - acc: 0.1788 - val_loss: 3.0617 - val_acc: 0.0500\n",
      "Epoch 10/100\n",
      "179/179 [==============================] - 9s 49ms/step - loss: 2.8430 - acc: 0.1341 - val_loss: 2.8986 - val_acc: 0.1000\n",
      "Epoch 11/100\n",
      "179/179 [==============================] - 9s 49ms/step - loss: 2.8698 - acc: 0.1453 - val_loss: 3.0475 - val_acc: 0.0500\n",
      "Epoch 12/100\n",
      "179/179 [==============================] - 9s 51ms/step - loss: 2.7913 - acc: 0.1620 - val_loss: 2.9679 - val_acc: 0.0500\n",
      "Epoch 13/100\n",
      "179/179 [==============================] - 9s 50ms/step - loss: 2.8144 - acc: 0.1341 - val_loss: 3.0751 - val_acc: 0.1000\n",
      "Epoch 14/100\n",
      "179/179 [==============================] - 10s 54ms/step - loss: 2.8275 - acc: 0.1453 - val_loss: 3.0092 - val_acc: 0.1000\n",
      "Epoch 15/100\n",
      "179/179 [==============================] - 9s 48ms/step - loss: 2.6953 - acc: 0.1844 - val_loss: 2.9209 - val_acc: 0.1000\n",
      "Epoch 16/100\n",
      "179/179 [==============================] - 9s 48ms/step - loss: 2.7227 - acc: 0.1564 - val_loss: 2.9890 - val_acc: 0.1000\n",
      "Epoch 17/100\n",
      "179/179 [==============================] - 9s 48ms/step - loss: 2.7708 - acc: 0.1732 - val_loss: 3.0275 - val_acc: 0.0500\n",
      "Epoch 18/100\n",
      "179/179 [==============================] - 9s 48ms/step - loss: 2.7417 - acc: 0.1732 - val_loss: 2.8761 - val_acc: 0.0500\n",
      "Epoch 19/100\n",
      "179/179 [==============================] - 9s 48ms/step - loss: 2.7582 - acc: 0.1229 - val_loss: 2.8503 - val_acc: 0.1500\n",
      "Epoch 20/100\n",
      "179/179 [==============================] - 9s 48ms/step - loss: 2.6673 - acc: 0.1676 - val_loss: 2.9933 - val_acc: 0.0500\n",
      "Epoch 21/100\n",
      "179/179 [==============================] - 9s 50ms/step - loss: 2.6954 - acc: 0.1844 - val_loss: 2.9732 - val_acc: 0.0500\n",
      "Epoch 22/100\n",
      "179/179 [==============================] - 9s 48ms/step - loss: 2.6634 - acc: 0.1788 - val_loss: 3.0524 - val_acc: 0.0500\n",
      "Epoch 23/100\n",
      "179/179 [==============================] - 9s 48ms/step - loss: 2.6418 - acc: 0.1899 - val_loss: 2.9167 - val_acc: 0.1500\n",
      "Epoch 24/100\n",
      "179/179 [==============================] - 9s 48ms/step - loss: 2.5888 - acc: 0.1732 - val_loss: 3.0080 - val_acc: 0.0500\n",
      "Epoch 25/100\n",
      "179/179 [==============================] - 9s 48ms/step - loss: 2.5695 - acc: 0.2123 - val_loss: 3.0381 - val_acc: 0.1000\n",
      "Epoch 26/100\n",
      "179/179 [==============================] - 9s 48ms/step - loss: 2.5777 - acc: 0.1676 - val_loss: 3.0746 - val_acc: 0.1500\n",
      "Epoch 27/100\n",
      "179/179 [==============================] - 9s 50ms/step - loss: 2.5517 - acc: 0.1899 - val_loss: 3.4380 - val_acc: 0.1500\n",
      "Epoch 28/100\n",
      "179/179 [==============================] - 9s 48ms/step - loss: 2.8885 - acc: 0.1620 - val_loss: 2.9466 - val_acc: 0.0500\n",
      "Epoch 29/100\n",
      "179/179 [==============================] - 9s 48ms/step - loss: 2.6851 - acc: 0.1732 - val_loss: 2.8863 - val_acc: 0.0000e+00\n",
      "Epoch 30/100\n",
      "179/179 [==============================] - 9s 48ms/step - loss: 2.6112 - acc: 0.1899 - val_loss: 2.9858 - val_acc: 0.2000\n",
      "Epoch 31/100\n",
      "179/179 [==============================] - 9s 48ms/step - loss: 2.6408 - acc: 0.1620 - val_loss: 2.9013 - val_acc: 0.1500\n",
      "Epoch 32/100\n",
      "179/179 [==============================] - 9s 50ms/step - loss: 2.6891 - acc: 0.1732 - val_loss: 2.9152 - val_acc: 0.1000\n",
      "Epoch 33/100\n",
      "179/179 [==============================] - 9s 49ms/step - loss: 2.5288 - acc: 0.2011 - val_loss: 3.0297 - val_acc: 0.0500\n",
      "Epoch 34/100\n",
      "179/179 [==============================] - 9s 48ms/step - loss: 2.5567 - acc: 0.1732 - val_loss: 3.0563 - val_acc: 0.0500\n",
      "Epoch 35/100\n",
      "179/179 [==============================] - 9s 48ms/step - loss: 2.4962 - acc: 0.2067 - val_loss: 2.9848 - val_acc: 0.0500\n",
      "Epoch 36/100\n",
      "179/179 [==============================] - 9s 50ms/step - loss: 2.5126 - acc: 0.1899 - val_loss: 2.9474 - val_acc: 0.0000e+00\n",
      "Epoch 37/100\n",
      "179/179 [==============================] - 9s 48ms/step - loss: 2.5014 - acc: 0.1899 - val_loss: 2.8407 - val_acc: 0.1000\n",
      "Epoch 38/100\n",
      "179/179 [==============================] - 9s 50ms/step - loss: 2.4806 - acc: 0.1844 - val_loss: 3.0817 - val_acc: 0.1000\n",
      "Epoch 39/100\n",
      "179/179 [==============================] - 10s 56ms/step - loss: 2.6054 - acc: 0.1564 - val_loss: 3.0375 - val_acc: 0.1000\n",
      "Epoch 40/100\n",
      "179/179 [==============================] - 9s 52ms/step - loss: 2.5346 - acc: 0.1844 - val_loss: 3.0501 - val_acc: 0.1500\n",
      "Epoch 41/100\n",
      "179/179 [==============================] - 10s 54ms/step - loss: 2.4063 - acc: 0.2235 - val_loss: 3.0504 - val_acc: 0.0500\n",
      "Epoch 42/100\n",
      "179/179 [==============================] - 9s 51ms/step - loss: 2.3769 - acc: 0.2067 - val_loss: 3.0793 - val_acc: 0.1000\n",
      "Epoch 43/100\n",
      "179/179 [==============================] - 9s 52ms/step - loss: 2.3610 - acc: 0.2291 - val_loss: 3.1462 - val_acc: 0.0000e+00\n",
      "Epoch 44/100\n",
      "179/179 [==============================] - 9s 53ms/step - loss: 2.4767 - acc: 0.2011 - val_loss: 3.0727 - val_acc: 0.0000e+00\n",
      "Epoch 45/100\n",
      "179/179 [==============================] - 9s 51ms/step - loss: 2.3253 - acc: 0.2011 - val_loss: 3.1961 - val_acc: 0.1000\n",
      "Epoch 46/100\n",
      "179/179 [==============================] - 9s 49ms/step - loss: 2.4934 - acc: 0.1955 - val_loss: 2.9856 - val_acc: 0.0500\n",
      "Epoch 47/100\n",
      "179/179 [==============================] - 9s 48ms/step - loss: 2.5758 - acc: 0.1899 - val_loss: 3.2212 - val_acc: 0.1000\n",
      "Epoch 48/100\n",
      "179/179 [==============================] - 9s 48ms/step - loss: 2.5876 - acc: 0.1955 - val_loss: 3.0344 - val_acc: 0.1000\n",
      "Epoch 49/100\n",
      "179/179 [==============================] - 9s 48ms/step - loss: 2.4774 - acc: 0.1676 - val_loss: 3.0237 - val_acc: 0.0500\n",
      "Epoch 50/100\n",
      "179/179 [==============================] - 9s 48ms/step - loss: 2.5317 - acc: 0.2011 - val_loss: 3.0247 - val_acc: 0.1000\n",
      "Epoch 51/100\n",
      "179/179 [==============================] - 9s 48ms/step - loss: 2.4242 - acc: 0.1788 - val_loss: 3.0499 - val_acc: 0.1000\n",
      "Epoch 52/100\n",
      "179/179 [==============================] - 9s 48ms/step - loss: 2.3735 - acc: 0.1899 - val_loss: 3.2047 - val_acc: 0.0000e+00\n",
      "Epoch 53/100\n",
      "179/179 [==============================] - 9s 48ms/step - loss: 2.3184 - acc: 0.2179 - val_loss: 3.1320 - val_acc: 0.0000e+00\n",
      "Epoch 54/100\n",
      "179/179 [==============================] - 9s 48ms/step - loss: 2.3771 - acc: 0.1955 - val_loss: 3.3363 - val_acc: 0.0000e+00\n",
      "Epoch 55/100\n",
      "179/179 [==============================] - 9s 48ms/step - loss: 2.4403 - acc: 0.2123 - val_loss: 3.2136 - val_acc: 0.0500\n",
      "Epoch 56/100\n",
      "179/179 [==============================] - 9s 48ms/step - loss: 2.3314 - acc: 0.2346 - val_loss: 3.1890 - val_acc: 0.0000e+00\n",
      "Epoch 57/100\n",
      "179/179 [==============================] - 9s 48ms/step - loss: 2.3316 - acc: 0.2235 - val_loss: 3.0698 - val_acc: 0.0000e+00\n",
      "Epoch 58/100\n",
      "179/179 [==============================] - 8s 47ms/step - loss: 2.3359 - acc: 0.1955 - val_loss: 3.2970 - val_acc: 0.0500\n",
      "Epoch 59/100\n"
     ]
    },
    {
     "name": "stdout",
     "output_type": "stream",
     "text": [
      "179/179 [==============================] - 9s 48ms/step - loss: 2.2766 - acc: 0.2179 - val_loss: 3.2231 - val_acc: 0.0500\n",
      "Epoch 60/100\n",
      "179/179 [==============================] - 9s 48ms/step - loss: 2.3147 - acc: 0.2235 - val_loss: 3.2866 - val_acc: 0.0000e+00\n",
      "Epoch 61/100\n",
      "179/179 [==============================] - 9s 48ms/step - loss: 2.2778 - acc: 0.2458 - val_loss: 3.7908 - val_acc: 0.1000\n",
      "Epoch 62/100\n",
      "179/179 [==============================] - 9s 48ms/step - loss: 2.5234 - acc: 0.2011 - val_loss: 3.3509 - val_acc: 0.1000\n",
      "Epoch 63/100\n",
      "179/179 [==============================] - 9s 48ms/step - loss: 2.4305 - acc: 0.2011 - val_loss: 3.5701 - val_acc: 0.0500\n",
      "Epoch 64/100\n",
      "179/179 [==============================] - 9s 48ms/step - loss: 2.3638 - acc: 0.1844 - val_loss: 3.2587 - val_acc: 0.0000e+00\n",
      "Epoch 65/100\n",
      "179/179 [==============================] - 9s 50ms/step - loss: 2.3181 - acc: 0.2123 - val_loss: 3.2376 - val_acc: 0.0000e+00\n",
      "Epoch 66/100\n",
      "179/179 [==============================] - 9s 48ms/step - loss: 2.2920 - acc: 0.2458 - val_loss: 3.2743 - val_acc: 0.0000e+00\n",
      "Epoch 67/100\n",
      "179/179 [==============================] - 9s 48ms/step - loss: 2.2360 - acc: 0.2291 - val_loss: 3.2423 - val_acc: 0.1000\n",
      "Epoch 68/100\n",
      "179/179 [==============================] - 9s 49ms/step - loss: 2.2218 - acc: 0.2235 - val_loss: 3.3564 - val_acc: 0.0500\n",
      "Epoch 69/100\n",
      "179/179 [==============================] - 9s 48ms/step - loss: 2.2216 - acc: 0.2402 - val_loss: 3.2066 - val_acc: 0.0000e+00\n",
      "Epoch 70/100\n",
      "179/179 [==============================] - 9s 48ms/step - loss: 2.2422 - acc: 0.2291 - val_loss: 3.3211 - val_acc: 0.0000e+00\n",
      "Epoch 71/100\n",
      "179/179 [==============================] - 9s 48ms/step - loss: 2.2062 - acc: 0.2458 - val_loss: 3.4560 - val_acc: 0.0000e+00\n",
      "Epoch 72/100\n",
      "179/179 [==============================] - 9s 48ms/step - loss: 2.2923 - acc: 0.2235 - val_loss: 3.5410 - val_acc: 0.1500\n",
      "Epoch 73/100\n",
      "179/179 [==============================] - 9s 50ms/step - loss: 2.4388 - acc: 0.2011 - val_loss: 3.6998 - val_acc: 0.0500\n",
      "Epoch 74/100\n",
      "179/179 [==============================] - 9s 51ms/step - loss: 2.4174 - acc: 0.2179 - val_loss: 3.2468 - val_acc: 0.0500\n",
      "Epoch 75/100\n",
      "179/179 [==============================] - 8s 47ms/step - loss: 2.3240 - acc: 0.2291 - val_loss: 3.3151 - val_acc: 0.1000\n",
      "Epoch 76/100\n",
      "179/179 [==============================] - 8s 47ms/step - loss: 2.2681 - acc: 0.2235 - val_loss: 3.2143 - val_acc: 0.0000e+00\n",
      "Epoch 77/100\n",
      "179/179 [==============================] - 8s 47ms/step - loss: 2.2909 - acc: 0.1620 - val_loss: 3.2144 - val_acc: 0.1000\n",
      "Epoch 78/100\n",
      "179/179 [==============================] - 9s 48ms/step - loss: 2.2419 - acc: 0.2291 - val_loss: 3.1823 - val_acc: 0.0000e+00\n",
      "Epoch 79/100\n",
      "179/179 [==============================] - 8s 47ms/step - loss: 2.2115 - acc: 0.2570 - val_loss: 3.2401 - val_acc: 0.0000e+00\n",
      "Epoch 80/100\n",
      "179/179 [==============================] - 8s 47ms/step - loss: 2.1710 - acc: 0.2570 - val_loss: 3.3241 - val_acc: 0.0500\n",
      "Epoch 81/100\n",
      "179/179 [==============================] - 8s 47ms/step - loss: 2.1849 - acc: 0.2291 - val_loss: 3.3785 - val_acc: 0.0000e+00\n",
      "Epoch 82/100\n",
      "179/179 [==============================] - 9s 48ms/step - loss: 2.2250 - acc: 0.2402 - val_loss: 3.2776 - val_acc: 0.0500\n",
      "Epoch 83/100\n",
      "179/179 [==============================] - 9s 48ms/step - loss: 2.4244 - acc: 0.2123 - val_loss: 3.3188 - val_acc: 0.0000e+00\n",
      "Epoch 84/100\n",
      "179/179 [==============================] - 9s 48ms/step - loss: 2.2765 - acc: 0.2458 - val_loss: 3.3193 - val_acc: 0.0000e+00\n",
      "Epoch 85/100\n",
      "179/179 [==============================] - 9s 48ms/step - loss: 2.4394 - acc: 0.2067 - val_loss: 3.2484 - val_acc: 0.0000e+00\n",
      "Epoch 86/100\n",
      "179/179 [==============================] - 9s 48ms/step - loss: 2.2487 - acc: 0.2458 - val_loss: 3.2964 - val_acc: 0.0500\n",
      "Epoch 87/100\n",
      "179/179 [==============================] - 9s 48ms/step - loss: 2.2022 - acc: 0.2402 - val_loss: 3.2830 - val_acc: 0.0500\n",
      "Epoch 88/100\n",
      "179/179 [==============================] - 9s 48ms/step - loss: 2.2107 - acc: 0.2179 - val_loss: 3.2588 - val_acc: 0.0500\n",
      "Epoch 89/100\n",
      "179/179 [==============================] - 9s 48ms/step - loss: 2.1756 - acc: 0.2179 - val_loss: 3.3632 - val_acc: 0.0500\n",
      "Epoch 90/100\n",
      "179/179 [==============================] - 9s 48ms/step - loss: 2.1246 - acc: 0.2849 - val_loss: 3.3689 - val_acc: 0.1500\n",
      "Epoch 91/100\n",
      "179/179 [==============================] - 8s 47ms/step - loss: 2.1222 - acc: 0.2402 - val_loss: 3.5543 - val_acc: 0.0500\n",
      "Epoch 92/100\n",
      "179/179 [==============================] - 8s 47ms/step - loss: 2.0794 - acc: 0.2793 - val_loss: 3.3781 - val_acc: 0.0000e+00\n",
      "Epoch 93/100\n",
      "179/179 [==============================] - 8s 47ms/step - loss: 2.1208 - acc: 0.2682 - val_loss: 3.6356 - val_acc: 0.0500\n",
      "Epoch 94/100\n",
      "179/179 [==============================] - 8s 47ms/step - loss: 2.1687 - acc: 0.2626 - val_loss: 3.8245 - val_acc: 0.0500\n",
      "Epoch 95/100\n",
      "179/179 [==============================] - 8s 47ms/step - loss: 2.2317 - acc: 0.2011 - val_loss: 3.3916 - val_acc: 0.0500\n",
      "Epoch 96/100\n",
      "179/179 [==============================] - 9s 48ms/step - loss: 2.1043 - acc: 0.2458 - val_loss: 3.4680 - val_acc: 0.0500\n",
      "Epoch 97/100\n",
      "179/179 [==============================] - 9s 48ms/step - loss: 2.1565 - acc: 0.2123 - val_loss: 3.5045 - val_acc: 0.0000e+00\n",
      "Epoch 98/100\n",
      "179/179 [==============================] - 9s 48ms/step - loss: 2.1400 - acc: 0.2626 - val_loss: 3.5119 - val_acc: 0.0000e+00\n",
      "Epoch 99/100\n",
      "179/179 [==============================] - 9s 48ms/step - loss: 2.0972 - acc: 0.2514 - val_loss: 3.5906 - val_acc: 0.0500\n",
      "Epoch 100/100\n",
      "179/179 [==============================] - 8s 47ms/step - loss: 2.1098 - acc: 0.2570 - val_loss: 3.5851 - val_acc: 0.0500\n"
     ]
    },
    {
     "data": {
      "text/plain": [
       "<keras.callbacks.History at 0x1b578b24a90>"
      ]
     },
     "execution_count": 37,
     "metadata": {},
     "output_type": "execute_result"
    }
   ],
   "source": [
    "batch_size = 16\n",
    "epochs = 100\n",
    "\n",
    "model_1.fit(X_train, y_train, batch_size=batch_size, epochs=epochs, validation_data=[X_test, y_test])"
   ]
  },
  {
   "cell_type": "markdown",
   "metadata": {},
   "source": [
    "Training acc 0.25, testing accuracy 0.05 (max 0.15)"
   ]
  }
 ],
 "metadata": {
  "kernelspec": {
   "display_name": "test_speedcom",
   "language": "python",
   "name": "test_speedcom"
  },
  "language_info": {
   "codemirror_mode": {
    "name": "ipython",
    "version": 3
   },
   "file_extension": ".py",
   "mimetype": "text/x-python",
   "name": "python",
   "nbconvert_exporter": "python",
   "pygments_lexer": "ipython3",
   "version": "3.6.8"
  }
 },
 "nbformat": 4,
 "nbformat_minor": 2
}
