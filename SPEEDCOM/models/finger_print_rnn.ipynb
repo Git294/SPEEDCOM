{
 "cells": [
  {
   "cell_type": "code",
   "execution_count": 1,
   "metadata": {},
   "outputs": [
    {
     "name": "stderr",
     "output_type": "stream",
     "text": [
      "C:\\Users\\Yang\\.conda\\envs\\test_speedcom\\lib\\importlib\\_bootstrap.py:219: RuntimeWarning: numpy.ufunc size changed, may indicate binary incompatibility. Expected 192 from C header, got 216 from PyObject\n",
      "  return f(*args, **kwds)\n"
     ]
    }
   ],
   "source": [
    "import numpy as np\n",
    "import pandas as pd\n",
    "import matplotlib.pyplot as plt\n",
    "\n",
    "from dataUtils import DataUtils as utils\n",
    "from model_utils import ModelUtils as mutls"
   ]
  },
  {
   "cell_type": "code",
   "execution_count": 2,
   "metadata": {},
   "outputs": [
    {
     "name": "stderr",
     "output_type": "stream",
     "text": [
      "Using TensorFlow backend.\n"
     ]
    }
   ],
   "source": [
    "from keras import Sequential\n",
    "from keras.layers import Dense, Embedding, LSTM, GRU, Conv1D, Activation"
   ]
  },
  {
   "cell_type": "code",
   "execution_count": 3,
   "metadata": {},
   "outputs": [],
   "source": [
    "df=pd.read_csv('temp_cfprint.tsv', sep='\\t')"
   ]
  },
  {
   "cell_type": "code",
   "execution_count": 4,
   "metadata": {},
   "outputs": [
    {
     "data": {
      "text/html": [
       "<div>\n",
       "<style scoped>\n",
       "    .dataframe tbody tr th:only-of-type {\n",
       "        vertical-align: middle;\n",
       "    }\n",
       "\n",
       "    .dataframe tbody tr th {\n",
       "        vertical-align: top;\n",
       "    }\n",
       "\n",
       "    .dataframe thead th {\n",
       "        text-align: right;\n",
       "    }\n",
       "</style>\n",
       "<table border=\"1\" class=\"dataframe\">\n",
       "  <thead>\n",
       "    <tr style=\"text-align: right;\">\n",
       "      <th></th>\n",
       "      <th>#</th>\n",
       "      <th>Name</th>\n",
       "      <th>name_smiles</th>\n",
       "      <th>Wavelength</th>\n",
       "      <th>Epsilon</th>\n",
       "      <th>Quantum Yield</th>\n",
       "      <th>cfp</th>\n",
       "    </tr>\n",
       "  </thead>\n",
       "  <tbody>\n",
       "    <tr>\n",
       "      <th>0</th>\n",
       "      <td>1</td>\n",
       "      <td>Benzene</td>\n",
       "      <td>C1=CC=CC=C1</td>\n",
       "      <td>254.75</td>\n",
       "      <td>210</td>\n",
       "      <td>0.053</td>\n",
       "      <td>[224, 255, 255, 255, 0, 8, 0, 0, 3, 0, 0, 0, 2...</td>\n",
       "    </tr>\n",
       "    <tr>\n",
       "      <th>1</th>\n",
       "      <td>2</td>\n",
       "      <td>Toluene</td>\n",
       "      <td>CC1=CC=CC=C1</td>\n",
       "      <td>261.75</td>\n",
       "      <td>2860</td>\n",
       "      <td>0.170</td>\n",
       "      <td>[224, 255, 255, 255, 0, 8, 0, 0, 11, 0, 0, 0, ...</td>\n",
       "    </tr>\n",
       "    <tr>\n",
       "      <th>2</th>\n",
       "      <td>3</td>\n",
       "      <td>o-Xylene</td>\n",
       "      <td>CC1=CC=CC=C1C</td>\n",
       "      <td>263.00</td>\n",
       "      <td>254</td>\n",
       "      <td>0.170</td>\n",
       "      <td>[224, 255, 255, 255, 0, 8, 0, 0, 10, 0, 0, 0, ...</td>\n",
       "    </tr>\n",
       "    <tr>\n",
       "      <th>3</th>\n",
       "      <td>4</td>\n",
       "      <td>m-Xylene</td>\n",
       "      <td>CC1=CC(=CC=C1)C</td>\n",
       "      <td>265.00</td>\n",
       "      <td>284</td>\n",
       "      <td>0.130</td>\n",
       "      <td>[224, 255, 255, 255, 0, 8, 0, 0, 12, 0, 0, 0, ...</td>\n",
       "    </tr>\n",
       "    <tr>\n",
       "      <th>4</th>\n",
       "      <td>5</td>\n",
       "      <td>p-Xylene</td>\n",
       "      <td>CC1=CC=C(C=C1)C</td>\n",
       "      <td>275.00</td>\n",
       "      <td>770</td>\n",
       "      <td>0.220</td>\n",
       "      <td>[224, 255, 255, 255, 0, 8, 0, 0, 8, 0, 0, 0, 1...</td>\n",
       "    </tr>\n",
       "  </tbody>\n",
       "</table>\n",
       "</div>"
      ],
      "text/plain": [
       "   #      Name      name_smiles  Wavelength  Epsilon  Quantum Yield  \\\n",
       "0  1   Benzene      C1=CC=CC=C1      254.75      210          0.053   \n",
       "1  2   Toluene     CC1=CC=CC=C1      261.75     2860          0.170   \n",
       "2  3  o-Xylene    CC1=CC=CC=C1C      263.00      254          0.170   \n",
       "3  4  m-Xylene  CC1=CC(=CC=C1)C      265.00      284          0.130   \n",
       "4  5  p-Xylene  CC1=CC=C(C=C1)C      275.00      770          0.220   \n",
       "\n",
       "                                                 cfp  \n",
       "0  [224, 255, 255, 255, 0, 8, 0, 0, 3, 0, 0, 0, 2...  \n",
       "1  [224, 255, 255, 255, 0, 8, 0, 0, 11, 0, 0, 0, ...  \n",
       "2  [224, 255, 255, 255, 0, 8, 0, 0, 10, 0, 0, 0, ...  \n",
       "3  [224, 255, 255, 255, 0, 8, 0, 0, 12, 0, 0, 0, ...  \n",
       "4  [224, 255, 255, 255, 0, 8, 0, 0, 8, 0, 0, 0, 1...  "
      ]
     },
     "execution_count": 4,
     "metadata": {},
     "output_type": "execute_result"
    }
   ],
   "source": [
    "df.head()"
   ]
  },
  {
   "cell_type": "code",
   "execution_count": 40,
   "metadata": {},
   "outputs": [
    {
     "name": "stdout",
     "output_type": "stream",
     "text": [
      "fingerprint column shape is (267, 137)\n"
     ]
    }
   ],
   "source": [
    "X_fp=utils.finger_print_clean(df=df,colname_string_array='cfp')"
   ]
  },
  {
   "cell_type": "code",
   "execution_count": 41,
   "metadata": {
    "scrolled": true
   },
   "outputs": [
    {
     "data": {
      "text/plain": [
       "(267, 137)"
      ]
     },
     "execution_count": 41,
     "metadata": {},
     "output_type": "execute_result"
    }
   ],
   "source": [
    "X_fp.shape"
   ]
  },
  {
   "cell_type": "code",
   "execution_count": 42,
   "metadata": {},
   "outputs": [],
   "source": [
    "Y = df.values[:,3]"
   ]
  },
  {
   "cell_type": "markdown",
   "metadata": {},
   "source": [
    "### First model original Y"
   ]
  },
  {
   "cell_type": "code",
   "execution_count": 43,
   "metadata": {},
   "outputs": [],
   "source": [
    "d_cat = mutls.combine_columns((X_fp, Y))"
   ]
  },
  {
   "cell_type": "code",
   "execution_count": 44,
   "metadata": {},
   "outputs": [],
   "source": [
    "X, y = d_cat[:,0:-1], d_cat[:,-1]"
   ]
  },
  {
   "cell_type": "code",
   "execution_count": 45,
   "metadata": {},
   "outputs": [
    {
     "data": {
      "text/plain": [
       "array([254.75, 261.75, 263.0, 265.0, 275.0, 265.0, 278.0, 271.0, 271.0,\n",
       "       270.75, 220.0, 222.0, 242.0, 227.0, 241.0, 288.0, 251.0, 279.0,\n",
       "       265.0, 228.0, 258.0, 248.0, 236.0, 274.0, 277.0, 227.0, 222.0,\n",
       "       218.0, 310.25, 291.0, 240.0, 251.0, 263.0, 245.0, 302.0, 252.0,\n",
       "       283.0, 225.0, 316.0, 230.0, 442.0, 247.5, 276.25, 294.75, 312.0,\n",
       "       251.0, 206.0, 209.0, 212.0, 245.0, 223.0, 278.0, 275.0, 356.25,\n",
       "       475.0, 578.0, 252.0, 241.0, 258.0, 372.5, 270.25, 303.0, 228.0,\n",
       "       239.0, 245.0, 218.0, 227.0, 235.0, 278.75, 276.0, 293.75, 326.0,\n",
       "       330.0, 353.25, 432.25, 425.0, 372.0, 451.0, 251.0, 276.0, 227.0,\n",
       "       257.0, 265.0, 270.0, 215.0, 281.0, 238.0, 204.0, 219.0, 245.0,\n",
       "       217.0, 253.0, 231.75, 206.0, 278.0, 502.0, 413.0, 286.0, 336.0,\n",
       "       460.5, 219.0, 413.0, 247.0, 349.0, 262.0, 257.5, 274.25, 211.0,\n",
       "       278.0, 261.0, 243.0, 266.75, 263.75, 258.25, 228.0, 259.0, 212.0,\n",
       "       263.0, 265.0, 206.0, 248.0, 281.0, 239.75, 225.0, 288.0, 211.0,\n",
       "       270.0, 287.0, 458.0, 243.0, 258.0, 267.0, 401.0, 246.0, 280.0,\n",
       "       251.0, 268.0, 249.0, 251.25, 248.0, 250.0, 233.0, 296.0, 303.0,\n",
       "       275.0, 280.0, 326.0, 338.0, 323.75, 373.25, 459.25, 436.0, 407.5,\n",
       "       384.0, 436.0, 444.75, 361.0, 278.0, 247.0, 261.0, 270.5, 264.0,\n",
       "       249.0, 248.0, 533.0, 278.0, 587.0, 253.0, 605.0, 656.0, 654.0,\n",
       "       628.0, 237.0, 239.0, 642.5, 603.0, 519.4, 627.5, 319.0, 430.0,\n",
       "       466.0, 478.0, 486.0, 503.0, 481.0, 498.0, 555.0, 530.0, 512.0,\n",
       "       563.0, 504.0, 518.0, 619.0, 513.0, 483.0, 497.0, 606.0, 524.25,\n",
       "       603.5, 711.0, 592.0, 709.5, 818.0, 485.0, 582.0, 687.5, 544.25,\n",
       "       789.0, 559.25, 655.75, 763.25, 559.5, 431.25, 616.5, 590.5, 543.0,\n",
       "       590.0, 554.0, 558.0, 573.0, 597.0, 435.75, 500.25, 502.0, 535.0,\n",
       "       559.0, 261.0, 511.75, 542.75, 553.0, 529.75, 565.0, 576.0, 338.5,\n",
       "       279.75, 325.0, 249.0, 285.0, 345.5, 627.25, 276.0, 424.0, 205.0,\n",
       "       203.0, 208.0, 396.25, 402.0, 409.75, 408.0, 385.9, 429.0, 491.0,\n",
       "       450.75, 377.0, 361.0, 698.5, 674.0, 674.0, 569.0, 429.0, 453.0,\n",
       "       410.0, 413.0, 414.0, 401.0, 413.0, 780.2], dtype=object)"
      ]
     },
     "execution_count": 45,
     "metadata": {},
     "output_type": "execute_result"
    }
   ],
   "source": [
    "y"
   ]
  },
  {
   "cell_type": "code",
   "execution_count": 46,
   "metadata": {},
   "outputs": [],
   "source": [
    "X_train, X_test, y_train, y_test = utils.splitData(X, y, ratio=0.20)\n"
   ]
  },
  {
   "cell_type": "code",
   "execution_count": 47,
   "metadata": {},
   "outputs": [],
   "source": [
    "unique_int_counts = len(np.unique(X_train))"
   ]
  },
  {
   "cell_type": "code",
   "execution_count": 48,
   "metadata": {},
   "outputs": [
    {
     "data": {
      "text/plain": [
       "array([0, 1, 2, 3, 4, 5, 6, 7, 8, 9, 10, 11, 12, 13, 14, 15, 16, 17, 18,\n",
       "       19, 20, 21, 22, 23, 24, 25, 26, 27, 28, 29, 30, 31, 32, 33, 34, 35,\n",
       "       36, 37, 38, 39, 40, 41, 42, 43, 44, 45, 46, 47, 48, 49, 50, 51, 52,\n",
       "       53, 54, 55, 56, 57, 58, 59, 60, 61, 62, 63, 64, 65, 66, 67, 68, 69,\n",
       "       70, 72, 73, 74, 75, 76, 77, 78, 80, 81, 82, 84, 85, 86, 88, 89, 90,\n",
       "       92, 93, 94, 95, 96, 97, 98, 100, 101, 102, 104, 105, 106, 108, 109,\n",
       "       110, 112, 113, 114, 116, 117, 118, 120, 121, 122, 124, 125, 126,\n",
       "       128, 129, 130, 132, 133, 134, 136, 137, 138, 140, 141, 142, 144,\n",
       "       145, 146, 148, 149, 150, 152, 153, 154, 156, 157, 158, 160, 161,\n",
       "       162, 164, 165, 166, 168, 169, 170, 172, 173, 174, 176, 177, 178,\n",
       "       180, 181, 182, 184, 185, 186, 188, 189, 190, 192, 193, 194, 196,\n",
       "       197, 198, 200, 201, 202, 204, 205, 206, 208, 209, 210, 212, 213,\n",
       "       214, 216, 217, 218, 220, 221, 222, 224, 225, 226, 228, 229, 230,\n",
       "       232, 233, 234, 236, 237, 238, 240, 241, 242, 244, 245, 246, 248,\n",
       "       249, 250, 252, 253, 254, 255], dtype=object)"
      ]
     },
     "execution_count": 48,
     "metadata": {},
     "output_type": "execute_result"
    }
   ],
   "source": [
    "np.unique(X_train)"
   ]
  },
  {
   "cell_type": "code",
   "execution_count": 49,
   "metadata": {},
   "outputs": [
    {
     "data": {
      "text/plain": [
       "212"
      ]
     },
     "execution_count": 49,
     "metadata": {},
     "output_type": "execute_result"
    }
   ],
   "source": [
    "unique_int_counts"
   ]
  },
  {
   "cell_type": "code",
   "execution_count": 50,
   "metadata": {},
   "outputs": [
    {
     "data": {
      "text/plain": [
       "(213, 137)"
      ]
     },
     "execution_count": 50,
     "metadata": {},
     "output_type": "execute_result"
    }
   ],
   "source": [
    "X_train.shape"
   ]
  },
  {
   "cell_type": "code",
   "execution_count": 56,
   "metadata": {},
   "outputs": [],
   "source": [
    "from keras.models import Sequential\n",
    "from keras.layers import LSTM, Dense, Embedding, Dropout, Flatten"
   ]
  },
  {
   "cell_type": "code",
   "execution_count": 57,
   "metadata": {},
   "outputs": [],
   "source": [
    "hidden_size = 50\n",
    "model = Sequential()\n",
    "model.add(Embedding(256, hidden_size, input_length= X.shape[1]))\n",
    "model.add(LSTM(hidden_size, return_sequences=True))\n",
    "model.add(Dropout(0.3))\n",
    "model.add(LSTM(hidden_size, return_sequences=True))\n",
    "model.add(Dropout(0.3))\n",
    "model.add(LSTM(hidden_size, return_sequences=True))\n",
    "model.add(Dropout(0.4))\n",
    "model.add(Dense(hidden_size, activation='relu'))\n",
    "model.add(Flatten())\n",
    "model.add(Dense(1, activation='linear'))"
   ]
  },
  {
   "cell_type": "code",
   "execution_count": 58,
   "metadata": {
    "scrolled": true
   },
   "outputs": [
    {
     "name": "stdout",
     "output_type": "stream",
     "text": [
      "_________________________________________________________________\n",
      "Layer (type)                 Output Shape              Param #   \n",
      "=================================================================\n",
      "embedding_4 (Embedding)      (None, 137, 50)           12800     \n",
      "_________________________________________________________________\n",
      "lstm_10 (LSTM)               (None, 137, 50)           20200     \n",
      "_________________________________________________________________\n",
      "dropout_10 (Dropout)         (None, 137, 50)           0         \n",
      "_________________________________________________________________\n",
      "lstm_11 (LSTM)               (None, 137, 50)           20200     \n",
      "_________________________________________________________________\n",
      "dropout_11 (Dropout)         (None, 137, 50)           0         \n",
      "_________________________________________________________________\n",
      "lstm_12 (LSTM)               (None, 137, 50)           20200     \n",
      "_________________________________________________________________\n",
      "dropout_12 (Dropout)         (None, 137, 50)           0         \n",
      "_________________________________________________________________\n",
      "dense_7 (Dense)              (None, 137, 50)           2550      \n",
      "_________________________________________________________________\n",
      "flatten_4 (Flatten)          (None, 6850)              0         \n",
      "_________________________________________________________________\n",
      "dense_8 (Dense)              (None, 1)                 6851      \n",
      "=================================================================\n",
      "Total params: 82,801\n",
      "Trainable params: 82,801\n",
      "Non-trainable params: 0\n",
      "_________________________________________________________________\n"
     ]
    }
   ],
   "source": [
    "model.compile(loss='mean_absolute_error', optimizer='Adam', metrics=['mean_absolute_error'])\n",
    "model.summary() ##use mean_squared_error loss"
   ]
  },
  {
   "cell_type": "code",
   "execution_count": 59,
   "metadata": {},
   "outputs": [
    {
     "name": "stdout",
     "output_type": "stream",
     "text": [
      "Train on 213 samples, validate on 54 samples\n",
      "Epoch 1/100\n",
      "213/213 [==============================] - 8s 39ms/step - loss: 371.4458 - mean_absolute_error: 371.4458 - val_loss: 345.9026 - val_mean_absolute_error: 345.9026\n",
      "Epoch 2/100\n",
      "213/213 [==============================] - 2s 11ms/step - loss: 364.7319 - mean_absolute_error: 364.7319 - val_loss: 324.5455 - val_mean_absolute_error: 324.5455\n",
      "Epoch 3/100\n",
      "213/213 [==============================] - 2s 11ms/step - loss: 319.5907 - mean_absolute_error: 319.5907 - val_loss: 254.3188 - val_mean_absolute_error: 254.3188\n",
      "Epoch 4/100\n",
      "213/213 [==============================] - 2s 11ms/step - loss: 224.9882 - mean_absolute_error: 224.9882 - val_loss: 122.8426 - val_mean_absolute_error: 122.8426\n",
      "Epoch 5/100\n",
      "213/213 [==============================] - 2s 11ms/step - loss: 128.0332 - mean_absolute_error: 128.0332 - val_loss: 117.9687 - val_mean_absolute_error: 117.9687\n",
      "Epoch 6/100\n",
      "213/213 [==============================] - 2s 11ms/step - loss: 135.6477 - mean_absolute_error: 135.6477 - val_loss: 120.8935 - val_mean_absolute_error: 120.8935\n",
      "Epoch 7/100\n",
      "213/213 [==============================] - 2s 11ms/step - loss: 130.8058 - mean_absolute_error: 130.8058 - val_loss: 102.9388 - val_mean_absolute_error: 102.9388\n",
      "Epoch 8/100\n",
      "213/213 [==============================] - 2s 11ms/step - loss: 122.0963 - mean_absolute_error: 122.0963 - val_loss: 98.5865 - val_mean_absolute_error: 98.5865\n",
      "Epoch 9/100\n",
      "213/213 [==============================] - 2s 11ms/step - loss: 122.4627 - mean_absolute_error: 122.4627 - val_loss: 98.3759 - val_mean_absolute_error: 98.3759\n",
      "Epoch 10/100\n",
      "213/213 [==============================] - 2s 11ms/step - loss: 121.4872 - mean_absolute_error: 121.4872 - val_loss: 97.8441 - val_mean_absolute_error: 97.8441\n",
      "Epoch 11/100\n",
      "213/213 [==============================] - 2s 11ms/step - loss: 121.6316 - mean_absolute_error: 121.6316 - val_loss: 98.3015 - val_mean_absolute_error: 98.3015\n",
      "Epoch 12/100\n",
      "213/213 [==============================] - 2s 11ms/step - loss: 121.3454 - mean_absolute_error: 121.3454 - val_loss: 97.7627 - val_mean_absolute_error: 97.7627\n",
      "Epoch 13/100\n",
      "213/213 [==============================] - 2s 11ms/step - loss: 121.7445 - mean_absolute_error: 121.7445 - val_loss: 97.8171 - val_mean_absolute_error: 97.8171\n",
      "Epoch 14/100\n",
      "213/213 [==============================] - 2s 11ms/step - loss: 122.0747 - mean_absolute_error: 122.0747 - val_loss: 98.0556 - val_mean_absolute_error: 98.0556\n",
      "Epoch 15/100\n",
      "213/213 [==============================] - 2s 11ms/step - loss: 121.5217 - mean_absolute_error: 121.5217 - val_loss: 98.6075 - val_mean_absolute_error: 98.6075\n",
      "Epoch 16/100\n",
      "213/213 [==============================] - 2s 11ms/step - loss: 121.4832 - mean_absolute_error: 121.4832 - val_loss: 97.7184 - val_mean_absolute_error: 97.7184\n",
      "Epoch 17/100\n",
      "213/213 [==============================] - 2s 11ms/step - loss: 121.6566 - mean_absolute_error: 121.6566 - val_loss: 98.1235 - val_mean_absolute_error: 98.1235\n",
      "Epoch 18/100\n",
      "213/213 [==============================] - 2s 11ms/step - loss: 121.4026 - mean_absolute_error: 121.4026 - val_loss: 98.0163 - val_mean_absolute_error: 98.0163\n",
      "Epoch 19/100\n",
      "213/213 [==============================] - 2s 11ms/step - loss: 121.3978 - mean_absolute_error: 121.3978 - val_loss: 98.0776 - val_mean_absolute_error: 98.0776\n",
      "Epoch 20/100\n",
      "213/213 [==============================] - 2s 11ms/step - loss: 121.0411 - mean_absolute_error: 121.0411 - val_loss: 97.7742 - val_mean_absolute_error: 97.7742\n",
      "Epoch 21/100\n",
      "213/213 [==============================] - 2s 11ms/step - loss: 121.8485 - mean_absolute_error: 121.8485 - val_loss: 97.7185 - val_mean_absolute_error: 97.7185\n",
      "Epoch 22/100\n",
      "213/213 [==============================] - 2s 11ms/step - loss: 121.6155 - mean_absolute_error: 121.6155 - val_loss: 98.0619 - val_mean_absolute_error: 98.0619\n",
      "Epoch 23/100\n",
      "213/213 [==============================] - 2s 10ms/step - loss: 121.2844 - mean_absolute_error: 121.2844 - val_loss: 97.7185 - val_mean_absolute_error: 97.7185\n",
      "Epoch 24/100\n",
      "213/213 [==============================] - 2s 11ms/step - loss: 121.6319 - mean_absolute_error: 121.6319 - val_loss: 97.7385 - val_mean_absolute_error: 97.7385\n",
      "Epoch 25/100\n",
      "213/213 [==============================] - 2s 11ms/step - loss: 121.6323 - mean_absolute_error: 121.6323 - val_loss: 98.7860 - val_mean_absolute_error: 98.7860\n",
      "Epoch 26/100\n",
      "213/213 [==============================] - 2s 11ms/step - loss: 121.6417 - mean_absolute_error: 121.6417 - val_loss: 98.1139 - val_mean_absolute_error: 98.1139\n",
      "Epoch 27/100\n",
      "213/213 [==============================] - 2s 11ms/step - loss: 121.6420 - mean_absolute_error: 121.6420 - val_loss: 97.8394 - val_mean_absolute_error: 97.8394\n",
      "Epoch 28/100\n",
      "213/213 [==============================] - 2s 11ms/step - loss: 121.6085 - mean_absolute_error: 121.6085 - val_loss: 97.7322 - val_mean_absolute_error: 97.7322\n",
      "Epoch 29/100\n",
      "213/213 [==============================] - 2s 11ms/step - loss: 121.3799 - mean_absolute_error: 121.3799 - val_loss: 98.1090 - val_mean_absolute_error: 98.1090\n",
      "Epoch 30/100\n",
      "213/213 [==============================] - 2s 11ms/step - loss: 121.9610 - mean_absolute_error: 121.9610 - val_loss: 98.0709 - val_mean_absolute_error: 98.0709\n",
      "Epoch 31/100\n",
      "213/213 [==============================] - 2s 11ms/step - loss: 121.6249 - mean_absolute_error: 121.6249 - val_loss: 98.1922 - val_mean_absolute_error: 98.1922\n",
      "Epoch 32/100\n",
      "213/213 [==============================] - 2s 11ms/step - loss: 121.7192 - mean_absolute_error: 121.7192 - val_loss: 98.0283 - val_mean_absolute_error: 98.0283\n",
      "Epoch 33/100\n",
      "213/213 [==============================] - 2s 11ms/step - loss: 121.8473 - mean_absolute_error: 121.8473 - val_loss: 97.9622 - val_mean_absolute_error: 97.9622\n",
      "Epoch 34/100\n",
      "213/213 [==============================] - 2s 11ms/step - loss: 121.6244 - mean_absolute_error: 121.6244 - val_loss: 97.7184 - val_mean_absolute_error: 97.7184\n",
      "Epoch 35/100\n",
      "213/213 [==============================] - 2s 11ms/step - loss: 122.2843 - mean_absolute_error: 122.2843 - val_loss: 98.9508 - val_mean_absolute_error: 98.9508\n",
      "Epoch 36/100\n",
      "213/213 [==============================] - 2s 12ms/step - loss: 121.8127 - mean_absolute_error: 121.8127 - val_loss: 98.6365 - val_mean_absolute_error: 98.6365\n",
      "Epoch 37/100\n",
      "213/213 [==============================] - 2s 11ms/step - loss: 122.6051 - mean_absolute_error: 122.6051 - val_loss: 98.2862 - val_mean_absolute_error: 98.2862\n",
      "Epoch 38/100\n",
      "213/213 [==============================] - 2s 11ms/step - loss: 121.4705 - mean_absolute_error: 121.4705 - val_loss: 97.8544 - val_mean_absolute_error: 97.8544\n",
      "Epoch 39/100\n",
      "213/213 [==============================] - 3s 12ms/step - loss: 122.1339 - mean_absolute_error: 122.1339 - val_loss: 98.2449 - val_mean_absolute_error: 98.2449\n",
      "Epoch 40/100\n",
      "213/213 [==============================] - 2s 12ms/step - loss: 121.8070 - mean_absolute_error: 121.8070 - val_loss: 98.0316 - val_mean_absolute_error: 98.0316\n",
      "Epoch 41/100\n",
      "213/213 [==============================] - 2s 11ms/step - loss: 121.5880 - mean_absolute_error: 121.5880 - val_loss: 99.7299 - val_mean_absolute_error: 99.7299\n",
      "Epoch 42/100\n",
      "213/213 [==============================] - 2s 11ms/step - loss: 122.1959 - mean_absolute_error: 122.1959 - val_loss: 99.4452 - val_mean_absolute_error: 99.4452\n",
      "Epoch 43/100\n",
      "213/213 [==============================] - 2s 11ms/step - loss: 121.2821 - mean_absolute_error: 121.2821 - val_loss: 98.0207 - val_mean_absolute_error: 98.0207\n",
      "Epoch 44/100\n",
      "213/213 [==============================] - 3s 12ms/step - loss: 122.3639 - mean_absolute_error: 122.3639 - val_loss: 98.1360 - val_mean_absolute_error: 98.1360\n",
      "Epoch 45/100\n",
      "213/213 [==============================] - 2s 11ms/step - loss: 122.0737 - mean_absolute_error: 122.0737 - val_loss: 98.8063 - val_mean_absolute_error: 98.8063\n",
      "Epoch 46/100\n",
      "213/213 [==============================] - 2s 12ms/step - loss: 121.8226 - mean_absolute_error: 121.8226 - val_loss: 98.8102 - val_mean_absolute_error: 98.8102\n",
      "Epoch 47/100\n",
      "213/213 [==============================] - 3s 12ms/step - loss: 121.7224 - mean_absolute_error: 121.7224 - val_loss: 98.8268 - val_mean_absolute_error: 98.8268\n",
      "Epoch 48/100\n"
     ]
    },
    {
     "name": "stdout",
     "output_type": "stream",
     "text": [
      "213/213 [==============================] - 3s 12ms/step - loss: 121.3199 - mean_absolute_error: 121.3199 - val_loss: 98.6252 - val_mean_absolute_error: 98.6252\n",
      "Epoch 49/100\n",
      "213/213 [==============================] - 3s 12ms/step - loss: 121.9260 - mean_absolute_error: 121.9260 - val_loss: 98.8133 - val_mean_absolute_error: 98.8133\n",
      "Epoch 50/100\n",
      "213/213 [==============================] - 3s 12ms/step - loss: 121.4556 - mean_absolute_error: 121.4556 - val_loss: 97.7175 - val_mean_absolute_error: 97.7175\n",
      "Epoch 51/100\n",
      "213/213 [==============================] - 3s 12ms/step - loss: 122.1086 - mean_absolute_error: 122.1086 - val_loss: 98.0477 - val_mean_absolute_error: 98.0477\n",
      "Epoch 52/100\n",
      "213/213 [==============================] - 3s 12ms/step - loss: 122.2317 - mean_absolute_error: 122.2317 - val_loss: 99.6527 - val_mean_absolute_error: 99.6527\n",
      "Epoch 53/100\n",
      "213/213 [==============================] - 3s 12ms/step - loss: 122.2493 - mean_absolute_error: 122.2493 - val_loss: 99.6112 - val_mean_absolute_error: 99.6112\n",
      "Epoch 54/100\n",
      "213/213 [==============================] - 3s 12ms/step - loss: 121.9163 - mean_absolute_error: 121.9163 - val_loss: 97.7175 - val_mean_absolute_error: 97.7175\n",
      "Epoch 55/100\n",
      "213/213 [==============================] - 3s 12ms/step - loss: 121.3685 - mean_absolute_error: 121.3685 - val_loss: 97.7903 - val_mean_absolute_error: 97.7903\n",
      "Epoch 56/100\n",
      "213/213 [==============================] - 2s 11ms/step - loss: 121.6223 - mean_absolute_error: 121.6223 - val_loss: 97.7637 - val_mean_absolute_error: 97.7637\n",
      "Epoch 57/100\n",
      "213/213 [==============================] - 2s 11ms/step - loss: 121.1821 - mean_absolute_error: 121.1821 - val_loss: 97.7175 - val_mean_absolute_error: 97.7175\n",
      "Epoch 58/100\n",
      "213/213 [==============================] - 2s 11ms/step - loss: 121.7275 - mean_absolute_error: 121.7275 - val_loss: 98.0315 - val_mean_absolute_error: 98.0315\n",
      "Epoch 59/100\n",
      "213/213 [==============================] - 2s 12ms/step - loss: 121.2905 - mean_absolute_error: 121.2905 - val_loss: 98.3025 - val_mean_absolute_error: 98.3025\n",
      "Epoch 60/100\n",
      "213/213 [==============================] - 2s 11ms/step - loss: 122.3423 - mean_absolute_error: 122.3423 - val_loss: 97.7700 - val_mean_absolute_error: 97.7700\n",
      "Epoch 61/100\n",
      "213/213 [==============================] - 2s 11ms/step - loss: 121.7958 - mean_absolute_error: 121.7958 - val_loss: 101.0486 - val_mean_absolute_error: 101.0486\n",
      "Epoch 62/100\n",
      "213/213 [==============================] - 3s 12ms/step - loss: 122.4058 - mean_absolute_error: 122.4058 - val_loss: 98.6909 - val_mean_absolute_error: 98.6909\n",
      "Epoch 63/100\n",
      "213/213 [==============================] - 3s 12ms/step - loss: 122.5790 - mean_absolute_error: 122.5790 - val_loss: 97.7174 - val_mean_absolute_error: 97.7174\n",
      "Epoch 64/100\n",
      "213/213 [==============================] - 3s 12ms/step - loss: 123.6901 - mean_absolute_error: 123.6901 - val_loss: 100.7722 - val_mean_absolute_error: 100.7722\n",
      "Epoch 65/100\n",
      "213/213 [==============================] - 3s 12ms/step - loss: 121.7461 - mean_absolute_error: 121.7461 - val_loss: 98.7317 - val_mean_absolute_error: 98.7317\n",
      "Epoch 66/100\n",
      "213/213 [==============================] - 2s 12ms/step - loss: 121.5830 - mean_absolute_error: 121.5830 - val_loss: 98.0829 - val_mean_absolute_error: 98.0829\n",
      "Epoch 67/100\n",
      "213/213 [==============================] - 2s 12ms/step - loss: 122.3411 - mean_absolute_error: 122.3411 - val_loss: 97.7173 - val_mean_absolute_error: 97.7173\n",
      "Epoch 68/100\n",
      "213/213 [==============================] - 2s 11ms/step - loss: 121.7131 - mean_absolute_error: 121.7131 - val_loss: 97.8331 - val_mean_absolute_error: 97.8331\n",
      "Epoch 69/100\n",
      "213/213 [==============================] - 2s 12ms/step - loss: 121.9925 - mean_absolute_error: 121.9925 - val_loss: 98.4798 - val_mean_absolute_error: 98.4798\n",
      "Epoch 70/100\n",
      "213/213 [==============================] - 3s 12ms/step - loss: 121.8010 - mean_absolute_error: 121.8010 - val_loss: 97.7173 - val_mean_absolute_error: 97.7173\n",
      "Epoch 71/100\n",
      "213/213 [==============================] - 3s 12ms/step - loss: 121.5579 - mean_absolute_error: 121.5579 - val_loss: 97.9710 - val_mean_absolute_error: 97.9710\n",
      "Epoch 72/100\n",
      "213/213 [==============================] - 3s 12ms/step - loss: 121.8215 - mean_absolute_error: 121.8215 - val_loss: 97.7868 - val_mean_absolute_error: 97.7868\n",
      "Epoch 73/100\n",
      "213/213 [==============================] - 3s 12ms/step - loss: 121.9322 - mean_absolute_error: 121.9322 - val_loss: 98.2639 - val_mean_absolute_error: 98.2639\n",
      "Epoch 74/100\n",
      "213/213 [==============================] - 3s 12ms/step - loss: 121.5369 - mean_absolute_error: 121.5369 - val_loss: 98.2024 - val_mean_absolute_error: 98.2024\n",
      "Epoch 75/100\n",
      "213/213 [==============================] - 3s 13ms/step - loss: 122.0019 - mean_absolute_error: 122.0019 - val_loss: 97.7172 - val_mean_absolute_error: 97.7172\n",
      "Epoch 76/100\n",
      "213/213 [==============================] - 3s 12ms/step - loss: 121.4548 - mean_absolute_error: 121.4548 - val_loss: 98.4978 - val_mean_absolute_error: 98.4978\n",
      "Epoch 77/100\n",
      "213/213 [==============================] - 2s 12ms/step - loss: 121.6153 - mean_absolute_error: 121.6153 - val_loss: 98.1053 - val_mean_absolute_error: 98.1053\n",
      "Epoch 78/100\n",
      "213/213 [==============================] - 3s 12ms/step - loss: 122.0847 - mean_absolute_error: 122.0847 - val_loss: 97.8653 - val_mean_absolute_error: 97.8653\n",
      "Epoch 79/100\n",
      "213/213 [==============================] - 3s 12ms/step - loss: 121.7322 - mean_absolute_error: 121.7322 - val_loss: 97.7171 - val_mean_absolute_error: 97.7171\n",
      "Epoch 80/100\n",
      "213/213 [==============================] - 3s 13ms/step - loss: 122.6023 - mean_absolute_error: 122.6023 - val_loss: 97.9079 - val_mean_absolute_error: 97.9079\n",
      "Epoch 81/100\n",
      "213/213 [==============================] - 2s 12ms/step - loss: 122.0953 - mean_absolute_error: 122.0953 - val_loss: 99.6893 - val_mean_absolute_error: 99.6893\n",
      "Epoch 82/100\n",
      "213/213 [==============================] - 2s 11ms/step - loss: 121.8800 - mean_absolute_error: 121.8800 - val_loss: 98.2308 - val_mean_absolute_error: 98.2308\n",
      "Epoch 83/100\n",
      "213/213 [==============================] - 3s 12ms/step - loss: 121.3768 - mean_absolute_error: 121.3768 - val_loss: 98.0845 - val_mean_absolute_error: 98.0845\n",
      "Epoch 84/100\n",
      "213/213 [==============================] - 3s 12ms/step - loss: 121.4189 - mean_absolute_error: 121.4189 - val_loss: 97.7169 - val_mean_absolute_error: 97.7169\n",
      "Epoch 85/100\n",
      "213/213 [==============================] - 3s 12ms/step - loss: 121.5284 - mean_absolute_error: 121.5284 - val_loss: 97.7168 - val_mean_absolute_error: 97.7168\n",
      "Epoch 86/100\n",
      "213/213 [==============================] - 3s 12ms/step - loss: 121.3678 - mean_absolute_error: 121.3678 - val_loss: 97.7167 - val_mean_absolute_error: 97.7167\n",
      "Epoch 87/100\n",
      "213/213 [==============================] - 3s 12ms/step - loss: 122.3449 - mean_absolute_error: 122.3449 - val_loss: 97.8176 - val_mean_absolute_error: 97.8176\n",
      "Epoch 88/100\n",
      "213/213 [==============================] - 2s 11ms/step - loss: 121.6637 - mean_absolute_error: 121.6637 - val_loss: 98.9107 - val_mean_absolute_error: 98.9107\n",
      "Epoch 89/100\n",
      "213/213 [==============================] - 3s 12ms/step - loss: 121.5893 - mean_absolute_error: 121.5893 - val_loss: 98.5250 - val_mean_absolute_error: 98.5250\n",
      "Epoch 90/100\n",
      "213/213 [==============================] - 3s 12ms/step - loss: 121.6812 - mean_absolute_error: 121.6812 - val_loss: 97.7159 - val_mean_absolute_error: 97.7159\n",
      "Epoch 91/100\n",
      "213/213 [==============================] - 3s 12ms/step - loss: 122.2285 - mean_absolute_error: 122.2285 - val_loss: 97.8259 - val_mean_absolute_error: 97.8259\n",
      "Epoch 92/100\n",
      "213/213 [==============================] - 3s 12ms/step - loss: 121.6149 - mean_absolute_error: 121.6149 - val_loss: 97.7138 - val_mean_absolute_error: 97.7138\n",
      "Epoch 93/100\n",
      "213/213 [==============================] - 3s 12ms/step - loss: 122.2476 - mean_absolute_error: 122.2476 - val_loss: 98.9372 - val_mean_absolute_error: 98.9372\n",
      "Epoch 94/100\n",
      "213/213 [==============================] - 3s 12ms/step - loss: 122.6338 - mean_absolute_error: 122.6338 - val_loss: 98.8344 - val_mean_absolute_error: 98.8344\n",
      "Epoch 95/100\n"
     ]
    },
    {
     "name": "stdout",
     "output_type": "stream",
     "text": [
      "213/213 [==============================] - 3s 12ms/step - loss: 121.3471 - mean_absolute_error: 121.3471 - val_loss: 98.1443 - val_mean_absolute_error: 98.1443\n",
      "Epoch 96/100\n",
      "213/213 [==============================] - 3s 12ms/step - loss: 121.7032 - mean_absolute_error: 121.7032 - val_loss: 97.7915 - val_mean_absolute_error: 97.7915\n",
      "Epoch 97/100\n",
      "213/213 [==============================] - 3s 12ms/step - loss: 121.7464 - mean_absolute_error: 121.7464 - val_loss: 99.2007 - val_mean_absolute_error: 99.2007\n",
      "Epoch 98/100\n",
      "213/213 [==============================] - 3s 12ms/step - loss: 121.5803 - mean_absolute_error: 121.5803 - val_loss: 98.9213 - val_mean_absolute_error: 98.9213\n",
      "Epoch 99/100\n",
      "213/213 [==============================] - 3s 12ms/step - loss: 121.5795 - mean_absolute_error: 121.5795 - val_loss: 97.7123 - val_mean_absolute_error: 97.7123\n",
      "Epoch 100/100\n",
      "213/213 [==============================] - 3s 12ms/step - loss: 121.5818 - mean_absolute_error: 121.5818 - val_loss: 97.7098 - val_mean_absolute_error: 97.7098\n"
     ]
    },
    {
     "data": {
      "text/plain": [
       "<keras.callbacks.History at 0x202686ab4a8>"
      ]
     },
     "execution_count": 59,
     "metadata": {},
     "output_type": "execute_result"
    }
   ],
   "source": [
    "model.fit(X_train, y_train, batch_size=32, validation_data=(X_test, y_test), epochs=100)"
   ]
  },
  {
   "cell_type": "markdown",
   "metadata": {},
   "source": [
    "#### First model2, change loss function"
   ]
  },
  {
   "cell_type": "code",
   "execution_count": 53,
   "metadata": {},
   "outputs": [
    {
     "name": "stdout",
     "output_type": "stream",
     "text": [
      "_________________________________________________________________\n",
      "Layer (type)                 Output Shape              Param #   \n",
      "=================================================================\n",
      "embedding_3 (Embedding)      (None, 137, 50)           12800     \n",
      "_________________________________________________________________\n",
      "lstm_7 (LSTM)                (None, 137, 50)           20200     \n",
      "_________________________________________________________________\n",
      "dropout_7 (Dropout)          (None, 137, 50)           0         \n",
      "_________________________________________________________________\n",
      "lstm_8 (LSTM)                (None, 137, 50)           20200     \n",
      "_________________________________________________________________\n",
      "dropout_8 (Dropout)          (None, 137, 50)           0         \n",
      "_________________________________________________________________\n",
      "lstm_9 (LSTM)                (None, 137, 50)           20200     \n",
      "_________________________________________________________________\n",
      "dropout_9 (Dropout)          (None, 137, 50)           0         \n",
      "_________________________________________________________________\n",
      "dense_5 (Dense)              (None, 137, 50)           2550      \n",
      "_________________________________________________________________\n",
      "flatten_3 (Flatten)          (None, 6850)              0         \n",
      "_________________________________________________________________\n",
      "dense_6 (Dense)              (None, 1)                 6851      \n",
      "=================================================================\n",
      "Total params: 82,801\n",
      "Trainable params: 82,801\n",
      "Non-trainable params: 0\n",
      "_________________________________________________________________\n"
     ]
    }
   ],
   "source": [
    "model.compile(loss='mean_squared_error', optimizer='Adam', metrics=['mean_absolute_error'])\n",
    "model.summary() ##use mean_squared_error loss"
   ]
  },
  {
   "cell_type": "code",
   "execution_count": 54,
   "metadata": {},
   "outputs": [
    {
     "name": "stdout",
     "output_type": "stream",
     "text": [
      "Train on 213 samples, validate on 54 samples\n",
      "Epoch 1/100\n",
      "213/213 [==============================] - 8s 36ms/step - loss: 160529.8939 - mean_absolute_error: 371.5190 - val_loss: 135713.5061 - val_mean_absolute_error: 346.2331\n",
      "Epoch 2/100\n",
      "213/213 [==============================] - 2s 11ms/step - loss: 156974.6131 - mean_absolute_error: 366.6921 - val_loss: 123406.2170 - val_mean_absolute_error: 327.8209\n",
      "Epoch 3/100\n",
      "213/213 [==============================] - 2s 11ms/step - loss: 122958.3816 - mean_absolute_error: 317.8396 - val_loss: 75039.2554 - val_mean_absolute_error: 243.2930\n",
      "Epoch 4/100\n",
      "213/213 [==============================] - 2s 11ms/step - loss: 68738.3347 - mean_absolute_error: 210.6747 - val_loss: 25942.1020 - val_mean_absolute_error: 108.0121\n",
      "Epoch 5/100\n",
      "213/213 [==============================] - 2s 11ms/step - loss: 26648.6717 - mean_absolute_error: 128.1343 - val_loss: 21565.3057 - val_mean_absolute_error: 132.3983\n",
      "Epoch 6/100\n",
      "213/213 [==============================] - 2s 11ms/step - loss: 28573.6119 - mean_absolute_error: 151.3210 - val_loss: 23331.2107 - val_mean_absolute_error: 137.3990\n",
      "Epoch 7/100\n",
      "213/213 [==============================] - 2s 11ms/step - loss: 25208.7650 - mean_absolute_error: 141.5184 - val_loss: 15996.6209 - val_mean_absolute_error: 112.3074\n",
      "Epoch 8/100\n",
      "213/213 [==============================] - 2s 11ms/step - loss: 22997.8944 - mean_absolute_error: 126.4401 - val_loss: 16034.4159 - val_mean_absolute_error: 106.0241\n",
      "Epoch 9/100\n",
      "213/213 [==============================] - 2s 11ms/step - loss: 23173.7894 - mean_absolute_error: 124.8821 - val_loss: 15833.5039 - val_mean_absolute_error: 109.5407\n",
      "Epoch 10/100\n",
      "213/213 [==============================] - 2s 11ms/step - loss: 22374.8275 - mean_absolute_error: 127.6233 - val_loss: 16412.4069 - val_mean_absolute_error: 115.6067\n",
      "Epoch 11/100\n",
      "213/213 [==============================] - 2s 11ms/step - loss: 22846.1138 - mean_absolute_error: 132.3754 - val_loss: 16771.9849 - val_mean_absolute_error: 117.5514\n",
      "Epoch 12/100\n",
      "213/213 [==============================] - 2s 10ms/step - loss: 22913.4478 - mean_absolute_error: 131.2525 - val_loss: 16010.9709 - val_mean_absolute_error: 112.4490\n",
      "Epoch 13/100\n",
      "213/213 [==============================] - 2s 10ms/step - loss: 22557.5275 - mean_absolute_error: 129.2747 - val_loss: 16080.6152 - val_mean_absolute_error: 113.1433\n",
      "Epoch 14/100\n",
      "213/213 [==============================] - 2s 10ms/step - loss: 22528.0077 - mean_absolute_error: 128.8507 - val_loss: 15989.0543 - val_mean_absolute_error: 112.2303\n",
      "Epoch 15/100\n",
      "213/213 [==============================] - 2s 11ms/step - loss: 22499.0866 - mean_absolute_error: 128.2703 - val_loss: 15970.7059 - val_mean_absolute_error: 112.0352\n",
      "Epoch 16/100\n",
      "213/213 [==============================] - 2s 11ms/step - loss: 23101.8411 - mean_absolute_error: 132.2956 - val_loss: 16748.7973 - val_mean_absolute_error: 117.4387\n",
      "Epoch 17/100\n",
      "213/213 [==============================] - 2s 11ms/step - loss: 22494.3456 - mean_absolute_error: 130.3351 - val_loss: 16003.4599 - val_mean_absolute_error: 112.3756\n",
      "Epoch 18/100\n",
      "213/213 [==============================] - 2s 10ms/step - loss: 22408.3249 - mean_absolute_error: 128.1591 - val_loss: 15936.8239 - val_mean_absolute_error: 111.6377\n",
      "Epoch 19/100\n",
      "213/213 [==============================] - 2s 11ms/step - loss: 22564.2174 - mean_absolute_error: 128.5118 - val_loss: 16104.6829 - val_mean_absolute_error: 113.3638\n",
      "Epoch 20/100\n",
      "213/213 [==============================] - 2s 11ms/step - loss: 22562.8426 - mean_absolute_error: 128.4960 - val_loss: 15963.1608 - val_mean_absolute_error: 111.9513\n",
      "Epoch 21/100\n",
      "213/213 [==============================] - 2s 11ms/step - loss: 22695.5555 - mean_absolute_error: 129.7794 - val_loss: 16203.0569 - val_mean_absolute_error: 114.1774\n",
      "Epoch 22/100\n",
      "213/213 [==============================] - 2s 10ms/step - loss: 22585.5405 - mean_absolute_error: 129.6969 - val_loss: 16085.5144 - val_mean_absolute_error: 113.1891\n",
      "Epoch 23/100\n",
      "213/213 [==============================] - 2s 11ms/step - loss: 22592.2386 - mean_absolute_error: 130.2082 - val_loss: 16429.8609 - val_mean_absolute_error: 115.7131\n",
      "Epoch 24/100\n",
      "213/213 [==============================] - 2s 10ms/step - loss: 22725.0331 - mean_absolute_error: 129.9162 - val_loss: 15968.1645 - val_mean_absolute_error: 112.0072\n",
      "Epoch 25/100\n",
      "213/213 [==============================] - 2s 11ms/step - loss: 22629.0616 - mean_absolute_error: 128.7441 - val_loss: 16081.9573 - val_mean_absolute_error: 113.1559\n",
      "Epoch 26/100\n",
      "213/213 [==============================] - 2s 11ms/step - loss: 22576.4935 - mean_absolute_error: 130.1718 - val_loss: 16251.7743 - val_mean_absolute_error: 114.5401\n",
      "Epoch 27/100\n",
      "213/213 [==============================] - 2s 10ms/step - loss: 22502.3937 - mean_absolute_error: 130.0615 - val_loss: 16054.1810 - val_mean_absolute_error: 112.8885\n",
      "Epoch 28/100\n",
      "213/213 [==============================] - 2s 10ms/step - loss: 22653.0941 - mean_absolute_error: 129.2068 - val_loss: 15961.8235 - val_mean_absolute_error: 111.9362\n",
      "Epoch 29/100\n",
      "213/213 [==============================] - 2s 10ms/step - loss: 22643.0311 - mean_absolute_error: 129.5472 - val_loss: 16121.1512 - val_mean_absolute_error: 113.5092\n",
      "Epoch 30/100\n",
      "213/213 [==============================] - 2s 10ms/step - loss: 22593.0180 - mean_absolute_error: 129.5839 - val_loss: 16140.4249 - val_mean_absolute_error: 113.6741\n",
      "Epoch 31/100\n",
      "213/213 [==============================] - 2s 11ms/step - loss: 22618.5174 - mean_absolute_error: 129.1658 - val_loss: 16081.5740 - val_mean_absolute_error: 113.1523\n",
      "Epoch 32/100\n",
      "213/213 [==============================] - 2s 11ms/step - loss: 22560.5812 - mean_absolute_error: 129.7588 - val_loss: 16265.0672 - val_mean_absolute_error: 114.6353\n",
      "Epoch 33/100\n",
      "213/213 [==============================] - 2s 11ms/step - loss: 22694.2838 - mean_absolute_error: 129.7118 - val_loss: 16006.2195 - val_mean_absolute_error: 112.4028\n",
      "Epoch 34/100\n",
      "213/213 [==============================] - 3s 12ms/step - loss: 22529.4568 - mean_absolute_error: 129.3509 - val_loss: 16136.9752 - val_mean_absolute_error: 113.6450\n",
      "Epoch 35/100\n",
      "213/213 [==============================] - 2s 10ms/step - loss: 22753.5976 - mean_absolute_error: 130.9521 - val_loss: 16365.1689 - val_mean_absolute_error: 115.3103\n",
      "Epoch 36/100\n",
      "213/213 [==============================] - 2s 11ms/step - loss: 22417.5496 - mean_absolute_error: 129.4655 - val_loss: 15998.5684 - val_mean_absolute_error: 112.3270\n",
      "Epoch 37/100\n",
      "213/213 [==============================] - 2s 11ms/step - loss: 22823.8414 - mean_absolute_error: 128.0209 - val_loss: 15873.9244 - val_mean_absolute_error: 110.6691\n",
      "Epoch 38/100\n",
      "213/213 [==============================] - 2s 11ms/step - loss: 22531.9589 - mean_absolute_error: 129.9756 - val_loss: 16691.8634 - val_mean_absolute_error: 117.1558\n",
      "Epoch 39/100\n",
      "213/213 [==============================] - 2s 10ms/step - loss: 22598.5324 - mean_absolute_error: 131.5884 - val_loss: 16252.4866 - val_mean_absolute_error: 114.5453\n",
      "Epoch 40/100\n",
      "213/213 [==============================] - 2s 10ms/step - loss: 22679.6115 - mean_absolute_error: 129.3440 - val_loss: 15916.7986 - val_mean_absolute_error: 111.3723\n",
      "Epoch 41/100\n",
      "213/213 [==============================] - 2s 11ms/step - loss: 22481.8345 - mean_absolute_error: 128.3883 - val_loss: 16096.7714 - val_mean_absolute_error: 113.2926\n",
      "Epoch 42/100\n",
      "213/213 [==============================] - 2s 10ms/step - loss: 22603.6458 - mean_absolute_error: 130.9008 - val_loss: 16434.1985 - val_mean_absolute_error: 115.7394\n",
      "Epoch 43/100\n",
      "213/213 [==============================] - 2s 10ms/step - loss: 22743.9725 - mean_absolute_error: 128.8791 - val_loss: 15878.9984 - val_mean_absolute_error: 110.7669\n",
      "Epoch 44/100\n",
      "213/213 [==============================] - 2s 10ms/step - loss: 22532.1104 - mean_absolute_error: 128.5596 - val_loss: 16364.4439 - val_mean_absolute_error: 115.3057\n",
      "Epoch 45/100\n",
      "213/213 [==============================] - 2s 10ms/step - loss: 22711.0854 - mean_absolute_error: 131.0406 - val_loss: 16169.2973 - val_mean_absolute_error: 113.9120\n",
      "Epoch 46/100\n"
     ]
    },
    {
     "name": "stdout",
     "output_type": "stream",
     "text": [
      "213/213 [==============================] - 2s 11ms/step - loss: 22338.8572 - mean_absolute_error: 129.0616 - val_loss: 15963.2139 - val_mean_absolute_error: 111.9521\n",
      "Epoch 47/100\n",
      "213/213 [==============================] - 2s 10ms/step - loss: 22764.1123 - mean_absolute_error: 127.8822 - val_loss: 15935.7211 - val_mean_absolute_error: 111.6240\n",
      "Epoch 48/100\n",
      "213/213 [==============================] - 2s 10ms/step - loss: 22610.8333 - mean_absolute_error: 128.9553 - val_loss: 16072.1042 - val_mean_absolute_error: 113.0630\n",
      "Epoch 49/100\n",
      "213/213 [==============================] - 2s 10ms/step - loss: 22427.1392 - mean_absolute_error: 129.0361 - val_loss: 16306.1367 - val_mean_absolute_error: 114.9209\n",
      "Epoch 50/100\n",
      "213/213 [==============================] - 2s 10ms/step - loss: 22540.3139 - mean_absolute_error: 130.4977 - val_loss: 16292.5463 - val_mean_absolute_error: 114.8278\n",
      "Epoch 51/100\n",
      "213/213 [==============================] - 2s 10ms/step - loss: 22646.4158 - mean_absolute_error: 129.1745 - val_loss: 15887.1356 - val_mean_absolute_error: 110.9132\n",
      "Epoch 52/100\n",
      "213/213 [==============================] - 2s 11ms/step - loss: 22681.1281 - mean_absolute_error: 127.4388 - val_loss: 16005.7244 - val_mean_absolute_error: 112.3980\n",
      "Epoch 53/100\n",
      "213/213 [==============================] - 2s 10ms/step - loss: 22640.2612 - mean_absolute_error: 130.9415 - val_loss: 16618.4125 - val_mean_absolute_error: 116.7767\n",
      "Epoch 54/100\n",
      "213/213 [==============================] - 2s 11ms/step - loss: 22544.3035 - mean_absolute_error: 130.1995 - val_loss: 16035.0375 - val_mean_absolute_error: 112.6946\n",
      "Epoch 55/100\n",
      "213/213 [==============================] - 2s 11ms/step - loss: 22660.8053 - mean_absolute_error: 128.6582 - val_loss: 15912.3311 - val_mean_absolute_error: 111.3090\n",
      "Epoch 56/100\n",
      "213/213 [==============================] - 2s 11ms/step - loss: 22629.1596 - mean_absolute_error: 128.7981 - val_loss: 16250.5689 - val_mean_absolute_error: 114.5315\n",
      "Epoch 57/100\n",
      "213/213 [==============================] - 2s 11ms/step - loss: 22713.7824 - mean_absolute_error: 130.9815 - val_loss: 16302.8173 - val_mean_absolute_error: 114.8984\n",
      "Epoch 58/100\n",
      "213/213 [==============================] - 2s 11ms/step - loss: 22560.4154 - mean_absolute_error: 129.3760 - val_loss: 15938.3072 - val_mean_absolute_error: 111.6569\n",
      "Epoch 59/100\n",
      "213/213 [==============================] - 2s 10ms/step - loss: 22585.9594 - mean_absolute_error: 129.3513 - val_loss: 16170.3137 - val_mean_absolute_error: 113.9204\n",
      "Epoch 60/100\n",
      "213/213 [==============================] - 2s 11ms/step - loss: 22473.2928 - mean_absolute_error: 128.7952 - val_loss: 15974.4780 - val_mean_absolute_error: 112.0767\n",
      "Epoch 61/100\n",
      "213/213 [==============================] - 2s 11ms/step - loss: 22539.2130 - mean_absolute_error: 129.5468 - val_loss: 16104.3271 - val_mean_absolute_error: 113.3611\n",
      "Epoch 62/100\n",
      "213/213 [==============================] - 2s 10ms/step - loss: 22670.0556 - mean_absolute_error: 129.8793 - val_loss: 16099.3431 - val_mean_absolute_error: 113.3162\n",
      "Epoch 63/100\n",
      "213/213 [==============================] - 2s 10ms/step - loss: 22531.3882 - mean_absolute_error: 130.3114 - val_loss: 16377.5046 - val_mean_absolute_error: 115.3892\n",
      "Epoch 64/100\n",
      "213/213 [==============================] - 2s 11ms/step - loss: 22564.7896 - mean_absolute_error: 129.7342 - val_loss: 15900.3108 - val_mean_absolute_error: 111.1292\n",
      "Epoch 65/100\n",
      "213/213 [==============================] - 2s 10ms/step - loss: 22738.8882 - mean_absolute_error: 128.6964 - val_loss: 15977.9235 - val_mean_absolute_error: 112.1138\n",
      "Epoch 66/100\n",
      "213/213 [==============================] - 2s 10ms/step - loss: 22692.3970 - mean_absolute_error: 128.5395 - val_loss: 16029.5334 - val_mean_absolute_error: 112.6374\n",
      "Epoch 67/100\n",
      "213/213 [==============================] - 2s 10ms/step - loss: 22330.2846 - mean_absolute_error: 128.9404 - val_loss: 16375.5186 - val_mean_absolute_error: 115.3766\n",
      "Epoch 68/100\n",
      "213/213 [==============================] - 2s 11ms/step - loss: 22717.9303 - mean_absolute_error: 131.4261 - val_loss: 16359.3393 - val_mean_absolute_error: 115.2731\n",
      "Epoch 69/100\n",
      "213/213 [==============================] - 2s 10ms/step - loss: 22554.1082 - mean_absolute_error: 129.8785 - val_loss: 15977.7643 - val_mean_absolute_error: 112.1121\n",
      "Epoch 70/100\n",
      "213/213 [==============================] - 2s 10ms/step - loss: 22458.6974 - mean_absolute_error: 128.0957 - val_loss: 15896.2790 - val_mean_absolute_error: 111.0660\n",
      "Epoch 71/100\n",
      "213/213 [==============================] - 2s 10ms/step - loss: 22658.5032 - mean_absolute_error: 128.4260 - val_loss: 16027.2542 - val_mean_absolute_error: 112.6134\n",
      "Epoch 72/100\n",
      "213/213 [==============================] - 2s 11ms/step - loss: 22739.9383 - mean_absolute_error: 130.9515 - val_loss: 16454.1789 - val_mean_absolute_error: 115.8591\n",
      "Epoch 73/100\n",
      "213/213 [==============================] - 2s 11ms/step - loss: 22661.0785 - mean_absolute_error: 130.3931 - val_loss: 16020.7292 - val_mean_absolute_error: 112.5438\n",
      "Epoch 74/100\n",
      "213/213 [==============================] - 2s 11ms/step - loss: 22604.6135 - mean_absolute_error: 128.3577 - val_loss: 15918.8627 - val_mean_absolute_error: 111.4015\n",
      "Epoch 75/100\n",
      "213/213 [==============================] - 2s 11ms/step - loss: 22579.5722 - mean_absolute_error: 128.6467 - val_loss: 16157.8948 - val_mean_absolute_error: 113.8196\n",
      "Epoch 76/100\n",
      "213/213 [==============================] - 2s 11ms/step - loss: 22467.5516 - mean_absolute_error: 129.2446 - val_loss: 16147.3040 - val_mean_absolute_error: 113.7322\n",
      "Epoch 77/100\n",
      "213/213 [==============================] - 2s 11ms/step - loss: 22513.2949 - mean_absolute_error: 129.5523 - val_loss: 16163.4758 - val_mean_absolute_error: 113.8652\n",
      "Epoch 78/100\n",
      "213/213 [==============================] - 2s 11ms/step - loss: 22624.4313 - mean_absolute_error: 129.6478 - val_loss: 16111.5445 - val_mean_absolute_error: 113.4253\n",
      "Epoch 79/100\n",
      "213/213 [==============================] - 2s 11ms/step - loss: 22535.0987 - mean_absolute_error: 129.3774 - val_loss: 16157.2756 - val_mean_absolute_error: 113.8146\n",
      "Epoch 80/100\n",
      "213/213 [==============================] - 2s 11ms/step - loss: 22704.3194 - mean_absolute_error: 130.9706 - val_loss: 16184.2186 - val_mean_absolute_error: 114.0312\n",
      "Epoch 81/100\n",
      "213/213 [==============================] - 2s 10ms/step - loss: 22496.3015 - mean_absolute_error: 129.0946 - val_loss: 16132.9443 - val_mean_absolute_error: 113.6111\n",
      "Epoch 82/100\n",
      "213/213 [==============================] - 2s 10ms/step - loss: 22551.2107 - mean_absolute_error: 129.9940 - val_loss: 16197.5144 - val_mean_absolute_error: 114.1350\n",
      "Epoch 83/100\n",
      "213/213 [==============================] - 2s 10ms/step - loss: 22585.6208 - mean_absolute_error: 129.4987 - val_loss: 15944.8085 - val_mean_absolute_error: 111.7372\n",
      "Epoch 84/100\n",
      "213/213 [==============================] - 2s 11ms/step - loss: 22563.9506 - mean_absolute_error: 128.0584 - val_loss: 15986.2165 - val_mean_absolute_error: 112.2014\n",
      "Epoch 85/100\n",
      "213/213 [==============================] - 2s 11ms/step - loss: 22656.2753 - mean_absolute_error: 129.3078 - val_loss: 16051.7904 - val_mean_absolute_error: 112.8653\n",
      "Epoch 86/100\n",
      "213/213 [==============================] - 2s 11ms/step - loss: 22763.7710 - mean_absolute_error: 130.2261 - val_loss: 16227.4710 - val_mean_absolute_error: 114.3623\n",
      "Epoch 87/100\n",
      "213/213 [==============================] - 2s 11ms/step - loss: 22676.6264 - mean_absolute_error: 130.3570 - val_loss: 15973.9095 - val_mean_absolute_error: 112.0706\n",
      "Epoch 88/100\n",
      "213/213 [==============================] - 2s 11ms/step - loss: 22563.1161 - mean_absolute_error: 128.3653 - val_loss: 15949.1888 - val_mean_absolute_error: 111.7899\n",
      "Epoch 89/100\n",
      "213/213 [==============================] - 2s 11ms/step - loss: 22815.1300 - mean_absolute_error: 130.9218 - val_loss: 16432.2097 - val_mean_absolute_error: 115.7276\n",
      "Epoch 90/100\n",
      "213/213 [==============================] - 2s 11ms/step - loss: 22747.0341 - mean_absolute_error: 129.0278 - val_loss: 15856.6637 - val_mean_absolute_error: 110.3191\n",
      "Epoch 91/100\n",
      "213/213 [==============================] - 3s 12ms/step - loss: 22491.5919 - mean_absolute_error: 127.4233 - val_loss: 16017.7481 - val_mean_absolute_error: 112.5143\n"
     ]
    },
    {
     "name": "stdout",
     "output_type": "stream",
     "text": [
      "Epoch 92/100\n",
      "213/213 [==============================] - 2s 11ms/step - loss: 22574.1164 - mean_absolute_error: 129.7047 - val_loss: 16367.2105 - val_mean_absolute_error: 115.3236\n",
      "Epoch 93/100\n",
      "213/213 [==============================] - 2s 11ms/step - loss: 22652.0807 - mean_absolute_error: 131.6195 - val_loss: 16318.0324 - val_mean_absolute_error: 115.0015\n",
      "Epoch 94/100\n",
      "213/213 [==============================] - 2s 11ms/step - loss: 23180.1236 - mean_absolute_error: 129.5049 - val_loss: 15831.2598 - val_mean_absolute_error: 109.3134\n",
      "Epoch 95/100\n",
      "213/213 [==============================] - 2s 11ms/step - loss: 22522.5416 - mean_absolute_error: 128.2661 - val_loss: 16362.1314 - val_mean_absolute_error: 115.2911\n",
      "Epoch 96/100\n",
      "213/213 [==============================] - 2s 11ms/step - loss: 22784.4535 - mean_absolute_error: 132.2548 - val_loss: 16300.9894 - val_mean_absolute_error: 114.8861\n",
      "Epoch 97/100\n",
      "213/213 [==============================] - 2s 11ms/step - loss: 22589.7885 - mean_absolute_error: 130.4895 - val_loss: 16086.4490 - val_mean_absolute_error: 113.1983\n",
      "Epoch 98/100\n",
      "213/213 [==============================] - 2s 10ms/step - loss: 22530.8220 - mean_absolute_error: 127.6670 - val_loss: 15872.5531 - val_mean_absolute_error: 110.6430\n",
      "Epoch 99/100\n",
      "213/213 [==============================] - 2s 11ms/step - loss: 22542.8332 - mean_absolute_error: 128.8941 - val_loss: 16203.6898 - val_mean_absolute_error: 114.1827\n",
      "Epoch 100/100\n",
      "213/213 [==============================] - 2s 11ms/step - loss: 22621.8186 - mean_absolute_error: 131.1840 - val_loss: 16426.8109 - val_mean_absolute_error: 115.6949\n"
     ]
    },
    {
     "data": {
      "text/plain": [
       "<keras.callbacks.History at 0x2025ba1c710>"
      ]
     },
     "execution_count": 54,
     "metadata": {},
     "output_type": "execute_result"
    }
   ],
   "source": [
    "model.fit(X_train, y_train, batch_size=32, validation_data=(X_test, y_test), epochs=100)"
   ]
  },
  {
   "cell_type": "code",
   "execution_count": 60,
   "metadata": {},
   "outputs": [
    {
     "data": {
      "image/png": "[encoded data removed]",
      "text/plain": [
       "<Figure size 600x400 with 2 Axes>"
      ]
     },
     "metadata": {
      "needs_background": "light"
     },
     "output_type": "display_data"
    }
   ],
   "source": [
    "mutls.plot_model(X_train, X_test, y_train, y_test, model)"
   ]
  },
  {
   "cell_type": "markdown",
   "metadata": {},
   "source": [
    "### Second model, category model"
   ]
  },
  {
   "cell_type": "code",
   "execution_count": 27,
   "metadata": {},
   "outputs": [],
   "source": [
    "Y_category = mutls.get_y_category(y_actual=Y, min_edge=200, bin_width=20)"
   ]
  },
  {
   "cell_type": "code",
   "execution_count": 28,
   "metadata": {},
   "outputs": [],
   "source": [
    "cls_counts = mutls.get_class_count(Y_category)"
   ]
  },
  {
   "cell_type": "code",
   "execution_count": 29,
   "metadata": {},
   "outputs": [
    {
     "name": "stdout",
     "output_type": "stream",
     "text": [
      "{0.0: 18, 1.0: 23, 2.0: 40, 3.0: 44, 4.0: 14, 5.0: 7, 6.0: 8, 7.0: 4, 8.0: 6, 9.0: 3, 10.0: 12, 11.0: 10, 12.0: 7, 13.0: 4, 14.0: 7, 15.0: 10, 16.0: 5, 17.0: 10, 18.0: 6, 19.0: 6, 20.0: 6, 21.0: 3, 22.0: 4, 23.0: 2, 24.0: 2, 25.0: 2, 28.0: 1, 29.0: 2, 30.0: 1}\n"
     ]
    }
   ],
   "source": [
    "\n",
    "print(cls_counts)"
   ]
  },
  {
   "cell_type": "code",
   "execution_count": 30,
   "metadata": {},
   "outputs": [
    {
     "data": {
      "text/plain": [
       "(267, 137)"
      ]
     },
     "execution_count": 30,
     "metadata": {},
     "output_type": "execute_result"
    }
   ],
   "source": [
    "X_fp.shape"
   ]
  },
  {
   "cell_type": "code",
   "execution_count": 31,
   "metadata": {},
   "outputs": [],
   "source": [
    "d_cat = mutls.combine_columns((X_fp, Y_category))"
   ]
  },
  {
   "cell_type": "code",
   "execution_count": 32,
   "metadata": {},
   "outputs": [],
   "source": [
    "subsampled=mutls.subsampling(d_cat,-1,15,cls_counts)"
   ]
  },
  {
   "cell_type": "code",
   "execution_count": 33,
   "metadata": {},
   "outputs": [
    {
     "data": {
      "text/plain": [
       "array([[224, 255, 255, ..., 0, 0, 3.0],\n",
       "       [224, 255, 255, ..., 0, 0, 3.0],\n",
       "       [224, 255, 255, ..., 0, 0, 1.0],\n",
       "       ...,\n",
       "       [224, 255, 255, ..., 0, 0, 10.0],\n",
       "       [224, 255, 255, ..., 0, 0, 10.0],\n",
       "       [224, 255, 255, ..., 0, 0, 29.0]], dtype=object)"
      ]
     },
     "execution_count": 33,
     "metadata": {},
     "output_type": "execute_result"
    }
   ],
   "source": [
    "subsampled"
   ]
  },
  {
   "cell_type": "code",
   "execution_count": 34,
   "metadata": {},
   "outputs": [
    {
     "name": "stdout",
     "output_type": "stream",
     "text": [
      "(177, 137)\n",
      "(20, 137)\n",
      "(177, 31)\n",
      "(20, 31)\n"
     ]
    }
   ],
   "source": [
    "X, y = subsampled[:,0:-1], subsampled[:,-1]\n",
    "y_onehot = mutls.onehot_encode_y(y=y, num_class=31)\n",
    "X_train, X_test, y_train, y_test = utils.splitData(X, y_onehot, ratio=0.10)\n",
    "print(X_train.shape)\n",
    "print(X_test.shape)\n",
    "print(y_train.shape)\n",
    "print(y_test.shape)"
   ]
  },
  {
   "cell_type": "markdown",
   "metadata": {},
   "source": [
    "### 2nd fingerprint model RNN LSTM with category Y"
   ]
  },
  {
   "cell_type": "code",
   "execution_count": 35,
   "metadata": {},
   "outputs": [
    {
     "name": "stdout",
     "output_type": "stream",
     "text": [
      "_________________________________________________________________\n",
      "Layer (type)                 Output Shape              Param #   \n",
      "=================================================================\n",
      "lstm_10 (LSTM)               (None, 137, 224)          202496    \n",
      "_________________________________________________________________\n",
      "dropout_5 (Dropout)          (None, 137, 224)          0         \n",
      "_________________________________________________________________\n",
      "lstm_11 (LSTM)               (None, 384)               935424    \n",
      "_________________________________________________________________\n",
      "dropout_6 (Dropout)          (None, 384)               0         \n",
      "_________________________________________________________________\n",
      "dense_5 (Dense)              (None, 31)                11935     \n",
      "=================================================================\n",
      "Total params: 1,149,855\n",
      "Trainable params: 1,149,855\n",
      "Non-trainable params: 0\n",
      "_________________________________________________________________\n"
     ]
    }
   ],
   "source": [
    "X_train = X_train.reshape((X_train.shape[0],X_train.shape[1],1))\n",
    "X_test = X_test.reshape((X_test.shape[0], X_test.shape[1], 1))\n",
    "\n",
    "rnn1_size = 224\n",
    "rnn2_size = 384\n",
    "dropout_rate = 0.2\n",
    "loss = 'categorical_crossentropy'\n",
    "metrics = ['accuracy']\n",
    "num_classes = 31\n",
    "optimizer = 'adam' #use adam optimizer\n",
    "\n",
    "model_1 = Sequential()\n",
    "model_1.add(LSTM(rnn1_size, return_sequences=True, input_shape=(137,1))) #137\n",
    "model_1.add(Dropout(0.3))\n",
    "model_1.add(LSTM(rnn2_size))\n",
    "model_1.add(Dropout(0.3))\n",
    "model_1.add(Dense(num_classes, activation='softmax'))\n",
    "model_1.compile(optimizer=optimizer, loss=loss, metrics=metrics)\n",
    "model_1.summary()"
   ]
  },
  {
   "cell_type": "code",
   "execution_count": 36,
   "metadata": {},
   "outputs": [
    {
     "name": "stdout",
     "output_type": "stream",
     "text": [
      "Train on 177 samples, validate on 20 samples\n",
      "Epoch 1/100\n",
      "177/177 [==============================] - 11s 64ms/step - loss: 3.3985 - acc: 0.0678 - val_loss: 3.6953 - val_acc: 0.0000e+00\n",
      "Epoch 2/100\n",
      "177/177 [==============================] - 9s 50ms/step - loss: 3.2996 - acc: 0.0734 - val_loss: 3.3716 - val_acc: 0.0500\n",
      "Epoch 3/100\n",
      "177/177 [==============================] - 11s 61ms/step - loss: 3.2748 - acc: 0.0508 - val_loss: 3.4042 - val_acc: 0.1000\n",
      "Epoch 4/100\n",
      "177/177 [==============================] - 12s 68ms/step - loss: 3.1691 - acc: 0.0734 - val_loss: 4.6653 - val_acc: 0.0000e+00\n",
      "Epoch 5/100\n",
      "177/177 [==============================] - 12s 69ms/step - loss: 3.3672 - acc: 0.0791 - val_loss: 3.3349 - val_acc: 0.1000\n",
      "Epoch 6/100\n",
      "177/177 [==============================] - 15s 82ms/step - loss: 3.2352 - acc: 0.0678 - val_loss: 3.3266 - val_acc: 0.1000\n",
      "Epoch 7/100\n",
      "177/177 [==============================] - 11s 62ms/step - loss: 3.2201 - acc: 0.0565 - val_loss: 3.4638 - val_acc: 0.1000\n",
      "Epoch 8/100\n",
      "177/177 [==============================] - 13s 71ms/step - loss: 3.2109 - acc: 0.0847 - val_loss: 3.3898 - val_acc: 0.1000\n",
      "Epoch 9/100\n",
      "177/177 [==============================] - 13s 71ms/step - loss: 3.1986 - acc: 0.0621 - val_loss: 3.4146 - val_acc: 0.0000e+00\n",
      "Epoch 10/100\n",
      "177/177 [==============================] - 12s 66ms/step - loss: 3.1638 - acc: 0.0847 - val_loss: 3.7467 - val_acc: 0.0000e+00\n",
      "Epoch 11/100\n",
      "177/177 [==============================] - 11s 63ms/step - loss: 3.2032 - acc: 0.0678 - val_loss: 3.3875 - val_acc: 0.1000\n",
      "Epoch 12/100\n",
      "177/177 [==============================] - 11s 62ms/step - loss: 3.1792 - acc: 0.0847 - val_loss: 3.4021 - val_acc: 0.1000\n",
      "Epoch 13/100\n",
      "177/177 [==============================] - 11s 62ms/step - loss: 3.1466 - acc: 0.1243 - val_loss: 3.4317 - val_acc: 0.0500\n",
      "Epoch 14/100\n",
      "177/177 [==============================] - 11s 63ms/step - loss: 3.0705 - acc: 0.1073 - val_loss: 3.6064 - val_acc: 0.0500\n",
      "Epoch 15/100\n",
      "177/177 [==============================] - 11s 62ms/step - loss: 3.0194 - acc: 0.0678 - val_loss: 3.4039 - val_acc: 0.0500\n",
      "Epoch 16/100\n",
      "177/177 [==============================] - 11s 62ms/step - loss: 2.9406 - acc: 0.0904 - val_loss: 3.5234 - val_acc: 0.1000\n",
      "Epoch 17/100\n",
      "177/177 [==============================] - 11s 61ms/step - loss: 2.8985 - acc: 0.1469 - val_loss: 3.4969 - val_acc: 0.0500\n",
      "Epoch 18/100\n",
      "177/177 [==============================] - 12s 67ms/step - loss: 2.9275 - acc: 0.1299 - val_loss: 3.4806 - val_acc: 0.1000\n",
      "Epoch 19/100\n",
      "177/177 [==============================] - 12s 69ms/step - loss: 2.9294 - acc: 0.0791 - val_loss: 3.4804 - val_acc: 0.2000\n",
      "Epoch 20/100\n",
      "177/177 [==============================] - 11s 60ms/step - loss: 2.8752 - acc: 0.1186 - val_loss: 3.5255 - val_acc: 0.0000e+00\n",
      "Epoch 21/100\n",
      "177/177 [==============================] - 11s 60ms/step - loss: 2.8305 - acc: 0.1582 - val_loss: 3.4755 - val_acc: 0.1500\n",
      "Epoch 22/100\n",
      "177/177 [==============================] - 12s 69ms/step - loss: 2.7667 - acc: 0.1751 - val_loss: 3.4992 - val_acc: 0.2000\n",
      "Epoch 23/100\n",
      "177/177 [==============================] - 11s 64ms/step - loss: 2.7802 - acc: 0.1469 - val_loss: 3.5063 - val_acc: 0.1500\n",
      "Epoch 24/100\n",
      "177/177 [==============================] - 11s 60ms/step - loss: 2.7005 - acc: 0.1695 - val_loss: 3.7068 - val_acc: 0.1500\n",
      "Epoch 25/100\n",
      "177/177 [==============================] - 11s 62ms/step - loss: 2.7456 - acc: 0.1751 - val_loss: 3.6184 - val_acc: 0.1500\n",
      "Epoch 26/100\n",
      "177/177 [==============================] - 11s 60ms/step - loss: 2.7616 - acc: 0.1638 - val_loss: 3.6612 - val_acc: 0.0500\n",
      "Epoch 27/100\n",
      "177/177 [==============================] - 11s 61ms/step - loss: 2.7978 - acc: 0.1412 - val_loss: 3.5955 - val_acc: 0.1500\n",
      "Epoch 28/100\n",
      "177/177 [==============================] - 11s 60ms/step - loss: 2.8461 - acc: 0.1525 - val_loss: 3.5989 - val_acc: 0.0500\n",
      "Epoch 29/100\n",
      "177/177 [==============================] - 11s 61ms/step - loss: 2.7578 - acc: 0.1469 - val_loss: 3.6461 - val_acc: 0.1000\n",
      "Epoch 30/100\n",
      "177/177 [==============================] - 11s 60ms/step - loss: 2.7787 - acc: 0.1299 - val_loss: 3.5149 - val_acc: 0.2000\n",
      "Epoch 31/100\n",
      "177/177 [==============================] - 11s 60ms/step - loss: 2.7550 - acc: 0.1356 - val_loss: 3.5698 - val_acc: 0.1000\n",
      "Epoch 32/100\n",
      "177/177 [==============================] - 11s 60ms/step - loss: 2.6970 - acc: 0.1412 - val_loss: 3.5850 - val_acc: 0.0000e+00\n",
      "Epoch 33/100\n",
      "177/177 [==============================] - 11s 63ms/step - loss: 2.7276 - acc: 0.1186 - val_loss: 3.5839 - val_acc: 0.0500\n",
      "Epoch 34/100\n",
      "177/177 [==============================] - 11s 61ms/step - loss: 2.7437 - acc: 0.1356 - val_loss: 3.5949 - val_acc: 0.2500\n",
      "Epoch 35/100\n",
      "177/177 [==============================] - 11s 63ms/step - loss: 2.7205 - acc: 0.1695 - val_loss: 3.5807 - val_acc: 0.1000\n",
      "Epoch 36/100\n",
      "177/177 [==============================] - 11s 65ms/step - loss: 2.6691 - acc: 0.1582 - val_loss: 3.5369 - val_acc: 0.2000\n",
      "Epoch 37/100\n",
      "177/177 [==============================] - 11s 63ms/step - loss: 2.6565 - acc: 0.1469 - val_loss: 3.5420 - val_acc: 0.2000\n",
      "Epoch 38/100\n",
      "177/177 [==============================] - 12s 66ms/step - loss: 2.6440 - acc: 0.1638 - val_loss: 3.6795 - val_acc: 0.0500\n",
      "Epoch 39/100\n",
      "177/177 [==============================] - 11s 62ms/step - loss: 2.7067 - acc: 0.1469 - val_loss: 3.6249 - val_acc: 0.1500\n",
      "Epoch 40/100\n",
      "177/177 [==============================] - 11s 63ms/step - loss: 2.7064 - acc: 0.1299 - val_loss: 3.5745 - val_acc: 0.1500\n",
      "Epoch 41/100\n",
      "177/177 [==============================] - 11s 62ms/step - loss: 2.6196 - acc: 0.1921 - val_loss: 3.5861 - val_acc: 0.1500\n",
      "Epoch 42/100\n",
      "177/177 [==============================] - 11s 64ms/step - loss: 2.6049 - acc: 0.1751 - val_loss: 3.6438 - val_acc: 0.0000e+00\n",
      "Epoch 43/100\n",
      "177/177 [==============================] - 12s 66ms/step - loss: 2.6131 - acc: 0.1356 - val_loss: 3.6417 - val_acc: 0.0500\n",
      "Epoch 44/100\n",
      "177/177 [==============================] - 11s 63ms/step - loss: 2.8211 - acc: 0.1130 - val_loss: 3.7999 - val_acc: 0.1000\n",
      "Epoch 45/100\n",
      "177/177 [==============================] - 12s 69ms/step - loss: 2.6572 - acc: 0.1469 - val_loss: 3.6039 - val_acc: 0.1500\n",
      "Epoch 46/100\n",
      "177/177 [==============================] - 13s 75ms/step - loss: 2.7083 - acc: 0.1412 - val_loss: 3.5312 - val_acc: 0.2500\n",
      "Epoch 47/100\n",
      "177/177 [==============================] - 12s 68ms/step - loss: 2.6793 - acc: 0.1073 - val_loss: 3.7189 - val_acc: 0.1500\n",
      "Epoch 48/100\n",
      "177/177 [==============================] - 11s 64ms/step - loss: 2.7385 - acc: 0.1412 - val_loss: 3.5040 - val_acc: 0.2000\n",
      "Epoch 49/100\n",
      "177/177 [==============================] - 11s 63ms/step - loss: 2.6282 - acc: 0.1356 - val_loss: 3.5498 - val_acc: 0.2000\n",
      "Epoch 50/100\n",
      "177/177 [==============================] - 11s 62ms/step - loss: 2.5675 - acc: 0.1469 - val_loss: 3.6616 - val_acc: 0.1500\n",
      "Epoch 51/100\n",
      "177/177 [==============================] - 11s 64ms/step - loss: 2.6349 - acc: 0.1525 - val_loss: 3.6236 - val_acc: 0.1000\n",
      "Epoch 52/100\n",
      "177/177 [==============================] - 11s 62ms/step - loss: 2.6063 - acc: 0.1469 - val_loss: 3.7137 - val_acc: 0.0500\n",
      "Epoch 53/100\n",
      "177/177 [==============================] - 11s 60ms/step - loss: 2.5476 - acc: 0.1864 - val_loss: 3.6518 - val_acc: 0.1500\n",
      "Epoch 54/100\n",
      "177/177 [==============================] - 11s 60ms/step - loss: 2.6106 - acc: 0.1638 - val_loss: 3.6930 - val_acc: 0.0000e+00\n",
      "Epoch 55/100\n",
      "177/177 [==============================] - 12s 66ms/step - loss: 2.5985 - acc: 0.1525 - val_loss: 3.6892 - val_acc: 0.1000\n",
      "Epoch 56/100\n",
      "177/177 [==============================] - 11s 60ms/step - loss: 2.6031 - acc: 0.1751 - val_loss: 3.6841 - val_acc: 0.1500\n",
      "Epoch 57/100\n",
      "177/177 [==============================] - 10s 59ms/step - loss: 2.5801 - acc: 0.1525 - val_loss: 3.7005 - val_acc: 0.1000\n",
      "Epoch 58/100\n",
      "177/177 [==============================] - 10s 59ms/step - loss: 2.7461 - acc: 0.1186 - val_loss: 3.6442 - val_acc: 0.1000\n",
      "Epoch 59/100\n",
      "177/177 [==============================] - 10s 58ms/step - loss: 2.6544 - acc: 0.1186 - val_loss: 3.6123 - val_acc: 0.1500\n",
      "Epoch 60/100\n",
      "177/177 [==============================] - 12s 66ms/step - loss: 2.5983 - acc: 0.1977 - val_loss: 3.5441 - val_acc: 0.1500\n"
     ]
    },
    {
     "name": "stdout",
     "output_type": "stream",
     "text": [
      "Epoch 61/100\n",
      "177/177 [==============================] - 12s 66ms/step - loss: 2.5051 - acc: 0.2034 - val_loss: 3.5730 - val_acc: 0.1000\n",
      "Epoch 62/100\n",
      "177/177 [==============================] - 12s 67ms/step - loss: 2.5998 - acc: 0.2373 - val_loss: 3.6315 - val_acc: 0.1000\n",
      "Epoch 63/100\n",
      "177/177 [==============================] - 11s 62ms/step - loss: 2.5427 - acc: 0.1695 - val_loss: 3.6185 - val_acc: 0.1500\n",
      "Epoch 64/100\n",
      "177/177 [==============================] - 11s 62ms/step - loss: 2.5352 - acc: 0.1582 - val_loss: 3.6107 - val_acc: 0.2000\n",
      "Epoch 65/100\n",
      "177/177 [==============================] - 11s 64ms/step - loss: 2.4657 - acc: 0.1864 - val_loss: 3.5976 - val_acc: 0.1500\n",
      "Epoch 66/100\n",
      "177/177 [==============================] - 11s 63ms/step - loss: 2.4651 - acc: 0.1638 - val_loss: 3.5977 - val_acc: 0.2000\n",
      "Epoch 67/100\n",
      "177/177 [==============================] - 12s 67ms/step - loss: 2.5105 - acc: 0.1695 - val_loss: 3.5965 - val_acc: 0.1500\n",
      "Epoch 68/100\n",
      "177/177 [==============================] - 11s 63ms/step - loss: 2.4341 - acc: 0.1977 - val_loss: 3.6459 - val_acc: 0.0500\n",
      "Epoch 69/100\n",
      "177/177 [==============================] - 11s 61ms/step - loss: 2.4553 - acc: 0.1864 - val_loss: 3.7262 - val_acc: 0.0500\n",
      "Epoch 70/100\n",
      "177/177 [==============================] - 12s 67ms/step - loss: 2.4579 - acc: 0.1582 - val_loss: 3.8664 - val_acc: 0.1000\n",
      "Epoch 71/100\n",
      "177/177 [==============================] - 11s 64ms/step - loss: 2.5390 - acc: 0.1638 - val_loss: 3.7871 - val_acc: 0.1000\n",
      "Epoch 72/100\n",
      "177/177 [==============================] - 11s 65ms/step - loss: 2.5018 - acc: 0.1356 - val_loss: 3.6898 - val_acc: 0.1000\n",
      "Epoch 73/100\n",
      "177/177 [==============================] - 12s 67ms/step - loss: 2.4744 - acc: 0.1525 - val_loss: 3.7143 - val_acc: 0.1500\n",
      "Epoch 74/100\n",
      "177/177 [==============================] - 11s 63ms/step - loss: 2.3932 - acc: 0.1864 - val_loss: 3.6346 - val_acc: 0.2000\n",
      "Epoch 75/100\n",
      "177/177 [==============================] - 11s 64ms/step - loss: 2.4638 - acc: 0.1695 - val_loss: 3.6485 - val_acc: 0.1500\n",
      "Epoch 76/100\n",
      "177/177 [==============================] - 12s 69ms/step - loss: 2.4336 - acc: 0.1808 - val_loss: 3.6928 - val_acc: 0.1500\n",
      "Epoch 77/100\n",
      "177/177 [==============================] - 13s 75ms/step - loss: 2.4448 - acc: 0.2090 - val_loss: 3.7322 - val_acc: 0.1500\n",
      "Epoch 78/100\n",
      "177/177 [==============================] - 11s 61ms/step - loss: 2.4268 - acc: 0.1921 - val_loss: 3.7344 - val_acc: 0.1000\n",
      "Epoch 79/100\n",
      "177/177 [==============================] - 11s 64ms/step - loss: 2.4499 - acc: 0.2147 - val_loss: 3.7256 - val_acc: 0.1500\n",
      "Epoch 80/100\n",
      "177/177 [==============================] - 11s 62ms/step - loss: 2.3871 - acc: 0.1864 - val_loss: 3.7222 - val_acc: 0.1500\n",
      "Epoch 81/100\n",
      "177/177 [==============================] - 11s 64ms/step - loss: 2.3454 - acc: 0.1921 - val_loss: 3.7732 - val_acc: 0.1000\n",
      "Epoch 82/100\n",
      "177/177 [==============================] - 12s 68ms/step - loss: 2.3465 - acc: 0.2203 - val_loss: 3.7002 - val_acc: 0.1000\n",
      "Epoch 83/100\n",
      "177/177 [==============================] - 13s 72ms/step - loss: 2.3384 - acc: 0.2090 - val_loss: 3.7391 - val_acc: 0.0500\n",
      "Epoch 84/100\n",
      "177/177 [==============================] - 11s 59ms/step - loss: 2.4351 - acc: 0.1638 - val_loss: 3.7237 - val_acc: 0.1500\n",
      "Epoch 85/100\n",
      "177/177 [==============================] - 11s 61ms/step - loss: 2.3774 - acc: 0.1808 - val_loss: 3.7188 - val_acc: 0.1500\n",
      "Epoch 86/100\n",
      "177/177 [==============================] - 11s 62ms/step - loss: 2.3359 - acc: 0.1977 - val_loss: 3.7876 - val_acc: 0.0500\n",
      "Epoch 87/100\n",
      "177/177 [==============================] - 12s 69ms/step - loss: 2.5527 - acc: 0.1751 - val_loss: 3.7112 - val_acc: 0.1500\n",
      "Epoch 88/100\n",
      "177/177 [==============================] - 11s 62ms/step - loss: 2.3866 - acc: 0.2090 - val_loss: 3.6898 - val_acc: 0.1500\n",
      "Epoch 89/100\n",
      "177/177 [==============================] - 11s 62ms/step - loss: 2.3640 - acc: 0.1864 - val_loss: 3.9738 - val_acc: 0.0500\n",
      "Epoch 90/100\n",
      "177/177 [==============================] - 11s 62ms/step - loss: 2.6634 - acc: 0.1412 - val_loss: 3.7412 - val_acc: 0.0500\n",
      "Epoch 91/100\n",
      "177/177 [==============================] - 11s 64ms/step - loss: 2.4210 - acc: 0.1808 - val_loss: 3.7492 - val_acc: 0.1000\n",
      "Epoch 92/100\n",
      "177/177 [==============================] - 11s 60ms/step - loss: 2.3384 - acc: 0.1977 - val_loss: 3.6732 - val_acc: 0.1500\n",
      "Epoch 93/100\n",
      "177/177 [==============================] - 11s 60ms/step - loss: 2.3124 - acc: 0.2203 - val_loss: 3.8573 - val_acc: 0.0500\n",
      "Epoch 94/100\n",
      "177/177 [==============================] - 12s 66ms/step - loss: 2.6349 - acc: 0.1751 - val_loss: 3.9335 - val_acc: 0.1000\n",
      "Epoch 95/100\n",
      "177/177 [==============================] - 13s 73ms/step - loss: 2.5497 - acc: 0.1582 - val_loss: 3.8995 - val_acc: 0.1000\n",
      "Epoch 96/100\n",
      "177/177 [==============================] - 12s 68ms/step - loss: 2.5191 - acc: 0.1638 - val_loss: 3.7096 - val_acc: 0.0500\n",
      "Epoch 97/100\n",
      "177/177 [==============================] - 11s 65ms/step - loss: 2.5919 - acc: 0.1412 - val_loss: 4.0951 - val_acc: 0.0500\n",
      "Epoch 98/100\n",
      "177/177 [==============================] - 11s 65ms/step - loss: 2.4813 - acc: 0.1695 - val_loss: 3.6723 - val_acc: 0.0500\n",
      "Epoch 99/100\n",
      "177/177 [==============================] - 11s 60ms/step - loss: 2.3991 - acc: 0.2147 - val_loss: 3.8151 - val_acc: 0.0500\n",
      "Epoch 100/100\n",
      "177/177 [==============================] - 11s 61ms/step - loss: 2.3719 - acc: 0.2034 - val_loss: 3.7137 - val_acc: 0.0500\n"
     ]
    },
    {
     "data": {
      "text/plain": [
       "<keras.callbacks.History at 0x1ae6a9278d0>"
      ]
     },
     "execution_count": 36,
     "metadata": {},
     "output_type": "execute_result"
    }
   ],
   "source": [
    "batch_size = 16\n",
    "epochs = 100\n",
    "\n",
    "model_1.fit(X_train, y_train, batch_size=batch_size, epochs=epochs, validation_data=[X_test, y_test])"
   ]
  },
  {
   "cell_type": "markdown",
   "metadata": {},
   "source": [
    "Training acc 0.25, testing accuracy 0.05 (max 0.15)"
   ]
  }
 ],
 "metadata": {
  "kernelspec": {
   "display_name": "test_speedcom",
   "language": "python",
   "name": "test_speedcom"
  },
  "language_info": {
   "codemirror_mode": {
    "name": "ipython",
    "version": 3
   },
   "file_extension": ".py",
   "mimetype": "text/x-python",
   "name": "python",
   "nbconvert_exporter": "python",
   "pygments_lexer": "ipython3",
   "version": "3.6.8"
  }
 },
 "nbformat": 4,
 "nbformat_minor": 2
}
