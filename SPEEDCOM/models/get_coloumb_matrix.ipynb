{
 "cells": [
  {
   "cell_type": "code",
   "execution_count": 21,
   "metadata": {},
   "outputs": [],
   "source": [
    "import pandas as pd\n",
    "import numpy as np\n",
    "from utilities_1 import compute_coulumb_matrixes\n",
    "from utilities_1 import compute_coulumb_matrixes_pca\n",
    "from utilities_1 import compute_fingerprints\n",
    "\n",
    "from dataUtils import DataUtils\n",
    "from model_utils import ModelUtils\n",
    "\n",
    "from keras import Sequential\n",
    "from keras.layers import Embedding, Conv1D, Conv2D, MaxPooling2D,BatchNormalization, Flatten, Dense, Dropout\n",
    "from keras.optimizers import Adam, SGD\n",
    "from keras.callbacks import ReduceLROnPlateau, ModelCheckpoint\n",
    "from keras.layers import LeakyReLU\n",
    "\n",
    "import matplotlib.pyplot as plt\n",
    "%matplotlib inline"
   ]
  },
  {
   "cell_type": "code",
   "execution_count": 2,
   "metadata": {},
   "outputs": [
    {
     "data": {
      "text/html": [
       "<div>\n",
       "<style scoped>\n",
       "    .dataframe tbody tr th:only-of-type {\n",
       "        vertical-align: middle;\n",
       "    }\n",
       "\n",
       "    .dataframe tbody tr th {\n",
       "        vertical-align: top;\n",
       "    }\n",
       "\n",
       "    .dataframe thead th {\n",
       "        text-align: right;\n",
       "    }\n",
       "</style>\n",
       "<table border=\"1\" class=\"dataframe\">\n",
       "  <thead>\n",
       "    <tr style=\"text-align: right;\">\n",
       "      <th></th>\n",
       "      <th>#</th>\n",
       "      <th>Name</th>\n",
       "      <th>Epsilon</th>\n",
       "      <th>Solvent</th>\n",
       "      <th>Quantum Yield</th>\n",
       "      <th>Solvent.1</th>\n",
       "      <th>File</th>\n",
       "      <th>File.1</th>\n",
       "      <th>Absorption</th>\n",
       "      <th>SMILES</th>\n",
       "      <th>Emission</th>\n",
       "    </tr>\n",
       "  </thead>\n",
       "  <tbody>\n",
       "    <tr>\n",
       "      <th>0</th>\n",
       "      <td>1</td>\n",
       "      <td>Benzene</td>\n",
       "      <td>210</td>\n",
       "      <td>cyclohexane</td>\n",
       "      <td>0.053</td>\n",
       "      <td>hexane</td>\n",
       "      <td>A01_71-43-2_Benzene.abs.txt</td>\n",
       "      <td>A01_71-43-2_Benzene.ems.txt</td>\n",
       "      <td>254.75</td>\n",
       "      <td>C1=CC=CC=C1</td>\n",
       "      <td>287.0</td>\n",
       "    </tr>\n",
       "    <tr>\n",
       "      <th>1</th>\n",
       "      <td>2</td>\n",
       "      <td>Toluene</td>\n",
       "      <td>2860</td>\n",
       "      <td>cyclohexane</td>\n",
       "      <td>0.170</td>\n",
       "      <td>cyclohexane</td>\n",
       "      <td>A02_108-88-3_Toluene.abs.txt</td>\n",
       "      <td>A02_108-88-3_Toluene.ems.txt</td>\n",
       "      <td>261.75</td>\n",
       "      <td>CC1=CC=CC=C1</td>\n",
       "      <td>289.5</td>\n",
       "    </tr>\n",
       "    <tr>\n",
       "      <th>2</th>\n",
       "      <td>3</td>\n",
       "      <td>o-Xylene</td>\n",
       "      <td>254</td>\n",
       "      <td>cyclohexane</td>\n",
       "      <td>0.170</td>\n",
       "      <td>hexane</td>\n",
       "      <td>A03_95-47-6_o-Xylene.abs.txt</td>\n",
       "      <td>A03_95-47-6_o-Xylene.ems.txt</td>\n",
       "      <td>263.00</td>\n",
       "      <td>CC1=CC=CC=C1C</td>\n",
       "      <td>291.0</td>\n",
       "    </tr>\n",
       "    <tr>\n",
       "      <th>3</th>\n",
       "      <td>4</td>\n",
       "      <td>m-Xylene</td>\n",
       "      <td>284</td>\n",
       "      <td>cyclohexane</td>\n",
       "      <td>0.130</td>\n",
       "      <td>hexane</td>\n",
       "      <td>A04_108-38-3_m-Xylene.abs.txt</td>\n",
       "      <td>A04_108-38-3_m-Xylene.ems.txt</td>\n",
       "      <td>265.00</td>\n",
       "      <td>CC1=CC(=CC=C1)C</td>\n",
       "      <td>290.0</td>\n",
       "    </tr>\n",
       "    <tr>\n",
       "      <th>4</th>\n",
       "      <td>5</td>\n",
       "      <td>p-Xylene</td>\n",
       "      <td>770</td>\n",
       "      <td>cyclohexane</td>\n",
       "      <td>0.220</td>\n",
       "      <td>hexane</td>\n",
       "      <td>A05_106-42-3_p-Xylene.abs.txt</td>\n",
       "      <td>A05_106-42-3_p-Xylene.ems.txt</td>\n",
       "      <td>275.00</td>\n",
       "      <td>CC1=CC=C(C=C1)C</td>\n",
       "      <td>291.0</td>\n",
       "    </tr>\n",
       "  </tbody>\n",
       "</table>\n",
       "</div>"
      ],
      "text/plain": [
       "   #      Name  Epsilon      Solvent  Quantum Yield    Solvent.1  \\\n",
       "0  1   Benzene      210  cyclohexane          0.053       hexane   \n",
       "1  2   Toluene     2860  cyclohexane          0.170  cyclohexane   \n",
       "2  3  o-Xylene      254  cyclohexane          0.170       hexane   \n",
       "3  4  m-Xylene      284  cyclohexane          0.130       hexane   \n",
       "4  5  p-Xylene      770  cyclohexane          0.220       hexane   \n",
       "\n",
       "                            File                         File.1  Absorption  \\\n",
       "0    A01_71-43-2_Benzene.abs.txt    A01_71-43-2_Benzene.ems.txt      254.75   \n",
       "1   A02_108-88-3_Toluene.abs.txt   A02_108-88-3_Toluene.ems.txt      261.75   \n",
       "2   A03_95-47-6_o-Xylene.abs.txt   A03_95-47-6_o-Xylene.ems.txt      263.00   \n",
       "3  A04_108-38-3_m-Xylene.abs.txt  A04_108-38-3_m-Xylene.ems.txt      265.00   \n",
       "4  A05_106-42-3_p-Xylene.abs.txt  A05_106-42-3_p-Xylene.ems.txt      275.00   \n",
       "\n",
       "            SMILES  Emission  \n",
       "0      C1=CC=CC=C1     287.0  \n",
       "1     CC1=CC=CC=C1     289.5  \n",
       "2    CC1=CC=CC=C1C     291.0  \n",
       "3  CC1=CC(=CC=C1)C     290.0  \n",
       "4  CC1=CC=C(C=C1)C     291.0  "
      ]
     },
     "execution_count": 2,
     "metadata": {},
     "output_type": "execute_result"
    }
   ],
   "source": [
    "data=pd.read_csv('cleaned_data_emission.tsv',sep='\\t')\n",
    "data.head()"
   ]
  },
  {
   "cell_type": "code",
   "execution_count": 4,
   "metadata": {},
   "outputs": [],
   "source": [
    "fp_dict = compute_fingerprints(data)"
   ]
  },
  {
   "cell_type": "code",
   "execution_count": 9,
   "metadata": {},
   "outputs": [],
   "source": [
    "fps = np.array(list(map(np.array, pd.Series(fp_dict))))"
   ]
  },
  {
   "cell_type": "code",
   "execution_count": 7,
   "metadata": {},
   "outputs": [],
   "source": [
    "y = np.array(data['Absorption'])"
   ]
  },
  {
   "cell_type": "code",
   "execution_count": 10,
   "metadata": {},
   "outputs": [
    {
     "name": "stdout",
     "output_type": "stream",
     "text": [
      "(232, 137)\n",
      "(59, 137)\n",
      "(232, 1)\n",
      "(59, 1)\n"
     ]
    }
   ],
   "source": [
    "X_train, X_test, y_train, y_test = DataUtils.splitData(fps, y, ratio=0.20)\n",
    "y_train = np.reshape(y_train, (-1, 1))\n",
    "y_test = np.reshape(y_test, (-1, 1))\n",
    "print(X_train.shape)\n",
    "print(X_test.shape)\n",
    "print(y_train.shape)\n",
    "print(y_test.shape)"
   ]
  },
  {
   "cell_type": "code",
   "execution_count": 11,
   "metadata": {},
   "outputs": [
    {
     "name": "stdout",
     "output_type": "stream",
     "text": [
      "(232, 137, 1)\n",
      "(59, 137, 1)\n",
      "(232, 1)\n",
      "(59, 1)\n"
     ]
    }
   ],
   "source": [
    "X_train = np.expand_dims(X_train,axis=-1)\n",
    "X_test = np.expand_dims(X_test,axis=-1)\n",
    "print(X_train.shape)\n",
    "print(X_test.shape)\n",
    "print(y_train.shape)\n",
    "print(y_test.shape)"
   ]
  },
  {
   "cell_type": "code",
   "execution_count": 12,
   "metadata": {},
   "outputs": [],
   "source": [
    "def coeff_determination(y_true, y_pred):\n",
    "    from keras import backend as K\n",
    "    SS_res =  K.sum(K.square( y_true-y_pred ))\n",
    "    SS_tot = K.sum(K.square( y_true - K.mean(y_true) ) )\n",
    "    return ( 1 - SS_res/(SS_tot + K.epsilon()) )\n",
    "def get_lr_metric(optimizer):\n",
    "    def lr(y_true, y_pred):\n",
    "        return optimizer.lr\n",
    "    return lr"
   ]
  },
  {
   "cell_type": "code",
   "execution_count": 13,
   "metadata": {},
   "outputs": [
    {
     "name": "stdout",
     "output_type": "stream",
     "text": [
      "_________________________________________________________________\n",
      "Layer (type)                 Output Shape              Param #   \n",
      "=================================================================\n",
      "conv1d_1 (Conv1D)            (None, 137, 128)          256       \n",
      "_________________________________________________________________\n",
      "batch_normalization_1 (Batch (None, 137, 128)          512       \n",
      "_________________________________________________________________\n",
      "flatten_1 (Flatten)          (None, 17536)             0         \n",
      "_________________________________________________________________\n",
      "dense_1 (Dense)              (None, 1028)              18028036  \n",
      "_________________________________________________________________\n",
      "dropout_1 (Dropout)          (None, 1028)              0         \n",
      "_________________________________________________________________\n",
      "dense_2 (Dense)              (None, 256)               263424    \n",
      "_________________________________________________________________\n",
      "dense_3 (Dense)              (None, 1)                 257       \n",
      "=================================================================\n",
      "Total params: 18,292,485\n",
      "Trainable params: 18,292,229\n",
      "Non-trainable params: 256\n",
      "_________________________________________________________________\n"
     ]
    }
   ],
   "source": [
    "model = Sequential()\n",
    "#model.add(LeakyReLU(alpha=.3))\n",
    "model.add(Conv1D(128, kernel_size=1, activation='relu',input_shape=(137, 1)))\n",
    "model.add(BatchNormalization())\n",
    "model.add(Flatten())\n",
    "#model.add(Conv2D(4, kernel_size=(16,16), activation='relu',input_shape=(181, 181, 1)))\n",
    "model.add(Dense(1028, activation='relu'))\n",
    "#model.add(Conv2D(4, kernel_size=(3,3), activation='relu'))\n",
    "#model.add(Conv1D(128,8,activation='linear'))\n",
    "#model.add(LeakyReLU(alpha=.3))\n",
    "#model.add(Conv1D(128,4,activation='linear'))\n",
    "\n",
    "#model.add(Dense(250, activation='relu'))\n",
    "#model.add(Dense(250, activation='relu'))\n",
    "#model.add(Dense(512, activation='linear'))\n",
    "#model.add(LeakyReLU(alpha=.3))\n",
    "#model.add(Dense(512, activation='linear'))\n",
    "#model.add(Dense(512, activation='relu'))\n",
    "model.add(Dropout(0.05))\n",
    "model.add(Dense(256, activation='relu'))\n",
    "#model.add(Dropout(0.05))\n",
    "model.add(Dense(1, activation='linear'))\n",
    "model.summary()"
   ]
  },
  {
   "cell_type": "code",
   "execution_count": 19,
   "metadata": {},
   "outputs": [],
   "source": [
    "optimizer = Adam(lr=0.00025)\n",
    "lr_metric = get_lr_metric(optimizer)\n",
    "model.compile(loss=\"mse\", optimizer=optimizer, metrics=[coeff_determination, lr_metric])"
   ]
  },
  {
   "cell_type": "code",
   "execution_count": 20,
   "metadata": {},
   "outputs": [
    {
     "name": "stdout",
     "output_type": "stream",
     "text": [
      "Train on 232 samples, validate on 59 samples\n",
      "Epoch 1/25\n",
      "232/232 [==============================] - 9s 38ms/step - loss: 18803.0799 - coeff_determination: 0.1659 - lr: 0.0010 - val_loss: 19014.3066 - val_coeff_determination: 0.1153 - val_lr: 0.0010\n",
      "Epoch 2/25\n",
      "232/232 [==============================] - 8s 33ms/step - loss: 12463.0841 - coeff_determination: 0.4024 - lr: 0.0010 - val_loss: 20921.3301 - val_coeff_determination: 0.0265 - val_lr: 0.0010\n",
      "Epoch 3/25\n",
      "232/232 [==============================] - 8s 34ms/step - loss: 12048.1236 - coeff_determination: 0.3941 - lr: 0.0010 - val_loss: 15088.5498 - val_coeff_determination: 0.2979 - val_lr: 0.0010\n",
      "Epoch 4/25\n",
      "232/232 [==============================] - 8s 35ms/step - loss: 8145.1270 - coeff_determination: 0.5949 - lr: 0.0010 - val_loss: 21002.7578 - val_coeff_determination: 0.0227 - val_lr: 0.0010\n",
      "Epoch 5/25\n",
      "232/232 [==============================] - 8s 36ms/step - loss: 10974.5123 - coeff_determination: 0.4607 - lr: 0.0010 - val_loss: 16029.2871 - val_coeff_determination: 0.2542 - val_lr: 0.0010\n",
      "Epoch 6/25\n"
     ]
    },
    {
     "ename": "KeyboardInterrupt",
     "evalue": "",
     "output_type": "error",
     "traceback": [
      "\u001b[0;31m---------------------------------------------------------------------------\u001b[0m",
      "\u001b[0;31mKeyboardInterrupt\u001b[0m                         Traceback (most recent call last)",
      "\u001b[0;32m<ipython-input-20-4a9caa99ec37>\u001b[0m in \u001b[0;36m<module>\u001b[0;34m\u001b[0m\n\u001b[0;32m----> 1\u001b[0;31m \u001b[0mhistory\u001b[0m \u001b[0;34m=\u001b[0m \u001b[0mmodel\u001b[0m\u001b[0;34m.\u001b[0m\u001b[0mfit\u001b[0m\u001b[0;34m(\u001b[0m\u001b[0mx\u001b[0m\u001b[0;34m=\u001b[0m\u001b[0mX_train\u001b[0m\u001b[0;34m,\u001b[0m \u001b[0my\u001b[0m\u001b[0;34m=\u001b[0m\u001b[0my_train\u001b[0m\u001b[0;34m,\u001b[0m \u001b[0mbatch_size\u001b[0m\u001b[0;34m=\u001b[0m\u001b[0;36m128\u001b[0m\u001b[0;34m,\u001b[0m \u001b[0mepochs\u001b[0m\u001b[0;34m=\u001b[0m\u001b[0;36m25\u001b[0m\u001b[0;34m,\u001b[0m \u001b[0mvalidation_data\u001b[0m\u001b[0;34m=\u001b[0m\u001b[0;34m(\u001b[0m\u001b[0mX_test\u001b[0m\u001b[0;34m,\u001b[0m\u001b[0my_test\u001b[0m\u001b[0;34m)\u001b[0m\u001b[0;34m)\u001b[0m\u001b[0;34m\u001b[0m\u001b[0;34m\u001b[0m\u001b[0m\n\u001b[0m",
      "\u001b[0;32m~/miniconda3/envs/SPEEDCOM/lib/python3.6/site-packages/keras/engine/training.py\u001b[0m in \u001b[0;36mfit\u001b[0;34m(self, x, y, batch_size, epochs, verbose, callbacks, validation_split, validation_data, shuffle, class_weight, sample_weight, initial_epoch, steps_per_epoch, validation_steps, **kwargs)\u001b[0m\n\u001b[1;32m   1037\u001b[0m                                         \u001b[0minitial_epoch\u001b[0m\u001b[0;34m=\u001b[0m\u001b[0minitial_epoch\u001b[0m\u001b[0;34m,\u001b[0m\u001b[0;34m\u001b[0m\u001b[0;34m\u001b[0m\u001b[0m\n\u001b[1;32m   1038\u001b[0m                                         \u001b[0msteps_per_epoch\u001b[0m\u001b[0;34m=\u001b[0m\u001b[0msteps_per_epoch\u001b[0m\u001b[0;34m,\u001b[0m\u001b[0;34m\u001b[0m\u001b[0;34m\u001b[0m\u001b[0m\n\u001b[0;32m-> 1039\u001b[0;31m                                         validation_steps=validation_steps)\n\u001b[0m\u001b[1;32m   1040\u001b[0m \u001b[0;34m\u001b[0m\u001b[0m\n\u001b[1;32m   1041\u001b[0m     def evaluate(self, x=None, y=None,\n",
      "\u001b[0;32m~/miniconda3/envs/SPEEDCOM/lib/python3.6/site-packages/keras/engine/training_arrays.py\u001b[0m in \u001b[0;36mfit_loop\u001b[0;34m(model, f, ins, out_labels, batch_size, epochs, verbose, callbacks, val_f, val_ins, shuffle, callback_metrics, initial_epoch, steps_per_epoch, validation_steps)\u001b[0m\n\u001b[1;32m    197\u001b[0m                     \u001b[0mins_batch\u001b[0m\u001b[0;34m[\u001b[0m\u001b[0mi\u001b[0m\u001b[0;34m]\u001b[0m \u001b[0;34m=\u001b[0m \u001b[0mins_batch\u001b[0m\u001b[0;34m[\u001b[0m\u001b[0mi\u001b[0m\u001b[0;34m]\u001b[0m\u001b[0;34m.\u001b[0m\u001b[0mtoarray\u001b[0m\u001b[0;34m(\u001b[0m\u001b[0;34m)\u001b[0m\u001b[0;34m\u001b[0m\u001b[0;34m\u001b[0m\u001b[0m\n\u001b[1;32m    198\u001b[0m \u001b[0;34m\u001b[0m\u001b[0m\n\u001b[0;32m--> 199\u001b[0;31m                 \u001b[0mouts\u001b[0m \u001b[0;34m=\u001b[0m \u001b[0mf\u001b[0m\u001b[0;34m(\u001b[0m\u001b[0mins_batch\u001b[0m\u001b[0;34m)\u001b[0m\u001b[0;34m\u001b[0m\u001b[0;34m\u001b[0m\u001b[0m\n\u001b[0m\u001b[1;32m    200\u001b[0m                 \u001b[0mouts\u001b[0m \u001b[0;34m=\u001b[0m \u001b[0mto_list\u001b[0m\u001b[0;34m(\u001b[0m\u001b[0mouts\u001b[0m\u001b[0;34m)\u001b[0m\u001b[0;34m\u001b[0m\u001b[0;34m\u001b[0m\u001b[0m\n\u001b[1;32m    201\u001b[0m                 \u001b[0;32mfor\u001b[0m \u001b[0ml\u001b[0m\u001b[0;34m,\u001b[0m \u001b[0mo\u001b[0m \u001b[0;32min\u001b[0m \u001b[0mzip\u001b[0m\u001b[0;34m(\u001b[0m\u001b[0mout_labels\u001b[0m\u001b[0;34m,\u001b[0m \u001b[0mouts\u001b[0m\u001b[0;34m)\u001b[0m\u001b[0;34m:\u001b[0m\u001b[0;34m\u001b[0m\u001b[0;34m\u001b[0m\u001b[0m\n",
      "\u001b[0;32m~/miniconda3/envs/SPEEDCOM/lib/python3.6/site-packages/keras/backend/tensorflow_backend.py\u001b[0m in \u001b[0;36m__call__\u001b[0;34m(self, inputs)\u001b[0m\n\u001b[1;32m   2713\u001b[0m                 \u001b[0;32mreturn\u001b[0m \u001b[0mself\u001b[0m\u001b[0;34m.\u001b[0m\u001b[0m_legacy_call\u001b[0m\u001b[0;34m(\u001b[0m\u001b[0minputs\u001b[0m\u001b[0;34m)\u001b[0m\u001b[0;34m\u001b[0m\u001b[0;34m\u001b[0m\u001b[0m\n\u001b[1;32m   2714\u001b[0m \u001b[0;34m\u001b[0m\u001b[0m\n\u001b[0;32m-> 2715\u001b[0;31m             \u001b[0;32mreturn\u001b[0m \u001b[0mself\u001b[0m\u001b[0;34m.\u001b[0m\u001b[0m_call\u001b[0m\u001b[0;34m(\u001b[0m\u001b[0minputs\u001b[0m\u001b[0;34m)\u001b[0m\u001b[0;34m\u001b[0m\u001b[0;34m\u001b[0m\u001b[0m\n\u001b[0m\u001b[1;32m   2716\u001b[0m         \u001b[0;32melse\u001b[0m\u001b[0;34m:\u001b[0m\u001b[0;34m\u001b[0m\u001b[0;34m\u001b[0m\u001b[0m\n\u001b[1;32m   2717\u001b[0m             \u001b[0;32mif\u001b[0m \u001b[0mpy_any\u001b[0m\u001b[0;34m(\u001b[0m\u001b[0mis_tensor\u001b[0m\u001b[0;34m(\u001b[0m\u001b[0mx\u001b[0m\u001b[0;34m)\u001b[0m \u001b[0;32mfor\u001b[0m \u001b[0mx\u001b[0m \u001b[0;32min\u001b[0m \u001b[0minputs\u001b[0m\u001b[0;34m)\u001b[0m\u001b[0;34m:\u001b[0m\u001b[0;34m\u001b[0m\u001b[0;34m\u001b[0m\u001b[0m\n",
      "\u001b[0;32m~/miniconda3/envs/SPEEDCOM/lib/python3.6/site-packages/keras/backend/tensorflow_backend.py\u001b[0m in \u001b[0;36m_call\u001b[0;34m(self, inputs)\u001b[0m\n\u001b[1;32m   2673\u001b[0m             \u001b[0mfetched\u001b[0m \u001b[0;34m=\u001b[0m \u001b[0mself\u001b[0m\u001b[0;34m.\u001b[0m\u001b[0m_callable_fn\u001b[0m\u001b[0;34m(\u001b[0m\u001b[0;34m*\u001b[0m\u001b[0marray_vals\u001b[0m\u001b[0;34m,\u001b[0m \u001b[0mrun_metadata\u001b[0m\u001b[0;34m=\u001b[0m\u001b[0mself\u001b[0m\u001b[0;34m.\u001b[0m\u001b[0mrun_metadata\u001b[0m\u001b[0;34m)\u001b[0m\u001b[0;34m\u001b[0m\u001b[0;34m\u001b[0m\u001b[0m\n\u001b[1;32m   2674\u001b[0m         \u001b[0;32melse\u001b[0m\u001b[0;34m:\u001b[0m\u001b[0;34m\u001b[0m\u001b[0;34m\u001b[0m\u001b[0m\n\u001b[0;32m-> 2675\u001b[0;31m             \u001b[0mfetched\u001b[0m \u001b[0;34m=\u001b[0m \u001b[0mself\u001b[0m\u001b[0;34m.\u001b[0m\u001b[0m_callable_fn\u001b[0m\u001b[0;34m(\u001b[0m\u001b[0;34m*\u001b[0m\u001b[0marray_vals\u001b[0m\u001b[0;34m)\u001b[0m\u001b[0;34m\u001b[0m\u001b[0;34m\u001b[0m\u001b[0m\n\u001b[0m\u001b[1;32m   2676\u001b[0m         \u001b[0;32mreturn\u001b[0m \u001b[0mfetched\u001b[0m\u001b[0;34m[\u001b[0m\u001b[0;34m:\u001b[0m\u001b[0mlen\u001b[0m\u001b[0;34m(\u001b[0m\u001b[0mself\u001b[0m\u001b[0;34m.\u001b[0m\u001b[0moutputs\u001b[0m\u001b[0;34m)\u001b[0m\u001b[0;34m]\u001b[0m\u001b[0;34m\u001b[0m\u001b[0;34m\u001b[0m\u001b[0m\n\u001b[1;32m   2677\u001b[0m \u001b[0;34m\u001b[0m\u001b[0m\n",
      "\u001b[0;32m~/miniconda3/envs/SPEEDCOM/lib/python3.6/site-packages/tensorflow/python/client/session.py\u001b[0m in \u001b[0;36m__call__\u001b[0;34m(self, *args, **kwargs)\u001b[0m\n\u001b[1;32m   1380\u001b[0m           ret = tf_session.TF_SessionRunCallable(\n\u001b[1;32m   1381\u001b[0m               \u001b[0mself\u001b[0m\u001b[0;34m.\u001b[0m\u001b[0m_session\u001b[0m\u001b[0;34m.\u001b[0m\u001b[0m_session\u001b[0m\u001b[0;34m,\u001b[0m \u001b[0mself\u001b[0m\u001b[0;34m.\u001b[0m\u001b[0m_handle\u001b[0m\u001b[0;34m,\u001b[0m \u001b[0margs\u001b[0m\u001b[0;34m,\u001b[0m \u001b[0mstatus\u001b[0m\u001b[0;34m,\u001b[0m\u001b[0;34m\u001b[0m\u001b[0;34m\u001b[0m\u001b[0m\n\u001b[0;32m-> 1382\u001b[0;31m               run_metadata_ptr)\n\u001b[0m\u001b[1;32m   1383\u001b[0m         \u001b[0;32mif\u001b[0m \u001b[0mrun_metadata\u001b[0m\u001b[0;34m:\u001b[0m\u001b[0;34m\u001b[0m\u001b[0;34m\u001b[0m\u001b[0m\n\u001b[1;32m   1384\u001b[0m           \u001b[0mproto_data\u001b[0m \u001b[0;34m=\u001b[0m \u001b[0mtf_session\u001b[0m\u001b[0;34m.\u001b[0m\u001b[0mTF_GetBuffer\u001b[0m\u001b[0;34m(\u001b[0m\u001b[0mrun_metadata_ptr\u001b[0m\u001b[0;34m)\u001b[0m\u001b[0;34m\u001b[0m\u001b[0;34m\u001b[0m\u001b[0m\n",
      "\u001b[0;31mKeyboardInterrupt\u001b[0m: "
     ]
    }
   ],
   "source": [
    "history = model.fit(x=X_train, y=y_train, batch_size=128, epochs=25, validation_data=(X_test,y_test))"
   ]
  },
  {
   "cell_type": "code",
   "execution_count": 17,
   "metadata": {},
   "outputs": [
    {
     "name": "stderr",
     "output_type": "stream",
     "text": [
      "/Users/hunting/miniconda3/envs/SPEEDCOM/lib/python3.6/site-packages/matplotlib/figure.py:98: MatplotlibDeprecationWarning: \n",
      "Adding an axes using the same arguments as a previous axes currently reuses the earlier instance.  In a future version, a new instance will always be created and returned.  Meanwhile, this warning can be suppressed, and the future behavior ensured, by passing a unique label to each axes instance.\n",
      "  \"Adding an axes using the same arguments as a previous axes \"\n"
     ]
    },
    {
     "data": {
      "image/png": "[encoded data removed]",
      "text/plain": [
       "<Figure size 720x576 with 2 Axes>"
      ]
     },
     "metadata": {
      "needs_background": "light"
     },
     "output_type": "display_data"
    }
   ],
   "source": [
    "hist = history.history\n",
    "\n",
    "plt.figure(figsize=(10, 8))\n",
    "\n",
    "for label in ['val_coeff_determination','coeff_determination']:\n",
    "    plt.subplot(211)\n",
    "    plt.plot(hist[label], label = label)\n",
    "    plt.legend()\n",
    "    plt.xlabel(\"Epochs\")\n",
    "    plt.ylabel(\"coeff_determination\")\n",
    "    \n",
    "for label in ['val_loss','loss']:\n",
    "    plt.subplot(212)\n",
    "    plt.plot(hist[label], label = label)\n",
    "    plt.legend()\n",
    "    plt.xlabel(\"Epochs\")\n",
    "    plt.ylabel(\"loss\")\n",
    "    \n",
    "plt.subplots_adjust(top=0.8, bottom=0.1, left=0.10, right=0.9, hspace=0.25,\n",
    "                    wspace=0.35)"
   ]
  },
  {
   "cell_type": "code",
   "execution_count": 18,
   "metadata": {},
   "outputs": [
    {
     "data": {
      "image/png": "[encoded data removed]",
      "text/plain": [
       "<Figure size 600x400 with 2 Axes>"
      ]
     },
     "metadata": {
      "needs_background": "light"
     },
     "output_type": "display_data"
    }
   ],
   "source": [
    "ModelUtils.plot_model_error(X_train,X_test,y_train.reshape(1,-1), y_test.reshape(1,-1),model)"
   ]
  },
  {
   "cell_type": "code",
   "execution_count": null,
   "metadata": {},
   "outputs": [],
   "source": []
  },
  {
   "cell_type": "code",
   "execution_count": null,
   "metadata": {},
   "outputs": [],
   "source": []
  },
  {
   "cell_type": "code",
   "execution_count": 210,
   "metadata": {},
   "outputs": [],
   "source": [
    "c_mtx_dict = compute_coulumb_matrixes(data)"
   ]
  },
  {
   "cell_type": "code",
   "execution_count": 211,
   "metadata": {},
   "outputs": [
    {
     "data": {
      "text/plain": [
       "291"
      ]
     },
     "execution_count": 211,
     "metadata": {},
     "output_type": "execute_result"
    }
   ],
   "source": [
    "len(c_mtx_dict)"
   ]
  },
  {
   "cell_type": "code",
   "execution_count": 214,
   "metadata": {},
   "outputs": [],
   "source": [
    "c_mtx = np.array(list(map(np.array, pd.Series(c_mtx_dict))))"
   ]
  },
  {
   "cell_type": "code",
   "execution_count": 217,
   "metadata": {},
   "outputs": [],
   "source": [
    "np.save('coumlomb_matrixes.npy', c_mtx)"
   ]
  },
  {
   "cell_type": "code",
   "execution_count": 219,
   "metadata": {},
   "outputs": [
    {
     "data": {
      "text/plain": [
       "(181, 181)"
      ]
     },
     "execution_count": 219,
     "metadata": {},
     "output_type": "execute_result"
    }
   ],
   "source": [
    "c_mtx[0].shape"
   ]
  },
  {
   "cell_type": "code",
   "execution_count": 507,
   "metadata": {},
   "outputs": [],
   "source": [
    "y = np.array(data['Absorption'])"
   ]
  },
  {
   "cell_type": "code",
   "execution_count": 508,
   "metadata": {},
   "outputs": [
    {
     "name": "stdout",
     "output_type": "stream",
     "text": [
      "(232, 181, 181)\n",
      "(59, 181, 181)\n",
      "(232, 1)\n",
      "(59, 1)\n"
     ]
    }
   ],
   "source": [
    "X_train, X_test, y_train, y_test = DataUtils.splitData(c_mtx, y, ratio=0.20)\n",
    "y_train = np.reshape(y_train, (-1, 1))\n",
    "y_test = np.reshape(y_test, (-1, 1))\n",
    "print(X_train.shape)\n",
    "print(X_test.shape)\n",
    "print(y_train.shape)\n",
    "print(y_test.shape)"
   ]
  },
  {
   "cell_type": "code",
   "execution_count": 315,
   "metadata": {},
   "outputs": [
    {
     "name": "stdout",
     "output_type": "stream",
     "text": [
      "(232, 181, 181, 1)\n",
      "(59, 181, 181, 1)\n",
      "(232, 1)\n",
      "(59, 1)\n"
     ]
    }
   ],
   "source": [
    "X_train = np.expand_dims(X_train,axis=-1)\n",
    "X_test = np.expand_dims(X_test,axis=-1)\n",
    "print(X_train.shape)\n",
    "print(X_test.shape)\n",
    "print(y_train.shape)\n",
    "print(y_test.shape)"
   ]
  },
  {
   "cell_type": "code",
   "execution_count": 341,
   "metadata": {},
   "outputs": [],
   "source": [
    "def coeff_determination(y_true, y_pred):\n",
    "    from keras import backend as K\n",
    "    SS_res =  K.sum(K.square( y_true-y_pred ))\n",
    "    SS_tot = K.sum(K.square( y_true - K.mean(y_true) ) )\n",
    "    return ( 1 - SS_res/(SS_tot + K.epsilon()) )\n",
    "def get_lr_metric(optimizer):\n",
    "    def lr(y_true, y_pred):\n",
    "        return optimizer.lr\n",
    "    return lr"
   ]
  },
  {
   "cell_type": "code",
   "execution_count": 536,
   "metadata": {},
   "outputs": [
    {
     "name": "stdout",
     "output_type": "stream",
     "text": [
      "_________________________________________________________________\n",
      "Layer (type)                 Output Shape              Param #   \n",
      "=================================================================\n",
      "conv2d_86 (Conv2D)           (None, 181, 181, 8)       16        \n",
      "_________________________________________________________________\n",
      "batch_normalization_113 (Bat (None, 181, 181, 8)       32        \n",
      "_________________________________________________________________\n",
      "max_pooling2d_68 (MaxPooling (None, 90, 90, 8)         0         \n",
      "_________________________________________________________________\n",
      "flatten_105 (Flatten)        (None, 64800)             0         \n",
      "_________________________________________________________________\n",
      "dense_386 (Dense)            (None, 1028)              66615428  \n",
      "_________________________________________________________________\n",
      "dropout_101 (Dropout)        (None, 1028)              0         \n",
      "_________________________________________________________________\n",
      "dense_387 (Dense)            (None, 256)               263424    \n",
      "_________________________________________________________________\n",
      "dense_388 (Dense)            (None, 1)                 257       \n",
      "=================================================================\n",
      "Total params: 66,879,157\n",
      "Trainable params: 66,879,141\n",
      "Non-trainable params: 16\n",
      "_________________________________________________________________\n"
     ]
    }
   ],
   "source": [
    "model = Sequential()\n",
    "#model.add(LeakyReLU(alpha=.3))\n",
    "model.add(Conv2D(8, kernel_size=(1,1), activation='relu',input_shape=(181, 181, 1)))\n",
    "model.add(BatchNormalization())\n",
    "model.add(MaxPooling2D(pool_size=(2, 2)))\n",
    "model.add(Flatten())\n",
    "#model.add(Conv2D(4, kernel_size=(16,16), activation='relu',input_shape=(181, 181, 1)))\n",
    "model.add(Dense(1028, activation='relu'))\n",
    "#model.add(Conv2D(4, kernel_size=(3,3), activation='relu'))\n",
    "#model.add(Conv1D(128,8,activation='linear'))\n",
    "#model.add(LeakyReLU(alpha=.3))\n",
    "#model.add(Conv1D(128,4,activation='linear'))\n",
    "\n",
    "#model.add(Dense(250, activation='relu'))\n",
    "#model.add(Dense(250, activation='relu'))\n",
    "#model.add(Dense(512, activation='linear'))\n",
    "#model.add(LeakyReLU(alpha=.3))\n",
    "#model.add(Dense(512, activation='linear'))\n",
    "#model.add(Dense(512, activation='relu'))\n",
    "model.add(Dropout(0.05))\n",
    "model.add(Dense(256, activation='relu'))\n",
    "#model.add(Dropout(0.05))\n",
    "model.add(Dense(1, activation='linear'))\n",
    "model.summary()"
   ]
  },
  {
   "cell_type": "code",
   "execution_count": 534,
   "metadata": {},
   "outputs": [],
   "source": [
    "optimizer = Adam(lr=0.00025)\n",
    "lr_metric = get_lr_metric(optimizer)\n",
    "model.compile(loss=\"mse\", optimizer=optimizer, metrics=[coeff_determination, lr_metric])"
   ]
  },
  {
   "cell_type": "code",
   "execution_count": 523,
   "metadata": {},
   "outputs": [
    {
     "name": "stdout",
     "output_type": "stream",
     "text": [
      "Train on 232 samples, validate on 59 samples\n",
      "Epoch 1/200\n",
      "232/232 [==============================] - 27s 115ms/step - loss: 157403.2360 - coeff_determination: -6.8221 - lr: 2.5000e-04 - val_loss: 156522.8750 - val_coeff_determination: -6.2830 - val_lr: 2.5000e-04\n",
      "Epoch 2/200\n",
      "232/232 [==============================] - 15s 66ms/step - loss: 147590.5706 - coeff_determination: -6.3405 - lr: 2.5000e-04 - val_loss: 143088.4062 - val_coeff_determination: -5.6579 - val_lr: 2.5000e-04\n",
      "Epoch 3/200\n",
      "232/232 [==============================] - 15s 67ms/step - loss: 134134.5525 - coeff_determination: -5.5906 - lr: 2.5000e-04 - val_loss: 125381.1250 - val_coeff_determination: -4.8340 - val_lr: 2.5000e-04\n",
      "Epoch 4/200\n",
      "232/232 [==============================] - 16s 67ms/step - loss: 115964.9141 - coeff_determination: -4.7436 - lr: 2.5000e-04 - val_loss: 104351.6328 - val_coeff_determination: -3.8555 - val_lr: 2.5000e-04\n",
      "Epoch 5/200\n",
      "232/232 [==============================] - 15s 67ms/step - loss: 97090.5035 - coeff_determination: -3.9165 - lr: 2.5000e-04 - val_loss: 79043.0000 - val_coeff_determination: -2.6779 - val_lr: 2.5000e-04\n",
      "Epoch 6/200\n",
      "232/232 [==============================] - 16s 67ms/step - loss: 70813.9613 - coeff_determination: -2.5410 - lr: 2.5000e-04 - val_loss: 53208.8477 - val_coeff_determination: -1.4758 - val_lr: 2.5000e-04\n",
      "Epoch 7/200\n",
      "232/232 [==============================] - 16s 67ms/step - loss: 45739.1371 - coeff_determination: -1.2496 - lr: 2.5000e-04 - val_loss: 33084.1406 - val_coeff_determination: -0.5394 - val_lr: 2.5000e-04\n",
      "Epoch 8/200\n",
      "232/232 [==============================] - 17s 73ms/step - loss: 27869.2654 - coeff_determination: -0.3683 - lr: 2.5000e-04 - val_loss: 25310.0762 - val_coeff_determination: -0.1777 - val_lr: 2.5000e-04\n",
      "Epoch 9/200\n",
      "232/232 [==============================] - 16s 67ms/step - loss: 18203.5628 - coeff_determination: 0.0912 - lr: 2.5000e-04 - val_loss: 31307.3359 - val_coeff_determination: -0.4567 - val_lr: 2.5000e-04\n",
      "Epoch 10/200\n",
      "232/232 [==============================] - 16s 68ms/step - loss: 31891.5423 - coeff_determination: -0.5427 - lr: 2.5000e-04 - val_loss: 39393.0547 - val_coeff_determination: -0.8330 - val_lr: 2.5000e-04\n",
      "Epoch 11/200\n",
      "232/232 [==============================] - 15s 67ms/step - loss: 32053.0787 - coeff_determination: -0.4976 - lr: 2.5000e-04 - val_loss: 29961.5059 - val_coeff_determination: -0.3941 - val_lr: 2.5000e-04\n",
      "Epoch 12/200\n",
      "232/232 [==============================] - 16s 67ms/step - loss: 20456.2966 - coeff_determination: 0.0470 - lr: 2.5000e-04 - val_loss: 22421.3145 - val_coeff_determination: -0.0433 - val_lr: 2.5000e-04\n",
      "Epoch 13/200\n",
      "232/232 [==============================] - 16s 68ms/step - loss: 45478.9786 - coeff_determination: -1.2461 - lr: 2.5000e-04 - val_loss: 18263.8457 - val_coeff_determination: 0.1502 - val_lr: 2.5000e-04\n",
      "Epoch 14/200\n",
      "232/232 [==============================] - 16s 69ms/step - loss: 10863.4869 - coeff_determination: 0.4644 - lr: 2.5000e-04 - val_loss: 17226.3145 - val_coeff_determination: 0.1985 - val_lr: 2.5000e-04\n",
      "Epoch 15/200\n",
      "232/232 [==============================] - 16s 68ms/step - loss: 16378.9269 - coeff_determination: 0.1826 - lr: 2.5000e-04 - val_loss: 18261.1582 - val_coeff_determination: 0.1503 - val_lr: 2.5000e-04\n",
      "Epoch 16/200\n",
      "232/232 [==============================] - 16s 68ms/step - loss: 18384.7992 - coeff_determination: 0.0356 - lr: 2.5000e-04 - val_loss: 18507.6191 - val_coeff_determination: 0.1388 - val_lr: 2.5000e-04\n",
      "Epoch 17/200\n",
      "232/232 [==============================] - 16s 69ms/step - loss: 14719.9449 - coeff_determination: 0.2748 - lr: 2.5000e-04 - val_loss: 18175.1191 - val_coeff_determination: 0.1543 - val_lr: 2.5000e-04\n",
      "Epoch 18/200\n",
      "232/232 [==============================] - 16s 67ms/step - loss: 12856.4218 - coeff_determination: 0.3502 - lr: 2.5000e-04 - val_loss: 17462.1230 - val_coeff_determination: 0.1875 - val_lr: 2.5000e-04\n",
      "Epoch 19/200\n",
      "232/232 [==============================] - 16s 67ms/step - loss: 12346.2704 - coeff_determination: 0.4040 - lr: 2.5000e-04 - val_loss: 16709.3066 - val_coeff_determination: 0.2225 - val_lr: 2.5000e-04\n",
      "Epoch 20/200\n",
      "232/232 [==============================] - 16s 67ms/step - loss: 13810.6155 - coeff_determination: 0.3287 - lr: 2.5000e-04 - val_loss: 16566.4297 - val_coeff_determination: 0.2292 - val_lr: 2.5000e-04\n",
      "Epoch 21/200\n",
      "232/232 [==============================] - 16s 67ms/step - loss: 9312.0790 - coeff_determination: 0.5555 - lr: 2.5000e-04 - val_loss: 16906.0215 - val_coeff_determination: 0.2134 - val_lr: 2.5000e-04\n",
      "Epoch 22/200\n",
      "232/232 [==============================] - 16s 68ms/step - loss: 15510.2307 - coeff_determination: 0.2386 - lr: 2.5000e-04 - val_loss: 17102.9395 - val_coeff_determination: 0.2042 - val_lr: 2.5000e-04\n",
      "Epoch 23/200\n",
      "232/232 [==============================] - 16s 67ms/step - loss: 11266.1092 - coeff_determination: 0.4457 - lr: 2.5000e-04 - val_loss: 17160.5684 - val_coeff_determination: 0.2015 - val_lr: 2.5000e-04\n",
      "Epoch 24/200\n",
      "232/232 [==============================] - 16s 68ms/step - loss: 8644.5571 - coeff_determination: 0.5658 - lr: 2.5000e-04 - val_loss: 16897.5391 - val_coeff_determination: 0.2138 - val_lr: 2.5000e-04\n",
      "Epoch 25/200\n",
      "232/232 [==============================] - 16s 68ms/step - loss: 9231.4472 - coeff_determination: 0.5438 - lr: 2.5000e-04 - val_loss: 16438.3594 - val_coeff_determination: 0.2351 - val_lr: 2.5000e-04\n",
      "Epoch 26/200\n",
      "232/232 [==============================] - 16s 68ms/step - loss: 7808.6971 - coeff_determination: 0.6174 - lr: 2.5000e-04 - val_loss: 15699.7510 - val_coeff_determination: 0.2695 - val_lr: 2.5000e-04\n",
      "Epoch 27/200\n",
      "232/232 [==============================] - 16s 67ms/step - loss: 9910.9229 - coeff_determination: 0.5102 - lr: 2.5000e-04 - val_loss: 15135.5723 - val_coeff_determination: 0.2957 - val_lr: 2.5000e-04\n",
      "Epoch 28/200\n",
      "232/232 [==============================] - 16s 69ms/step - loss: 6521.5646 - coeff_determination: 0.6778 - lr: 2.5000e-04 - val_loss: 14794.6680 - val_coeff_determination: 0.3116 - val_lr: 2.5000e-04\n",
      "Epoch 29/200\n",
      "232/232 [==============================] - 16s 69ms/step - loss: 9386.7867 - coeff_determination: 0.5434 - lr: 2.5000e-04 - val_loss: 14507.7012 - val_coeff_determination: 0.3250 - val_lr: 2.5000e-04\n",
      "Epoch 30/200\n",
      "232/232 [==============================] - 16s 69ms/step - loss: 7387.9117 - coeff_determination: 0.6371 - lr: 2.5000e-04 - val_loss: 14371.5303 - val_coeff_determination: 0.3313 - val_lr: 2.5000e-04\n",
      "Epoch 31/200\n",
      "232/232 [==============================] - 16s 68ms/step - loss: 6081.5332 - coeff_determination: 0.7010 - lr: 2.5000e-04 - val_loss: 14484.3633 - val_coeff_determination: 0.3260 - val_lr: 2.5000e-04\n",
      "Epoch 32/200\n",
      "232/232 [==============================] - 16s 68ms/step - loss: 7014.8725 - coeff_determination: 0.6555 - lr: 2.5000e-04 - val_loss: 14552.1660 - val_coeff_determination: 0.3229 - val_lr: 2.5000e-04\n",
      "Epoch 33/200\n",
      "232/232 [==============================] - 16s 69ms/step - loss: 10652.6505 - coeff_determination: 0.4648 - lr: 2.5000e-04 - val_loss: 14690.8281 - val_coeff_determination: 0.3164 - val_lr: 2.5000e-04\n",
      "Epoch 34/200\n",
      "232/232 [==============================] - 16s 68ms/step - loss: 7800.4458 - coeff_determination: 0.6161 - lr: 2.5000e-04 - val_loss: 15122.9287 - val_coeff_determination: 0.2963 - val_lr: 2.5000e-04\n",
      "Epoch 35/200\n",
      "232/232 [==============================] - 16s 68ms/step - loss: 9751.0969 - coeff_determination: 0.5221 - lr: 2.5000e-04 - val_loss: 15748.0791 - val_coeff_determination: 0.2672 - val_lr: 2.5000e-04\n",
      "Epoch 36/200\n",
      "232/232 [==============================] - 16s 70ms/step - loss: 4918.4715 - coeff_determination: 0.7585 - lr: 2.5000e-04 - val_loss: 16062.3682 - val_coeff_determination: 0.2526 - val_lr: 2.5000e-04\n",
      "Epoch 37/200\n",
      "232/232 [==============================] - 16s 69ms/step - loss: 7056.8718 - coeff_determination: 0.6437 - lr: 2.5000e-04 - val_loss: 16425.6113 - val_coeff_determination: 0.2357 - val_lr: 2.5000e-04\n",
      "Epoch 38/200\n",
      "232/232 [==============================] - 16s 68ms/step - loss: 6650.6715 - coeff_determination: 0.6719 - lr: 2.5000e-04 - val_loss: 16339.4160 - val_coeff_determination: 0.2397 - val_lr: 2.5000e-04\n",
      "Epoch 39/200\n"
     ]
    },
    {
     "name": "stdout",
     "output_type": "stream",
     "text": [
      "232/232 [==============================] - 16s 68ms/step - loss: 5125.6014 - coeff_determination: 0.7474 - lr: 2.5000e-04 - val_loss: 16139.9170 - val_coeff_determination: 0.2490 - val_lr: 2.5000e-04\n",
      "Epoch 40/200\n",
      "232/232 [==============================] - 16s 68ms/step - loss: 5333.2645 - coeff_determination: 0.7290 - lr: 2.5000e-04 - val_loss: 15750.3682 - val_coeff_determination: 0.2671 - val_lr: 2.5000e-04\n",
      "Epoch 41/200\n",
      "232/232 [==============================] - 16s 68ms/step - loss: 5455.7812 - coeff_determination: 0.7248 - lr: 2.5000e-04 - val_loss: 15415.2012 - val_coeff_determination: 0.2827 - val_lr: 2.5000e-04\n",
      "Epoch 42/200\n",
      "232/232 [==============================] - 16s 68ms/step - loss: 4525.1022 - coeff_determination: 0.7753 - lr: 2.5000e-04 - val_loss: 15098.6221 - val_coeff_determination: 0.2975 - val_lr: 2.5000e-04\n",
      "Epoch 43/200\n",
      "232/232 [==============================] - 16s 68ms/step - loss: 4549.2378 - coeff_determination: 0.7752 - lr: 2.5000e-04 - val_loss: 14880.8242 - val_coeff_determination: 0.3076 - val_lr: 2.5000e-04\n",
      "Epoch 44/200\n",
      "232/232 [==============================] - 16s 70ms/step - loss: 4498.1725 - coeff_determination: 0.7790 - lr: 2.5000e-04 - val_loss: 14882.7021 - val_coeff_determination: 0.3075 - val_lr: 2.5000e-04\n",
      "Epoch 45/200\n",
      "232/232 [==============================] - 16s 68ms/step - loss: 8175.8497 - coeff_determination: 0.5864 - lr: 2.5000e-04 - val_loss: 15209.2871 - val_coeff_determination: 0.2923 - val_lr: 2.5000e-04\n",
      "Epoch 46/200\n",
      "232/232 [==============================] - 16s 67ms/step - loss: 4509.4937 - coeff_determination: 0.7775 - lr: 2.5000e-04 - val_loss: 15276.3164 - val_coeff_determination: 0.2892 - val_lr: 2.5000e-04\n",
      "Epoch 47/200\n",
      "232/232 [==============================] - 16s 68ms/step - loss: 13680.7760 - coeff_determination: 0.3685 - lr: 2.5000e-04 - val_loss: 15557.9824 - val_coeff_determination: 0.2761 - val_lr: 2.5000e-04\n",
      "Epoch 48/200\n",
      "232/232 [==============================] - 16s 68ms/step - loss: 4924.9062 - coeff_determination: 0.7567 - lr: 2.5000e-04 - val_loss: 15568.5352 - val_coeff_determination: 0.2756 - val_lr: 2.5000e-04\n",
      "Epoch 49/200\n",
      "232/232 [==============================] - 16s 67ms/step - loss: 4114.1171 - coeff_determination: 0.7968 - lr: 2.5000e-04 - val_loss: 15564.6084 - val_coeff_determination: 0.2758 - val_lr: 2.5000e-04\n",
      "Epoch 50/200\n",
      "232/232 [==============================] - 16s 68ms/step - loss: 5334.1245 - coeff_determination: 0.7378 - lr: 2.5000e-04 - val_loss: 15576.1992 - val_coeff_determination: 0.2752 - val_lr: 2.5000e-04\n",
      "Epoch 51/200\n",
      "232/232 [==============================] - 16s 67ms/step - loss: 4052.2654 - coeff_determination: 0.8023 - lr: 2.5000e-04 - val_loss: 15435.7568 - val_coeff_determination: 0.2818 - val_lr: 2.5000e-04\n",
      "Epoch 52/200\n",
      "232/232 [==============================] - 16s 69ms/step - loss: 6467.5842 - coeff_determination: 0.6825 - lr: 2.5000e-04 - val_loss: 15375.5557 - val_coeff_determination: 0.2846 - val_lr: 2.5000e-04\n",
      "Epoch 53/200\n",
      "232/232 [==============================] - 16s 68ms/step - loss: 3960.9644 - coeff_determination: 0.8050 - lr: 2.5000e-04 - val_loss: 15410.2881 - val_coeff_determination: 0.2830 - val_lr: 2.5000e-04\n",
      "Epoch 54/200\n",
      "232/232 [==============================] - 16s 68ms/step - loss: 4276.3720 - coeff_determination: 0.7839 - lr: 2.5000e-04 - val_loss: 15557.4150 - val_coeff_determination: 0.2761 - val_lr: 2.5000e-04\n",
      "Epoch 55/200\n",
      "232/232 [==============================] - 16s 69ms/step - loss: 3919.7029 - coeff_determination: 0.7984 - lr: 2.5000e-04 - val_loss: 15807.9590 - val_coeff_determination: 0.2645 - val_lr: 2.5000e-04\n",
      "Epoch 56/200\n",
      "232/232 [==============================] - 16s 67ms/step - loss: 4907.3515 - coeff_determination: 0.7537 - lr: 2.5000e-04 - val_loss: 16159.0273 - val_coeff_determination: 0.2481 - val_lr: 2.5000e-04\n",
      "Epoch 57/200\n",
      "232/232 [==============================] - 16s 68ms/step - loss: 4888.0759 - coeff_determination: 0.7585 - lr: 2.5000e-04 - val_loss: 16548.0137 - val_coeff_determination: 0.2300 - val_lr: 2.5000e-04\n",
      "Epoch 58/200\n",
      "232/232 [==============================] - 16s 67ms/step - loss: 3584.0360 - coeff_determination: 0.8222 - lr: 2.5000e-04 - val_loss: 16669.2480 - val_coeff_determination: 0.2244 - val_lr: 2.5000e-04\n",
      "Epoch 59/200\n",
      "232/232 [==============================] - 16s 69ms/step - loss: 3403.7876 - coeff_determination: 0.8308 - lr: 2.5000e-04 - val_loss: 16604.2090 - val_coeff_determination: 0.2274 - val_lr: 2.5000e-04\n",
      "Epoch 60/200\n",
      "232/232 [==============================] - 16s 68ms/step - loss: 3451.3933 - coeff_determination: 0.8295 - lr: 2.5000e-04 - val_loss: 16333.0781 - val_coeff_determination: 0.2400 - val_lr: 2.5000e-04\n",
      "Epoch 61/200\n",
      "232/232 [==============================] - 16s 67ms/step - loss: 5426.3986 - coeff_determination: 0.7393 - lr: 2.5000e-04 - val_loss: 16034.8027 - val_coeff_determination: 0.2539 - val_lr: 2.5000e-04\n",
      "Epoch 62/200\n",
      "232/232 [==============================] - 16s 69ms/step - loss: 3350.2938 - coeff_determination: 0.8308 - lr: 2.5000e-04 - val_loss: 15699.3838 - val_coeff_determination: 0.2695 - val_lr: 2.5000e-04\n",
      "Epoch 63/200\n",
      "232/232 [==============================] - 16s 68ms/step - loss: 4438.1730 - coeff_determination: 0.7648 - lr: 2.5000e-04 - val_loss: 15376.7373 - val_coeff_determination: 0.2845 - val_lr: 2.5000e-04\n",
      "Epoch 64/200\n",
      "232/232 [==============================] - 16s 67ms/step - loss: 4134.5637 - coeff_determination: 0.7945 - lr: 2.5000e-04 - val_loss: 15025.0410 - val_coeff_determination: 0.3009 - val_lr: 2.5000e-04\n",
      "Epoch 65/200\n",
      "232/232 [==============================] - 16s 67ms/step - loss: 4407.6594 - coeff_determination: 0.7828 - lr: 2.5000e-04 - val_loss: 15028.0391 - val_coeff_determination: 0.3007 - val_lr: 2.5000e-04\n",
      "Epoch 66/200\n",
      "232/232 [==============================] - 16s 67ms/step - loss: 3199.4860 - coeff_determination: 0.8372 - lr: 2.5000e-04 - val_loss: 15523.3408 - val_coeff_determination: 0.2777 - val_lr: 2.5000e-04\n",
      "Epoch 67/200\n",
      "232/232 [==============================] - 16s 69ms/step - loss: 3625.7344 - coeff_determination: 0.8221 - lr: 2.5000e-04 - val_loss: 15813.8506 - val_coeff_determination: 0.2642 - val_lr: 2.5000e-04\n",
      "Epoch 68/200\n",
      "232/232 [==============================] - 16s 68ms/step - loss: 3606.7840 - coeff_determination: 0.8231 - lr: 2.5000e-04 - val_loss: 16132.8701 - val_coeff_determination: 0.2493 - val_lr: 2.5000e-04\n",
      "Epoch 69/200\n",
      "232/232 [==============================] - 16s 68ms/step - loss: 4067.4575 - coeff_determination: 0.7999 - lr: 2.5000e-04 - val_loss: 16850.4355 - val_coeff_determination: 0.2159 - val_lr: 2.5000e-04\n",
      "Epoch 70/200\n",
      "232/232 [==============================] - 16s 68ms/step - loss: 3131.1401 - coeff_determination: 0.8456 - lr: 2.5000e-04 - val_loss: 17271.8203 - val_coeff_determination: 0.1963 - val_lr: 2.5000e-04\n",
      "Epoch 71/200\n",
      "232/232 [==============================] - 16s 68ms/step - loss: 4196.5091 - coeff_determination: 0.7940 - lr: 2.5000e-04 - val_loss: 16289.9893 - val_coeff_determination: 0.2420 - val_lr: 2.5000e-04\n",
      "Epoch 72/200\n",
      "232/232 [==============================] - 16s 67ms/step - loss: 2778.3617 - coeff_determination: 0.8636 - lr: 2.5000e-04 - val_loss: 15884.0791 - val_coeff_determination: 0.2609 - val_lr: 2.5000e-04\n",
      "Epoch 73/200\n",
      "232/232 [==============================] - 16s 67ms/step - loss: 2565.4552 - coeff_determination: 0.8743 - lr: 2.5000e-04 - val_loss: 15685.2031 - val_coeff_determination: 0.2702 - val_lr: 2.5000e-04\n",
      "Epoch 74/200\n",
      "232/232 [==============================] - 16s 68ms/step - loss: 4135.1271 - coeff_determination: 0.7968 - lr: 2.5000e-04 - val_loss: 15523.8623 - val_coeff_determination: 0.2777 - val_lr: 2.5000e-04\n",
      "Epoch 75/200\n",
      "232/232 [==============================] - 16s 69ms/step - loss: 2523.8500 - coeff_determination: 0.8748 - lr: 2.5000e-04 - val_loss: 15557.0010 - val_coeff_determination: 0.2761 - val_lr: 2.5000e-04\n",
      "Epoch 76/200\n",
      "232/232 [==============================] - 16s 67ms/step - loss: 2620.5444 - coeff_determination: 0.8704 - lr: 2.5000e-04 - val_loss: 15983.3223 - val_coeff_determination: 0.2563 - val_lr: 2.5000e-04\n",
      "Epoch 77/200\n"
     ]
    },
    {
     "name": "stdout",
     "output_type": "stream",
     "text": [
      "232/232 [==============================] - 16s 69ms/step - loss: 3494.5369 - coeff_determination: 0.8245 - lr: 2.5000e-04 - val_loss: 15931.1533 - val_coeff_determination: 0.2587 - val_lr: 2.5000e-04\n",
      "Epoch 78/200\n",
      "232/232 [==============================] - 16s 68ms/step - loss: 3458.1860 - coeff_determination: 0.8298 - lr: 2.5000e-04 - val_loss: 16068.6025 - val_coeff_determination: 0.2523 - val_lr: 2.5000e-04\n",
      "Epoch 79/200\n",
      "232/232 [==============================] - 15s 67ms/step - loss: 3059.7369 - coeff_determination: 0.8479 - lr: 2.5000e-04 - val_loss: 16447.4512 - val_coeff_determination: 0.2347 - val_lr: 2.5000e-04\n",
      "Epoch 80/200\n",
      "232/232 [==============================] - 16s 68ms/step - loss: 2517.0719 - coeff_determination: 0.8760 - lr: 2.5000e-04 - val_loss: 16708.7949 - val_coeff_determination: 0.2225 - val_lr: 2.5000e-04\n",
      "Epoch 81/200\n",
      "232/232 [==============================] - 16s 67ms/step - loss: 2966.0423 - coeff_determination: 0.8528 - lr: 2.5000e-04 - val_loss: 16813.2441 - val_coeff_determination: 0.2177 - val_lr: 2.5000e-04\n",
      "Epoch 82/200\n",
      "232/232 [==============================] - 16s 68ms/step - loss: 2406.2162 - coeff_determination: 0.8819 - lr: 2.5000e-04 - val_loss: 15995.1992 - val_coeff_determination: 0.2557 - val_lr: 2.5000e-04\n",
      "Epoch 83/200\n",
      "232/232 [==============================] - 16s 67ms/step - loss: 3163.7768 - coeff_determination: 0.8471 - lr: 2.5000e-04 - val_loss: 15334.7070 - val_coeff_determination: 0.2865 - val_lr: 2.5000e-04\n",
      "Epoch 84/200\n",
      "232/232 [==============================] - 16s 67ms/step - loss: 2360.4435 - coeff_determination: 0.8816 - lr: 2.5000e-04 - val_loss: 14635.6973 - val_coeff_determination: 0.3190 - val_lr: 2.5000e-04\n",
      "Epoch 85/200\n",
      "232/232 [==============================] - 16s 68ms/step - loss: 2473.8591 - coeff_determination: 0.8761 - lr: 2.5000e-04 - val_loss: 14274.0381 - val_coeff_determination: 0.3358 - val_lr: 2.5000e-04\n",
      "Epoch 86/200\n",
      "232/232 [==============================] - 16s 68ms/step - loss: 2520.4350 - coeff_determination: 0.8746 - lr: 2.5000e-04 - val_loss: 14229.6133 - val_coeff_determination: 0.3379 - val_lr: 2.5000e-04\n",
      "Epoch 87/200\n",
      "232/232 [==============================] - 16s 67ms/step - loss: 3495.9081 - coeff_determination: 0.8118 - lr: 2.5000e-04 - val_loss: 14599.2412 - val_coeff_determination: 0.3207 - val_lr: 2.5000e-04\n",
      "Epoch 88/200\n",
      "232/232 [==============================] - 16s 67ms/step - loss: 2024.0588 - coeff_determination: 0.9003 - lr: 2.5000e-04 - val_loss: 15032.3125 - val_coeff_determination: 0.3005 - val_lr: 2.5000e-04\n",
      "Epoch 89/200\n",
      "232/232 [==============================] - 16s 67ms/step - loss: 2157.9389 - coeff_determination: 0.8903 - lr: 2.5000e-04 - val_loss: 15879.4248 - val_coeff_determination: 0.2611 - val_lr: 2.5000e-04\n",
      "Epoch 90/200\n",
      "232/232 [==============================] - 16s 68ms/step - loss: 2701.2055 - coeff_determination: 0.8678 - lr: 2.5000e-04 - val_loss: 16415.8770 - val_coeff_determination: 0.2362 - val_lr: 2.5000e-04\n",
      "Epoch 91/200\n",
      "232/232 [==============================] - 16s 68ms/step - loss: 2329.8867 - coeff_determination: 0.8842 - lr: 2.5000e-04 - val_loss: 16637.8613 - val_coeff_determination: 0.2258 - val_lr: 2.5000e-04\n",
      "Epoch 92/200\n",
      "232/232 [==============================] - 16s 68ms/step - loss: 2260.0148 - coeff_determination: 0.8890 - lr: 2.5000e-04 - val_loss: 16521.4492 - val_coeff_determination: 0.2313 - val_lr: 2.5000e-04\n",
      "Epoch 93/200\n",
      "232/232 [==============================] - 16s 68ms/step - loss: 2720.6595 - coeff_determination: 0.8627 - lr: 2.5000e-04 - val_loss: 16273.2607 - val_coeff_determination: 0.2428 - val_lr: 2.5000e-04\n",
      "Epoch 94/200\n",
      "232/232 [==============================] - 16s 68ms/step - loss: 2284.7457 - coeff_determination: 0.8834 - lr: 2.5000e-04 - val_loss: 16131.0430 - val_coeff_determination: 0.2494 - val_lr: 2.5000e-04\n",
      "Epoch 95/200\n",
      "232/232 [==============================] - 16s 67ms/step - loss: 2342.5010 - coeff_determination: 0.8836 - lr: 2.5000e-04 - val_loss: 15997.2100 - val_coeff_determination: 0.2557 - val_lr: 2.5000e-04\n",
      "Epoch 96/200\n",
      "232/232 [==============================] - 16s 67ms/step - loss: 2178.5472 - coeff_determination: 0.8930 - lr: 2.5000e-04 - val_loss: 15677.6797 - val_coeff_determination: 0.2705 - val_lr: 2.5000e-04\n",
      "Epoch 97/200\n",
      "232/232 [==============================] - 16s 68ms/step - loss: 2765.9766 - coeff_determination: 0.8538 - lr: 2.5000e-04 - val_loss: 15185.5801 - val_coeff_determination: 0.2934 - val_lr: 2.5000e-04\n",
      "Epoch 98/200\n",
      "232/232 [==============================] - 16s 67ms/step - loss: 1975.6013 - coeff_determination: 0.9025 - lr: 2.5000e-04 - val_loss: 14884.4297 - val_coeff_determination: 0.3074 - val_lr: 2.5000e-04\n",
      "Epoch 99/200\n",
      "232/232 [==============================] - 16s 67ms/step - loss: 2395.8126 - coeff_determination: 0.8826 - lr: 2.5000e-04 - val_loss: 14980.9951 - val_coeff_determination: 0.3029 - val_lr: 2.5000e-04\n",
      "Epoch 100/200\n",
      "232/232 [==============================] - 16s 67ms/step - loss: 1796.7845 - coeff_determination: 0.9107 - lr: 2.5000e-04 - val_loss: 15180.1533 - val_coeff_determination: 0.2937 - val_lr: 2.5000e-04\n",
      "Epoch 101/200\n",
      "232/232 [==============================] - 16s 67ms/step - loss: 2120.6874 - coeff_determination: 0.8955 - lr: 2.5000e-04 - val_loss: 15754.0557 - val_coeff_determination: 0.2670 - val_lr: 2.5000e-04\n",
      "Epoch 102/200\n",
      "232/232 [==============================] - 16s 67ms/step - loss: 1892.6677 - coeff_determination: 0.9074 - lr: 2.5000e-04 - val_loss: 16691.5430 - val_coeff_determination: 0.2233 - val_lr: 2.5000e-04\n",
      "Epoch 103/200\n",
      "232/232 [==============================] - 16s 68ms/step - loss: 2181.1151 - coeff_determination: 0.8903 - lr: 2.5000e-04 - val_loss: 16952.7031 - val_coeff_determination: 0.2112 - val_lr: 2.5000e-04\n",
      "Epoch 104/200\n",
      "232/232 [==============================] - 16s 67ms/step - loss: 3363.5477 - coeff_determination: 0.8440 - lr: 2.5000e-04 - val_loss: 16552.5273 - val_coeff_determination: 0.2298 - val_lr: 2.5000e-04\n",
      "Epoch 105/200\n",
      "232/232 [==============================] - 16s 67ms/step - loss: 2413.8096 - coeff_determination: 0.8808 - lr: 2.5000e-04 - val_loss: 16783.2910 - val_coeff_determination: 0.2191 - val_lr: 2.5000e-04\n",
      "Epoch 106/200\n",
      "232/232 [==============================] - 16s 67ms/step - loss: 2078.6536 - coeff_determination: 0.8971 - lr: 2.5000e-04 - val_loss: 16670.7988 - val_coeff_determination: 0.2243 - val_lr: 2.5000e-04\n",
      "Epoch 107/200\n",
      "232/232 [==============================] - 16s 67ms/step - loss: 4124.4303 - coeff_determination: 0.7985 - lr: 2.5000e-04 - val_loss: 16329.8955 - val_coeff_determination: 0.2402 - val_lr: 2.5000e-04\n",
      "Epoch 108/200\n",
      "232/232 [==============================] - 16s 67ms/step - loss: 2460.8165 - coeff_determination: 0.8789 - lr: 2.5000e-04 - val_loss: 15567.3174 - val_coeff_determination: 0.2757 - val_lr: 2.5000e-04\n",
      "Epoch 109/200\n",
      "232/232 [==============================] - 16s 68ms/step - loss: 3172.1928 - coeff_determination: 0.8323 - lr: 2.5000e-04 - val_loss: 15897.6338 - val_coeff_determination: 0.2603 - val_lr: 2.5000e-04\n",
      "Epoch 110/200\n",
      "232/232 [==============================] - 16s 68ms/step - loss: 3474.5849 - coeff_determination: 0.8283 - lr: 2.5000e-04 - val_loss: 16150.5820 - val_coeff_determination: 0.2485 - val_lr: 2.5000e-04\n",
      "Epoch 111/200\n",
      "232/232 [==============================] - 16s 67ms/step - loss: 2393.2644 - coeff_determination: 0.8813 - lr: 2.5000e-04 - val_loss: 15735.4629 - val_coeff_determination: 0.2678 - val_lr: 2.5000e-04\n",
      "Epoch 112/200\n",
      "232/232 [==============================] - 16s 68ms/step - loss: 1896.9168 - coeff_determination: 0.9070 - lr: 2.5000e-04 - val_loss: 15840.5742 - val_coeff_determination: 0.2629 - val_lr: 2.5000e-04\n",
      "Epoch 113/200\n",
      "232/232 [==============================] - 16s 69ms/step - loss: 2282.2155 - coeff_determination: 0.8824 - lr: 2.5000e-04 - val_loss: 16131.2627 - val_coeff_determination: 0.2494 - val_lr: 2.5000e-04\n",
      "Epoch 114/200\n",
      "232/232 [==============================] - 16s 67ms/step - loss: 1953.1175 - coeff_determination: 0.9039 - lr: 2.5000e-04 - val_loss: 15837.0654 - val_coeff_determination: 0.2631 - val_lr: 2.5000e-04\n",
      "Epoch 115/200\n"
     ]
    },
    {
     "name": "stdout",
     "output_type": "stream",
     "text": [
      "232/232 [==============================] - 16s 68ms/step - loss: 2505.7790 - coeff_determination: 0.8773 - lr: 2.5000e-04 - val_loss: 15674.2871 - val_coeff_determination: 0.2707 - val_lr: 2.5000e-04\n",
      "Epoch 116/200\n",
      "232/232 [==============================] - 16s 67ms/step - loss: 1561.1522 - coeff_determination: 0.9232 - lr: 2.5000e-04 - val_loss: 16181.4326 - val_coeff_determination: 0.2471 - val_lr: 2.5000e-04\n",
      "Epoch 117/200\n",
      "232/232 [==============================] - 16s 67ms/step - loss: 1730.1229 - coeff_determination: 0.9152 - lr: 2.5000e-04 - val_loss: 16921.4141 - val_coeff_determination: 0.2126 - val_lr: 2.5000e-04\n",
      "Epoch 118/200\n",
      "232/232 [==============================] - 16s 67ms/step - loss: 1814.1399 - coeff_determination: 0.9087 - lr: 2.5000e-04 - val_loss: 16845.7363 - val_coeff_determination: 0.2162 - val_lr: 2.5000e-04\n",
      "Epoch 119/200\n",
      "232/232 [==============================] - 16s 67ms/step - loss: 1550.9865 - coeff_determination: 0.9234 - lr: 2.5000e-04 - val_loss: 16027.0635 - val_coeff_determination: 0.2543 - val_lr: 2.5000e-04\n",
      "Epoch 120/200\n",
      "232/232 [==============================] - 16s 67ms/step - loss: 1603.8388 - coeff_determination: 0.9211 - lr: 2.5000e-04 - val_loss: 15387.4082 - val_coeff_determination: 0.2840 - val_lr: 2.5000e-04\n",
      "Epoch 121/200\n",
      "232/232 [==============================] - 16s 68ms/step - loss: 3020.0946 - coeff_determination: 0.8542 - lr: 2.5000e-04 - val_loss: 15155.3457 - val_coeff_determination: 0.2948 - val_lr: 2.5000e-04\n",
      "Epoch 122/200\n",
      "232/232 [==============================] - 15s 67ms/step - loss: 3252.4796 - coeff_determination: 0.8344 - lr: 2.5000e-04 - val_loss: 14866.0967 - val_coeff_determination: 0.3083 - val_lr: 2.5000e-04\n",
      "Epoch 123/200\n",
      "232/232 [==============================] - 16s 67ms/step - loss: 1693.6357 - coeff_determination: 0.9167 - lr: 2.5000e-04 - val_loss: 15253.9463 - val_coeff_determination: 0.2902 - val_lr: 2.5000e-04\n",
      "Epoch 124/200\n",
      "232/232 [==============================] - 16s 68ms/step - loss: 1709.2066 - coeff_determination: 0.9150 - lr: 2.5000e-04 - val_loss: 15139.0586 - val_coeff_determination: 0.2956 - val_lr: 2.5000e-04\n",
      "Epoch 125/200\n",
      "232/232 [==============================] - 15s 67ms/step - loss: 1848.4201 - coeff_determination: 0.9093 - lr: 2.5000e-04 - val_loss: 15032.8838 - val_coeff_determination: 0.3005 - val_lr: 2.5000e-04\n",
      "Epoch 126/200\n",
      "232/232 [==============================] - 16s 67ms/step - loss: 1473.7593 - coeff_determination: 0.9266 - lr: 2.5000e-04 - val_loss: 15153.4199 - val_coeff_determination: 0.2949 - val_lr: 2.5000e-04\n",
      "Epoch 127/200\n",
      "232/232 [==============================] - 15s 67ms/step - loss: 1942.5592 - coeff_determination: 0.9013 - lr: 2.5000e-04 - val_loss: 15264.0771 - val_coeff_determination: 0.2898 - val_lr: 2.5000e-04\n",
      "Epoch 128/200\n",
      "232/232 [==============================] - 16s 68ms/step - loss: 1309.6485 - coeff_determination: 0.9333 - lr: 2.5000e-04 - val_loss: 15734.7705 - val_coeff_determination: 0.2679 - val_lr: 2.5000e-04\n",
      "Epoch 129/200\n",
      "232/232 [==============================] - 16s 67ms/step - loss: 1671.6841 - coeff_determination: 0.9149 - lr: 2.5000e-04 - val_loss: 16596.1738 - val_coeff_determination: 0.2278 - val_lr: 2.5000e-04\n",
      "Epoch 130/200\n",
      "232/232 [==============================] - 16s 67ms/step - loss: 1966.1133 - coeff_determination: 0.9025 - lr: 2.5000e-04 - val_loss: 16643.6777 - val_coeff_determination: 0.2256 - val_lr: 2.5000e-04\n",
      "Epoch 131/200\n",
      "232/232 [==============================] - 15s 67ms/step - loss: 2942.4018 - coeff_determination: 0.8518 - lr: 2.5000e-04 - val_loss: 15864.6465 - val_coeff_determination: 0.2618 - val_lr: 2.5000e-04\n",
      "Epoch 132/200\n",
      "232/232 [==============================] - 16s 68ms/step - loss: 1477.9411 - coeff_determination: 0.9275 - lr: 2.5000e-04 - val_loss: 14751.1543 - val_coeff_determination: 0.3136 - val_lr: 2.5000e-04\n",
      "Epoch 133/200\n",
      "232/232 [==============================] - 15s 66ms/step - loss: 1749.6558 - coeff_determination: 0.9138 - lr: 2.5000e-04 - val_loss: 14145.0498 - val_coeff_determination: 0.3418 - val_lr: 2.5000e-04\n",
      "Epoch 134/200\n",
      "232/232 [==============================] - 16s 67ms/step - loss: 1207.7672 - coeff_determination: 0.9406 - lr: 2.5000e-04 - val_loss: 14023.8516 - val_coeff_determination: 0.3475 - val_lr: 2.5000e-04\n",
      "Epoch 135/200\n",
      "232/232 [==============================] - 15s 67ms/step - loss: 1408.2214 - coeff_determination: 0.9301 - lr: 2.5000e-04 - val_loss: 14315.6963 - val_coeff_determination: 0.3339 - val_lr: 2.5000e-04\n",
      "Epoch 136/200\n",
      "232/232 [==============================] - 16s 67ms/step - loss: 2201.4501 - coeff_determination: 0.8917 - lr: 2.5000e-04 - val_loss: 14888.3555 - val_coeff_determination: 0.3072 - val_lr: 2.5000e-04\n",
      "Epoch 137/200\n",
      "232/232 [==============================] - 16s 67ms/step - loss: 1138.8556 - coeff_determination: 0.9441 - lr: 2.5000e-04 - val_loss: 15683.8994 - val_coeff_determination: 0.2702 - val_lr: 2.5000e-04\n",
      "Epoch 138/200\n",
      "232/232 [==============================] - 15s 66ms/step - loss: 3425.5996 - coeff_determination: 0.8346 - lr: 2.5000e-04 - val_loss: 16220.1523 - val_coeff_determination: 0.2453 - val_lr: 2.5000e-04\n",
      "Epoch 139/200\n",
      "232/232 [==============================] - 15s 66ms/step - loss: 1415.2491 - coeff_determination: 0.9305 - lr: 2.5000e-04 - val_loss: 15787.6523 - val_coeff_determination: 0.2654 - val_lr: 2.5000e-04\n",
      "Epoch 140/200\n",
      "232/232 [==============================] - 16s 67ms/step - loss: 1073.3200 - coeff_determination: 0.9480 - lr: 2.5000e-04 - val_loss: 15359.9980 - val_coeff_determination: 0.2853 - val_lr: 2.5000e-04\n",
      "Epoch 141/200\n",
      "232/232 [==============================] - 16s 67ms/step - loss: 1717.9318 - coeff_determination: 0.9164 - lr: 2.5000e-04 - val_loss: 14687.0547 - val_coeff_determination: 0.3166 - val_lr: 2.5000e-04\n",
      "Epoch 142/200\n",
      "232/232 [==============================] - 15s 66ms/step - loss: 1386.2379 - coeff_determination: 0.9320 - lr: 2.5000e-04 - val_loss: 14484.6377 - val_coeff_determination: 0.3260 - val_lr: 2.5000e-04\n",
      "Epoch 143/200\n",
      "232/232 [==============================] - 15s 66ms/step - loss: 1004.6364 - coeff_determination: 0.9500 - lr: 2.5000e-04 - val_loss: 14744.3154 - val_coeff_determination: 0.3139 - val_lr: 2.5000e-04\n",
      "Epoch 144/200\n",
      "232/232 [==============================] - 16s 67ms/step - loss: 1778.1399 - coeff_determination: 0.9114 - lr: 2.5000e-04 - val_loss: 14946.9512 - val_coeff_determination: 0.3045 - val_lr: 2.5000e-04\n",
      "Epoch 145/200\n",
      "232/232 [==============================] - 16s 67ms/step - loss: 1404.8632 - coeff_determination: 0.9313 - lr: 2.5000e-04 - val_loss: 14774.0537 - val_coeff_determination: 0.3126 - val_lr: 2.5000e-04\n",
      "Epoch 146/200\n",
      "232/232 [==============================] - 15s 66ms/step - loss: 2504.9834 - coeff_determination: 0.8706 - lr: 2.5000e-04 - val_loss: 14829.6738 - val_coeff_determination: 0.3100 - val_lr: 2.5000e-04\n",
      "Epoch 147/200\n",
      "232/232 [==============================] - 15s 67ms/step - loss: 1508.6619 - coeff_determination: 0.9259 - lr: 2.5000e-04 - val_loss: 15190.3037 - val_coeff_determination: 0.2932 - val_lr: 2.5000e-04\n",
      "Epoch 148/200\n",
      "232/232 [==============================] - 16s 68ms/step - loss: 1579.5870 - coeff_determination: 0.9230 - lr: 2.5000e-04 - val_loss: 15864.7393 - val_coeff_determination: 0.2618 - val_lr: 2.5000e-04\n",
      "Epoch 149/200\n",
      "232/232 [==============================] - 15s 67ms/step - loss: 2418.7990 - coeff_determination: 0.8804 - lr: 2.5000e-04 - val_loss: 15655.0957 - val_coeff_determination: 0.2716 - val_lr: 2.5000e-04\n",
      "Epoch 150/200\n",
      "232/232 [==============================] - 16s 67ms/step - loss: 992.0918 - coeff_determination: 0.9511 - lr: 2.5000e-04 - val_loss: 15348.1094 - val_coeff_determination: 0.2859 - val_lr: 2.5000e-04\n",
      "Epoch 151/200\n",
      "232/232 [==============================] - 16s 68ms/step - loss: 1745.7661 - coeff_determination: 0.9128 - lr: 2.5000e-04 - val_loss: 15116.2539 - val_coeff_determination: 0.2966 - val_lr: 2.5000e-04\n",
      "Epoch 152/200\n",
      "232/232 [==============================] - 15s 67ms/step - loss: 1682.5727 - coeff_determination: 0.9145 - lr: 2.5000e-04 - val_loss: 15046.5391 - val_coeff_determination: 0.2999 - val_lr: 2.5000e-04\n",
      "Epoch 153/200\n"
     ]
    },
    {
     "name": "stdout",
     "output_type": "stream",
     "text": [
      "232/232 [==============================] - 15s 67ms/step - loss: 2624.7083 - coeff_determination: 0.8658 - lr: 2.5000e-04 - val_loss: 15245.0908 - val_coeff_determination: 0.2906 - val_lr: 2.5000e-04\n",
      "Epoch 154/200\n",
      "232/232 [==============================] - 16s 67ms/step - loss: 1134.4706 - coeff_determination: 0.9417 - lr: 2.5000e-04 - val_loss: 15598.9600 - val_coeff_determination: 0.2742 - val_lr: 2.5000e-04\n",
      "Epoch 155/200\n",
      "232/232 [==============================] - 16s 67ms/step - loss: 1171.8573 - coeff_determination: 0.9431 - lr: 2.5000e-04 - val_loss: 15792.4238 - val_coeff_determination: 0.2652 - val_lr: 2.5000e-04\n",
      "Epoch 156/200\n",
      "232/232 [==============================] - 16s 67ms/step - loss: 1670.5720 - coeff_determination: 0.9185 - lr: 2.5000e-04 - val_loss: 15338.2266 - val_coeff_determination: 0.2863 - val_lr: 2.5000e-04\n",
      "Epoch 157/200\n",
      "232/232 [==============================] - 15s 67ms/step - loss: 3014.2775 - coeff_determination: 0.8529 - lr: 2.5000e-04 - val_loss: 14741.6465 - val_coeff_determination: 0.3141 - val_lr: 2.5000e-04\n",
      "Epoch 158/200\n",
      "232/232 [==============================] - 16s 67ms/step - loss: 1553.9456 - coeff_determination: 0.9236 - lr: 2.5000e-04 - val_loss: 14455.6445 - val_coeff_determination: 0.3274 - val_lr: 2.5000e-04\n",
      "Epoch 159/200\n",
      "232/232 [==============================] - 16s 67ms/step - loss: 897.7405 - coeff_determination: 0.9551 - lr: 2.5000e-04 - val_loss: 14728.0283 - val_coeff_determination: 0.3147 - val_lr: 2.5000e-04\n",
      "Epoch 160/200\n",
      "232/232 [==============================] - 16s 67ms/step - loss: 1840.5937 - coeff_determination: 0.9053 - lr: 2.5000e-04 - val_loss: 15330.4463 - val_coeff_determination: 0.2867 - val_lr: 2.5000e-04\n",
      "Epoch 161/200\n",
      "232/232 [==============================] - 15s 66ms/step - loss: 1970.0702 - coeff_determination: 0.9041 - lr: 2.5000e-04 - val_loss: 15785.6523 - val_coeff_determination: 0.2655 - val_lr: 2.5000e-04\n",
      "Epoch 162/200\n",
      "232/232 [==============================] - 15s 67ms/step - loss: 1253.0907 - coeff_determination: 0.9413 - lr: 2.5000e-04 - val_loss: 15210.5830 - val_coeff_determination: 0.2923 - val_lr: 2.5000e-04\n",
      "Epoch 163/200\n",
      "232/232 [==============================] - 16s 67ms/step - loss: 1378.2953 - coeff_determination: 0.9308 - lr: 2.5000e-04 - val_loss: 14957.0361 - val_coeff_determination: 0.3040 - val_lr: 2.5000e-04\n",
      "Epoch 164/200\n",
      "232/232 [==============================] - 15s 67ms/step - loss: 1770.5565 - coeff_determination: 0.9162 - lr: 2.5000e-04 - val_loss: 14871.7305 - val_coeff_determination: 0.3080 - val_lr: 2.5000e-04\n",
      "Epoch 165/200\n",
      "232/232 [==============================] - 15s 67ms/step - loss: 1474.8901 - coeff_determination: 0.9246 - lr: 2.5000e-04 - val_loss: 15106.3457 - val_coeff_determination: 0.2971 - val_lr: 2.5000e-04\n",
      "Epoch 166/200\n",
      "232/232 [==============================] - 15s 67ms/step - loss: 1439.0315 - coeff_determination: 0.9270 - lr: 2.5000e-04 - val_loss: 15892.8301 - val_coeff_determination: 0.2605 - val_lr: 2.5000e-04\n",
      "Epoch 167/200\n",
      "232/232 [==============================] - 16s 67ms/step - loss: 1485.1906 - coeff_determination: 0.9266 - lr: 2.5000e-04 - val_loss: 15898.9287 - val_coeff_determination: 0.2602 - val_lr: 2.5000e-04\n",
      "Epoch 168/200\n",
      "232/232 [==============================] - 16s 67ms/step - loss: 1039.5601 - coeff_determination: 0.9491 - lr: 2.5000e-04 - val_loss: 15471.8232 - val_coeff_determination: 0.2801 - val_lr: 2.5000e-04\n",
      "Epoch 169/200\n",
      "232/232 [==============================] - 15s 66ms/step - loss: 2770.3670 - coeff_determination: 0.8590 - lr: 2.5000e-04 - val_loss: 14646.1221 - val_coeff_determination: 0.3185 - val_lr: 2.5000e-04\n",
      "Epoch 170/200\n",
      "232/232 [==============================] - 15s 67ms/step - loss: 1865.5305 - coeff_determination: 0.9093 - lr: 2.5000e-04 - val_loss: 14746.3389 - val_coeff_determination: 0.3139 - val_lr: 2.5000e-04\n",
      "Epoch 171/200\n",
      "232/232 [==============================] - 16s 68ms/step - loss: 1502.9050 - coeff_determination: 0.9254 - lr: 2.5000e-04 - val_loss: 15050.1279 - val_coeff_determination: 0.2997 - val_lr: 2.5000e-04\n",
      "Epoch 172/200\n",
      "232/232 [==============================] - 15s 67ms/step - loss: 4225.0625 - coeff_determination: 0.7956 - lr: 2.5000e-04 - val_loss: 15071.2666 - val_coeff_determination: 0.2987 - val_lr: 2.5000e-04\n",
      "Epoch 173/200\n",
      "232/232 [==============================] - 16s 67ms/step - loss: 1879.1780 - coeff_determination: 0.9046 - lr: 2.5000e-04 - val_loss: 15588.5117 - val_coeff_determination: 0.2747 - val_lr: 2.5000e-04\n",
      "Epoch 174/200\n",
      "232/232 [==============================] - 15s 67ms/step - loss: 1478.3468 - coeff_determination: 0.9270 - lr: 2.5000e-04 - val_loss: 15656.2402 - val_coeff_determination: 0.2715 - val_lr: 2.5000e-04\n",
      "Epoch 175/200\n",
      "232/232 [==============================] - 16s 67ms/step - loss: 1872.3967 - coeff_determination: 0.9085 - lr: 2.5000e-04 - val_loss: 14398.1494 - val_coeff_determination: 0.3301 - val_lr: 2.5000e-04\n",
      "Epoch 176/200\n",
      "232/232 [==============================] - 16s 67ms/step - loss: 2104.7420 - coeff_determination: 0.8968 - lr: 2.5000e-04 - val_loss: 13584.1240 - val_coeff_determination: 0.3679 - val_lr: 2.5000e-04\n",
      "Epoch 177/200\n",
      "232/232 [==============================] - 15s 66ms/step - loss: 4838.0102 - coeff_determination: 0.7597 - lr: 2.5000e-04 - val_loss: 13280.7295 - val_coeff_determination: 0.3820 - val_lr: 2.5000e-04\n",
      "Epoch 178/200\n",
      "232/232 [==============================] - 16s 67ms/step - loss: 1102.0623 - coeff_determination: 0.9456 - lr: 2.5000e-04 - val_loss: 13460.7275 - val_coeff_determination: 0.3737 - val_lr: 2.5000e-04\n",
      "Epoch 179/200\n",
      "232/232 [==============================] - 15s 66ms/step - loss: 1493.2945 - coeff_determination: 0.9156 - lr: 2.5000e-04 - val_loss: 13868.1660 - val_coeff_determination: 0.3547 - val_lr: 2.5000e-04\n",
      "Epoch 180/200\n",
      "232/232 [==============================] - 15s 66ms/step - loss: 1711.0476 - coeff_determination: 0.9160 - lr: 2.5000e-04 - val_loss: 14295.0176 - val_coeff_determination: 0.3349 - val_lr: 2.5000e-04\n",
      "Epoch 181/200\n",
      "232/232 [==============================] - 15s 66ms/step - loss: 988.6956 - coeff_determination: 0.9511 - lr: 2.5000e-04 - val_loss: 14355.9219 - val_coeff_determination: 0.3320 - val_lr: 2.5000e-04\n",
      "Epoch 182/200\n",
      "232/232 [==============================] - 16s 67ms/step - loss: 3450.5602 - coeff_determination: 0.8290 - lr: 2.5000e-04 - val_loss: 14819.8984 - val_coeff_determination: 0.3104 - val_lr: 2.5000e-04\n",
      "Epoch 183/200\n",
      "232/232 [==============================] - 16s 67ms/step - loss: 1764.2825 - coeff_determination: 0.9076 - lr: 2.5000e-04 - val_loss: 14565.6055 - val_coeff_determination: 0.3223 - val_lr: 2.5000e-04\n",
      "Epoch 184/200\n",
      "232/232 [==============================] - 15s 67ms/step - loss: 2513.9116 - coeff_determination: 0.8751 - lr: 2.5000e-04 - val_loss: 14112.0908 - val_coeff_determination: 0.3434 - val_lr: 2.5000e-04\n",
      "Epoch 185/200\n",
      "232/232 [==============================] - 15s 67ms/step - loss: 987.0539 - coeff_determination: 0.9515 - lr: 2.5000e-04 - val_loss: 13800.3281 - val_coeff_determination: 0.3579 - val_lr: 2.5000e-04\n",
      "Epoch 186/200\n",
      "232/232 [==============================] - 16s 68ms/step - loss: 2022.0607 - coeff_determination: 0.9009 - lr: 2.5000e-04 - val_loss: 13629.5654 - val_coeff_determination: 0.3658 - val_lr: 2.5000e-04\n",
      "Epoch 187/200\n",
      "232/232 [==============================] - 15s 66ms/step - loss: 776.6747 - coeff_determination: 0.9618 - lr: 2.5000e-04 - val_loss: 13921.7178 - val_coeff_determination: 0.3522 - val_lr: 2.5000e-04\n",
      "Epoch 188/200\n",
      "232/232 [==============================] - 15s 67ms/step - loss: 1368.9960 - coeff_determination: 0.9319 - lr: 2.5000e-04 - val_loss: 15042.7666 - val_coeff_determination: 0.3001 - val_lr: 2.5000e-04\n",
      "Epoch 189/200\n",
      "232/232 [==============================] - 15s 67ms/step - loss: 1873.5118 - coeff_determination: 0.9042 - lr: 2.5000e-04 - val_loss: 15063.8174 - val_coeff_determination: 0.2991 - val_lr: 2.5000e-04\n",
      "Epoch 190/200\n",
      "232/232 [==============================] - 16s 69ms/step - loss: 710.6762 - coeff_determination: 0.9649 - lr: 2.5000e-04 - val_loss: 14267.0479 - val_coeff_determination: 0.3362 - val_lr: 2.5000e-04\n",
      "Epoch 191/200\n"
     ]
    },
    {
     "name": "stdout",
     "output_type": "stream",
     "text": [
      "232/232 [==============================] - 15s 67ms/step - loss: 939.3814 - coeff_determination: 0.9520 - lr: 2.5000e-04 - val_loss: 13843.2158 - val_coeff_determination: 0.3559 - val_lr: 2.5000e-04\n",
      "Epoch 192/200\n",
      "232/232 [==============================] - 16s 67ms/step - loss: 1156.6902 - coeff_determination: 0.9437 - lr: 2.5000e-04 - val_loss: 13587.3096 - val_coeff_determination: 0.3678 - val_lr: 2.5000e-04\n",
      "Epoch 193/200\n",
      "232/232 [==============================] - 16s 67ms/step - loss: 799.6045 - coeff_determination: 0.9606 - lr: 2.5000e-04 - val_loss: 13972.5332 - val_coeff_determination: 0.3499 - val_lr: 2.5000e-04\n",
      "Epoch 194/200\n",
      "232/232 [==============================] - 16s 67ms/step - loss: 1314.3374 - coeff_determination: 0.9359 - lr: 2.5000e-04 - val_loss: 13887.2773 - val_coeff_determination: 0.3538 - val_lr: 2.5000e-04\n",
      "Epoch 195/200\n",
      "232/232 [==============================] - 15s 67ms/step - loss: 2587.0500 - coeff_determination: 0.8729 - lr: 2.5000e-04 - val_loss: 14120.1006 - val_coeff_determination: 0.3430 - val_lr: 2.5000e-04\n",
      "Epoch 196/200\n",
      "232/232 [==============================] - 16s 67ms/step - loss: 2223.9785 - coeff_determination: 0.8897 - lr: 2.5000e-04 - val_loss: 13990.1973 - val_coeff_determination: 0.3490 - val_lr: 2.5000e-04\n",
      "Epoch 197/200\n",
      "232/232 [==============================] - 15s 67ms/step - loss: 729.1282 - coeff_determination: 0.9640 - lr: 2.5000e-04 - val_loss: 14255.0166 - val_coeff_determination: 0.3367 - val_lr: 2.5000e-04\n",
      "Epoch 198/200\n",
      "232/232 [==============================] - 16s 67ms/step - loss: 997.8970 - coeff_determination: 0.9501 - lr: 2.5000e-04 - val_loss: 14357.6172 - val_coeff_determination: 0.3319 - val_lr: 2.5000e-04\n",
      "Epoch 199/200\n",
      "232/232 [==============================] - 15s 66ms/step - loss: 1309.6177 - coeff_determination: 0.9317 - lr: 2.5000e-04 - val_loss: 14044.1074 - val_coeff_determination: 0.3465 - val_lr: 2.5000e-04\n",
      "Epoch 200/200\n",
      "232/232 [==============================] - 15s 66ms/step - loss: 719.4809 - coeff_determination: 0.9648 - lr: 2.5000e-04 - val_loss: 13779.3838 - val_coeff_determination: 0.3588 - val_lr: 2.5000e-04\n"
     ]
    }
   ],
   "source": [
    "history = model.fit(x=X_train, y=y_train, batch_size=128, epochs=25, validation_data=(X_test,y_test))"
   ]
  },
  {
   "cell_type": "code",
   "execution_count": 524,
   "metadata": {},
   "outputs": [
    {
     "data": {
      "image/png": "[encoded data removed]",
      "text/plain": [
       "<Figure size 600x400 with 2 Axes>"
      ]
     },
     "metadata": {
      "needs_background": "light"
     },
     "output_type": "display_data"
    }
   ],
   "source": [
    "ModelUtils.plot_model_error(X_train,X_test,y_train.reshape(1,-1), y_test.reshape(1,-1),model)"
   ]
  },
  {
   "cell_type": "code",
   "execution_count": 525,
   "metadata": {},
   "outputs": [
    {
     "name": "stderr",
     "output_type": "stream",
     "text": [
      "/Users/hunting/miniconda3/envs/SPEEDCOM/lib/python3.6/site-packages/matplotlib/figure.py:98: MatplotlibDeprecationWarning: \n",
      "Adding an axes using the same arguments as a previous axes currently reuses the earlier instance.  In a future version, a new instance will always be created and returned.  Meanwhile, this warning can be suppressed, and the future behavior ensured, by passing a unique label to each axes instance.\n",
      "  \"Adding an axes using the same arguments as a previous axes \"\n"
     ]
    },
    {
     "data": {
      "image/png": "[encoded data removed]",
      "text/plain": [
       "<Figure size 720x576 with 2 Axes>"
      ]
     },
     "metadata": {
      "needs_background": "light"
     },
     "output_type": "display_data"
    }
   ],
   "source": [
    "hist = history.history\n",
    "\n",
    "plt.figure(figsize=(10, 8))\n",
    "\n",
    "for label in ['val_coeff_determination','coeff_determination']:\n",
    "    plt.subplot(211)\n",
    "    plt.plot(hist[label], label = label)\n",
    "    plt.legend()\n",
    "    plt.xlabel(\"Epochs\")\n",
    "    plt.ylabel(\"coeff_determination\")\n",
    "    \n",
    "for label in ['val_loss','loss']:\n",
    "    plt.subplot(212)\n",
    "    plt.plot(hist[label], label = label)\n",
    "    plt.legend()\n",
    "    plt.xlabel(\"Epochs\")\n",
    "    plt.ylabel(\"loss\")\n",
    "    \n",
    "plt.subplots_adjust(top=0.8, bottom=0.1, left=0.10, right=0.9, hspace=0.25,\n",
    "                    wspace=0.35)"
   ]
  },
  {
   "cell_type": "code",
   "execution_count": 463,
   "metadata": {},
   "outputs": [],
   "source": [
    "y = np.array(data['Quantum Yield'])"
   ]
  },
  {
   "cell_type": "code",
   "execution_count": 464,
   "metadata": {},
   "outputs": [
    {
     "data": {
      "text/plain": [
       "array([0, 0, 0, 0, 0, 0, 0, 0, 0, 0, 0, 0, 1, 1, 1, 0, 0, 1, 0, 1, 1, 0,\n",
       "       0, 0, 1, 0, 1, 1, 0, 1, 1, 0, 0, 0, 1, 1, 1, 1, 0, 0, 1, 0, 0, 0,\n",
       "       0, 0, 0, 0, 0, 0, 0, 0, 1, 0, 0, 0, 0, 0, 0, 0, 0, 0, 0, 0, 0, 0,\n",
       "       0, 0, 0, 0, 0, 1, 0, 0, 0, 0, 0, 0, 1, 1, 1, 1, 1, 0, 1, 1, 1, 1,\n",
       "       1, 0, 0, 1, 1, 1, 0, 1, 1, 1, 0, 0, 1, 0, 0, 1, 1, 0, 1, 0, 0, 1,\n",
       "       0, 1, 1, 1, 1, 1, 1, 1, 1, 0, 1, 0, 1, 0, 1, 0, 1, 1, 1, 1, 1, 1,\n",
       "       1, 1, 1, 1, 1, 1, 1, 1, 1, 1, 1, 1, 1, 1, 0, 0, 1, 0, 0, 0, 0, 0,\n",
       "       0, 0, 0, 0, 0, 0, 0, 0, 0, 0, 0, 0, 0, 1, 0, 0, 1, 0, 0, 0, 0, 1,\n",
       "       0, 0, 0, 0, 0, 0, 1, 1, 1, 1, 1, 1, 1, 1, 1, 1, 1, 1, 1, 1, 1, 1,\n",
       "       1, 1, 1, 1, 0, 0, 1, 0, 0, 0, 0, 0, 0, 0, 0, 0, 0, 1, 0, 0, 1, 0,\n",
       "       1, 0, 1, 1, 1, 1, 1, 1, 1, 0, 0, 0, 0, 0, 0, 0, 0, 0, 0, 0, 0, 0,\n",
       "       0, 0, 0, 0, 0, 1, 0, 0, 0, 0, 1, 1, 1, 1, 1, 1, 0, 0, 0, 0, 1, 0,\n",
       "       0, 0, 0, 0, 0, 0, 0, 1, 0, 0, 0, 1, 1, 1, 1, 0, 0, 0, 0, 0, 0, 0,\n",
       "       0, 0, 0, 0, 0])"
      ]
     },
     "execution_count": 464,
     "metadata": {},
     "output_type": "execute_result"
    }
   ],
   "source": [
    "y = np.isnan(y).astype(int)\n",
    "y"
   ]
  },
  {
   "cell_type": "code",
   "execution_count": 430,
   "metadata": {},
   "outputs": [
    {
     "data": {
      "text/plain": [
       "numpy.float64"
      ]
     },
     "execution_count": 430,
     "metadata": {},
     "output_type": "execute_result"
    }
   ],
   "source": []
  },
  {
   "cell_type": "code",
   "execution_count": 465,
   "metadata": {},
   "outputs": [
    {
     "name": "stdout",
     "output_type": "stream",
     "text": [
      "(232, 181, 181)\n",
      "(59, 181, 181)\n",
      "(232, 1)\n",
      "(59, 1)\n"
     ]
    }
   ],
   "source": [
    "X_train, X_test, y_train, y_test = DataUtils.splitData(c_mtx, y, ratio=0.20)\n",
    "y_train = np.reshape(y_train, (-1, 1))\n",
    "y_test = np.reshape(y_test, (-1, 1))\n",
    "print(X_train.shape)\n",
    "print(X_test.shape)\n",
    "print(y_train.shape)\n",
    "print(y_test.shape)"
   ]
  },
  {
   "cell_type": "code",
   "execution_count": 504,
   "metadata": {},
   "outputs": [
    {
     "name": "stdout",
     "output_type": "stream",
     "text": [
      "_________________________________________________________________\n",
      "Layer (type)                 Output Shape              Param #   \n",
      "=================================================================\n",
      "flatten_88 (Flatten)         (None, 32761)             0         \n",
      "_________________________________________________________________\n",
      "dense_334 (Dense)            (None, 128)               4193536   \n",
      "_________________________________________________________________\n",
      "dropout_88 (Dropout)         (None, 128)               0         \n",
      "_________________________________________________________________\n",
      "dense_335 (Dense)            (None, 128)               16512     \n",
      "_________________________________________________________________\n",
      "dense_336 (Dense)            (None, 128)               16512     \n",
      "_________________________________________________________________\n",
      "dense_337 (Dense)            (None, 1)                 129       \n",
      "=================================================================\n",
      "Total params: 4,226,689\n",
      "Trainable params: 4,226,689\n",
      "Non-trainable params: 0\n",
      "_________________________________________________________________\n"
     ]
    }
   ],
   "source": [
    "model2 = Sequential()\n",
    "#model.add(LeakyReLU(alpha=.3))\n",
    "#model.add(Conv2D(2, kernel_size=(10,10), activation='relu',input_shape=(181, 181, 1)))\n",
    "model2.add(Flatten(input_shape=(181, 181)))\n",
    "#model2.add(BatchNormalization())\n",
    "#model.add(MaxPooling2D(pool_size=(2, 2)))\n",
    "#model.add(Conv2D(4, kernel_size=(16,16), activation='relu',input_shape=(181, 181, 1)))\n",
    "model2.add(Dense(128, activation='relu'))\n",
    "model2.add(Dropout(0.1))\n",
    "#model.add(Conv2D(4, kernel_size=(3,3), activation='relu'))\n",
    "#model.add(Conv1D(128,8,activation='linear'))\n",
    "#model.add(LeakyReLU(alpha=.3))\n",
    "#model.add(Conv1D(128,4,activation='linear'))\n",
    "\n",
    "#model.add(Dense(250, activation='relu'))\n",
    "#model.add(Dense(250, activation='relu'))\n",
    "#model.add(Dense(512, activation='linear'))\n",
    "#model.add(LeakyReLU(alpha=.3))\n",
    "#model.add(Dense(512, activation='linear'))\n",
    "model2.add(Dense(128, activation='relu'))\n",
    "#model2.add(Dropout(0.2))\n",
    "model2.add(Dense(128, activation='relu'))\n",
    "model2.add(Dense(1, activation='sigmoid'))\n",
    "model2.summary()"
   ]
  },
  {
   "cell_type": "code",
   "execution_count": 505,
   "metadata": {},
   "outputs": [],
   "source": [
    "optimizer = SGD(lr=0.001, momentum=0)\n",
    "lr_metric = get_lr_metric(optimizer)\n",
    "model2.compile(loss=\"binary_crossentropy\", optimizer=optimizer, metrics=['accuracy', lr_metric])"
   ]
  },
  {
   "cell_type": "code",
   "execution_count": 506,
   "metadata": {},
   "outputs": [
    {
     "name": "stdout",
     "output_type": "stream",
     "text": [
      "Train on 232 samples, validate on 59 samples\n",
      "Epoch 1/50\n",
      "232/232 [==============================] - 9s 38ms/step - loss: 1.4544 - acc: 0.5129 - lr: 0.0050 - val_loss: 0.6104 - val_acc: 0.7458 - val_lr: 0.0050\n",
      "Epoch 2/50\n",
      "232/232 [==============================] - 1s 6ms/step - loss: 0.8743 - acc: 0.6853 - lr: 0.0050 - val_loss: 0.8991 - val_acc: 0.7119 - val_lr: 0.0050\n",
      "Epoch 3/50\n",
      "232/232 [==============================] - 1s 6ms/step - loss: 1.0142 - acc: 0.6595 - lr: 0.0050 - val_loss: 1.3434 - val_acc: 0.3898 - val_lr: 0.0050\n",
      "Epoch 4/50\n",
      "232/232 [==============================] - 1s 6ms/step - loss: 0.6037 - acc: 0.6983 - lr: 0.0050 - val_loss: 0.9282 - val_acc: 0.6102 - val_lr: 0.0050\n",
      "Epoch 5/50\n",
      "232/232 [==============================] - 1s 6ms/step - loss: 0.6621 - acc: 0.7198 - lr: 0.0050 - val_loss: 0.7769 - val_acc: 0.7627 - val_lr: 0.0050\n",
      "Epoch 6/50\n",
      "232/232 [==============================] - 1s 6ms/step - loss: 0.5389 - acc: 0.7974 - lr: 0.0050 - val_loss: 0.7619 - val_acc: 0.6271 - val_lr: 0.0050\n",
      "Epoch 7/50\n",
      "232/232 [==============================] - 1s 6ms/step - loss: 0.6989 - acc: 0.7888 - lr: 0.0050 - val_loss: 1.4217 - val_acc: 0.5763 - val_lr: 0.0050\n",
      "Epoch 8/50\n",
      "232/232 [==============================] - 1s 6ms/step - loss: 0.5343 - acc: 0.7672 - lr: 0.0050 - val_loss: 1.1696 - val_acc: 0.5424 - val_lr: 0.0050\n",
      "Epoch 9/50\n",
      "232/232 [==============================] - 1s 6ms/step - loss: 0.4392 - acc: 0.7759 - lr: 0.0050 - val_loss: 1.1119 - val_acc: 0.6271 - val_lr: 0.0050\n",
      "Epoch 10/50\n",
      "232/232 [==============================] - 2s 7ms/step - loss: 0.3995 - acc: 0.8190 - lr: 0.0050 - val_loss: 1.0178 - val_acc: 0.6271 - val_lr: 0.0050\n",
      "Epoch 11/50\n",
      "232/232 [==============================] - 1s 6ms/step - loss: 0.4391 - acc: 0.8017 - lr: 0.0050 - val_loss: 1.1869 - val_acc: 0.5085 - val_lr: 0.0050\n",
      "Epoch 12/50\n",
      "232/232 [==============================] - 1s 6ms/step - loss: 0.3785 - acc: 0.8707 - lr: 0.0050 - val_loss: 1.2988 - val_acc: 0.4576 - val_lr: 0.0050\n",
      "Epoch 13/50\n",
      "232/232 [==============================] - 1s 6ms/step - loss: 0.3332 - acc: 0.8621 - lr: 0.0050 - val_loss: 1.1448 - val_acc: 0.5593 - val_lr: 0.0050\n",
      "Epoch 14/50\n",
      "232/232 [==============================] - 1s 6ms/step - loss: 0.4812 - acc: 0.8793 - lr: 0.0050 - val_loss: 0.9717 - val_acc: 0.7119 - val_lr: 0.0050\n",
      "Epoch 15/50\n",
      "232/232 [==============================] - 1s 6ms/step - loss: 0.6943 - acc: 0.7371 - lr: 0.0050 - val_loss: 0.8587 - val_acc: 0.7119 - val_lr: 0.0050\n",
      "Epoch 16/50\n",
      "232/232 [==============================] - 1s 6ms/step - loss: 0.4546 - acc: 0.8060 - lr: 0.0050 - val_loss: 1.0016 - val_acc: 0.5932 - val_lr: 0.0050\n",
      "Epoch 17/50\n",
      "232/232 [==============================] - 1s 6ms/step - loss: 0.3889 - acc: 0.8190 - lr: 0.0050 - val_loss: 0.9509 - val_acc: 0.6271 - val_lr: 0.0050\n",
      "Epoch 18/50\n",
      "232/232 [==============================] - 1s 6ms/step - loss: 0.3559 - acc: 0.8319 - lr: 0.0050 - val_loss: 0.9602 - val_acc: 0.6102 - val_lr: 0.0050\n",
      "Epoch 19/50\n",
      "232/232 [==============================] - 1s 6ms/step - loss: 0.3360 - acc: 0.8922 - lr: 0.0050 - val_loss: 1.0297 - val_acc: 0.5593 - val_lr: 0.0050\n",
      "Epoch 20/50\n",
      "232/232 [==============================] - 1s 6ms/step - loss: 0.2698 - acc: 0.9224 - lr: 0.0050 - val_loss: 1.0041 - val_acc: 0.5932 - val_lr: 0.0050\n",
      "Epoch 21/50\n",
      "232/232 [==============================] - 1s 6ms/step - loss: 0.3401 - acc: 0.9095 - lr: 0.0050 - val_loss: 1.0365 - val_acc: 0.5424 - val_lr: 0.0050\n",
      "Epoch 22/50\n",
      "232/232 [==============================] - 2s 6ms/step - loss: 0.2814 - acc: 0.8922 - lr: 0.0050 - val_loss: 0.9711 - val_acc: 0.5763 - val_lr: 0.0050\n",
      "Epoch 23/50\n",
      "232/232 [==============================] - 1s 6ms/step - loss: 0.2477 - acc: 0.8793 - lr: 0.0050 - val_loss: 1.1949 - val_acc: 0.5254 - val_lr: 0.0050\n",
      "Epoch 24/50\n",
      "232/232 [==============================] - 1s 6ms/step - loss: 0.2373 - acc: 0.9138 - lr: 0.0050 - val_loss: 1.0100 - val_acc: 0.5763 - val_lr: 0.0050\n",
      "Epoch 25/50\n",
      "232/232 [==============================] - 1s 6ms/step - loss: 0.2261 - acc: 0.9310 - lr: 0.0050 - val_loss: 1.0928 - val_acc: 0.5763 - val_lr: 0.0050\n",
      "Epoch 26/50\n",
      "232/232 [==============================] - 2s 7ms/step - loss: 0.2383 - acc: 0.8836 - lr: 0.0050 - val_loss: 1.0357 - val_acc: 0.5763 - val_lr: 0.0050\n",
      "Epoch 27/50\n",
      "232/232 [==============================] - 1s 6ms/step - loss: 0.2289 - acc: 0.9181 - lr: 0.0050 - val_loss: 1.1496 - val_acc: 0.5254 - val_lr: 0.0050\n",
      "Epoch 28/50\n",
      "232/232 [==============================] - 1s 6ms/step - loss: 0.2137 - acc: 0.9181 - lr: 0.0050 - val_loss: 0.9779 - val_acc: 0.6102 - val_lr: 0.0050\n",
      "Epoch 29/50\n",
      "232/232 [==============================] - 2s 7ms/step - loss: 0.2147 - acc: 0.9009 - lr: 0.0050 - val_loss: 1.0096 - val_acc: 0.6780 - val_lr: 0.0050\n",
      "Epoch 30/50\n",
      "232/232 [==============================] - 2s 7ms/step - loss: 0.2047 - acc: 0.9310 - lr: 0.0050 - val_loss: 1.0003 - val_acc: 0.6102 - val_lr: 0.0050\n",
      "Epoch 31/50\n",
      "232/232 [==============================] - 1s 6ms/step - loss: 0.1852 - acc: 0.9483 - lr: 0.0050 - val_loss: 1.0337 - val_acc: 0.6780 - val_lr: 0.0050\n",
      "Epoch 32/50\n",
      "232/232 [==============================] - 2s 6ms/step - loss: 0.1741 - acc: 0.9353 - lr: 0.0050 - val_loss: 1.0265 - val_acc: 0.5763 - val_lr: 0.0050\n",
      "Epoch 33/50\n",
      "232/232 [==============================] - 1s 6ms/step - loss: 0.1948 - acc: 0.9095 - lr: 0.0050 - val_loss: 1.0595 - val_acc: 0.5763 - val_lr: 0.0050\n",
      "Epoch 34/50\n",
      "232/232 [==============================] - 1s 6ms/step - loss: 0.1668 - acc: 0.9310 - lr: 0.0050 - val_loss: 1.0660 - val_acc: 0.5593 - val_lr: 0.0050\n",
      "Epoch 35/50\n",
      "232/232 [==============================] - 2s 6ms/step - loss: 0.1481 - acc: 0.9612 - lr: 0.0050 - val_loss: 1.1224 - val_acc: 0.5593 - val_lr: 0.0050\n",
      "Epoch 36/50\n",
      "232/232 [==============================] - 2s 7ms/step - loss: 0.1508 - acc: 0.9569 - lr: 0.0050 - val_loss: 1.0553 - val_acc: 0.6102 - val_lr: 0.0050\n",
      "Epoch 37/50\n",
      "232/232 [==============================] - 2s 7ms/step - loss: 0.1485 - acc: 0.9655 - lr: 0.0050 - val_loss: 1.1865 - val_acc: 0.5593 - val_lr: 0.0050\n",
      "Epoch 38/50\n",
      "232/232 [==============================] - 2s 7ms/step - loss: 0.1537 - acc: 0.9612 - lr: 0.0050 - val_loss: 1.1107 - val_acc: 0.6102 - val_lr: 0.0050\n",
      "Epoch 39/50\n",
      "232/232 [==============================] - 2s 7ms/step - loss: 0.1473 - acc: 0.9483 - lr: 0.0050 - val_loss: 1.0350 - val_acc: 0.6102 - val_lr: 0.0050\n",
      "Epoch 40/50\n",
      "232/232 [==============================] - 1s 6ms/step - loss: 0.1291 - acc: 0.9612 - lr: 0.0050 - val_loss: 1.0608 - val_acc: 0.5932 - val_lr: 0.0050\n",
      "Epoch 41/50\n",
      "232/232 [==============================] - 2s 6ms/step - loss: 0.1384 - acc: 0.9655 - lr: 0.0050 - val_loss: 1.1055 - val_acc: 0.5763 - val_lr: 0.0050\n",
      "Epoch 42/50\n",
      "232/232 [==============================] - 1s 6ms/step - loss: 0.1242 - acc: 0.9612 - lr: 0.0050 - val_loss: 1.1074 - val_acc: 0.5932 - val_lr: 0.0050\n",
      "Epoch 43/50\n",
      "232/232 [==============================] - 1s 6ms/step - loss: 0.1338 - acc: 0.9655 - lr: 0.0050 - val_loss: 1.0826 - val_acc: 0.5932 - val_lr: 0.0050\n",
      "Epoch 44/50\n",
      "232/232 [==============================] - 2s 7ms/step - loss: 0.1252 - acc: 0.9569 - lr: 0.0050 - val_loss: 1.1568 - val_acc: 0.5593 - val_lr: 0.0050\n",
      "Epoch 45/50\n",
      "128/232 [===============>..............] - ETA: 0s - loss: 0.1347 - acc: 0.9609 - lr: 0.0050"
     ]
    },
    {
     "ename": "KeyboardInterrupt",
     "evalue": "",
     "output_type": "error",
     "traceback": [
      "\u001b[0;31m---------------------------------------------------------------------------\u001b[0m",
      "\u001b[0;31mKeyboardInterrupt\u001b[0m                         Traceback (most recent call last)",
      "\u001b[0;32m<ipython-input-506-f7ab75465a93>\u001b[0m in \u001b[0;36m<module>\u001b[0;34m\u001b[0m\n\u001b[0;32m----> 1\u001b[0;31m \u001b[0mhistory\u001b[0m \u001b[0;34m=\u001b[0m \u001b[0mmodel2\u001b[0m\u001b[0;34m.\u001b[0m\u001b[0mfit\u001b[0m\u001b[0;34m(\u001b[0m\u001b[0mx\u001b[0m\u001b[0;34m=\u001b[0m\u001b[0mX_train\u001b[0m\u001b[0;34m,\u001b[0m \u001b[0my\u001b[0m\u001b[0;34m=\u001b[0m\u001b[0my_train\u001b[0m\u001b[0;34m,\u001b[0m \u001b[0mbatch_size\u001b[0m\u001b[0;34m=\u001b[0m\u001b[0;36m64\u001b[0m\u001b[0;34m,\u001b[0m \u001b[0mepochs\u001b[0m\u001b[0;34m=\u001b[0m\u001b[0;36m50\u001b[0m\u001b[0;34m,\u001b[0m \u001b[0mvalidation_data\u001b[0m\u001b[0;34m=\u001b[0m\u001b[0;34m(\u001b[0m\u001b[0mX_test\u001b[0m\u001b[0;34m,\u001b[0m\u001b[0my_test\u001b[0m\u001b[0;34m)\u001b[0m\u001b[0;34m)\u001b[0m\u001b[0;34m\u001b[0m\u001b[0;34m\u001b[0m\u001b[0m\n\u001b[0m",
      "\u001b[0;32m~/miniconda3/envs/SPEEDCOM/lib/python3.6/site-packages/keras/engine/training.py\u001b[0m in \u001b[0;36mfit\u001b[0;34m(self, x, y, batch_size, epochs, verbose, callbacks, validation_split, validation_data, shuffle, class_weight, sample_weight, initial_epoch, steps_per_epoch, validation_steps, **kwargs)\u001b[0m\n\u001b[1;32m   1037\u001b[0m                                         \u001b[0minitial_epoch\u001b[0m\u001b[0;34m=\u001b[0m\u001b[0minitial_epoch\u001b[0m\u001b[0;34m,\u001b[0m\u001b[0;34m\u001b[0m\u001b[0;34m\u001b[0m\u001b[0m\n\u001b[1;32m   1038\u001b[0m                                         \u001b[0msteps_per_epoch\u001b[0m\u001b[0;34m=\u001b[0m\u001b[0msteps_per_epoch\u001b[0m\u001b[0;34m,\u001b[0m\u001b[0;34m\u001b[0m\u001b[0;34m\u001b[0m\u001b[0m\n\u001b[0;32m-> 1039\u001b[0;31m                                         validation_steps=validation_steps)\n\u001b[0m\u001b[1;32m   1040\u001b[0m \u001b[0;34m\u001b[0m\u001b[0m\n\u001b[1;32m   1041\u001b[0m     def evaluate(self, x=None, y=None,\n",
      "\u001b[0;32m~/miniconda3/envs/SPEEDCOM/lib/python3.6/site-packages/keras/engine/training_arrays.py\u001b[0m in \u001b[0;36mfit_loop\u001b[0;34m(model, f, ins, out_labels, batch_size, epochs, verbose, callbacks, val_f, val_ins, shuffle, callback_metrics, initial_epoch, steps_per_epoch, validation_steps)\u001b[0m\n\u001b[1;32m    197\u001b[0m                     \u001b[0mins_batch\u001b[0m\u001b[0;34m[\u001b[0m\u001b[0mi\u001b[0m\u001b[0;34m]\u001b[0m \u001b[0;34m=\u001b[0m \u001b[0mins_batch\u001b[0m\u001b[0;34m[\u001b[0m\u001b[0mi\u001b[0m\u001b[0;34m]\u001b[0m\u001b[0;34m.\u001b[0m\u001b[0mtoarray\u001b[0m\u001b[0;34m(\u001b[0m\u001b[0;34m)\u001b[0m\u001b[0;34m\u001b[0m\u001b[0;34m\u001b[0m\u001b[0m\n\u001b[1;32m    198\u001b[0m \u001b[0;34m\u001b[0m\u001b[0m\n\u001b[0;32m--> 199\u001b[0;31m                 \u001b[0mouts\u001b[0m \u001b[0;34m=\u001b[0m \u001b[0mf\u001b[0m\u001b[0;34m(\u001b[0m\u001b[0mins_batch\u001b[0m\u001b[0;34m)\u001b[0m\u001b[0;34m\u001b[0m\u001b[0;34m\u001b[0m\u001b[0m\n\u001b[0m\u001b[1;32m    200\u001b[0m                 \u001b[0mouts\u001b[0m \u001b[0;34m=\u001b[0m \u001b[0mto_list\u001b[0m\u001b[0;34m(\u001b[0m\u001b[0mouts\u001b[0m\u001b[0;34m)\u001b[0m\u001b[0;34m\u001b[0m\u001b[0;34m\u001b[0m\u001b[0m\n\u001b[1;32m    201\u001b[0m                 \u001b[0;32mfor\u001b[0m \u001b[0ml\u001b[0m\u001b[0;34m,\u001b[0m \u001b[0mo\u001b[0m \u001b[0;32min\u001b[0m \u001b[0mzip\u001b[0m\u001b[0;34m(\u001b[0m\u001b[0mout_labels\u001b[0m\u001b[0;34m,\u001b[0m \u001b[0mouts\u001b[0m\u001b[0;34m)\u001b[0m\u001b[0;34m:\u001b[0m\u001b[0;34m\u001b[0m\u001b[0;34m\u001b[0m\u001b[0m\n",
      "\u001b[0;32m~/miniconda3/envs/SPEEDCOM/lib/python3.6/site-packages/keras/backend/tensorflow_backend.py\u001b[0m in \u001b[0;36m__call__\u001b[0;34m(self, inputs)\u001b[0m\n\u001b[1;32m   2713\u001b[0m                 \u001b[0;32mreturn\u001b[0m \u001b[0mself\u001b[0m\u001b[0;34m.\u001b[0m\u001b[0m_legacy_call\u001b[0m\u001b[0;34m(\u001b[0m\u001b[0minputs\u001b[0m\u001b[0;34m)\u001b[0m\u001b[0;34m\u001b[0m\u001b[0;34m\u001b[0m\u001b[0m\n\u001b[1;32m   2714\u001b[0m \u001b[0;34m\u001b[0m\u001b[0m\n\u001b[0;32m-> 2715\u001b[0;31m             \u001b[0;32mreturn\u001b[0m \u001b[0mself\u001b[0m\u001b[0;34m.\u001b[0m\u001b[0m_call\u001b[0m\u001b[0;34m(\u001b[0m\u001b[0minputs\u001b[0m\u001b[0;34m)\u001b[0m\u001b[0;34m\u001b[0m\u001b[0;34m\u001b[0m\u001b[0m\n\u001b[0m\u001b[1;32m   2716\u001b[0m         \u001b[0;32melse\u001b[0m\u001b[0;34m:\u001b[0m\u001b[0;34m\u001b[0m\u001b[0;34m\u001b[0m\u001b[0m\n\u001b[1;32m   2717\u001b[0m             \u001b[0;32mif\u001b[0m \u001b[0mpy_any\u001b[0m\u001b[0;34m(\u001b[0m\u001b[0mis_tensor\u001b[0m\u001b[0;34m(\u001b[0m\u001b[0mx\u001b[0m\u001b[0;34m)\u001b[0m \u001b[0;32mfor\u001b[0m \u001b[0mx\u001b[0m \u001b[0;32min\u001b[0m \u001b[0minputs\u001b[0m\u001b[0;34m)\u001b[0m\u001b[0;34m:\u001b[0m\u001b[0;34m\u001b[0m\u001b[0;34m\u001b[0m\u001b[0m\n",
      "\u001b[0;32m~/miniconda3/envs/SPEEDCOM/lib/python3.6/site-packages/keras/backend/tensorflow_backend.py\u001b[0m in \u001b[0;36m_call\u001b[0;34m(self, inputs)\u001b[0m\n\u001b[1;32m   2673\u001b[0m             \u001b[0mfetched\u001b[0m \u001b[0;34m=\u001b[0m \u001b[0mself\u001b[0m\u001b[0;34m.\u001b[0m\u001b[0m_callable_fn\u001b[0m\u001b[0;34m(\u001b[0m\u001b[0;34m*\u001b[0m\u001b[0marray_vals\u001b[0m\u001b[0;34m,\u001b[0m \u001b[0mrun_metadata\u001b[0m\u001b[0;34m=\u001b[0m\u001b[0mself\u001b[0m\u001b[0;34m.\u001b[0m\u001b[0mrun_metadata\u001b[0m\u001b[0;34m)\u001b[0m\u001b[0;34m\u001b[0m\u001b[0;34m\u001b[0m\u001b[0m\n\u001b[1;32m   2674\u001b[0m         \u001b[0;32melse\u001b[0m\u001b[0;34m:\u001b[0m\u001b[0;34m\u001b[0m\u001b[0;34m\u001b[0m\u001b[0m\n\u001b[0;32m-> 2675\u001b[0;31m             \u001b[0mfetched\u001b[0m \u001b[0;34m=\u001b[0m \u001b[0mself\u001b[0m\u001b[0;34m.\u001b[0m\u001b[0m_callable_fn\u001b[0m\u001b[0;34m(\u001b[0m\u001b[0;34m*\u001b[0m\u001b[0marray_vals\u001b[0m\u001b[0;34m)\u001b[0m\u001b[0;34m\u001b[0m\u001b[0;34m\u001b[0m\u001b[0m\n\u001b[0m\u001b[1;32m   2676\u001b[0m         \u001b[0;32mreturn\u001b[0m \u001b[0mfetched\u001b[0m\u001b[0;34m[\u001b[0m\u001b[0;34m:\u001b[0m\u001b[0mlen\u001b[0m\u001b[0;34m(\u001b[0m\u001b[0mself\u001b[0m\u001b[0;34m.\u001b[0m\u001b[0moutputs\u001b[0m\u001b[0;34m)\u001b[0m\u001b[0;34m]\u001b[0m\u001b[0;34m\u001b[0m\u001b[0;34m\u001b[0m\u001b[0m\n\u001b[1;32m   2677\u001b[0m \u001b[0;34m\u001b[0m\u001b[0m\n",
      "\u001b[0;32m~/miniconda3/envs/SPEEDCOM/lib/python3.6/site-packages/tensorflow/python/client/session.py\u001b[0m in \u001b[0;36m__call__\u001b[0;34m(self, *args, **kwargs)\u001b[0m\n\u001b[1;32m   1380\u001b[0m           ret = tf_session.TF_SessionRunCallable(\n\u001b[1;32m   1381\u001b[0m               \u001b[0mself\u001b[0m\u001b[0;34m.\u001b[0m\u001b[0m_session\u001b[0m\u001b[0;34m.\u001b[0m\u001b[0m_session\u001b[0m\u001b[0;34m,\u001b[0m \u001b[0mself\u001b[0m\u001b[0;34m.\u001b[0m\u001b[0m_handle\u001b[0m\u001b[0;34m,\u001b[0m \u001b[0margs\u001b[0m\u001b[0;34m,\u001b[0m \u001b[0mstatus\u001b[0m\u001b[0;34m,\u001b[0m\u001b[0;34m\u001b[0m\u001b[0;34m\u001b[0m\u001b[0m\n\u001b[0;32m-> 1382\u001b[0;31m               run_metadata_ptr)\n\u001b[0m\u001b[1;32m   1383\u001b[0m         \u001b[0;32mif\u001b[0m \u001b[0mrun_metadata\u001b[0m\u001b[0;34m:\u001b[0m\u001b[0;34m\u001b[0m\u001b[0;34m\u001b[0m\u001b[0m\n\u001b[1;32m   1384\u001b[0m           \u001b[0mproto_data\u001b[0m \u001b[0;34m=\u001b[0m \u001b[0mtf_session\u001b[0m\u001b[0;34m.\u001b[0m\u001b[0mTF_GetBuffer\u001b[0m\u001b[0;34m(\u001b[0m\u001b[0mrun_metadata_ptr\u001b[0m\u001b[0;34m)\u001b[0m\u001b[0;34m\u001b[0m\u001b[0;34m\u001b[0m\u001b[0m\n",
      "\u001b[0;31mKeyboardInterrupt\u001b[0m: "
     ]
    }
   ],
   "source": [
    "history = model2.fit(x=X_train, y=y_train, batch_size=64, epochs=50, validation_data=(X_test,y_test))"
   ]
  },
  {
   "cell_type": "code",
   "execution_count": 491,
   "metadata": {},
   "outputs": [
    {
     "data": {
      "image/png": "[encoded data removed]",
      "text/plain": [
       "<Figure size 600x400 with 2 Axes>"
      ]
     },
     "metadata": {
      "needs_background": "light"
     },
     "output_type": "display_data"
    }
   ],
   "source": [
    "ModelUtils.plot_model_error(X_train,X_test,y_train.reshape(1,-1), y_test.reshape(1,-1),model2)"
   ]
  },
  {
   "cell_type": "code",
   "execution_count": 495,
   "metadata": {},
   "outputs": [
    {
     "data": {
      "text/plain": [
       "array([[5.3566126e-03],\n",
       "       [4.4996556e-05],\n",
       "       [8.5634056e-06],\n",
       "       [7.9107527e-03],\n",
       "       [5.2261442e-02],\n",
       "       [9.4506609e-01],\n",
       "       [7.9343557e-01],\n",
       "       [8.9338079e-02],\n",
       "       [1.0000000e+00],\n",
       "       [8.4444475e-01],\n",
       "       [8.8344640e-01],\n",
       "       [1.8155412e-01],\n",
       "       [1.0821245e-01],\n",
       "       [4.2256737e-01],\n",
       "       [3.4097210e-04],\n",
       "       [5.7448604e-04],\n",
       "       [9.5361644e-01],\n",
       "       [8.9515913e-03],\n",
       "       [1.8273619e-03],\n",
       "       [6.9078410e-01],\n",
       "       [1.5555339e-10],\n",
       "       [1.3533152e-03],\n",
       "       [2.7729996e-08],\n",
       "       [9.9999225e-01],\n",
       "       [1.0000000e+00],\n",
       "       [9.8182583e-01],\n",
       "       [9.4779385e-03],\n",
       "       [5.1986617e-03],\n",
       "       [1.0000000e+00],\n",
       "       [2.2147736e-02],\n",
       "       [9.9829131e-01],\n",
       "       [1.0429479e-02],\n",
       "       [1.0000000e+00],\n",
       "       [9.9997747e-01],\n",
       "       [9.4285905e-03],\n",
       "       [9.9999988e-01],\n",
       "       [8.8345900e-02],\n",
       "       [9.9955481e-01],\n",
       "       [1.4201056e-06],\n",
       "       [2.8446093e-03],\n",
       "       [1.9983868e-03],\n",
       "       [9.8573852e-01],\n",
       "       [1.0030839e-02],\n",
       "       [6.1427242e-01],\n",
       "       [2.5486518e-04],\n",
       "       [4.4468354e-04],\n",
       "       [9.8578799e-01],\n",
       "       [5.9657468e-04],\n",
       "       [9.5771767e-02],\n",
       "       [1.0012491e-03],\n",
       "       [9.8844099e-01],\n",
       "       [1.5488966e-02],\n",
       "       [4.5168094e-06],\n",
       "       [4.8024125e-05],\n",
       "       [3.3101595e-03],\n",
       "       [9.1779000e-01],\n",
       "       [1.6633859e-04],\n",
       "       [9.4435936e-01],\n",
       "       [1.0000000e+00],\n",
       "       [9.6565175e-01],\n",
       "       [9.4721606e-04],\n",
       "       [7.2802669e-13],\n",
       "       [2.0158380e-04],\n",
       "       [9.7080451e-03],\n",
       "       [9.8281050e-01],\n",
       "       [1.8791981e-02],\n",
       "       [9.3403596e-01],\n",
       "       [0.0000000e+00],\n",
       "       [1.6930107e-07],\n",
       "       [9.9950600e-01],\n",
       "       [9.7481608e-01],\n",
       "       [9.7502601e-01],\n",
       "       [3.6435956e-03],\n",
       "       [9.9999619e-01],\n",
       "       [2.2084549e-02],\n",
       "       [9.7879261e-01],\n",
       "       [9.9926955e-01],\n",
       "       [9.9999905e-01],\n",
       "       [1.1531184e-03],\n",
       "       [8.9076346e-01],\n",
       "       [9.8623890e-01],\n",
       "       [6.5976457e-04],\n",
       "       [1.9652732e-03],\n",
       "       [1.0000000e+00],\n",
       "       [1.6831093e-02],\n",
       "       [8.5251337e-01],\n",
       "       [9.8014522e-01],\n",
       "       [1.0000000e+00],\n",
       "       [7.3430204e-01],\n",
       "       [7.9530573e-01],\n",
       "       [2.9809589e-03],\n",
       "       [9.7526938e-01],\n",
       "       [9.9999952e-01],\n",
       "       [1.0000000e+00],\n",
       "       [1.4789953e-05],\n",
       "       [9.1896992e-04],\n",
       "       [9.8944455e-01],\n",
       "       [9.9999988e-01],\n",
       "       [9.8459423e-01],\n",
       "       [1.2734159e-02],\n",
       "       [4.0269078e-05],\n",
       "       [9.9901438e-01],\n",
       "       [9.9999988e-01],\n",
       "       [9.7283047e-01],\n",
       "       [6.4051877e-05],\n",
       "       [9.9999905e-01],\n",
       "       [9.9842739e-01],\n",
       "       [6.8594992e-02],\n",
       "       [5.4920354e-04],\n",
       "       [1.0000000e+00],\n",
       "       [9.9802577e-01],\n",
       "       [0.0000000e+00],\n",
       "       [2.0965567e-04],\n",
       "       [8.3228206e-04],\n",
       "       [7.9578632e-01],\n",
       "       [2.4484273e-04],\n",
       "       [7.8223199e-02],\n",
       "       [9.9643940e-01],\n",
       "       [9.9950957e-01],\n",
       "       [9.9906367e-01],\n",
       "       [1.7180881e-01],\n",
       "       [2.7224829e-03],\n",
       "       [3.4460097e-04],\n",
       "       [8.8128626e-01],\n",
       "       [1.6325123e-03],\n",
       "       [1.2531667e-02],\n",
       "       [9.9171740e-01],\n",
       "       [2.9271729e-03],\n",
       "       [6.8915370e-03],\n",
       "       [2.4826284e-03],\n",
       "       [9.9998140e-01],\n",
       "       [9.4361894e-08],\n",
       "       [9.8922414e-01],\n",
       "       [6.4994534e-04],\n",
       "       [6.8071032e-01],\n",
       "       [9.9503917e-01],\n",
       "       [9.9685021e-16],\n",
       "       [9.0448159e-01],\n",
       "       [3.1111019e-02],\n",
       "       [9.9073315e-01],\n",
       "       [3.1978972e-03],\n",
       "       [5.9321098e-04],\n",
       "       [9.6021760e-01],\n",
       "       [3.7602605e-03],\n",
       "       [9.9999499e-01],\n",
       "       [8.0253289e-05],\n",
       "       [8.9472967e-05],\n",
       "       [6.4085948e-04],\n",
       "       [6.0986556e-02],\n",
       "       [8.4204553e-04],\n",
       "       [9.2311317e-01],\n",
       "       [9.0403444e-01],\n",
       "       [1.9217766e-03],\n",
       "       [2.0167236e-03],\n",
       "       [6.9195550e-04],\n",
       "       [4.8452799e-04],\n",
       "       [4.1553914e-04],\n",
       "       [1.0000000e+00],\n",
       "       [5.5540699e-01],\n",
       "       [1.9671507e-02],\n",
       "       [1.4863265e-01],\n",
       "       [9.9720037e-01],\n",
       "       [1.2984721e-04],\n",
       "       [9.9253899e-01],\n",
       "       [1.1214094e-01],\n",
       "       [2.3283597e-04],\n",
       "       [2.2238586e-03],\n",
       "       [9.5871317e-01],\n",
       "       [1.0000000e+00],\n",
       "       [1.0000000e+00],\n",
       "       [1.5830459e-02],\n",
       "       [8.9133885e-03],\n",
       "       [1.1547143e-21],\n",
       "       [2.2511724e-02],\n",
       "       [9.9280471e-01],\n",
       "       [1.3789223e-01],\n",
       "       [9.8342890e-01],\n",
       "       [9.9997795e-01],\n",
       "       [2.1211132e-03],\n",
       "       [2.0070253e-05],\n",
       "       [9.7125643e-01],\n",
       "       [2.2131053e-03],\n",
       "       [9.6370113e-01],\n",
       "       [2.0206194e-06],\n",
       "       [1.8733518e-02],\n",
       "       [3.0622536e-07],\n",
       "       [1.0000000e+00],\n",
       "       [4.8594174e-04],\n",
       "       [2.6914321e-02],\n",
       "       [9.2894709e-01],\n",
       "       [9.9122422e-03],\n",
       "       [9.9990320e-01],\n",
       "       [9.9794620e-01],\n",
       "       [1.7507872e-01],\n",
       "       [4.1261585e-03],\n",
       "       [0.0000000e+00],\n",
       "       [2.0863451e-09],\n",
       "       [8.2585526e-01],\n",
       "       [9.6586621e-01],\n",
       "       [5.1570069e-02],\n",
       "       [3.8918713e-03],\n",
       "       [9.6730018e-01],\n",
       "       [1.0000000e+00],\n",
       "       [9.0661115e-06],\n",
       "       [1.5891448e-01],\n",
       "       [1.1874739e-03],\n",
       "       [3.0139147e-04],\n",
       "       [9.5259976e-01],\n",
       "       [9.9986351e-01],\n",
       "       [2.1966133e-07],\n",
       "       [1.6475862e-02],\n",
       "       [2.4485577e-02],\n",
       "       [0.0000000e+00],\n",
       "       [1.0000000e+00],\n",
       "       [1.0766105e-01],\n",
       "       [7.3769595e-03],\n",
       "       [9.9907422e-01],\n",
       "       [9.8186481e-01],\n",
       "       [6.4991556e-02],\n",
       "       [9.9976963e-01],\n",
       "       [8.8765744e-05],\n",
       "       [0.0000000e+00],\n",
       "       [9.7466171e-01],\n",
       "       [9.8564069e-06],\n",
       "       [6.2907576e-03],\n",
       "       [2.9429098e-06],\n",
       "       [9.0658420e-01],\n",
       "       [9.9111158e-01],\n",
       "       [8.8573563e-01],\n",
       "       [6.9790262e-01],\n",
       "       [1.2085370e-03],\n",
       "       [1.0695211e-02]], dtype=float32)"
      ]
     },
     "execution_count": 495,
     "metadata": {},
     "output_type": "execute_result"
    }
   ],
   "source": [
    "model2.predict_classes(X_train)"
   ]
  },
  {
   "cell_type": "code",
   "execution_count": null,
   "metadata": {},
   "outputs": [],
   "source": []
  },
  {
   "cell_type": "code",
   "execution_count": null,
   "metadata": {},
   "outputs": [],
   "source": []
  },
  {
   "cell_type": "code",
   "execution_count": 412,
   "metadata": {},
   "outputs": [
    {
     "data": {
      "image/png": "[encoded data removed]",
      "text/plain": [
       "<Figure size 720x576 with 2 Axes>"
      ]
     },
     "metadata": {
      "needs_background": "light"
     },
     "output_type": "display_data"
    }
   ],
   "source": [
    "hist = history.history\n",
    "\n",
    "plt.figure(figsize=(10, 8))\n",
    "\n",
    "for label in ['val_coeff_determination','coeff_determination']:\n",
    "    plt.subplot(211)\n",
    "    plt.plot(hist[label], label = label)\n",
    "    plt.legend()\n",
    "    plt.xlabel(\"Epochs\")\n",
    "    plt.ylabel(\"coeff_determination\")\n",
    "    \n",
    "for label in ['val_loss','loss']:\n",
    "    plt.subplot(212)\n",
    "    plt.plot(hist[label], label = label)\n",
    "    plt.legend()\n",
    "    plt.xlabel(\"Epochs\")\n",
    "    plt.ylabel(\"loss\")\n",
    "    \n",
    "plt.subplots_adjust(top=0.8, bottom=0.1, left=0.10, right=0.9, hspace=0.25,\n",
    "                    wspace=0.35)"
   ]
  },
  {
   "cell_type": "code",
   "execution_count": null,
   "metadata": {},
   "outputs": [],
   "source": []
  },
  {
   "cell_type": "code",
   "execution_count": null,
   "metadata": {},
   "outputs": [],
   "source": []
  },
  {
   "cell_type": "code",
   "execution_count": 180,
   "metadata": {},
   "outputs": [],
   "source": [
    "c_mtx_pc = compute_coulumb_matrixes_pca(data, cutoff_var_ratio=1e-7,SMILES_column='SMILES')"
   ]
  },
  {
   "cell_type": "code",
   "execution_count": 181,
   "metadata": {},
   "outputs": [],
   "source": [
    "data['c_mtx_pc']=pd.Series(c_mtx_pc)"
   ]
  },
  {
   "cell_type": "code",
   "execution_count": 182,
   "metadata": {},
   "outputs": [],
   "source": [
    "X_mtx_pc=np.array(list(map(np.array, data['c_mtx_pc'])))"
   ]
  },
  {
   "cell_type": "code",
   "execution_count": 183,
   "metadata": {},
   "outputs": [],
   "source": [
    "y = np.array(data['Absorption'])"
   ]
  },
  {
   "cell_type": "code",
   "execution_count": 228,
   "metadata": {},
   "outputs": [
    {
     "name": "stdout",
     "output_type": "stream",
     "text": [
      "(232, 125)\n",
      "(59, 125)\n",
      "(232, 1)\n",
      "(59, 1)\n"
     ]
    }
   ],
   "source": [
    "X_train, X_test, y_train, y_test = DataUtils.splitData(X_mtx_pc, y, ratio=0.20)\n",
    "y_train = np.reshape(y_train, (-1, 1))\n",
    "y_test = np.reshape(y_test, (-1, 1))\n",
    "print(X_train.shape)\n",
    "print(X_test.shape)\n",
    "print(y_train.shape)\n",
    "print(y_test.shape)"
   ]
  },
  {
   "cell_type": "code",
   "execution_count": 226,
   "metadata": {},
   "outputs": [
    {
     "data": {
      "text/plain": [
       "(232, 125)"
      ]
     },
     "execution_count": 226,
     "metadata": {},
     "output_type": "execute_result"
    }
   ],
   "source": [
    "X_train.shape"
   ]
  },
  {
   "cell_type": "code",
   "execution_count": 229,
   "metadata": {},
   "outputs": [
    {
     "name": "stdout",
     "output_type": "stream",
     "text": [
      "(232, 125, 1)\n",
      "(59, 125, 1)\n",
      "(232, 1)\n",
      "(59, 1)\n"
     ]
    }
   ],
   "source": [
    "X_train = np.expand_dims(X_train,axis=-1)\n",
    "X_test = np.expand_dims(X_test,axis=-1)\n",
    "print(X_train.shape)\n",
    "print(X_test.shape)\n",
    "print(y_train.shape)\n",
    "print(y_test.shape)"
   ]
  },
  {
   "cell_type": "code",
   "execution_count": 92,
   "metadata": {},
   "outputs": [],
   "source": [
    "def coeff_determination(y_true, y_pred):\n",
    "    from keras import backend as K\n",
    "    SS_res =  K.sum(K.square( y_true-y_pred ))\n",
    "    SS_tot = K.sum(K.square( y_true - K.mean(y_true) ) )\n",
    "    return ( 1 - SS_res/(SS_tot + K.epsilon()) )\n",
    "def get_lr_metric(optimizer):\n",
    "    def lr(y_true, y_pred):\n",
    "        return optimizer.lr\n",
    "    return lr"
   ]
  },
  {
   "cell_type": "code",
   "execution_count": 191,
   "metadata": {},
   "outputs": [
    {
     "name": "stdout",
     "output_type": "stream",
     "text": [
      "_________________________________________________________________\n",
      "Layer (type)                 Output Shape              Param #   \n",
      "=================================================================\n",
      "conv1d_65 (Conv1D)           (None, 110, 128)          2176      \n",
      "_________________________________________________________________\n",
      "conv1d_66 (Conv1D)           (None, 103, 128)          131200    \n",
      "_________________________________________________________________\n",
      "leaky_re_lu_5 (LeakyReLU)    (None, 103, 128)          0         \n",
      "_________________________________________________________________\n",
      "conv1d_67 (Conv1D)           (None, 100, 128)          65664     \n",
      "_________________________________________________________________\n",
      "leaky_re_lu_6 (LeakyReLU)    (None, 100, 128)          0         \n",
      "_________________________________________________________________\n",
      "flatten_14 (Flatten)         (None, 12800)             0         \n",
      "_________________________________________________________________\n",
      "dense_89 (Dense)             (None, 512)               6554112   \n",
      "_________________________________________________________________\n",
      "leaky_re_lu_7 (LeakyReLU)    (None, 512)               0         \n",
      "_________________________________________________________________\n",
      "dense_90 (Dense)             (None, 256)               131328    \n",
      "_________________________________________________________________\n",
      "dense_91 (Dense)             (None, 1)                 257       \n",
      "=================================================================\n",
      "Total params: 6,884,737\n",
      "Trainable params: 6,884,737\n",
      "Non-trainable params: 0\n",
      "_________________________________________________________________\n"
     ]
    }
   ],
   "source": [
    "model = Sequential()\n",
    "#model.add(Dense(1024, input_shape=(63,)))\n",
    "model.add(Conv1D(128,16,activation='linear',input_shape=(125,1)))\n",
    "#model.add(BatchNormalization())\n",
    "model.add(Conv1D(128,8,activation='linear'))\n",
    "model.add(LeakyReLU(alpha=.3))\n",
    "model.add(Conv1D(128,4,activation='linear'))\n",
    "model.add(LeakyReLU(alpha=.3))\n",
    "model.add(Flatten())\n",
    "#model.add(Dense(250, activation='relu'))\n",
    "#model.add(Dense(250, activation='relu'))\n",
    "#model.add(Dense(512, activation='linear'))\n",
    "#model.add(LeakyReLU(alpha=.3))\n",
    "model.add(Dense(512, activation='linear'))\n",
    "model.add(LeakyReLU(alpha=.3))\n",
    "model.add(Dense(256, activation='linear'))\n",
    "#model.add(Dropout(0.2))\n",
    "model.add(Dense(1, activation='linear'))\n",
    "model.summary()"
   ]
  },
  {
   "cell_type": "code",
   "execution_count": 192,
   "metadata": {},
   "outputs": [],
   "source": [
    "optimizer = Adam(lr=0.00025)\n",
    "lr_metric = get_lr_metric(optimizer)\n",
    "model.compile(loss=\"mse\", optimizer=optimizer, metrics=[coeff_determination, lr_metric])"
   ]
  },
  {
   "cell_type": "code",
   "execution_count": 193,
   "metadata": {},
   "outputs": [
    {
     "name": "stdout",
     "output_type": "stream",
     "text": [
      "Train on 232 samples, validate on 59 samples\n",
      "Epoch 1/100\n",
      "232/232 [==============================] - 13s 57ms/step - loss: 156366.8163 - coeff_determination: -6.6924 - lr: 2.5000e-04 - val_loss: 149452.3125 - val_coeff_determination: -5.9540 - val_lr: 2.5000e-04\n",
      "Epoch 2/100\n",
      "232/232 [==============================] - 10s 44ms/step - loss: 159341.5189 - coeff_determination: -6.8512 - lr: 2.5000e-04 - val_loss: 127880.0547 - val_coeff_determination: -4.9503 - val_lr: 2.5000e-04\n",
      "Epoch 3/100\n",
      "232/232 [==============================] - 10s 45ms/step - loss: 125663.9294 - coeff_determination: -5.1806 - lr: 2.5000e-04 - val_loss: 103107.2578 - val_coeff_determination: -3.7976 - val_lr: 2.5000e-04\n",
      "Epoch 4/100\n",
      "232/232 [==============================] - 11s 47ms/step - loss: 102207.4523 - coeff_determination: -4.0018 - lr: 2.5000e-04 - val_loss: 81723.8750 - val_coeff_determination: -2.8026 - val_lr: 2.5000e-04\n",
      "Epoch 5/100\n",
      "232/232 [==============================] - 11s 49ms/step - loss: 93735.1716 - coeff_determination: -3.5825 - lr: 2.5000e-04 - val_loss: 81198.0312 - val_coeff_determination: -2.7781 - val_lr: 2.5000e-04\n",
      "Epoch 6/100\n",
      "232/232 [==============================] - 12s 50ms/step - loss: 97710.6713 - coeff_determination: -3.7934 - lr: 2.5000e-04 - val_loss: 75538.9453 - val_coeff_determination: -2.5148 - val_lr: 2.5000e-04\n",
      "Epoch 7/100\n",
      "232/232 [==============================] - 11s 49ms/step - loss: 88604.9898 - coeff_determination: -3.3525 - lr: 2.5000e-04 - val_loss: 74772.0312 - val_coeff_determination: -2.4791 - val_lr: 2.5000e-04\n",
      "Epoch 8/100\n",
      "232/232 [==============================] - 11s 49ms/step - loss: 82500.1468 - coeff_determination: -3.0454 - lr: 2.5000e-04 - val_loss: 76049.9141 - val_coeff_determination: -2.5386 - val_lr: 2.5000e-04\n",
      "Epoch 9/100\n",
      "232/232 [==============================] - 13s 55ms/step - loss: 79933.6156 - coeff_determination: -2.9370 - lr: 2.5000e-04 - val_loss: 73816.7891 - val_coeff_determination: -2.4347 - val_lr: 2.5000e-04\n",
      "Epoch 10/100\n",
      "232/232 [==============================] - 13s 55ms/step - loss: 74938.4465 - coeff_determination: -2.7959 - lr: 2.5000e-04 - val_loss: 69520.6094 - val_coeff_determination: -2.2348 - val_lr: 2.5000e-04\n",
      "Epoch 11/100\n",
      "232/232 [==============================] - 12s 50ms/step - loss: 69432.8613 - coeff_determination: -2.4226 - lr: 2.5000e-04 - val_loss: 69996.4062 - val_coeff_determination: -2.2569 - val_lr: 2.5000e-04\n",
      "Epoch 12/100\n",
      "232/232 [==============================] - 12s 52ms/step - loss: 68606.9060 - coeff_determination: -2.3398 - lr: 2.5000e-04 - val_loss: 71611.1641 - val_coeff_determination: -2.3321 - val_lr: 2.5000e-04\n",
      "Epoch 13/100\n",
      "232/232 [==============================] - 12s 52ms/step - loss: 66062.4010 - coeff_determination: -2.3698 - lr: 2.5000e-04 - val_loss: 69568.3828 - val_coeff_determination: -2.2370 - val_lr: 2.5000e-04\n",
      "Epoch 14/100\n",
      "232/232 [==============================] - 12s 51ms/step - loss: 61245.8491 - coeff_determination: -1.9745 - lr: 2.5000e-04 - val_loss: 67031.9766 - val_coeff_determination: -2.1190 - val_lr: 2.5000e-04\n",
      "Epoch 15/100\n",
      "232/232 [==============================] - 12s 53ms/step - loss: 59065.6651 - coeff_determination: -1.8896 - lr: 2.5000e-04 - val_loss: 66269.1641 - val_coeff_determination: -2.0835 - val_lr: 2.5000e-04\n",
      "Epoch 16/100\n",
      "232/232 [==============================] - 12s 53ms/step - loss: 57865.4987 - coeff_determination: -1.8070 - lr: 2.5000e-04 - val_loss: 69513.5312 - val_coeff_determination: -2.2345 - val_lr: 2.5000e-04\n",
      "Epoch 17/100\n",
      "232/232 [==============================] - 11s 49ms/step - loss: 54278.0124 - coeff_determination: -1.7007 - lr: 2.5000e-04 - val_loss: 70981.2266 - val_coeff_determination: -2.3028 - val_lr: 2.5000e-04\n",
      "Epoch 18/100\n",
      "232/232 [==============================] - 13s 55ms/step - loss: 52500.8610 - coeff_determination: -1.6133 - lr: 2.5000e-04 - val_loss: 75291.6797 - val_coeff_determination: -2.5033 - val_lr: 2.5000e-04\n",
      "Epoch 19/100\n",
      "232/232 [==============================] - 12s 52ms/step - loss: 49492.9498 - coeff_determination: -1.4586 - lr: 2.5000e-04 - val_loss: 72214.3672 - val_coeff_determination: -2.3601 - val_lr: 2.5000e-04\n",
      "Epoch 20/100\n",
      "232/232 [==============================] - 11s 48ms/step - loss: 46074.4188 - coeff_determination: -1.2388 - lr: 2.5000e-04 - val_loss: 71113.0312 - val_coeff_determination: -2.3089 - val_lr: 2.5000e-04\n",
      "Epoch 21/100\n",
      "232/232 [==============================] - 11s 48ms/step - loss: 43406.2796 - coeff_determination: -1.1665 - lr: 2.5000e-04 - val_loss: 72770.5938 - val_coeff_determination: -2.3860 - val_lr: 2.5000e-04\n",
      "Epoch 22/100\n",
      "232/232 [==============================] - 11s 48ms/step - loss: 40827.9682 - coeff_determination: -1.1341 - lr: 2.5000e-04 - val_loss: 67245.6797 - val_coeff_determination: -2.1289 - val_lr: 2.5000e-04\n",
      "Epoch 23/100\n",
      "232/232 [==============================] - 11s 48ms/step - loss: 37536.7606 - coeff_determination: -0.8406 - lr: 2.5000e-04 - val_loss: 65932.2266 - val_coeff_determination: -2.0678 - val_lr: 2.5000e-04\n",
      "Epoch 24/100\n",
      "232/232 [==============================] - 11s 48ms/step - loss: 35562.5298 - coeff_determination: -0.7455 - lr: 2.5000e-04 - val_loss: 65958.7812 - val_coeff_determination: -2.0691 - val_lr: 2.5000e-04\n",
      "Epoch 25/100\n",
      "232/232 [==============================] - 11s 48ms/step - loss: 32569.0199 - coeff_determination: -0.6076 - lr: 2.5000e-04 - val_loss: 58816.0312 - val_coeff_determination: -1.7367 - val_lr: 2.5000e-04\n",
      "Epoch 26/100\n",
      "232/232 [==============================] - 12s 50ms/step - loss: 30308.0795 - coeff_determination: -0.5431 - lr: 2.5000e-04 - val_loss: 56403.5781 - val_coeff_determination: -1.6245 - val_lr: 2.5000e-04\n",
      "Epoch 27/100\n",
      "232/232 [==============================] - 11s 47ms/step - loss: 28414.0985 - coeff_determination: -0.4038 - lr: 2.5000e-04 - val_loss: 55901.8203 - val_coeff_determination: -1.6011 - val_lr: 2.5000e-04\n",
      "Epoch 28/100\n",
      "232/232 [==============================] - 11s 48ms/step - loss: 26555.2308 - coeff_determination: -0.2997 - lr: 2.5000e-04 - val_loss: 58705.8359 - val_coeff_determination: -1.7316 - val_lr: 2.5000e-04\n",
      "Epoch 29/100\n",
      "232/232 [==============================] - 11s 48ms/step - loss: 24172.7574 - coeff_determination: -0.1752 - lr: 2.5000e-04 - val_loss: 61326.7031 - val_coeff_determination: -1.8535 - val_lr: 2.5000e-04\n",
      "Epoch 30/100\n",
      "232/232 [==============================] - 12s 51ms/step - loss: 25111.7868 - coeff_determination: -0.2362 - lr: 2.5000e-04 - val_loss: 60277.5703 - val_coeff_determination: -1.8047 - val_lr: 2.5000e-04\n",
      "Epoch 31/100\n",
      "232/232 [==============================] - 12s 50ms/step - loss: 21327.3997 - coeff_determination: -0.0598 - lr: 2.5000e-04 - val_loss: 52464.4297 - val_coeff_determination: -1.4412 - val_lr: 2.5000e-04\n",
      "Epoch 32/100\n",
      "232/232 [==============================] - 12s 50ms/step - loss: 31715.1251 - coeff_determination: -0.5276 - lr: 2.5000e-04 - val_loss: 49763.6094 - val_coeff_determination: -1.3155 - val_lr: 2.5000e-04\n",
      "Epoch 33/100\n",
      "232/232 [==============================] - 12s 53ms/step - loss: 22430.3858 - coeff_determination: -0.1021 - lr: 2.5000e-04 - val_loss: 60740.0938 - val_coeff_determination: -1.8262 - val_lr: 2.5000e-04\n",
      "Epoch 34/100\n",
      "128/232 [===============>..............] - ETA: 4s - loss: 24945.9160 - coeff_determination: -0.3681 - lr: 2.5000e-04"
     ]
    },
    {
     "ename": "KeyboardInterrupt",
     "evalue": "",
     "output_type": "error",
     "traceback": [
      "\u001b[0;31m---------------------------------------------------------------------------\u001b[0m",
      "\u001b[0;31mKeyboardInterrupt\u001b[0m                         Traceback (most recent call last)",
      "\u001b[0;32m<ipython-input-193-e4da21865051>\u001b[0m in \u001b[0;36m<module>\u001b[0;34m\u001b[0m\n\u001b[0;32m----> 1\u001b[0;31m \u001b[0mhistory\u001b[0m \u001b[0;34m=\u001b[0m \u001b[0mmodel\u001b[0m\u001b[0;34m.\u001b[0m\u001b[0mfit\u001b[0m\u001b[0;34m(\u001b[0m\u001b[0mx\u001b[0m\u001b[0;34m=\u001b[0m\u001b[0mX_train\u001b[0m\u001b[0;34m,\u001b[0m \u001b[0my\u001b[0m\u001b[0;34m=\u001b[0m\u001b[0my_train\u001b[0m\u001b[0;34m,\u001b[0m \u001b[0mbatch_size\u001b[0m\u001b[0;34m=\u001b[0m\u001b[0;36m128\u001b[0m\u001b[0;34m,\u001b[0m \u001b[0mepochs\u001b[0m\u001b[0;34m=\u001b[0m\u001b[0;36m100\u001b[0m\u001b[0;34m,\u001b[0m \u001b[0mvalidation_data\u001b[0m\u001b[0;34m=\u001b[0m\u001b[0;34m(\u001b[0m\u001b[0mX_test\u001b[0m\u001b[0;34m,\u001b[0m\u001b[0my_test\u001b[0m\u001b[0;34m)\u001b[0m\u001b[0;34m)\u001b[0m\u001b[0;34m\u001b[0m\u001b[0;34m\u001b[0m\u001b[0m\n\u001b[0m",
      "\u001b[0;32m~/miniconda3/envs/SPEEDCOM/lib/python3.6/site-packages/keras/engine/training.py\u001b[0m in \u001b[0;36mfit\u001b[0;34m(self, x, y, batch_size, epochs, verbose, callbacks, validation_split, validation_data, shuffle, class_weight, sample_weight, initial_epoch, steps_per_epoch, validation_steps, **kwargs)\u001b[0m\n\u001b[1;32m   1037\u001b[0m                                         \u001b[0minitial_epoch\u001b[0m\u001b[0;34m=\u001b[0m\u001b[0minitial_epoch\u001b[0m\u001b[0;34m,\u001b[0m\u001b[0;34m\u001b[0m\u001b[0;34m\u001b[0m\u001b[0m\n\u001b[1;32m   1038\u001b[0m                                         \u001b[0msteps_per_epoch\u001b[0m\u001b[0;34m=\u001b[0m\u001b[0msteps_per_epoch\u001b[0m\u001b[0;34m,\u001b[0m\u001b[0;34m\u001b[0m\u001b[0;34m\u001b[0m\u001b[0m\n\u001b[0;32m-> 1039\u001b[0;31m                                         validation_steps=validation_steps)\n\u001b[0m\u001b[1;32m   1040\u001b[0m \u001b[0;34m\u001b[0m\u001b[0m\n\u001b[1;32m   1041\u001b[0m     def evaluate(self, x=None, y=None,\n",
      "\u001b[0;32m~/miniconda3/envs/SPEEDCOM/lib/python3.6/site-packages/keras/engine/training_arrays.py\u001b[0m in \u001b[0;36mfit_loop\u001b[0;34m(model, f, ins, out_labels, batch_size, epochs, verbose, callbacks, val_f, val_ins, shuffle, callback_metrics, initial_epoch, steps_per_epoch, validation_steps)\u001b[0m\n\u001b[1;32m    197\u001b[0m                     \u001b[0mins_batch\u001b[0m\u001b[0;34m[\u001b[0m\u001b[0mi\u001b[0m\u001b[0;34m]\u001b[0m \u001b[0;34m=\u001b[0m \u001b[0mins_batch\u001b[0m\u001b[0;34m[\u001b[0m\u001b[0mi\u001b[0m\u001b[0;34m]\u001b[0m\u001b[0;34m.\u001b[0m\u001b[0mtoarray\u001b[0m\u001b[0;34m(\u001b[0m\u001b[0;34m)\u001b[0m\u001b[0;34m\u001b[0m\u001b[0;34m\u001b[0m\u001b[0m\n\u001b[1;32m    198\u001b[0m \u001b[0;34m\u001b[0m\u001b[0m\n\u001b[0;32m--> 199\u001b[0;31m                 \u001b[0mouts\u001b[0m \u001b[0;34m=\u001b[0m \u001b[0mf\u001b[0m\u001b[0;34m(\u001b[0m\u001b[0mins_batch\u001b[0m\u001b[0;34m)\u001b[0m\u001b[0;34m\u001b[0m\u001b[0;34m\u001b[0m\u001b[0m\n\u001b[0m\u001b[1;32m    200\u001b[0m                 \u001b[0mouts\u001b[0m \u001b[0;34m=\u001b[0m \u001b[0mto_list\u001b[0m\u001b[0;34m(\u001b[0m\u001b[0mouts\u001b[0m\u001b[0;34m)\u001b[0m\u001b[0;34m\u001b[0m\u001b[0;34m\u001b[0m\u001b[0m\n\u001b[1;32m    201\u001b[0m                 \u001b[0;32mfor\u001b[0m \u001b[0ml\u001b[0m\u001b[0;34m,\u001b[0m \u001b[0mo\u001b[0m \u001b[0;32min\u001b[0m \u001b[0mzip\u001b[0m\u001b[0;34m(\u001b[0m\u001b[0mout_labels\u001b[0m\u001b[0;34m,\u001b[0m \u001b[0mouts\u001b[0m\u001b[0;34m)\u001b[0m\u001b[0;34m:\u001b[0m\u001b[0;34m\u001b[0m\u001b[0;34m\u001b[0m\u001b[0m\n",
      "\u001b[0;32m~/miniconda3/envs/SPEEDCOM/lib/python3.6/site-packages/keras/backend/tensorflow_backend.py\u001b[0m in \u001b[0;36m__call__\u001b[0;34m(self, inputs)\u001b[0m\n\u001b[1;32m   2713\u001b[0m                 \u001b[0;32mreturn\u001b[0m \u001b[0mself\u001b[0m\u001b[0;34m.\u001b[0m\u001b[0m_legacy_call\u001b[0m\u001b[0;34m(\u001b[0m\u001b[0minputs\u001b[0m\u001b[0;34m)\u001b[0m\u001b[0;34m\u001b[0m\u001b[0;34m\u001b[0m\u001b[0m\n\u001b[1;32m   2714\u001b[0m \u001b[0;34m\u001b[0m\u001b[0m\n\u001b[0;32m-> 2715\u001b[0;31m             \u001b[0;32mreturn\u001b[0m \u001b[0mself\u001b[0m\u001b[0;34m.\u001b[0m\u001b[0m_call\u001b[0m\u001b[0;34m(\u001b[0m\u001b[0minputs\u001b[0m\u001b[0;34m)\u001b[0m\u001b[0;34m\u001b[0m\u001b[0;34m\u001b[0m\u001b[0m\n\u001b[0m\u001b[1;32m   2716\u001b[0m         \u001b[0;32melse\u001b[0m\u001b[0;34m:\u001b[0m\u001b[0;34m\u001b[0m\u001b[0;34m\u001b[0m\u001b[0m\n\u001b[1;32m   2717\u001b[0m             \u001b[0;32mif\u001b[0m \u001b[0mpy_any\u001b[0m\u001b[0;34m(\u001b[0m\u001b[0mis_tensor\u001b[0m\u001b[0;34m(\u001b[0m\u001b[0mx\u001b[0m\u001b[0;34m)\u001b[0m \u001b[0;32mfor\u001b[0m \u001b[0mx\u001b[0m \u001b[0;32min\u001b[0m \u001b[0minputs\u001b[0m\u001b[0;34m)\u001b[0m\u001b[0;34m:\u001b[0m\u001b[0;34m\u001b[0m\u001b[0;34m\u001b[0m\u001b[0m\n",
      "\u001b[0;32m~/miniconda3/envs/SPEEDCOM/lib/python3.6/site-packages/keras/backend/tensorflow_backend.py\u001b[0m in \u001b[0;36m_call\u001b[0;34m(self, inputs)\u001b[0m\n\u001b[1;32m   2673\u001b[0m             \u001b[0mfetched\u001b[0m \u001b[0;34m=\u001b[0m \u001b[0mself\u001b[0m\u001b[0;34m.\u001b[0m\u001b[0m_callable_fn\u001b[0m\u001b[0;34m(\u001b[0m\u001b[0;34m*\u001b[0m\u001b[0marray_vals\u001b[0m\u001b[0;34m,\u001b[0m \u001b[0mrun_metadata\u001b[0m\u001b[0;34m=\u001b[0m\u001b[0mself\u001b[0m\u001b[0;34m.\u001b[0m\u001b[0mrun_metadata\u001b[0m\u001b[0;34m)\u001b[0m\u001b[0;34m\u001b[0m\u001b[0;34m\u001b[0m\u001b[0m\n\u001b[1;32m   2674\u001b[0m         \u001b[0;32melse\u001b[0m\u001b[0;34m:\u001b[0m\u001b[0;34m\u001b[0m\u001b[0;34m\u001b[0m\u001b[0m\n\u001b[0;32m-> 2675\u001b[0;31m             \u001b[0mfetched\u001b[0m \u001b[0;34m=\u001b[0m \u001b[0mself\u001b[0m\u001b[0;34m.\u001b[0m\u001b[0m_callable_fn\u001b[0m\u001b[0;34m(\u001b[0m\u001b[0;34m*\u001b[0m\u001b[0marray_vals\u001b[0m\u001b[0;34m)\u001b[0m\u001b[0;34m\u001b[0m\u001b[0;34m\u001b[0m\u001b[0m\n\u001b[0m\u001b[1;32m   2676\u001b[0m         \u001b[0;32mreturn\u001b[0m \u001b[0mfetched\u001b[0m\u001b[0;34m[\u001b[0m\u001b[0;34m:\u001b[0m\u001b[0mlen\u001b[0m\u001b[0;34m(\u001b[0m\u001b[0mself\u001b[0m\u001b[0;34m.\u001b[0m\u001b[0moutputs\u001b[0m\u001b[0;34m)\u001b[0m\u001b[0;34m]\u001b[0m\u001b[0;34m\u001b[0m\u001b[0;34m\u001b[0m\u001b[0m\n\u001b[1;32m   2677\u001b[0m \u001b[0;34m\u001b[0m\u001b[0m\n",
      "\u001b[0;32m~/miniconda3/envs/SPEEDCOM/lib/python3.6/site-packages/tensorflow/python/client/session.py\u001b[0m in \u001b[0;36m__call__\u001b[0;34m(self, *args, **kwargs)\u001b[0m\n\u001b[1;32m   1380\u001b[0m           ret = tf_session.TF_SessionRunCallable(\n\u001b[1;32m   1381\u001b[0m               \u001b[0mself\u001b[0m\u001b[0;34m.\u001b[0m\u001b[0m_session\u001b[0m\u001b[0;34m.\u001b[0m\u001b[0m_session\u001b[0m\u001b[0;34m,\u001b[0m \u001b[0mself\u001b[0m\u001b[0;34m.\u001b[0m\u001b[0m_handle\u001b[0m\u001b[0;34m,\u001b[0m \u001b[0margs\u001b[0m\u001b[0;34m,\u001b[0m \u001b[0mstatus\u001b[0m\u001b[0;34m,\u001b[0m\u001b[0;34m\u001b[0m\u001b[0;34m\u001b[0m\u001b[0m\n\u001b[0;32m-> 1382\u001b[0;31m               run_metadata_ptr)\n\u001b[0m\u001b[1;32m   1383\u001b[0m         \u001b[0;32mif\u001b[0m \u001b[0mrun_metadata\u001b[0m\u001b[0;34m:\u001b[0m\u001b[0;34m\u001b[0m\u001b[0;34m\u001b[0m\u001b[0m\n\u001b[1;32m   1384\u001b[0m           \u001b[0mproto_data\u001b[0m \u001b[0;34m=\u001b[0m \u001b[0mtf_session\u001b[0m\u001b[0;34m.\u001b[0m\u001b[0mTF_GetBuffer\u001b[0m\u001b[0;34m(\u001b[0m\u001b[0mrun_metadata_ptr\u001b[0m\u001b[0;34m)\u001b[0m\u001b[0;34m\u001b[0m\u001b[0;34m\u001b[0m\u001b[0m\n",
      "\u001b[0;31mKeyboardInterrupt\u001b[0m: "
     ]
    }
   ],
   "source": [
    "history = model.fit(x=X_train, y=y_train, batch_size=128, epochs=100, validation_data=(X_test,y_test))"
   ]
  },
  {
   "cell_type": "code",
   "execution_count": 179,
   "metadata": {},
   "outputs": [
    {
     "data": {
      "image/png": "[encoded data removed]",
      "text/plain": [
       "<Figure size 600x400 with 2 Axes>"
      ]
     },
     "metadata": {
      "needs_background": "light"
     },
     "output_type": "display_data"
    }
   ],
   "source": [
    "ModelUtils.plot_model_error(X_train,X_test,y_train.reshape(1,-1), y_test.reshape(1,-1),model)"
   ]
  },
  {
   "cell_type": "code",
   "execution_count": 168,
   "metadata": {},
   "outputs": [
    {
     "data": {
      "image/png": "[encoded data removed]",
      "text/plain": [
       "<Figure size 720x576 with 2 Axes>"
      ]
     },
     "metadata": {
      "needs_background": "light"
     },
     "output_type": "display_data"
    }
   ],
   "source": [
    "hist = history.history\n",
    "\n",
    "plt.figure(figsize=(10, 8))\n",
    "\n",
    "for label in ['val_coeff_determination','coeff_determination']:\n",
    "    plt.subplot(211)\n",
    "    plt.plot(hist[label], label = label)\n",
    "    plt.legend()\n",
    "    plt.xlabel(\"Epochs\")\n",
    "    plt.ylabel(\"coeff_determination\")\n",
    "    \n",
    "for label in ['val_loss','loss']:\n",
    "    plt.subplot(212)\n",
    "    plt.plot(hist[label], label = label)\n",
    "    plt.legend()\n",
    "    plt.xlabel(\"Epochs\")\n",
    "    plt.ylabel(\"loss\")\n",
    "    \n",
    "plt.subplots_adjust(top=0.8, bottom=0.1, left=0.10, right=0.9, hspace=0.25,\n",
    "                    wspace=0.35)"
   ]
  },
  {
   "cell_type": "code",
   "execution_count": null,
   "metadata": {},
   "outputs": [],
   "source": []
  },
  {
   "cell_type": "code",
   "execution_count": null,
   "metadata": {},
   "outputs": [],
   "source": []
  },
  {
   "cell_type": "code",
   "execution_count": null,
   "metadata": {},
   "outputs": [],
   "source": [
    "c_mtx_eig = compute_coulumb_matrixes(data, use_eigval=True, SMILES_column='SMILES')"
   ]
  },
  {
   "cell_type": "code",
   "execution_count": null,
   "metadata": {},
   "outputs": [],
   "source": []
  },
  {
   "cell_type": "code",
   "execution_count": 537,
   "metadata": {},
   "outputs": [
    {
     "data": {
      "text/plain": [
       "10.0"
      ]
     },
     "execution_count": 537,
     "metadata": {},
     "output_type": "execute_result"
    }
   ],
   "source": [
    "20 / 2"
   ]
  },
  {
   "cell_type": "code",
   "execution_count": 539,
   "metadata": {},
   "outputs": [
    {
     "data": {
      "text/plain": [
       "5"
      ]
     },
     "execution_count": 539,
     "metadata": {},
     "output_type": "execute_result"
    }
   ],
   "source": [
    "int(11 / 2)"
   ]
  },
  {
   "cell_type": "code",
   "execution_count": null,
   "metadata": {},
   "outputs": [],
   "source": []
  }
 ],
 "metadata": {
  "kernelspec": {
   "display_name": "Python [conda env:SPEEDCOM]",
   "language": "python",
   "name": "conda-env-SPEEDCOM-py"
  },
  "language_info": {
   "codemirror_mode": {
    "name": "ipython",
    "version": 3
   },
   "file_extension": ".py",
   "mimetype": "text/x-python",
   "name": "python",
   "nbconvert_exporter": "python",
   "pygments_lexer": "ipython3",
   "version": "3.6.7"
  }
 },
 "nbformat": 4,
 "nbformat_minor": 2
}
