{
 "cells": [
  {
   "cell_type": "markdown",
   "metadata": {},
   "source": [
    "## Importing packages and reading data"
   ]
  },
  {
   "cell_type": "code",
   "execution_count": 2,
   "metadata": {},
   "outputs": [],
   "source": [
    "import pandas as pd\n",
    "\n",
    "import rdkit\n",
    "from rdkit import Chem\n",
    "from rdkit.Chem import AllChem\n",
    "from rdkit.Chem.AllChem import GenerateDepictionMatching3DStructure as Struct_3D\n",
    "from rdkit.ForceField.rdForceField import MMFFMolProperties as properties\n",
    "import rdkit.Chem.Draw as draw\n",
    "\n",
    "from itertools import zip_longest\n",
    "#from mpl_toolkits.mplot3d import Axes3D\n"
   ]
  },
  {
   "cell_type": "code",
   "execution_count": 3,
   "metadata": {},
   "outputs": [
    {
     "data": {
      "text/html": [
       "<div>\n",
       "<style scoped>\n",
       "    .dataframe tbody tr th:only-of-type {\n",
       "        vertical-align: middle;\n",
       "    }\n",
       "\n",
       "    .dataframe tbody tr th {\n",
       "        vertical-align: top;\n",
       "    }\n",
       "\n",
       "    .dataframe thead th {\n",
       "        text-align: right;\n",
       "    }\n",
       "</style>\n",
       "<table border=\"1\" class=\"dataframe\">\n",
       "  <thead>\n",
       "    <tr style=\"text-align: right;\">\n",
       "      <th></th>\n",
       "      <th>Name</th>\n",
       "      <th>name_smiles</th>\n",
       "      <th>Wavelength</th>\n",
       "      <th>Epsilon</th>\n",
       "      <th>Quantum Yield</th>\n",
       "    </tr>\n",
       "    <tr>\n",
       "      <th>#</th>\n",
       "      <th></th>\n",
       "      <th></th>\n",
       "      <th></th>\n",
       "      <th></th>\n",
       "      <th></th>\n",
       "    </tr>\n",
       "  </thead>\n",
       "  <tbody>\n",
       "    <tr>\n",
       "      <th>1</th>\n",
       "      <td>Benzene</td>\n",
       "      <td>C1=CC=CC=C1</td>\n",
       "      <td>254.75</td>\n",
       "      <td>210</td>\n",
       "      <td>0.053</td>\n",
       "    </tr>\n",
       "    <tr>\n",
       "      <th>2</th>\n",
       "      <td>Toluene</td>\n",
       "      <td>CC1=CC=CC=C1</td>\n",
       "      <td>261.75</td>\n",
       "      <td>2,860</td>\n",
       "      <td>0.170</td>\n",
       "    </tr>\n",
       "    <tr>\n",
       "      <th>3</th>\n",
       "      <td>o-Xylene</td>\n",
       "      <td>CC1=CC=CC=C1C</td>\n",
       "      <td>263.00</td>\n",
       "      <td>254</td>\n",
       "      <td>0.170</td>\n",
       "    </tr>\n",
       "  </tbody>\n",
       "</table>\n",
       "</div>"
      ],
      "text/plain": [
       "       Name    name_smiles  Wavelength Epsilon  Quantum Yield\n",
       "#                                                            \n",
       "1   Benzene    C1=CC=CC=C1      254.75     210          0.053\n",
       "2   Toluene   CC1=CC=CC=C1      261.75   2,860          0.170\n",
       "3  o-Xylene  CC1=CC=CC=C1C      263.00     254          0.170"
      ]
     },
     "execution_count": 3,
     "metadata": {},
     "output_type": "execute_result"
    }
   ],
   "source": [
    "df = pd.read_csv('temp_cleaned_data.tsv',sep='\\t')\n",
    "df = df.set_index('#')\n",
    "df.head(3)"
   ]
  },
  {
   "cell_type": "markdown",
   "metadata": {},
   "source": [
    "## Generating a Coulomb matrix for benzene"
   ]
  },
  {
   "cell_type": "code",
   "execution_count": 4,
   "metadata": {},
   "outputs": [
    {
     "data": {
      "image/png": "[encoded data removed]",
      "text/plain": [
       "<PIL.Image.Image image mode=RGBA size=300x300 at 0x11F85EE48>"
      ]
     },
     "execution_count": 4,
     "metadata": {},
     "output_type": "execute_result"
    }
   ],
   "source": [
    "# Defining the SMILES string from df\n",
    "benz_smiles = df.name_smiles[1]\n",
    "# Building the benzene molecule\n",
    "benz = Chem.MolFromSmiles(benz_smiles)\n",
    "# 'Embedding' the molecule to assign coordinates to nuclei\n",
    "AllChem.EmbedMolecule(benz)\n",
    "# Optimising the molecule\n",
    "AllChem.MMFFOptimizeMolecule(benz)\n",
    "# Generating universal force field model\n",
    "ff1 = AllChem.UFFGetMoleculeForceField(benz)\n",
    "# Getting the positions of nuclei; returned as a tuple of the form (x1, y1, z1, x2, y2, z2, x3, ...)\n",
    "pos1 = ff1.Positions()\n",
    "# Drawing the molecule\n",
    "draw.MolToImage(benz, kekulize=False) # can also use .MolToFile to save to a file"
   ]
  },
  {
   "cell_type": "code",
   "execution_count": 5,
   "metadata": {
    "scrolled": false
   },
   "outputs": [
    {
     "data": {
      "image/png": "[encoded data removed]",
      "text/plain": [
       "<PIL.Image.Image image mode=RGBA size=300x300 at 0x11FD0E908>"
      ]
     },
     "execution_count": 5,
     "metadata": {},
     "output_type": "execute_result"
    }
   ],
   "source": [
    "# Adding Hydrogens to the structure and repeating the process\n",
    "benz_H = Chem.AddHs(benz)\n",
    "AllChem.EmbedMolecule(benz_H)\n",
    "AllChem.MMFFOptimizeMolecule(benz_H)\n",
    "ff2 = AllChem.UFFGetMoleculeForceField(benz_H)\n",
    "pos2 = ff2.Positions()\n",
    "draw.MolToImage(benz_H, kekulize=False)"
   ]
  },
  {
   "cell_type": "code",
   "execution_count": 10,
   "metadata": {},
   "outputs": [],
   "source": [
    "benz_type = benz_H.GetAtoms()"
   ]
  },
  {
   "cell_type": "code",
   "execution_count": 12,
   "metadata": {},
   "outputs": [
    {
     "name": "stdout",
     "output_type": "stream",
     "text": [
      "6\n",
      "6\n",
      "6\n",
      "6\n",
      "6\n",
      "6\n",
      "1\n",
      "1\n",
      "1\n",
      "1\n",
      "1\n",
      "1\n"
     ]
    }
   ],
   "source": [
    "for atom in benz_type:\n",
    "    print(atom.GetAtomicNum())"
   ]
  },
  {
   "cell_type": "code",
   "execution_count": 13,
   "metadata": {},
   "outputs": [
    {
     "name": "stdout",
     "output_type": "stream",
     "text": [
      "Number of nuclei in benzene without Hydrogens: 6.0\n",
      "Number of nuclei in benzene with Hydrogens: 12.0\n"
     ]
    }
   ],
   "source": [
    "# Showing the lengths of the tuples containing the coordinates of nuclei for both versions of benzene:\n",
    "# (pos1 is benzene without Hydrogens)\n",
    "# (pos2 is benzene with Hydrogens)\n",
    "\n",
    "print('Number of nuclei in benzene without Hydrogens: ' + str(len(pos1)/3))\n",
    "print('Number of nuclei in benzene with Hydrogens: ' + str(len(pos2)/3))"
   ]
  },
  {
   "cell_type": "markdown",
   "metadata": {},
   "source": [
    "### STATING THE OBVIOUS: We must remember to **add Hydrogens** to the structure because SMILES omits them!"
   ]
  },
  {
   "cell_type": "code",
   "execution_count": 14,
   "metadata": {},
   "outputs": [],
   "source": [
    "def grouper(n, iterable, fillvalue=None):\n",
    "    \"grouper(3, 'ABCDEFG', 'x') --> ABC DEF Gxx\"\n",
    "    args = [iter(iterable)] * n\n",
    "    return zip_longest(fillvalue=fillvalue, *args)"
   ]
  },
  {
   "cell_type": "code",
   "execution_count": 19,
   "metadata": {},
   "outputs": [
    {
     "data": {
      "image/png": "[encoded data removed]",
      "text/plain": [
       "<Figure size 432x288 with 1 Axes>"
      ]
     },
     "metadata": {
      "needs_background": "light"
     },
     "output_type": "display_data"
    }
   ],
   "source": [
    "import matplotlib.pyplot as plt\n",
    "x = []\n",
    "y = []\n",
    "z = []\n",
    "\n",
    "fig = plt.figure()\n",
    "ax = fig.add_subplot(111, projection='3d')\n",
    "for item1, item2, item3 in grouper(3, pos2):\n",
    "    x.append(item1)\n",
    "    y.append(item2)\n",
    "    z.append(item3)\n",
    "    ax.scatter(item1, item2, item3)\n",
    "    # Do something with item1 and item2"
   ]
  },
  {
   "cell_type": "code",
   "execution_count": 63,
   "metadata": {},
   "outputs": [
    {
     "data": {
      "text/plain": [
       "[1.3574437725928412,\n",
       " 0.5985624740739321,\n",
       " -0.7786480373240973,\n",
       " -1.3614946709872575,\n",
       " -0.5939829778124129,\n",
       " 0.7842721213565208,\n",
       " 2.4361127756780268,\n",
       " 1.0661549994221433,\n",
       " -1.355351630321559,\n",
       " -2.450070004547133,\n",
       " -1.0544004470696324,\n",
       " 1.3514016249386622]"
      ]
     },
     "execution_count": 63,
     "metadata": {},
     "output_type": "execute_result"
    }
   ],
   "source": [
    "x"
   ]
  },
  {
   "cell_type": "code",
   "execution_count": null,
   "metadata": {},
   "outputs": [],
   "source": []
  }
 ],
 "metadata": {
  "kernelspec": {
   "display_name": "Python [conda env:speedcom]",
   "language": "python",
   "name": "conda-env-speedcom-py"
  },
  "language_info": {
   "codemirror_mode": {
    "name": "ipython",
    "version": 3
   },
   "file_extension": ".py",
   "mimetype": "text/x-python",
   "name": "python",
   "nbconvert_exporter": "python",
   "pygments_lexer": "ipython3",
   "version": "3.6.8"
  }
 },
 "nbformat": 4,
 "nbformat_minor": 2
}
