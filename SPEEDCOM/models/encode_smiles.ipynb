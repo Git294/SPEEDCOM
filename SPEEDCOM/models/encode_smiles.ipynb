{
 "cells": [
  {
   "cell_type": "code",
   "execution_count": 2,
   "metadata": {},
   "outputs": [
    {
     "name": "stderr",
     "output_type": "stream",
     "text": [
      "C:\\Users\\Yang\\.conda\\envs\\test_speedcom\\lib\\importlib\\_bootstrap.py:219: RuntimeWarning: numpy.ufunc size changed, may indicate binary incompatibility. Expected 192 from C header, got 216 from PyObject\n",
      "  return f(*args, **kwds)\n",
      "Using TensorFlow backend.\n"
     ]
    }
   ],
   "source": [
    "import numpy as np\n",
    "import pandas as pd\n",
    "import matplotlib as mplt\n",
    "import matplotlib.pyplot as plt\n",
    "\n",
    "from keras.models import Sequential\n",
    "from keras.layers import LSTM, Dense, Embedding, Dropout, Flatten\n",
    "# sequence data packages\n",
    "from keras.preprocessing import sequence\n",
    "import itertools\n",
    "import random\n",
    "import dataUtils as du"
   ]
  },
  {
   "cell_type": "code",
   "execution_count": 3,
   "metadata": {},
   "outputs": [
    {
     "name": "stdout",
     "output_type": "stream",
     "text": [
      "   #      Name      name_smiles  Wavelength  Epsilon  Quantum Yield\n",
      "0  1   Benzene      C1=CC=CC=C1      254.75      210          0.053\n",
      "1  2   Toluene     CC1=CC=CC=C1      261.75     2860          0.170\n",
      "2  3  o-Xylene    CC1=CC=CC=C1C      263.00      254          0.170\n",
      "3  4  m-Xylene  CC1=CC(=CC=C1)C      265.00      284          0.130\n",
      "4  5  p-Xylene  CC1=CC=C(C=C1)C      275.00      770          0.220\n"
     ]
    }
   ],
   "source": [
    "df=du.DataUtils.readData('temp_cleaned_data.tsv')\n",
    "x_str, y_wl=du.DataUtils.get_xy(df,x_col_index=2,y_col_index=3)\n",
    "maxlen = du.DataUtils.get_max_len(x_str)\n"
   ]
  },
  {
   "cell_type": "code",
   "execution_count": 5,
   "metadata": {},
   "outputs": [],
   "source": [
    "wordmap=du.DataUtils.get_wordmap(x_str)"
   ]
  },
  {
   "cell_type": "code",
   "execution_count": 6,
   "metadata": {},
   "outputs": [],
   "source": [
    "x_encode=du.DataUtils.numeric_encoding(x_str,uniform_length=maxlen+5,word_map=wordmap)"
   ]
  },
  {
   "cell_type": "code",
   "execution_count": null,
   "metadata": {},
   "outputs": [],
   "source": []
  },
  {
   "cell_type": "code",
   "execution_count": 7,
   "metadata": {},
   "outputs": [],
   "source": [
    "X_train, X_test, y_train, y_test=du.DataUtils.splitData(x_encode, y_wl, ratio=0.2)"
   ]
  },
  {
   "cell_type": "code",
   "execution_count": null,
   "metadata": {},
   "outputs": [],
   "source": []
  },
  {
   "cell_type": "code",
   "execution_count": 8,
   "metadata": {},
   "outputs": [
    {
     "data": {
      "text/plain": [
       "(array([91., 57., 18., 25., 21., 23., 18.,  7.,  3.,  4.]),\n",
       " array([203. , 264.5, 326. , 387.5, 449. , 510.5, 572. , 633.5, 695. ,\n",
       "        756.5, 818. ]),\n",
       " <a list of 10 Patch objects>)"
      ]
     },
     "execution_count": 8,
     "metadata": {},
     "output_type": "execute_result"
    },
    {
     "data": {
      "image/png": "[encoded data removed]",
      "text/plain": [
       "<Figure size 432x288 with 1 Axes>"
      ]
     },
     "metadata": {
      "needs_background": "light"
     },
     "output_type": "display_data"
    }
   ],
   "source": [
    "plt.hist(y_wl.tolist())"
   ]
  },
  {
   "cell_type": "code",
   "execution_count": 30,
   "metadata": {},
   "outputs": [],
   "source": [
    "hidden_size = 50\n",
    "model = Sequential()\n",
    "model.add(Embedding(len(wordmap), hidden_size, input_length=maxlen+5))\n",
    "model.add(LSTM(hidden_size, return_sequences=True))\n",
    "model.add(LSTM(hidden_size, return_sequences=True))\n",
    "model.add(LSTM(hidden_size, return_sequences=True))\n",
    "model.add(Dropout(0.4))\n",
    "model.add(Dense(hidden_size, activation='relu'))\n",
    "model.add(Flatten())\n",
    "model.add(Dense(1, activation='linear'))"
   ]
  },
  {
   "cell_type": "code",
   "execution_count": 31,
   "metadata": {},
   "outputs": [
    {
     "name": "stdout",
     "output_type": "stream",
     "text": [
      "_________________________________________________________________\n",
      "Layer (type)                 Output Shape              Param #   \n",
      "=================================================================\n",
      "embedding_2 (Embedding)      (None, 279, 50)           2250      \n",
      "_________________________________________________________________\n",
      "lstm_4 (LSTM)                (None, 279, 50)           20200     \n",
      "_________________________________________________________________\n",
      "lstm_5 (LSTM)                (None, 279, 50)           20200     \n",
      "_________________________________________________________________\n",
      "lstm_6 (LSTM)                (None, 279, 50)           20200     \n",
      "_________________________________________________________________\n",
      "dropout_2 (Dropout)          (None, 279, 50)           0         \n",
      "_________________________________________________________________\n",
      "dense_3 (Dense)              (None, 279, 50)           2550      \n",
      "_________________________________________________________________\n",
      "flatten_2 (Flatten)          (None, 13950)             0         \n",
      "_________________________________________________________________\n",
      "dense_4 (Dense)              (None, 1)                 13951     \n",
      "=================================================================\n",
      "Total params: 79,351\n",
      "Trainable params: 79,351\n",
      "Non-trainable params: 0\n",
      "_________________________________________________________________\n"
     ]
    }
   ],
   "source": [
    "model.compile(loss='mean_absolute_error', optimizer='Adam', metrics=['mean_absolute_error'])\n",
    "model.summary()"
   ]
  },
  {
   "cell_type": "code",
   "execution_count": 32,
   "metadata": {},
   "outputs": [
    {
     "name": "stdout",
     "output_type": "stream",
     "text": [
      "WARNING:tensorflow:From C:\\Users\\Yang\\AppData\\Roaming\\Python\\Python36\\site-packages\\tensorflow\\python\\ops\\math_ops.py:3066: to_int32 (from tensorflow.python.ops.math_ops) is deprecated and will be removed in a future version.\n",
      "Instructions for updating:\n",
      "Use tf.cast instead.\n",
      "Train on 213 samples, validate on 54 samples\n",
      "Epoch 1/50\n",
      "213/213 [==============================] - 5s 24ms/step - loss: 370.5999 - mean_absolute_error: 370.5999 - val_loss: 341.3432 - val_mean_absolute_error: 341.3432\n",
      "Epoch 2/50\n",
      "213/213 [==============================] - 3s 12ms/step - loss: 343.6850 - mean_absolute_error: 343.6850 - val_loss: 266.3703 - val_mean_absolute_error: 266.3703\n",
      "Epoch 3/50\n",
      "213/213 [==============================] - 3s 12ms/step - loss: 221.7783 - mean_absolute_error: 221.7783 - val_loss: 109.0955 - val_mean_absolute_error: 109.0955\n",
      "Epoch 4/50\n",
      "213/213 [==============================] - 2s 12ms/step - loss: 122.5941 - mean_absolute_error: 122.5941 - val_loss: 123.9458 - val_mean_absolute_error: 123.9458\n",
      "Epoch 5/50\n",
      "213/213 [==============================] - 3s 13ms/step - loss: 137.6057 - mean_absolute_error: 137.6057 - val_loss: 110.2413 - val_mean_absolute_error: 110.2413\n",
      "Epoch 6/50\n",
      "213/213 [==============================] - 3s 13ms/step - loss: 124.7235 - mean_absolute_error: 124.7235 - val_loss: 98.5626 - val_mean_absolute_error: 98.5626\n",
      "Epoch 7/50\n",
      "213/213 [==============================] - 4s 17ms/step - loss: 124.5716 - mean_absolute_error: 124.5716 - val_loss: 103.7542 - val_mean_absolute_error: 103.7542\n",
      "Epoch 8/50\n",
      "213/213 [==============================] - 3s 15ms/step - loss: 120.8427 - mean_absolute_error: 120.8427 - val_loss: 98.5520 - val_mean_absolute_error: 98.5520\n",
      "Epoch 9/50\n",
      "213/213 [==============================] - 3s 16ms/step - loss: 124.2474 - mean_absolute_error: 124.2474 - val_loss: 103.3241 - val_mean_absolute_error: 103.3241\n",
      "Epoch 10/50\n",
      "213/213 [==============================] - 3s 15ms/step - loss: 122.5542 - mean_absolute_error: 122.5542 - val_loss: 98.3240 - val_mean_absolute_error: 98.3240\n",
      "Epoch 11/50\n",
      "213/213 [==============================] - 3s 15ms/step - loss: 122.4944 - mean_absolute_error: 122.4944 - val_loss: 99.5225 - val_mean_absolute_error: 99.5225\n",
      "Epoch 12/50\n",
      "213/213 [==============================] - 3s 16ms/step - loss: 122.0156 - mean_absolute_error: 122.0156 - val_loss: 97.7089 - val_mean_absolute_error: 97.7089\n",
      "Epoch 13/50\n",
      "213/213 [==============================] - 3s 15ms/step - loss: 121.5916 - mean_absolute_error: 121.5916 - val_loss: 98.1807 - val_mean_absolute_error: 98.1807\n",
      "Epoch 14/50\n",
      "213/213 [==============================] - 3s 16ms/step - loss: 122.2291 - mean_absolute_error: 122.2291 - val_loss: 99.3250 - val_mean_absolute_error: 99.3250\n",
      "Epoch 15/50\n",
      "213/213 [==============================] - 3s 15ms/step - loss: 121.5424 - mean_absolute_error: 121.5424 - val_loss: 97.7046 - val_mean_absolute_error: 97.7046\n",
      "Epoch 16/50\n",
      "213/213 [==============================] - 4s 16ms/step - loss: 122.0681 - mean_absolute_error: 122.0681 - val_loss: 98.8459 - val_mean_absolute_error: 98.8459\n",
      "Epoch 17/50\n",
      "213/213 [==============================] - 4s 17ms/step - loss: 122.2414 - mean_absolute_error: 122.2414 - val_loss: 97.7418 - val_mean_absolute_error: 97.7418\n",
      "Epoch 18/50\n",
      "213/213 [==============================] - 4s 17ms/step - loss: 121.6818 - mean_absolute_error: 121.6818 - val_loss: 98.1465 - val_mean_absolute_error: 98.1465\n",
      "Epoch 19/50\n",
      "213/213 [==============================] - 3s 16ms/step - loss: 121.6555 - mean_absolute_error: 121.6555 - val_loss: 97.6979 - val_mean_absolute_error: 97.6979\n",
      "Epoch 20/50\n",
      "213/213 [==============================] - 3s 15ms/step - loss: 121.5047 - mean_absolute_error: 121.5047 - val_loss: 97.6954 - val_mean_absolute_error: 97.6954\n",
      "Epoch 21/50\n",
      "213/213 [==============================] - 3s 15ms/step - loss: 121.1126 - mean_absolute_error: 121.1126 - val_loss: 97.6932 - val_mean_absolute_error: 97.6932\n",
      "Epoch 22/50\n",
      "213/213 [==============================] - 4s 18ms/step - loss: 121.5048 - mean_absolute_error: 121.5048 - val_loss: 97.6903 - val_mean_absolute_error: 97.6903\n",
      "Epoch 23/50\n",
      "213/213 [==============================] - 3s 16ms/step - loss: 121.2658 - mean_absolute_error: 121.2658 - val_loss: 97.6871 - val_mean_absolute_error: 97.6871\n",
      "Epoch 24/50\n",
      "213/213 [==============================] - 3s 16ms/step - loss: 121.9478 - mean_absolute_error: 121.9478 - val_loss: 97.6847 - val_mean_absolute_error: 97.6847\n",
      "Epoch 25/50\n",
      "213/213 [==============================] - 3s 15ms/step - loss: 121.2314 - mean_absolute_error: 121.2314 - val_loss: 97.6791 - val_mean_absolute_error: 97.6791\n",
      "Epoch 26/50\n",
      "213/213 [==============================] - 4s 17ms/step - loss: 121.8200 - mean_absolute_error: 121.8200 - val_loss: 97.6744 - val_mean_absolute_error: 97.6744\n",
      "Epoch 27/50\n",
      "213/213 [==============================] - 3s 16ms/step - loss: 121.1536 - mean_absolute_error: 121.1536 - val_loss: 97.6944 - val_mean_absolute_error: 97.6944\n",
      "Epoch 28/50\n",
      "213/213 [==============================] - 4s 17ms/step - loss: 121.5104 - mean_absolute_error: 121.5104 - val_loss: 98.4499 - val_mean_absolute_error: 98.4499\n",
      "Epoch 29/50\n",
      "213/213 [==============================] - 3s 16ms/step - loss: 121.8266 - mean_absolute_error: 121.8266 - val_loss: 97.6737 - val_mean_absolute_error: 97.6737\n",
      "Epoch 30/50\n",
      "213/213 [==============================] - 3s 15ms/step - loss: 121.9980 - mean_absolute_error: 121.9980 - val_loss: 98.6082 - val_mean_absolute_error: 98.6082\n",
      "Epoch 31/50\n",
      "213/213 [==============================] - 3s 16ms/step - loss: 121.3516 - mean_absolute_error: 121.3516 - val_loss: 97.6321 - val_mean_absolute_error: 97.6321\n",
      "Epoch 32/50\n",
      "213/213 [==============================] - 4s 18ms/step - loss: 121.3705 - mean_absolute_error: 121.3705 - val_loss: 98.2474 - val_mean_absolute_error: 98.2474\n",
      "Epoch 33/50\n",
      "213/213 [==============================] - 4s 17ms/step - loss: 122.3831 - mean_absolute_error: 122.3831 - val_loss: 100.2392 - val_mean_absolute_error: 100.2392\n",
      "Epoch 34/50\n",
      "213/213 [==============================] - 3s 16ms/step - loss: 121.2017 - mean_absolute_error: 121.2017 - val_loss: 98.1751 - val_mean_absolute_error: 98.1751\n",
      "Epoch 35/50\n",
      "213/213 [==============================] - 3s 16ms/step - loss: 120.3201 - mean_absolute_error: 120.3201 - val_loss: 97.1841 - val_mean_absolute_error: 97.1841\n",
      "Epoch 36/50\n",
      "213/213 [==============================] - 4s 19ms/step - loss: 118.5948 - mean_absolute_error: 118.5948 - val_loss: 101.5187 - val_mean_absolute_error: 101.5187\n",
      "Epoch 37/50\n",
      "213/213 [==============================] - 4s 17ms/step - loss: 118.0941 - mean_absolute_error: 118.0941 - val_loss: 99.8854 - val_mean_absolute_error: 99.8854\n",
      "Epoch 38/50\n",
      "213/213 [==============================] - 4s 19ms/step - loss: 119.8122 - mean_absolute_error: 119.8122 - val_loss: 99.1180 - val_mean_absolute_error: 99.1180\n",
      "Epoch 39/50\n",
      "213/213 [==============================] - 4s 21ms/step - loss: 116.7164 - mean_absolute_error: 116.7164 - val_loss: 101.5276 - val_mean_absolute_error: 101.5276\n",
      "Epoch 40/50\n",
      "213/213 [==============================] - 4s 20ms/step - loss: 114.8836 - mean_absolute_error: 114.8836 - val_loss: 101.1370 - val_mean_absolute_error: 101.1370\n",
      "Epoch 41/50\n",
      "213/213 [==============================] - 3s 15ms/step - loss: 115.9462 - mean_absolute_error: 115.9462 - val_loss: 98.9899 - val_mean_absolute_error: 98.9899\n",
      "Epoch 42/50\n",
      "213/213 [==============================] - 3s 15ms/step - loss: 114.7418 - mean_absolute_error: 114.7418 - val_loss: 97.2667 - val_mean_absolute_error: 97.2667\n",
      "Epoch 43/50\n",
      "213/213 [==============================] - 3s 15ms/step - loss: 114.5440 - mean_absolute_error: 114.5440 - val_loss: 102.0072 - val_mean_absolute_error: 102.0072\n",
      "Epoch 44/50\n",
      "213/213 [==============================] - 4s 19ms/step - loss: 110.7518 - mean_absolute_error: 110.7518 - val_loss: 97.0909 - val_mean_absolute_error: 97.0909\n",
      "Epoch 45/50\n",
      "213/213 [==============================] - 3s 16ms/step - loss: 108.8545 - mean_absolute_error: 108.8545 - val_loss: 97.3762 - val_mean_absolute_error: 97.3762\n",
      "Epoch 46/50\n",
      "213/213 [==============================] - 3s 15ms/step - loss: 109.2272 - mean_absolute_error: 109.2272 - val_loss: 99.4933 - val_mean_absolute_error: 99.4933\n"
     ]
    },
    {
     "name": "stdout",
     "output_type": "stream",
     "text": [
      "Epoch 47/50\n",
      "213/213 [==============================] - 4s 19ms/step - loss: 104.0119 - mean_absolute_error: 104.0119 - val_loss: 95.7249 - val_mean_absolute_error: 95.7249\n",
      "Epoch 48/50\n",
      "213/213 [==============================] - 4s 18ms/step - loss: 102.9374 - mean_absolute_error: 102.9374 - val_loss: 97.8477 - val_mean_absolute_error: 97.8477\n",
      "Epoch 49/50\n",
      "213/213 [==============================] - 3s 16ms/step - loss: 100.1983 - mean_absolute_error: 100.1983 - val_loss: 97.6560 - val_mean_absolute_error: 97.6560\n",
      "Epoch 50/50\n",
      "213/213 [==============================] - 3s 16ms/step - loss: 97.6965 - mean_absolute_error: 97.6965 - val_loss: 99.2726 - val_mean_absolute_error: 99.2726\n"
     ]
    },
    {
     "data": {
      "text/plain": [
       "<keras.callbacks.History at 0x16d11bd65c0>"
      ]
     },
     "execution_count": 32,
     "metadata": {},
     "output_type": "execute_result"
    }
   ],
   "source": [
    "model.fit(X_train, y_train, batch_size=32, validation_data=(X_test, y_test), epochs=50)"
   ]
  },
  {
   "cell_type": "code",
   "execution_count": 141,
   "metadata": {},
   "outputs": [],
   "source": [
    "def coeff_determination(y_true, y_pred):\n",
    "    from keras import backend as K\n",
    "    SS_res =  K.sum(K.square( y_true-y_pred ))\n",
    "    SS_tot = K.sum(K.square( y_true - K.mean(y_true) ) )\n",
    "    return ( 1 - SS_res/(SS_tot + K.epsilon()) )"
   ]
  },
  {
   "cell_type": "code",
   "execution_count": 142,
   "metadata": {},
   "outputs": [],
   "source": [
    "def get_lr_metric(optimizer):\n",
    "    def lr(y_true, y_pred):\n",
    "        return optimizer.lr\n",
    "    return lr\n"
   ]
  },
  {
   "cell_type": "code",
   "execution_count": null,
   "metadata": {},
   "outputs": [],
   "source": []
  },
  {
   "cell_type": "code",
   "execution_count": 59,
   "metadata": {},
   "outputs": [],
   "source": [
    "def plot_model(x_train, x_test, y_train, y_test, model):\n",
    "    fig, axes = plt.subplots(2)\n",
    "    fig.dpi=100\n",
    "    axes[0].scatter(y_train, model.predict(x_train).reshape(1,-1)-y_train, color = 'r',label='training')\n",
    "    axes[1].scatter(y_test,model.predict(x_test).reshape(1,-1)-y_test, color = 'blue',label = 'test')\n",
    "    fig.legend()\n",
    "    plt.suptitle(\"error vs. y actual\" )"
   ]
  },
  {
   "cell_type": "code",
   "execution_count": 60,
   "metadata": {},
   "outputs": [
    {
     "data": {
      "image/png": "[encoded data removed]",
      "text/plain": [
       "<Figure size 600x400 with 2 Axes>"
      ]
     },
     "metadata": {
      "needs_background": "light"
     },
     "output_type": "display_data"
    }
   ],
   "source": [
    "plot_model(X_train, X_test, y_train, y_test, model)"
   ]
  },
  {
   "cell_type": "markdown",
   "metadata": {},
   "source": [
    "### consider transform y to make y more normal distributed"
   ]
  },
  {
   "cell_type": "code",
   "execution_count": 87,
   "metadata": {},
   "outputs": [],
   "source": [
    "def tranform_log(x_list, b): #log(x-b)\n",
    "    return np.log(list(x_list-b))"
   ]
  },
  {
   "cell_type": "code",
   "execution_count": 128,
   "metadata": {},
   "outputs": [],
   "source": [
    "y_log = tranform_log(y_wl,y_wl.min()-10)"
   ]
  },
  {
   "cell_type": "code",
   "execution_count": 134,
   "metadata": {},
   "outputs": [],
   "source": [
    "def inverse_log(transformed_x,b):\n",
    "    return np.exp(transformed_x)+b"
   ]
  },
  {
   "cell_type": "code",
   "execution_count": 139,
   "metadata": {},
   "outputs": [
    {
     "data": {
      "text/plain": [
       "array([254.75, 261.75, 263.  , 265.  , 275.  , 265.  , 278.  , 271.  ,\n",
       "       271.  , 270.75, 220.  , 222.  , 242.  , 227.  , 241.  , 288.  ,\n",
       "       251.  , 279.  , 265.  , 228.  , 258.  , 248.  , 236.  , 274.  ,\n",
       "       277.  , 227.  , 222.  , 218.  , 310.25, 291.  , 240.  , 251.  ,\n",
       "       263.  , 245.  , 302.  , 252.  , 283.  , 225.  , 316.  , 230.  ,\n",
       "       442.  , 247.5 , 276.25, 294.75, 312.  , 251.  , 206.  , 209.  ,\n",
       "       212.  , 245.  , 223.  , 278.  , 275.  , 356.25, 475.  , 578.  ,\n",
       "       252.  , 241.  , 258.  , 372.5 , 270.25, 303.  , 228.  , 239.  ,\n",
       "       245.  , 218.  , 227.  , 235.  , 278.75, 276.  , 293.75, 326.  ,\n",
       "       330.  , 353.25, 432.25, 425.  , 372.  , 451.  , 251.  , 276.  ,\n",
       "       227.  , 257.  , 265.  , 270.  , 215.  , 281.  , 238.  , 204.  ,\n",
       "       219.  , 245.  , 217.  , 253.  , 231.75, 206.  , 278.  , 502.  ,\n",
       "       413.  , 286.  , 336.  , 460.5 , 219.  , 413.  , 247.  , 349.  ,\n",
       "       262.  , 257.5 , 274.25, 211.  , 278.  , 261.  , 243.  , 266.75,\n",
       "       263.75, 258.25, 228.  , 259.  , 212.  , 263.  , 265.  , 206.  ,\n",
       "       248.  , 281.  , 239.75, 225.  , 288.  , 211.  , 270.  , 287.  ,\n",
       "       458.  , 243.  , 258.  , 267.  , 401.  , 246.  , 280.  , 251.  ,\n",
       "       268.  , 249.  , 251.25, 248.  , 250.  , 233.  , 296.  , 303.  ,\n",
       "       275.  , 280.  , 326.  , 338.  , 323.75, 373.25, 459.25, 436.  ,\n",
       "       407.5 , 384.  , 436.  , 444.75, 361.  , 278.  , 247.  , 261.  ,\n",
       "       270.5 , 264.  , 249.  , 248.  , 533.  , 278.  , 587.  , 253.  ,\n",
       "       605.  , 656.  , 654.  , 628.  , 237.  , 239.  , 642.5 , 603.  ,\n",
       "       519.4 , 627.5 , 319.  , 430.  , 466.  , 478.  , 486.  , 503.  ,\n",
       "       481.  , 498.  , 555.  , 530.  , 512.  , 563.  , 504.  , 518.  ,\n",
       "       619.  , 513.  , 483.  , 497.  , 606.  , 524.25, 603.5 , 711.  ,\n",
       "       592.  , 709.5 , 818.  , 485.  , 582.  , 687.5 , 544.25, 789.  ,\n",
       "       559.25, 655.75, 763.25, 559.5 , 431.25, 616.5 , 590.5 , 543.  ,\n",
       "       590.  , 554.  , 558.  , 573.  , 597.  , 435.75, 500.25, 502.  ,\n",
       "       535.  , 559.  , 261.  , 511.75, 542.75, 553.  , 529.75, 565.  ,\n",
       "       576.  , 338.5 , 279.75, 325.  , 249.  , 285.  , 345.5 , 627.25,\n",
       "       276.  , 424.  , 205.  , 203.  , 208.  , 396.25, 402.  , 409.75,\n",
       "       408.  , 385.9 , 429.  , 491.  , 450.75, 377.  , 361.  , 698.5 ,\n",
       "       674.  , 674.  , 569.  , 429.  , 453.  , 410.  , 413.  , 414.  ,\n",
       "       401.  , 413.  , 780.2 ])"
      ]
     },
     "execution_count": 139,
     "metadata": {},
     "output_type": "execute_result"
    }
   ],
   "source": [
    "inverse_log(y_log, y_wl.min()-10)"
   ]
  },
  {
   "cell_type": "code",
   "execution_count": 129,
   "metadata": {},
   "outputs": [
    {
     "data": {
      "text/plain": [
       "(array([ 7.,  6., 15., 23., 55., 38., 19., 35., 50., 19.]),\n",
       " array([2.30258509, 2.71610175, 3.1296184 , 3.54313506, 3.95665172,\n",
       "        4.37016837, 4.78368503, 5.19720168, 5.61071834, 6.02423499,\n",
       "        6.43775165]),\n",
       " <a list of 10 Patch objects>)"
      ]
     },
     "execution_count": 129,
     "metadata": {},
     "output_type": "execute_result"
    },
    {
     "data": {
      "image/png": "[encoded data removed]",
      "text/plain": [
       "<Figure size 432x288 with 1 Axes>"
      ]
     },
     "metadata": {
      "needs_background": "light"
     },
     "output_type": "display_data"
    }
   ],
   "source": [
    "X_train, X_test, y_train, y_test=du.DataUtils.splitData(x_encode, y_log, ratio=0.2)\n",
    "plt.hist(y_log.tolist())"
   ]
  },
  {
   "cell_type": "code",
   "execution_count": 130,
   "metadata": {},
   "outputs": [
    {
     "name": "stdout",
     "output_type": "stream",
     "text": [
      "Train on 213 samples, validate on 54 samples\n",
      "Epoch 1/50\n",
      "213/213 [==============================] - 3s 12ms/step - loss: 240.4158 - mean_absolute_error: 240.4158 - val_loss: 46.3202 - val_mean_absolute_error: 46.3202\n",
      "Epoch 2/50\n",
      "213/213 [==============================] - 3s 12ms/step - loss: 20.7427 - mean_absolute_error: 20.7427 - val_loss: 0.7557 - val_mean_absolute_error: 0.7557\n",
      "Epoch 3/50\n",
      "213/213 [==============================] - 3s 13ms/step - loss: 5.4793 - mean_absolute_error: 5.4793 - val_loss: 1.5305 - val_mean_absolute_error: 1.5305\n",
      "Epoch 4/50\n",
      "213/213 [==============================] - 3s 12ms/step - loss: 3.8924 - mean_absolute_error: 3.8924 - val_loss: 6.8295 - val_mean_absolute_error: 6.8295\n",
      "Epoch 5/50\n",
      "213/213 [==============================] - 3s 12ms/step - loss: 2.8602 - mean_absolute_error: 2.8602 - val_loss: 3.2327 - val_mean_absolute_error: 3.2327\n",
      "Epoch 6/50\n",
      "213/213 [==============================] - 3s 12ms/step - loss: 1.7289 - mean_absolute_error: 1.7289 - val_loss: 1.7194 - val_mean_absolute_error: 1.7194\n",
      "Epoch 7/50\n",
      "213/213 [==============================] - 3s 12ms/step - loss: 1.4176 - mean_absolute_error: 1.4176 - val_loss: 1.3326 - val_mean_absolute_error: 1.3326\n",
      "Epoch 8/50\n",
      "213/213 [==============================] - 3s 15ms/step - loss: 1.4273 - mean_absolute_error: 1.4273 - val_loss: 1.5756 - val_mean_absolute_error: 1.5756\n",
      "Epoch 9/50\n",
      "213/213 [==============================] - 3s 15ms/step - loss: 1.3123 - mean_absolute_error: 1.3123 - val_loss: 3.0010 - val_mean_absolute_error: 3.0010\n",
      "Epoch 10/50\n",
      "213/213 [==============================] - 3s 16ms/step - loss: 1.5374 - mean_absolute_error: 1.5374 - val_loss: 3.2816 - val_mean_absolute_error: 3.2816\n",
      "Epoch 11/50\n",
      "213/213 [==============================] - 3s 16ms/step - loss: 1.6140 - mean_absolute_error: 1.6140 - val_loss: 1.0983 - val_mean_absolute_error: 1.0983\n",
      "Epoch 12/50\n",
      "213/213 [==============================] - 3s 16ms/step - loss: 1.3628 - mean_absolute_error: 1.3628 - val_loss: 1.0539 - val_mean_absolute_error: 1.0539\n",
      "Epoch 13/50\n",
      "213/213 [==============================] - 3s 15ms/step - loss: 1.4100 - mean_absolute_error: 1.4100 - val_loss: 1.7870 - val_mean_absolute_error: 1.7870\n",
      "Epoch 14/50\n",
      "213/213 [==============================] - 3s 16ms/step - loss: 1.2622 - mean_absolute_error: 1.2622 - val_loss: 1.9005 - val_mean_absolute_error: 1.9005\n",
      "Epoch 15/50\n",
      "213/213 [==============================] - 3s 15ms/step - loss: 1.2978 - mean_absolute_error: 1.2978 - val_loss: 2.0392 - val_mean_absolute_error: 2.0392\n",
      "Epoch 16/50\n",
      "213/213 [==============================] - 3s 15ms/step - loss: 1.1545 - mean_absolute_error: 1.1545 - val_loss: 2.3565 - val_mean_absolute_error: 2.3565\n",
      "Epoch 17/50\n",
      "213/213 [==============================] - 3s 16ms/step - loss: 1.2277 - mean_absolute_error: 1.2277 - val_loss: 1.6403 - val_mean_absolute_error: 1.6403\n",
      "Epoch 18/50\n",
      "213/213 [==============================] - 3s 16ms/step - loss: 1.1952 - mean_absolute_error: 1.1952 - val_loss: 1.1233 - val_mean_absolute_error: 1.1233\n",
      "Epoch 19/50\n",
      "213/213 [==============================] - 3s 16ms/step - loss: 1.1083 - mean_absolute_error: 1.1083 - val_loss: 1.3710 - val_mean_absolute_error: 1.3710\n",
      "Epoch 20/50\n",
      "213/213 [==============================] - 3s 16ms/step - loss: 1.0641 - mean_absolute_error: 1.0641 - val_loss: 2.1919 - val_mean_absolute_error: 2.1919\n",
      "Epoch 21/50\n",
      "213/213 [==============================] - 3s 16ms/step - loss: 1.1955 - mean_absolute_error: 1.1955 - val_loss: 1.8355 - val_mean_absolute_error: 1.8355\n",
      "Epoch 22/50\n",
      "213/213 [==============================] - 3s 15ms/step - loss: 1.0995 - mean_absolute_error: 1.0995 - val_loss: 1.5829 - val_mean_absolute_error: 1.5829\n",
      "Epoch 23/50\n",
      "213/213 [==============================] - 4s 17ms/step - loss: 1.1322 - mean_absolute_error: 1.1322 - val_loss: 1.7204 - val_mean_absolute_error: 1.7204\n",
      "Epoch 24/50\n",
      "213/213 [==============================] - 3s 15ms/step - loss: 1.1459 - mean_absolute_error: 1.1459 - val_loss: 2.1543 - val_mean_absolute_error: 2.1543\n",
      "Epoch 25/50\n",
      "213/213 [==============================] - 3s 15ms/step - loss: 1.0506 - mean_absolute_error: 1.0506 - val_loss: 1.3753 - val_mean_absolute_error: 1.3753\n",
      "Epoch 26/50\n",
      "213/213 [==============================] - 3s 15ms/step - loss: 1.0338 - mean_absolute_error: 1.0338 - val_loss: 1.6607 - val_mean_absolute_error: 1.6607\n",
      "Epoch 27/50\n",
      "213/213 [==============================] - 3s 16ms/step - loss: 1.0105 - mean_absolute_error: 1.0105 - val_loss: 1.3152 - val_mean_absolute_error: 1.3152\n",
      "Epoch 28/50\n",
      "213/213 [==============================] - 4s 17ms/step - loss: 1.0444 - mean_absolute_error: 1.0444 - val_loss: 1.9001 - val_mean_absolute_error: 1.9001\n",
      "Epoch 29/50\n",
      "213/213 [==============================] - 4s 18ms/step - loss: 1.0078 - mean_absolute_error: 1.0078 - val_loss: 1.2944 - val_mean_absolute_error: 1.2944\n",
      "Epoch 30/50\n",
      "213/213 [==============================] - 3s 15ms/step - loss: 0.9632 - mean_absolute_error: 0.9632 - val_loss: 1.8552 - val_mean_absolute_error: 1.8552\n",
      "Epoch 31/50\n",
      "213/213 [==============================] - 3s 15ms/step - loss: 1.0662 - mean_absolute_error: 1.0662 - val_loss: 0.9609 - val_mean_absolute_error: 0.9609\n",
      "Epoch 32/50\n",
      "213/213 [==============================] - 3s 15ms/step - loss: 1.1369 - mean_absolute_error: 1.1369 - val_loss: 1.9666 - val_mean_absolute_error: 1.9666\n",
      "Epoch 33/50\n",
      "213/213 [==============================] - 3s 15ms/step - loss: 1.0342 - mean_absolute_error: 1.0342 - val_loss: 1.6675 - val_mean_absolute_error: 1.6675\n",
      "Epoch 34/50\n",
      "213/213 [==============================] - 4s 17ms/step - loss: 1.0060 - mean_absolute_error: 1.0060 - val_loss: 1.3561 - val_mean_absolute_error: 1.3561\n",
      "Epoch 35/50\n",
      "213/213 [==============================] - 3s 15ms/step - loss: 0.9283 - mean_absolute_error: 0.9283 - val_loss: 0.9507 - val_mean_absolute_error: 0.9507\n",
      "Epoch 36/50\n",
      "213/213 [==============================] - 3s 15ms/step - loss: 1.1254 - mean_absolute_error: 1.1254 - val_loss: 1.7052 - val_mean_absolute_error: 1.7052\n",
      "Epoch 37/50\n",
      "213/213 [==============================] - 3s 15ms/step - loss: 0.9183 - mean_absolute_error: 0.9183 - val_loss: 1.0173 - val_mean_absolute_error: 1.0173\n",
      "Epoch 38/50\n",
      "213/213 [==============================] - 3s 15ms/step - loss: 0.9306 - mean_absolute_error: 0.9306 - val_loss: 1.0293 - val_mean_absolute_error: 1.0293\n",
      "Epoch 39/50\n",
      "213/213 [==============================] - 3s 15ms/step - loss: 0.9672 - mean_absolute_error: 0.9672 - val_loss: 2.2658 - val_mean_absolute_error: 2.2658\n",
      "Epoch 40/50\n",
      "213/213 [==============================] - 3s 15ms/step - loss: 1.1428 - mean_absolute_error: 1.1428 - val_loss: 0.7890 - val_mean_absolute_error: 0.7890\n",
      "Epoch 41/50\n",
      "213/213 [==============================] - 3s 15ms/step - loss: 0.9901 - mean_absolute_error: 0.9901 - val_loss: 1.9179 - val_mean_absolute_error: 1.9179\n",
      "Epoch 42/50\n",
      "213/213 [==============================] - 3s 15ms/step - loss: 1.0746 - mean_absolute_error: 1.0746 - val_loss: 1.3996 - val_mean_absolute_error: 1.3996\n",
      "Epoch 43/50\n",
      "213/213 [==============================] - 3s 15ms/step - loss: 0.9846 - mean_absolute_error: 0.9846 - val_loss: 0.7509 - val_mean_absolute_error: 0.7509\n",
      "Epoch 44/50\n",
      "213/213 [==============================] - 3s 15ms/step - loss: 1.1075 - mean_absolute_error: 1.1075 - val_loss: 1.6766 - val_mean_absolute_error: 1.6766\n",
      "Epoch 45/50\n",
      "213/213 [==============================] - 3s 15ms/step - loss: 0.9735 - mean_absolute_error: 0.9735 - val_loss: 1.4600 - val_mean_absolute_error: 1.4600\n",
      "Epoch 46/50\n",
      "213/213 [==============================] - 3s 15ms/step - loss: 0.9060 - mean_absolute_error: 0.9060 - val_loss: 1.0139 - val_mean_absolute_error: 1.0139\n",
      "Epoch 47/50\n",
      "213/213 [==============================] - 3s 15ms/step - loss: 1.0290 - mean_absolute_error: 1.0290 - val_loss: 0.9149 - val_mean_absolute_error: 0.9149\n",
      "Epoch 48/50\n",
      "213/213 [==============================] - 3s 15ms/step - loss: 0.9943 - mean_absolute_error: 0.9943 - val_loss: 1.5645 - val_mean_absolute_error: 1.5645\n",
      "Epoch 49/50\n",
      "213/213 [==============================] - 3s 15ms/step - loss: 0.9112 - mean_absolute_error: 0.9112 - val_loss: 0.8054 - val_mean_absolute_error: 0.8054\n",
      "Epoch 50/50\n",
      "213/213 [==============================] - 3s 15ms/step - loss: 0.9931 - mean_absolute_error: 0.9931 - val_loss: 1.1874 - val_mean_absolute_error: 1.1874\n"
     ]
    },
    {
     "data": {
      "text/plain": [
       "<keras.callbacks.History at 0x16d22fbab70>"
      ]
     },
     "execution_count": 130,
     "metadata": {},
     "output_type": "execute_result"
    }
   ],
   "source": [
    "model.fit(X_train, y_train, batch_size=32, validation_data=(X_test, y_test), epochs=50)"
   ]
  },
  {
   "cell_type": "code",
   "execution_count": 132,
   "metadata": {},
   "outputs": [
    {
     "data": {
      "image/png": "[encoded data removed]",
      "text/plain": [
       "<Figure size 600x400 with 2 Axes>"
      ]
     },
     "metadata": {
      "needs_background": "light"
     },
     "output_type": "display_data"
    }
   ],
   "source": [
    "plot_model(X_train, X_test, y_train, y_test, model)"
   ]
  },
  {
   "cell_type": "code",
   "execution_count": 1,
   "metadata": {},
   "outputs": [
    {
     "ename": "NameError",
     "evalue": "name 'inverse_log' is not defined",
     "output_type": "error",
     "traceback": [
      "\u001b[1;31m---------------------------------------------------------------------------\u001b[0m",
      "\u001b[1;31mNameError\u001b[0m                                 Traceback (most recent call last)",
      "\u001b[1;32m<ipython-input-1-c72ca37b8cdb>\u001b[0m in \u001b[0;36m<module>\u001b[1;34m\u001b[0m\n\u001b[1;32m----> 1\u001b[1;33m \u001b[0minverse_log\u001b[0m\u001b[1;33m(\u001b[0m\u001b[0mmodel\u001b[0m\u001b[1;33m.\u001b[0m\u001b[0mpredict\u001b[0m\u001b[1;33m(\u001b[0m\u001b[0mX_train\u001b[0m\u001b[1;33m)\u001b[0m\u001b[1;33m.\u001b[0m\u001b[0mreshape\u001b[0m\u001b[1;33m(\u001b[0m\u001b[1;36m1\u001b[0m\u001b[1;33m,\u001b[0m\u001b[1;33m-\u001b[0m\u001b[1;36m1\u001b[0m\u001b[1;33m)\u001b[0m\u001b[1;33m,\u001b[0m \u001b[0my_wl\u001b[0m\u001b[1;33m.\u001b[0m\u001b[0mmin\u001b[0m\u001b[1;33m(\u001b[0m\u001b[1;33m)\u001b[0m\u001b[1;33m-\u001b[0m\u001b[1;36m10\u001b[0m\u001b[1;33m)\u001b[0m\u001b[1;33m.\u001b[0m\u001b[0mmin\u001b[0m\u001b[1;33m(\u001b[0m\u001b[1;33m)\u001b[0m\u001b[1;33m\u001b[0m\u001b[1;33m\u001b[0m\u001b[0m\n\u001b[0m",
      "\u001b[1;31mNameError\u001b[0m: name 'inverse_log' is not defined"
     ]
    }
   ],
   "source": [
    "inverse_log(model.predict(X_train).reshape(1,-1), y_wl.min()-10)"
   ]
  },
  {
   "cell_type": "code",
   "execution_count": 145,
   "metadata": {},
   "outputs": [
    {
     "data": {
      "text/plain": [
       "Text(0.5, 0.98, 'error vs. y actual')"
      ]
     },
     "execution_count": 145,
     "metadata": {},
     "output_type": "execute_result"
    },
    {
     "data": {
      "image/png": "[encoded data removed]",
      "text/plain": [
       "<Figure size 600x400 with 2 Axes>"
      ]
     },
     "metadata": {
      "needs_background": "light"
     },
     "output_type": "display_data"
    }
   ],
   "source": [
    "fig, axes = plt.subplots(2)\n",
    "fig.dpi=100\n",
    "axes[0].scatter(inverse_log(y_train, y_wl.min()-10), inverse_log(model.predict(X_train).reshape(1,-1), y_wl.min()-10)-inverse_log(y_train, y_wl.min()-10), color = 'r',label='training')\n",
    "\n",
    "fig.legend()\n",
    "plt.suptitle(\"error vs. y actual\" )"
   ]
  },
  {
   "cell_type": "markdown",
   "metadata": {},
   "source": [
    "### Try under sample the 200-400nm region to make the y more uniform"
   ]
  },
  {
   "cell_type": "code",
   "execution_count": 9,
   "metadata": {},
   "outputs": [],
   "source": [
    "Y_category = (y_wl - 200) // 20"
   ]
  },
  {
   "cell_type": "code",
   "execution_count": 11,
   "metadata": {},
   "outputs": [
    {
     "name": "stdout",
     "output_type": "stream",
     "text": [
      "{0.0: 18, 1.0: 23, 2.0: 40, 3.0: 44, 4.0: 14, 5.0: 7, 6.0: 8, 7.0: 4, 8.0: 6, 9.0: 3, 10.0: 12, 11.0: 10, 12.0: 7, 13.0: 4, 14.0: 7, 15.0: 10, 16.0: 5, 17.0: 10, 18.0: 6, 19.0: 6, 20.0: 6, 21.0: 3, 22.0: 4, 23.0: 2, 24.0: 2, 25.0: 2, 28.0: 1, 29.0: 2, 30.0: 1}\n"
     ]
    }
   ],
   "source": [
    "cls, counts = np.unique(Y_category, return_counts=True)\n",
    "cls_counts = dict(zip(cls, counts))\n",
    "print(cls_counts)"
   ]
  },
  {
   "cell_type": "markdown",
   "metadata": {},
   "source": [
    "#### To each category, keep less than 20 counts per category"
   ]
  },
  {
   "cell_type": "code",
   "execution_count": 40,
   "metadata": {},
   "outputs": [],
   "source": [
    "data_cat=np.column_stack((x_str,y_wl,Y_category))"
   ]
  },
  {
   "cell_type": "code",
   "execution_count": 61,
   "metadata": {},
   "outputs": [],
   "source": [
    "def subsampling(dataset, cls_max, cls_dict):\n",
    "    out = []\n",
    "    for row in dataset:\n",
    "        cls = row[2]\n",
    "        rInt = np.random.randint(0, cls_dict[cls])\n",
    "        if rInt <= cls_max:\n",
    "            out.append(row)\n",
    "    return np.array(out)\n",
    "\n",
    "subsampled = subsampling(data_cat, 10, cls_counts)"
   ]
  },
  {
   "cell_type": "code",
   "execution_count": 62,
   "metadata": {},
   "outputs": [
    {
     "data": {
      "text/plain": [
       "(189,)"
      ]
     },
     "execution_count": 62,
     "metadata": {},
     "output_type": "execute_result"
    }
   ],
   "source": [
    "subsampled[:,1].shape"
   ]
  },
  {
   "cell_type": "code",
   "execution_count": 63,
   "metadata": {},
   "outputs": [],
   "source": [
    "x_encode=du.DataUtils.numeric_encoding(subsampled[:,0],uniform_length=maxlen+5,word_map=wordmap)"
   ]
  },
  {
   "cell_type": "code",
   "execution_count": 64,
   "metadata": {},
   "outputs": [],
   "source": [
    "y_sub = subsampled[:,1]"
   ]
  },
  {
   "cell_type": "code",
   "execution_count": 67,
   "metadata": {},
   "outputs": [
    {
     "data": {
      "text/plain": [
       "(array([41., 29., 18., 25., 21., 23., 18.,  7.,  3.,  4.]),\n",
       " array([203. , 264.5, 326. , 387.5, 449. , 510.5, 572. , 633.5, 695. ,\n",
       "        756.5, 818. ]),\n",
       " <a list of 10 Patch objects>)"
      ]
     },
     "execution_count": 67,
     "metadata": {},
     "output_type": "execute_result"
    },
    {
     "data": {
      "image/png": "[encoded data removed]",
      "text/plain": [
       "<Figure size 432x288 with 1 Axes>"
      ]
     },
     "metadata": {
      "needs_background": "light"
     },
     "output_type": "display_data"
    }
   ],
   "source": [
    "X_train, X_test, y_train, y_test=du.DataUtils.splitData(x_encode, y_sub, ratio=0.15)\n",
    "plt.hist(y_sub.tolist())"
   ]
  },
  {
   "cell_type": "code",
   "execution_count": 70,
   "metadata": {},
   "outputs": [
    {
     "name": "stdout",
     "output_type": "stream",
     "text": [
      "_________________________________________________________________\n",
      "Layer (type)                 Output Shape              Param #   \n",
      "=================================================================\n",
      "embedding_2 (Embedding)      (None, 279, 50)           2250      \n",
      "_________________________________________________________________\n",
      "lstm_4 (LSTM)                (None, 279, 50)           20200     \n",
      "_________________________________________________________________\n",
      "lstm_5 (LSTM)                (None, 279, 50)           20200     \n",
      "_________________________________________________________________\n",
      "lstm_6 (LSTM)                (None, 279, 50)           20200     \n",
      "_________________________________________________________________\n",
      "dropout_2 (Dropout)          (None, 279, 50)           0         \n",
      "_________________________________________________________________\n",
      "dense_3 (Dense)              (None, 279, 50)           2550      \n",
      "_________________________________________________________________\n",
      "flatten_2 (Flatten)          (None, 13950)             0         \n",
      "_________________________________________________________________\n",
      "dense_4 (Dense)              (None, 1)                 13951     \n",
      "=================================================================\n",
      "Total params: 79,351\n",
      "Trainable params: 79,351\n",
      "Non-trainable params: 0\n",
      "_________________________________________________________________\n"
     ]
    }
   ],
   "source": [
    "hidden_size = 50\n",
    "model = Sequential()\n",
    "model.add(Embedding(len(wordmap), hidden_size, input_length=maxlen+5))\n",
    "model.add(LSTM(hidden_size, return_sequences=True))\n",
    "model.add(LSTM(hidden_size, return_sequences=True))\n",
    "model.add(LSTM(hidden_size, return_sequences=True))\n",
    "model.add(Dropout(0.4))\n",
    "model.add(Dense(hidden_size, activation='relu'))\n",
    "model.add(Flatten())\n",
    "model.add(Dense(1, activation='linear'))\n",
    "\n",
    "model.compile(loss='mean_squared_error', optimizer='Adam', metrics=['mean_absolute_error'])\n",
    "model.summary()\n",
    "\n"
   ]
  },
  {
   "cell_type": "code",
   "execution_count": 71,
   "metadata": {},
   "outputs": [
    {
     "name": "stdout",
     "output_type": "stream",
     "text": [
      "Train on 160 samples, validate on 29 samples\n",
      "Epoch 1/50\n",
      "160/160 [==============================] - 4s 26ms/step - loss: 198562.2719 - mean_absolute_error: 419.9061 - val_loss: 164067.7656 - val_mean_absolute_error: 379.2515\n",
      "Epoch 2/50\n",
      "160/160 [==============================] - 2s 11ms/step - loss: 193748.8687 - mean_absolute_error: 413.9373 - val_loss: 150534.7188 - val_mean_absolute_error: 360.8287\n",
      "Epoch 3/50\n",
      "160/160 [==============================] - 2s 11ms/step - loss: 157656.6547 - mean_absolute_error: 366.3126 - val_loss: 92568.8984 - val_mean_absolute_error: 268.7489\n",
      "Epoch 4/50\n",
      "160/160 [==============================] - 2s 11ms/step - loss: 83147.7500 - mean_absolute_error: 246.3115 - val_loss: 35154.0078 - val_mean_absolute_error: 133.5898\n",
      "Epoch 5/50\n",
      "160/160 [==============================] - 2s 11ms/step - loss: 30540.1109 - mean_absolute_error: 139.6379 - val_loss: 26367.6211 - val_mean_absolute_error: 143.5896\n",
      "Epoch 6/50\n",
      "160/160 [==============================] - 2s 11ms/step - loss: 34718.2926 - mean_absolute_error: 157.1566 - val_loss: 42068.2344 - val_mean_absolute_error: 176.1447\n",
      "Epoch 7/50\n",
      "160/160 [==============================] - 2s 14ms/step - loss: 29924.5535 - mean_absolute_error: 146.3046 - val_loss: 22260.9238 - val_mean_absolute_error: 134.2974\n",
      "Epoch 8/50\n",
      "160/160 [==============================] - 2s 15ms/step - loss: 23688.7281 - mean_absolute_error: 129.3227 - val_loss: 20858.8496 - val_mean_absolute_error: 125.2265\n",
      "Epoch 9/50\n",
      "160/160 [==============================] - 2s 15ms/step - loss: 25903.9424 - mean_absolute_error: 131.8753 - val_loss: 20902.7441 - val_mean_absolute_error: 125.1355\n",
      "Epoch 10/50\n",
      "160/160 [==============================] - 2s 14ms/step - loss: 24060.5828 - mean_absolute_error: 128.9748 - val_loss: 20444.9160 - val_mean_absolute_error: 129.3595\n",
      "Epoch 11/50\n",
      "160/160 [==============================] - 2s 14ms/step - loss: 22068.6123 - mean_absolute_error: 125.4892 - val_loss: 22662.2090 - val_mean_absolute_error: 135.3219\n",
      "Epoch 12/50\n",
      "160/160 [==============================] - 2s 15ms/step - loss: 22817.5273 - mean_absolute_error: 128.8749 - val_loss: 23126.7656 - val_mean_absolute_error: 136.4079\n",
      "Epoch 13/50\n",
      "160/160 [==============================] - 2s 15ms/step - loss: 22651.2730 - mean_absolute_error: 128.0012 - val_loss: 21567.7637 - val_mean_absolute_error: 132.2514\n",
      "Epoch 14/50\n",
      "160/160 [==============================] - 2s 14ms/step - loss: 22831.2535 - mean_absolute_error: 127.5755 - val_loss: 20358.9570 - val_mean_absolute_error: 129.0246\n",
      "Epoch 15/50\n",
      "160/160 [==============================] - 2s 14ms/step - loss: 22535.7891 - mean_absolute_error: 126.1639 - val_loss: 20517.6816 - val_mean_absolute_error: 129.5950\n",
      "Epoch 16/50\n",
      "160/160 [==============================] - 2s 15ms/step - loss: 22570.9986 - mean_absolute_error: 127.3895 - val_loss: 21326.4648 - val_mean_absolute_error: 131.4192\n",
      "Epoch 17/50\n",
      "160/160 [==============================] - 3s 16ms/step - loss: 22360.3285 - mean_absolute_error: 126.6915 - val_loss: 21222.3184 - val_mean_absolute_error: 131.0881\n",
      "Epoch 18/50\n",
      "160/160 [==============================] - 2s 15ms/step - loss: 22355.7719 - mean_absolute_error: 126.7708 - val_loss: 21271.4531 - val_mean_absolute_error: 131.2180\n",
      "Epoch 19/50\n",
      "160/160 [==============================] - 2s 15ms/step - loss: 22372.9102 - mean_absolute_error: 126.6451 - val_loss: 21025.3145 - val_mean_absolute_error: 130.7471\n",
      "Epoch 20/50\n",
      "160/160 [==============================] - 2s 14ms/step - loss: 22114.5500 - mean_absolute_error: 126.1864 - val_loss: 20953.9160 - val_mean_absolute_error: 130.6133\n",
      "Epoch 21/50\n",
      "160/160 [==============================] - 2s 14ms/step - loss: 22364.9762 - mean_absolute_error: 126.8283 - val_loss: 21107.2305 - val_mean_absolute_error: 130.8916\n",
      "Epoch 22/50\n",
      "160/160 [==============================] - 2s 15ms/step - loss: 22335.2055 - mean_absolute_error: 126.4033 - val_loss: 20915.8711 - val_mean_absolute_error: 130.5386\n",
      "Epoch 23/50\n",
      "160/160 [==============================] - 2s 15ms/step - loss: 22327.0363 - mean_absolute_error: 126.5486 - val_loss: 21006.8008 - val_mean_absolute_error: 130.7107\n",
      "Epoch 24/50\n",
      "160/160 [==============================] - 2s 14ms/step - loss: 22205.2121 - mean_absolute_error: 126.1215 - val_loss: 21032.5039 - val_mean_absolute_error: 130.7570\n",
      "Epoch 25/50\n",
      "160/160 [==============================] - 2s 14ms/step - loss: 22442.8605 - mean_absolute_error: 126.6654 - val_loss: 20728.7773 - val_mean_absolute_error: 130.1420\n",
      "Epoch 26/50\n",
      "160/160 [==============================] - 2s 15ms/step - loss: 22432.7062 - mean_absolute_error: 126.8028 - val_loss: 21446.8711 - val_mean_absolute_error: 131.8508\n",
      "Epoch 27/50\n",
      "160/160 [==============================] - 2s 15ms/step - loss: 22352.1879 - mean_absolute_error: 126.9569 - val_loss: 21295.8633 - val_mean_absolute_error: 131.3148\n",
      "Epoch 28/50\n",
      "160/160 [==============================] - 2s 15ms/step - loss: 22230.5426 - mean_absolute_error: 126.0930 - val_loss: 20740.4141 - val_mean_absolute_error: 130.1669\n",
      "Epoch 29/50\n",
      "160/160 [==============================] - 2s 15ms/step - loss: 22418.3363 - mean_absolute_error: 126.5878 - val_loss: 20817.5469 - val_mean_absolute_error: 130.3346\n",
      "Epoch 30/50\n",
      "160/160 [==============================] - 2s 14ms/step - loss: 22236.7758 - mean_absolute_error: 126.1170 - val_loss: 21102.7285 - val_mean_absolute_error: 130.8766\n",
      "Epoch 31/50\n",
      "160/160 [==============================] - 2s 14ms/step - loss: 22371.3494 - mean_absolute_error: 126.8325 - val_loss: 21667.6660 - val_mean_absolute_error: 132.5822\n",
      "Epoch 32/50\n",
      "160/160 [==============================] - 2s 15ms/step - loss: 22658.1805 - mean_absolute_error: 127.8566 - val_loss: 20657.4922 - val_mean_absolute_error: 129.9699\n",
      "Epoch 33/50\n",
      "160/160 [==============================] - 2s 15ms/step - loss: 22413.0434 - mean_absolute_error: 126.7174 - val_loss: 21078.0586 - val_mean_absolute_error: 130.8306\n",
      "Epoch 34/50\n",
      "160/160 [==============================] - 2s 15ms/step - loss: 22326.8348 - mean_absolute_error: 126.5271 - val_loss: 21348.3574 - val_mean_absolute_error: 131.5116\n",
      "Epoch 35/50\n",
      "160/160 [==============================] - 2s 15ms/step - loss: 22378.4824 - mean_absolute_error: 126.5463 - val_loss: 20685.6191 - val_mean_absolute_error: 130.0361\n",
      "Epoch 36/50\n",
      "160/160 [==============================] - 2s 15ms/step - loss: 22287.0797 - mean_absolute_error: 126.0888 - val_loss: 20971.0273 - val_mean_absolute_error: 130.6331\n",
      "Epoch 37/50\n",
      "160/160 [==============================] - 2s 14ms/step - loss: 22351.3479 - mean_absolute_error: 126.5227 - val_loss: 21422.2285 - val_mean_absolute_error: 131.7749\n",
      "Epoch 38/50\n",
      "160/160 [==============================] - 2s 15ms/step - loss: 22245.4871 - mean_absolute_error: 126.5657 - val_loss: 21115.4805 - val_mean_absolute_error: 130.8893\n",
      "Epoch 39/50\n",
      "160/160 [==============================] - 2s 14ms/step - loss: 22331.8746 - mean_absolute_error: 126.0422 - val_loss: 20546.4844 - val_mean_absolute_error: 129.6761\n",
      "Epoch 40/50\n",
      "160/160 [==============================] - 2s 14ms/step - loss: 22195.0164 - mean_absolute_error: 125.9341 - val_loss: 20926.3008 - val_mean_absolute_error: 130.5433\n",
      "Epoch 41/50\n",
      "160/160 [==============================] - 2s 14ms/step - loss: 22314.3941 - mean_absolute_error: 126.4286 - val_loss: 21025.0293 - val_mean_absolute_error: 130.7259\n",
      "Epoch 42/50\n",
      "160/160 [==============================] - 3s 16ms/step - loss: 22454.7027 - mean_absolute_error: 126.9741 - val_loss: 21427.4316 - val_mean_absolute_error: 131.7989\n",
      "Epoch 43/50\n",
      "160/160 [==============================] - 2s 15ms/step - loss: 22297.0234 - mean_absolute_error: 126.6299 - val_loss: 21091.4492 - val_mean_absolute_error: 130.8399\n",
      "Epoch 44/50\n",
      "160/160 [==============================] - 2s 14ms/step - loss: 22346.7859 - mean_absolute_error: 126.4584 - val_loss: 20837.1699 - val_mean_absolute_error: 130.3607\n",
      "Epoch 45/50\n",
      "160/160 [==============================] - 2s 14ms/step - loss: 22394.8834 - mean_absolute_error: 126.4250 - val_loss: 20929.2285 - val_mean_absolute_error: 130.5412\n",
      "Epoch 46/50\n",
      "160/160 [==============================] - 2s 14ms/step - loss: 22275.2199 - mean_absolute_error: 126.4958 - val_loss: 21331.9512 - val_mean_absolute_error: 131.4699\n"
     ]
    },
    {
     "name": "stdout",
     "output_type": "stream",
     "text": [
      "Epoch 47/50\n",
      "160/160 [==============================] - 2s 14ms/step - loss: 22313.2809 - mean_absolute_error: 126.6933 - val_loss: 21134.8574 - val_mean_absolute_error: 130.9054\n",
      "Epoch 48/50\n",
      "160/160 [==============================] - 2s 14ms/step - loss: 22432.8074 - mean_absolute_error: 126.7174 - val_loss: 20603.0156 - val_mean_absolute_error: 129.8223\n",
      "Epoch 49/50\n",
      "160/160 [==============================] - 2s 14ms/step - loss: 22217.7729 - mean_absolute_error: 125.7395 - val_loss: 20892.5215 - val_mean_absolute_error: 130.4620\n",
      "Epoch 50/50\n",
      "160/160 [==============================] - 2s 14ms/step - loss: 22078.0854 - mean_absolute_error: 125.7653 - val_loss: 21381.2891 - val_mean_absolute_error: 131.6530\n"
     ]
    },
    {
     "data": {
      "text/plain": [
       "<keras.callbacks.History at 0x2af421a0438>"
      ]
     },
     "execution_count": 71,
     "metadata": {},
     "output_type": "execute_result"
    }
   ],
   "source": [
    "model.fit(X_train, y_train, batch_size=32, validation_data=(X_test, y_test), epochs=50)"
   ]
  },
  {
   "cell_type": "code",
   "execution_count": null,
   "metadata": {},
   "outputs": [],
   "source": []
  }
 ],
 "metadata": {
  "kernelspec": {
   "display_name": "test_speedcom",
   "language": "python",
   "name": "test_speedcom"
  },
  "language_info": {
   "codemirror_mode": {
    "name": "ipython",
    "version": 3
   },
   "file_extension": ".py",
   "mimetype": "text/x-python",
   "name": "python",
   "nbconvert_exporter": "python",
   "pygments_lexer": "ipython3",
   "version": "3.6.8"
  }
 },
 "nbformat": 4,
 "nbformat_minor": 2
}
