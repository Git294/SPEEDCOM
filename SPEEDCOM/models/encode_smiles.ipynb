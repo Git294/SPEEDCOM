{
 "cells": [
  {
   "cell_type": "code",
   "execution_count": 1,
   "metadata": {},
   "outputs": [
    {
     "name": "stderr",
     "output_type": "stream",
     "text": [
      "C:\\Users\\Yang\\.conda\\envs\\test_speedcom\\lib\\importlib\\_bootstrap.py:219: RuntimeWarning: numpy.ufunc size changed, may indicate binary incompatibility. Expected 192 from C header, got 216 from PyObject\n",
      "  return f(*args, **kwds)\n",
      "Using TensorFlow backend.\n"
     ]
    }
   ],
   "source": [
    "import numpy as np\n",
    "import pandas as pd\n",
    "import matplotlib as mplt\n",
    "import matplotlib.pyplot as plt\n",
    "\n",
    "from keras.models import Sequential\n",
    "from keras.layers import LSTM, Dense, Embedding, Dropout, Flatten\n",
    "# sequence data packages\n",
    "from keras.preprocessing import sequence\n",
    "import itertools\n",
    "import random\n",
    "import dataUtils as du"
   ]
  },
  {
   "cell_type": "code",
   "execution_count": 2,
   "metadata": {},
   "outputs": [
    {
     "name": "stdout",
     "output_type": "stream",
     "text": [
      "   #      Name      name_smiles  Wavelength  Epsilon  Quantum Yield\n",
      "0  1   Benzene      C1=CC=CC=C1      254.75      210          0.053\n",
      "1  2   Toluene     CC1=CC=CC=C1      261.75     2860          0.170\n",
      "2  3  o-Xylene    CC1=CC=CC=C1C      263.00      254          0.170\n",
      "3  4  m-Xylene  CC1=CC(=CC=C1)C      265.00      284          0.130\n",
      "4  5  p-Xylene  CC1=CC=C(C=C1)C      275.00      770          0.220\n"
     ]
    }
   ],
   "source": [
    "df=du.DataUtils.readData('temp_cleaned_data.tsv')\n",
    "x_str, y_wl=du.DataUtils.get_xy(df,x_col_index=2,y_col_index=3)\n",
    "maxlen = du.DataUtils.get_max_len(x_str)\n"
   ]
  },
  {
   "cell_type": "code",
   "execution_count": 3,
   "metadata": {},
   "outputs": [],
   "source": [
    "wordmap=du.DataUtils.get_wordmap(x_str)"
   ]
  },
  {
   "cell_type": "code",
   "execution_count": 4,
   "metadata": {},
   "outputs": [
    {
     "data": {
      "text/plain": [
       "45"
      ]
     },
     "execution_count": 4,
     "metadata": {},
     "output_type": "execute_result"
    }
   ],
   "source": [
    "len(wordmap)"
   ]
  },
  {
   "cell_type": "code",
   "execution_count": 5,
   "metadata": {},
   "outputs": [],
   "source": [
    "x_encode=du.DataUtils.numeric_encoding(x_str,uniform_length=maxlen+5,word_map=wordmap)"
   ]
  },
  {
   "cell_type": "code",
   "execution_count": 6,
   "metadata": {},
   "outputs": [
    {
     "data": {
      "text/plain": [
       "274"
      ]
     },
     "execution_count": 6,
     "metadata": {},
     "output_type": "execute_result"
    }
   ],
   "source": [
    "maxlen"
   ]
  },
  {
   "cell_type": "code",
   "execution_count": 7,
   "metadata": {},
   "outputs": [],
   "source": [
    "X_train, X_test, y_train, y_test=du.DataUtils.splitData(x_encode, y_wl, ratio=0.2)"
   ]
  },
  {
   "cell_type": "code",
   "execution_count": 8,
   "metadata": {},
   "outputs": [
    {
     "data": {
      "text/plain": [
       "279"
      ]
     },
     "execution_count": 8,
     "metadata": {},
     "output_type": "execute_result"
    }
   ],
   "source": [
    "len(X_train[0])"
   ]
  },
  {
   "cell_type": "code",
   "execution_count": 9,
   "metadata": {},
   "outputs": [
    {
     "data": {
      "text/plain": [
       "(array([91., 57., 18., 25., 21., 23., 18.,  7.,  3.,  4.]),\n",
       " array([203. , 264.5, 326. , 387.5, 449. , 510.5, 572. , 633.5, 695. ,\n",
       "        756.5, 818. ]),\n",
       " <a list of 10 Patch objects>)"
      ]
     },
     "execution_count": 9,
     "metadata": {},
     "output_type": "execute_result"
    },
    {
     "data": {
      "image/png": "[encoded data removed]",
      "text/plain": [
       "<Figure size 432x288 with 1 Axes>"
      ]
     },
     "metadata": {
      "needs_background": "light"
     },
     "output_type": "display_data"
    }
   ],
   "source": [
    "plt.hist(y_wl.tolist())"
   ]
  },
  {
   "cell_type": "markdown",
   "metadata": {},
   "source": [
    "#### 1st model, use all data and numeric encoding of smiles, added embedding layer"
   ]
  },
  {
   "cell_type": "code",
   "execution_count": 10,
   "metadata": {},
   "outputs": [
    {
     "name": "stdout",
     "output_type": "stream",
     "text": [
      "WARNING:tensorflow:From C:\\Users\\Yang\\AppData\\Roaming\\Python\\Python36\\site-packages\\tensorflow\\python\\framework\\op_def_library.py:263: colocate_with (from tensorflow.python.framework.ops) is deprecated and will be removed in a future version.\n",
      "Instructions for updating:\n",
      "Colocations handled automatically by placer.\n",
      "WARNING:tensorflow:From C:\\Users\\Yang\\.conda\\envs\\test_speedcom\\lib\\site-packages\\keras\\backend\\tensorflow_backend.py:3445: calling dropout (from tensorflow.python.ops.nn_ops) with keep_prob is deprecated and will be removed in a future version.\n",
      "Instructions for updating:\n",
      "Please use `rate` instead of `keep_prob`. Rate should be set to `rate = 1 - keep_prob`.\n"
     ]
    }
   ],
   "source": [
    "hidden_size = 50\n",
    "model = Sequential()\n",
    "model.add(Embedding(len(wordmap), hidden_size, input_length=maxlen+5))\n",
    "model.add(LSTM(hidden_size, return_sequences=True))\n",
    "model.add(LSTM(hidden_size, return_sequences=True))\n",
    "model.add(LSTM(hidden_size, return_sequences=True))\n",
    "model.add(Dropout(0.4))\n",
    "model.add(Dense(hidden_size, activation='relu'))\n",
    "model.add(Flatten())\n",
    "model.add(Dense(1, activation='linear'))"
   ]
  },
  {
   "cell_type": "code",
   "execution_count": 11,
   "metadata": {},
   "outputs": [
    {
     "name": "stdout",
     "output_type": "stream",
     "text": [
      "_________________________________________________________________\n",
      "Layer (type)                 Output Shape              Param #   \n",
      "=================================================================\n",
      "embedding_1 (Embedding)      (None, 279, 50)           2250      \n",
      "_________________________________________________________________\n",
      "lstm_1 (LSTM)                (None, 279, 50)           20200     \n",
      "_________________________________________________________________\n",
      "lstm_2 (LSTM)                (None, 279, 50)           20200     \n",
      "_________________________________________________________________\n",
      "lstm_3 (LSTM)                (None, 279, 50)           20200     \n",
      "_________________________________________________________________\n",
      "dropout_1 (Dropout)          (None, 279, 50)           0         \n",
      "_________________________________________________________________\n",
      "dense_1 (Dense)              (None, 279, 50)           2550      \n",
      "_________________________________________________________________\n",
      "flatten_1 (Flatten)          (None, 13950)             0         \n",
      "_________________________________________________________________\n",
      "dense_2 (Dense)              (None, 1)                 13951     \n",
      "=================================================================\n",
      "Total params: 79,351\n",
      "Trainable params: 79,351\n",
      "Non-trainable params: 0\n",
      "_________________________________________________________________\n"
     ]
    }
   ],
   "source": [
    "model.compile(loss='mean_squared_error', optimizer='Adam', metrics=['mean_absolute_error'])\n",
    "model.summary() ##use mean_squared_error loss"
   ]
  },
  {
   "cell_type": "code",
   "execution_count": 12,
   "metadata": {},
   "outputs": [
    {
     "name": "stdout",
     "output_type": "stream",
     "text": [
      "WARNING:tensorflow:From C:\\Users\\Yang\\AppData\\Roaming\\Python\\Python36\\site-packages\\tensorflow\\python\\ops\\math_ops.py:3066: to_int32 (from tensorflow.python.ops.math_ops) is deprecated and will be removed in a future version.\n",
      "Instructions for updating:\n",
      "Use tf.cast instead.\n",
      "Train on 213 samples, validate on 54 samples\n",
      "Epoch 1/100\n",
      "213/213 [==============================] - 5s 22ms/step - loss: 159913.8190 - mean_absolute_error: 370.6695 - val_loss: 132619.5133 - val_mean_absolute_error: 341.6674\n",
      "Epoch 2/100\n",
      "213/213 [==============================] - 3s 12ms/step - loss: 139917.4018 - mean_absolute_error: 342.6092 - val_loss: 84819.9025 - val_mean_absolute_error: 262.1810\n",
      "Epoch 3/100\n",
      "213/213 [==============================] - 2s 12ms/step - loss: 72834.4789 - mean_absolute_error: 216.7726 - val_loss: 24345.9636 - val_mean_absolute_error: 103.5260\n",
      "Epoch 4/100\n",
      "213/213 [==============================] - 2s 11ms/step - loss: 26574.2629 - mean_absolute_error: 132.6302 - val_loss: 27603.9005 - val_mean_absolute_error: 149.5782\n",
      "Epoch 5/100\n",
      "213/213 [==============================] - 2s 11ms/step - loss: 30105.5847 - mean_absolute_error: 154.6489 - val_loss: 16838.5348 - val_mean_absolute_error: 117.8629\n",
      "Epoch 6/100\n",
      "213/213 [==============================] - 2s 11ms/step - loss: 23056.4728 - mean_absolute_error: 127.5990 - val_loss: 16730.9704 - val_mean_absolute_error: 102.7745\n",
      "Epoch 7/100\n",
      "213/213 [==============================] - 2s 11ms/step - loss: 24070.8733 - mean_absolute_error: 123.0635 - val_loss: 15954.1379 - val_mean_absolute_error: 106.7383\n",
      "Epoch 8/100\n",
      "213/213 [==============================] - 2s 11ms/step - loss: 22852.9443 - mean_absolute_error: 130.0807 - val_loss: 16883.4154 - val_mean_absolute_error: 118.0708\n",
      "Epoch 9/100\n",
      "213/213 [==============================] - 3s 13ms/step - loss: 23045.0692 - mean_absolute_error: 132.7358 - val_loss: 16118.7269 - val_mean_absolute_error: 113.4827\n",
      "Epoch 10/100\n",
      "213/213 [==============================] - 3s 13ms/step - loss: 22547.4882 - mean_absolute_error: 130.2014 - val_loss: 16035.2403 - val_mean_absolute_error: 112.6920\n",
      "Epoch 11/100\n",
      "213/213 [==============================] - 3s 12ms/step - loss: 22588.6559 - mean_absolute_error: 129.0417 - val_loss: 15887.8882 - val_mean_absolute_error: 110.9264\n",
      "Epoch 12/100\n",
      "213/213 [==============================] - 2s 11ms/step - loss: 22597.1619 - mean_absolute_error: 128.9587 - val_loss: 16000.1216 - val_mean_absolute_error: 112.3420\n",
      "Epoch 13/100\n",
      "213/213 [==============================] - 3s 13ms/step - loss: 22458.1053 - mean_absolute_error: 129.7105 - val_loss: 16114.6040 - val_mean_absolute_error: 113.4496\n",
      "Epoch 14/100\n",
      "213/213 [==============================] - 3s 14ms/step - loss: 22562.3217 - mean_absolute_error: 129.3334 - val_loss: 15946.9486 - val_mean_absolute_error: 111.7658\n",
      "Epoch 15/100\n",
      "213/213 [==============================] - 3s 14ms/step - loss: 22631.9127 - mean_absolute_error: 130.1447 - val_loss: 16084.5187 - val_mean_absolute_error: 113.1796\n",
      "Epoch 16/100\n",
      "213/213 [==============================] - 3s 12ms/step - loss: 22657.6170 - mean_absolute_error: 129.1961 - val_loss: 15866.2730 - val_mean_absolute_error: 110.5319\n",
      "Epoch 17/100\n",
      "213/213 [==============================] - 3s 12ms/step - loss: 22601.9763 - mean_absolute_error: 129.5242 - val_loss: 16203.8022 - val_mean_absolute_error: 114.1816\n",
      "Epoch 18/100\n",
      "213/213 [==============================] - 3s 12ms/step - loss: 22542.0816 - mean_absolute_error: 130.1535 - val_loss: 15923.6029 - val_mean_absolute_error: 111.4786\n",
      "Epoch 19/100\n",
      "213/213 [==============================] - 3s 12ms/step - loss: 22897.1087 - mean_absolute_error: 128.1966 - val_loss: 15855.7789 - val_mean_absolute_error: 110.3375\n",
      "Epoch 20/100\n",
      "213/213 [==============================] - 3s 12ms/step - loss: 22611.7878 - mean_absolute_error: 129.7553 - val_loss: 16191.0631 - val_mean_absolute_error: 114.0848\n",
      "Epoch 21/100\n",
      "213/213 [==============================] - 3s 12ms/step - loss: 22568.7942 - mean_absolute_error: 131.2806 - val_loss: 16178.4961 - val_mean_absolute_error: 113.9869\n",
      "Epoch 22/100\n",
      "213/213 [==============================] - 3s 12ms/step - loss: 22905.4446 - mean_absolute_error: 128.7854 - val_loss: 15834.3517 - val_mean_absolute_error: 109.7626\n",
      "Epoch 23/100\n",
      "213/213 [==============================] - 3s 12ms/step - loss: 22876.3938 - mean_absolute_error: 131.0085 - val_loss: 16430.0764 - val_mean_absolute_error: 115.7084\n",
      "Epoch 24/100\n",
      "213/213 [==============================] - 3s 12ms/step - loss: 22515.9655 - mean_absolute_error: 130.1108 - val_loss: 15889.3069 - val_mean_absolute_error: 110.9962\n",
      "Epoch 25/100\n",
      "213/213 [==============================] - 3s 14ms/step - loss: 22606.5757 - mean_absolute_error: 127.8333 - val_loss: 15843.2371 - val_mean_absolute_error: 110.0908\n",
      "Epoch 26/100\n",
      "213/213 [==============================] - 3s 12ms/step - loss: 22571.8321 - mean_absolute_error: 129.2016 - val_loss: 16126.1576 - val_mean_absolute_error: 113.5613\n",
      "Epoch 27/100\n",
      "213/213 [==============================] - 3s 12ms/step - loss: 22656.9863 - mean_absolute_error: 131.7283 - val_loss: 16261.3917 - val_mean_absolute_error: 114.6088\n",
      "Epoch 28/100\n",
      "213/213 [==============================] - 3s 13ms/step - loss: 22701.6455 - mean_absolute_error: 129.3959 - val_loss: 15852.0204 - val_mean_absolute_error: 110.3321\n",
      "Epoch 29/100\n",
      "213/213 [==============================] - 3s 12ms/step - loss: 22461.3001 - mean_absolute_error: 128.0007 - val_loss: 15877.2180 - val_mean_absolute_error: 110.8269\n",
      "Epoch 30/100\n",
      "213/213 [==============================] - 3s 12ms/step - loss: 22547.4445 - mean_absolute_error: 128.3663 - val_loss: 15950.3783 - val_mean_absolute_error: 111.8451\n",
      "Epoch 31/100\n",
      "213/213 [==============================] - 3s 12ms/step - loss: 22492.2131 - mean_absolute_error: 129.2914 - val_loss: 16066.6991 - val_mean_absolute_error: 113.0369\n",
      "Epoch 32/100\n",
      "213/213 [==============================] - 3s 13ms/step - loss: 22699.4653 - mean_absolute_error: 131.7734 - val_loss: 16324.8663 - val_mean_absolute_error: 115.0406\n",
      "Epoch 33/100\n",
      "213/213 [==============================] - 3s 12ms/step - loss: 22763.4395 - mean_absolute_error: 129.0630 - val_loss: 15820.4839 - val_mean_absolute_error: 109.4686\n",
      "Epoch 34/100\n",
      "213/213 [==============================] - 3s 12ms/step - loss: 22532.4766 - mean_absolute_error: 126.5787 - val_loss: 15938.2455 - val_mean_absolute_error: 111.7278\n",
      "Epoch 35/100\n",
      "213/213 [==============================] - 3s 12ms/step - loss: 22668.8921 - mean_absolute_error: 131.1429 - val_loss: 16235.6964 - val_mean_absolute_error: 114.4240\n",
      "Epoch 36/100\n",
      "213/213 [==============================] - 3s 12ms/step - loss: 22596.1634 - mean_absolute_error: 131.2043 - val_loss: 15977.6191 - val_mean_absolute_error: 112.1690\n",
      "Epoch 37/100\n",
      "213/213 [==============================] - 3s 12ms/step - loss: 22537.3366 - mean_absolute_error: 127.3846 - val_loss: 15822.5817 - val_mean_absolute_error: 109.8896\n",
      "Epoch 38/100\n",
      "213/213 [==============================] - 3s 12ms/step - loss: 22659.3283 - mean_absolute_error: 129.7556 - val_loss: 16398.9205 - val_mean_absolute_error: 115.4861\n",
      "Epoch 39/100\n",
      "213/213 [==============================] - 3s 12ms/step - loss: 22439.7897 - mean_absolute_error: 129.6942 - val_loss: 15820.3387 - val_mean_absolute_error: 110.0298\n",
      "Epoch 40/100\n",
      "213/213 [==============================] - 3s 16ms/step - loss: 22568.1208 - mean_absolute_error: 128.6396 - val_loss: 15977.2535 - val_mean_absolute_error: 112.1973\n",
      "Epoch 41/100\n",
      "213/213 [==============================] - 3s 16ms/step - loss: 22530.3347 - mean_absolute_error: 127.5029 - val_loss: 15780.1255 - val_mean_absolute_error: 109.2347\n",
      "Epoch 42/100\n",
      "213/213 [==============================] - 3s 12ms/step - loss: 22067.2036 - mean_absolute_error: 127.2253 - val_loss: 16142.6146 - val_mean_absolute_error: 113.5503\n",
      "Epoch 43/100\n",
      "213/213 [==============================] - 3s 12ms/step - loss: 21427.1594 - mean_absolute_error: 125.7393 - val_loss: 15780.9521 - val_mean_absolute_error: 107.2331\n",
      "Epoch 44/100\n",
      "213/213 [==============================] - 3s 13ms/step - loss: 20859.1619 - mean_absolute_error: 122.7756 - val_loss: 16416.2910 - val_mean_absolute_error: 113.8253\n",
      "Epoch 45/100\n"
     ]
    },
    {
     "name": "stdout",
     "output_type": "stream",
     "text": [
      "213/213 [==============================] - 3s 16ms/step - loss: 20635.9826 - mean_absolute_error: 124.9951 - val_loss: 15769.9952 - val_mean_absolute_error: 108.0824\n",
      "Epoch 46/100\n",
      "213/213 [==============================] - 3s 14ms/step - loss: 20059.9324 - mean_absolute_error: 120.4861 - val_loss: 15636.2475 - val_mean_absolute_error: 109.0005\n",
      "Epoch 47/100\n",
      "213/213 [==============================] - 3s 12ms/step - loss: 20046.8756 - mean_absolute_error: 118.5087 - val_loss: 15468.3699 - val_mean_absolute_error: 107.2216\n",
      "Epoch 48/100\n",
      "213/213 [==============================] - 3s 14ms/step - loss: 18704.1245 - mean_absolute_error: 116.4470 - val_loss: 15403.2869 - val_mean_absolute_error: 105.7927\n",
      "Epoch 49/100\n",
      "213/213 [==============================] - 3s 12ms/step - loss: 43911.1757 - mean_absolute_error: 171.2723 - val_loss: 37841.8141 - val_mean_absolute_error: 173.2914\n",
      "Epoch 50/100\n",
      "213/213 [==============================] - 3s 12ms/step - loss: 27582.9016 - mean_absolute_error: 147.1586 - val_loss: 19741.0752 - val_mean_absolute_error: 125.0881\n",
      "Epoch 51/100\n",
      "213/213 [==============================] - 3s 12ms/step - loss: 21771.6590 - mean_absolute_error: 124.9132 - val_loss: 17534.1142 - val_mean_absolute_error: 109.3856\n",
      "Epoch 52/100\n",
      "213/213 [==============================] - 3s 13ms/step - loss: 21415.7679 - mean_absolute_error: 120.9449 - val_loss: 16749.0544 - val_mean_absolute_error: 114.6839\n",
      "Epoch 53/100\n",
      "213/213 [==============================] - 3s 13ms/step - loss: 20209.8488 - mean_absolute_error: 123.6570 - val_loss: 17386.2343 - val_mean_absolute_error: 118.1233\n",
      "Epoch 54/100\n",
      "213/213 [==============================] - 3s 12ms/step - loss: 20296.2114 - mean_absolute_error: 122.1363 - val_loss: 15749.4168 - val_mean_absolute_error: 109.8148\n",
      "Epoch 55/100\n",
      "213/213 [==============================] - 3s 15ms/step - loss: 19684.8867 - mean_absolute_error: 118.7538 - val_loss: 15873.6414 - val_mean_absolute_error: 110.0588\n",
      "Epoch 56/100\n",
      "213/213 [==============================] - 3s 14ms/step - loss: 19032.5841 - mean_absolute_error: 115.2903 - val_loss: 15705.5404 - val_mean_absolute_error: 107.5179\n",
      "Epoch 57/100\n",
      "213/213 [==============================] - 3s 12ms/step - loss: 18598.3653 - mean_absolute_error: 113.5692 - val_loss: 15616.0329 - val_mean_absolute_error: 106.2333\n",
      "Epoch 58/100\n",
      "213/213 [==============================] - 3s 12ms/step - loss: 18257.0998 - mean_absolute_error: 110.9619 - val_loss: 15739.1012 - val_mean_absolute_error: 105.4069\n",
      "Epoch 59/100\n",
      "213/213 [==============================] - 3s 12ms/step - loss: 17682.5377 - mean_absolute_error: 110.8091 - val_loss: 16249.9010 - val_mean_absolute_error: 107.7727\n",
      "Epoch 60/100\n",
      "213/213 [==============================] - 3s 12ms/step - loss: 17105.1230 - mean_absolute_error: 107.1336 - val_loss: 15900.6527 - val_mean_absolute_error: 102.8011\n",
      "Epoch 61/100\n",
      "213/213 [==============================] - 3s 12ms/step - loss: 16988.9482 - mean_absolute_error: 104.2018 - val_loss: 15013.2465 - val_mean_absolute_error: 100.9828\n",
      "Epoch 62/100\n",
      "213/213 [==============================] - 3s 12ms/step - loss: 15301.7309 - mean_absolute_error: 95.8005 - val_loss: 11117.7762 - val_mean_absolute_error: 85.1886\n",
      "Epoch 63/100\n",
      "213/213 [==============================] - 3s 12ms/step - loss: 12077.7496 - mean_absolute_error: 82.9508 - val_loss: 11124.9333 - val_mean_absolute_error: 82.1168\n",
      "Epoch 64/100\n",
      "213/213 [==============================] - 3s 12ms/step - loss: 11656.7133 - mean_absolute_error: 80.8388 - val_loss: 10117.1906 - val_mean_absolute_error: 83.9952\n",
      "Epoch 65/100\n",
      "213/213 [==============================] - 3s 12ms/step - loss: 10577.5720 - mean_absolute_error: 75.2153 - val_loss: 9428.9033 - val_mean_absolute_error: 80.0944\n",
      "Epoch 66/100\n",
      "213/213 [==============================] - 3s 12ms/step - loss: 10593.6437 - mean_absolute_error: 74.2172 - val_loss: 8911.9231 - val_mean_absolute_error: 74.1092\n",
      "Epoch 67/100\n",
      "213/213 [==============================] - 3s 12ms/step - loss: 11166.7466 - mean_absolute_error: 76.6443 - val_loss: 9462.7579 - val_mean_absolute_error: 72.3471\n",
      "Epoch 68/100\n",
      "213/213 [==============================] - 3s 12ms/step - loss: 10234.8932 - mean_absolute_error: 74.5671 - val_loss: 9623.0647 - val_mean_absolute_error: 76.8988\n",
      "Epoch 69/100\n",
      "213/213 [==============================] - 3s 12ms/step - loss: 9924.9242 - mean_absolute_error: 74.2537 - val_loss: 9261.9400 - val_mean_absolute_error: 73.8899\n",
      "Epoch 70/100\n",
      "213/213 [==============================] - 3s 12ms/step - loss: 9594.7381 - mean_absolute_error: 71.5236 - val_loss: 9376.7070 - val_mean_absolute_error: 75.3782\n",
      "Epoch 71/100\n",
      "213/213 [==============================] - 3s 14ms/step - loss: 9495.2269 - mean_absolute_error: 72.4302 - val_loss: 8777.9193 - val_mean_absolute_error: 69.6602\n",
      "Epoch 72/100\n",
      "213/213 [==============================] - 3s 13ms/step - loss: 9524.1771 - mean_absolute_error: 69.9513 - val_loss: 8521.2758 - val_mean_absolute_error: 70.3886\n",
      "Epoch 73/100\n",
      "213/213 [==============================] - 3s 13ms/step - loss: 9313.2567 - mean_absolute_error: 70.9988 - val_loss: 8315.8962 - val_mean_absolute_error: 69.4295\n",
      "Epoch 74/100\n",
      "213/213 [==============================] - 3s 12ms/step - loss: 9144.0008 - mean_absolute_error: 69.6358 - val_loss: 8123.3186 - val_mean_absolute_error: 68.1159\n",
      "Epoch 75/100\n",
      "213/213 [==============================] - 3s 12ms/step - loss: 8646.8268 - mean_absolute_error: 68.2218 - val_loss: 8697.8467 - val_mean_absolute_error: 70.2439\n",
      "Epoch 76/100\n",
      "213/213 [==============================] - 3s 14ms/step - loss: 9206.7500 - mean_absolute_error: 67.9011 - val_loss: 8567.2601 - val_mean_absolute_error: 69.3688\n",
      "Epoch 77/100\n",
      "213/213 [==============================] - 3s 14ms/step - loss: 10119.9978 - mean_absolute_error: 71.0315 - val_loss: 10066.9573 - val_mean_absolute_error: 69.0750\n",
      "Epoch 78/100\n",
      "213/213 [==============================] - 3s 13ms/step - loss: 10585.8663 - mean_absolute_error: 80.7100 - val_loss: 9698.1213 - val_mean_absolute_error: 80.8919\n",
      "Epoch 79/100\n",
      "213/213 [==============================] - 3s 13ms/step - loss: 9295.9447 - mean_absolute_error: 72.9908 - val_loss: 9531.2706 - val_mean_absolute_error: 70.7339\n",
      "Epoch 80/100\n",
      "213/213 [==============================] - 3s 12ms/step - loss: 8473.3240 - mean_absolute_error: 66.2481 - val_loss: 8653.6269 - val_mean_absolute_error: 72.3011\n",
      "Epoch 81/100\n",
      "213/213 [==============================] - 3s 12ms/step - loss: 8815.8531 - mean_absolute_error: 68.2385 - val_loss: 8126.6505 - val_mean_absolute_error: 69.7087\n",
      "Epoch 82/100\n",
      "213/213 [==============================] - 3s 12ms/step - loss: 8003.3558 - mean_absolute_error: 66.0132 - val_loss: 9379.7980 - val_mean_absolute_error: 75.1029\n",
      "Epoch 83/100\n",
      "213/213 [==============================] - 3s 12ms/step - loss: 8574.8943 - mean_absolute_error: 69.8074 - val_loss: 8283.2017 - val_mean_absolute_error: 67.4289\n",
      "Epoch 84/100\n",
      "213/213 [==============================] - 3s 12ms/step - loss: 8707.7924 - mean_absolute_error: 67.6462 - val_loss: 9157.5252 - val_mean_absolute_error: 74.7814\n",
      "Epoch 85/100\n",
      "213/213 [==============================] - 3s 12ms/step - loss: 8367.0237 - mean_absolute_error: 67.8251 - val_loss: 8146.9512 - val_mean_absolute_error: 70.2461\n",
      "Epoch 86/100\n",
      "213/213 [==============================] - 3s 12ms/step - loss: 7826.8618 - mean_absolute_error: 65.0375 - val_loss: 8101.6789 - val_mean_absolute_error: 70.2477\n",
      "Epoch 87/100\n",
      "213/213 [==============================] - 3s 13ms/step - loss: 7855.6295 - mean_absolute_error: 65.4407 - val_loss: 8178.4716 - val_mean_absolute_error: 67.2188\n",
      "Epoch 88/100\n",
      "213/213 [==============================] - 3s 13ms/step - loss: 7997.0369 - mean_absolute_error: 64.6088 - val_loss: 8707.3270 - val_mean_absolute_error: 72.8605\n",
      "Epoch 89/100\n",
      "213/213 [==============================] - 3s 13ms/step - loss: 7815.9894 - mean_absolute_error: 65.0229 - val_loss: 8206.6282 - val_mean_absolute_error: 69.5842\n",
      "Epoch 90/100\n",
      "213/213 [==============================] - 3s 13ms/step - loss: 7960.8092 - mean_absolute_error: 64.9752 - val_loss: 7995.7858 - val_mean_absolute_error: 68.1282\n",
      "Epoch 91/100\n"
     ]
    },
    {
     "name": "stdout",
     "output_type": "stream",
     "text": [
      "213/213 [==============================] - 3s 13ms/step - loss: 7692.0606 - mean_absolute_error: 62.9609 - val_loss: 7740.1339 - val_mean_absolute_error: 67.4845\n",
      "Epoch 92/100\n",
      "213/213 [==============================] - 3s 13ms/step - loss: 7737.9626 - mean_absolute_error: 65.0541 - val_loss: 7822.4623 - val_mean_absolute_error: 66.4573\n",
      "Epoch 93/100\n",
      "213/213 [==============================] - 3s 13ms/step - loss: 8504.2838 - mean_absolute_error: 66.0765 - val_loss: 8382.7890 - val_mean_absolute_error: 67.4699\n",
      "Epoch 94/100\n",
      "213/213 [==============================] - 3s 14ms/step - loss: 8071.7393 - mean_absolute_error: 67.0537 - val_loss: 9222.6198 - val_mean_absolute_error: 71.4740\n",
      "Epoch 95/100\n",
      "213/213 [==============================] - 3s 14ms/step - loss: 8221.5595 - mean_absolute_error: 65.2346 - val_loss: 8256.0799 - val_mean_absolute_error: 67.3739\n",
      "Epoch 96/100\n",
      "213/213 [==============================] - 3s 12ms/step - loss: 7775.9458 - mean_absolute_error: 64.4309 - val_loss: 9084.6822 - val_mean_absolute_error: 71.5067\n",
      "Epoch 97/100\n",
      "213/213 [==============================] - 3s 12ms/step - loss: 7796.3751 - mean_absolute_error: 64.4565 - val_loss: 8817.2068 - val_mean_absolute_error: 71.6932\n",
      "Epoch 98/100\n",
      "213/213 [==============================] - 3s 13ms/step - loss: 8618.1973 - mean_absolute_error: 65.9205 - val_loss: 8351.0792 - val_mean_absolute_error: 67.8801\n",
      "Epoch 99/100\n",
      "213/213 [==============================] - 3s 14ms/step - loss: 8242.8978 - mean_absolute_error: 67.0712 - val_loss: 8810.1036 - val_mean_absolute_error: 69.8267\n",
      "Epoch 100/100\n",
      "213/213 [==============================] - 3s 14ms/step - loss: 8763.5805 - mean_absolute_error: 68.0035 - val_loss: 8237.5346 - val_mean_absolute_error: 67.0360\n"
     ]
    },
    {
     "data": {
      "text/plain": [
       "<keras.callbacks.History at 0x249efe1c668>"
      ]
     },
     "execution_count": 12,
     "metadata": {},
     "output_type": "execute_result"
    }
   ],
   "source": [
    "model.fit(X_train, y_train, batch_size=32, validation_data=(X_test, y_test), epochs=100)"
   ]
  },
  {
   "cell_type": "code",
   "execution_count": 13,
   "metadata": {},
   "outputs": [
    {
     "name": "stdout",
     "output_type": "stream",
     "text": [
      "Train on 213 samples, validate on 54 samples\n",
      "Epoch 1/50\n",
      "213/213 [==============================] - 2s 11ms/step - loss: 7408.5909 - mean_absolute_error: 64.3249 - val_loss: 8630.6930 - val_mean_absolute_error: 69.0457\n",
      "Epoch 2/50\n",
      "213/213 [==============================] - 3s 12ms/step - loss: 7701.7948 - mean_absolute_error: 64.1851 - val_loss: 8640.1936 - val_mean_absolute_error: 70.0513\n",
      "Epoch 3/50\n",
      "213/213 [==============================] - 3s 12ms/step - loss: 7874.4656 - mean_absolute_error: 64.2177 - val_loss: 8646.6776 - val_mean_absolute_error: 69.1646\n",
      "Epoch 4/50\n",
      "213/213 [==============================] - 3s 12ms/step - loss: 7853.2146 - mean_absolute_error: 64.6273 - val_loss: 9063.6929 - val_mean_absolute_error: 71.6374\n",
      "Epoch 5/50\n",
      "213/213 [==============================] - 2s 12ms/step - loss: 8026.5921 - mean_absolute_error: 66.2241 - val_loss: 8238.5576 - val_mean_absolute_error: 68.1226\n",
      "Epoch 6/50\n",
      "213/213 [==============================] - 3s 12ms/step - loss: 7547.3592 - mean_absolute_error: 62.9100 - val_loss: 8118.8698 - val_mean_absolute_error: 67.9141\n",
      "Epoch 7/50\n",
      "213/213 [==============================] - 3s 12ms/step - loss: 7739.9096 - mean_absolute_error: 64.9901 - val_loss: 8081.8206 - val_mean_absolute_error: 68.0590\n",
      "Epoch 8/50\n",
      "213/213 [==============================] - 3s 12ms/step - loss: 8142.0399 - mean_absolute_error: 66.1176 - val_loss: 7942.2324 - val_mean_absolute_error: 66.8680\n",
      "Epoch 9/50\n",
      "213/213 [==============================] - 3s 12ms/step - loss: 8393.8290 - mean_absolute_error: 64.2841 - val_loss: 8014.1484 - val_mean_absolute_error: 65.8694\n",
      "Epoch 10/50\n",
      "213/213 [==============================] - 3s 13ms/step - loss: 8221.7991 - mean_absolute_error: 66.8718 - val_loss: 9089.3387 - val_mean_absolute_error: 71.9511\n",
      "Epoch 11/50\n",
      "213/213 [==============================] - 2s 12ms/step - loss: 7496.4577 - mean_absolute_error: 63.3135 - val_loss: 7954.7940 - val_mean_absolute_error: 67.0589\n",
      "Epoch 12/50\n",
      "213/213 [==============================] - 3s 12ms/step - loss: 7863.6920 - mean_absolute_error: 63.1619 - val_loss: 8084.1012 - val_mean_absolute_error: 68.5314\n",
      "Epoch 13/50\n",
      "213/213 [==============================] - 3s 13ms/step - loss: 7445.0750 - mean_absolute_error: 63.5175 - val_loss: 7876.7084 - val_mean_absolute_error: 66.5447\n",
      "Epoch 14/50\n",
      "213/213 [==============================] - 3s 13ms/step - loss: 7860.1019 - mean_absolute_error: 63.5908 - val_loss: 8138.5700 - val_mean_absolute_error: 67.1222\n",
      "Epoch 15/50\n",
      "213/213 [==============================] - 3s 15ms/step - loss: 7491.6686 - mean_absolute_error: 63.7227 - val_loss: 8118.6880 - val_mean_absolute_error: 66.4484\n",
      "Epoch 16/50\n",
      "213/213 [==============================] - 3s 13ms/step - loss: 7143.8033 - mean_absolute_error: 61.7167 - val_loss: 8291.0024 - val_mean_absolute_error: 67.2437\n",
      "Epoch 17/50\n",
      "213/213 [==============================] - 3s 13ms/step - loss: 6987.5529 - mean_absolute_error: 61.1591 - val_loss: 8282.2057 - val_mean_absolute_error: 67.7057\n",
      "Epoch 18/50\n",
      "213/213 [==============================] - 3s 12ms/step - loss: 7171.6206 - mean_absolute_error: 61.8356 - val_loss: 7871.9102 - val_mean_absolute_error: 66.6361\n",
      "Epoch 19/50\n",
      "213/213 [==============================] - 3s 13ms/step - loss: 7424.1938 - mean_absolute_error: 62.7922 - val_loss: 8537.0874 - val_mean_absolute_error: 66.8207\n",
      "Epoch 20/50\n",
      "213/213 [==============================] - 3s 13ms/step - loss: 7501.2972 - mean_absolute_error: 64.1073 - val_loss: 9235.3358 - val_mean_absolute_error: 71.1372\n",
      "Epoch 21/50\n",
      "213/213 [==============================] - 3s 15ms/step - loss: 7381.7606 - mean_absolute_error: 64.0037 - val_loss: 8160.2127 - val_mean_absolute_error: 67.6593\n",
      "Epoch 22/50\n",
      "213/213 [==============================] - 3s 15ms/step - loss: 7002.1891 - mean_absolute_error: 61.5581 - val_loss: 8281.3437 - val_mean_absolute_error: 67.6386\n",
      "Epoch 23/50\n",
      "213/213 [==============================] - 3s 13ms/step - loss: 6711.3383 - mean_absolute_error: 59.3721 - val_loss: 8134.5226 - val_mean_absolute_error: 66.3241\n",
      "Epoch 24/50\n",
      "213/213 [==============================] - 3s 12ms/step - loss: 6823.0022 - mean_absolute_error: 60.8338 - val_loss: 7786.8016 - val_mean_absolute_error: 64.4452\n",
      "Epoch 25/50\n",
      "213/213 [==============================] - 3s 12ms/step - loss: 6952.5227 - mean_absolute_error: 59.8189 - val_loss: 8314.2741 - val_mean_absolute_error: 67.7223\n",
      "Epoch 26/50\n",
      "213/213 [==============================] - 3s 15ms/step - loss: 7710.7268 - mean_absolute_error: 64.4362 - val_loss: 8285.7161 - val_mean_absolute_error: 66.3538\n",
      "Epoch 27/50\n",
      "213/213 [==============================] - 3s 12ms/step - loss: 7650.3123 - mean_absolute_error: 62.8102 - val_loss: 9194.4287 - val_mean_absolute_error: 69.4147\n",
      "Epoch 28/50\n",
      "213/213 [==============================] - 3s 12ms/step - loss: 7077.6789 - mean_absolute_error: 62.3295 - val_loss: 8664.6920 - val_mean_absolute_error: 67.8832\n",
      "Epoch 29/50\n",
      "213/213 [==============================] - 3s 12ms/step - loss: 7083.9386 - mean_absolute_error: 60.9640 - val_loss: 8808.1939 - val_mean_absolute_error: 69.3290\n",
      "Epoch 30/50\n",
      "213/213 [==============================] - 2s 12ms/step - loss: 6550.9759 - mean_absolute_error: 58.2446 - val_loss: 8609.7366 - val_mean_absolute_error: 68.8901\n",
      "Epoch 31/50\n",
      "213/213 [==============================] - 3s 12ms/step - loss: 6501.4790 - mean_absolute_error: 58.1102 - val_loss: 8619.3143 - val_mean_absolute_error: 68.4763\n",
      "Epoch 32/50\n",
      "213/213 [==============================] - 3s 12ms/step - loss: 6820.2761 - mean_absolute_error: 60.2007 - val_loss: 8431.0898 - val_mean_absolute_error: 67.4634\n",
      "Epoch 33/50\n",
      "213/213 [==============================] - 3s 12ms/step - loss: 6496.1317 - mean_absolute_error: 58.8386 - val_loss: 8378.2641 - val_mean_absolute_error: 67.9549\n",
      "Epoch 34/50\n",
      "213/213 [==============================] - 3s 12ms/step - loss: 6447.0389 - mean_absolute_error: 58.2279 - val_loss: 8578.4259 - val_mean_absolute_error: 67.7012\n",
      "Epoch 35/50\n",
      "213/213 [==============================] - 2s 12ms/step - loss: 6483.8498 - mean_absolute_error: 58.0831 - val_loss: 8912.1241 - val_mean_absolute_error: 68.1196\n",
      "Epoch 36/50\n",
      "213/213 [==============================] - 3s 12ms/step - loss: 6476.7740 - mean_absolute_error: 58.5852 - val_loss: 8508.7361 - val_mean_absolute_error: 67.2521\n",
      "Epoch 37/50\n",
      "213/213 [==============================] - 2s 12ms/step - loss: 6324.4133 - mean_absolute_error: 57.9762 - val_loss: 8172.8590 - val_mean_absolute_error: 66.9311\n",
      "Epoch 38/50\n",
      "213/213 [==============================] - 3s 12ms/step - loss: 6295.7892 - mean_absolute_error: 57.8997 - val_loss: 8481.6242 - val_mean_absolute_error: 67.0910\n",
      "Epoch 39/50\n",
      "213/213 [==============================] - 3s 12ms/step - loss: 7084.2525 - mean_absolute_error: 59.6524 - val_loss: 9194.0432 - val_mean_absolute_error: 70.0134\n",
      "Epoch 40/50\n",
      "213/213 [==============================] - 2s 12ms/step - loss: 6772.0303 - mean_absolute_error: 61.0093 - val_loss: 8861.8785 - val_mean_absolute_error: 66.6479\n",
      "Epoch 41/50\n",
      "213/213 [==============================] - 3s 12ms/step - loss: 7323.9808 - mean_absolute_error: 60.2076 - val_loss: 13221.8194 - val_mean_absolute_error: 86.6046\n",
      "Epoch 42/50\n",
      "213/213 [==============================] - 2s 12ms/step - loss: 10508.8779 - mean_absolute_error: 76.6940 - val_loss: 9731.8739 - val_mean_absolute_error: 73.4403\n",
      "Epoch 43/50\n",
      "213/213 [==============================] - 3s 14ms/step - loss: 11325.8563 - mean_absolute_error: 76.8597 - val_loss: 9034.2471 - val_mean_absolute_error: 71.7355\n",
      "Epoch 44/50\n",
      "213/213 [==============================] - 3s 13ms/step - loss: 8310.2486 - mean_absolute_error: 68.4145 - val_loss: 9882.2680 - val_mean_absolute_error: 73.8530\n",
      "Epoch 45/50\n",
      "213/213 [==============================] - 3s 15ms/step - loss: 7180.9404 - mean_absolute_error: 61.8264 - val_loss: 8744.6791 - val_mean_absolute_error: 67.3202\n",
      "Epoch 46/50\n",
      "213/213 [==============================] - 3s 14ms/step - loss: 6756.6148 - mean_absolute_error: 58.6715 - val_loss: 8886.8691 - val_mean_absolute_error: 65.0965\n",
      "Epoch 47/50\n",
      "213/213 [==============================] - 3s 14ms/step - loss: 6976.7372 - mean_absolute_error: 60.7378 - val_loss: 9987.2663 - val_mean_absolute_error: 69.3247\n"
     ]
    },
    {
     "name": "stdout",
     "output_type": "stream",
     "text": [
      "Epoch 48/50\n",
      "213/213 [==============================] - 3s 12ms/step - loss: 6537.7709 - mean_absolute_error: 57.5768 - val_loss: 8562.4051 - val_mean_absolute_error: 65.9077\n",
      "Epoch 49/50\n",
      "213/213 [==============================] - 2s 12ms/step - loss: 6194.4021 - mean_absolute_error: 56.9609 - val_loss: 8698.7138 - val_mean_absolute_error: 68.0695\n",
      "Epoch 50/50\n",
      "213/213 [==============================] - 3s 13ms/step - loss: 6111.4901 - mean_absolute_error: 56.9381 - val_loss: 8734.0980 - val_mean_absolute_error: 66.4675\n"
     ]
    },
    {
     "data": {
      "text/plain": [
       "<keras.callbacks.History at 0x249f4a15da0>"
      ]
     },
     "execution_count": 13,
     "metadata": {},
     "output_type": "execute_result"
    }
   ],
   "source": [
    "model.fit(X_train, y_train, batch_size=32, validation_data=(X_test, y_test), epochs=50)"
   ]
  },
  {
   "cell_type": "code",
   "execution_count": null,
   "metadata": {},
   "outputs": [],
   "source": [
    "from sksklearnmetr"
   ]
  },
  {
   "cell_type": "code",
   "execution_count": 30,
   "metadata": {},
   "outputs": [
    {
     "name": "stdout",
     "output_type": "stream",
     "text": [
      "Train on 213 samples, validate on 54 samples\n",
      "Epoch 1/50\n",
      "213/213 [==============================] - 7s 33ms/step - loss: 8599.2683 - mean_absolute_error: 65.4121 - val_loss: 6576.7255 - val_mean_absolute_error: 56.6634\n",
      "Epoch 2/50\n",
      "213/213 [==============================] - 7s 31ms/step - loss: 8437.3748 - mean_absolute_error: 62.9597 - val_loss: 6396.6972 - val_mean_absolute_error: 56.1844\n",
      "Epoch 3/50\n",
      "213/213 [==============================] - 6s 30ms/step - loss: 8389.5981 - mean_absolute_error: 64.1356 - val_loss: 7717.3032 - val_mean_absolute_error: 67.7722\n",
      "Epoch 4/50\n",
      "213/213 [==============================] - 6s 30ms/step - loss: 8152.1343 - mean_absolute_error: 61.7233 - val_loss: 6261.0822 - val_mean_absolute_error: 60.3829\n",
      "Epoch 5/50\n",
      "213/213 [==============================] - 6s 30ms/step - loss: 8567.9462 - mean_absolute_error: 63.7838 - val_loss: 6307.7622 - val_mean_absolute_error: 60.4467\n",
      "Epoch 6/50\n",
      "213/213 [==============================] - 6s 29ms/step - loss: 8592.7130 - mean_absolute_error: 66.4013 - val_loss: 6271.4457 - val_mean_absolute_error: 58.4786\n",
      "Epoch 7/50\n",
      "213/213 [==============================] - 6s 30ms/step - loss: 7718.6129 - mean_absolute_error: 62.3452 - val_loss: 6274.1413 - val_mean_absolute_error: 57.5470\n",
      "Epoch 8/50\n",
      "213/213 [==============================] - 6s 30ms/step - loss: 7901.3085 - mean_absolute_error: 61.4098 - val_loss: 6437.3771 - val_mean_absolute_error: 58.0767\n",
      "Epoch 9/50\n",
      "213/213 [==============================] - 6s 29ms/step - loss: 7673.0686 - mean_absolute_error: 62.2147 - val_loss: 6443.1037 - val_mean_absolute_error: 56.6313\n",
      "Epoch 10/50\n",
      "213/213 [==============================] - 6s 29ms/step - loss: 7744.4968 - mean_absolute_error: 60.0563 - val_loss: 8587.9901 - val_mean_absolute_error: 71.0815\n",
      "Epoch 11/50\n",
      "213/213 [==============================] - 6s 29ms/step - loss: 8589.1758 - mean_absolute_error: 65.5870 - val_loss: 6355.7747 - val_mean_absolute_error: 56.8632\n",
      "Epoch 12/50\n",
      "213/213 [==============================] - 6s 29ms/step - loss: 7852.9154 - mean_absolute_error: 63.8395 - val_loss: 6323.1419 - val_mean_absolute_error: 55.7516\n",
      "Epoch 13/50\n",
      "213/213 [==============================] - 6s 29ms/step - loss: 8521.9965 - mean_absolute_error: 64.9709 - val_loss: 7600.8936 - val_mean_absolute_error: 66.3369\n",
      "Epoch 14/50\n",
      "213/213 [==============================] - 6s 30ms/step - loss: 8605.1191 - mean_absolute_error: 65.3808 - val_loss: 6425.5039 - val_mean_absolute_error: 55.3366\n",
      "Epoch 15/50\n",
      "213/213 [==============================] - 7s 31ms/step - loss: 7597.4344 - mean_absolute_error: 61.8874 - val_loss: 6843.2902 - val_mean_absolute_error: 62.6017\n",
      "Epoch 16/50\n",
      "213/213 [==============================] - 7s 33ms/step - loss: 7729.6040 - mean_absolute_error: 60.4582 - val_loss: 6501.1276 - val_mean_absolute_error: 55.7390\n",
      "Epoch 17/50\n",
      "213/213 [==============================] - 7s 33ms/step - loss: 8141.5352 - mean_absolute_error: 64.3766 - val_loss: 6355.1044 - val_mean_absolute_error: 56.0560\n",
      "Epoch 18/50\n",
      "213/213 [==============================] - 7s 33ms/step - loss: 7697.2077 - mean_absolute_error: 61.3328 - val_loss: 6306.9803 - val_mean_absolute_error: 56.9993\n",
      "Epoch 19/50\n",
      "213/213 [==============================] - 6s 30ms/step - loss: 8072.8984 - mean_absolute_error: 60.4016 - val_loss: 6853.4711 - val_mean_absolute_error: 60.1852\n",
      "Epoch 20/50\n",
      "213/213 [==============================] - 6s 30ms/step - loss: 7979.2957 - mean_absolute_error: 66.0809 - val_loss: 6861.3707 - val_mean_absolute_error: 55.3071\n",
      "Epoch 21/50\n",
      "213/213 [==============================] - 6s 30ms/step - loss: 8387.3255 - mean_absolute_error: 64.2668 - val_loss: 8909.3468 - val_mean_absolute_error: 72.2862\n",
      "Epoch 22/50\n",
      "213/213 [==============================] - 7s 31ms/step - loss: 8656.0920 - mean_absolute_error: 67.6358 - val_loss: 6681.5117 - val_mean_absolute_error: 54.9546\n",
      "Epoch 23/50\n",
      "213/213 [==============================] - 7s 31ms/step - loss: 7739.7654 - mean_absolute_error: 61.6191 - val_loss: 7602.2780 - val_mean_absolute_error: 65.2155\n",
      "Epoch 24/50\n",
      "213/213 [==============================] - 6s 29ms/step - loss: 8121.5900 - mean_absolute_error: 64.3977 - val_loss: 6572.5633 - val_mean_absolute_error: 55.9350\n",
      "Epoch 25/50\n",
      "213/213 [==============================] - 6s 29ms/step - loss: 7673.5464 - mean_absolute_error: 62.0266 - val_loss: 8138.3126 - val_mean_absolute_error: 66.0112\n",
      "Epoch 26/50\n",
      "213/213 [==============================] - 7s 31ms/step - loss: 7360.4084 - mean_absolute_error: 60.5629 - val_loss: 6759.2351 - val_mean_absolute_error: 56.0827\n",
      "Epoch 27/50\n",
      "213/213 [==============================] - 7s 31ms/step - loss: 7466.2201 - mean_absolute_error: 58.6242 - val_loss: 7643.5089 - val_mean_absolute_error: 65.4863\n",
      "Epoch 28/50\n",
      "213/213 [==============================] - 6s 29ms/step - loss: 7929.8479 - mean_absolute_error: 63.9120 - val_loss: 6969.0405 - val_mean_absolute_error: 57.4918\n",
      "Epoch 29/50\n",
      "213/213 [==============================] - 7s 34ms/step - loss: 7851.1369 - mean_absolute_error: 59.5080 - val_loss: 8099.1608 - val_mean_absolute_error: 65.0523\n",
      "Epoch 30/50\n",
      "213/213 [==============================] - 7s 32ms/step - loss: 9592.9587 - mean_absolute_error: 72.2295 - val_loss: 6663.7619 - val_mean_absolute_error: 56.2394\n",
      "Epoch 31/50\n",
      "213/213 [==============================] - 7s 31ms/step - loss: 7847.6819 - mean_absolute_error: 60.2867 - val_loss: 6508.7337 - val_mean_absolute_error: 57.7861\n",
      "Epoch 32/50\n",
      "213/213 [==============================] - 7s 31ms/step - loss: 7296.9107 - mean_absolute_error: 60.2025 - val_loss: 6814.5129 - val_mean_absolute_error: 57.5851\n",
      "Epoch 33/50\n",
      "213/213 [==============================] - 6s 28ms/step - loss: 7106.2165 - mean_absolute_error: 58.7581 - val_loss: 6950.2751 - val_mean_absolute_error: 57.9009\n",
      "Epoch 34/50\n",
      "213/213 [==============================] - 6s 30ms/step - loss: 7155.0032 - mean_absolute_error: 57.6359 - val_loss: 7220.4015 - val_mean_absolute_error: 57.8581\n",
      "Epoch 35/50\n",
      "213/213 [==============================] - 7s 31ms/step - loss: 7196.4341 - mean_absolute_error: 59.4491 - val_loss: 7382.0258 - val_mean_absolute_error: 60.8658\n",
      "Epoch 36/50\n",
      "213/213 [==============================] - 7s 31ms/step - loss: 7029.1874 - mean_absolute_error: 58.8146 - val_loss: 6589.6271 - val_mean_absolute_error: 55.4037\n",
      "Epoch 37/50\n",
      "213/213 [==============================] - 7s 32ms/step - loss: 7222.0148 - mean_absolute_error: 59.7124 - val_loss: 6915.6145 - val_mean_absolute_error: 57.7335\n",
      "Epoch 38/50\n",
      "213/213 [==============================] - 7s 31ms/step - loss: 7559.7991 - mean_absolute_error: 60.9722 - val_loss: 7307.0845 - val_mean_absolute_error: 59.6330\n",
      "Epoch 39/50\n",
      "213/213 [==============================] - 7s 32ms/step - loss: 7066.9539 - mean_absolute_error: 60.3121 - val_loss: 6928.4505 - val_mean_absolute_error: 56.2088\n",
      "Epoch 40/50\n",
      "213/213 [==============================] - 6s 30ms/step - loss: 7091.9655 - mean_absolute_error: 57.8419 - val_loss: 7051.6552 - val_mean_absolute_error: 58.0213\n",
      "Epoch 41/50\n",
      "213/213 [==============================] - 7s 31ms/step - loss: 6857.1778 - mean_absolute_error: 59.1305 - val_loss: 6918.2684 - val_mean_absolute_error: 55.6010\n",
      "Epoch 42/50\n",
      "213/213 [==============================] - 8s 36ms/step - loss: 7654.2663 - mean_absolute_error: 61.0338 - val_loss: 7046.2468 - val_mean_absolute_error: 58.7607\n",
      "Epoch 43/50\n",
      "213/213 [==============================] - 7s 32ms/step - loss: 6763.8235 - mean_absolute_error: 59.0756 - val_loss: 7255.1642 - val_mean_absolute_error: 58.6973\n",
      "Epoch 44/50\n",
      "213/213 [==============================] - 7s 33ms/step - loss: 7119.5336 - mean_absolute_error: 59.3046 - val_loss: 7305.4872 - val_mean_absolute_error: 59.7198\n",
      "Epoch 45/50\n",
      "213/213 [==============================] - 8s 36ms/step - loss: 7282.2281 - mean_absolute_error: 60.0932 - val_loss: 6861.9127 - val_mean_absolute_error: 55.7938\n",
      "Epoch 46/50\n",
      "213/213 [==============================] - 7s 34ms/step - loss: 7071.8988 - mean_absolute_error: 59.9724 - val_loss: 7403.5814 - val_mean_absolute_error: 58.6521\n",
      "Epoch 47/50\n",
      "213/213 [==============================] - 7s 34ms/step - loss: 6912.4974 - mean_absolute_error: 58.9175 - val_loss: 6936.0477 - val_mean_absolute_error: 56.9104\n"
     ]
    },
    {
     "name": "stdout",
     "output_type": "stream",
     "text": [
      "Epoch 48/50\n",
      "213/213 [==============================] - 8s 35ms/step - loss: 7241.7101 - mean_absolute_error: 61.7674 - val_loss: 6739.4009 - val_mean_absolute_error: 55.9462\n",
      "Epoch 49/50\n",
      "213/213 [==============================] - 7s 31ms/step - loss: 6998.1610 - mean_absolute_error: 59.3296 - val_loss: 7103.9572 - val_mean_absolute_error: 57.3181\n",
      "Epoch 50/50\n",
      "213/213 [==============================] - 7s 32ms/step - loss: 7018.6355 - mean_absolute_error: 58.2692 - val_loss: 7376.1235 - val_mean_absolute_error: 58.6320\n"
     ]
    },
    {
     "data": {
      "text/plain": [
       "<keras.callbacks.History at 0x21d7588a860>"
      ]
     },
     "execution_count": 30,
     "metadata": {},
     "output_type": "execute_result"
    }
   ],
   "source": [
    "model.fit(X_train, y_train, batch_size=32, validation_data=(X_test, y_test), epochs=50)"
   ]
  },
  {
   "cell_type": "markdown",
   "metadata": {},
   "source": [
    "After 200 epochs total, train and test mean absolute error ~55nm"
   ]
  },
  {
   "cell_type": "code",
   "execution_count": 141,
   "metadata": {},
   "outputs": [],
   "source": [
    "def coeff_determination(y_true, y_pred):\n",
    "    from keras import backend as K\n",
    "    SS_res =  K.sum(K.square( y_true-y_pred ))\n",
    "    SS_tot = K.sum(K.square( y_true - K.mean(y_true) ) )\n",
    "    return ( 1 - SS_res/(SS_tot + K.epsilon()) )"
   ]
  },
  {
   "cell_type": "code",
   "execution_count": 142,
   "metadata": {},
   "outputs": [],
   "source": [
    "def get_lr_metric(optimizer):\n",
    "    def lr(y_true, y_pred):\n",
    "        return optimizer.lr\n",
    "    return lr\n"
   ]
  },
  {
   "cell_type": "markdown",
   "metadata": {},
   "source": [
    "#### plot error of the model"
   ]
  },
  {
   "cell_type": "code",
   "execution_count": 14,
   "metadata": {},
   "outputs": [],
   "source": [
    "def plot_model(x_train, x_test, y_train, y_test, model):\n",
    "    fig, axes = plt.subplots(2)\n",
    "    fig.dpi=100\n",
    "    axes[0].scatter(y_train, model.predict(x_train).reshape(1,-1)-y_train, color = 'r',label='training')\n",
    "    axes[1].scatter(y_test,model.predict(x_test).reshape(1,-1)-y_test, color = 'blue',label = 'test')\n",
    "    fig.legend()\n",
    "    plt.suptitle(\"error vs. y actual\" )"
   ]
  },
  {
   "cell_type": "code",
   "execution_count": 15,
   "metadata": {},
   "outputs": [
    {
     "data": {
      "image/png": "[encoded data removed]",
      "text/plain": [
       "<Figure size 600x400 with 2 Axes>"
      ]
     },
     "metadata": {
      "needs_background": "light"
     },
     "output_type": "display_data"
    }
   ],
   "source": [
    "plot_model(X_train, X_test, y_train, y_test, model)"
   ]
  },
  {
   "cell_type": "markdown",
   "metadata": {},
   "source": [
    "### Model 2 consider transform y to make y more normal distributed, resulted in more error"
   ]
  },
  {
   "cell_type": "code",
   "execution_count": 32,
   "metadata": {},
   "outputs": [],
   "source": [
    "def tranform_log(x_list, b): #log(x-b)\n",
    "    return np.log(list(x_list-b))"
   ]
  },
  {
   "cell_type": "code",
   "execution_count": 33,
   "metadata": {},
   "outputs": [],
   "source": [
    "y_log = tranform_log(y_wl,y_wl.min()-10)"
   ]
  },
  {
   "cell_type": "code",
   "execution_count": 34,
   "metadata": {},
   "outputs": [],
   "source": [
    "def inverse_log(transformed_x,b):\n",
    "    return np.exp(transformed_x)+b"
   ]
  },
  {
   "cell_type": "code",
   "execution_count": 35,
   "metadata": {},
   "outputs": [
    {
     "data": {
      "text/plain": [
       "array([254.75, 261.75, 263.  , 265.  , 275.  , 265.  , 278.  , 271.  ,\n",
       "       271.  , 270.75, 220.  , 222.  , 242.  , 227.  , 241.  , 288.  ,\n",
       "       251.  , 279.  , 265.  , 228.  , 258.  , 248.  , 236.  , 274.  ,\n",
       "       277.  , 227.  , 222.  , 218.  , 310.25, 291.  , 240.  , 251.  ,\n",
       "       263.  , 245.  , 302.  , 252.  , 283.  , 225.  , 316.  , 230.  ,\n",
       "       442.  , 247.5 , 276.25, 294.75, 312.  , 251.  , 206.  , 209.  ,\n",
       "       212.  , 245.  , 223.  , 278.  , 275.  , 356.25, 475.  , 578.  ,\n",
       "       252.  , 241.  , 258.  , 372.5 , 270.25, 303.  , 228.  , 239.  ,\n",
       "       245.  , 218.  , 227.  , 235.  , 278.75, 276.  , 293.75, 326.  ,\n",
       "       330.  , 353.25, 432.25, 425.  , 372.  , 451.  , 251.  , 276.  ,\n",
       "       227.  , 257.  , 265.  , 270.  , 215.  , 281.  , 238.  , 204.  ,\n",
       "       219.  , 245.  , 217.  , 253.  , 231.75, 206.  , 278.  , 502.  ,\n",
       "       413.  , 286.  , 336.  , 460.5 , 219.  , 413.  , 247.  , 349.  ,\n",
       "       262.  , 257.5 , 274.25, 211.  , 278.  , 261.  , 243.  , 266.75,\n",
       "       263.75, 258.25, 228.  , 259.  , 212.  , 263.  , 265.  , 206.  ,\n",
       "       248.  , 281.  , 239.75, 225.  , 288.  , 211.  , 270.  , 287.  ,\n",
       "       458.  , 243.  , 258.  , 267.  , 401.  , 246.  , 280.  , 251.  ,\n",
       "       268.  , 249.  , 251.25, 248.  , 250.  , 233.  , 296.  , 303.  ,\n",
       "       275.  , 280.  , 326.  , 338.  , 323.75, 373.25, 459.25, 436.  ,\n",
       "       407.5 , 384.  , 436.  , 444.75, 361.  , 278.  , 247.  , 261.  ,\n",
       "       270.5 , 264.  , 249.  , 248.  , 533.  , 278.  , 587.  , 253.  ,\n",
       "       605.  , 656.  , 654.  , 628.  , 237.  , 239.  , 642.5 , 603.  ,\n",
       "       519.4 , 627.5 , 319.  , 430.  , 466.  , 478.  , 486.  , 503.  ,\n",
       "       481.  , 498.  , 555.  , 530.  , 512.  , 563.  , 504.  , 518.  ,\n",
       "       619.  , 513.  , 483.  , 497.  , 606.  , 524.25, 603.5 , 711.  ,\n",
       "       592.  , 709.5 , 818.  , 485.  , 582.  , 687.5 , 544.25, 789.  ,\n",
       "       559.25, 655.75, 763.25, 559.5 , 431.25, 616.5 , 590.5 , 543.  ,\n",
       "       590.  , 554.  , 558.  , 573.  , 597.  , 435.75, 500.25, 502.  ,\n",
       "       535.  , 559.  , 261.  , 511.75, 542.75, 553.  , 529.75, 565.  ,\n",
       "       576.  , 338.5 , 279.75, 325.  , 249.  , 285.  , 345.5 , 627.25,\n",
       "       276.  , 424.  , 205.  , 203.  , 208.  , 396.25, 402.  , 409.75,\n",
       "       408.  , 385.9 , 429.  , 491.  , 450.75, 377.  , 361.  , 698.5 ,\n",
       "       674.  , 674.  , 569.  , 429.  , 453.  , 410.  , 413.  , 414.  ,\n",
       "       401.  , 413.  , 780.2 ])"
      ]
     },
     "execution_count": 35,
     "metadata": {},
     "output_type": "execute_result"
    }
   ],
   "source": [
    "inverse_log(y_log, y_wl.min()-10)"
   ]
  },
  {
   "cell_type": "code",
   "execution_count": 47,
   "metadata": {},
   "outputs": [
    {
     "data": {
      "text/plain": [
       "(array([ 7.,  6., 15., 23., 55., 38., 19., 35., 50., 19.]),\n",
       " array([2.30258509, 2.71610175, 3.1296184 , 3.54313506, 3.95665172,\n",
       "        4.37016837, 4.78368503, 5.19720168, 5.61071834, 6.02423499,\n",
       "        6.43775165]),\n",
       " <a list of 10 Patch objects>)"
      ]
     },
     "execution_count": 47,
     "metadata": {},
     "output_type": "execute_result"
    },
    {
     "data": {
      "image/png": "[encoded data removed]",
      "text/plain": [
       "<Figure size 432x288 with 1 Axes>"
      ]
     },
     "metadata": {
      "needs_background": "light"
     },
     "output_type": "display_data"
    }
   ],
   "source": [
    "X_train, X_test, y_train, y_test=du.DataUtils.splitData(x_encode, y_log, ratio=0.2)\n",
    "plt.hist(y_log.tolist())"
   ]
  },
  {
   "cell_type": "code",
   "execution_count": 37,
   "metadata": {},
   "outputs": [
    {
     "name": "stdout",
     "output_type": "stream",
     "text": [
      "Train on 213 samples, validate on 54 samples\n",
      "Epoch 1/50\n",
      "213/213 [==============================] - 3s 12ms/step - loss: 62647.7686 - mean_absolute_error: 218.5887 - val_loss: 3425.5796 - val_mean_absolute_error: 57.6623\n",
      "Epoch 2/50\n",
      "213/213 [==============================] - 3s 15ms/step - loss: 1629.7965 - mean_absolute_error: 34.5866 - val_loss: 1.5119 - val_mean_absolute_error: 0.9973\n",
      "Epoch 3/50\n",
      "213/213 [==============================] - 3s 15ms/step - loss: 119.5826 - mean_absolute_error: 10.8718 - val_loss: 4.1511 - val_mean_absolute_error: 1.8264\n",
      "Epoch 4/50\n",
      "213/213 [==============================] - 3s 13ms/step - loss: 87.6670 - mean_absolute_error: 9.2760 - val_loss: 1.2819 - val_mean_absolute_error: 0.9058\n",
      "Epoch 5/50\n",
      "213/213 [==============================] - 3s 13ms/step - loss: 47.1415 - mean_absolute_error: 6.7406 - val_loss: 9.1791 - val_mean_absolute_error: 2.8942\n",
      "Epoch 6/50\n",
      "213/213 [==============================] - 3s 14ms/step - loss: 21.6300 - mean_absolute_error: 4.5148 - val_loss: 16.5987 - val_mean_absolute_error: 3.9745\n",
      "Epoch 7/50\n",
      "213/213 [==============================] - 3s 13ms/step - loss: 11.7578 - mean_absolute_error: 3.2485 - val_loss: 20.3994 - val_mean_absolute_error: 4.4262\n",
      "Epoch 8/50\n",
      "213/213 [==============================] - 3s 14ms/step - loss: 7.1977 - mean_absolute_error: 2.4709 - val_loss: 21.5639 - val_mean_absolute_error: 4.5557\n",
      "Epoch 9/50\n",
      "213/213 [==============================] - 3s 12ms/step - loss: 4.6235 - mean_absolute_error: 1.8949 - val_loss: 21.9311 - val_mean_absolute_error: 4.5959\n",
      "Epoch 10/50\n",
      "213/213 [==============================] - 3s 13ms/step - loss: 3.5346 - mean_absolute_error: 1.6087 - val_loss: 21.9606 - val_mean_absolute_error: 4.5991\n",
      "Epoch 11/50\n",
      "213/213 [==============================] - 3s 13ms/step - loss: 2.8493 - mean_absolute_error: 1.3881 - val_loss: 21.9772 - val_mean_absolute_error: 4.6009\n",
      "Epoch 12/50\n",
      "213/213 [==============================] - 3s 14ms/step - loss: 2.5602 - mean_absolute_error: 1.2902 - val_loss: 21.9892 - val_mean_absolute_error: 4.6022\n",
      "Epoch 13/50\n",
      "213/213 [==============================] - 3s 13ms/step - loss: 2.1544 - mean_absolute_error: 1.1656 - val_loss: 21.9987 - val_mean_absolute_error: 4.6032\n",
      "Epoch 14/50\n",
      "213/213 [==============================] - 3s 14ms/step - loss: 2.0071 - mean_absolute_error: 1.1362 - val_loss: 22.0067 - val_mean_absolute_error: 4.6041\n",
      "Epoch 15/50\n",
      "213/213 [==============================] - 3s 14ms/step - loss: 1.7810 - mean_absolute_error: 1.0512 - val_loss: 22.0137 - val_mean_absolute_error: 4.6048\n",
      "Epoch 16/50\n",
      "213/213 [==============================] - 3s 14ms/step - loss: 1.6190 - mean_absolute_error: 1.0330 - val_loss: 22.0195 - val_mean_absolute_error: 4.6054\n",
      "Epoch 17/50\n",
      "213/213 [==============================] - 3s 15ms/step - loss: 1.6152 - mean_absolute_error: 1.0086 - val_loss: 22.0249 - val_mean_absolute_error: 4.6060\n",
      "Epoch 18/50\n",
      "213/213 [==============================] - 3s 13ms/step - loss: 1.4405 - mean_absolute_error: 0.9652 - val_loss: 22.0296 - val_mean_absolute_error: 4.6065\n",
      "Epoch 19/50\n",
      "213/213 [==============================] - 3s 13ms/step - loss: 1.3306 - mean_absolute_error: 0.9362 - val_loss: 22.0340 - val_mean_absolute_error: 4.6070\n",
      "Epoch 20/50\n",
      "213/213 [==============================] - 3s 15ms/step - loss: 1.2423 - mean_absolute_error: 0.9194 - val_loss: 22.0380 - val_mean_absolute_error: 4.6074\n",
      "Epoch 21/50\n",
      "213/213 [==============================] - 3s 14ms/step - loss: 1.3195 - mean_absolute_error: 0.9532 - val_loss: 22.0417 - val_mean_absolute_error: 4.6078\n",
      "Epoch 22/50\n",
      "213/213 [==============================] - 3s 16ms/step - loss: 1.2694 - mean_absolute_error: 0.9368 - val_loss: 22.0450 - val_mean_absolute_error: 4.6082\n",
      "Epoch 23/50\n",
      "213/213 [==============================] - 3s 15ms/step - loss: 1.2515 - mean_absolute_error: 0.9065 - val_loss: 22.0483 - val_mean_absolute_error: 4.6085\n",
      "Epoch 24/50\n",
      "213/213 [==============================] - 3s 15ms/step - loss: 1.1551 - mean_absolute_error: 0.8850 - val_loss: 22.0513 - val_mean_absolute_error: 4.6089\n",
      "Epoch 25/50\n",
      "213/213 [==============================] - 3s 15ms/step - loss: 1.1762 - mean_absolute_error: 0.8961 - val_loss: 22.0541 - val_mean_absolute_error: 4.6092\n",
      "Epoch 26/50\n",
      "213/213 [==============================] - 4s 17ms/step - loss: 1.2233 - mean_absolute_error: 0.9264 - val_loss: 22.0566 - val_mean_absolute_error: 4.6094\n",
      "Epoch 27/50\n",
      "213/213 [==============================] - 3s 16ms/step - loss: 1.1256 - mean_absolute_error: 0.8739 - val_loss: 22.0590 - val_mean_absolute_error: 4.6097\n",
      "Epoch 28/50\n",
      "213/213 [==============================] - 3s 14ms/step - loss: 1.1449 - mean_absolute_error: 0.8944 - val_loss: 22.0613 - val_mean_absolute_error: 4.6099\n",
      "Epoch 29/50\n",
      "213/213 [==============================] - 3s 16ms/step - loss: 1.2219 - mean_absolute_error: 0.9355 - val_loss: 22.0633 - val_mean_absolute_error: 4.6102\n",
      "Epoch 30/50\n",
      "213/213 [==============================] - 3s 15ms/step - loss: 1.0584 - mean_absolute_error: 0.8796 - val_loss: 22.0652 - val_mean_absolute_error: 4.6104\n",
      "Epoch 31/50\n",
      "213/213 [==============================] - 4s 17ms/step - loss: 1.0147 - mean_absolute_error: 0.8385 - val_loss: 22.0668 - val_mean_absolute_error: 4.6105\n",
      "Epoch 32/50\n",
      "213/213 [==============================] - 3s 16ms/step - loss: 1.0779 - mean_absolute_error: 0.8631 - val_loss: 22.0684 - val_mean_absolute_error: 4.6107\n",
      "Epoch 33/50\n",
      "213/213 [==============================] - 3s 13ms/step - loss: 1.1591 - mean_absolute_error: 0.8964 - val_loss: 22.0700 - val_mean_absolute_error: 4.6109\n",
      "Epoch 34/50\n",
      "213/213 [==============================] - 3s 13ms/step - loss: 1.0614 - mean_absolute_error: 0.8674 - val_loss: 22.0712 - val_mean_absolute_error: 4.6110\n",
      "Epoch 35/50\n",
      "213/213 [==============================] - 4s 17ms/step - loss: 1.0568 - mean_absolute_error: 0.8629 - val_loss: 22.0723 - val_mean_absolute_error: 4.6111\n",
      "Epoch 36/50\n",
      "213/213 [==============================] - 4s 17ms/step - loss: 1.0568 - mean_absolute_error: 0.8472 - val_loss: 22.0734 - val_mean_absolute_error: 4.6113\n",
      "Epoch 37/50\n",
      "213/213 [==============================] - 3s 15ms/step - loss: 0.9729 - mean_absolute_error: 0.8297 - val_loss: 22.0744 - val_mean_absolute_error: 4.6114\n",
      "Epoch 38/50\n",
      "213/213 [==============================] - 3s 13ms/step - loss: 1.0474 - mean_absolute_error: 0.8585 - val_loss: 22.0753 - val_mean_absolute_error: 4.6115\n",
      "Epoch 39/50\n",
      "213/213 [==============================] - 3s 13ms/step - loss: 1.0941 - mean_absolute_error: 0.8762 - val_loss: 22.0761 - val_mean_absolute_error: 4.6115\n",
      "Epoch 40/50\n",
      "213/213 [==============================] - 3s 13ms/step - loss: 1.0486 - mean_absolute_error: 0.8609 - val_loss: 22.0768 - val_mean_absolute_error: 4.6116\n",
      "Epoch 41/50\n",
      "213/213 [==============================] - 3s 13ms/step - loss: 1.0925 - mean_absolute_error: 0.8851 - val_loss: 22.0775 - val_mean_absolute_error: 4.6117\n",
      "Epoch 42/50\n",
      "213/213 [==============================] - 3s 13ms/step - loss: 1.1153 - mean_absolute_error: 0.8941 - val_loss: 22.0782 - val_mean_absolute_error: 4.6118\n",
      "Epoch 43/50\n",
      "213/213 [==============================] - 3s 13ms/step - loss: 1.0380 - mean_absolute_error: 0.8614 - val_loss: 22.0786 - val_mean_absolute_error: 4.6118\n",
      "Epoch 44/50\n",
      "213/213 [==============================] - 3s 13ms/step - loss: 1.0517 - mean_absolute_error: 0.8667 - val_loss: 22.0791 - val_mean_absolute_error: 4.6119\n",
      "Epoch 45/50\n",
      "213/213 [==============================] - 3s 13ms/step - loss: 0.9358 - mean_absolute_error: 0.8139 - val_loss: 22.0796 - val_mean_absolute_error: 4.6119\n",
      "Epoch 46/50\n",
      "213/213 [==============================] - 3s 13ms/step - loss: 1.0212 - mean_absolute_error: 0.8536 - val_loss: 22.0799 - val_mean_absolute_error: 4.6120\n",
      "Epoch 47/50\n",
      "213/213 [==============================] - 3s 13ms/step - loss: 1.0727 - mean_absolute_error: 0.8814 - val_loss: 22.0805 - val_mean_absolute_error: 4.6120\n",
      "Epoch 48/50\n",
      "213/213 [==============================] - 3s 15ms/step - loss: 1.0845 - mean_absolute_error: 0.8862 - val_loss: 22.0812 - val_mean_absolute_error: 4.6121\n",
      "Epoch 49/50\n",
      "213/213 [==============================] - 3s 14ms/step - loss: 1.0891 - mean_absolute_error: 0.8710 - val_loss: 22.0818 - val_mean_absolute_error: 4.6122\n"
     ]
    },
    {
     "name": "stdout",
     "output_type": "stream",
     "text": [
      "Epoch 50/50\n",
      "213/213 [==============================] - 3s 12ms/step - loss: 1.0762 - mean_absolute_error: 0.8857 - val_loss: 22.0825 - val_mean_absolute_error: 4.6122\n"
     ]
    },
    {
     "data": {
      "text/plain": [
       "<keras.callbacks.History at 0x21d7897e208>"
      ]
     },
     "execution_count": 37,
     "metadata": {},
     "output_type": "execute_result"
    }
   ],
   "source": [
    "model.fit(X_train, y_train, batch_size=32, validation_data=(X_test, y_test), epochs=50)"
   ]
  },
  {
   "cell_type": "code",
   "execution_count": 38,
   "metadata": {},
   "outputs": [
    {
     "data": {
      "image/png": "[encoded data removed]",
      "text/plain": [
       "<Figure size 600x400 with 2 Axes>"
      ]
     },
     "metadata": {
      "needs_background": "light"
     },
     "output_type": "display_data"
    }
   ],
   "source": [
    "plot_model(X_train, X_test, y_train, y_test, model)"
   ]
  },
  {
   "cell_type": "code",
   "execution_count": 48,
   "metadata": {},
   "outputs": [
    {
     "data": {
      "text/plain": [
       "array([[194.06293, 194.06416, 194.06416, 194.06299, 194.06416, 194.06647,\n",
       "        194.06416, 194.06299, 194.06416, 194.06299, 194.06416, 194.06299,\n",
       "        194.06252, 194.06416, 194.06416, 194.06416, 194.06416, 194.06416,\n",
       "        194.06416, 194.06416, 194.06299, 194.06416, 194.03085, 194.06416,\n",
       "        194.06416, 194.06416, 194.06299, 194.06416, 194.06416, 194.06416,\n",
       "        194.06299, 194.06416, 194.06299, 194.06299, 194.06416, 194.06416,\n",
       "        194.06416, 194.06299, 194.06299, 194.06299, 194.06416, 194.06416,\n",
       "        194.06416, 194.06416, 194.06383, 194.05634, 194.06299, 194.06299,\n",
       "        194.06383, 194.06299, 194.06299, 194.06299, 194.06299, 194.06416,\n",
       "        194.06416, 194.06946, 194.06064, 194.06416, 194.06299, 194.06416,\n",
       "        194.05634, 194.06416, 194.06416, 194.06416, 194.06416, 194.06299,\n",
       "        194.06416, 194.06416, 194.06416, 194.06252, 194.06416, 194.06416,\n",
       "        194.06416, 194.06299, 194.06416, 194.06416, 194.06299, 194.06416,\n",
       "        194.06416, 194.06416, 194.06383, 194.05663, 194.06416, 194.06311,\n",
       "        194.06299, 194.06416, 194.06416, 194.06416, 194.06299, 194.06299,\n",
       "        194.06416, 194.06416, 194.06416, 194.06416, 194.06416, 194.06299,\n",
       "        194.06416, 194.06299, 194.05634, 194.06299, 194.06416, 194.06299,\n",
       "        194.06416, 194.06416, 194.06416, 194.06299, 194.06416, 194.06416,\n",
       "        194.06299, 194.06416, 194.06416, 194.06299, 194.06416, 194.05634,\n",
       "        194.06416, 194.06416, 194.05634, 194.06299, 194.06741, 194.06416,\n",
       "        194.06416, 194.06416, 194.06383, 194.06383, 194.05634, 194.06416,\n",
       "        194.06299, 194.06299, 194.06416, 194.06299, 194.06299, 194.06416,\n",
       "        194.06416, 194.06416, 194.06299, 194.06416, 194.06416, 194.06416,\n",
       "        194.06299, 194.06299, 194.06311, 194.06416, 194.06416, 194.06299,\n",
       "        194.06416, 194.06311, 194.06299, 194.06299, 194.06299, 194.06416,\n",
       "        194.06416, 194.06416, 194.06416, 194.06299, 194.06299, 194.06416,\n",
       "        194.06299, 194.06416, 194.06416, 194.06064, 194.06293, 194.06416,\n",
       "        194.06299, 194.06416, 194.06416, 194.06416, 194.06416, 194.06416,\n",
       "        194.06416, 194.06416, 194.06416, 194.06416, 194.06299, 194.06299,\n",
       "        194.06299, 194.06416, 194.06299, 194.06299, 194.06252, 194.06299,\n",
       "        194.05634, 194.06416, 194.06416, 194.06299, 194.06416, 194.06416,\n",
       "        194.0636 , 194.06416, 194.06383, 194.05634, 194.06299, 194.06299,\n",
       "        194.06299, 194.06416, 194.06299, 194.06416, 194.06064, 194.06804,\n",
       "        194.06299, 194.06416, 194.06299, 194.06299, 194.06299, 194.06416,\n",
       "        194.06416, 194.05634, 194.06416, 194.06299, 194.06416, 194.06416,\n",
       "        194.06416, 194.06416, 194.06416]], dtype=float32)"
      ]
     },
     "execution_count": 48,
     "metadata": {},
     "output_type": "execute_result"
    }
   ],
   "source": [
    "inverse_log(model.predict(X_train).reshape(1,-1), y_wl.min()-10)"
   ]
  },
  {
   "cell_type": "code",
   "execution_count": 49,
   "metadata": {},
   "outputs": [
    {
     "data": {
      "text/plain": [
       "Text(0.5, 0.98, 'error vs. y actual')"
      ]
     },
     "execution_count": 49,
     "metadata": {},
     "output_type": "execute_result"
    },
    {
     "data": {
      "image/png": "[encoded data removed]",
      "text/plain": [
       "<Figure size 600x400 with 2 Axes>"
      ]
     },
     "metadata": {
      "needs_background": "light"
     },
     "output_type": "display_data"
    }
   ],
   "source": [
    "fig, axes = plt.subplots(2)\n",
    "fig.dpi=100\n",
    "axes[0].scatter(inverse_log(y_train, y_wl.min()-10), inverse_log(model.predict(X_train).reshape(1,-1), y_wl.min()-10)-inverse_log(y_train, y_wl.min()-10), color = 'r',label='training')\n",
    "\n",
    "fig.legend()\n",
    "plt.suptitle(\"error vs. y actual\" )"
   ]
  },
  {
   "cell_type": "markdown",
   "metadata": {},
   "source": [
    "A lot more error at higher wavelength"
   ]
  },
  {
   "cell_type": "markdown",
   "metadata": {},
   "source": [
    "### Try under sample the 200-400nm region to make the y more uniform"
   ]
  },
  {
   "cell_type": "code",
   "execution_count": 9,
   "metadata": {},
   "outputs": [],
   "source": [
    "Y_category = (y_wl - 200) // 20"
   ]
  },
  {
   "cell_type": "code",
   "execution_count": 11,
   "metadata": {},
   "outputs": [
    {
     "name": "stdout",
     "output_type": "stream",
     "text": [
      "{0.0: 18, 1.0: 23, 2.0: 40, 3.0: 44, 4.0: 14, 5.0: 7, 6.0: 8, 7.0: 4, 8.0: 6, 9.0: 3, 10.0: 12, 11.0: 10, 12.0: 7, 13.0: 4, 14.0: 7, 15.0: 10, 16.0: 5, 17.0: 10, 18.0: 6, 19.0: 6, 20.0: 6, 21.0: 3, 22.0: 4, 23.0: 2, 24.0: 2, 25.0: 2, 28.0: 1, 29.0: 2, 30.0: 1}\n"
     ]
    }
   ],
   "source": [
    "cls, counts = np.unique(Y_category, return_counts=True)\n",
    "cls_counts = dict(zip(cls, counts))\n",
    "print(cls_counts)"
   ]
  },
  {
   "cell_type": "markdown",
   "metadata": {},
   "source": [
    "#### To each category, keep less than 20 counts per category"
   ]
  },
  {
   "cell_type": "code",
   "execution_count": 40,
   "metadata": {},
   "outputs": [],
   "source": [
    "data_cat=np.column_stack((x_str,y_wl,Y_category))"
   ]
  },
  {
   "cell_type": "code",
   "execution_count": 61,
   "metadata": {},
   "outputs": [],
   "source": [
    "def subsampling(dataset, cls_max, cls_dict):\n",
    "    out = []\n",
    "    for row in dataset:\n",
    "        cls = row[2]\n",
    "        rInt = np.random.randint(0, cls_dict[cls])\n",
    "        if rInt <= cls_max:\n",
    "            out.append(row)\n",
    "    return np.array(out)\n",
    "\n",
    "subsampled = subsampling(data_cat, 10, cls_counts)"
   ]
  },
  {
   "cell_type": "code",
   "execution_count": 62,
   "metadata": {},
   "outputs": [
    {
     "data": {
      "text/plain": [
       "(189,)"
      ]
     },
     "execution_count": 62,
     "metadata": {},
     "output_type": "execute_result"
    }
   ],
   "source": [
    "subsampled[:,1].shape"
   ]
  },
  {
   "cell_type": "code",
   "execution_count": 63,
   "metadata": {},
   "outputs": [],
   "source": [
    "x_encode=du.DataUtils.numeric_encoding(subsampled[:,0],uniform_length=maxlen+5,word_map=wordmap)"
   ]
  },
  {
   "cell_type": "code",
   "execution_count": 64,
   "metadata": {},
   "outputs": [],
   "source": [
    "y_sub = subsampled[:,1]"
   ]
  },
  {
   "cell_type": "code",
   "execution_count": 67,
   "metadata": {},
   "outputs": [
    {
     "data": {
      "text/plain": [
       "(array([41., 29., 18., 25., 21., 23., 18.,  7.,  3.,  4.]),\n",
       " array([203. , 264.5, 326. , 387.5, 449. , 510.5, 572. , 633.5, 695. ,\n",
       "        756.5, 818. ]),\n",
       " <a list of 10 Patch objects>)"
      ]
     },
     "execution_count": 67,
     "metadata": {},
     "output_type": "execute_result"
    },
    {
     "data": {
      "image/png": "[encoded data removed]",
      "text/plain": [
       "<Figure size 432x288 with 1 Axes>"
      ]
     },
     "metadata": {
      "needs_background": "light"
     },
     "output_type": "display_data"
    }
   ],
   "source": [
    "X_train, X_test, y_train, y_test=du.DataUtils.splitData(x_encode, y_sub, ratio=0.15)\n",
    "plt.hist(y_sub.tolist())"
   ]
  },
  {
   "cell_type": "code",
   "execution_count": 70,
   "metadata": {},
   "outputs": [
    {
     "name": "stdout",
     "output_type": "stream",
     "text": [
      "_________________________________________________________________\n",
      "Layer (type)                 Output Shape              Param #   \n",
      "=================================================================\n",
      "embedding_2 (Embedding)      (None, 279, 50)           2250      \n",
      "_________________________________________________________________\n",
      "lstm_4 (LSTM)                (None, 279, 50)           20200     \n",
      "_________________________________________________________________\n",
      "lstm_5 (LSTM)                (None, 279, 50)           20200     \n",
      "_________________________________________________________________\n",
      "lstm_6 (LSTM)                (None, 279, 50)           20200     \n",
      "_________________________________________________________________\n",
      "dropout_2 (Dropout)          (None, 279, 50)           0         \n",
      "_________________________________________________________________\n",
      "dense_3 (Dense)              (None, 279, 50)           2550      \n",
      "_________________________________________________________________\n",
      "flatten_2 (Flatten)          (None, 13950)             0         \n",
      "_________________________________________________________________\n",
      "dense_4 (Dense)              (None, 1)                 13951     \n",
      "=================================================================\n",
      "Total params: 79,351\n",
      "Trainable params: 79,351\n",
      "Non-trainable params: 0\n",
      "_________________________________________________________________\n"
     ]
    }
   ],
   "source": [
    "hidden_size = 50\n",
    "model = Sequential()\n",
    "model.add(Embedding(len(wordmap), hidden_size, input_length=maxlen+5))\n",
    "model.add(LSTM(hidden_size, return_sequences=True))\n",
    "model.add(LSTM(hidden_size, return_sequences=True))\n",
    "model.add(LSTM(hidden_size, return_sequences=True))\n",
    "model.add(Dropout(0.4))\n",
    "model.add(Dense(hidden_size, activation='relu'))\n",
    "model.add(Flatten())\n",
    "model.add(Dense(1, activation='linear'))\n",
    "\n",
    "model.compile(loss='mean_squared_error', optimizer='Adam', metrics=['mean_absolute_error'])\n",
    "model.summary()\n",
    "\n"
   ]
  },
  {
   "cell_type": "code",
   "execution_count": 71,
   "metadata": {},
   "outputs": [
    {
     "name": "stdout",
     "output_type": "stream",
     "text": [
      "Train on 160 samples, validate on 29 samples\n",
      "Epoch 1/50\n",
      "160/160 [==============================] - 4s 26ms/step - loss: 198562.2719 - mean_absolute_error: 419.9061 - val_loss: 164067.7656 - val_mean_absolute_error: 379.2515\n",
      "Epoch 2/50\n",
      "160/160 [==============================] - 2s 11ms/step - loss: 193748.8687 - mean_absolute_error: 413.9373 - val_loss: 150534.7188 - val_mean_absolute_error: 360.8287\n",
      "Epoch 3/50\n",
      "160/160 [==============================] - 2s 11ms/step - loss: 157656.6547 - mean_absolute_error: 366.3126 - val_loss: 92568.8984 - val_mean_absolute_error: 268.7489\n",
      "Epoch 4/50\n",
      "160/160 [==============================] - 2s 11ms/step - loss: 83147.7500 - mean_absolute_error: 246.3115 - val_loss: 35154.0078 - val_mean_absolute_error: 133.5898\n",
      "Epoch 5/50\n",
      "160/160 [==============================] - 2s 11ms/step - loss: 30540.1109 - mean_absolute_error: 139.6379 - val_loss: 26367.6211 - val_mean_absolute_error: 143.5896\n",
      "Epoch 6/50\n",
      "160/160 [==============================] - 2s 11ms/step - loss: 34718.2926 - mean_absolute_error: 157.1566 - val_loss: 42068.2344 - val_mean_absolute_error: 176.1447\n",
      "Epoch 7/50\n",
      "160/160 [==============================] - 2s 14ms/step - loss: 29924.5535 - mean_absolute_error: 146.3046 - val_loss: 22260.9238 - val_mean_absolute_error: 134.2974\n",
      "Epoch 8/50\n",
      "160/160 [==============================] - 2s 15ms/step - loss: 23688.7281 - mean_absolute_error: 129.3227 - val_loss: 20858.8496 - val_mean_absolute_error: 125.2265\n",
      "Epoch 9/50\n",
      "160/160 [==============================] - 2s 15ms/step - loss: 25903.9424 - mean_absolute_error: 131.8753 - val_loss: 20902.7441 - val_mean_absolute_error: 125.1355\n",
      "Epoch 10/50\n",
      "160/160 [==============================] - 2s 14ms/step - loss: 24060.5828 - mean_absolute_error: 128.9748 - val_loss: 20444.9160 - val_mean_absolute_error: 129.3595\n",
      "Epoch 11/50\n",
      "160/160 [==============================] - 2s 14ms/step - loss: 22068.6123 - mean_absolute_error: 125.4892 - val_loss: 22662.2090 - val_mean_absolute_error: 135.3219\n",
      "Epoch 12/50\n",
      "160/160 [==============================] - 2s 15ms/step - loss: 22817.5273 - mean_absolute_error: 128.8749 - val_loss: 23126.7656 - val_mean_absolute_error: 136.4079\n",
      "Epoch 13/50\n",
      "160/160 [==============================] - 2s 15ms/step - loss: 22651.2730 - mean_absolute_error: 128.0012 - val_loss: 21567.7637 - val_mean_absolute_error: 132.2514\n",
      "Epoch 14/50\n",
      "160/160 [==============================] - 2s 14ms/step - loss: 22831.2535 - mean_absolute_error: 127.5755 - val_loss: 20358.9570 - val_mean_absolute_error: 129.0246\n",
      "Epoch 15/50\n",
      "160/160 [==============================] - 2s 14ms/step - loss: 22535.7891 - mean_absolute_error: 126.1639 - val_loss: 20517.6816 - val_mean_absolute_error: 129.5950\n",
      "Epoch 16/50\n",
      "160/160 [==============================] - 2s 15ms/step - loss: 22570.9986 - mean_absolute_error: 127.3895 - val_loss: 21326.4648 - val_mean_absolute_error: 131.4192\n",
      "Epoch 17/50\n",
      "160/160 [==============================] - 3s 16ms/step - loss: 22360.3285 - mean_absolute_error: 126.6915 - val_loss: 21222.3184 - val_mean_absolute_error: 131.0881\n",
      "Epoch 18/50\n",
      "160/160 [==============================] - 2s 15ms/step - loss: 22355.7719 - mean_absolute_error: 126.7708 - val_loss: 21271.4531 - val_mean_absolute_error: 131.2180\n",
      "Epoch 19/50\n",
      "160/160 [==============================] - 2s 15ms/step - loss: 22372.9102 - mean_absolute_error: 126.6451 - val_loss: 21025.3145 - val_mean_absolute_error: 130.7471\n",
      "Epoch 20/50\n",
      "160/160 [==============================] - 2s 14ms/step - loss: 22114.5500 - mean_absolute_error: 126.1864 - val_loss: 20953.9160 - val_mean_absolute_error: 130.6133\n",
      "Epoch 21/50\n",
      "160/160 [==============================] - 2s 14ms/step - loss: 22364.9762 - mean_absolute_error: 126.8283 - val_loss: 21107.2305 - val_mean_absolute_error: 130.8916\n",
      "Epoch 22/50\n",
      "160/160 [==============================] - 2s 15ms/step - loss: 22335.2055 - mean_absolute_error: 126.4033 - val_loss: 20915.8711 - val_mean_absolute_error: 130.5386\n",
      "Epoch 23/50\n",
      "160/160 [==============================] - 2s 15ms/step - loss: 22327.0363 - mean_absolute_error: 126.5486 - val_loss: 21006.8008 - val_mean_absolute_error: 130.7107\n",
      "Epoch 24/50\n",
      "160/160 [==============================] - 2s 14ms/step - loss: 22205.2121 - mean_absolute_error: 126.1215 - val_loss: 21032.5039 - val_mean_absolute_error: 130.7570\n",
      "Epoch 25/50\n",
      "160/160 [==============================] - 2s 14ms/step - loss: 22442.8605 - mean_absolute_error: 126.6654 - val_loss: 20728.7773 - val_mean_absolute_error: 130.1420\n",
      "Epoch 26/50\n",
      "160/160 [==============================] - 2s 15ms/step - loss: 22432.7062 - mean_absolute_error: 126.8028 - val_loss: 21446.8711 - val_mean_absolute_error: 131.8508\n",
      "Epoch 27/50\n",
      "160/160 [==============================] - 2s 15ms/step - loss: 22352.1879 - mean_absolute_error: 126.9569 - val_loss: 21295.8633 - val_mean_absolute_error: 131.3148\n",
      "Epoch 28/50\n",
      "160/160 [==============================] - 2s 15ms/step - loss: 22230.5426 - mean_absolute_error: 126.0930 - val_loss: 20740.4141 - val_mean_absolute_error: 130.1669\n",
      "Epoch 29/50\n",
      "160/160 [==============================] - 2s 15ms/step - loss: 22418.3363 - mean_absolute_error: 126.5878 - val_loss: 20817.5469 - val_mean_absolute_error: 130.3346\n",
      "Epoch 30/50\n",
      "160/160 [==============================] - 2s 14ms/step - loss: 22236.7758 - mean_absolute_error: 126.1170 - val_loss: 21102.7285 - val_mean_absolute_error: 130.8766\n",
      "Epoch 31/50\n",
      "160/160 [==============================] - 2s 14ms/step - loss: 22371.3494 - mean_absolute_error: 126.8325 - val_loss: 21667.6660 - val_mean_absolute_error: 132.5822\n",
      "Epoch 32/50\n",
      "160/160 [==============================] - 2s 15ms/step - loss: 22658.1805 - mean_absolute_error: 127.8566 - val_loss: 20657.4922 - val_mean_absolute_error: 129.9699\n",
      "Epoch 33/50\n",
      "160/160 [==============================] - 2s 15ms/step - loss: 22413.0434 - mean_absolute_error: 126.7174 - val_loss: 21078.0586 - val_mean_absolute_error: 130.8306\n",
      "Epoch 34/50\n",
      "160/160 [==============================] - 2s 15ms/step - loss: 22326.8348 - mean_absolute_error: 126.5271 - val_loss: 21348.3574 - val_mean_absolute_error: 131.5116\n",
      "Epoch 35/50\n",
      "160/160 [==============================] - 2s 15ms/step - loss: 22378.4824 - mean_absolute_error: 126.5463 - val_loss: 20685.6191 - val_mean_absolute_error: 130.0361\n",
      "Epoch 36/50\n",
      "160/160 [==============================] - 2s 15ms/step - loss: 22287.0797 - mean_absolute_error: 126.0888 - val_loss: 20971.0273 - val_mean_absolute_error: 130.6331\n",
      "Epoch 37/50\n",
      "160/160 [==============================] - 2s 14ms/step - loss: 22351.3479 - mean_absolute_error: 126.5227 - val_loss: 21422.2285 - val_mean_absolute_error: 131.7749\n",
      "Epoch 38/50\n",
      "160/160 [==============================] - 2s 15ms/step - loss: 22245.4871 - mean_absolute_error: 126.5657 - val_loss: 21115.4805 - val_mean_absolute_error: 130.8893\n",
      "Epoch 39/50\n",
      "160/160 [==============================] - 2s 14ms/step - loss: 22331.8746 - mean_absolute_error: 126.0422 - val_loss: 20546.4844 - val_mean_absolute_error: 129.6761\n",
      "Epoch 40/50\n",
      "160/160 [==============================] - 2s 14ms/step - loss: 22195.0164 - mean_absolute_error: 125.9341 - val_loss: 20926.3008 - val_mean_absolute_error: 130.5433\n",
      "Epoch 41/50\n",
      "160/160 [==============================] - 2s 14ms/step - loss: 22314.3941 - mean_absolute_error: 126.4286 - val_loss: 21025.0293 - val_mean_absolute_error: 130.7259\n",
      "Epoch 42/50\n",
      "160/160 [==============================] - 3s 16ms/step - loss: 22454.7027 - mean_absolute_error: 126.9741 - val_loss: 21427.4316 - val_mean_absolute_error: 131.7989\n",
      "Epoch 43/50\n",
      "160/160 [==============================] - 2s 15ms/step - loss: 22297.0234 - mean_absolute_error: 126.6299 - val_loss: 21091.4492 - val_mean_absolute_error: 130.8399\n",
      "Epoch 44/50\n",
      "160/160 [==============================] - 2s 14ms/step - loss: 22346.7859 - mean_absolute_error: 126.4584 - val_loss: 20837.1699 - val_mean_absolute_error: 130.3607\n",
      "Epoch 45/50\n",
      "160/160 [==============================] - 2s 14ms/step - loss: 22394.8834 - mean_absolute_error: 126.4250 - val_loss: 20929.2285 - val_mean_absolute_error: 130.5412\n",
      "Epoch 46/50\n",
      "160/160 [==============================] - 2s 14ms/step - loss: 22275.2199 - mean_absolute_error: 126.4958 - val_loss: 21331.9512 - val_mean_absolute_error: 131.4699\n"
     ]
    },
    {
     "name": "stdout",
     "output_type": "stream",
     "text": [
      "Epoch 47/50\n",
      "160/160 [==============================] - 2s 14ms/step - loss: 22313.2809 - mean_absolute_error: 126.6933 - val_loss: 21134.8574 - val_mean_absolute_error: 130.9054\n",
      "Epoch 48/50\n",
      "160/160 [==============================] - 2s 14ms/step - loss: 22432.8074 - mean_absolute_error: 126.7174 - val_loss: 20603.0156 - val_mean_absolute_error: 129.8223\n",
      "Epoch 49/50\n",
      "160/160 [==============================] - 2s 14ms/step - loss: 22217.7729 - mean_absolute_error: 125.7395 - val_loss: 20892.5215 - val_mean_absolute_error: 130.4620\n",
      "Epoch 50/50\n",
      "160/160 [==============================] - 2s 14ms/step - loss: 22078.0854 - mean_absolute_error: 125.7653 - val_loss: 21381.2891 - val_mean_absolute_error: 131.6530\n"
     ]
    },
    {
     "data": {
      "text/plain": [
       "<keras.callbacks.History at 0x2af421a0438>"
      ]
     },
     "execution_count": 71,
     "metadata": {},
     "output_type": "execute_result"
    }
   ],
   "source": [
    "model.fit(X_train, y_train, batch_size=32, validation_data=(X_test, y_test), epochs=50)"
   ]
  },
  {
   "cell_type": "code",
   "execution_count": null,
   "metadata": {},
   "outputs": [],
   "source": []
  }
 ],
 "metadata": {
  "kernelspec": {
   "display_name": "test_speedcom",
   "language": "python",
   "name": "test_speedcom"
  },
  "language_info": {
   "codemirror_mode": {
    "name": "ipython",
    "version": 3
   },
   "file_extension": ".py",
   "mimetype": "text/x-python",
   "name": "python",
   "nbconvert_exporter": "python",
   "pygments_lexer": "ipython3",
   "version": "3.6.8"
  }
 },
 "nbformat": 4,
 "nbformat_minor": 2
}
