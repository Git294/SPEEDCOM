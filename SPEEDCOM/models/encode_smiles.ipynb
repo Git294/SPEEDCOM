{
 "cells": [
  {
   "cell_type": "code",
   "execution_count": 98,
   "metadata": {},
   "outputs": [],
   "source": [
    "import numpy as np\n",
    "import pandas as pd\n",
    "import matplotlib as mplt\n",
    "import matplotlib.pyplot as plt\n",
    "\n",
    "from keras.models import Sequential\n",
    "from keras.layers import LSTM, Dense, Embedding, Dropout, Flatten, BatchNormalization\n",
    "# sequence data packages\n",
    "from keras.preprocessing import sequence\n",
    "import itertools\n",
    "import random\n",
    "import dataUtils as du\n",
    "import model_utils as mutls\n",
    "from sklearn import metrics"
   ]
  },
  {
   "cell_type": "code",
   "execution_count": 99,
   "metadata": {},
   "outputs": [
    {
     "name": "stdout",
     "output_type": "stream",
     "text": [
      "   #      Name  Epsilon      Solvent  Quantum Yield    Solvent.1  \\\n",
      "0  1   Benzene      210  cyclohexane          0.053       hexane   \n",
      "1  2   Toluene     2860  cyclohexane          0.170  cyclohexane   \n",
      "2  3  o-Xylene      254  cyclohexane          0.170       hexane   \n",
      "3  4  m-Xylene      284  cyclohexane          0.130       hexane   \n",
      "4  5  p-Xylene      770  cyclohexane          0.220       hexane   \n",
      "\n",
      "                            File                         File.1  Absorption  \\\n",
      "0    A01_71-43-2_Benzene.abs.txt    A01_71-43-2_Benzene.ems.txt      254.75   \n",
      "1   A02_108-88-3_Toluene.abs.txt   A02_108-88-3_Toluene.ems.txt      261.75   \n",
      "2   A03_95-47-6_o-Xylene.abs.txt   A03_95-47-6_o-Xylene.ems.txt      263.00   \n",
      "3  A04_108-38-3_m-Xylene.abs.txt  A04_108-38-3_m-Xylene.ems.txt      265.00   \n",
      "4  A05_106-42-3_p-Xylene.abs.txt  A05_106-42-3_p-Xylene.ems.txt      275.00   \n",
      "\n",
      "            SMILES  Emission  \n",
      "0      C1=CC=CC=C1     287.0  \n",
      "1     CC1=CC=CC=C1     289.5  \n",
      "2    CC1=CC=CC=C1C     291.0  \n",
      "3  CC1=CC(=CC=C1)C     290.0  \n",
      "4  CC1=CC=C(C=C1)C     291.0  \n"
     ]
    }
   ],
   "source": [
    "df=du.DataUtils.readData('cleaned_data_emission.tsv')\n"
   ]
  },
  {
   "cell_type": "code",
   "execution_count": 100,
   "metadata": {},
   "outputs": [],
   "source": [
    "x_str, y_wl=du.DataUtils.get_xy(df,x_col_index=9,y_col_index=8)\n",
    "maxlen = du.DataUtils.get_max_len(x_str)\n"
   ]
  },
  {
   "cell_type": "code",
   "execution_count": 101,
   "metadata": {},
   "outputs": [],
   "source": [
    "wordmap=du.DataUtils.get_wordmap(x_str)"
   ]
  },
  {
   "cell_type": "code",
   "execution_count": null,
   "metadata": {},
   "outputs": [],
   "source": []
  },
  {
   "cell_type": "code",
   "execution_count": 102,
   "metadata": {},
   "outputs": [
    {
     "data": {
      "text/plain": [
       "42"
      ]
     },
     "execution_count": 102,
     "metadata": {},
     "output_type": "execute_result"
    }
   ],
   "source": [
    "len(wordmap)"
   ]
  },
  {
   "cell_type": "code",
   "execution_count": 103,
   "metadata": {},
   "outputs": [],
   "source": [
    "x_encode=du.DataUtils.numeric_encoding(x_str,uniform_length=maxlen+5,word_map=wordmap)"
   ]
  },
  {
   "cell_type": "code",
   "execution_count": 104,
   "metadata": {},
   "outputs": [
    {
     "data": {
      "text/plain": [
       "274"
      ]
     },
     "execution_count": 104,
     "metadata": {},
     "output_type": "execute_result"
    }
   ],
   "source": [
    "maxlen"
   ]
  },
  {
   "cell_type": "code",
   "execution_count": 105,
   "metadata": {},
   "outputs": [],
   "source": [
    "X_train, X_test, y_train, y_test=du.DataUtils.splitData(x_encode, y_wl, ratio=0.2)"
   ]
  },
  {
   "cell_type": "code",
   "execution_count": 106,
   "metadata": {},
   "outputs": [
    {
     "data": {
      "text/plain": [
       "array([[ 5, 32, 32, ..., 35, 35, 35],\n",
       "       [ 5, 32,  2, ..., 35, 35, 35],\n",
       "       [ 5, 32, 32, ..., 35, 35, 35],\n",
       "       ...,\n",
       "       [ 5, 32, 18, ..., 35, 35, 35],\n",
       "       [ 5, 32, 32, ..., 35, 35, 35],\n",
       "       [ 5, 32, 32, ..., 35, 35, 35]], dtype=int8)"
      ]
     },
     "execution_count": 106,
     "metadata": {},
     "output_type": "execute_result"
    }
   ],
   "source": [
    "X_train"
   ]
  },
  {
   "cell_type": "code",
   "execution_count": 107,
   "metadata": {},
   "outputs": [
    {
     "data": {
      "text/plain": [
       "(array([93., 58., 20., 36., 24., 24., 22.,  7.,  3.,  4.]),\n",
       " array([203. , 264.5, 326. , 387.5, 449. , 510.5, 572. , 633.5, 695. ,\n",
       "        756.5, 818. ]),\n",
       " <a list of 10 Patch objects>)"
      ]
     },
     "execution_count": 107,
     "metadata": {},
     "output_type": "execute_result"
    },
    {
     "data": {
      "image/png": "[encoded data removed]",
      "text/plain": [
       "<Figure size 432x288 with 1 Axes>"
      ]
     },
     "metadata": {
      "needs_background": "light"
     },
     "output_type": "display_data"
    }
   ],
   "source": [
    "plt.hist(y_wl.tolist())"
   ]
  },
  {
   "cell_type": "markdown",
   "metadata": {},
   "source": [
    "#### 1st model, use all data and numeric encoding of smiles, added embedding layer"
   ]
  },
  {
   "cell_type": "code",
   "execution_count": 108,
   "metadata": {},
   "outputs": [],
   "source": [
    "hidden_size = 50\n",
    "model = Sequential()\n",
    "model.add(Embedding(len(wordmap), hidden_size, input_length=maxlen+5))\n",
    "model.add(LSTM(hidden_size, return_sequences=True))\n",
    "model.add(BatchNormalization())\n",
    "model.add(LSTM(hidden_size, return_sequences=True))\n",
    "model.add(Dropout(0.4))\n",
    "model.add(LSTM(hidden_size, return_sequences=True))\n",
    "model.add(Dropout(0.4))\n",
    "model.add(Dense(hidden_size, activation='relu'))\n",
    "model.add(Flatten())\n",
    "model.add(Dense(1, activation='linear'))"
   ]
  },
  {
   "cell_type": "code",
   "execution_count": 45,
   "metadata": {},
   "outputs": [
    {
     "name": "stdout",
     "output_type": "stream",
     "text": [
      "_________________________________________________________________\n",
      "Layer (type)                 Output Shape              Param #   \n",
      "=================================================================\n",
      "embedding_3 (Embedding)      (None, 279, 50)           2100      \n",
      "_________________________________________________________________\n",
      "lstm_5 (LSTM)                (None, 279, 50)           20200     \n",
      "_________________________________________________________________\n",
      "batch_normalization_2 (Batch (None, 279, 50)           200       \n",
      "_________________________________________________________________\n",
      "lstm_6 (LSTM)                (None, 279, 50)           20200     \n",
      "_________________________________________________________________\n",
      "dropout_2 (Dropout)          (None, 279, 50)           0         \n",
      "_________________________________________________________________\n",
      "lstm_7 (LSTM)                (None, 279, 50)           20200     \n",
      "_________________________________________________________________\n",
      "dropout_3 (Dropout)          (None, 279, 50)           0         \n",
      "_________________________________________________________________\n",
      "dense_3 (Dense)              (None, 279, 50)           2550      \n",
      "_________________________________________________________________\n",
      "flatten_2 (Flatten)          (None, 13950)             0         \n",
      "_________________________________________________________________\n",
      "dense_4 (Dense)              (None, 1)                 13951     \n",
      "=================================================================\n",
      "Total params: 79,401\n",
      "Trainable params: 79,301\n",
      "Non-trainable params: 100\n",
      "_________________________________________________________________\n"
     ]
    }
   ],
   "source": [
    "model.compile(loss='mean_squared_error', optimizer='Adam', metrics=['mean_absolute_error'])\n",
    "model.summary() ##use mean_squared_error loss"
   ]
  },
  {
   "cell_type": "code",
   "execution_count": 46,
   "metadata": {},
   "outputs": [
    {
     "name": "stdout",
     "output_type": "stream",
     "text": [
      "Train on 232 samples, validate on 59 samples\n",
      "Epoch 1/100\n",
      "232/232 [==============================] - 6s 25ms/step - loss: 154269.0291 - mean_absolute_error: 365.8581 - val_loss: 146193.4251 - val_mean_absolute_error: 352.9004\n",
      "Epoch 2/100\n",
      "232/232 [==============================] - 3s 13ms/step - loss: 121947.0067 - mean_absolute_error: 317.8559 - val_loss: 91614.8841 - val_mean_absolute_error: 262.2590\n",
      "Epoch 3/100\n",
      "232/232 [==============================] - 3s 13ms/step - loss: 63936.4386 - mean_absolute_error: 200.9835 - val_loss: 34240.5936 - val_mean_absolute_error: 139.3730\n",
      "Epoch 4/100\n",
      "232/232 [==============================] - 3s 13ms/step - loss: 26975.2142 - mean_absolute_error: 139.6733 - val_loss: 30032.4069 - val_mean_absolute_error: 148.4147\n",
      "Epoch 5/100\n",
      "232/232 [==============================] - 3s 13ms/step - loss: 27271.5331 - mean_absolute_error: 146.6160 - val_loss: 28314.3249 - val_mean_absolute_error: 118.2080\n",
      "Epoch 6/100\n",
      "232/232 [==============================] - 3s 13ms/step - loss: 20740.6012 - mean_absolute_error: 119.2659 - val_loss: 27557.4966 - val_mean_absolute_error: 114.7753\n",
      "Epoch 7/100\n",
      "232/232 [==============================] - 3s 13ms/step - loss: 18008.9532 - mean_absolute_error: 109.2884 - val_loss: 17535.5909 - val_mean_absolute_error: 107.1778\n",
      "Epoch 8/100\n",
      "232/232 [==============================] - 3s 13ms/step - loss: 15905.2528 - mean_absolute_error: 107.9168 - val_loss: 15899.9403 - val_mean_absolute_error: 106.1096\n",
      "Epoch 9/100\n",
      "232/232 [==============================] - 3s 13ms/step - loss: 14442.5236 - mean_absolute_error: 100.1153 - val_loss: 15250.1755 - val_mean_absolute_error: 96.2692\n",
      "Epoch 10/100\n",
      "232/232 [==============================] - 3s 13ms/step - loss: 13917.3594 - mean_absolute_error: 91.6630 - val_loss: 14566.9777 - val_mean_absolute_error: 94.7933\n",
      "Epoch 11/100\n",
      "232/232 [==============================] - 3s 13ms/step - loss: 13555.6756 - mean_absolute_error: 93.8821 - val_loss: 14046.0140 - val_mean_absolute_error: 100.6993\n",
      "Epoch 12/100\n",
      "232/232 [==============================] - 3s 13ms/step - loss: 12959.0849 - mean_absolute_error: 89.6310 - val_loss: 13794.6024 - val_mean_absolute_error: 95.0745\n",
      "Epoch 13/100\n",
      "232/232 [==============================] - 3s 13ms/step - loss: 12558.4027 - mean_absolute_error: 85.4299 - val_loss: 13634.5200 - val_mean_absolute_error: 94.5280\n",
      "Epoch 14/100\n",
      "232/232 [==============================] - 3s 13ms/step - loss: 12264.7002 - mean_absolute_error: 83.8068 - val_loss: 13604.4545 - val_mean_absolute_error: 92.8755\n",
      "Epoch 15/100\n",
      "232/232 [==============================] - 3s 13ms/step - loss: 12110.5827 - mean_absolute_error: 82.3618 - val_loss: 13517.8678 - val_mean_absolute_error: 92.1067\n",
      "Epoch 16/100\n",
      "232/232 [==============================] - 3s 14ms/step - loss: 12010.8329 - mean_absolute_error: 84.2233 - val_loss: 13379.1261 - val_mean_absolute_error: 93.0664\n",
      "Epoch 17/100\n",
      "232/232 [==============================] - 3s 14ms/step - loss: 11860.8508 - mean_absolute_error: 83.0222 - val_loss: 13237.6731 - val_mean_absolute_error: 91.8232\n",
      "Epoch 18/100\n",
      "232/232 [==============================] - 3s 14ms/step - loss: 11560.5232 - mean_absolute_error: 80.7052 - val_loss: 13148.5199 - val_mean_absolute_error: 91.8345\n",
      "Epoch 19/100\n",
      "232/232 [==============================] - 3s 14ms/step - loss: 11579.7617 - mean_absolute_error: 81.5680 - val_loss: 13055.9014 - val_mean_absolute_error: 91.9291\n",
      "Epoch 20/100\n",
      "232/232 [==============================] - 3s 14ms/step - loss: 11253.0817 - mean_absolute_error: 78.9118 - val_loss: 26317.2812 - val_mean_absolute_error: 132.5944\n",
      "Epoch 21/100\n",
      "232/232 [==============================] - 3s 14ms/step - loss: 10923.3353 - mean_absolute_error: 77.6332 - val_loss: 12710.3231 - val_mean_absolute_error: 90.1623\n",
      "Epoch 22/100\n",
      "232/232 [==============================] - 3s 14ms/step - loss: 10919.1197 - mean_absolute_error: 77.6781 - val_loss: 12184.7053 - val_mean_absolute_error: 88.0741\n",
      "Epoch 23/100\n",
      "232/232 [==============================] - 3s 14ms/step - loss: 10056.1995 - mean_absolute_error: 73.7620 - val_loss: 12777.4667 - val_mean_absolute_error: 90.8975\n",
      "Epoch 24/100\n",
      "232/232 [==============================] - 3s 14ms/step - loss: 10825.3172 - mean_absolute_error: 77.0232 - val_loss: 12376.1834 - val_mean_absolute_error: 87.4895\n",
      "Epoch 25/100\n",
      "232/232 [==============================] - 3s 14ms/step - loss: 9849.9084 - mean_absolute_error: 72.8379 - val_loss: 11247.1643 - val_mean_absolute_error: 82.3568\n",
      "Epoch 26/100\n",
      "232/232 [==============================] - 3s 14ms/step - loss: 9501.1456 - mean_absolute_error: 70.6189 - val_loss: 10729.2702 - val_mean_absolute_error: 78.9427\n",
      "Epoch 27/100\n",
      "232/232 [==============================] - 3s 14ms/step - loss: 9195.7508 - mean_absolute_error: 69.0763 - val_loss: 10247.9870 - val_mean_absolute_error: 78.7302\n",
      "Epoch 28/100\n",
      "232/232 [==============================] - 4s 16ms/step - loss: 8697.4280 - mean_absolute_error: 67.4137 - val_loss: 13164.7305 - val_mean_absolute_error: 82.5491\n",
      "Epoch 29/100\n",
      "232/232 [==============================] - 4s 17ms/step - loss: 8608.6993 - mean_absolute_error: 66.5056 - val_loss: 10284.4725 - val_mean_absolute_error: 77.3344\n",
      "Epoch 30/100\n",
      "232/232 [==============================] - 3s 14ms/step - loss: 8446.6226 - mean_absolute_error: 65.3822 - val_loss: 9950.1043 - val_mean_absolute_error: 73.8094\n",
      "Epoch 31/100\n",
      "232/232 [==============================] - 3s 15ms/step - loss: 8037.7783 - mean_absolute_error: 64.5805 - val_loss: 10389.3053 - val_mean_absolute_error: 75.1848\n",
      "Epoch 32/100\n",
      "232/232 [==============================] - 3s 14ms/step - loss: 7530.5212 - mean_absolute_error: 61.2081 - val_loss: 9962.2975 - val_mean_absolute_error: 74.6291\n",
      "Epoch 33/100\n",
      "232/232 [==============================] - 3s 14ms/step - loss: 7295.9267 - mean_absolute_error: 61.2133 - val_loss: 9654.3289 - val_mean_absolute_error: 74.2242\n",
      "Epoch 34/100\n",
      "232/232 [==============================] - 3s 14ms/step - loss: 6971.3792 - mean_absolute_error: 58.5746 - val_loss: 9321.1592 - val_mean_absolute_error: 72.4313\n",
      "Epoch 35/100\n",
      "232/232 [==============================] - 3s 14ms/step - loss: 7054.1274 - mean_absolute_error: 59.6696 - val_loss: 9706.7914 - val_mean_absolute_error: 72.9552\n",
      "Epoch 36/100\n",
      "232/232 [==============================] - 3s 14ms/step - loss: 6751.2526 - mean_absolute_error: 57.7211 - val_loss: 9055.7991 - val_mean_absolute_error: 71.8236\n",
      "Epoch 37/100\n",
      "232/232 [==============================] - 3s 14ms/step - loss: 6989.6820 - mean_absolute_error: 59.7651 - val_loss: 9079.6681 - val_mean_absolute_error: 71.6877\n",
      "Epoch 38/100\n",
      "232/232 [==============================] - 3s 14ms/step - loss: 8092.3483 - mean_absolute_error: 64.1929 - val_loss: 47287.0421 - val_mean_absolute_error: 196.6021\n",
      "Epoch 39/100\n",
      "232/232 [==============================] - 3s 14ms/step - loss: 7908.9489 - mean_absolute_error: 63.2771 - val_loss: 9094.8897 - val_mean_absolute_error: 73.3406\n",
      "Epoch 40/100\n",
      "232/232 [==============================] - 3s 14ms/step - loss: 6929.0882 - mean_absolute_error: 59.2688 - val_loss: 46789.7581 - val_mean_absolute_error: 195.6445\n",
      "Epoch 41/100\n",
      "232/232 [==============================] - 3s 14ms/step - loss: 6436.4396 - mean_absolute_error: 57.1730 - val_loss: 8558.4970 - val_mean_absolute_error: 70.2453\n",
      "Epoch 42/100\n",
      "232/232 [==============================] - 3s 14ms/step - loss: 6504.9439 - mean_absolute_error: 58.1624 - val_loss: 7669.5479 - val_mean_absolute_error: 67.4584\n",
      "Epoch 43/100\n",
      "232/232 [==============================] - 3s 14ms/step - loss: 6122.9308 - mean_absolute_error: 56.1146 - val_loss: 8087.0989 - val_mean_absolute_error: 68.6261\n",
      "Epoch 44/100\n",
      "232/232 [==============================] - 3s 14ms/step - loss: 6074.4593 - mean_absolute_error: 55.7587 - val_loss: 8580.9021 - val_mean_absolute_error: 69.7990\n",
      "Epoch 45/100\n",
      "232/232 [==============================] - 3s 14ms/step - loss: 6564.1790 - mean_absolute_error: 58.0889 - val_loss: 42005.0867 - val_mean_absolute_error: 185.4422\n",
      "Epoch 46/100\n",
      "232/232 [==============================] - 3s 14ms/step - loss: 6766.4864 - mean_absolute_error: 57.7265 - val_loss: 9618.4351 - val_mean_absolute_error: 73.4102\n",
      "Epoch 47/100\n",
      "232/232 [==============================] - 3s 14ms/step - loss: 6005.1848 - mean_absolute_error: 55.6368 - val_loss: 9374.7183 - val_mean_absolute_error: 76.0069\n",
      "Epoch 48/100\n",
      "232/232 [==============================] - 3s 14ms/step - loss: 6113.9232 - mean_absolute_error: 56.9826 - val_loss: 8169.4737 - val_mean_absolute_error: 67.5198\n",
      "Epoch 49/100\n",
      "232/232 [==============================] - 3s 14ms/step - loss: 6308.8267 - mean_absolute_error: 57.9145 - val_loss: 7727.3646 - val_mean_absolute_error: 65.0251\n",
      "Epoch 50/100\n",
      "232/232 [==============================] - 3s 13ms/step - loss: 5872.3909 - mean_absolute_error: 55.8100 - val_loss: 7431.9187 - val_mean_absolute_error: 64.5292\n",
      "Epoch 51/100\n",
      "232/232 [==============================] - 3s 14ms/step - loss: 5963.9802 - mean_absolute_error: 56.3240 - val_loss: 7292.8037 - val_mean_absolute_error: 64.5726\n",
      "Epoch 52/100\n",
      "232/232 [==============================] - 3s 13ms/step - loss: 6268.1994 - mean_absolute_error: 57.1300 - val_loss: 7629.5705 - val_mean_absolute_error: 65.2083\n",
      "Epoch 53/100\n",
      "232/232 [==============================] - 3s 14ms/step - loss: 6350.8083 - mean_absolute_error: 57.8805 - val_loss: 7762.1208 - val_mean_absolute_error: 65.3964\n",
      "Epoch 54/100\n",
      "232/232 [==============================] - 3s 13ms/step - loss: 6151.5822 - mean_absolute_error: 56.9823 - val_loss: 8188.3631 - val_mean_absolute_error: 67.5402\n",
      "Epoch 55/100\n",
      "232/232 [==============================] - 3s 14ms/step - loss: 5828.0831 - mean_absolute_error: 56.6692 - val_loss: 8155.8545 - val_mean_absolute_error: 66.8571\n",
      "Epoch 56/100\n",
      "232/232 [==============================] - 3s 14ms/step - loss: 5434.0120 - mean_absolute_error: 53.7603 - val_loss: 7475.4157 - val_mean_absolute_error: 63.9645\n",
      "Epoch 57/100\n",
      "232/232 [==============================] - 3s 14ms/step - loss: 5174.0388 - mean_absolute_error: 52.5435 - val_loss: 7543.9384 - val_mean_absolute_error: 63.8620\n",
      "Epoch 58/100\n",
      "232/232 [==============================] - 3s 14ms/step - loss: 5548.7996 - mean_absolute_error: 53.4493 - val_loss: 8438.2625 - val_mean_absolute_error: 67.7254\n",
      "Epoch 59/100\n",
      "232/232 [==============================] - 3s 14ms/step - loss: 6040.0152 - mean_absolute_error: 56.4759 - val_loss: 7292.6318 - val_mean_absolute_error: 63.6356\n",
      "Epoch 60/100\n",
      "232/232 [==============================] - 3s 14ms/step - loss: 4832.8116 - mean_absolute_error: 50.2568 - val_loss: 7363.6937 - val_mean_absolute_error: 63.3869\n",
      "Epoch 61/100\n",
      "232/232 [==============================] - 3s 13ms/step - loss: 4497.8147 - mean_absolute_error: 48.6408 - val_loss: 7427.6481 - val_mean_absolute_error: 62.8912\n",
      "Epoch 62/100\n",
      "232/232 [==============================] - 3s 14ms/step - loss: 4210.7147 - mean_absolute_error: 47.3288 - val_loss: 7336.2921 - val_mean_absolute_error: 62.7493\n",
      "Epoch 63/100\n",
      "232/232 [==============================] - 3s 13ms/step - loss: 4410.2460 - mean_absolute_error: 47.9676 - val_loss: 7674.8627 - val_mean_absolute_error: 64.2570\n",
      "Epoch 64/100\n",
      "232/232 [==============================] - 3s 14ms/step - loss: 4137.7639 - mean_absolute_error: 46.1395 - val_loss: 7988.7409 - val_mean_absolute_error: 63.8867\n",
      "Epoch 65/100\n",
      "232/232 [==============================] - 3s 15ms/step - loss: 3979.5825 - mean_absolute_error: 45.6417 - val_loss: 7683.6925 - val_mean_absolute_error: 63.9696\n",
      "Epoch 66/100\n",
      "232/232 [==============================] - 4s 17ms/step - loss: 4333.3182 - mean_absolute_error: 48.0227 - val_loss: 8645.9435 - val_mean_absolute_error: 65.4228\n",
      "Epoch 67/100\n",
      "232/232 [==============================] - 4s 16ms/step - loss: 4941.6256 - mean_absolute_error: 50.1296 - val_loss: 8731.8516 - val_mean_absolute_error: 68.3125\n",
      "Epoch 68/100\n",
      "232/232 [==============================] - 4s 16ms/step - loss: 4776.9136 - mean_absolute_error: 50.5001 - val_loss: 11190.3479 - val_mean_absolute_error: 73.6229\n",
      "Epoch 69/100\n",
      "232/232 [==============================] - 3s 14ms/step - loss: 4402.0505 - mean_absolute_error: 47.7678 - val_loss: 8302.5212 - val_mean_absolute_error: 66.5082\n",
      "Epoch 70/100\n",
      "232/232 [==============================] - 3s 14ms/step - loss: 3953.9622 - mean_absolute_error: 45.4757 - val_loss: 8058.9530 - val_mean_absolute_error: 61.8240\n",
      "Epoch 71/100\n",
      "232/232 [==============================] - 3s 14ms/step - loss: 4121.8834 - mean_absolute_error: 46.9576 - val_loss: 9556.9654 - val_mean_absolute_error: 66.4680\n",
      "Epoch 72/100\n",
      "232/232 [==============================] - 3s 14ms/step - loss: 3989.4227 - mean_absolute_error: 45.2072 - val_loss: 7863.1379 - val_mean_absolute_error: 65.2505\n",
      "Epoch 73/100\n",
      "232/232 [==============================] - 3s 15ms/step - loss: 3831.6806 - mean_absolute_error: 45.9783 - val_loss: 8792.3053 - val_mean_absolute_error: 65.9434\n",
      "Epoch 74/100\n",
      "232/232 [==============================] - 4s 16ms/step - loss: 3677.4512 - mean_absolute_error: 43.4151 - val_loss: 8724.7140 - val_mean_absolute_error: 64.8072\n",
      "Epoch 75/100\n",
      "232/232 [==============================] - 4s 15ms/step - loss: 3530.9655 - mean_absolute_error: 43.0678 - val_loss: 9107.5597 - val_mean_absolute_error: 64.6770\n",
      "Epoch 76/100\n",
      "232/232 [==============================] - 4s 16ms/step - loss: 3389.0667 - mean_absolute_error: 41.0505 - val_loss: 8739.0905 - val_mean_absolute_error: 65.8231\n",
      "Epoch 77/100\n",
      "232/232 [==============================] - 3s 15ms/step - loss: 3643.6234 - mean_absolute_error: 44.4077 - val_loss: 10066.9983 - val_mean_absolute_error: 66.2192\n",
      "Epoch 78/100\n",
      "232/232 [==============================] - 3s 14ms/step - loss: 4045.9405 - mean_absolute_error: 45.3339 - val_loss: 8874.3736 - val_mean_absolute_error: 66.0267\n",
      "Epoch 79/100\n",
      "232/232 [==============================] - 3s 14ms/step - loss: 3946.0581 - mean_absolute_error: 45.5960 - val_loss: 12082.5694 - val_mean_absolute_error: 71.5078\n",
      "Epoch 80/100\n",
      "232/232 [==============================] - 3s 14ms/step - loss: 3537.1581 - mean_absolute_error: 42.7844 - val_loss: 10611.3293 - val_mean_absolute_error: 65.1969\n",
      "Epoch 81/100\n",
      "232/232 [==============================] - 3s 14ms/step - loss: 4194.7818 - mean_absolute_error: 45.5358 - val_loss: 11525.1477 - val_mean_absolute_error: 71.0947\n",
      "Epoch 82/100\n",
      "232/232 [==============================] - 3s 14ms/step - loss: 4314.7788 - mean_absolute_error: 48.5632 - val_loss: 11849.3933 - val_mean_absolute_error: 68.8054\n",
      "Epoch 83/100\n",
      "232/232 [==============================] - 3s 15ms/step - loss: 3383.3891 - mean_absolute_error: 41.2620 - val_loss: 10205.8781 - val_mean_absolute_error: 65.2233\n",
      "Epoch 84/100\n",
      "232/232 [==============================] - 3s 15ms/step - loss: 3139.0601 - mean_absolute_error: 41.6526 - val_loss: 9904.7739 - val_mean_absolute_error: 65.3598\n",
      "Epoch 85/100\n",
      "232/232 [==============================] - 3s 14ms/step - loss: 3447.5821 - mean_absolute_error: 43.8945 - val_loss: 9036.1548 - val_mean_absolute_error: 62.9727\n",
      "Epoch 86/100\n",
      "232/232 [==============================] - 3s 14ms/step - loss: 4379.7553 - mean_absolute_error: 48.3675 - val_loss: 8377.5252 - val_mean_absolute_error: 65.1247\n",
      "Epoch 87/100\n",
      "232/232 [==============================] - 3s 14ms/step - loss: 4997.1406 - mean_absolute_error: 50.2535 - val_loss: 11572.4754 - val_mean_absolute_error: 71.0270\n",
      "Epoch 88/100\n",
      "232/232 [==============================] - 3s 14ms/step - loss: 3548.8853 - mean_absolute_error: 44.4541 - val_loss: 9790.0197 - val_mean_absolute_error: 63.0541\n",
      "Epoch 89/100\n",
      "232/232 [==============================] - 3s 14ms/step - loss: 3688.2513 - mean_absolute_error: 44.6110 - val_loss: 8732.4448 - val_mean_absolute_error: 65.9667\n",
      "Epoch 90/100\n",
      "232/232 [==============================] - 3s 14ms/step - loss: 3308.6751 - mean_absolute_error: 44.0517 - val_loss: 12650.2553 - val_mean_absolute_error: 73.5207\n",
      "Epoch 91/100\n",
      "232/232 [==============================] - 3s 14ms/step - loss: 2894.5046 - mean_absolute_error: 40.0815 - val_loss: 10798.8110 - val_mean_absolute_error: 68.1465\n",
      "Epoch 92/100\n",
      "232/232 [==============================] - 3s 14ms/step - loss: 2526.7646 - mean_absolute_error: 37.6411 - val_loss: 9656.6339 - val_mean_absolute_error: 62.6534\n",
      "Epoch 93/100\n",
      "232/232 [==============================] - 4s 17ms/step - loss: 2598.2942 - mean_absolute_error: 38.3558 - val_loss: 9902.9566 - val_mean_absolute_error: 65.6905\n"
     ]
    },
    {
     "name": "stdout",
     "output_type": "stream",
     "text": [
      "Epoch 94/100\n",
      "232/232 [==============================] - 4s 18ms/step - loss: 2707.2912 - mean_absolute_error: 40.2975 - val_loss: 11710.2650 - val_mean_absolute_error: 69.2264\n",
      "Epoch 95/100\n",
      "232/232 [==============================] - 4s 17ms/step - loss: 2499.6236 - mean_absolute_error: 37.2099 - val_loss: 9906.7375 - val_mean_absolute_error: 63.6058\n",
      "Epoch 96/100\n",
      "232/232 [==============================] - 3s 15ms/step - loss: 2414.1696 - mean_absolute_error: 37.2467 - val_loss: 10987.3721 - val_mean_absolute_error: 67.3879\n",
      "Epoch 97/100\n",
      "232/232 [==============================] - 3s 14ms/step - loss: 2211.2527 - mean_absolute_error: 35.5759 - val_loss: 10126.3528 - val_mean_absolute_error: 66.4209\n",
      "Epoch 98/100\n",
      "232/232 [==============================] - 3s 14ms/step - loss: 2188.4062 - mean_absolute_error: 35.1079 - val_loss: 10024.4159 - val_mean_absolute_error: 65.1970\n",
      "Epoch 99/100\n",
      "232/232 [==============================] - 3s 15ms/step - loss: 2092.7358 - mean_absolute_error: 33.8415 - val_loss: 10611.6923 - val_mean_absolute_error: 66.4919\n",
      "Epoch 100/100\n",
      "232/232 [==============================] - 3s 14ms/step - loss: 2288.4198 - mean_absolute_error: 36.8964 - val_loss: 11165.0910 - val_mean_absolute_error: 66.2969\n"
     ]
    },
    {
     "data": {
      "text/plain": [
       "<keras.callbacks.History at 0x2bfe2d61b38>"
      ]
     },
     "execution_count": 46,
     "metadata": {},
     "output_type": "execute_result"
    }
   ],
   "source": [
    "model.fit(X_train, y_train.reshape(-1,1), batch_size=32, validation_data=(X_test, y_test.reshape(-1,1)), epochs=100)"
   ]
  },
  {
   "cell_type": "markdown",
   "metadata": {},
   "source": [
    "### plot error after 100 epochs"
   ]
  },
  {
   "cell_type": "code",
   "execution_count": 47,
   "metadata": {},
   "outputs": [
    {
     "data": {
      "image/png": "[encoded data removed]",
      "text/plain": [
       "<Figure size 600x400 with 2 Axes>"
      ]
     },
     "metadata": {
      "needs_background": "light"
     },
     "output_type": "display_data"
    }
   ],
   "source": [
    "mutls.ModelUtils.plot_model_error(X_train, X_test, y_train, y_test, model)"
   ]
  },
  {
   "cell_type": "markdown",
   "metadata": {},
   "source": [
    "#### Calculate metrics after 100 epochs"
   ]
  },
  {
   "cell_type": "code",
   "execution_count": 48,
   "metadata": {},
   "outputs": [
    {
     "data": {
      "text/plain": [
       "0.8945033837637489"
      ]
     },
     "execution_count": 48,
     "metadata": {},
     "output_type": "execute_result"
    }
   ],
   "source": [
    "metrics.r2_score(y_train.reshape(-1,1),model.predict(X_train))"
   ]
  },
  {
   "cell_type": "code",
   "execution_count": 49,
   "metadata": {},
   "outputs": [
    {
     "data": {
      "text/plain": [
       "0.4804887724012624"
      ]
     },
     "execution_count": 49,
     "metadata": {},
     "output_type": "execute_result"
    }
   ],
   "source": [
    "metrics.r2_score(y_test.reshape(-1,1),model.predict(X_test))"
   ]
  },
  {
   "cell_type": "code",
   "execution_count": 50,
   "metadata": {},
   "outputs": [
    {
     "data": {
      "text/plain": [
       "35.05310918084506"
      ]
     },
     "execution_count": 50,
     "metadata": {},
     "output_type": "execute_result"
    }
   ],
   "source": [
    "metrics.mean_absolute_error(y_train.reshape(-1,1),model.predict(X_train))"
   ]
  },
  {
   "cell_type": "code",
   "execution_count": 51,
   "metadata": {},
   "outputs": [
    {
     "data": {
      "text/plain": [
       "66.29686413781117"
      ]
     },
     "execution_count": 51,
     "metadata": {},
     "output_type": "execute_result"
    }
   ],
   "source": [
    "metrics.mean_absolute_error(y_test.reshape(-1,1),model.predict(X_test))"
   ]
  },
  {
   "cell_type": "markdown",
   "metadata": {},
   "source": [
    "#### another 50 epochs "
   ]
  },
  {
   "cell_type": "code",
   "execution_count": 52,
   "metadata": {},
   "outputs": [
    {
     "name": "stdout",
     "output_type": "stream",
     "text": [
      "Train on 232 samples, validate on 59 samples\n",
      "Epoch 1/50\n",
      "232/232 [==============================] - 3s 13ms/step - loss: 3455.1483 - mean_absolute_error: 42.6024 - val_loss: 10947.4573 - val_mean_absolute_error: 68.9825\n",
      "Epoch 2/50\n",
      "232/232 [==============================] - 3s 14ms/step - loss: 3355.9276 - mean_absolute_error: 41.8084 - val_loss: 8461.3985 - val_mean_absolute_error: 62.6919\n",
      "Epoch 3/50\n",
      "232/232 [==============================] - 3s 14ms/step - loss: 2623.5653 - mean_absolute_error: 38.6117 - val_loss: 9504.9016 - val_mean_absolute_error: 63.4574\n",
      "Epoch 4/50\n",
      "232/232 [==============================] - 4s 15ms/step - loss: 2587.0354 - mean_absolute_error: 37.8825 - val_loss: 8388.7515 - val_mean_absolute_error: 61.2534\n",
      "Epoch 5/50\n",
      "232/232 [==============================] - 3s 14ms/step - loss: 2344.6666 - mean_absolute_error: 37.0549 - val_loss: 9852.4581 - val_mean_absolute_error: 67.8470\n",
      "Epoch 6/50\n",
      "232/232 [==============================] - 3s 13ms/step - loss: 2207.2850 - mean_absolute_error: 36.5228 - val_loss: 11599.2677 - val_mean_absolute_error: 71.0197\n",
      "Epoch 7/50\n",
      "232/232 [==============================] - 3s 14ms/step - loss: 1898.1956 - mean_absolute_error: 32.9522 - val_loss: 11182.9825 - val_mean_absolute_error: 68.2021\n",
      "Epoch 8/50\n",
      "232/232 [==============================] - 3s 13ms/step - loss: 1723.7518 - mean_absolute_error: 30.8111 - val_loss: 9696.0990 - val_mean_absolute_error: 62.8781\n",
      "Epoch 9/50\n",
      "232/232 [==============================] - 3s 13ms/step - loss: 1886.9406 - mean_absolute_error: 31.9256 - val_loss: 9775.0949 - val_mean_absolute_error: 63.3267\n",
      "Epoch 10/50\n",
      "232/232 [==============================] - 3s 13ms/step - loss: 1825.6501 - mean_absolute_error: 33.2829 - val_loss: 11096.3283 - val_mean_absolute_error: 66.2367\n",
      "Epoch 11/50\n",
      "232/232 [==============================] - 3s 13ms/step - loss: 1720.4620 - mean_absolute_error: 31.3527 - val_loss: 10086.1489 - val_mean_absolute_error: 65.4377\n",
      "Epoch 12/50\n",
      "232/232 [==============================] - 3s 13ms/step - loss: 1721.3022 - mean_absolute_error: 31.4277 - val_loss: 10555.6842 - val_mean_absolute_error: 63.9154\n",
      "Epoch 13/50\n",
      "232/232 [==============================] - 3s 13ms/step - loss: 1937.4499 - mean_absolute_error: 33.3233 - val_loss: 10242.3687 - val_mean_absolute_error: 65.6321\n",
      "Epoch 14/50\n",
      "232/232 [==============================] - 3s 14ms/step - loss: 1622.9083 - mean_absolute_error: 29.6152 - val_loss: 9167.4858 - val_mean_absolute_error: 62.3518\n",
      "Epoch 15/50\n",
      "232/232 [==============================] - 3s 13ms/step - loss: 1902.6653 - mean_absolute_error: 33.3188 - val_loss: 9360.3547 - val_mean_absolute_error: 64.4123\n",
      "Epoch 16/50\n",
      "232/232 [==============================] - 3s 15ms/step - loss: 2342.2554 - mean_absolute_error: 36.3863 - val_loss: 7495.0064 - val_mean_absolute_error: 57.6039\n",
      "Epoch 17/50\n",
      "232/232 [==============================] - 4s 17ms/step - loss: 1883.3387 - mean_absolute_error: 32.7533 - val_loss: 8639.5207 - val_mean_absolute_error: 60.6305\n",
      "Epoch 18/50\n",
      "232/232 [==============================] - 4s 16ms/step - loss: 1620.3510 - mean_absolute_error: 30.5066 - val_loss: 8657.3166 - val_mean_absolute_error: 60.9059\n",
      "Epoch 19/50\n",
      "232/232 [==============================] - 3s 14ms/step - loss: 1495.3531 - mean_absolute_error: 28.8400 - val_loss: 8813.3842 - val_mean_absolute_error: 61.6736\n",
      "Epoch 20/50\n",
      "232/232 [==============================] - 3s 14ms/step - loss: 1462.4971 - mean_absolute_error: 28.6890 - val_loss: 9308.3464 - val_mean_absolute_error: 62.9781\n",
      "Epoch 21/50\n",
      "232/232 [==============================] - 3s 14ms/step - loss: 1358.5105 - mean_absolute_error: 27.7363 - val_loss: 9705.3904 - val_mean_absolute_error: 60.7542\n",
      "Epoch 22/50\n",
      "232/232 [==============================] - 3s 14ms/step - loss: 1445.3408 - mean_absolute_error: 28.2289 - val_loss: 8327.8394 - val_mean_absolute_error: 60.6927\n",
      "Epoch 23/50\n",
      "232/232 [==============================] - 3s 14ms/step - loss: 1457.4635 - mean_absolute_error: 28.5587 - val_loss: 10076.4078 - val_mean_absolute_error: 62.5989\n",
      "Epoch 24/50\n",
      "232/232 [==============================] - 3s 14ms/step - loss: 1348.6480 - mean_absolute_error: 27.6919 - val_loss: 9505.6686 - val_mean_absolute_error: 61.8225\n",
      "Epoch 25/50\n",
      "232/232 [==============================] - 3s 14ms/step - loss: 1379.5100 - mean_absolute_error: 26.8935 - val_loss: 10712.9287 - val_mean_absolute_error: 65.1875\n",
      "Epoch 26/50\n",
      "232/232 [==============================] - 3s 14ms/step - loss: 1551.7739 - mean_absolute_error: 29.3881 - val_loss: 8169.7028 - val_mean_absolute_error: 58.7138\n",
      "Epoch 27/50\n",
      "232/232 [==============================] - 3s 14ms/step - loss: 1575.3916 - mean_absolute_error: 29.4009 - val_loss: 9850.4846 - val_mean_absolute_error: 62.4404\n",
      "Epoch 28/50\n",
      "232/232 [==============================] - 3s 15ms/step - loss: 1296.5210 - mean_absolute_error: 26.4904 - val_loss: 9752.9177 - val_mean_absolute_error: 64.2759\n",
      "Epoch 29/50\n",
      "232/232 [==============================] - 3s 14ms/step - loss: 1234.6383 - mean_absolute_error: 26.1532 - val_loss: 10721.7662 - val_mean_absolute_error: 62.9267\n",
      "Epoch 30/50\n",
      "232/232 [==============================] - 3s 14ms/step - loss: 1242.6053 - mean_absolute_error: 25.8329 - val_loss: 10234.5485 - val_mean_absolute_error: 63.8948\n",
      "Epoch 31/50\n",
      "232/232 [==============================] - 3s 14ms/step - loss: 1265.1821 - mean_absolute_error: 26.5497 - val_loss: 9514.7999 - val_mean_absolute_error: 63.4022\n",
      "Epoch 32/50\n",
      "232/232 [==============================] - 3s 14ms/step - loss: 1143.7215 - mean_absolute_error: 24.8619 - val_loss: 9633.7434 - val_mean_absolute_error: 62.8280\n",
      "Epoch 33/50\n",
      "232/232 [==============================] - 3s 14ms/step - loss: 1243.2597 - mean_absolute_error: 26.5518 - val_loss: 9278.1423 - val_mean_absolute_error: 62.3664\n",
      "Epoch 34/50\n",
      "232/232 [==============================] - 3s 14ms/step - loss: 1255.7030 - mean_absolute_error: 26.5919 - val_loss: 7790.9090 - val_mean_absolute_error: 58.6931\n",
      "Epoch 35/50\n",
      "232/232 [==============================] - 3s 14ms/step - loss: 1215.4876 - mean_absolute_error: 25.8477 - val_loss: 10002.9004 - val_mean_absolute_error: 64.0933\n",
      "Epoch 36/50\n",
      "232/232 [==============================] - 3s 14ms/step - loss: 1134.8138 - mean_absolute_error: 24.6212 - val_loss: 10973.4771 - val_mean_absolute_error: 65.9370\n",
      "Epoch 37/50\n",
      "232/232 [==============================] - 3s 14ms/step - loss: 1089.8413 - mean_absolute_error: 24.1779 - val_loss: 9335.6923 - val_mean_absolute_error: 63.2637\n",
      "Epoch 38/50\n",
      "232/232 [==============================] - 3s 14ms/step - loss: 1050.3434 - mean_absolute_error: 23.6568 - val_loss: 10259.6516 - val_mean_absolute_error: 63.5749\n",
      "Epoch 39/50\n",
      "232/232 [==============================] - 3s 14ms/step - loss: 1097.5421 - mean_absolute_error: 24.3151 - val_loss: 9720.7852 - val_mean_absolute_error: 64.8982\n",
      "Epoch 40/50\n",
      "232/232 [==============================] - 3s 14ms/step - loss: 1421.3230 - mean_absolute_error: 28.4642 - val_loss: 6565.4906 - val_mean_absolute_error: 58.1712\n",
      "Epoch 41/50\n",
      "232/232 [==============================] - 3s 14ms/step - loss: 1505.4527 - mean_absolute_error: 28.5643 - val_loss: 8418.7591 - val_mean_absolute_error: 61.4611\n",
      "Epoch 42/50\n",
      "232/232 [==============================] - 3s 14ms/step - loss: 1648.0807 - mean_absolute_error: 31.0725 - val_loss: 8996.2111 - val_mean_absolute_error: 62.3851\n",
      "Epoch 43/50\n",
      "232/232 [==============================] - 3s 14ms/step - loss: 1467.3773 - mean_absolute_error: 29.3262 - val_loss: 9567.4301 - val_mean_absolute_error: 64.9102\n",
      "Epoch 44/50\n",
      "232/232 [==============================] - 3s 14ms/step - loss: 1493.5413 - mean_absolute_error: 28.9704 - val_loss: 8506.0207 - val_mean_absolute_error: 61.1975\n",
      "Epoch 45/50\n",
      "232/232 [==============================] - 3s 14ms/step - loss: 1415.9023 - mean_absolute_error: 28.1028 - val_loss: 10609.3905 - val_mean_absolute_error: 69.3869\n",
      "Epoch 46/50\n",
      "232/232 [==============================] - 3s 14ms/step - loss: 1515.7536 - mean_absolute_error: 29.0308 - val_loss: 9793.7653 - val_mean_absolute_error: 62.9158\n",
      "Epoch 47/50\n",
      "232/232 [==============================] - 3s 14ms/step - loss: 1466.1269 - mean_absolute_error: 29.3872 - val_loss: 9809.9741 - val_mean_absolute_error: 60.7333\n"
     ]
    },
    {
     "name": "stdout",
     "output_type": "stream",
     "text": [
      "Epoch 48/50\n",
      "232/232 [==============================] - 3s 14ms/step - loss: 1535.9048 - mean_absolute_error: 28.1544 - val_loss: 10680.8898 - val_mean_absolute_error: 68.7111\n",
      "Epoch 49/50\n",
      "232/232 [==============================] - 3s 14ms/step - loss: 1360.7975 - mean_absolute_error: 27.6975 - val_loss: 9343.6686 - val_mean_absolute_error: 63.2979\n",
      "Epoch 50/50\n",
      "232/232 [==============================] - 3s 13ms/step - loss: 1333.0976 - mean_absolute_error: 26.9428 - val_loss: 8200.8606 - val_mean_absolute_error: 60.1830\n"
     ]
    },
    {
     "data": {
      "text/plain": [
       "<keras.callbacks.History at 0x2bfe4570588>"
      ]
     },
     "execution_count": 52,
     "metadata": {},
     "output_type": "execute_result"
    }
   ],
   "source": [
    "model.fit(X_train, y_train.reshape(-1,1), batch_size=32, validation_data=(X_test, y_test.reshape(-1,1)), epochs=50)"
   ]
  },
  {
   "cell_type": "code",
   "execution_count": 53,
   "metadata": {},
   "outputs": [
    {
     "data": {
      "image/png": "[encoded data removed]",
      "text/plain": [
       "<Figure size 600x400 with 2 Axes>"
      ]
     },
     "metadata": {
      "needs_background": "light"
     },
     "output_type": "display_data"
    }
   ],
   "source": [
    "mutls.ModelUtils.plot_model_error(X_train, X_test, y_train, y_test, model)"
   ]
  },
  {
   "cell_type": "code",
   "execution_count": 54,
   "metadata": {},
   "outputs": [
    {
     "data": {
      "text/plain": [
       "0.9390436975774493"
      ]
     },
     "execution_count": 54,
     "metadata": {},
     "output_type": "execute_result"
    }
   ],
   "source": [
    "metrics.r2_score(y_train.reshape(-1,1),model.predict(X_train))"
   ]
  },
  {
   "cell_type": "code",
   "execution_count": 55,
   "metadata": {},
   "outputs": [
    {
     "data": {
      "text/plain": [
       "0.6184142676059865"
      ]
     },
     "execution_count": 55,
     "metadata": {},
     "output_type": "execute_result"
    }
   ],
   "source": [
    "metrics.r2_score(y_test.reshape(-1,1),model.predict(X_test))"
   ]
  },
  {
   "cell_type": "code",
   "execution_count": 56,
   "metadata": {},
   "outputs": [
    {
     "data": {
      "text/plain": [
       "25.93636150228566"
      ]
     },
     "execution_count": 56,
     "metadata": {},
     "output_type": "execute_result"
    }
   ],
   "source": [
    "metrics.mean_absolute_error(y_train.reshape(-1,1),model.predict(X_train))"
   ]
  },
  {
   "cell_type": "code",
   "execution_count": 57,
   "metadata": {},
   "outputs": [
    {
     "data": {
      "text/plain": [
       "60.18302814031051"
      ]
     },
     "execution_count": 57,
     "metadata": {},
     "output_type": "execute_result"
    }
   ],
   "source": [
    "metrics.mean_absolute_error(y_test.reshape(-1,1),model.predict(X_test))"
   ]
  },
  {
   "cell_type": "markdown",
   "metadata": {},
   "source": [
    "#### another 25 epochs "
   ]
  },
  {
   "cell_type": "code",
   "execution_count": 59,
   "metadata": {},
   "outputs": [
    {
     "name": "stdout",
     "output_type": "stream",
     "text": [
      "Train on 232 samples, validate on 59 samples\n",
      "Epoch 1/25\n",
      "232/232 [==============================] - 3s 13ms/step - loss: 1107.1168 - mean_absolute_error: 24.2664 - val_loss: 9444.8452 - val_mean_absolute_error: 63.2462\n",
      "Epoch 2/25\n",
      "232/232 [==============================] - 3s 13ms/step - loss: 1074.5614 - mean_absolute_error: 23.9291 - val_loss: 9548.1624 - val_mean_absolute_error: 62.6037\n",
      "Epoch 3/25\n",
      "232/232 [==============================] - 3s 13ms/step - loss: 1033.6848 - mean_absolute_error: 23.4231 - val_loss: 9296.1054 - val_mean_absolute_error: 62.4990\n",
      "Epoch 4/25\n",
      "232/232 [==============================] - 3s 13ms/step - loss: 1002.1034 - mean_absolute_error: 23.7485 - val_loss: 8938.2814 - val_mean_absolute_error: 60.0269\n",
      "Epoch 5/25\n",
      "232/232 [==============================] - 3s 13ms/step - loss: 1111.6081 - mean_absolute_error: 23.8538 - val_loss: 9492.7164 - val_mean_absolute_error: 64.5240\n",
      "Epoch 6/25\n",
      "232/232 [==============================] - 3s 13ms/step - loss: 1052.8282 - mean_absolute_error: 24.2768 - val_loss: 8957.2291 - val_mean_absolute_error: 61.0727\n",
      "Epoch 7/25\n",
      "232/232 [==============================] - 3s 13ms/step - loss: 1085.7962 - mean_absolute_error: 25.0941 - val_loss: 8846.8896 - val_mean_absolute_error: 60.6855\n",
      "Epoch 8/25\n",
      "232/232 [==============================] - 3s 13ms/step - loss: 913.9878 - mean_absolute_error: 22.5462 - val_loss: 8669.0312 - val_mean_absolute_error: 60.5675\n",
      "Epoch 9/25\n",
      "232/232 [==============================] - 3s 13ms/step - loss: 893.4994 - mean_absolute_error: 21.6260 - val_loss: 7433.5423 - val_mean_absolute_error: 57.6697\n",
      "Epoch 10/25\n",
      "232/232 [==============================] - 3s 13ms/step - loss: 930.4250 - mean_absolute_error: 21.8130 - val_loss: 8559.3595 - val_mean_absolute_error: 60.5368\n",
      "Epoch 11/25\n",
      "232/232 [==============================] - 3s 13ms/step - loss: 881.8799 - mean_absolute_error: 21.0906 - val_loss: 8669.2069 - val_mean_absolute_error: 61.8344\n",
      "Epoch 12/25\n",
      "232/232 [==============================] - 3s 13ms/step - loss: 835.4987 - mean_absolute_error: 20.5593 - val_loss: 8658.1700 - val_mean_absolute_error: 62.1129\n",
      "Epoch 13/25\n",
      "232/232 [==============================] - 3s 13ms/step - loss: 813.3512 - mean_absolute_error: 20.5512 - val_loss: 9505.7053 - val_mean_absolute_error: 62.1696\n",
      "Epoch 14/25\n",
      "232/232 [==============================] - 3s 13ms/step - loss: 959.5442 - mean_absolute_error: 22.7814 - val_loss: 8620.4035 - val_mean_absolute_error: 62.0465\n",
      "Epoch 15/25\n",
      "232/232 [==============================] - 3s 14ms/step - loss: 784.3610 - mean_absolute_error: 21.0902 - val_loss: 8418.0063 - val_mean_absolute_error: 61.5076\n",
      "Epoch 16/25\n",
      "232/232 [==============================] - 3s 14ms/step - loss: 801.6108 - mean_absolute_error: 20.7837 - val_loss: 8997.7982 - val_mean_absolute_error: 61.7380\n",
      "Epoch 17/25\n",
      "232/232 [==============================] - 3s 14ms/step - loss: 761.0404 - mean_absolute_error: 19.5944 - val_loss: 9196.6927 - val_mean_absolute_error: 62.0613\n",
      "Epoch 18/25\n",
      "232/232 [==============================] - 4s 15ms/step - loss: 714.8087 - mean_absolute_error: 19.4345 - val_loss: 8391.1950 - val_mean_absolute_error: 60.1779\n",
      "Epoch 19/25\n",
      "232/232 [==============================] - 3s 14ms/step - loss: 782.8800 - mean_absolute_error: 20.4531 - val_loss: 7778.3956 - val_mean_absolute_error: 58.2062\n",
      "Epoch 20/25\n",
      "232/232 [==============================] - 3s 14ms/step - loss: 768.8380 - mean_absolute_error: 20.0627 - val_loss: 8043.0399 - val_mean_absolute_error: 60.5186\n",
      "Epoch 21/25\n",
      "232/232 [==============================] - 3s 14ms/step - loss: 814.0375 - mean_absolute_error: 21.2597 - val_loss: 8913.2523 - val_mean_absolute_error: 61.4895\n",
      "Epoch 22/25\n",
      "232/232 [==============================] - 3s 14ms/step - loss: 748.9541 - mean_absolute_error: 20.8099 - val_loss: 8938.5046 - val_mean_absolute_error: 62.4785\n",
      "Epoch 23/25\n",
      "232/232 [==============================] - 3s 14ms/step - loss: 714.7074 - mean_absolute_error: 19.7839 - val_loss: 9688.7148 - val_mean_absolute_error: 62.8193\n",
      "Epoch 24/25\n",
      "232/232 [==============================] - 4s 17ms/step - loss: 671.4054 - mean_absolute_error: 19.5277 - val_loss: 9194.1880 - val_mean_absolute_error: 62.5052\n",
      "Epoch 25/25\n",
      "232/232 [==============================] - 3s 14ms/step - loss: 670.6162 - mean_absolute_error: 19.2484 - val_loss: 7701.4371 - val_mean_absolute_error: 60.3472\n"
     ]
    },
    {
     "data": {
      "text/plain": [
       "<keras.callbacks.History at 0x2bfe74f7da0>"
      ]
     },
     "execution_count": 59,
     "metadata": {},
     "output_type": "execute_result"
    }
   ],
   "source": [
    "model.fit(X_train, y_train.reshape(-1,1), batch_size=32, validation_data=(X_test, y_test.reshape(-1,1)), epochs=25)"
   ]
  },
  {
   "cell_type": "code",
   "execution_count": 60,
   "metadata": {},
   "outputs": [
    {
     "data": {
      "image/png": "[encoded data removed]",
      "text/plain": [
       "<Figure size 600x400 with 2 Axes>"
      ]
     },
     "metadata": {
      "needs_background": "light"
     },
     "output_type": "display_data"
    }
   ],
   "source": [
    "mutls.ModelUtils.plot_model_error(X_train, X_test, y_train, y_test, model)"
   ]
  },
  {
   "cell_type": "code",
   "execution_count": 62,
   "metadata": {},
   "outputs": [
    {
     "name": "stdout",
     "output_type": "stream",
     "text": [
      "train R2 is 0.9681928487601932\n",
      "test R2 is 0.6416524410660247\n"
     ]
    }
   ],
   "source": [
    "print(\"train R2 is %s\" % metrics.r2_score(y_train.reshape(-1,1),model.predict(X_train)))\n",
    "print(\"test R2 is %s\" % metrics.r2_score(y_test.reshape(-1,1),model.predict(X_test)))"
   ]
  },
  {
   "cell_type": "code",
   "execution_count": 63,
   "metadata": {},
   "outputs": [
    {
     "name": "stdout",
     "output_type": "stream",
     "text": [
      "train mean abs err is 18.85860572551859\n",
      "test mean abs err is 60.34719202073954\n"
     ]
    }
   ],
   "source": [
    "print(\"train mean abs err is %s\" % metrics.mean_absolute_error(y_train.reshape(-1,1),model.predict(X_train)))\n",
    "print(\"test mean abs err is %s\" % metrics.mean_absolute_error(y_test.reshape(-1,1),model.predict(X_test)))"
   ]
  },
  {
   "cell_type": "markdown",
   "metadata": {},
   "source": [
    "After 175 epochs total, train absolute error ~18nm, val absolute error ~60"
   ]
  },
  {
   "cell_type": "markdown",
   "metadata": {},
   "source": [
    "#### plot error of the model"
   ]
  },
  {
   "cell_type": "code",
   "execution_count": 14,
   "metadata": {},
   "outputs": [],
   "source": []
  },
  {
   "cell_type": "code",
   "execution_count": null,
   "metadata": {},
   "outputs": [],
   "source": []
  },
  {
   "cell_type": "markdown",
   "metadata": {},
   "source": [
    "### Model 2 consider transform y to make y more normal distributed, resulted in more error"
   ]
  },
  {
   "cell_type": "code",
   "execution_count": 64,
   "metadata": {},
   "outputs": [],
   "source": [
    "def tranform_log(x_list, b): #log(x-b)\n",
    "    return np.log(list(x_list-b))"
   ]
  },
  {
   "cell_type": "code",
   "execution_count": 65,
   "metadata": {},
   "outputs": [],
   "source": [
    "y_log = tranform_log(y_wl,y_wl.min()-10)"
   ]
  },
  {
   "cell_type": "code",
   "execution_count": null,
   "metadata": {},
   "outputs": [],
   "source": []
  },
  {
   "cell_type": "code",
   "execution_count": 66,
   "metadata": {},
   "outputs": [],
   "source": [
    "def inverse_log(transformed_x,b):\n",
    "    return np.exp(transformed_x)+b"
   ]
  },
  {
   "cell_type": "code",
   "execution_count": 67,
   "metadata": {},
   "outputs": [
    {
     "data": {
      "text/plain": [
       "array([254.75, 261.75, 263.  , 265.  , 275.  , 265.  , 278.  , 271.  ,\n",
       "       271.  , 270.75, 220.  , 222.  , 242.  , 227.  , 241.  , 288.  ,\n",
       "       251.  , 279.  , 265.  , 228.  , 258.  , 248.  , 236.  , 274.  ,\n",
       "       277.  , 227.  , 222.  , 218.  , 310.25, 291.  , 240.  , 251.  ,\n",
       "       263.  , 245.  , 302.  , 252.  , 283.  , 225.  , 316.  , 230.  ,\n",
       "       442.  , 247.5 , 276.25, 294.75, 312.  , 251.  , 206.  , 209.  ,\n",
       "       212.  , 302.75, 359.  , 245.  , 223.  , 278.  , 275.  , 356.25,\n",
       "       475.  , 578.  , 252.  , 241.  , 258.  , 372.5 , 270.25, 303.  ,\n",
       "       228.  , 239.  , 245.  , 218.  , 227.  , 235.  , 278.75, 276.  ,\n",
       "       293.75, 326.  , 330.  , 353.25, 432.25, 425.  , 372.  , 451.  ,\n",
       "       251.  , 276.  , 227.  , 257.  , 265.  , 270.  , 215.  , 281.  ,\n",
       "       238.  , 204.  , 219.  , 245.  , 217.  , 253.  , 231.75, 206.  ,\n",
       "       278.  , 502.  , 413.  , 286.  , 336.  , 460.5 , 219.  , 413.  ,\n",
       "       247.  , 349.  , 262.  , 257.5 , 274.25, 211.  , 278.  , 261.  ,\n",
       "       243.  , 266.75, 263.75, 258.25, 228.  , 259.  , 212.  , 263.  ,\n",
       "       265.  , 206.  , 248.  , 281.  , 239.75, 225.  , 288.  , 211.  ,\n",
       "       270.  , 287.  , 458.  , 243.  , 258.  , 267.  , 401.  , 246.  ,\n",
       "       255.  , 280.  , 251.  , 268.  , 249.  , 250.  , 251.25, 248.  ,\n",
       "       250.  , 233.  , 296.  , 303.  , 275.  , 280.  , 326.  , 338.  ,\n",
       "       323.75, 373.25, 459.25, 436.  , 407.5 , 384.  , 436.  , 444.75,\n",
       "       361.  , 278.  , 247.  , 261.  , 270.5 , 264.  , 249.  , 248.  ,\n",
       "       533.  , 278.  , 587.  , 253.  , 605.  , 656.  , 628.  , 237.  ,\n",
       "       239.  , 642.5 , 603.  , 519.4 , 627.5 , 613.25, 319.  , 430.  ,\n",
       "       466.  , 478.  , 486.  , 503.  , 481.  , 498.  , 555.  , 530.  ,\n",
       "       512.  , 563.  , 504.  , 518.  , 619.  , 513.  , 483.  , 497.  ,\n",
       "       606.  , 524.25, 603.5 , 711.  , 592.  , 709.5 , 818.  , 485.  ,\n",
       "       582.  , 687.5 , 544.25, 637.5 , 789.  , 559.25, 655.75, 763.25,\n",
       "       559.5 , 468.  , 575.5 , 431.25, 616.5 , 590.5 , 543.  , 632.  ,\n",
       "       590.  , 554.  , 558.  , 573.  , 597.  , 435.75, 507.  , 528.  ,\n",
       "       500.25, 502.  , 509.  , 524.75, 535.  , 559.  , 261.  , 511.75,\n",
       "       542.75, 553.  , 529.75, 576.  , 338.5 , 279.75, 325.  , 249.  ,\n",
       "       285.  , 344.  , 345.5 , 627.25, 276.  , 424.  , 535.  , 205.  ,\n",
       "       203.  , 208.  , 396.25, 402.  , 400.  , 409.75, 400.  , 404.25,\n",
       "       419.25, 422.75, 419.  , 420.  , 419.  , 417.  , 408.  , 385.9 ,\n",
       "       429.  , 416.  , 408.  , 491.  , 450.75, 377.  , 361.  , 698.5 ,\n",
       "       674.  , 674.  , 624.38, 429.  , 453.  , 410.  , 413.  , 414.  ,\n",
       "       401.  , 413.  , 780.2 ])"
      ]
     },
     "execution_count": 67,
     "metadata": {},
     "output_type": "execute_result"
    }
   ],
   "source": [
    "inverse_log(y_log, y_wl.min()-10)"
   ]
  },
  {
   "cell_type": "code",
   "execution_count": 68,
   "metadata": {},
   "outputs": [
    {
     "data": {
      "text/plain": [
       "(array([ 7.,  6., 15., 23., 57., 39., 21., 46., 55., 22.]),\n",
       " array([2.30258509, 2.71610175, 3.1296184 , 3.54313506, 3.95665172,\n",
       "        4.37016837, 4.78368503, 5.19720168, 5.61071834, 6.02423499,\n",
       "        6.43775165]),\n",
       " <a list of 10 Patch objects>)"
      ]
     },
     "execution_count": 68,
     "metadata": {},
     "output_type": "execute_result"
    },
    {
     "data": {
      "image/png": "[encoded data removed]",
      "text/plain": [
       "<Figure size 432x288 with 1 Axes>"
      ]
     },
     "metadata": {
      "needs_background": "light"
     },
     "output_type": "display_data"
    }
   ],
   "source": [
    "X_train, X_test, y_train, y_test=du.DataUtils.splitData(x_encode, y_log, ratio=0.2)\n",
    "plt.hist(y_log.tolist())"
   ]
  },
  {
   "cell_type": "code",
   "execution_count": 115,
   "metadata": {},
   "outputs": [],
   "source": [
    "from keras import backend as K"
   ]
  },
  {
   "cell_type": "code",
   "execution_count": null,
   "metadata": {},
   "outputs": [],
   "source": []
  },
  {
   "cell_type": "code",
   "execution_count": 124,
   "metadata": {},
   "outputs": [],
   "source": [
    "def mean_abs_exp_error(y_true, y_pred):    \n",
    "    from keras import backend as K\n",
    "    first_exp = K.exp(y_pred)\n",
    "    second_exp = K.exp(y_true)    \n",
    "    return K.mean(K.abs(first_exp - second_exp), axis=-1)"
   ]
  },
  {
   "cell_type": "code",
   "execution_count": 125,
   "metadata": {},
   "outputs": [
    {
     "name": "stdout",
     "output_type": "stream",
     "text": [
      "_________________________________________________________________\n",
      "Layer (type)                 Output Shape              Param #   \n",
      "=================================================================\n",
      "embedding_4 (Embedding)      (None, 279, 50)           2100      \n",
      "_________________________________________________________________\n",
      "lstm_8 (LSTM)                (None, 279, 50)           20200     \n",
      "_________________________________________________________________\n",
      "batch_normalization_3 (Batch (None, 279, 50)           200       \n",
      "_________________________________________________________________\n",
      "lstm_9 (LSTM)                (None, 279, 50)           20200     \n",
      "_________________________________________________________________\n",
      "dropout_4 (Dropout)          (None, 279, 50)           0         \n",
      "_________________________________________________________________\n",
      "lstm_10 (LSTM)               (None, 279, 50)           20200     \n",
      "_________________________________________________________________\n",
      "dropout_5 (Dropout)          (None, 279, 50)           0         \n",
      "_________________________________________________________________\n",
      "dense_5 (Dense)              (None, 279, 50)           2550      \n",
      "_________________________________________________________________\n",
      "flatten_3 (Flatten)          (None, 13950)             0         \n",
      "_________________________________________________________________\n",
      "dense_6 (Dense)              (None, 1)                 13951     \n",
      "=================================================================\n",
      "Total params: 79,401\n",
      "Trainable params: 79,301\n",
      "Non-trainable params: 100\n",
      "_________________________________________________________________\n"
     ]
    }
   ],
   "source": [
    "model.compile(loss=mean_abs_exp_error, optimizer='Adam', metrics=['mean_absolute_error'])\n",
    "model.summary() ##use mean_squared_error loss"
   ]
  },
  {
   "cell_type": "code",
   "execution_count": 126,
   "metadata": {},
   "outputs": [
    {
     "name": "stdout",
     "output_type": "stream",
     "text": [
      "Train on 232 samples, validate on 59 samples\n",
      "Epoch 1/50\n",
      "232/232 [==============================] - 7s 32ms/step - loss: nan - mean_absolute_error: nan - val_loss: nan - val_mean_absolute_error: nan\n",
      "Epoch 2/50\n",
      "232/232 [==============================] - 3s 13ms/step - loss: nan - mean_absolute_error: nan - val_loss: nan - val_mean_absolute_error: nan\n",
      "Epoch 3/50\n",
      "232/232 [==============================] - 3s 13ms/step - loss: nan - mean_absolute_error: nan - val_loss: nan - val_mean_absolute_error: nan\n",
      "Epoch 4/50\n",
      "232/232 [==============================] - 3s 13ms/step - loss: nan - mean_absolute_error: nan - val_loss: nan - val_mean_absolute_error: nan\n",
      "Epoch 5/50\n",
      "232/232 [==============================] - 3s 13ms/step - loss: nan - mean_absolute_error: nan - val_loss: nan - val_mean_absolute_error: nan\n",
      "Epoch 6/50\n",
      "232/232 [==============================] - 3s 13ms/step - loss: nan - mean_absolute_error: nan - val_loss: nan - val_mean_absolute_error: nan\n",
      "Epoch 7/50\n",
      "232/232 [==============================] - 3s 13ms/step - loss: nan - mean_absolute_error: nan - val_loss: nan - val_mean_absolute_error: nan\n",
      "Epoch 8/50\n",
      "232/232 [==============================] - 3s 13ms/step - loss: nan - mean_absolute_error: nan - val_loss: nan - val_mean_absolute_error: nan\n",
      "Epoch 9/50\n",
      "232/232 [==============================] - 3s 13ms/step - loss: nan - mean_absolute_error: nan - val_loss: nan - val_mean_absolute_error: nan\n",
      "Epoch 10/50\n",
      "232/232 [==============================] - 3s 13ms/step - loss: nan - mean_absolute_error: nan - val_loss: nan - val_mean_absolute_error: nan\n",
      "Epoch 11/50\n",
      "232/232 [==============================] - 3s 13ms/step - loss: nan - mean_absolute_error: nan - val_loss: nan - val_mean_absolute_error: nan\n",
      "Epoch 12/50\n",
      "232/232 [==============================] - 3s 13ms/step - loss: nan - mean_absolute_error: nan - val_loss: nan - val_mean_absolute_error: nan\n",
      "Epoch 13/50\n",
      "232/232 [==============================] - 3s 13ms/step - loss: nan - mean_absolute_error: nan - val_loss: nan - val_mean_absolute_error: nan\n",
      "Epoch 14/50\n",
      "232/232 [==============================] - 3s 13ms/step - loss: nan - mean_absolute_error: nan - val_loss: nan - val_mean_absolute_error: nan\n",
      "Epoch 15/50\n",
      "232/232 [==============================] - 3s 14ms/step - loss: nan - mean_absolute_error: nan - val_loss: nan - val_mean_absolute_error: nan\n",
      "Epoch 16/50\n",
      "232/232 [==============================] - 3s 14ms/step - loss: nan - mean_absolute_error: nan - val_loss: nan - val_mean_absolute_error: nan\n",
      "Epoch 17/50\n",
      "232/232 [==============================] - 3s 14ms/step - loss: nan - mean_absolute_error: nan - val_loss: nan - val_mean_absolute_error: nan\n",
      "Epoch 18/50\n",
      "232/232 [==============================] - 3s 14ms/step - loss: nan - mean_absolute_error: nan - val_loss: nan - val_mean_absolute_error: nan\n",
      "Epoch 19/50\n",
      "232/232 [==============================] - 3s 14ms/step - loss: nan - mean_absolute_error: nan - val_loss: nan - val_mean_absolute_error: nan\n",
      "Epoch 20/50\n",
      "232/232 [==============================] - 3s 15ms/step - loss: nan - mean_absolute_error: nan - val_loss: nan - val_mean_absolute_error: nan\n",
      "Epoch 21/50\n",
      "232/232 [==============================] - 3s 14ms/step - loss: nan - mean_absolute_error: nan - val_loss: nan - val_mean_absolute_error: nan\n",
      "Epoch 22/50\n",
      "232/232 [==============================] - 3s 14ms/step - loss: nan - mean_absolute_error: nan - val_loss: nan - val_mean_absolute_error: nan\n",
      "Epoch 23/50\n",
      "232/232 [==============================] - 3s 14ms/step - loss: nan - mean_absolute_error: nan - val_loss: nan - val_mean_absolute_error: nan\n",
      "Epoch 24/50\n",
      "232/232 [==============================] - 3s 14ms/step - loss: nan - mean_absolute_error: nan - val_loss: nan - val_mean_absolute_error: nan\n",
      "Epoch 25/50\n",
      "232/232 [==============================] - 3s 14ms/step - loss: nan - mean_absolute_error: nan - val_loss: nan - val_mean_absolute_error: nan\n",
      "Epoch 26/50\n",
      "232/232 [==============================] - 3s 14ms/step - loss: nan - mean_absolute_error: nan - val_loss: nan - val_mean_absolute_error: nan\n",
      "Epoch 27/50\n",
      "232/232 [==============================] - 3s 15ms/step - loss: nan - mean_absolute_error: nan - val_loss: nan - val_mean_absolute_error: nan\n",
      "Epoch 28/50\n",
      "232/232 [==============================] - 4s 15ms/step - loss: nan - mean_absolute_error: nan - val_loss: nan - val_mean_absolute_error: nan\n",
      "Epoch 29/50\n",
      "232/232 [==============================] - 3s 15ms/step - loss: nan - mean_absolute_error: nan - val_loss: nan - val_mean_absolute_error: nan\n",
      "Epoch 30/50\n",
      "232/232 [==============================] - 3s 14ms/step - loss: nan - mean_absolute_error: nan - val_loss: nan - val_mean_absolute_error: nan\n",
      "Epoch 31/50\n",
      "232/232 [==============================] - 3s 14ms/step - loss: nan - mean_absolute_error: nan - val_loss: nan - val_mean_absolute_error: nan\n",
      "Epoch 32/50\n",
      "232/232 [==============================] - 3s 14ms/step - loss: nan - mean_absolute_error: nan - val_loss: nan - val_mean_absolute_error: nan\n",
      "Epoch 33/50\n",
      "232/232 [==============================] - 3s 14ms/step - loss: nan - mean_absolute_error: nan - val_loss: nan - val_mean_absolute_error: nan\n",
      "Epoch 34/50\n",
      "232/232 [==============================] - 3s 14ms/step - loss: nan - mean_absolute_error: nan - val_loss: nan - val_mean_absolute_error: nan\n",
      "Epoch 35/50\n",
      "232/232 [==============================] - 3s 14ms/step - loss: nan - mean_absolute_error: nan - val_loss: nan - val_mean_absolute_error: nan\n",
      "Epoch 36/50\n",
      "232/232 [==============================] - 3s 14ms/step - loss: nan - mean_absolute_error: nan - val_loss: nan - val_mean_absolute_error: nan\n",
      "Epoch 37/50\n",
      "232/232 [==============================] - 3s 14ms/step - loss: nan - mean_absolute_error: nan - val_loss: nan - val_mean_absolute_error: nan\n",
      "Epoch 38/50\n",
      "232/232 [==============================] - 3s 14ms/step - loss: nan - mean_absolute_error: nan - val_loss: nan - val_mean_absolute_error: nan\n",
      "Epoch 39/50\n",
      "232/232 [==============================] - 3s 14ms/step - loss: nan - mean_absolute_error: nan - val_loss: nan - val_mean_absolute_error: nan\n",
      "Epoch 40/50\n",
      "232/232 [==============================] - 3s 14ms/step - loss: nan - mean_absolute_error: nan - val_loss: nan - val_mean_absolute_error: nan\n",
      "Epoch 41/50\n",
      "232/232 [==============================] - 3s 14ms/step - loss: nan - mean_absolute_error: nan - val_loss: nan - val_mean_absolute_error: nan\n",
      "Epoch 42/50\n",
      "232/232 [==============================] - 3s 14ms/step - loss: nan - mean_absolute_error: nan - val_loss: nan - val_mean_absolute_error: nan\n",
      "Epoch 43/50\n",
      "232/232 [==============================] - 3s 14ms/step - loss: nan - mean_absolute_error: nan - val_loss: nan - val_mean_absolute_error: nan\n",
      "Epoch 44/50\n",
      "232/232 [==============================] - 3s 15ms/step - loss: nan - mean_absolute_error: nan - val_loss: nan - val_mean_absolute_error: nan\n",
      "Epoch 45/50\n",
      "232/232 [==============================] - 3s 15ms/step - loss: nan - mean_absolute_error: nan - val_loss: nan - val_mean_absolute_error: nan\n",
      "Epoch 46/50\n",
      "232/232 [==============================] - 3s 14ms/step - loss: nan - mean_absolute_error: nan - val_loss: nan - val_mean_absolute_error: nan\n",
      "Epoch 47/50\n",
      "232/232 [==============================] - 3s 14ms/step - loss: nan - mean_absolute_error: nan - val_loss: nan - val_mean_absolute_error: nan\n",
      "Epoch 48/50\n",
      "232/232 [==============================] - 3s 14ms/step - loss: nan - mean_absolute_error: nan - val_loss: nan - val_mean_absolute_error: nan\n",
      "Epoch 49/50\n",
      "232/232 [==============================] - 3s 14ms/step - loss: nan - mean_absolute_error: nan - val_loss: nan - val_mean_absolute_error: nan\n",
      "Epoch 50/50\n",
      "232/232 [==============================] - 3s 14ms/step - loss: nan - mean_absolute_error: nan - val_loss: nan - val_mean_absolute_error: nan\n"
     ]
    },
    {
     "data": {
      "text/plain": [
       "<keras.callbacks.History at 0x2bffefd3a90>"
      ]
     },
     "execution_count": 126,
     "metadata": {},
     "output_type": "execute_result"
    }
   ],
   "source": [
    "model.fit(X_train, y_train.reshape(-1,1), batch_size=32, validation_data=(X_test, y_test.reshape(-1,1)), epochs=50)"
   ]
  },
  {
   "cell_type": "code",
   "execution_count": 114,
   "metadata": {},
   "outputs": [
    {
     "data": {
      "image/png": "[encoded data removed]",
      "text/plain": [
       "<Figure size 600x400 with 2 Axes>"
      ]
     },
     "metadata": {
      "needs_background": "light"
     },
     "output_type": "display_data"
    }
   ],
   "source": [
    "mutls.ModelUtils.plot_model_error(X_train, X_test, y_train, y_test, model)\n"
   ]
  },
  {
   "cell_type": "code",
   "execution_count": 75,
   "metadata": {},
   "outputs": [],
   "source": [
    "y_train_pred_wl = inverse_log(model.predict(X_train), y_wl.min()-10)"
   ]
  },
  {
   "cell_type": "code",
   "execution_count": 85,
   "metadata": {},
   "outputs": [],
   "source": [
    "y_train_acutal_wl = inverse_log(y_train, y_wl.min()-10).reshape(-1,1)"
   ]
  },
  {
   "cell_type": "code",
   "execution_count": null,
   "metadata": {},
   "outputs": [],
   "source": []
  },
  {
   "cell_type": "code",
   "execution_count": 76,
   "metadata": {},
   "outputs": [],
   "source": [
    "y_test_pred_wl = inverse_log(model.predict(X_test), y_wl.min()-10)"
   ]
  },
  {
   "cell_type": "code",
   "execution_count": 87,
   "metadata": {},
   "outputs": [],
   "source": [
    "y_test_acutal_wl = inverse_log(y_test, y_wl.min()-10).reshape(-1,1)"
   ]
  },
  {
   "cell_type": "code",
   "execution_count": 95,
   "metadata": {},
   "outputs": [
    {
     "data": {
      "text/plain": [
       "Text(0.5, 0.98, 'error vs. y actual')"
      ]
     },
     "execution_count": 95,
     "metadata": {},
     "output_type": "execute_result"
    },
    {
     "data": {
      "image/png": "[encoded data removed]",
      "text/plain": [
       "<Figure size 600x400 with 2 Axes>"
      ]
     },
     "metadata": {
      "needs_background": "light"
     },
     "output_type": "display_data"
    }
   ],
   "source": [
    "fig, axes = plt.subplots(2)\n",
    "fig.dpi=100\n",
    "axes[0].scatter(y_train_acutal_wl, y_train_acutal_wl-y_train_pred_wl,label='training')\n",
    "axes[0].set_ylim(-200,800)\n",
    "\n",
    "fig.legend()\n",
    "plt.suptitle(\"error vs. y actual\" )"
   ]
  },
  {
   "cell_type": "markdown",
   "metadata": {},
   "source": [
    "A lot more error at higher wavelength"
   ]
  },
  {
   "cell_type": "markdown",
   "metadata": {},
   "source": [
    "### Try under sample the 200-400nm region to make the y more uniform"
   ]
  },
  {
   "cell_type": "code",
   "execution_count": 9,
   "metadata": {},
   "outputs": [],
   "source": [
    "Y_category = (y_wl - 200) // 20"
   ]
  },
  {
   "cell_type": "code",
   "execution_count": 11,
   "metadata": {},
   "outputs": [
    {
     "name": "stdout",
     "output_type": "stream",
     "text": [
      "{0.0: 18, 1.0: 23, 2.0: 40, 3.0: 44, 4.0: 14, 5.0: 7, 6.0: 8, 7.0: 4, 8.0: 6, 9.0: 3, 10.0: 12, 11.0: 10, 12.0: 7, 13.0: 4, 14.0: 7, 15.0: 10, 16.0: 5, 17.0: 10, 18.0: 6, 19.0: 6, 20.0: 6, 21.0: 3, 22.0: 4, 23.0: 2, 24.0: 2, 25.0: 2, 28.0: 1, 29.0: 2, 30.0: 1}\n"
     ]
    }
   ],
   "source": [
    "cls, counts = np.unique(Y_category, return_counts=True)\n",
    "cls_counts = dict(zip(cls, counts))\n",
    "print(cls_counts)"
   ]
  },
  {
   "cell_type": "markdown",
   "metadata": {},
   "source": [
    "#### To each category, keep less than 20 counts per category"
   ]
  },
  {
   "cell_type": "code",
   "execution_count": 40,
   "metadata": {},
   "outputs": [],
   "source": [
    "data_cat=np.column_stack((x_str,y_wl,Y_category))"
   ]
  },
  {
   "cell_type": "code",
   "execution_count": 61,
   "metadata": {},
   "outputs": [],
   "source": [
    "def subsampling(dataset, cls_max, cls_dict):\n",
    "    out = []\n",
    "    for row in dataset:\n",
    "        cls = row[2]\n",
    "        rInt = np.random.randint(0, cls_dict[cls])\n",
    "        if rInt <= cls_max:\n",
    "            out.append(row)\n",
    "    return np.array(out)\n",
    "\n",
    "subsampled = subsampling(data_cat, 10, cls_counts)"
   ]
  },
  {
   "cell_type": "code",
   "execution_count": 62,
   "metadata": {},
   "outputs": [
    {
     "data": {
      "text/plain": [
       "(189,)"
      ]
     },
     "execution_count": 62,
     "metadata": {},
     "output_type": "execute_result"
    }
   ],
   "source": [
    "subsampled[:,1].shape"
   ]
  },
  {
   "cell_type": "code",
   "execution_count": 63,
   "metadata": {},
   "outputs": [],
   "source": [
    "x_encode=du.DataUtils.numeric_encoding(subsampled[:,0],uniform_length=maxlen+5,word_map=wordmap)"
   ]
  },
  {
   "cell_type": "code",
   "execution_count": 64,
   "metadata": {},
   "outputs": [],
   "source": [
    "y_sub = subsampled[:,1]"
   ]
  },
  {
   "cell_type": "code",
   "execution_count": 67,
   "metadata": {},
   "outputs": [
    {
     "data": {
      "text/plain": [
       "(array([41., 29., 18., 25., 21., 23., 18.,  7.,  3.,  4.]),\n",
       " array([203. , 264.5, 326. , 387.5, 449. , 510.5, 572. , 633.5, 695. ,\n",
       "        756.5, 818. ]),\n",
       " <a list of 10 Patch objects>)"
      ]
     },
     "execution_count": 67,
     "metadata": {},
     "output_type": "execute_result"
    },
    {
     "data": {
      "image/png": "[encoded data removed]",
      "text/plain": [
       "<Figure size 432x288 with 1 Axes>"
      ]
     },
     "metadata": {
      "needs_background": "light"
     },
     "output_type": "display_data"
    }
   ],
   "source": [
    "X_train, X_test, y_train, y_test=du.DataUtils.splitData(x_encode, y_sub, ratio=0.15)\n",
    "plt.hist(y_sub.tolist())"
   ]
  },
  {
   "cell_type": "code",
   "execution_count": 70,
   "metadata": {},
   "outputs": [
    {
     "name": "stdout",
     "output_type": "stream",
     "text": [
      "_________________________________________________________________\n",
      "Layer (type)                 Output Shape              Param #   \n",
      "=================================================================\n",
      "embedding_2 (Embedding)      (None, 279, 50)           2250      \n",
      "_________________________________________________________________\n",
      "lstm_4 (LSTM)                (None, 279, 50)           20200     \n",
      "_________________________________________________________________\n",
      "lstm_5 (LSTM)                (None, 279, 50)           20200     \n",
      "_________________________________________________________________\n",
      "lstm_6 (LSTM)                (None, 279, 50)           20200     \n",
      "_________________________________________________________________\n",
      "dropout_2 (Dropout)          (None, 279, 50)           0         \n",
      "_________________________________________________________________\n",
      "dense_3 (Dense)              (None, 279, 50)           2550      \n",
      "_________________________________________________________________\n",
      "flatten_2 (Flatten)          (None, 13950)             0         \n",
      "_________________________________________________________________\n",
      "dense_4 (Dense)              (None, 1)                 13951     \n",
      "=================================================================\n",
      "Total params: 79,351\n",
      "Trainable params: 79,351\n",
      "Non-trainable params: 0\n",
      "_________________________________________________________________\n"
     ]
    }
   ],
   "source": [
    "hidden_size = 50\n",
    "model = Sequential()\n",
    "model.add(Embedding(len(wordmap), hidden_size, input_length=maxlen+5))\n",
    "model.add(LSTM(hidden_size, return_sequences=True))\n",
    "model.add(LSTM(hidden_size, return_sequences=True))\n",
    "model.add(LSTM(hidden_size, return_sequences=True))\n",
    "model.add(Dropout(0.4))\n",
    "model.add(Dense(hidden_size, activation='relu'))\n",
    "model.add(Flatten())\n",
    "model.add(Dense(1, activation='linear'))\n",
    "\n",
    "model.compile(loss='mean_squared_error', optimizer='Adam', metrics=['mean_absolute_error'])\n",
    "model.summary()\n",
    "\n"
   ]
  },
  {
   "cell_type": "code",
   "execution_count": 71,
   "metadata": {},
   "outputs": [
    {
     "name": "stdout",
     "output_type": "stream",
     "text": [
      "Train on 160 samples, validate on 29 samples\n",
      "Epoch 1/50\n",
      "160/160 [==============================] - 4s 26ms/step - loss: 198562.2719 - mean_absolute_error: 419.9061 - val_loss: 164067.7656 - val_mean_absolute_error: 379.2515\n",
      "Epoch 2/50\n",
      "160/160 [==============================] - 2s 11ms/step - loss: 193748.8687 - mean_absolute_error: 413.9373 - val_loss: 150534.7188 - val_mean_absolute_error: 360.8287\n",
      "Epoch 3/50\n",
      "160/160 [==============================] - 2s 11ms/step - loss: 157656.6547 - mean_absolute_error: 366.3126 - val_loss: 92568.8984 - val_mean_absolute_error: 268.7489\n",
      "Epoch 4/50\n",
      "160/160 [==============================] - 2s 11ms/step - loss: 83147.7500 - mean_absolute_error: 246.3115 - val_loss: 35154.0078 - val_mean_absolute_error: 133.5898\n",
      "Epoch 5/50\n",
      "160/160 [==============================] - 2s 11ms/step - loss: 30540.1109 - mean_absolute_error: 139.6379 - val_loss: 26367.6211 - val_mean_absolute_error: 143.5896\n",
      "Epoch 6/50\n",
      "160/160 [==============================] - 2s 11ms/step - loss: 34718.2926 - mean_absolute_error: 157.1566 - val_loss: 42068.2344 - val_mean_absolute_error: 176.1447\n",
      "Epoch 7/50\n",
      "160/160 [==============================] - 2s 14ms/step - loss: 29924.5535 - mean_absolute_error: 146.3046 - val_loss: 22260.9238 - val_mean_absolute_error: 134.2974\n",
      "Epoch 8/50\n",
      "160/160 [==============================] - 2s 15ms/step - loss: 23688.7281 - mean_absolute_error: 129.3227 - val_loss: 20858.8496 - val_mean_absolute_error: 125.2265\n",
      "Epoch 9/50\n",
      "160/160 [==============================] - 2s 15ms/step - loss: 25903.9424 - mean_absolute_error: 131.8753 - val_loss: 20902.7441 - val_mean_absolute_error: 125.1355\n",
      "Epoch 10/50\n",
      "160/160 [==============================] - 2s 14ms/step - loss: 24060.5828 - mean_absolute_error: 128.9748 - val_loss: 20444.9160 - val_mean_absolute_error: 129.3595\n",
      "Epoch 11/50\n",
      "160/160 [==============================] - 2s 14ms/step - loss: 22068.6123 - mean_absolute_error: 125.4892 - val_loss: 22662.2090 - val_mean_absolute_error: 135.3219\n",
      "Epoch 12/50\n",
      "160/160 [==============================] - 2s 15ms/step - loss: 22817.5273 - mean_absolute_error: 128.8749 - val_loss: 23126.7656 - val_mean_absolute_error: 136.4079\n",
      "Epoch 13/50\n",
      "160/160 [==============================] - 2s 15ms/step - loss: 22651.2730 - mean_absolute_error: 128.0012 - val_loss: 21567.7637 - val_mean_absolute_error: 132.2514\n",
      "Epoch 14/50\n",
      "160/160 [==============================] - 2s 14ms/step - loss: 22831.2535 - mean_absolute_error: 127.5755 - val_loss: 20358.9570 - val_mean_absolute_error: 129.0246\n",
      "Epoch 15/50\n",
      "160/160 [==============================] - 2s 14ms/step - loss: 22535.7891 - mean_absolute_error: 126.1639 - val_loss: 20517.6816 - val_mean_absolute_error: 129.5950\n",
      "Epoch 16/50\n",
      "160/160 [==============================] - 2s 15ms/step - loss: 22570.9986 - mean_absolute_error: 127.3895 - val_loss: 21326.4648 - val_mean_absolute_error: 131.4192\n",
      "Epoch 17/50\n",
      "160/160 [==============================] - 3s 16ms/step - loss: 22360.3285 - mean_absolute_error: 126.6915 - val_loss: 21222.3184 - val_mean_absolute_error: 131.0881\n",
      "Epoch 18/50\n",
      "160/160 [==============================] - 2s 15ms/step - loss: 22355.7719 - mean_absolute_error: 126.7708 - val_loss: 21271.4531 - val_mean_absolute_error: 131.2180\n",
      "Epoch 19/50\n",
      "160/160 [==============================] - 2s 15ms/step - loss: 22372.9102 - mean_absolute_error: 126.6451 - val_loss: 21025.3145 - val_mean_absolute_error: 130.7471\n",
      "Epoch 20/50\n",
      "160/160 [==============================] - 2s 14ms/step - loss: 22114.5500 - mean_absolute_error: 126.1864 - val_loss: 20953.9160 - val_mean_absolute_error: 130.6133\n",
      "Epoch 21/50\n",
      "160/160 [==============================] - 2s 14ms/step - loss: 22364.9762 - mean_absolute_error: 126.8283 - val_loss: 21107.2305 - val_mean_absolute_error: 130.8916\n",
      "Epoch 22/50\n",
      "160/160 [==============================] - 2s 15ms/step - loss: 22335.2055 - mean_absolute_error: 126.4033 - val_loss: 20915.8711 - val_mean_absolute_error: 130.5386\n",
      "Epoch 23/50\n",
      "160/160 [==============================] - 2s 15ms/step - loss: 22327.0363 - mean_absolute_error: 126.5486 - val_loss: 21006.8008 - val_mean_absolute_error: 130.7107\n",
      "Epoch 24/50\n",
      "160/160 [==============================] - 2s 14ms/step - loss: 22205.2121 - mean_absolute_error: 126.1215 - val_loss: 21032.5039 - val_mean_absolute_error: 130.7570\n",
      "Epoch 25/50\n",
      "160/160 [==============================] - 2s 14ms/step - loss: 22442.8605 - mean_absolute_error: 126.6654 - val_loss: 20728.7773 - val_mean_absolute_error: 130.1420\n",
      "Epoch 26/50\n",
      "160/160 [==============================] - 2s 15ms/step - loss: 22432.7062 - mean_absolute_error: 126.8028 - val_loss: 21446.8711 - val_mean_absolute_error: 131.8508\n",
      "Epoch 27/50\n",
      "160/160 [==============================] - 2s 15ms/step - loss: 22352.1879 - mean_absolute_error: 126.9569 - val_loss: 21295.8633 - val_mean_absolute_error: 131.3148\n",
      "Epoch 28/50\n",
      "160/160 [==============================] - 2s 15ms/step - loss: 22230.5426 - mean_absolute_error: 126.0930 - val_loss: 20740.4141 - val_mean_absolute_error: 130.1669\n",
      "Epoch 29/50\n",
      "160/160 [==============================] - 2s 15ms/step - loss: 22418.3363 - mean_absolute_error: 126.5878 - val_loss: 20817.5469 - val_mean_absolute_error: 130.3346\n",
      "Epoch 30/50\n",
      "160/160 [==============================] - 2s 14ms/step - loss: 22236.7758 - mean_absolute_error: 126.1170 - val_loss: 21102.7285 - val_mean_absolute_error: 130.8766\n",
      "Epoch 31/50\n",
      "160/160 [==============================] - 2s 14ms/step - loss: 22371.3494 - mean_absolute_error: 126.8325 - val_loss: 21667.6660 - val_mean_absolute_error: 132.5822\n",
      "Epoch 32/50\n",
      "160/160 [==============================] - 2s 15ms/step - loss: 22658.1805 - mean_absolute_error: 127.8566 - val_loss: 20657.4922 - val_mean_absolute_error: 129.9699\n",
      "Epoch 33/50\n",
      "160/160 [==============================] - 2s 15ms/step - loss: 22413.0434 - mean_absolute_error: 126.7174 - val_loss: 21078.0586 - val_mean_absolute_error: 130.8306\n",
      "Epoch 34/50\n",
      "160/160 [==============================] - 2s 15ms/step - loss: 22326.8348 - mean_absolute_error: 126.5271 - val_loss: 21348.3574 - val_mean_absolute_error: 131.5116\n",
      "Epoch 35/50\n",
      "160/160 [==============================] - 2s 15ms/step - loss: 22378.4824 - mean_absolute_error: 126.5463 - val_loss: 20685.6191 - val_mean_absolute_error: 130.0361\n",
      "Epoch 36/50\n",
      "160/160 [==============================] - 2s 15ms/step - loss: 22287.0797 - mean_absolute_error: 126.0888 - val_loss: 20971.0273 - val_mean_absolute_error: 130.6331\n",
      "Epoch 37/50\n",
      "160/160 [==============================] - 2s 14ms/step - loss: 22351.3479 - mean_absolute_error: 126.5227 - val_loss: 21422.2285 - val_mean_absolute_error: 131.7749\n",
      "Epoch 38/50\n",
      "160/160 [==============================] - 2s 15ms/step - loss: 22245.4871 - mean_absolute_error: 126.5657 - val_loss: 21115.4805 - val_mean_absolute_error: 130.8893\n",
      "Epoch 39/50\n",
      "160/160 [==============================] - 2s 14ms/step - loss: 22331.8746 - mean_absolute_error: 126.0422 - val_loss: 20546.4844 - val_mean_absolute_error: 129.6761\n",
      "Epoch 40/50\n",
      "160/160 [==============================] - 2s 14ms/step - loss: 22195.0164 - mean_absolute_error: 125.9341 - val_loss: 20926.3008 - val_mean_absolute_error: 130.5433\n",
      "Epoch 41/50\n",
      "160/160 [==============================] - 2s 14ms/step - loss: 22314.3941 - mean_absolute_error: 126.4286 - val_loss: 21025.0293 - val_mean_absolute_error: 130.7259\n",
      "Epoch 42/50\n",
      "160/160 [==============================] - 3s 16ms/step - loss: 22454.7027 - mean_absolute_error: 126.9741 - val_loss: 21427.4316 - val_mean_absolute_error: 131.7989\n",
      "Epoch 43/50\n",
      "160/160 [==============================] - 2s 15ms/step - loss: 22297.0234 - mean_absolute_error: 126.6299 - val_loss: 21091.4492 - val_mean_absolute_error: 130.8399\n",
      "Epoch 44/50\n",
      "160/160 [==============================] - 2s 14ms/step - loss: 22346.7859 - mean_absolute_error: 126.4584 - val_loss: 20837.1699 - val_mean_absolute_error: 130.3607\n",
      "Epoch 45/50\n",
      "160/160 [==============================] - 2s 14ms/step - loss: 22394.8834 - mean_absolute_error: 126.4250 - val_loss: 20929.2285 - val_mean_absolute_error: 130.5412\n",
      "Epoch 46/50\n",
      "160/160 [==============================] - 2s 14ms/step - loss: 22275.2199 - mean_absolute_error: 126.4958 - val_loss: 21331.9512 - val_mean_absolute_error: 131.4699\n"
     ]
    },
    {
     "name": "stdout",
     "output_type": "stream",
     "text": [
      "Epoch 47/50\n",
      "160/160 [==============================] - 2s 14ms/step - loss: 22313.2809 - mean_absolute_error: 126.6933 - val_loss: 21134.8574 - val_mean_absolute_error: 130.9054\n",
      "Epoch 48/50\n",
      "160/160 [==============================] - 2s 14ms/step - loss: 22432.8074 - mean_absolute_error: 126.7174 - val_loss: 20603.0156 - val_mean_absolute_error: 129.8223\n",
      "Epoch 49/50\n",
      "160/160 [==============================] - 2s 14ms/step - loss: 22217.7729 - mean_absolute_error: 125.7395 - val_loss: 20892.5215 - val_mean_absolute_error: 130.4620\n",
      "Epoch 50/50\n",
      "160/160 [==============================] - 2s 14ms/step - loss: 22078.0854 - mean_absolute_error: 125.7653 - val_loss: 21381.2891 - val_mean_absolute_error: 131.6530\n"
     ]
    },
    {
     "data": {
      "text/plain": [
       "<keras.callbacks.History at 0x2af421a0438>"
      ]
     },
     "execution_count": 71,
     "metadata": {},
     "output_type": "execute_result"
    }
   ],
   "source": [
    "model.fit(X_train, y_train, batch_size=32, validation_data=(X_test, y_test), epochs=50)"
   ]
  },
  {
   "cell_type": "code",
   "execution_count": null,
   "metadata": {},
   "outputs": [],
   "source": []
  }
 ],
 "metadata": {
  "kernelspec": {
   "display_name": "test_speedcom",
   "language": "python",
   "name": "test_speedcom"
  },
  "language_info": {
   "codemirror_mode": {
    "name": "ipython",
    "version": 3
   },
   "file_extension": ".py",
   "mimetype": "text/x-python",
   "name": "python",
   "nbconvert_exporter": "python",
   "pygments_lexer": "ipython3",
   "version": "3.6.8"
  }
 },
 "nbformat": 4,
 "nbformat_minor": 2
}
