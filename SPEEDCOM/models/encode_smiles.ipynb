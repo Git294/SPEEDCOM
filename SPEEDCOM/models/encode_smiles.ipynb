{
 "cells": [
  {
   "cell_type": "code",
   "execution_count": 2,
   "metadata": {},
   "outputs": [
    {
     "name": "stderr",
     "output_type": "stream",
     "text": [
      "C:\\Users\\Yang\\.conda\\envs\\test_speedcom\\lib\\importlib\\_bootstrap.py:219: RuntimeWarning: numpy.ufunc size changed, may indicate binary incompatibility. Expected 192 from C header, got 216 from PyObject\n",
      "  return f(*args, **kwds)\n",
      "Using TensorFlow backend.\n"
     ]
    }
   ],
   "source": [
    "import numpy as np\n",
    "import pandas as pd\n",
    "import matplotlib as mplt\n",
    "import matplotlib.pyplot as plt\n",
    "\n",
    "from keras.models import Sequential\n",
    "from keras.layers import LSTM, Dense, Embedding, Dropout, Flatten\n",
    "# sequence data packages\n",
    "from keras.preprocessing import sequence\n",
    "import itertools\n",
    "import random\n",
    "import dataUtils as du"
   ]
  },
  {
   "cell_type": "code",
   "execution_count": 3,
   "metadata": {},
   "outputs": [
    {
     "name": "stdout",
     "output_type": "stream",
     "text": [
      "   #      Name      name_smiles  Wavelength  Epsilon  Quantum Yield\n",
      "0  1   Benzene      C1=CC=CC=C1      254.75      210          0.053\n",
      "1  2   Toluene     CC1=CC=CC=C1      261.75     2860          0.170\n",
      "2  3  o-Xylene    CC1=CC=CC=C1C      263.00      254          0.170\n",
      "3  4  m-Xylene  CC1=CC(=CC=C1)C      265.00      284          0.130\n",
      "4  5  p-Xylene  CC1=CC=C(C=C1)C      275.00      770          0.220\n"
     ]
    }
   ],
   "source": [
    "df=du.DataUtils.readData('temp_cleaned_data.tsv')\n",
    "x_str, y_wl=du.DataUtils.get_xy(df,x_col_index=2,y_col_index=3)\n",
    "maxlen = du.DataUtils.get_max_len(x_str)\n"
   ]
  },
  {
   "cell_type": "code",
   "execution_count": 4,
   "metadata": {},
   "outputs": [],
   "source": [
    "wordmap=du.DataUtils.get_wordmap(x_str)"
   ]
  },
  {
   "cell_type": "code",
   "execution_count": 55,
   "metadata": {},
   "outputs": [
    {
     "data": {
      "text/plain": [
       "45"
      ]
     },
     "execution_count": 55,
     "metadata": {},
     "output_type": "execute_result"
    }
   ],
   "source": [
    "len(wordmap)"
   ]
  },
  {
   "cell_type": "code",
   "execution_count": 5,
   "metadata": {},
   "outputs": [],
   "source": [
    "x_encode=du.DataUtils.numeric_encoding(x_str,uniform_length=maxlen+5,word_map=wordmap)"
   ]
  },
  {
   "cell_type": "code",
   "execution_count": 46,
   "metadata": {},
   "outputs": [
    {
     "data": {
      "text/plain": [
       "274"
      ]
     },
     "execution_count": 46,
     "metadata": {},
     "output_type": "execute_result"
    }
   ],
   "source": [
    "maxlen"
   ]
  },
  {
   "cell_type": "code",
   "execution_count": 40,
   "metadata": {},
   "outputs": [],
   "source": [
    "X_train, X_test, y_train, y_test=du.DataUtils.splitData(x_encode, y_wl, ratio=0.2)"
   ]
  },
  {
   "cell_type": "code",
   "execution_count": 58,
   "metadata": {},
   "outputs": [
    {
     "data": {
      "text/plain": [
       "279"
      ]
     },
     "execution_count": 58,
     "metadata": {},
     "output_type": "execute_result"
    }
   ],
   "source": [
    "len(X_train[0])"
   ]
  },
  {
   "cell_type": "code",
   "execution_count": 7,
   "metadata": {},
   "outputs": [
    {
     "data": {
      "text/plain": [
       "(array([91., 57., 18., 25., 21., 23., 18.,  7.,  3.,  4.]),\n",
       " array([203. , 264.5, 326. , 387.5, 449. , 510.5, 572. , 633.5, 695. ,\n",
       "        756.5, 818. ]),\n",
       " <a list of 10 Patch objects>)"
      ]
     },
     "execution_count": 7,
     "metadata": {},
     "output_type": "execute_result"
    },
    {
     "data": {
      "image/png": "[encoded data removed]",
      "text/plain": [
       "<Figure size 432x288 with 1 Axes>"
      ]
     },
     "metadata": {
      "needs_background": "light"
     },
     "output_type": "display_data"
    }
   ],
   "source": [
    "plt.hist(y_wl.tolist())"
   ]
  },
  {
   "cell_type": "markdown",
   "metadata": {},
   "source": [
    "#### 1st model, use all data and numeric encoding of smiles, added embedding layer"
   ]
  },
  {
   "cell_type": "code",
   "execution_count": 26,
   "metadata": {},
   "outputs": [],
   "source": [
    "hidden_size = 50\n",
    "model = Sequential()\n",
    "model.add(Embedding(len(wordmap), hidden_size, input_length=maxlen+5))\n",
    "model.add(LSTM(hidden_size, return_sequences=True))\n",
    "model.add(LSTM(hidden_size, return_sequences=True))\n",
    "model.add(LSTM(hidden_size, return_sequences=True))\n",
    "model.add(Dropout(0.4))\n",
    "model.add(Dense(hidden_size, activation='relu'))\n",
    "model.add(Flatten())\n",
    "model.add(Dense(1, activation='linear'))"
   ]
  },
  {
   "cell_type": "code",
   "execution_count": 27,
   "metadata": {},
   "outputs": [
    {
     "name": "stdout",
     "output_type": "stream",
     "text": [
      "_________________________________________________________________\n",
      "Layer (type)                 Output Shape              Param #   \n",
      "=================================================================\n",
      "embedding_3 (Embedding)      (None, 279, 50)           2250      \n",
      "_________________________________________________________________\n",
      "lstm_7 (LSTM)                (None, 279, 50)           20200     \n",
      "_________________________________________________________________\n",
      "lstm_8 (LSTM)                (None, 279, 50)           20200     \n",
      "_________________________________________________________________\n",
      "lstm_9 (LSTM)                (None, 279, 50)           20200     \n",
      "_________________________________________________________________\n",
      "dropout_3 (Dropout)          (None, 279, 50)           0         \n",
      "_________________________________________________________________\n",
      "dense_5 (Dense)              (None, 279, 50)           2550      \n",
      "_________________________________________________________________\n",
      "flatten_3 (Flatten)          (None, 13950)             0         \n",
      "_________________________________________________________________\n",
      "dense_6 (Dense)              (None, 1)                 13951     \n",
      "=================================================================\n",
      "Total params: 79,351\n",
      "Trainable params: 79,351\n",
      "Non-trainable params: 0\n",
      "_________________________________________________________________\n"
     ]
    }
   ],
   "source": [
    "model.compile(loss='mean_squared_error', optimizer='Adam', metrics=['mean_absolute_error'])\n",
    "model.summary() ##use mean_squared_error loss"
   ]
  },
  {
   "cell_type": "code",
   "execution_count": 28,
   "metadata": {},
   "outputs": [
    {
     "name": "stdout",
     "output_type": "stream",
     "text": [
      "Train on 213 samples, validate on 54 samples\n",
      "Epoch 1/100\n",
      "213/213 [==============================] - 6s 27ms/step - loss: 160063.1472 - mean_absolute_error: 370.8842 - val_loss: 133325.3024 - val_mean_absolute_error: 342.7002\n",
      "Epoch 2/100\n",
      "213/213 [==============================] - 3s 12ms/step - loss: 144399.4902 - mean_absolute_error: 348.5089 - val_loss: 92877.5197 - val_mean_absolute_error: 277.0286\n",
      "Epoch 3/100\n",
      "213/213 [==============================] - 2s 11ms/step - loss: 78442.9145 - mean_absolute_error: 233.3516 - val_loss: 28617.9497 - val_mean_absolute_error: 116.9262\n",
      "Epoch 4/100\n",
      "213/213 [==============================] - 2s 11ms/step - loss: 30213.9598 - mean_absolute_error: 135.5409 - val_loss: 26953.5112 - val_mean_absolute_error: 147.7961\n",
      "Epoch 5/100\n",
      "213/213 [==============================] - 2s 11ms/step - loss: 30397.2720 - mean_absolute_error: 155.8598 - val_loss: 17389.8490 - val_mean_absolute_error: 120.1580\n",
      "Epoch 6/100\n",
      "213/213 [==============================] - 3s 13ms/step - loss: 22247.6653 - mean_absolute_error: 126.6960 - val_loss: 16725.9701 - val_mean_absolute_error: 102.7999\n",
      "Epoch 7/100\n",
      "213/213 [==============================] - 3s 16ms/step - loss: 24369.8152 - mean_absolute_error: 122.3282 - val_loss: 16146.9254 - val_mean_absolute_error: 105.2665\n",
      "Epoch 8/100\n",
      "213/213 [==============================] - 3s 14ms/step - loss: 22331.3208 - mean_absolute_error: 125.6168 - val_loss: 16582.5513 - val_mean_absolute_error: 116.5781\n",
      "Epoch 9/100\n",
      "213/213 [==============================] - 3s 13ms/step - loss: 22833.8430 - mean_absolute_error: 133.3558 - val_loss: 16918.4323 - val_mean_absolute_error: 118.2283\n",
      "Epoch 10/100\n",
      "213/213 [==============================] - 3s 13ms/step - loss: 22678.9738 - mean_absolute_error: 132.5302 - val_loss: 16075.1237 - val_mean_absolute_error: 113.0787\n",
      "Epoch 11/100\n",
      "213/213 [==============================] - 3s 14ms/step - loss: 23351.3211 - mean_absolute_error: 128.3992 - val_loss: 15927.2470 - val_mean_absolute_error: 107.0296\n",
      "Epoch 12/100\n",
      "213/213 [==============================] - 3s 14ms/step - loss: 22679.1474 - mean_absolute_error: 127.4968 - val_loss: 16242.1283 - val_mean_absolute_error: 114.4617\n",
      "Epoch 13/100\n",
      "213/213 [==============================] - 3s 13ms/step - loss: 22619.7251 - mean_absolute_error: 131.2946 - val_loss: 16335.1273 - val_mean_absolute_error: 115.1077\n",
      "Epoch 14/100\n",
      "213/213 [==============================] - 3s 14ms/step - loss: 22769.3802 - mean_absolute_error: 131.8978 - val_loss: 16004.0282 - val_mean_absolute_error: 112.3761\n",
      "Epoch 15/100\n",
      "213/213 [==============================] - 3s 14ms/step - loss: 22654.1517 - mean_absolute_error: 127.0252 - val_loss: 15833.6512 - val_mean_absolute_error: 108.8507\n",
      "Epoch 16/100\n",
      "213/213 [==============================] - 3s 12ms/step - loss: 22622.8041 - mean_absolute_error: 127.4711 - val_loss: 16030.3351 - val_mean_absolute_error: 112.6389\n",
      "Epoch 17/100\n",
      "213/213 [==============================] - 3s 13ms/step - loss: 22605.6787 - mean_absolute_error: 131.0631 - val_loss: 16446.0209 - val_mean_absolute_error: 115.8040\n",
      "Epoch 18/100\n",
      "213/213 [==============================] - 3s 15ms/step - loss: 22558.7122 - mean_absolute_error: 130.5685 - val_loss: 15880.0161 - val_mean_absolute_error: 110.7883\n",
      "Epoch 19/100\n",
      "213/213 [==============================] - 3s 14ms/step - loss: 22736.0552 - mean_absolute_error: 127.3241 - val_loss: 15841.4064 - val_mean_absolute_error: 109.9272\n",
      "Epoch 20/100\n",
      "213/213 [==============================] - 3s 14ms/step - loss: 22447.9142 - mean_absolute_error: 128.7905 - val_loss: 16266.5696 - val_mean_absolute_error: 114.6412\n",
      "Epoch 21/100\n",
      "213/213 [==============================] - 3s 14ms/step - loss: 22610.4945 - mean_absolute_error: 130.9061 - val_loss: 16217.0395 - val_mean_absolute_error: 114.2800\n",
      "Epoch 22/100\n",
      "213/213 [==============================] - 3s 14ms/step - loss: 22460.3397 - mean_absolute_error: 129.0588 - val_loss: 15894.1852 - val_mean_absolute_error: 111.0446\n",
      "Epoch 23/100\n",
      "213/213 [==============================] - 6s 27ms/step - loss: 22753.6106 - mean_absolute_error: 130.4672 - val_loss: 16197.5748 - val_mean_absolute_error: 114.1328\n",
      "Epoch 24/100\n",
      "213/213 [==============================] - 7s 31ms/step - loss: 22622.1182 - mean_absolute_error: 129.4259 - val_loss: 15892.3532 - val_mean_absolute_error: 111.0218\n",
      "Epoch 25/100\n",
      "213/213 [==============================] - 6s 29ms/step - loss: 22647.8228 - mean_absolute_error: 128.1866 - val_loss: 15944.5545 - val_mean_absolute_error: 111.7458\n",
      "Epoch 26/100\n",
      "213/213 [==============================] - 6s 30ms/step - loss: 22582.2006 - mean_absolute_error: 129.2441 - val_loss: 16106.0244 - val_mean_absolute_error: 113.3793\n",
      "Epoch 27/100\n",
      "213/213 [==============================] - 6s 26ms/step - loss: 22598.2818 - mean_absolute_error: 130.2267 - val_loss: 16073.2072 - val_mean_absolute_error: 113.0802\n",
      "Epoch 28/100\n",
      "213/213 [==============================] - 7s 31ms/step - loss: 22548.5923 - mean_absolute_error: 130.1739 - val_loss: 16023.2876 - val_mean_absolute_error: 112.5838\n",
      "Epoch 29/100\n",
      "213/213 [==============================] - 7s 31ms/step - loss: 22629.0290 - mean_absolute_error: 129.7351 - val_loss: 15986.1931 - val_mean_absolute_error: 112.2143\n",
      "Epoch 30/100\n",
      "213/213 [==============================] - 6s 29ms/step - loss: 22671.8867 - mean_absolute_error: 130.4762 - val_loss: 16072.5132 - val_mean_absolute_error: 113.0784\n",
      "Epoch 31/100\n",
      "213/213 [==============================] - 7s 31ms/step - loss: 22448.7626 - mean_absolute_error: 128.5278 - val_loss: 15826.3233 - val_mean_absolute_error: 109.3915\n",
      "Epoch 32/100\n",
      "213/213 [==============================] - 6s 30ms/step - loss: 22839.4064 - mean_absolute_error: 129.4528 - val_loss: 16193.1199 - val_mean_absolute_error: 114.1044\n",
      "Epoch 33/100\n",
      "213/213 [==============================] - 6s 29ms/step - loss: 22504.9149 - mean_absolute_error: 128.4496 - val_loss: 15831.3762 - val_mean_absolute_error: 109.7629\n",
      "Epoch 34/100\n",
      "213/213 [==============================] - 6s 28ms/step - loss: 22592.5222 - mean_absolute_error: 127.8540 - val_loss: 16057.6162 - val_mean_absolute_error: 112.9451\n",
      "Epoch 35/100\n",
      "213/213 [==============================] - 7s 31ms/step - loss: 22528.8156 - mean_absolute_error: 130.0898 - val_loss: 16165.8159 - val_mean_absolute_error: 113.8928\n",
      "Epoch 36/100\n",
      "213/213 [==============================] - 7s 33ms/step - loss: 22980.5357 - mean_absolute_error: 133.1477 - val_loss: 16077.1804 - val_mean_absolute_error: 113.1354\n",
      "Epoch 37/100\n",
      "213/213 [==============================] - 6s 30ms/step - loss: 22733.2153 - mean_absolute_error: 128.0904 - val_loss: 15819.2199 - val_mean_absolute_error: 109.2101\n",
      "Epoch 38/100\n",
      "213/213 [==============================] - 7s 33ms/step - loss: 22569.7930 - mean_absolute_error: 128.0575 - val_loss: 16152.5023 - val_mean_absolute_error: 113.7893\n",
      "Epoch 39/100\n",
      "213/213 [==============================] - 6s 30ms/step - loss: 22453.4925 - mean_absolute_error: 129.8702 - val_loss: 16073.9258 - val_mean_absolute_error: 113.1152\n",
      "Epoch 40/100\n",
      "213/213 [==============================] - 6s 30ms/step - loss: 22370.3764 - mean_absolute_error: 129.6812 - val_loss: 15997.4796 - val_mean_absolute_error: 112.3612\n",
      "Epoch 41/100\n",
      "213/213 [==============================] - 7s 32ms/step - loss: 22516.6877 - mean_absolute_error: 127.8305 - val_loss: 15851.5255 - val_mean_absolute_error: 110.5161\n",
      "Epoch 42/100\n",
      "213/213 [==============================] - 7s 33ms/step - loss: 22399.5305 - mean_absolute_error: 128.7350 - val_loss: 16145.4930 - val_mean_absolute_error: 113.7325\n",
      "Epoch 43/100\n",
      "213/213 [==============================] - 7s 31ms/step - loss: 22457.2283 - mean_absolute_error: 130.4268 - val_loss: 16041.3218 - val_mean_absolute_error: 112.8319\n",
      "Epoch 44/100\n",
      "213/213 [==============================] - 7s 31ms/step - loss: 22340.1688 - mean_absolute_error: 126.9855 - val_loss: 15854.6355 - val_mean_absolute_error: 110.8142\n",
      "Epoch 45/100\n",
      "213/213 [==============================] - 6s 28ms/step - loss: 21936.0150 - mean_absolute_error: 127.4505 - val_loss: 15799.2281 - val_mean_absolute_error: 110.8720\n",
      "Epoch 46/100\n"
     ]
    },
    {
     "name": "stdout",
     "output_type": "stream",
     "text": [
      "213/213 [==============================] - 7s 31ms/step - loss: 21119.6048 - mean_absolute_error: 121.9359 - val_loss: 15784.5492 - val_mean_absolute_error: 108.8133\n",
      "Epoch 47/100\n",
      "213/213 [==============================] - 6s 29ms/step - loss: 20717.6429 - mean_absolute_error: 124.9788 - val_loss: 16069.2964 - val_mean_absolute_error: 111.8043\n",
      "Epoch 48/100\n",
      "213/213 [==============================] - 6s 29ms/step - loss: 19996.1741 - mean_absolute_error: 121.2670 - val_loss: 15787.4113 - val_mean_absolute_error: 105.4237\n",
      "Epoch 49/100\n",
      "213/213 [==============================] - 6s 29ms/step - loss: 19668.2383 - mean_absolute_error: 115.8334 - val_loss: 15759.9896 - val_mean_absolute_error: 109.9775\n",
      "Epoch 50/100\n",
      "213/213 [==============================] - 7s 32ms/step - loss: 20114.9929 - mean_absolute_error: 121.6044 - val_loss: 34378.1138 - val_mean_absolute_error: 160.5114\n",
      "Epoch 51/100\n",
      "213/213 [==============================] - 7s 32ms/step - loss: 43000.9835 - mean_absolute_error: 177.8174 - val_loss: 25766.3633 - val_mean_absolute_error: 144.3488\n",
      "Epoch 52/100\n",
      "213/213 [==============================] - 6s 30ms/step - loss: 26739.3501 - mean_absolute_error: 144.8556 - val_loss: 20214.8260 - val_mean_absolute_error: 127.8227\n",
      "Epoch 53/100\n",
      "213/213 [==============================] - 6s 29ms/step - loss: 21648.3347 - mean_absolute_error: 127.4054 - val_loss: 17905.7109 - val_mean_absolute_error: 104.2740\n",
      "Epoch 54/100\n",
      "213/213 [==============================] - 6s 30ms/step - loss: 20694.5850 - mean_absolute_error: 106.2274 - val_loss: 18543.5786 - val_mean_absolute_error: 124.4530\n",
      "Epoch 55/100\n",
      "213/213 [==============================] - 6s 30ms/step - loss: 22965.6383 - mean_absolute_error: 133.9752 - val_loss: 16830.1162 - val_mean_absolute_error: 115.2427\n",
      "Epoch 56/100\n",
      "213/213 [==============================] - 7s 31ms/step - loss: 21731.9971 - mean_absolute_error: 117.5693 - val_loss: 16697.0030 - val_mean_absolute_error: 103.2588\n",
      "Epoch 57/100\n",
      "213/213 [==============================] - 6s 28ms/step - loss: 21837.4048 - mean_absolute_error: 120.7944 - val_loss: 16746.7791 - val_mean_absolute_error: 117.1480\n",
      "Epoch 58/100\n",
      "213/213 [==============================] - 6s 30ms/step - loss: 21818.2447 - mean_absolute_error: 128.4258 - val_loss: 16363.8484 - val_mean_absolute_error: 114.7455\n",
      "Epoch 59/100\n",
      "213/213 [==============================] - 6s 30ms/step - loss: 21202.5380 - mean_absolute_error: 124.9502 - val_loss: 15910.9561 - val_mean_absolute_error: 110.0851\n",
      "Epoch 60/100\n",
      "213/213 [==============================] - 7s 31ms/step - loss: 21265.7422 - mean_absolute_error: 123.1912 - val_loss: 15916.5347 - val_mean_absolute_error: 109.7510\n",
      "Epoch 61/100\n",
      "213/213 [==============================] - 7s 33ms/step - loss: 21875.6656 - mean_absolute_error: 124.1915 - val_loss: 16258.4629 - val_mean_absolute_error: 112.4497\n",
      "Epoch 62/100\n",
      "213/213 [==============================] - 7s 34ms/step - loss: 21572.7981 - mean_absolute_error: 124.3730 - val_loss: 15122.4076 - val_mean_absolute_error: 108.8892\n",
      "Epoch 63/100\n",
      "213/213 [==============================] - 7s 32ms/step - loss: 20376.3670 - mean_absolute_error: 121.4347 - val_loss: 15873.2118 - val_mean_absolute_error: 110.3451\n",
      "Epoch 64/100\n",
      "213/213 [==============================] - 7s 31ms/step - loss: 18813.1701 - mean_absolute_error: 113.7409 - val_loss: 16357.4838 - val_mean_absolute_error: 106.9861\n",
      "Epoch 65/100\n",
      "213/213 [==============================] - 7s 33ms/step - loss: 17727.2936 - mean_absolute_error: 107.7786 - val_loss: 16570.1862 - val_mean_absolute_error: 107.0828\n",
      "Epoch 66/100\n",
      "213/213 [==============================] - 7s 34ms/step - loss: 17755.2899 - mean_absolute_error: 108.1688 - val_loss: 17780.2028 - val_mean_absolute_error: 114.3427\n",
      "Epoch 67/100\n",
      "213/213 [==============================] - 7s 34ms/step - loss: 17993.3337 - mean_absolute_error: 112.2618 - val_loss: 16816.5736 - val_mean_absolute_error: 111.1671\n",
      "Epoch 68/100\n",
      "213/213 [==============================] - 7s 32ms/step - loss: 17456.7903 - mean_absolute_error: 109.4825 - val_loss: 17024.1122 - val_mean_absolute_error: 108.5632\n",
      "Epoch 69/100\n",
      "213/213 [==============================] - 7s 32ms/step - loss: 17411.8900 - mean_absolute_error: 106.8281 - val_loss: 17018.8906 - val_mean_absolute_error: 107.5520\n",
      "Epoch 70/100\n",
      "213/213 [==============================] - 6s 30ms/step - loss: 17161.8743 - mean_absolute_error: 106.5411 - val_loss: 17399.2320 - val_mean_absolute_error: 111.8949\n",
      "Epoch 71/100\n",
      "213/213 [==============================] - 7s 31ms/step - loss: 17226.6102 - mean_absolute_error: 109.0978 - val_loss: 18255.5038 - val_mean_absolute_error: 113.3915\n",
      "Epoch 72/100\n",
      "213/213 [==============================] - 7s 31ms/step - loss: 17223.9712 - mean_absolute_error: 107.6450 - val_loss: 17995.2147 - val_mean_absolute_error: 112.7904\n",
      "Epoch 73/100\n",
      "213/213 [==============================] - 7s 31ms/step - loss: 17277.7434 - mean_absolute_error: 109.2809 - val_loss: 17241.0054 - val_mean_absolute_error: 111.3921\n",
      "Epoch 74/100\n",
      "213/213 [==============================] - 6s 30ms/step - loss: 17598.6886 - mean_absolute_error: 110.3111 - val_loss: 18009.5590 - val_mean_absolute_error: 114.5745\n",
      "Epoch 75/100\n",
      "213/213 [==============================] - 7s 33ms/step - loss: 18242.5961 - mean_absolute_error: 111.7047 - val_loss: 18976.8830 - val_mean_absolute_error: 115.1139\n",
      "Epoch 76/100\n",
      "213/213 [==============================] - 7s 32ms/step - loss: 18373.1376 - mean_absolute_error: 112.4697 - val_loss: 18001.8030 - val_mean_absolute_error: 110.7636\n",
      "Epoch 77/100\n",
      "213/213 [==============================] - 7s 33ms/step - loss: 18037.4304 - mean_absolute_error: 110.4211 - val_loss: 17910.6554 - val_mean_absolute_error: 113.0639\n",
      "Epoch 78/100\n",
      "213/213 [==============================] - 7s 33ms/step - loss: 17774.3899 - mean_absolute_error: 110.3985 - val_loss: 17501.0443 - val_mean_absolute_error: 111.2962\n",
      "Epoch 79/100\n",
      "213/213 [==============================] - 7s 32ms/step - loss: 17891.6780 - mean_absolute_error: 109.4399 - val_loss: 17427.5384 - val_mean_absolute_error: 109.6435\n",
      "Epoch 80/100\n",
      "213/213 [==============================] - 7s 33ms/step - loss: 17231.2750 - mean_absolute_error: 107.7301 - val_loss: 17065.8370 - val_mean_absolute_error: 109.9454\n",
      "Epoch 81/100\n",
      "213/213 [==============================] - 7s 33ms/step - loss: 17194.3547 - mean_absolute_error: 107.9830 - val_loss: 17353.1585 - val_mean_absolute_error: 110.2905\n",
      "Epoch 82/100\n",
      "213/213 [==============================] - 6s 29ms/step - loss: 17475.1895 - mean_absolute_error: 108.0271 - val_loss: 15137.6770 - val_mean_absolute_error: 102.2991\n",
      "Epoch 83/100\n",
      "213/213 [==============================] - 6s 29ms/step - loss: 18153.5009 - mean_absolute_error: 112.8850 - val_loss: 15236.4549 - val_mean_absolute_error: 107.2790\n",
      "Epoch 84/100\n",
      "213/213 [==============================] - 6s 28ms/step - loss: 17473.6922 - mean_absolute_error: 111.6845 - val_loss: 15135.2354 - val_mean_absolute_error: 104.3863\n",
      "Epoch 85/100\n",
      "213/213 [==============================] - 6s 29ms/step - loss: 17165.1392 - mean_absolute_error: 108.5931 - val_loss: 15324.7540 - val_mean_absolute_error: 104.1764\n",
      "Epoch 86/100\n",
      "213/213 [==============================] - 6s 29ms/step - loss: 16961.1748 - mean_absolute_error: 107.3416 - val_loss: 15650.2547 - val_mean_absolute_error: 105.6476\n",
      "Epoch 87/100\n",
      "213/213 [==============================] - 6s 29ms/step - loss: 16674.5473 - mean_absolute_error: 103.5351 - val_loss: 15625.8860 - val_mean_absolute_error: 101.1356\n",
      "Epoch 88/100\n",
      "213/213 [==============================] - 6s 28ms/step - loss: 16674.7414 - mean_absolute_error: 102.1219 - val_loss: 15684.3466 - val_mean_absolute_error: 104.8472\n",
      "Epoch 89/100\n",
      "213/213 [==============================] - 6s 29ms/step - loss: 16552.9988 - mean_absolute_error: 105.3907 - val_loss: 15473.7258 - val_mean_absolute_error: 104.8351\n",
      "Epoch 90/100\n",
      "213/213 [==============================] - 6s 29ms/step - loss: 17071.8106 - mean_absolute_error: 105.9760 - val_loss: 15251.7230 - val_mean_absolute_error: 101.3707\n",
      "Epoch 91/100\n",
      "213/213 [==============================] - 6s 29ms/step - loss: 16538.3609 - mean_absolute_error: 105.4423 - val_loss: 15453.3615 - val_mean_absolute_error: 105.0776\n"
     ]
    },
    {
     "name": "stdout",
     "output_type": "stream",
     "text": [
      "Epoch 92/100\n",
      "213/213 [==============================] - 6s 29ms/step - loss: 16577.4957 - mean_absolute_error: 107.6856 - val_loss: 15353.6980 - val_mean_absolute_error: 104.0638\n",
      "Epoch 93/100\n",
      "213/213 [==============================] - 6s 29ms/step - loss: 16376.6827 - mean_absolute_error: 104.5198 - val_loss: 15050.2819 - val_mean_absolute_error: 99.4614\n",
      "Epoch 94/100\n",
      "213/213 [==============================] - 6s 28ms/step - loss: 16351.2820 - mean_absolute_error: 103.3860 - val_loss: 14833.5196 - val_mean_absolute_error: 99.8156\n",
      "Epoch 95/100\n",
      "213/213 [==============================] - 6s 30ms/step - loss: 15859.4592 - mean_absolute_error: 100.5299 - val_loss: 14577.2944 - val_mean_absolute_error: 98.3877\n",
      "Epoch 96/100\n",
      "213/213 [==============================] - 6s 30ms/step - loss: 15121.4553 - mean_absolute_error: 98.9496 - val_loss: 13427.0242 - val_mean_absolute_error: 98.6775\n",
      "Epoch 97/100\n",
      "213/213 [==============================] - 6s 30ms/step - loss: 14271.8796 - mean_absolute_error: 97.9065 - val_loss: 12687.1865 - val_mean_absolute_error: 87.0681\n",
      "Epoch 98/100\n",
      "213/213 [==============================] - 7s 31ms/step - loss: 14328.8002 - mean_absolute_error: 88.8083 - val_loss: 12042.9972 - val_mean_absolute_error: 90.3705\n",
      "Epoch 99/100\n",
      "213/213 [==============================] - 7s 33ms/step - loss: 13275.1199 - mean_absolute_error: 96.1745 - val_loss: 11909.0595 - val_mean_absolute_error: 93.2330\n",
      "Epoch 100/100\n",
      "213/213 [==============================] - 6s 30ms/step - loss: 11846.8703 - mean_absolute_error: 82.2616 - val_loss: 10359.3349 - val_mean_absolute_error: 75.9428\n"
     ]
    },
    {
     "data": {
      "text/plain": [
       "<keras.callbacks.History at 0x21d6d411518>"
      ]
     },
     "execution_count": 28,
     "metadata": {},
     "output_type": "execute_result"
    }
   ],
   "source": [
    "model.fit(X_train, y_train, batch_size=32, validation_data=(X_test, y_test), epochs=100)"
   ]
  },
  {
   "cell_type": "code",
   "execution_count": 29,
   "metadata": {},
   "outputs": [
    {
     "name": "stdout",
     "output_type": "stream",
     "text": [
      "Train on 213 samples, validate on 54 samples\n",
      "Epoch 1/50\n",
      "213/213 [==============================] - 7s 31ms/step - loss: 11597.5648 - mean_absolute_error: 80.3857 - val_loss: 9342.7856 - val_mean_absolute_error: 77.9912\n",
      "Epoch 2/50\n",
      "213/213 [==============================] - 6s 29ms/step - loss: 10659.7681 - mean_absolute_error: 74.5642 - val_loss: 8791.0690 - val_mean_absolute_error: 71.5225\n",
      "Epoch 3/50\n",
      "213/213 [==============================] - 6s 30ms/step - loss: 10349.4480 - mean_absolute_error: 72.0704 - val_loss: 8926.2415 - val_mean_absolute_error: 73.7277\n",
      "Epoch 4/50\n",
      "213/213 [==============================] - 7s 32ms/step - loss: 9956.0277 - mean_absolute_error: 71.2243 - val_loss: 8699.1821 - val_mean_absolute_error: 69.6574\n",
      "Epoch 5/50\n",
      "213/213 [==============================] - 6s 30ms/step - loss: 9960.6945 - mean_absolute_error: 71.1481 - val_loss: 8888.4364 - val_mean_absolute_error: 71.9848\n",
      "Epoch 6/50\n",
      "213/213 [==============================] - 7s 31ms/step - loss: 10010.6093 - mean_absolute_error: 70.2286 - val_loss: 8785.8217 - val_mean_absolute_error: 71.2332\n",
      "Epoch 7/50\n",
      "213/213 [==============================] - 7s 31ms/step - loss: 9630.9936 - mean_absolute_error: 71.2660 - val_loss: 8582.3686 - val_mean_absolute_error: 68.5141\n",
      "Epoch 8/50\n",
      "213/213 [==============================] - 7s 32ms/step - loss: 9558.3806 - mean_absolute_error: 68.9628 - val_loss: 8703.9592 - val_mean_absolute_error: 72.4467\n",
      "Epoch 9/50\n",
      "213/213 [==============================] - 6s 29ms/step - loss: 9321.0573 - mean_absolute_error: 70.0842 - val_loss: 8352.3804 - val_mean_absolute_error: 68.0426\n",
      "Epoch 10/50\n",
      "213/213 [==============================] - 6s 30ms/step - loss: 9587.3539 - mean_absolute_error: 69.7620 - val_loss: 8186.6048 - val_mean_absolute_error: 64.6824\n",
      "Epoch 11/50\n",
      "213/213 [==============================] - 6s 30ms/step - loss: 8610.7646 - mean_absolute_error: 67.8689 - val_loss: 7730.6354 - val_mean_absolute_error: 65.7531\n",
      "Epoch 12/50\n",
      "213/213 [==============================] - 6s 29ms/step - loss: 8230.4348 - mean_absolute_error: 67.2008 - val_loss: 8601.1576 - val_mean_absolute_error: 72.3965\n",
      "Epoch 13/50\n",
      "213/213 [==============================] - 7s 31ms/step - loss: 8091.7126 - mean_absolute_error: 68.5044 - val_loss: 8139.4404 - val_mean_absolute_error: 68.1933\n",
      "Epoch 14/50\n",
      "213/213 [==============================] - 7s 33ms/step - loss: 8617.5241 - mean_absolute_error: 68.2434 - val_loss: 8542.0576 - val_mean_absolute_error: 70.1436\n",
      "Epoch 15/50\n",
      "213/213 [==============================] - 7s 33ms/step - loss: 8039.1434 - mean_absolute_error: 66.4958 - val_loss: 6935.2175 - val_mean_absolute_error: 60.6940\n",
      "Epoch 16/50\n",
      "213/213 [==============================] - 7s 32ms/step - loss: 7602.7978 - mean_absolute_error: 63.6699 - val_loss: 6916.7180 - val_mean_absolute_error: 61.5143\n",
      "Epoch 17/50\n",
      "213/213 [==============================] - 7s 31ms/step - loss: 7413.7842 - mean_absolute_error: 62.4961 - val_loss: 6759.9921 - val_mean_absolute_error: 60.5374\n",
      "Epoch 18/50\n",
      "213/213 [==============================] - 6s 30ms/step - loss: 7561.4791 - mean_absolute_error: 62.3904 - val_loss: 8201.8337 - val_mean_absolute_error: 68.2844\n",
      "Epoch 19/50\n",
      "213/213 [==============================] - 6s 31ms/step - loss: 8091.9296 - mean_absolute_error: 68.0315 - val_loss: 7671.3295 - val_mean_absolute_error: 67.0914\n",
      "Epoch 20/50\n",
      "213/213 [==============================] - 7s 32ms/step - loss: 7662.7044 - mean_absolute_error: 65.6251 - val_loss: 7249.9267 - val_mean_absolute_error: 63.9073\n",
      "Epoch 21/50\n",
      "213/213 [==============================] - 7s 35ms/step - loss: 7208.4867 - mean_absolute_error: 61.8711 - val_loss: 6576.8699 - val_mean_absolute_error: 56.8397\n",
      "Epoch 22/50\n",
      "213/213 [==============================] - 7s 33ms/step - loss: 7865.9987 - mean_absolute_error: 62.1460 - val_loss: 9875.5655 - val_mean_absolute_error: 75.5562\n",
      "Epoch 23/50\n",
      "213/213 [==============================] - 7s 31ms/step - loss: 8855.2201 - mean_absolute_error: 73.2955 - val_loss: 7795.4740 - val_mean_absolute_error: 66.9926\n",
      "Epoch 24/50\n",
      "213/213 [==============================] - 6s 30ms/step - loss: 7742.8698 - mean_absolute_error: 63.6468 - val_loss: 7512.5935 - val_mean_absolute_error: 65.6009\n",
      "Epoch 25/50\n",
      "213/213 [==============================] - 7s 34ms/step - loss: 7296.5382 - mean_absolute_error: 63.7195 - val_loss: 6577.9245 - val_mean_absolute_error: 59.8820\n",
      "Epoch 26/50\n",
      "213/213 [==============================] - 7s 34ms/step - loss: 7188.4042 - mean_absolute_error: 61.5624 - val_loss: 6986.7320 - val_mean_absolute_error: 61.6271\n",
      "Epoch 27/50\n",
      "213/213 [==============================] - 7s 32ms/step - loss: 7039.1157 - mean_absolute_error: 60.4989 - val_loss: 6709.8514 - val_mean_absolute_error: 61.1786\n",
      "Epoch 28/50\n",
      "213/213 [==============================] - 7s 33ms/step - loss: 6876.3864 - mean_absolute_error: 60.2383 - val_loss: 7071.4179 - val_mean_absolute_error: 62.1769\n",
      "Epoch 29/50\n",
      "213/213 [==============================] - 7s 33ms/step - loss: 7003.3279 - mean_absolute_error: 61.5180 - val_loss: 6777.3949 - val_mean_absolute_error: 61.4553\n",
      "Epoch 30/50\n",
      "213/213 [==============================] - 7s 35ms/step - loss: 6904.6031 - mean_absolute_error: 59.6598 - val_loss: 6882.2282 - val_mean_absolute_error: 61.2244\n",
      "Epoch 31/50\n",
      "213/213 [==============================] - 7s 33ms/step - loss: 7010.8970 - mean_absolute_error: 61.2036 - val_loss: 6928.0455 - val_mean_absolute_error: 61.9779\n",
      "Epoch 32/50\n",
      "213/213 [==============================] - 7s 32ms/step - loss: 6753.7594 - mean_absolute_error: 59.2916 - val_loss: 6619.8513 - val_mean_absolute_error: 61.3010\n",
      "Epoch 33/50\n",
      "213/213 [==============================] - 7s 33ms/step - loss: 6871.8492 - mean_absolute_error: 59.6822 - val_loss: 6916.2598 - val_mean_absolute_error: 63.6066\n",
      "Epoch 34/50\n",
      "213/213 [==============================] - 7s 34ms/step - loss: 7269.2272 - mean_absolute_error: 60.9096 - val_loss: 7617.4878 - val_mean_absolute_error: 65.6702\n",
      "Epoch 35/50\n",
      "213/213 [==============================] - 7s 32ms/step - loss: 8892.9189 - mean_absolute_error: 73.3095 - val_loss: 9052.5148 - val_mean_absolute_error: 74.0827\n",
      "Epoch 36/50\n",
      "213/213 [==============================] - 7s 34ms/step - loss: 8699.0937 - mean_absolute_error: 69.5273 - val_loss: 9574.1900 - val_mean_absolute_error: 74.3834\n",
      "Epoch 37/50\n",
      "213/213 [==============================] - 7s 31ms/step - loss: 8120.4820 - mean_absolute_error: 66.1778 - val_loss: 8130.9885 - val_mean_absolute_error: 69.3688\n",
      "Epoch 38/50\n",
      "213/213 [==============================] - 7s 32ms/step - loss: 7235.2240 - mean_absolute_error: 63.6764 - val_loss: 6877.7233 - val_mean_absolute_error: 62.4062\n",
      "Epoch 39/50\n",
      "213/213 [==============================] - 7s 34ms/step - loss: 7286.6530 - mean_absolute_error: 64.1211 - val_loss: 6948.4714 - val_mean_absolute_error: 63.9892\n",
      "Epoch 40/50\n",
      "213/213 [==============================] - 7s 33ms/step - loss: 7111.4722 - mean_absolute_error: 60.5961 - val_loss: 6515.3978 - val_mean_absolute_error: 60.8353\n",
      "Epoch 41/50\n",
      "213/213 [==============================] - 7s 34ms/step - loss: 6953.4180 - mean_absolute_error: 60.0130 - val_loss: 6978.9913 - val_mean_absolute_error: 63.5758\n",
      "Epoch 42/50\n",
      "213/213 [==============================] - 8s 35ms/step - loss: 7176.9521 - mean_absolute_error: 61.9656 - val_loss: 6909.2544 - val_mean_absolute_error: 62.5108\n",
      "Epoch 43/50\n",
      "213/213 [==============================] - 8s 37ms/step - loss: 7462.1309 - mean_absolute_error: 63.0655 - val_loss: 6364.0318 - val_mean_absolute_error: 61.2762\n",
      "Epoch 44/50\n",
      "213/213 [==============================] - 7s 33ms/step - loss: 7117.3076 - mean_absolute_error: 58.6501 - val_loss: 6522.9733 - val_mean_absolute_error: 61.2208\n",
      "Epoch 45/50\n",
      "213/213 [==============================] - 7s 35ms/step - loss: 10463.0394 - mean_absolute_error: 71.0832 - val_loss: 13049.0110 - val_mean_absolute_error: 81.0197\n",
      "Epoch 46/50\n",
      "213/213 [==============================] - 7s 35ms/step - loss: 16391.0326 - mean_absolute_error: 101.3419 - val_loss: 15113.4154 - val_mean_absolute_error: 110.2347\n",
      "Epoch 47/50\n",
      "213/213 [==============================] - 7s 35ms/step - loss: 13532.2521 - mean_absolute_error: 96.6941 - val_loss: 6970.3257 - val_mean_absolute_error: 60.7907\n"
     ]
    },
    {
     "name": "stdout",
     "output_type": "stream",
     "text": [
      "Epoch 48/50\n",
      "213/213 [==============================] - 7s 34ms/step - loss: 10823.2964 - mean_absolute_error: 76.8495 - val_loss: 6741.6390 - val_mean_absolute_error: 57.3437\n",
      "Epoch 49/50\n",
      "213/213 [==============================] - 7s 32ms/step - loss: 9389.6465 - mean_absolute_error: 70.8814 - val_loss: 6432.6864 - val_mean_absolute_error: 54.9911\n",
      "Epoch 50/50\n",
      "213/213 [==============================] - 7s 32ms/step - loss: 9149.2393 - mean_absolute_error: 67.1899 - val_loss: 6719.2475 - val_mean_absolute_error: 58.1306\n"
     ]
    },
    {
     "data": {
      "text/plain": [
       "<keras.callbacks.History at 0x21d6d411128>"
      ]
     },
     "execution_count": 29,
     "metadata": {},
     "output_type": "execute_result"
    }
   ],
   "source": [
    "model.fit(X_train, y_train, batch_size=32, validation_data=(X_test, y_test), epochs=50)"
   ]
  },
  {
   "cell_type": "code",
   "execution_count": 30,
   "metadata": {},
   "outputs": [
    {
     "name": "stdout",
     "output_type": "stream",
     "text": [
      "Train on 213 samples, validate on 54 samples\n",
      "Epoch 1/50\n",
      "213/213 [==============================] - 7s 33ms/step - loss: 8599.2683 - mean_absolute_error: 65.4121 - val_loss: 6576.7255 - val_mean_absolute_error: 56.6634\n",
      "Epoch 2/50\n",
      "213/213 [==============================] - 7s 31ms/step - loss: 8437.3748 - mean_absolute_error: 62.9597 - val_loss: 6396.6972 - val_mean_absolute_error: 56.1844\n",
      "Epoch 3/50\n",
      "213/213 [==============================] - 6s 30ms/step - loss: 8389.5981 - mean_absolute_error: 64.1356 - val_loss: 7717.3032 - val_mean_absolute_error: 67.7722\n",
      "Epoch 4/50\n",
      "213/213 [==============================] - 6s 30ms/step - loss: 8152.1343 - mean_absolute_error: 61.7233 - val_loss: 6261.0822 - val_mean_absolute_error: 60.3829\n",
      "Epoch 5/50\n",
      "213/213 [==============================] - 6s 30ms/step - loss: 8567.9462 - mean_absolute_error: 63.7838 - val_loss: 6307.7622 - val_mean_absolute_error: 60.4467\n",
      "Epoch 6/50\n",
      "213/213 [==============================] - 6s 29ms/step - loss: 8592.7130 - mean_absolute_error: 66.4013 - val_loss: 6271.4457 - val_mean_absolute_error: 58.4786\n",
      "Epoch 7/50\n",
      "213/213 [==============================] - 6s 30ms/step - loss: 7718.6129 - mean_absolute_error: 62.3452 - val_loss: 6274.1413 - val_mean_absolute_error: 57.5470\n",
      "Epoch 8/50\n",
      "213/213 [==============================] - 6s 30ms/step - loss: 7901.3085 - mean_absolute_error: 61.4098 - val_loss: 6437.3771 - val_mean_absolute_error: 58.0767\n",
      "Epoch 9/50\n",
      "213/213 [==============================] - 6s 29ms/step - loss: 7673.0686 - mean_absolute_error: 62.2147 - val_loss: 6443.1037 - val_mean_absolute_error: 56.6313\n",
      "Epoch 10/50\n",
      "213/213 [==============================] - 6s 29ms/step - loss: 7744.4968 - mean_absolute_error: 60.0563 - val_loss: 8587.9901 - val_mean_absolute_error: 71.0815\n",
      "Epoch 11/50\n",
      "213/213 [==============================] - 6s 29ms/step - loss: 8589.1758 - mean_absolute_error: 65.5870 - val_loss: 6355.7747 - val_mean_absolute_error: 56.8632\n",
      "Epoch 12/50\n",
      "213/213 [==============================] - 6s 29ms/step - loss: 7852.9154 - mean_absolute_error: 63.8395 - val_loss: 6323.1419 - val_mean_absolute_error: 55.7516\n",
      "Epoch 13/50\n",
      "213/213 [==============================] - 6s 29ms/step - loss: 8521.9965 - mean_absolute_error: 64.9709 - val_loss: 7600.8936 - val_mean_absolute_error: 66.3369\n",
      "Epoch 14/50\n",
      "213/213 [==============================] - 6s 30ms/step - loss: 8605.1191 - mean_absolute_error: 65.3808 - val_loss: 6425.5039 - val_mean_absolute_error: 55.3366\n",
      "Epoch 15/50\n",
      "213/213 [==============================] - 7s 31ms/step - loss: 7597.4344 - mean_absolute_error: 61.8874 - val_loss: 6843.2902 - val_mean_absolute_error: 62.6017\n",
      "Epoch 16/50\n",
      "213/213 [==============================] - 7s 33ms/step - loss: 7729.6040 - mean_absolute_error: 60.4582 - val_loss: 6501.1276 - val_mean_absolute_error: 55.7390\n",
      "Epoch 17/50\n",
      "213/213 [==============================] - 7s 33ms/step - loss: 8141.5352 - mean_absolute_error: 64.3766 - val_loss: 6355.1044 - val_mean_absolute_error: 56.0560\n",
      "Epoch 18/50\n",
      "213/213 [==============================] - 7s 33ms/step - loss: 7697.2077 - mean_absolute_error: 61.3328 - val_loss: 6306.9803 - val_mean_absolute_error: 56.9993\n",
      "Epoch 19/50\n",
      "213/213 [==============================] - 6s 30ms/step - loss: 8072.8984 - mean_absolute_error: 60.4016 - val_loss: 6853.4711 - val_mean_absolute_error: 60.1852\n",
      "Epoch 20/50\n",
      "213/213 [==============================] - 6s 30ms/step - loss: 7979.2957 - mean_absolute_error: 66.0809 - val_loss: 6861.3707 - val_mean_absolute_error: 55.3071\n",
      "Epoch 21/50\n",
      "213/213 [==============================] - 6s 30ms/step - loss: 8387.3255 - mean_absolute_error: 64.2668 - val_loss: 8909.3468 - val_mean_absolute_error: 72.2862\n",
      "Epoch 22/50\n",
      "213/213 [==============================] - 7s 31ms/step - loss: 8656.0920 - mean_absolute_error: 67.6358 - val_loss: 6681.5117 - val_mean_absolute_error: 54.9546\n",
      "Epoch 23/50\n",
      "213/213 [==============================] - 7s 31ms/step - loss: 7739.7654 - mean_absolute_error: 61.6191 - val_loss: 7602.2780 - val_mean_absolute_error: 65.2155\n",
      "Epoch 24/50\n",
      "213/213 [==============================] - 6s 29ms/step - loss: 8121.5900 - mean_absolute_error: 64.3977 - val_loss: 6572.5633 - val_mean_absolute_error: 55.9350\n",
      "Epoch 25/50\n",
      "213/213 [==============================] - 6s 29ms/step - loss: 7673.5464 - mean_absolute_error: 62.0266 - val_loss: 8138.3126 - val_mean_absolute_error: 66.0112\n",
      "Epoch 26/50\n",
      "213/213 [==============================] - 7s 31ms/step - loss: 7360.4084 - mean_absolute_error: 60.5629 - val_loss: 6759.2351 - val_mean_absolute_error: 56.0827\n",
      "Epoch 27/50\n",
      "213/213 [==============================] - 7s 31ms/step - loss: 7466.2201 - mean_absolute_error: 58.6242 - val_loss: 7643.5089 - val_mean_absolute_error: 65.4863\n",
      "Epoch 28/50\n",
      "213/213 [==============================] - 6s 29ms/step - loss: 7929.8479 - mean_absolute_error: 63.9120 - val_loss: 6969.0405 - val_mean_absolute_error: 57.4918\n",
      "Epoch 29/50\n",
      "213/213 [==============================] - 7s 34ms/step - loss: 7851.1369 - mean_absolute_error: 59.5080 - val_loss: 8099.1608 - val_mean_absolute_error: 65.0523\n",
      "Epoch 30/50\n",
      "213/213 [==============================] - 7s 32ms/step - loss: 9592.9587 - mean_absolute_error: 72.2295 - val_loss: 6663.7619 - val_mean_absolute_error: 56.2394\n",
      "Epoch 31/50\n",
      "213/213 [==============================] - 7s 31ms/step - loss: 7847.6819 - mean_absolute_error: 60.2867 - val_loss: 6508.7337 - val_mean_absolute_error: 57.7861\n",
      "Epoch 32/50\n",
      "213/213 [==============================] - 7s 31ms/step - loss: 7296.9107 - mean_absolute_error: 60.2025 - val_loss: 6814.5129 - val_mean_absolute_error: 57.5851\n",
      "Epoch 33/50\n",
      "213/213 [==============================] - 6s 28ms/step - loss: 7106.2165 - mean_absolute_error: 58.7581 - val_loss: 6950.2751 - val_mean_absolute_error: 57.9009\n",
      "Epoch 34/50\n",
      "213/213 [==============================] - 6s 30ms/step - loss: 7155.0032 - mean_absolute_error: 57.6359 - val_loss: 7220.4015 - val_mean_absolute_error: 57.8581\n",
      "Epoch 35/50\n",
      "213/213 [==============================] - 7s 31ms/step - loss: 7196.4341 - mean_absolute_error: 59.4491 - val_loss: 7382.0258 - val_mean_absolute_error: 60.8658\n",
      "Epoch 36/50\n",
      "213/213 [==============================] - 7s 31ms/step - loss: 7029.1874 - mean_absolute_error: 58.8146 - val_loss: 6589.6271 - val_mean_absolute_error: 55.4037\n",
      "Epoch 37/50\n",
      "213/213 [==============================] - 7s 32ms/step - loss: 7222.0148 - mean_absolute_error: 59.7124 - val_loss: 6915.6145 - val_mean_absolute_error: 57.7335\n",
      "Epoch 38/50\n",
      "213/213 [==============================] - 7s 31ms/step - loss: 7559.7991 - mean_absolute_error: 60.9722 - val_loss: 7307.0845 - val_mean_absolute_error: 59.6330\n",
      "Epoch 39/50\n",
      "213/213 [==============================] - 7s 32ms/step - loss: 7066.9539 - mean_absolute_error: 60.3121 - val_loss: 6928.4505 - val_mean_absolute_error: 56.2088\n",
      "Epoch 40/50\n",
      "213/213 [==============================] - 6s 30ms/step - loss: 7091.9655 - mean_absolute_error: 57.8419 - val_loss: 7051.6552 - val_mean_absolute_error: 58.0213\n",
      "Epoch 41/50\n",
      "213/213 [==============================] - 7s 31ms/step - loss: 6857.1778 - mean_absolute_error: 59.1305 - val_loss: 6918.2684 - val_mean_absolute_error: 55.6010\n",
      "Epoch 42/50\n",
      "213/213 [==============================] - 8s 36ms/step - loss: 7654.2663 - mean_absolute_error: 61.0338 - val_loss: 7046.2468 - val_mean_absolute_error: 58.7607\n",
      "Epoch 43/50\n",
      "213/213 [==============================] - 7s 32ms/step - loss: 6763.8235 - mean_absolute_error: 59.0756 - val_loss: 7255.1642 - val_mean_absolute_error: 58.6973\n",
      "Epoch 44/50\n",
      "213/213 [==============================] - 7s 33ms/step - loss: 7119.5336 - mean_absolute_error: 59.3046 - val_loss: 7305.4872 - val_mean_absolute_error: 59.7198\n",
      "Epoch 45/50\n",
      "213/213 [==============================] - 8s 36ms/step - loss: 7282.2281 - mean_absolute_error: 60.0932 - val_loss: 6861.9127 - val_mean_absolute_error: 55.7938\n",
      "Epoch 46/50\n",
      "213/213 [==============================] - 7s 34ms/step - loss: 7071.8988 - mean_absolute_error: 59.9724 - val_loss: 7403.5814 - val_mean_absolute_error: 58.6521\n",
      "Epoch 47/50\n",
      "213/213 [==============================] - 7s 34ms/step - loss: 6912.4974 - mean_absolute_error: 58.9175 - val_loss: 6936.0477 - val_mean_absolute_error: 56.9104\n"
     ]
    },
    {
     "name": "stdout",
     "output_type": "stream",
     "text": [
      "Epoch 48/50\n",
      "213/213 [==============================] - 8s 35ms/step - loss: 7241.7101 - mean_absolute_error: 61.7674 - val_loss: 6739.4009 - val_mean_absolute_error: 55.9462\n",
      "Epoch 49/50\n",
      "213/213 [==============================] - 7s 31ms/step - loss: 6998.1610 - mean_absolute_error: 59.3296 - val_loss: 7103.9572 - val_mean_absolute_error: 57.3181\n",
      "Epoch 50/50\n",
      "213/213 [==============================] - 7s 32ms/step - loss: 7018.6355 - mean_absolute_error: 58.2692 - val_loss: 7376.1235 - val_mean_absolute_error: 58.6320\n"
     ]
    },
    {
     "data": {
      "text/plain": [
       "<keras.callbacks.History at 0x21d7588a860>"
      ]
     },
     "execution_count": 30,
     "metadata": {},
     "output_type": "execute_result"
    }
   ],
   "source": [
    "model.fit(X_train, y_train, batch_size=32, validation_data=(X_test, y_test), epochs=50)"
   ]
  },
  {
   "cell_type": "markdown",
   "metadata": {},
   "source": [
    "After 200 epochs total, train and test mean absolute error ~55nm"
   ]
  },
  {
   "cell_type": "code",
   "execution_count": 141,
   "metadata": {},
   "outputs": [],
   "source": [
    "def coeff_determination(y_true, y_pred):\n",
    "    from keras import backend as K\n",
    "    SS_res =  K.sum(K.square( y_true-y_pred ))\n",
    "    SS_tot = K.sum(K.square( y_true - K.mean(y_true) ) )\n",
    "    return ( 1 - SS_res/(SS_tot + K.epsilon()) )"
   ]
  },
  {
   "cell_type": "code",
   "execution_count": 142,
   "metadata": {},
   "outputs": [],
   "source": [
    "def get_lr_metric(optimizer):\n",
    "    def lr(y_true, y_pred):\n",
    "        return optimizer.lr\n",
    "    return lr\n"
   ]
  },
  {
   "cell_type": "markdown",
   "metadata": {},
   "source": [
    "#### plot error of the model"
   ]
  },
  {
   "cell_type": "code",
   "execution_count": 13,
   "metadata": {},
   "outputs": [],
   "source": [
    "def plot_model(x_train, x_test, y_train, y_test, model):\n",
    "    fig, axes = plt.subplots(2)\n",
    "    fig.dpi=100\n",
    "    axes[0].scatter(y_train, model.predict(x_train).reshape(1,-1)-y_train, color = 'r',label='training')\n",
    "    axes[1].scatter(y_test,model.predict(x_test).reshape(1,-1)-y_test, color = 'blue',label = 'test')\n",
    "    fig.legend()\n",
    "    plt.suptitle(\"error vs. y actual\" )"
   ]
  },
  {
   "cell_type": "code",
   "execution_count": 31,
   "metadata": {},
   "outputs": [
    {
     "data": {
      "image/png": "[encoded data removed]",
      "text/plain": [
       "<Figure size 600x400 with 2 Axes>"
      ]
     },
     "metadata": {
      "needs_background": "light"
     },
     "output_type": "display_data"
    }
   ],
   "source": [
    "plot_model(X_train, X_test, y_train, y_test, model)"
   ]
  },
  {
   "cell_type": "markdown",
   "metadata": {},
   "source": [
    "### Model 2 consider transform y to make y more normal distributed, resulted in more error"
   ]
  },
  {
   "cell_type": "code",
   "execution_count": 32,
   "metadata": {},
   "outputs": [],
   "source": [
    "def tranform_log(x_list, b): #log(x-b)\n",
    "    return np.log(list(x_list-b))"
   ]
  },
  {
   "cell_type": "code",
   "execution_count": 33,
   "metadata": {},
   "outputs": [],
   "source": [
    "y_log = tranform_log(y_wl,y_wl.min()-10)"
   ]
  },
  {
   "cell_type": "code",
   "execution_count": 34,
   "metadata": {},
   "outputs": [],
   "source": [
    "def inverse_log(transformed_x,b):\n",
    "    return np.exp(transformed_x)+b"
   ]
  },
  {
   "cell_type": "code",
   "execution_count": 35,
   "metadata": {},
   "outputs": [
    {
     "data": {
      "text/plain": [
       "array([254.75, 261.75, 263.  , 265.  , 275.  , 265.  , 278.  , 271.  ,\n",
       "       271.  , 270.75, 220.  , 222.  , 242.  , 227.  , 241.  , 288.  ,\n",
       "       251.  , 279.  , 265.  , 228.  , 258.  , 248.  , 236.  , 274.  ,\n",
       "       277.  , 227.  , 222.  , 218.  , 310.25, 291.  , 240.  , 251.  ,\n",
       "       263.  , 245.  , 302.  , 252.  , 283.  , 225.  , 316.  , 230.  ,\n",
       "       442.  , 247.5 , 276.25, 294.75, 312.  , 251.  , 206.  , 209.  ,\n",
       "       212.  , 245.  , 223.  , 278.  , 275.  , 356.25, 475.  , 578.  ,\n",
       "       252.  , 241.  , 258.  , 372.5 , 270.25, 303.  , 228.  , 239.  ,\n",
       "       245.  , 218.  , 227.  , 235.  , 278.75, 276.  , 293.75, 326.  ,\n",
       "       330.  , 353.25, 432.25, 425.  , 372.  , 451.  , 251.  , 276.  ,\n",
       "       227.  , 257.  , 265.  , 270.  , 215.  , 281.  , 238.  , 204.  ,\n",
       "       219.  , 245.  , 217.  , 253.  , 231.75, 206.  , 278.  , 502.  ,\n",
       "       413.  , 286.  , 336.  , 460.5 , 219.  , 413.  , 247.  , 349.  ,\n",
       "       262.  , 257.5 , 274.25, 211.  , 278.  , 261.  , 243.  , 266.75,\n",
       "       263.75, 258.25, 228.  , 259.  , 212.  , 263.  , 265.  , 206.  ,\n",
       "       248.  , 281.  , 239.75, 225.  , 288.  , 211.  , 270.  , 287.  ,\n",
       "       458.  , 243.  , 258.  , 267.  , 401.  , 246.  , 280.  , 251.  ,\n",
       "       268.  , 249.  , 251.25, 248.  , 250.  , 233.  , 296.  , 303.  ,\n",
       "       275.  , 280.  , 326.  , 338.  , 323.75, 373.25, 459.25, 436.  ,\n",
       "       407.5 , 384.  , 436.  , 444.75, 361.  , 278.  , 247.  , 261.  ,\n",
       "       270.5 , 264.  , 249.  , 248.  , 533.  , 278.  , 587.  , 253.  ,\n",
       "       605.  , 656.  , 654.  , 628.  , 237.  , 239.  , 642.5 , 603.  ,\n",
       "       519.4 , 627.5 , 319.  , 430.  , 466.  , 478.  , 486.  , 503.  ,\n",
       "       481.  , 498.  , 555.  , 530.  , 512.  , 563.  , 504.  , 518.  ,\n",
       "       619.  , 513.  , 483.  , 497.  , 606.  , 524.25, 603.5 , 711.  ,\n",
       "       592.  , 709.5 , 818.  , 485.  , 582.  , 687.5 , 544.25, 789.  ,\n",
       "       559.25, 655.75, 763.25, 559.5 , 431.25, 616.5 , 590.5 , 543.  ,\n",
       "       590.  , 554.  , 558.  , 573.  , 597.  , 435.75, 500.25, 502.  ,\n",
       "       535.  , 559.  , 261.  , 511.75, 542.75, 553.  , 529.75, 565.  ,\n",
       "       576.  , 338.5 , 279.75, 325.  , 249.  , 285.  , 345.5 , 627.25,\n",
       "       276.  , 424.  , 205.  , 203.  , 208.  , 396.25, 402.  , 409.75,\n",
       "       408.  , 385.9 , 429.  , 491.  , 450.75, 377.  , 361.  , 698.5 ,\n",
       "       674.  , 674.  , 569.  , 429.  , 453.  , 410.  , 413.  , 414.  ,\n",
       "       401.  , 413.  , 780.2 ])"
      ]
     },
     "execution_count": 35,
     "metadata": {},
     "output_type": "execute_result"
    }
   ],
   "source": [
    "inverse_log(y_log, y_wl.min()-10)"
   ]
  },
  {
   "cell_type": "code",
   "execution_count": 47,
   "metadata": {},
   "outputs": [
    {
     "data": {
      "text/plain": [
       "(array([ 7.,  6., 15., 23., 55., 38., 19., 35., 50., 19.]),\n",
       " array([2.30258509, 2.71610175, 3.1296184 , 3.54313506, 3.95665172,\n",
       "        4.37016837, 4.78368503, 5.19720168, 5.61071834, 6.02423499,\n",
       "        6.43775165]),\n",
       " <a list of 10 Patch objects>)"
      ]
     },
     "execution_count": 47,
     "metadata": {},
     "output_type": "execute_result"
    },
    {
     "data": {
      "image/png": "[encoded data removed]",
      "text/plain": [
       "<Figure size 432x288 with 1 Axes>"
      ]
     },
     "metadata": {
      "needs_background": "light"
     },
     "output_type": "display_data"
    }
   ],
   "source": [
    "X_train, X_test, y_train, y_test=du.DataUtils.splitData(x_encode, y_log, ratio=0.2)\n",
    "plt.hist(y_log.tolist())"
   ]
  },
  {
   "cell_type": "code",
   "execution_count": 37,
   "metadata": {},
   "outputs": [
    {
     "name": "stdout",
     "output_type": "stream",
     "text": [
      "Train on 213 samples, validate on 54 samples\n",
      "Epoch 1/50\n",
      "213/213 [==============================] - 3s 12ms/step - loss: 62647.7686 - mean_absolute_error: 218.5887 - val_loss: 3425.5796 - val_mean_absolute_error: 57.6623\n",
      "Epoch 2/50\n",
      "213/213 [==============================] - 3s 15ms/step - loss: 1629.7965 - mean_absolute_error: 34.5866 - val_loss: 1.5119 - val_mean_absolute_error: 0.9973\n",
      "Epoch 3/50\n",
      "213/213 [==============================] - 3s 15ms/step - loss: 119.5826 - mean_absolute_error: 10.8718 - val_loss: 4.1511 - val_mean_absolute_error: 1.8264\n",
      "Epoch 4/50\n",
      "213/213 [==============================] - 3s 13ms/step - loss: 87.6670 - mean_absolute_error: 9.2760 - val_loss: 1.2819 - val_mean_absolute_error: 0.9058\n",
      "Epoch 5/50\n",
      "213/213 [==============================] - 3s 13ms/step - loss: 47.1415 - mean_absolute_error: 6.7406 - val_loss: 9.1791 - val_mean_absolute_error: 2.8942\n",
      "Epoch 6/50\n",
      "213/213 [==============================] - 3s 14ms/step - loss: 21.6300 - mean_absolute_error: 4.5148 - val_loss: 16.5987 - val_mean_absolute_error: 3.9745\n",
      "Epoch 7/50\n",
      "213/213 [==============================] - 3s 13ms/step - loss: 11.7578 - mean_absolute_error: 3.2485 - val_loss: 20.3994 - val_mean_absolute_error: 4.4262\n",
      "Epoch 8/50\n",
      "213/213 [==============================] - 3s 14ms/step - loss: 7.1977 - mean_absolute_error: 2.4709 - val_loss: 21.5639 - val_mean_absolute_error: 4.5557\n",
      "Epoch 9/50\n",
      "213/213 [==============================] - 3s 12ms/step - loss: 4.6235 - mean_absolute_error: 1.8949 - val_loss: 21.9311 - val_mean_absolute_error: 4.5959\n",
      "Epoch 10/50\n",
      "213/213 [==============================] - 3s 13ms/step - loss: 3.5346 - mean_absolute_error: 1.6087 - val_loss: 21.9606 - val_mean_absolute_error: 4.5991\n",
      "Epoch 11/50\n",
      "213/213 [==============================] - 3s 13ms/step - loss: 2.8493 - mean_absolute_error: 1.3881 - val_loss: 21.9772 - val_mean_absolute_error: 4.6009\n",
      "Epoch 12/50\n",
      "213/213 [==============================] - 3s 14ms/step - loss: 2.5602 - mean_absolute_error: 1.2902 - val_loss: 21.9892 - val_mean_absolute_error: 4.6022\n",
      "Epoch 13/50\n",
      "213/213 [==============================] - 3s 13ms/step - loss: 2.1544 - mean_absolute_error: 1.1656 - val_loss: 21.9987 - val_mean_absolute_error: 4.6032\n",
      "Epoch 14/50\n",
      "213/213 [==============================] - 3s 14ms/step - loss: 2.0071 - mean_absolute_error: 1.1362 - val_loss: 22.0067 - val_mean_absolute_error: 4.6041\n",
      "Epoch 15/50\n",
      "213/213 [==============================] - 3s 14ms/step - loss: 1.7810 - mean_absolute_error: 1.0512 - val_loss: 22.0137 - val_mean_absolute_error: 4.6048\n",
      "Epoch 16/50\n",
      "213/213 [==============================] - 3s 14ms/step - loss: 1.6190 - mean_absolute_error: 1.0330 - val_loss: 22.0195 - val_mean_absolute_error: 4.6054\n",
      "Epoch 17/50\n",
      "213/213 [==============================] - 3s 15ms/step - loss: 1.6152 - mean_absolute_error: 1.0086 - val_loss: 22.0249 - val_mean_absolute_error: 4.6060\n",
      "Epoch 18/50\n",
      "213/213 [==============================] - 3s 13ms/step - loss: 1.4405 - mean_absolute_error: 0.9652 - val_loss: 22.0296 - val_mean_absolute_error: 4.6065\n",
      "Epoch 19/50\n",
      "213/213 [==============================] - 3s 13ms/step - loss: 1.3306 - mean_absolute_error: 0.9362 - val_loss: 22.0340 - val_mean_absolute_error: 4.6070\n",
      "Epoch 20/50\n",
      "213/213 [==============================] - 3s 15ms/step - loss: 1.2423 - mean_absolute_error: 0.9194 - val_loss: 22.0380 - val_mean_absolute_error: 4.6074\n",
      "Epoch 21/50\n",
      "213/213 [==============================] - 3s 14ms/step - loss: 1.3195 - mean_absolute_error: 0.9532 - val_loss: 22.0417 - val_mean_absolute_error: 4.6078\n",
      "Epoch 22/50\n",
      "213/213 [==============================] - 3s 16ms/step - loss: 1.2694 - mean_absolute_error: 0.9368 - val_loss: 22.0450 - val_mean_absolute_error: 4.6082\n",
      "Epoch 23/50\n",
      "213/213 [==============================] - 3s 15ms/step - loss: 1.2515 - mean_absolute_error: 0.9065 - val_loss: 22.0483 - val_mean_absolute_error: 4.6085\n",
      "Epoch 24/50\n",
      "213/213 [==============================] - 3s 15ms/step - loss: 1.1551 - mean_absolute_error: 0.8850 - val_loss: 22.0513 - val_mean_absolute_error: 4.6089\n",
      "Epoch 25/50\n",
      "213/213 [==============================] - 3s 15ms/step - loss: 1.1762 - mean_absolute_error: 0.8961 - val_loss: 22.0541 - val_mean_absolute_error: 4.6092\n",
      "Epoch 26/50\n",
      "213/213 [==============================] - 4s 17ms/step - loss: 1.2233 - mean_absolute_error: 0.9264 - val_loss: 22.0566 - val_mean_absolute_error: 4.6094\n",
      "Epoch 27/50\n",
      "213/213 [==============================] - 3s 16ms/step - loss: 1.1256 - mean_absolute_error: 0.8739 - val_loss: 22.0590 - val_mean_absolute_error: 4.6097\n",
      "Epoch 28/50\n",
      "213/213 [==============================] - 3s 14ms/step - loss: 1.1449 - mean_absolute_error: 0.8944 - val_loss: 22.0613 - val_mean_absolute_error: 4.6099\n",
      "Epoch 29/50\n",
      "213/213 [==============================] - 3s 16ms/step - loss: 1.2219 - mean_absolute_error: 0.9355 - val_loss: 22.0633 - val_mean_absolute_error: 4.6102\n",
      "Epoch 30/50\n",
      "213/213 [==============================] - 3s 15ms/step - loss: 1.0584 - mean_absolute_error: 0.8796 - val_loss: 22.0652 - val_mean_absolute_error: 4.6104\n",
      "Epoch 31/50\n",
      "213/213 [==============================] - 4s 17ms/step - loss: 1.0147 - mean_absolute_error: 0.8385 - val_loss: 22.0668 - val_mean_absolute_error: 4.6105\n",
      "Epoch 32/50\n",
      "213/213 [==============================] - 3s 16ms/step - loss: 1.0779 - mean_absolute_error: 0.8631 - val_loss: 22.0684 - val_mean_absolute_error: 4.6107\n",
      "Epoch 33/50\n",
      "213/213 [==============================] - 3s 13ms/step - loss: 1.1591 - mean_absolute_error: 0.8964 - val_loss: 22.0700 - val_mean_absolute_error: 4.6109\n",
      "Epoch 34/50\n",
      "213/213 [==============================] - 3s 13ms/step - loss: 1.0614 - mean_absolute_error: 0.8674 - val_loss: 22.0712 - val_mean_absolute_error: 4.6110\n",
      "Epoch 35/50\n",
      "213/213 [==============================] - 4s 17ms/step - loss: 1.0568 - mean_absolute_error: 0.8629 - val_loss: 22.0723 - val_mean_absolute_error: 4.6111\n",
      "Epoch 36/50\n",
      "213/213 [==============================] - 4s 17ms/step - loss: 1.0568 - mean_absolute_error: 0.8472 - val_loss: 22.0734 - val_mean_absolute_error: 4.6113\n",
      "Epoch 37/50\n",
      "213/213 [==============================] - 3s 15ms/step - loss: 0.9729 - mean_absolute_error: 0.8297 - val_loss: 22.0744 - val_mean_absolute_error: 4.6114\n",
      "Epoch 38/50\n",
      "213/213 [==============================] - 3s 13ms/step - loss: 1.0474 - mean_absolute_error: 0.8585 - val_loss: 22.0753 - val_mean_absolute_error: 4.6115\n",
      "Epoch 39/50\n",
      "213/213 [==============================] - 3s 13ms/step - loss: 1.0941 - mean_absolute_error: 0.8762 - val_loss: 22.0761 - val_mean_absolute_error: 4.6115\n",
      "Epoch 40/50\n",
      "213/213 [==============================] - 3s 13ms/step - loss: 1.0486 - mean_absolute_error: 0.8609 - val_loss: 22.0768 - val_mean_absolute_error: 4.6116\n",
      "Epoch 41/50\n",
      "213/213 [==============================] - 3s 13ms/step - loss: 1.0925 - mean_absolute_error: 0.8851 - val_loss: 22.0775 - val_mean_absolute_error: 4.6117\n",
      "Epoch 42/50\n",
      "213/213 [==============================] - 3s 13ms/step - loss: 1.1153 - mean_absolute_error: 0.8941 - val_loss: 22.0782 - val_mean_absolute_error: 4.6118\n",
      "Epoch 43/50\n",
      "213/213 [==============================] - 3s 13ms/step - loss: 1.0380 - mean_absolute_error: 0.8614 - val_loss: 22.0786 - val_mean_absolute_error: 4.6118\n",
      "Epoch 44/50\n",
      "213/213 [==============================] - 3s 13ms/step - loss: 1.0517 - mean_absolute_error: 0.8667 - val_loss: 22.0791 - val_mean_absolute_error: 4.6119\n",
      "Epoch 45/50\n",
      "213/213 [==============================] - 3s 13ms/step - loss: 0.9358 - mean_absolute_error: 0.8139 - val_loss: 22.0796 - val_mean_absolute_error: 4.6119\n",
      "Epoch 46/50\n",
      "213/213 [==============================] - 3s 13ms/step - loss: 1.0212 - mean_absolute_error: 0.8536 - val_loss: 22.0799 - val_mean_absolute_error: 4.6120\n",
      "Epoch 47/50\n",
      "213/213 [==============================] - 3s 13ms/step - loss: 1.0727 - mean_absolute_error: 0.8814 - val_loss: 22.0805 - val_mean_absolute_error: 4.6120\n",
      "Epoch 48/50\n",
      "213/213 [==============================] - 3s 15ms/step - loss: 1.0845 - mean_absolute_error: 0.8862 - val_loss: 22.0812 - val_mean_absolute_error: 4.6121\n",
      "Epoch 49/50\n",
      "213/213 [==============================] - 3s 14ms/step - loss: 1.0891 - mean_absolute_error: 0.8710 - val_loss: 22.0818 - val_mean_absolute_error: 4.6122\n"
     ]
    },
    {
     "name": "stdout",
     "output_type": "stream",
     "text": [
      "Epoch 50/50\n",
      "213/213 [==============================] - 3s 12ms/step - loss: 1.0762 - mean_absolute_error: 0.8857 - val_loss: 22.0825 - val_mean_absolute_error: 4.6122\n"
     ]
    },
    {
     "data": {
      "text/plain": [
       "<keras.callbacks.History at 0x21d7897e208>"
      ]
     },
     "execution_count": 37,
     "metadata": {},
     "output_type": "execute_result"
    }
   ],
   "source": [
    "model.fit(X_train, y_train, batch_size=32, validation_data=(X_test, y_test), epochs=50)"
   ]
  },
  {
   "cell_type": "code",
   "execution_count": 38,
   "metadata": {},
   "outputs": [
    {
     "data": {
      "image/png": "[encoded data removed]",
      "text/plain": [
       "<Figure size 600x400 with 2 Axes>"
      ]
     },
     "metadata": {
      "needs_background": "light"
     },
     "output_type": "display_data"
    }
   ],
   "source": [
    "plot_model(X_train, X_test, y_train, y_test, model)"
   ]
  },
  {
   "cell_type": "code",
   "execution_count": 48,
   "metadata": {},
   "outputs": [
    {
     "data": {
      "text/plain": [
       "array([[194.06293, 194.06416, 194.06416, 194.06299, 194.06416, 194.06647,\n",
       "        194.06416, 194.06299, 194.06416, 194.06299, 194.06416, 194.06299,\n",
       "        194.06252, 194.06416, 194.06416, 194.06416, 194.06416, 194.06416,\n",
       "        194.06416, 194.06416, 194.06299, 194.06416, 194.03085, 194.06416,\n",
       "        194.06416, 194.06416, 194.06299, 194.06416, 194.06416, 194.06416,\n",
       "        194.06299, 194.06416, 194.06299, 194.06299, 194.06416, 194.06416,\n",
       "        194.06416, 194.06299, 194.06299, 194.06299, 194.06416, 194.06416,\n",
       "        194.06416, 194.06416, 194.06383, 194.05634, 194.06299, 194.06299,\n",
       "        194.06383, 194.06299, 194.06299, 194.06299, 194.06299, 194.06416,\n",
       "        194.06416, 194.06946, 194.06064, 194.06416, 194.06299, 194.06416,\n",
       "        194.05634, 194.06416, 194.06416, 194.06416, 194.06416, 194.06299,\n",
       "        194.06416, 194.06416, 194.06416, 194.06252, 194.06416, 194.06416,\n",
       "        194.06416, 194.06299, 194.06416, 194.06416, 194.06299, 194.06416,\n",
       "        194.06416, 194.06416, 194.06383, 194.05663, 194.06416, 194.06311,\n",
       "        194.06299, 194.06416, 194.06416, 194.06416, 194.06299, 194.06299,\n",
       "        194.06416, 194.06416, 194.06416, 194.06416, 194.06416, 194.06299,\n",
       "        194.06416, 194.06299, 194.05634, 194.06299, 194.06416, 194.06299,\n",
       "        194.06416, 194.06416, 194.06416, 194.06299, 194.06416, 194.06416,\n",
       "        194.06299, 194.06416, 194.06416, 194.06299, 194.06416, 194.05634,\n",
       "        194.06416, 194.06416, 194.05634, 194.06299, 194.06741, 194.06416,\n",
       "        194.06416, 194.06416, 194.06383, 194.06383, 194.05634, 194.06416,\n",
       "        194.06299, 194.06299, 194.06416, 194.06299, 194.06299, 194.06416,\n",
       "        194.06416, 194.06416, 194.06299, 194.06416, 194.06416, 194.06416,\n",
       "        194.06299, 194.06299, 194.06311, 194.06416, 194.06416, 194.06299,\n",
       "        194.06416, 194.06311, 194.06299, 194.06299, 194.06299, 194.06416,\n",
       "        194.06416, 194.06416, 194.06416, 194.06299, 194.06299, 194.06416,\n",
       "        194.06299, 194.06416, 194.06416, 194.06064, 194.06293, 194.06416,\n",
       "        194.06299, 194.06416, 194.06416, 194.06416, 194.06416, 194.06416,\n",
       "        194.06416, 194.06416, 194.06416, 194.06416, 194.06299, 194.06299,\n",
       "        194.06299, 194.06416, 194.06299, 194.06299, 194.06252, 194.06299,\n",
       "        194.05634, 194.06416, 194.06416, 194.06299, 194.06416, 194.06416,\n",
       "        194.0636 , 194.06416, 194.06383, 194.05634, 194.06299, 194.06299,\n",
       "        194.06299, 194.06416, 194.06299, 194.06416, 194.06064, 194.06804,\n",
       "        194.06299, 194.06416, 194.06299, 194.06299, 194.06299, 194.06416,\n",
       "        194.06416, 194.05634, 194.06416, 194.06299, 194.06416, 194.06416,\n",
       "        194.06416, 194.06416, 194.06416]], dtype=float32)"
      ]
     },
     "execution_count": 48,
     "metadata": {},
     "output_type": "execute_result"
    }
   ],
   "source": [
    "inverse_log(model.predict(X_train).reshape(1,-1), y_wl.min()-10)"
   ]
  },
  {
   "cell_type": "code",
   "execution_count": 49,
   "metadata": {},
   "outputs": [
    {
     "data": {
      "text/plain": [
       "Text(0.5, 0.98, 'error vs. y actual')"
      ]
     },
     "execution_count": 49,
     "metadata": {},
     "output_type": "execute_result"
    },
    {
     "data": {
      "image/png": "[encoded data removed]",
      "text/plain": [
       "<Figure size 600x400 with 2 Axes>"
      ]
     },
     "metadata": {
      "needs_background": "light"
     },
     "output_type": "display_data"
    }
   ],
   "source": [
    "fig, axes = plt.subplots(2)\n",
    "fig.dpi=100\n",
    "axes[0].scatter(inverse_log(y_train, y_wl.min()-10), inverse_log(model.predict(X_train).reshape(1,-1), y_wl.min()-10)-inverse_log(y_train, y_wl.min()-10), color = 'r',label='training')\n",
    "\n",
    "fig.legend()\n",
    "plt.suptitle(\"error vs. y actual\" )"
   ]
  },
  {
   "cell_type": "markdown",
   "metadata": {},
   "source": [
    "A lot more error at higher wavelength"
   ]
  },
  {
   "cell_type": "markdown",
   "metadata": {},
   "source": [
    "### Try under sample the 200-400nm region to make the y more uniform"
   ]
  },
  {
   "cell_type": "code",
   "execution_count": 9,
   "metadata": {},
   "outputs": [],
   "source": [
    "Y_category = (y_wl - 200) // 20"
   ]
  },
  {
   "cell_type": "code",
   "execution_count": 11,
   "metadata": {},
   "outputs": [
    {
     "name": "stdout",
     "output_type": "stream",
     "text": [
      "{0.0: 18, 1.0: 23, 2.0: 40, 3.0: 44, 4.0: 14, 5.0: 7, 6.0: 8, 7.0: 4, 8.0: 6, 9.0: 3, 10.0: 12, 11.0: 10, 12.0: 7, 13.0: 4, 14.0: 7, 15.0: 10, 16.0: 5, 17.0: 10, 18.0: 6, 19.0: 6, 20.0: 6, 21.0: 3, 22.0: 4, 23.0: 2, 24.0: 2, 25.0: 2, 28.0: 1, 29.0: 2, 30.0: 1}\n"
     ]
    }
   ],
   "source": [
    "cls, counts = np.unique(Y_category, return_counts=True)\n",
    "cls_counts = dict(zip(cls, counts))\n",
    "print(cls_counts)"
   ]
  },
  {
   "cell_type": "markdown",
   "metadata": {},
   "source": [
    "#### To each category, keep less than 20 counts per category"
   ]
  },
  {
   "cell_type": "code",
   "execution_count": 40,
   "metadata": {},
   "outputs": [],
   "source": [
    "data_cat=np.column_stack((x_str,y_wl,Y_category))"
   ]
  },
  {
   "cell_type": "code",
   "execution_count": 61,
   "metadata": {},
   "outputs": [],
   "source": [
    "def subsampling(dataset, cls_max, cls_dict):\n",
    "    out = []\n",
    "    for row in dataset:\n",
    "        cls = row[2]\n",
    "        rInt = np.random.randint(0, cls_dict[cls])\n",
    "        if rInt <= cls_max:\n",
    "            out.append(row)\n",
    "    return np.array(out)\n",
    "\n",
    "subsampled = subsampling(data_cat, 10, cls_counts)"
   ]
  },
  {
   "cell_type": "code",
   "execution_count": 62,
   "metadata": {},
   "outputs": [
    {
     "data": {
      "text/plain": [
       "(189,)"
      ]
     },
     "execution_count": 62,
     "metadata": {},
     "output_type": "execute_result"
    }
   ],
   "source": [
    "subsampled[:,1].shape"
   ]
  },
  {
   "cell_type": "code",
   "execution_count": 63,
   "metadata": {},
   "outputs": [],
   "source": [
    "x_encode=du.DataUtils.numeric_encoding(subsampled[:,0],uniform_length=maxlen+5,word_map=wordmap)"
   ]
  },
  {
   "cell_type": "code",
   "execution_count": 64,
   "metadata": {},
   "outputs": [],
   "source": [
    "y_sub = subsampled[:,1]"
   ]
  },
  {
   "cell_type": "code",
   "execution_count": 67,
   "metadata": {},
   "outputs": [
    {
     "data": {
      "text/plain": [
       "(array([41., 29., 18., 25., 21., 23., 18.,  7.,  3.,  4.]),\n",
       " array([203. , 264.5, 326. , 387.5, 449. , 510.5, 572. , 633.5, 695. ,\n",
       "        756.5, 818. ]),\n",
       " <a list of 10 Patch objects>)"
      ]
     },
     "execution_count": 67,
     "metadata": {},
     "output_type": "execute_result"
    },
    {
     "data": {
      "image/png": "[encoded data removed]",
      "text/plain": [
       "<Figure size 432x288 with 1 Axes>"
      ]
     },
     "metadata": {
      "needs_background": "light"
     },
     "output_type": "display_data"
    }
   ],
   "source": [
    "X_train, X_test, y_train, y_test=du.DataUtils.splitData(x_encode, y_sub, ratio=0.15)\n",
    "plt.hist(y_sub.tolist())"
   ]
  },
  {
   "cell_type": "code",
   "execution_count": 70,
   "metadata": {},
   "outputs": [
    {
     "name": "stdout",
     "output_type": "stream",
     "text": [
      "_________________________________________________________________\n",
      "Layer (type)                 Output Shape              Param #   \n",
      "=================================================================\n",
      "embedding_2 (Embedding)      (None, 279, 50)           2250      \n",
      "_________________________________________________________________\n",
      "lstm_4 (LSTM)                (None, 279, 50)           20200     \n",
      "_________________________________________________________________\n",
      "lstm_5 (LSTM)                (None, 279, 50)           20200     \n",
      "_________________________________________________________________\n",
      "lstm_6 (LSTM)                (None, 279, 50)           20200     \n",
      "_________________________________________________________________\n",
      "dropout_2 (Dropout)          (None, 279, 50)           0         \n",
      "_________________________________________________________________\n",
      "dense_3 (Dense)              (None, 279, 50)           2550      \n",
      "_________________________________________________________________\n",
      "flatten_2 (Flatten)          (None, 13950)             0         \n",
      "_________________________________________________________________\n",
      "dense_4 (Dense)              (None, 1)                 13951     \n",
      "=================================================================\n",
      "Total params: 79,351\n",
      "Trainable params: 79,351\n",
      "Non-trainable params: 0\n",
      "_________________________________________________________________\n"
     ]
    }
   ],
   "source": [
    "hidden_size = 50\n",
    "model = Sequential()\n",
    "model.add(Embedding(len(wordmap), hidden_size, input_length=maxlen+5))\n",
    "model.add(LSTM(hidden_size, return_sequences=True))\n",
    "model.add(LSTM(hidden_size, return_sequences=True))\n",
    "model.add(LSTM(hidden_size, return_sequences=True))\n",
    "model.add(Dropout(0.4))\n",
    "model.add(Dense(hidden_size, activation='relu'))\n",
    "model.add(Flatten())\n",
    "model.add(Dense(1, activation='linear'))\n",
    "\n",
    "model.compile(loss='mean_squared_error', optimizer='Adam', metrics=['mean_absolute_error'])\n",
    "model.summary()\n",
    "\n"
   ]
  },
  {
   "cell_type": "code",
   "execution_count": 71,
   "metadata": {},
   "outputs": [
    {
     "name": "stdout",
     "output_type": "stream",
     "text": [
      "Train on 160 samples, validate on 29 samples\n",
      "Epoch 1/50\n",
      "160/160 [==============================] - 4s 26ms/step - loss: 198562.2719 - mean_absolute_error: 419.9061 - val_loss: 164067.7656 - val_mean_absolute_error: 379.2515\n",
      "Epoch 2/50\n",
      "160/160 [==============================] - 2s 11ms/step - loss: 193748.8687 - mean_absolute_error: 413.9373 - val_loss: 150534.7188 - val_mean_absolute_error: 360.8287\n",
      "Epoch 3/50\n",
      "160/160 [==============================] - 2s 11ms/step - loss: 157656.6547 - mean_absolute_error: 366.3126 - val_loss: 92568.8984 - val_mean_absolute_error: 268.7489\n",
      "Epoch 4/50\n",
      "160/160 [==============================] - 2s 11ms/step - loss: 83147.7500 - mean_absolute_error: 246.3115 - val_loss: 35154.0078 - val_mean_absolute_error: 133.5898\n",
      "Epoch 5/50\n",
      "160/160 [==============================] - 2s 11ms/step - loss: 30540.1109 - mean_absolute_error: 139.6379 - val_loss: 26367.6211 - val_mean_absolute_error: 143.5896\n",
      "Epoch 6/50\n",
      "160/160 [==============================] - 2s 11ms/step - loss: 34718.2926 - mean_absolute_error: 157.1566 - val_loss: 42068.2344 - val_mean_absolute_error: 176.1447\n",
      "Epoch 7/50\n",
      "160/160 [==============================] - 2s 14ms/step - loss: 29924.5535 - mean_absolute_error: 146.3046 - val_loss: 22260.9238 - val_mean_absolute_error: 134.2974\n",
      "Epoch 8/50\n",
      "160/160 [==============================] - 2s 15ms/step - loss: 23688.7281 - mean_absolute_error: 129.3227 - val_loss: 20858.8496 - val_mean_absolute_error: 125.2265\n",
      "Epoch 9/50\n",
      "160/160 [==============================] - 2s 15ms/step - loss: 25903.9424 - mean_absolute_error: 131.8753 - val_loss: 20902.7441 - val_mean_absolute_error: 125.1355\n",
      "Epoch 10/50\n",
      "160/160 [==============================] - 2s 14ms/step - loss: 24060.5828 - mean_absolute_error: 128.9748 - val_loss: 20444.9160 - val_mean_absolute_error: 129.3595\n",
      "Epoch 11/50\n",
      "160/160 [==============================] - 2s 14ms/step - loss: 22068.6123 - mean_absolute_error: 125.4892 - val_loss: 22662.2090 - val_mean_absolute_error: 135.3219\n",
      "Epoch 12/50\n",
      "160/160 [==============================] - 2s 15ms/step - loss: 22817.5273 - mean_absolute_error: 128.8749 - val_loss: 23126.7656 - val_mean_absolute_error: 136.4079\n",
      "Epoch 13/50\n",
      "160/160 [==============================] - 2s 15ms/step - loss: 22651.2730 - mean_absolute_error: 128.0012 - val_loss: 21567.7637 - val_mean_absolute_error: 132.2514\n",
      "Epoch 14/50\n",
      "160/160 [==============================] - 2s 14ms/step - loss: 22831.2535 - mean_absolute_error: 127.5755 - val_loss: 20358.9570 - val_mean_absolute_error: 129.0246\n",
      "Epoch 15/50\n",
      "160/160 [==============================] - 2s 14ms/step - loss: 22535.7891 - mean_absolute_error: 126.1639 - val_loss: 20517.6816 - val_mean_absolute_error: 129.5950\n",
      "Epoch 16/50\n",
      "160/160 [==============================] - 2s 15ms/step - loss: 22570.9986 - mean_absolute_error: 127.3895 - val_loss: 21326.4648 - val_mean_absolute_error: 131.4192\n",
      "Epoch 17/50\n",
      "160/160 [==============================] - 3s 16ms/step - loss: 22360.3285 - mean_absolute_error: 126.6915 - val_loss: 21222.3184 - val_mean_absolute_error: 131.0881\n",
      "Epoch 18/50\n",
      "160/160 [==============================] - 2s 15ms/step - loss: 22355.7719 - mean_absolute_error: 126.7708 - val_loss: 21271.4531 - val_mean_absolute_error: 131.2180\n",
      "Epoch 19/50\n",
      "160/160 [==============================] - 2s 15ms/step - loss: 22372.9102 - mean_absolute_error: 126.6451 - val_loss: 21025.3145 - val_mean_absolute_error: 130.7471\n",
      "Epoch 20/50\n",
      "160/160 [==============================] - 2s 14ms/step - loss: 22114.5500 - mean_absolute_error: 126.1864 - val_loss: 20953.9160 - val_mean_absolute_error: 130.6133\n",
      "Epoch 21/50\n",
      "160/160 [==============================] - 2s 14ms/step - loss: 22364.9762 - mean_absolute_error: 126.8283 - val_loss: 21107.2305 - val_mean_absolute_error: 130.8916\n",
      "Epoch 22/50\n",
      "160/160 [==============================] - 2s 15ms/step - loss: 22335.2055 - mean_absolute_error: 126.4033 - val_loss: 20915.8711 - val_mean_absolute_error: 130.5386\n",
      "Epoch 23/50\n",
      "160/160 [==============================] - 2s 15ms/step - loss: 22327.0363 - mean_absolute_error: 126.5486 - val_loss: 21006.8008 - val_mean_absolute_error: 130.7107\n",
      "Epoch 24/50\n",
      "160/160 [==============================] - 2s 14ms/step - loss: 22205.2121 - mean_absolute_error: 126.1215 - val_loss: 21032.5039 - val_mean_absolute_error: 130.7570\n",
      "Epoch 25/50\n",
      "160/160 [==============================] - 2s 14ms/step - loss: 22442.8605 - mean_absolute_error: 126.6654 - val_loss: 20728.7773 - val_mean_absolute_error: 130.1420\n",
      "Epoch 26/50\n",
      "160/160 [==============================] - 2s 15ms/step - loss: 22432.7062 - mean_absolute_error: 126.8028 - val_loss: 21446.8711 - val_mean_absolute_error: 131.8508\n",
      "Epoch 27/50\n",
      "160/160 [==============================] - 2s 15ms/step - loss: 22352.1879 - mean_absolute_error: 126.9569 - val_loss: 21295.8633 - val_mean_absolute_error: 131.3148\n",
      "Epoch 28/50\n",
      "160/160 [==============================] - 2s 15ms/step - loss: 22230.5426 - mean_absolute_error: 126.0930 - val_loss: 20740.4141 - val_mean_absolute_error: 130.1669\n",
      "Epoch 29/50\n",
      "160/160 [==============================] - 2s 15ms/step - loss: 22418.3363 - mean_absolute_error: 126.5878 - val_loss: 20817.5469 - val_mean_absolute_error: 130.3346\n",
      "Epoch 30/50\n",
      "160/160 [==============================] - 2s 14ms/step - loss: 22236.7758 - mean_absolute_error: 126.1170 - val_loss: 21102.7285 - val_mean_absolute_error: 130.8766\n",
      "Epoch 31/50\n",
      "160/160 [==============================] - 2s 14ms/step - loss: 22371.3494 - mean_absolute_error: 126.8325 - val_loss: 21667.6660 - val_mean_absolute_error: 132.5822\n",
      "Epoch 32/50\n",
      "160/160 [==============================] - 2s 15ms/step - loss: 22658.1805 - mean_absolute_error: 127.8566 - val_loss: 20657.4922 - val_mean_absolute_error: 129.9699\n",
      "Epoch 33/50\n",
      "160/160 [==============================] - 2s 15ms/step - loss: 22413.0434 - mean_absolute_error: 126.7174 - val_loss: 21078.0586 - val_mean_absolute_error: 130.8306\n",
      "Epoch 34/50\n",
      "160/160 [==============================] - 2s 15ms/step - loss: 22326.8348 - mean_absolute_error: 126.5271 - val_loss: 21348.3574 - val_mean_absolute_error: 131.5116\n",
      "Epoch 35/50\n",
      "160/160 [==============================] - 2s 15ms/step - loss: 22378.4824 - mean_absolute_error: 126.5463 - val_loss: 20685.6191 - val_mean_absolute_error: 130.0361\n",
      "Epoch 36/50\n",
      "160/160 [==============================] - 2s 15ms/step - loss: 22287.0797 - mean_absolute_error: 126.0888 - val_loss: 20971.0273 - val_mean_absolute_error: 130.6331\n",
      "Epoch 37/50\n",
      "160/160 [==============================] - 2s 14ms/step - loss: 22351.3479 - mean_absolute_error: 126.5227 - val_loss: 21422.2285 - val_mean_absolute_error: 131.7749\n",
      "Epoch 38/50\n",
      "160/160 [==============================] - 2s 15ms/step - loss: 22245.4871 - mean_absolute_error: 126.5657 - val_loss: 21115.4805 - val_mean_absolute_error: 130.8893\n",
      "Epoch 39/50\n",
      "160/160 [==============================] - 2s 14ms/step - loss: 22331.8746 - mean_absolute_error: 126.0422 - val_loss: 20546.4844 - val_mean_absolute_error: 129.6761\n",
      "Epoch 40/50\n",
      "160/160 [==============================] - 2s 14ms/step - loss: 22195.0164 - mean_absolute_error: 125.9341 - val_loss: 20926.3008 - val_mean_absolute_error: 130.5433\n",
      "Epoch 41/50\n",
      "160/160 [==============================] - 2s 14ms/step - loss: 22314.3941 - mean_absolute_error: 126.4286 - val_loss: 21025.0293 - val_mean_absolute_error: 130.7259\n",
      "Epoch 42/50\n",
      "160/160 [==============================] - 3s 16ms/step - loss: 22454.7027 - mean_absolute_error: 126.9741 - val_loss: 21427.4316 - val_mean_absolute_error: 131.7989\n",
      "Epoch 43/50\n",
      "160/160 [==============================] - 2s 15ms/step - loss: 22297.0234 - mean_absolute_error: 126.6299 - val_loss: 21091.4492 - val_mean_absolute_error: 130.8399\n",
      "Epoch 44/50\n",
      "160/160 [==============================] - 2s 14ms/step - loss: 22346.7859 - mean_absolute_error: 126.4584 - val_loss: 20837.1699 - val_mean_absolute_error: 130.3607\n",
      "Epoch 45/50\n",
      "160/160 [==============================] - 2s 14ms/step - loss: 22394.8834 - mean_absolute_error: 126.4250 - val_loss: 20929.2285 - val_mean_absolute_error: 130.5412\n",
      "Epoch 46/50\n",
      "160/160 [==============================] - 2s 14ms/step - loss: 22275.2199 - mean_absolute_error: 126.4958 - val_loss: 21331.9512 - val_mean_absolute_error: 131.4699\n"
     ]
    },
    {
     "name": "stdout",
     "output_type": "stream",
     "text": [
      "Epoch 47/50\n",
      "160/160 [==============================] - 2s 14ms/step - loss: 22313.2809 - mean_absolute_error: 126.6933 - val_loss: 21134.8574 - val_mean_absolute_error: 130.9054\n",
      "Epoch 48/50\n",
      "160/160 [==============================] - 2s 14ms/step - loss: 22432.8074 - mean_absolute_error: 126.7174 - val_loss: 20603.0156 - val_mean_absolute_error: 129.8223\n",
      "Epoch 49/50\n",
      "160/160 [==============================] - 2s 14ms/step - loss: 22217.7729 - mean_absolute_error: 125.7395 - val_loss: 20892.5215 - val_mean_absolute_error: 130.4620\n",
      "Epoch 50/50\n",
      "160/160 [==============================] - 2s 14ms/step - loss: 22078.0854 - mean_absolute_error: 125.7653 - val_loss: 21381.2891 - val_mean_absolute_error: 131.6530\n"
     ]
    },
    {
     "data": {
      "text/plain": [
       "<keras.callbacks.History at 0x2af421a0438>"
      ]
     },
     "execution_count": 71,
     "metadata": {},
     "output_type": "execute_result"
    }
   ],
   "source": [
    "model.fit(X_train, y_train, batch_size=32, validation_data=(X_test, y_test), epochs=50)"
   ]
  },
  {
   "cell_type": "code",
   "execution_count": null,
   "metadata": {},
   "outputs": [],
   "source": []
  }
 ],
 "metadata": {
  "kernelspec": {
   "display_name": "test_speedcom",
   "language": "python",
   "name": "test_speedcom"
  },
  "language_info": {
   "codemirror_mode": {
    "name": "ipython",
    "version": 3
   },
   "file_extension": ".py",
   "mimetype": "text/x-python",
   "name": "python",
   "nbconvert_exporter": "python",
   "pygments_lexer": "ipython3",
   "version": "3.6.8"
  }
 },
 "nbformat": 4,
 "nbformat_minor": 2
}
