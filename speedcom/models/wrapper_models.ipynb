{
 "cells": [
  {
   "cell_type": "code",
   "execution_count": 8,
   "metadata": {},
   "outputs": [],
   "source": [
    "import numpy as np\n",
    "import pandas as pd\n",
    "import matplotlib.pyplot as plt\n",
    "\n",
    "\n",
    "from keras.models import model_from_json\n",
    "\n",
    "from sklearn import metrics\n",
    "\n",
    "from dataUtils import DataUtils\n",
    "from model_utils import ModelUtils\n",
    "from scipy.stats import boxcox\n",
    "from scipy.special import inv_boxcox"
   ]
  },
  {
   "cell_type": "code",
   "execution_count": 18,
   "metadata": {},
   "outputs": [
    {
     "name": "stdout",
     "output_type": "stream",
     "text": [
      "   #      Name  Epsilon      Solvent  Quantum Yield    Solvent.1  \\\n",
      "0  1   Benzene      210  cyclohexane          0.053       hexane   \n",
      "1  2   Toluene     2860  cyclohexane          0.170  cyclohexane   \n",
      "2  3  o-Xylene      254  cyclohexane          0.170       hexane   \n",
      "3  4  m-Xylene      284  cyclohexane          0.130       hexane   \n",
      "4  5  p-Xylene      770  cyclohexane          0.220       hexane   \n",
      "\n",
      "                            File                         File.1  Absorption  \\\n",
      "0    A01_71-43-2_Benzene.abs.txt    A01_71-43-2_Benzene.ems.txt      254.75   \n",
      "1   A02_108-88-3_Toluene.abs.txt   A02_108-88-3_Toluene.ems.txt      261.75   \n",
      "2   A03_95-47-6_o-Xylene.abs.txt   A03_95-47-6_o-Xylene.ems.txt      263.00   \n",
      "3  A04_108-38-3_m-Xylene.abs.txt  A04_108-38-3_m-Xylene.ems.txt      265.00   \n",
      "4  A05_106-42-3_p-Xylene.abs.txt  A05_106-42-3_p-Xylene.ems.txt      275.00   \n",
      "\n",
      "            SMILES  Emission  \n",
      "0      C1=CC=CC=C1     287.0  \n",
      "1     CC1=CC=CC=C1     289.5  \n",
      "2    CC1=CC=CC=C1C     291.0  \n",
      "3  CC1=CC(=CC=C1)C     290.0  \n",
      "4  CC1=CC=C(C=C1)C     291.0  \n"
     ]
    }
   ],
   "source": [
    "dset = DataUtils.readData('cleaned_data_emission.tsv', sep='\\t')"
   ]
  },
  {
   "cell_type": "code",
   "execution_count": 2,
   "metadata": {},
   "outputs": [],
   "source": [
    "uniform_length = 279 # GLOBAL"
   ]
  },
  {
   "cell_type": "code",
   "execution_count": 13,
   "metadata": {},
   "outputs": [],
   "source": [
    "word_map=DataUtils.load_wordmap_from_json('smiles_wordmap.json')"
   ]
  },
  {
   "cell_type": "code",
   "execution_count": 57,
   "metadata": {},
   "outputs": [
    {
     "data": {
      "text/plain": [
       "42"
      ]
     },
     "execution_count": 57,
     "metadata": {},
     "output_type": "execute_result"
    }
   ],
   "source": [
    "len(word_map)"
   ]
  },
  {
   "cell_type": "markdown",
   "metadata": {},
   "source": [
    "#### predict wavelengths(abs, ems)"
   ]
  },
  {
   "cell_type": "code",
   "execution_count": 9,
   "metadata": {},
   "outputs": [],
   "source": [
    "def load_model_and_weight(json_fn, model_weight):\n",
    "    json_file = open(json_fn, 'r')\n",
    "    loaded_model_json = json_file.read()\n",
    "    json_file.close()\n",
    "    loaded_model = model_from_json(loaded_model_json)\n",
    "    loaded_model.load_weights(model_weight)\n",
    "    return loaded_model"
   ]
  },
  {
   "cell_type": "code",
   "execution_count": 22,
   "metadata": {},
   "outputs": [],
   "source": [
    "loaded_model_abs = load_model_and_weight('model_smiles_cnn.json','weights.best.hdf5')"
   ]
  },
  {
   "cell_type": "code",
   "execution_count": 32,
   "metadata": {},
   "outputs": [
    {
     "data": {
      "text/plain": [
       "array([[226.49776]], dtype=float32)"
      ]
     },
     "execution_count": 32,
     "metadata": {},
     "output_type": "execute_result"
    }
   ],
   "source": [
    "def predict_wavelength(smiles_string = 'C1=CC=CC=C1', uniform_length_of_model = 279, word_map = None, model = None):\n",
    "    indivisual_X_code = DataUtils.numeric_encoding(np.array([smiles_string]), uniform_length_of_model,word_map)\n",
    "    pred_wl = model.predict(indivisual_X_code)\n",
    "    return pred_wl\n",
    "    \n",
    "predict_wavelength(smiles_string='CC1=CC=CC=C1C',word_map=word_map, model=loaded_model_abs)"
   ]
  },
  {
   "cell_type": "code",
   "execution_count": 29,
   "metadata": {},
   "outputs": [],
   "source": [
    "loaded_model_ems = load_model_and_weight('model_smiles_ems_dropna.json','ems_dropna.best1.hdf5')"
   ]
  },
  {
   "cell_type": "code",
   "execution_count": 30,
   "metadata": {},
   "outputs": [
    {
     "data": {
      "text/plain": [
       "array([[254.44116]], dtype=float32)"
      ]
     },
     "execution_count": 30,
     "metadata": {},
     "output_type": "execute_result"
    }
   ],
   "source": [
    "predict_wavelength(smiles_string='CC1=CC=CC=C1C',word_map=word_map, model=loaded_model_ems)"
   ]
  },
  {
   "cell_type": "markdown",
   "metadata": {},
   "source": [
    "### predict epsilon"
   ]
  },
  {
   "cell_type": "code",
   "execution_count": 31,
   "metadata": {},
   "outputs": [],
   "source": [
    "boxcox_lambda = 0.2"
   ]
  },
  {
   "cell_type": "code",
   "execution_count": 33,
   "metadata": {},
   "outputs": [],
   "source": [
    "def predict_epsilon(smiles_string = 'C1=CC=CC=C1', uniform_length_of_model = 279, word_map = None, model = None, boxcox_lambda = 0.2):\n",
    "    indivisual_X_code = DataUtils.numeric_encoding(np.array([smiles_string]), uniform_length_of_model,word_map)\n",
    "    pred_epsilon = inv_boxcox(model.predict(indivisual_X_code), boxcox_lambda)\n",
    "    return pred_epsilon"
   ]
  },
  {
   "cell_type": "code",
   "execution_count": 38,
   "metadata": {},
   "outputs": [
    {
     "data": {
      "text/plain": [
       "array([2, 'Toluene', 2860, 'cyclohexane', 0.17, 'cyclohexane',\n",
       "       'A02_108-88-3_Toluene.abs.txt', 'A02_108-88-3_Toluene.ems.txt',\n",
       "       261.75, 'CC1=CC=CC=C1', 289.5], dtype=object)"
      ]
     },
     "execution_count": 38,
     "metadata": {},
     "output_type": "execute_result"
    }
   ],
   "source": [
    "dset[1,:]"
   ]
  },
  {
   "cell_type": "code",
   "execution_count": 35,
   "metadata": {},
   "outputs": [],
   "source": [
    "loaded_model_epsilon = load_model_and_weight('model_smiles_epsilon_lstm.json','epsilon.best_-1.hdf5')"
   ]
  },
  {
   "cell_type": "code",
   "execution_count": 52,
   "metadata": {},
   "outputs": [
    {
     "data": {
      "text/plain": [
       "array([[4175.531]], dtype=float32)"
      ]
     },
     "execution_count": 52,
     "metadata": {},
     "output_type": "execute_result"
    }
   ],
   "source": [
    "predict_epsilon(word_map=word_map,model=loaded_model_epsilon)"
   ]
  },
  {
   "cell_type": "markdown",
   "metadata": {},
   "source": [
    "#### predict QY"
   ]
  },
  {
   "cell_type": "code",
   "execution_count": 40,
   "metadata": {},
   "outputs": [],
   "source": [
    "loaded_model_qy = load_model_and_weight('model_lstm_qy.json', 'weights.qy_best.hdf5')"
   ]
  },
  {
   "cell_type": "code",
   "execution_count": 48,
   "metadata": {},
   "outputs": [],
   "source": [
    "def predict_qy(smiles_string = 'C1=CC=CC=C1', uniform_length_of_model = 279, word_map = None, model = None):\n",
    "    indivisual_X_code = DataUtils.numeric_encoding(np.array([smiles_string]), uniform_length_of_model,word_map)\n",
    "    pred_qy = model.predict(indivisual_X_code)\n",
    "    return pred_qy"
   ]
  },
  {
   "cell_type": "code",
   "execution_count": null,
   "metadata": {},
   "outputs": [],
   "source": []
  },
  {
   "cell_type": "code",
   "execution_count": null,
   "metadata": {},
   "outputs": [],
   "source": []
  },
  {
   "cell_type": "code",
   "execution_count": null,
   "metadata": {},
   "outputs": [],
   "source": []
  },
  {
   "cell_type": "markdown",
   "metadata": {},
   "source": [
    "### wrap everything"
   ]
  },
  {
   "cell_type": "code",
   "execution_count": null,
   "metadata": {},
   "outputs": [],
   "source": []
  },
  {
   "cell_type": "code",
   "execution_count": 124,
   "metadata": {},
   "outputs": [],
   "source": [
    "def predict_wl_and_others(smiles_string, wordmap, uni_length, model_abs, model_ems, model_epsilon, model_qy, boxcox_lambda):\n",
    "    abs_l = predict_wavelength(smiles_string, uni_length, wordmap, model_abs)\n",
    "    ems_l = predict_wavelength(smiles_string, uni_length, wordmap, model_ems)\n",
    "    epsilon = predict_epsilon(smiles_string, uni_length, wordmap, model_epsilon, boxcox_lambda)\n",
    "    qy = predict_qy(smiles_string, uni_length, wordmap, model_qy)\n",
    "    table = np.column_stack([abs_l, ems_l, epsilon, qy])\n",
    "    data_for_plot = np.column_stack([np.array(smiles_string), abs_l[0], [1.0], ems_l[0],[1.0]])\n",
    "    return table, data_for_plot\n"
   ]
  },
  {
   "cell_type": "markdown",
   "metadata": {},
   "source": [
    "### Save out file"
   ]
  },
  {
   "cell_type": "code",
   "execution_count": 125,
   "metadata": {},
   "outputs": [],
   "source": [
    "table, data_for_plot = predict_wl_and_others('C1=CC=CC=C1',word_map,uniform_length, loaded_model_abs,loaded_model_ems,loaded_model_epsilon,loaded_model_qy,0.2)"
   ]
  },
  {
   "cell_type": "code",
   "execution_count": 131,
   "metadata": {},
   "outputs": [],
   "source": [
    "pd.DataFrame(table, columns=['lambda_abs', 'lambda_ems','epsilon', 'quantum_yield']).to_csv('example_table.txt', sep = '\\t', index=False)"
   ]
  },
  {
   "cell_type": "code",
   "execution_count": 132,
   "metadata": {},
   "outputs": [],
   "source": [
    "pd.DataFrame(data_for_plot, columns=['SMILES', 'abs_wl_max','abs_intensity','ems_wl_max','ems_intensity']).to_csv('example_plot_data.txt', sep = '\\t', index=False)"
   ]
  },
  {
   "cell_type": "code",
   "execution_count": null,
   "metadata": {},
   "outputs": [],
   "source": []
  },
  {
   "cell_type": "code",
   "execution_count": null,
   "metadata": {},
   "outputs": [],
   "source": []
  }
 ],
 "metadata": {
  "kernelspec": {
   "display_name": "test_speedcom",
   "language": "python",
   "name": "test_speedcom"
  },
  "language_info": {
   "codemirror_mode": {
    "name": "ipython",
    "version": 3
   },
   "file_extension": ".py",
   "mimetype": "text/x-python",
   "name": "python",
   "nbconvert_exporter": "python",
   "pygments_lexer": "ipython3",
   "version": "3.6.8"
  }
 },
 "nbformat": 4,
 "nbformat_minor": 2
}
